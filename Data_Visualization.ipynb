{
 "cells": [
  {
   "cell_type": "markdown",
   "metadata": {},
   "source": [
    "**Data Visualization**\n",
    "\n",
    "Visualizating data with Matplotlib, Seaborn, and custom functions."
   ]
  },
  {
   "cell_type": "code",
   "execution_count": 1,
   "metadata": {
    "collapsed": true
   },
   "outputs": [],
   "source": [
    "# Import packages\n",
    "import pandas as pd\n",
    "import numpy as np\n",
    "import matplotlib.pyplot as plt\n",
    "import seaborn as sns\n",
    "from scipy import stats, integrate\n",
    "%matplotlib inline"
   ]
  },
  {
   "cell_type": "markdown",
   "metadata": {},
   "source": [
    "## Create dataframe of numerical values to be visualized"
   ]
  },
  {
   "cell_type": "code",
   "execution_count": null,
   "metadata": {
    "collapsed": true
   },
   "outputs": [],
   "source": [
    "uniform_dist = np.arange(0, m)\n",
    "gaussian_dist = np.random.normal(loc=0, scale=100, size=m)\n",
    "bimodal_dist = (np.random.normal(loc=200, scale=100, size=int(m/2)).tolist()\n",
    "                + np.random.normal(loc=800, scale=100, size=int(m/2)).tolist()) # I just mashed two normal distributions together\n",
    "lognormal_dist = np.random.lognormal(5, 1, m)\n",
    "poisson_dist = np.random.poisson(lam=0.3, size=m)\n",
    "negbinomial_dist = np.random.negative_binomial(2, 0.1, size=m)\n",
    "chisquare_dist = np.random.chisquare(df=4, size=m)\n",
    "large_range = np.arange(0, m)**2       # Range of numbers across 6 log orders)\n",
    "leftskew_dist = 100-np.random.negative_binomial(2, 0.1, size=m)\n",
    "\n",
    "# Create dataframe with regression features\n",
    "df = pd.DataFrame({'uniform': uniform_dist,\n",
    "                  'gaussian': gaussian_dist,\n",
    "                  'bimodal': bimodal_dist,\n",
    "                  'lognormal': lognormal_dist,\n",
    "                  'poisson': poisson_dist,\n",
    "                   'negbinomial': negbinomial_dist,\n",
    "                   'chisquare': chisquare_dist,\n",
    "                   'large_range': large_range,\n",
    "                   'leftskew_dist': leftskew_dist\n",
    "                  })\n",
    "\n",
    "# Create classification features and add to dataframe\n",
    "\n",
    "k = 5     # number of groups\n",
    "groupSize = round(m/k)\n",
    "df['class_even'] = (['group 1']*groupSize + ['group 2']*groupSize\n",
    "                     + ['group 3']*groupSize + ['group 4']*groupSize\n",
    "                     + ['group 5']*(m-groupSize*(k-1)))\n",
    "\n",
    "#                      + ['group 5']*groupSize + ['group 6']*groupSize\n",
    "#                      + ['group 7']*groupSize + ['group 8']*groupSize\n",
    "#                      + ['group 9']*groupSize\n",
    "#                      + ['group 10']*(m-groupSize*(k-1)))\n",
    "\n",
    "df['class_poisson'] = ['group ' + str(i+1) for i in poisson_dist.tolist()]\n",
    "\n"
   ]
  }
 ],
 "metadata": {
  "kernelspec": {
   "display_name": "Python 3",
   "language": "python",
   "name": "python3"
  },
  "language_info": {
   "codemirror_mode": {
    "name": "ipython",
    "version": 3
   },
   "file_extension": ".py",
   "mimetype": "text/x-python",
   "name": "python",
   "nbconvert_exporter": "python",
   "pygments_lexer": "ipython3",
   "version": "3.5.6"
  },
  "toc": {
   "nav_menu": {},
   "number_sections": false,
   "sideBar": true,
   "skip_h1_title": false,
   "toc_cell": false,
   "toc_position": {},
   "toc_section_display": "block",
   "toc_window_display": true
  },
  "varInspector": {
   "cols": {
    "lenName": 16,
    "lenType": 16,
    "lenVar": 40
   },
   "kernels_config": {
    "python": {
     "delete_cmd_postfix": "",
     "delete_cmd_prefix": "del ",
     "library": "var_list.py",
     "varRefreshCmd": "print(var_dic_list())"
    },
    "r": {
     "delete_cmd_postfix": ") ",
     "delete_cmd_prefix": "rm(",
     "library": "var_list.r",
     "varRefreshCmd": "cat(var_dic_list()) "
    }
   },
   "types_to_exclude": [
    "module",
    "function",
    "builtin_function_or_method",
    "instance",
    "_Feature"
   ],
   "window_display": false
  }
 },
 "nbformat": 4,
 "nbformat_minor": 1
}
