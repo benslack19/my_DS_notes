{
 "cells": [
  {
   "cell_type": "markdown",
   "metadata": {},
   "source": [
    "**Why is it so hard to hang out with us?**\n",
    "\n",
    "My wife and I have enjoyed living in the Bay Area where we've been able to satisfy our love of outdoor activities while being near a cool city. While we're fortunate to have friends and family in the area too, I've felt bad that we haven't been able to hang out with them as often as we'd like. We knew that part of this was due to our work schedules and occasional travel. I basically work a regular M-F schedule, but my wife has a very irregular schedule as a nurse. She \"only\" works three days a week, but those are 12-hour shifts and she's required to work every other weekend. This has limited us going from attending [trivia](https://www.yieldandpause.com/trivia/), [sporting events](https://www.nhl.com/sharks), or just your [average party](https://media.giphy.com/media/wAxlCmeX1ri1y/giphy.gif). In addition, since both of our immediate families are not in the area, we might be hosting or visiting family on weekends that we both have off. While everyone is busy and has commitments, I wanted to quantify how much we could get together socially with our friends in the area. Therefore, in this post, I explore the question: **Given a social time window, what is the probability that we're able to socialize?**"
   ]
  },
  {
   "cell_type": "markdown",
   "metadata": {},
   "source": [
    "## Parameters for the social schedule"
   ]
  },
  {
   "cell_type": "markdown",
   "metadata": {},
   "source": [
    "These are the parameters that I'll consider when coming up with a simulated social schedule:\n",
    "1. My wife works 3 days in a work week, but not more than than 3 days in a row when .\n",
    "2. She works every other weekend on both Saturday and Sunday.\n",
    "3. Hanging out on weekday evenings means she has to be off on the day of and the day after since she has to get up early for work."
   ]
  },
  {
   "cell_type": "markdown",
   "metadata": {},
   "source": [
    "Possible social times can be any evening get-together. I'm being pretty generous since many people do not meet during the week. But trivia is on Tuesdays and others might propose a random happy hour here or there so I think evening get-togethers are fair game. Day time get-togethers are also possible on Saturday and Sunday. On weekends, we could theoretically see some people during the day (a brunch or hike) and others in the evening (dinner or party). That gives us 8 possible time frames in a given week."
   ]
  },
  {
   "cell_type": "code",
   "execution_count": 281,
   "metadata": {
    "collapsed": true
   },
   "outputs": [],
   "source": [
    "# Import packages\n",
    "import pandas as pd\n",
    "import numpy as np\n",
    "import random"
   ]
  },
  {
   "cell_type": "markdown",
   "metadata": {},
   "source": [
    "## Create a social schedule for the year"
   ]
  },
  {
   "cell_type": "code",
   "execution_count": 282,
   "metadata": {},
   "outputs": [],
   "source": [
    "days_of_week = ['Mon', 'Tues', 'Wed', 'Thur', 'Fri', 'Sat', 'Sun']"
   ]
  },
  {
   "cell_type": "code",
   "execution_count": 283,
   "metadata": {
    "scrolled": true
   },
   "outputs": [],
   "source": [
    "# I'll look over the course of a year, giving me 52 weeks to simulate.\n",
    "no_weeks = 52\n",
    "\n",
    "# Week will start on a Monday. A work day is indicated by a 1.\n",
    "schedule_by_week = pd.DataFrame(np.zeros((no_weeks, 7)), columns=days_of_week)\n",
    "\n",
    "workweek_params_wkend_off = np.asarray([0,0,1,1,1])  # 3 work days M-F on weekends she has off\n",
    "workweek_params_wkend_on = np.asarray([0,0,0,0,1]) # 1 work days M-F on weekends she has on\n",
    "\n",
    "# Set the first week of the year.\n",
    "schedule_by_week.loc[0, :] = np.concatenate((workweek_params_wkend_off, np.asarray([0,0])))\n",
    "\n",
    "for i in range(1, no_weeks):\n",
    "    # This block accounts for working every other weekend and not working >3 days in a row\n",
    "    \n",
    "    # The if statement prevents Friday, Monday around a working weekend\n",
    "    if (i > 0) & (i % 2 == 0) & (schedule_by_week.loc[(i-1), 'Fri']==1):\n",
    "        np.random.shuffle(workweek_params_wkend_off)  # shuffles in place\n",
    "        while workweek_params_wkend_off[0]==1:\n",
    "            np.random.shuffle(workweek_params_wkend_off) \n",
    "        schedule_by_week.loc[i, :] = np.concatenate((workweek_params_wkend_off, np.asarray([0,0])))\n",
    "    \n",
    "    # The elif statement prevents working both Monday and Tuesday following a working weekend\n",
    "    elif i % 2 == 0:\n",
    "        np.random.shuffle(workweek_params_wkend_off) \n",
    "        while workweek_params_wkend_off[0]==1 & workweek_params_wkend_off[1]==1:\n",
    "            np.random.shuffle(workweek_params_wkend_off) \n",
    "        schedule_by_week.loc[i, :] = np.concatenate((workweek_params_wkend_off, np.asarray([0,0])))\n",
    "    \n",
    "     # The else statement randomly assigns a M-F day to work when working on the weekend\n",
    "    else: \n",
    "        np.random.shuffle(workweek_params_wkend_on)\n",
    "        schedule_by_week.loc[i, :] = np.concatenate((workweek_params_wkend_on, np.asarray([1,1])))"
   ]
  },
  {
   "cell_type": "code",
   "execution_count": 288,
   "metadata": {},
   "outputs": [
    {
     "data": {
      "text/html": [
       "<div>\n",
       "<style scoped>\n",
       "    .dataframe tbody tr th:only-of-type {\n",
       "        vertical-align: middle;\n",
       "    }\n",
       "\n",
       "    .dataframe tbody tr th {\n",
       "        vertical-align: top;\n",
       "    }\n",
       "\n",
       "    .dataframe thead th {\n",
       "        text-align: right;\n",
       "    }\n",
       "</style>\n",
       "<table border=\"1\" class=\"dataframe\">\n",
       "  <thead>\n",
       "    <tr style=\"text-align: right;\">\n",
       "      <th></th>\n",
       "      <th>Mon</th>\n",
       "      <th>Tues</th>\n",
       "      <th>Wed</th>\n",
       "      <th>Thur</th>\n",
       "      <th>Fri</th>\n",
       "      <th>Sat</th>\n",
       "      <th>Sun</th>\n",
       "    </tr>\n",
       "  </thead>\n",
       "  <tbody>\n",
       "    <tr>\n",
       "      <th>1</th>\n",
       "      <td>1.0</td>\n",
       "      <td>0.0</td>\n",
       "      <td>0.0</td>\n",
       "      <td>0.0</td>\n",
       "      <td>0.0</td>\n",
       "      <td>1.0</td>\n",
       "      <td>1.0</td>\n",
       "    </tr>\n",
       "    <tr>\n",
       "      <th>2</th>\n",
       "      <td>1.0</td>\n",
       "      <td>0.0</td>\n",
       "      <td>1.0</td>\n",
       "      <td>0.0</td>\n",
       "      <td>1.0</td>\n",
       "      <td>0.0</td>\n",
       "      <td>0.0</td>\n",
       "    </tr>\n",
       "    <tr>\n",
       "      <th>3</th>\n",
       "      <td>0.0</td>\n",
       "      <td>0.0</td>\n",
       "      <td>0.0</td>\n",
       "      <td>1.0</td>\n",
       "      <td>0.0</td>\n",
       "      <td>1.0</td>\n",
       "      <td>1.0</td>\n",
       "    </tr>\n",
       "    <tr>\n",
       "      <th>4</th>\n",
       "      <td>0.0</td>\n",
       "      <td>0.0</td>\n",
       "      <td>1.0</td>\n",
       "      <td>1.0</td>\n",
       "      <td>1.0</td>\n",
       "      <td>0.0</td>\n",
       "      <td>0.0</td>\n",
       "    </tr>\n",
       "    <tr>\n",
       "      <th>5</th>\n",
       "      <td>1.0</td>\n",
       "      <td>0.0</td>\n",
       "      <td>0.0</td>\n",
       "      <td>0.0</td>\n",
       "      <td>0.0</td>\n",
       "      <td>1.0</td>\n",
       "      <td>1.0</td>\n",
       "    </tr>\n",
       "    <tr>\n",
       "      <th>6</th>\n",
       "      <td>0.0</td>\n",
       "      <td>1.0</td>\n",
       "      <td>1.0</td>\n",
       "      <td>0.0</td>\n",
       "      <td>1.0</td>\n",
       "      <td>0.0</td>\n",
       "      <td>0.0</td>\n",
       "    </tr>\n",
       "    <tr>\n",
       "      <th>7</th>\n",
       "      <td>0.0</td>\n",
       "      <td>0.0</td>\n",
       "      <td>0.0</td>\n",
       "      <td>1.0</td>\n",
       "      <td>0.0</td>\n",
       "      <td>1.0</td>\n",
       "      <td>1.0</td>\n",
       "    </tr>\n",
       "    <tr>\n",
       "      <th>8</th>\n",
       "      <td>0.0</td>\n",
       "      <td>1.0</td>\n",
       "      <td>1.0</td>\n",
       "      <td>0.0</td>\n",
       "      <td>1.0</td>\n",
       "      <td>0.0</td>\n",
       "      <td>0.0</td>\n",
       "    </tr>\n",
       "  </tbody>\n",
       "</table>\n",
       "</div>"
      ],
      "text/plain": [
       "   Mon  Tues  Wed  Thur  Fri  Sat  Sun\n",
       "1  1.0   0.0  0.0   0.0  0.0  1.0  1.0\n",
       "2  1.0   0.0  1.0   0.0  1.0  0.0  0.0\n",
       "3  0.0   0.0  0.0   1.0  0.0  1.0  1.0\n",
       "4  0.0   0.0  1.0   1.0  1.0  0.0  0.0\n",
       "5  1.0   0.0  0.0   0.0  0.0  1.0  1.0\n",
       "6  0.0   1.0  1.0   0.0  1.0  0.0  0.0\n",
       "7  0.0   0.0  0.0   1.0  0.0  1.0  1.0\n",
       "8  0.0   1.0  1.0   0.0  1.0  0.0  0.0"
      ]
     },
     "execution_count": 288,
     "metadata": {},
     "output_type": "execute_result"
    }
   ],
   "source": [
    "# View the first few weeks of the simulated year as a sanity check\n",
    "schedule_by_week.head(8)"
   ]
  },
  {
   "cell_type": "markdown",
   "metadata": {},
   "source": [
    "## Make the social schedule a little more realistic"
   ]
  },
  {
   "cell_type": "markdown",
   "metadata": {},
   "source": [
    "At this point, I have a simulated week every week of the year and looking at the data at this point seems to match the conditions I listed above. Before calculating the probabilities of get-togethers, I'm going to make some modifications to make it more realistic for my question:\n",
    "1. I'll remove the first and last weeks of the year, since both our friends and us likely won't be available over the holidays.\n",
    "2. I'll eliminate two full weeks from our calendar in the middle of the year for vacation. This doesn't affect our friends' schedule, so it's a possibility that we would miss something that they host (like a 4th of July BBQ). Therefore, this won't affect the denominator of the probability in the calculation.\n",
    "3. I'll remove 8 weekends from consideration for us taking weekend trips, hosting guests from out of town, doing weekend-long home  projects, or just chilling by ourselves. Like modification #2, this would not affect the denominator. Eight was somewhat arbitrary but thought this was a reasonable number."
   ]
  },
  {
   "cell_type": "code",
   "execution_count": 285,
   "metadata": {
    "scrolled": true
   },
   "outputs": [],
   "source": [
    "# Modification 1, drop the first and last weeks\n",
    "schedule_by_week.drop(labels=[0, 51], inplace=True)"
   ]
  },
  {
   "cell_type": "code",
   "execution_count": 286,
   "metadata": {},
   "outputs": [
    {
     "name": "stdout",
     "output_type": "stream",
     "text": [
      "Total possible weeks for socializing:  50\n"
     ]
    }
   ],
   "source": [
    "# The denominator for each social time frame\n",
    "count_friends_socialweeks = schedule_by_week.shape[0]\n",
    "print('Total possible weeks for socializing: ', count_friends_socialweeks)"
   ]
  },
  {
   "cell_type": "code",
   "execution_count": null,
   "metadata": {
    "collapsed": true
   },
   "outputs": [],
   "source": [
    "# Factor in modifications 2 and 3 "
   ]
  },
  {
   "cell_type": "code",
   "execution_count": 289,
   "metadata": {
    "collapsed": true
   },
   "outputs": [],
   "source": [
    "# Account for two weeks we would be on vacation in the summer (modification 2)\n",
    "schedule_by_week2 = schedule_by_week.drop(labels=[24, 25]) "
   ]
  },
  {
   "cell_type": "code",
   "execution_count": 290,
   "metadata": {},
   "outputs": [],
   "source": [
    "# Remove 8 weekends from social consideration (modification 3).\n",
    "# I'll simply change the even-indexed weekends to all 1's. Since these aren't work days per se,\n",
    "# I won't worry about the \"no more than 3 work days in a row rule\" that I listed at the beginning.\n",
    "mask1 = range(max(schedule_by_week2.index))\n",
    "mask2 = np.intersect1d(mask2, schedule_by_week2.index)   # Account for weeks I dropped in mods 1 and 2\n",
    "\n",
    "# Randomly choose 8 weeks where the weekends will be changed to 1's\n",
    "mask3 = np.random.choice(mask2, size=8, replace=False)\n",
    "\n",
    "schedule_by_week2.loc[mask3,['Sat', 'Sun']] = 1"
   ]
  },
  {
   "cell_type": "code",
   "execution_count": 292,
   "metadata": {},
   "outputs": [
    {
     "name": "stdout",
     "output_type": "stream",
     "text": [
      "Weeks with weekends affected by modification 3:  [ 4 18  2 34 12 20 26 42]\n"
     ]
    }
   ],
   "source": [
    "print('Weeks with weekends affected by modification 3: ', mask3)"
   ]
  },
  {
   "cell_type": "code",
   "execution_count": 294,
   "metadata": {},
   "outputs": [
    {
     "data": {
      "text/html": [
       "<div>\n",
       "<style scoped>\n",
       "    .dataframe tbody tr th:only-of-type {\n",
       "        vertical-align: middle;\n",
       "    }\n",
       "\n",
       "    .dataframe tbody tr th {\n",
       "        vertical-align: top;\n",
       "    }\n",
       "\n",
       "    .dataframe thead th {\n",
       "        text-align: right;\n",
       "    }\n",
       "</style>\n",
       "<table border=\"1\" class=\"dataframe\">\n",
       "  <thead>\n",
       "    <tr style=\"text-align: right;\">\n",
       "      <th></th>\n",
       "      <th>Mon</th>\n",
       "      <th>Tues</th>\n",
       "      <th>Wed</th>\n",
       "      <th>Thur</th>\n",
       "      <th>Fri</th>\n",
       "      <th>Sat</th>\n",
       "      <th>Sun</th>\n",
       "    </tr>\n",
       "  </thead>\n",
       "  <tbody>\n",
       "    <tr>\n",
       "      <th>1</th>\n",
       "      <td>1.0</td>\n",
       "      <td>0.0</td>\n",
       "      <td>0.0</td>\n",
       "      <td>0.0</td>\n",
       "      <td>0.0</td>\n",
       "      <td>1.0</td>\n",
       "      <td>1.0</td>\n",
       "    </tr>\n",
       "    <tr>\n",
       "      <th>2</th>\n",
       "      <td>1.0</td>\n",
       "      <td>0.0</td>\n",
       "      <td>1.0</td>\n",
       "      <td>0.0</td>\n",
       "      <td>1.0</td>\n",
       "      <td>1.0</td>\n",
       "      <td>1.0</td>\n",
       "    </tr>\n",
       "    <tr>\n",
       "      <th>3</th>\n",
       "      <td>0.0</td>\n",
       "      <td>0.0</td>\n",
       "      <td>0.0</td>\n",
       "      <td>1.0</td>\n",
       "      <td>0.0</td>\n",
       "      <td>1.0</td>\n",
       "      <td>1.0</td>\n",
       "    </tr>\n",
       "    <tr>\n",
       "      <th>4</th>\n",
       "      <td>0.0</td>\n",
       "      <td>0.0</td>\n",
       "      <td>1.0</td>\n",
       "      <td>1.0</td>\n",
       "      <td>1.0</td>\n",
       "      <td>1.0</td>\n",
       "      <td>1.0</td>\n",
       "    </tr>\n",
       "    <tr>\n",
       "      <th>5</th>\n",
       "      <td>1.0</td>\n",
       "      <td>0.0</td>\n",
       "      <td>0.0</td>\n",
       "      <td>0.0</td>\n",
       "      <td>0.0</td>\n",
       "      <td>1.0</td>\n",
       "      <td>1.0</td>\n",
       "    </tr>\n",
       "  </tbody>\n",
       "</table>\n",
       "</div>"
      ],
      "text/plain": [
       "   Mon  Tues  Wed  Thur  Fri  Sat  Sun\n",
       "1  1.0   0.0  0.0   0.0  0.0  1.0  1.0\n",
       "2  1.0   0.0  1.0   0.0  1.0  1.0  1.0\n",
       "3  0.0   0.0  0.0   1.0  0.0  1.0  1.0\n",
       "4  0.0   0.0  1.0   1.0  1.0  1.0  1.0\n",
       "5  1.0   0.0  0.0   0.0  0.0  1.0  1.0"
      ]
     },
     "execution_count": 294,
     "metadata": {},
     "output_type": "execute_result"
    }
   ],
   "source": [
    "schedule_by_week2.head()"
   ]
  },
  {
   "cell_type": "markdown",
   "metadata": {},
   "source": [
    "## Assess probabilities for a possible social window"
   ]
  },
  {
   "cell_type": "code",
   "execution_count": 295,
   "metadata": {},
   "outputs": [],
   "source": [
    "# Test case: probability of meeting on a Monday night\n",
    "\n",
    "# Meeting on a Monday evening requires that she's off Monday and Tuesday.\n",
    "mask = (schedule_by_week2.loc[:,'Mon']==0) & (schedule_by_week2.loc[:,'Tues']==0)"
   ]
  },
  {
   "cell_type": "code",
   "execution_count": 299,
   "metadata": {},
   "outputs": [
    {
     "data": {
      "text/html": [
       "<div>\n",
       "<style scoped>\n",
       "    .dataframe tbody tr th:only-of-type {\n",
       "        vertical-align: middle;\n",
       "    }\n",
       "\n",
       "    .dataframe tbody tr th {\n",
       "        vertical-align: top;\n",
       "    }\n",
       "\n",
       "    .dataframe thead th {\n",
       "        text-align: right;\n",
       "    }\n",
       "</style>\n",
       "<table border=\"1\" class=\"dataframe\">\n",
       "  <thead>\n",
       "    <tr style=\"text-align: right;\">\n",
       "      <th></th>\n",
       "      <th>Mon</th>\n",
       "      <th>Tues</th>\n",
       "      <th>Wed</th>\n",
       "      <th>Thur</th>\n",
       "      <th>Fri</th>\n",
       "      <th>Sat</th>\n",
       "      <th>Sun</th>\n",
       "    </tr>\n",
       "  </thead>\n",
       "  <tbody>\n",
       "    <tr>\n",
       "      <th>3</th>\n",
       "      <td>0.0</td>\n",
       "      <td>0.0</td>\n",
       "      <td>0.0</td>\n",
       "      <td>1.0</td>\n",
       "      <td>0.0</td>\n",
       "      <td>1.0</td>\n",
       "      <td>1.0</td>\n",
       "    </tr>\n",
       "    <tr>\n",
       "      <th>4</th>\n",
       "      <td>0.0</td>\n",
       "      <td>0.0</td>\n",
       "      <td>1.0</td>\n",
       "      <td>1.0</td>\n",
       "      <td>1.0</td>\n",
       "      <td>1.0</td>\n",
       "      <td>1.0</td>\n",
       "    </tr>\n",
       "    <tr>\n",
       "      <th>7</th>\n",
       "      <td>0.0</td>\n",
       "      <td>0.0</td>\n",
       "      <td>0.0</td>\n",
       "      <td>1.0</td>\n",
       "      <td>0.0</td>\n",
       "      <td>1.0</td>\n",
       "      <td>1.0</td>\n",
       "    </tr>\n",
       "    <tr>\n",
       "      <th>9</th>\n",
       "      <td>0.0</td>\n",
       "      <td>0.0</td>\n",
       "      <td>1.0</td>\n",
       "      <td>0.0</td>\n",
       "      <td>0.0</td>\n",
       "      <td>1.0</td>\n",
       "      <td>1.0</td>\n",
       "    </tr>\n",
       "    <tr>\n",
       "      <th>13</th>\n",
       "      <td>0.0</td>\n",
       "      <td>0.0</td>\n",
       "      <td>0.0</td>\n",
       "      <td>1.0</td>\n",
       "      <td>0.0</td>\n",
       "      <td>1.0</td>\n",
       "      <td>1.0</td>\n",
       "    </tr>\n",
       "  </tbody>\n",
       "</table>\n",
       "</div>"
      ],
      "text/plain": [
       "    Mon  Tues  Wed  Thur  Fri  Sat  Sun\n",
       "3   0.0   0.0  0.0   1.0  0.0  1.0  1.0\n",
       "4   0.0   0.0  1.0   1.0  1.0  1.0  1.0\n",
       "7   0.0   0.0  0.0   1.0  0.0  1.0  1.0\n",
       "9   0.0   0.0  1.0   0.0  0.0  1.0  1.0\n",
       "13  0.0   0.0  0.0   1.0  0.0  1.0  1.0"
      ]
     },
     "execution_count": 299,
     "metadata": {},
     "output_type": "execute_result"
    }
   ],
   "source": [
    "# Sanity check: the first 5 weeks that she's off both Monday and Tuesday\n",
    "schedule_by_week2[mask].head(5)"
   ]
  },
  {
   "cell_type": "code",
   "execution_count": 300,
   "metadata": {},
   "outputs": [
    {
     "data": {
      "text/plain": [
       "0.26"
      ]
     },
     "execution_count": 300,
     "metadata": {},
     "output_type": "execute_result"
    }
   ],
   "source": [
    "# Probability of meeting on a Monday night\n",
    "schedule_by_week2[mask].shape[0]/count_friends_socialweeks"
   ]
  },
  {
   "cell_type": "markdown",
   "metadata": {},
   "source": [
    "### Assessing probabilities of meeting on weekday evenings."
   ]
  },
  {
   "cell_type": "code",
   "execution_count": 301,
   "metadata": {},
   "outputs": [
    {
     "name": "stdout",
     "output_type": "stream",
     "text": [
      "Mon evening:  26 %\n",
      "Tues evening:  32 %\n",
      "Wed evening:  34 %\n",
      "Thur evening:  30 %\n",
      "Fri evening:  12 %\n"
     ]
    }
   ],
   "source": [
    "for i, day in enumerate(days_of_week[:5]):\n",
    "    day = days_of_week[i]\n",
    "    nextday = days_of_week[i+1]\n",
    "    # Meeting on a given evening requires that Kathleen is off that and the following evening.\n",
    "    mask = (schedule_by_week2.loc[:,day]==0) & (schedule_by_week2.loc[:,nextday]==0)\n",
    "    print(day, 'evening: ', int(100*(schedule_by_week2[mask].shape[0]/count_friends_socialweeks)), '%')"
   ]
  },
  {
   "cell_type": "code",
   "execution_count": 304,
   "metadata": {},
   "outputs": [
    {
     "name": "stdout",
     "output_type": "stream",
     "text": [
      "Sat day or evening:  32 %\n",
      "Sun day or evening:  32 %\n"
     ]
    }
   ],
   "source": [
    "# The probability of getting together day time or evening on Saturday are the same since being off on a Saturday means also being off on a Sunday.\n",
    "mask = (schedule_by_week2.loc[:,'Sat']==0) # & (schedule_by_week2.loc[:,'Sun']==0)\n",
    "print('Sat day or evening: ', int(100*(schedule_by_week2[mask].shape[0]/count_friends_socialweeks)), '%')\n",
    "\n",
    "# For Sunday, I'm ignoring the possibility of her working on Monday since a Sunday get-together will likely end before 9 pm anyway.\n",
    "mask = (schedule_by_week2.loc[:,'Sun']==0)\n",
    "print('Sun day or evening: ', int(100*(schedule_by_week2[mask].shape[0]/count_friends_socialweeks)), '%')"
   ]
  },
  {
   "cell_type": "markdown",
   "metadata": {},
   "source": [
    "## Summary"
   ]
  },
  {
   "cell_type": "markdown",
   "metadata": {},
   "source": [
    "As you can see, it's clear that Friday evening is most affected by our schedules. Of course, that's a common time to get together for most. I wouldn't have necessarily guessed that it would be this much lower but it makes sense when thinking about it. On weeks where my wife is assigned to weekends, Friday is the only weekday that also decreases in probability of getting together. It's also good to point out that these probabilities are likely overestimates. I didn't account for sick days, errands, family emergencies, or other things that affect our time. From one perspective, we wish we could find more time to get together. But on the other hand, when we do manage to get together, we're grateful for the chance (literally) to do so.\n",
    "\n",
    "p.s. This post is dated, but you could probably guess when I did most of the work even if you didn't look. It's a Friday night."
   ]
  }
 ],
 "metadata": {
  "kernelspec": {
   "display_name": "Python 3",
   "language": "python",
   "name": "python3"
  },
  "language_info": {
   "codemirror_mode": {
    "name": "ipython",
    "version": 3
   },
   "file_extension": ".py",
   "mimetype": "text/x-python",
   "name": "python",
   "nbconvert_exporter": "python",
   "pygments_lexer": "ipython3",
   "version": "3.5.4"
  },
  "toc": {
   "nav_menu": {},
   "number_sections": true,
   "sideBar": true,
   "skip_h1_title": false,
   "toc_cell": false,
   "toc_position": {},
   "toc_section_display": "block",
   "toc_window_display": false
  },
  "varInspector": {
   "cols": {
    "lenName": 16,
    "lenType": 16,
    "lenVar": 40
   },
   "kernels_config": {
    "python": {
     "delete_cmd_postfix": "",
     "delete_cmd_prefix": "del ",
     "library": "var_list.py",
     "varRefreshCmd": "print(var_dic_list())"
    },
    "r": {
     "delete_cmd_postfix": ") ",
     "delete_cmd_prefix": "rm(",
     "library": "var_list.r",
     "varRefreshCmd": "cat(var_dic_list()) "
    }
   },
   "types_to_exclude": [
    "module",
    "function",
    "builtin_function_or_method",
    "instance",
    "_Feature"
   ],
   "window_display": false
  }
 },
 "nbformat": 4,
 "nbformat_minor": 1
}
