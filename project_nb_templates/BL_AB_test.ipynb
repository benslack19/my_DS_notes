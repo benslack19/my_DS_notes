{
 "cells": [
  {
   "cell_type": "markdown",
   "metadata": {},
   "source": [
    "**Flowbot pricing test A/B testing data challenge**\n"
   ]
  },
  {
   "cell_type": "markdown",
   "metadata": {},
   "source": [
    "# Pricing test\n",
    "\n",
    "## Goal\n",
    "\n",
    "Pricing optimization is, non surprisingly, another area where data science can provide huge value. \n",
    "The goal here is to evaluate whether a pricing test running on the site has been successful. As always, you should focus on user segmentation and provide insights about segments who behave differently as well as any other insights you might find. \n",
    "\n",
    "\n",
    "## Summary of results\n",
    "1.\tShould the company sell its software for USD39 or USD59?\n",
    "    - The company should sell for USD 59 because it leads to increased revenue despite fewer users. With different statistical approaches...\n",
    "    \n",
    "2.\tWhat are your main findings looking at the data?\n",
    "    - Certain segments... ... \n",
    "    \n",
    "3.\tAfter how many days you would have stopped the test?\n",
    "    - From power analysis...\n",
    "\n",
    "\n",
    "## Data & Features (TBD)"
   ]
  },
  {
   "cell_type": "markdown",
   "metadata": {},
   "source": [
    "## Exercise description\n",
    "\n",
    "Company XYZ sells a software for USD39. Since revenue has been flat for some time, the VP of Product has decided to run a test increasing the price. She hopes that this would increase revenue. In the experiment, 66% of the users have seen the old price (USD39), while a random sample of 33% users a higher price (USD59). \n",
    "The test has been running for some time and the VP of Product is interested in understanding how it went and whether it would make sense to increase the price for all the users. \n",
    "\n",
    "Especially he asked you the following questions: \n",
    " - **Should the company sell its software for USD39 or USD59?**\n",
    "\n",
    "- The VP of Product is interested in having a holistic view into user behavior, especially focusing on actionable insights that might increase conversion rate.\n",
    "- **What are your main findings looking at the data?**\n",
    "\n",
    "- [Bonus] The VP of Product feels that the test has been running for too long and he should have been able to get statistically significant results in a shorter time. Do you agree with her intuition?\n",
    "- **After how many days you would have stopped the test?** Please, explain why. \n"
   ]
  },
  {
   "cell_type": "markdown",
   "metadata": {},
   "source": [
    "## Setup"
   ]
  },
  {
   "cell_type": "code",
   "execution_count": 1,
   "metadata": {
    "ExecuteTime": {
     "end_time": "2020-03-27T16:34:41.120496Z",
     "start_time": "2020-03-27T16:34:30.713466Z"
    }
   },
   "outputs": [],
   "source": [
    "# Import libraries\n",
    "import os\n",
    "import pandas as pd\n",
    "import numpy as np\n",
    "import matplotlib.pyplot as plt\n",
    "\n",
    "%matplotlib inline\n",
    "import seaborn as sns\n",
    "import pandas_profiling as pp\n",
    "import etsy_py\n",
    "from scipy.stats import shapiro\n",
    "from scipy.stats import skew\n",
    "from scipy.stats import kurtosis"
   ]
  },
  {
   "cell_type": "code",
   "execution_count": 2,
   "metadata": {
    "ExecuteTime": {
     "end_time": "2020-03-27T16:35:05.240166Z",
     "start_time": "2020-03-27T16:35:00.404956Z"
    }
   },
   "outputs": [],
   "source": [
    "# Stats\n",
    "from scipy.stats import mannwhitneyu\n",
    "from scipy.stats import ttest_ind\n",
    "import statsmodels.api as sm\n",
    "from statsmodels.formula.api import ols\n",
    "from statsmodels.stats import multitest"
   ]
  },
  {
   "cell_type": "code",
   "execution_count": 18,
   "metadata": {
    "ExecuteTime": {
     "end_time": "2020-03-29T15:14:45.561549Z",
     "start_time": "2020-03-29T15:14:44.258863Z"
    }
   },
   "outputs": [
    {
     "name": "stdout",
     "output_type": "stream",
     "text": [
      "The nb_black extension is already loaded. To reload it, use:\n",
      "  %reload_ext nb_black\n"
     ]
    },
    {
     "data": {
      "application/javascript": [
       "\n",
       "            setTimeout(function() {\n",
       "                var nbb_cell_id = 18;\n",
       "                var nbb_unformatted_code = \"# Code formatting Jupyter black\\n%load_ext nb_black\\n\\n# Colors\\nB_beige = \\\"#CDA577\\\"\\nB_brown = \\\"#643E34\\\"\\nB_slate = \\\"#3F5B66\\\"\\nB_dkgray = \\\"#5A7E8E\\\"\\nB_ltgray = \\\"#6D949B\\\"\\nB_green = \\\"#01CB8B\\\"\\nB_lime = \\\"#D3F04A\\\"\\n\\nB_colors = [B_beige, B_brown, B_slate, B_dkgray, B_ltgray, B_green, B_lime]\\nB_colors_cat = [B_beige, B_green, B_brown, B_ltgray, B_slate, B_lime, B_dkgray]\";\n",
       "                var nbb_formatted_code = \"# Code formatting Jupyter black\\n%load_ext nb_black\\n\\n# Colors\\nB_beige = \\\"#CDA577\\\"\\nB_brown = \\\"#643E34\\\"\\nB_slate = \\\"#3F5B66\\\"\\nB_dkgray = \\\"#5A7E8E\\\"\\nB_ltgray = \\\"#6D949B\\\"\\nB_green = \\\"#01CB8B\\\"\\nB_lime = \\\"#D3F04A\\\"\\n\\nB_colors = [B_beige, B_brown, B_slate, B_dkgray, B_ltgray, B_green, B_lime]\\nB_colors_cat = [B_beige, B_green, B_brown, B_ltgray, B_slate, B_lime, B_dkgray]\";\n",
       "                var nbb_cells = Jupyter.notebook.get_cells();\n",
       "                for (var i = 0; i < nbb_cells.length; ++i) {\n",
       "                    if (nbb_cells[i].input_prompt_number == nbb_cell_id) {\n",
       "                        if (nbb_cells[i].get_text() == nbb_unformatted_code) {\n",
       "                             nbb_cells[i].set_text(nbb_formatted_code);\n",
       "                        }\n",
       "                        break;\n",
       "                    }\n",
       "                }\n",
       "            }, 500);\n",
       "            "
      ],
      "text/plain": [
       "<IPython.core.display.Javascript object>"
      ]
     },
     "metadata": {},
     "output_type": "display_data"
    }
   ],
   "source": [
    "# Code formatting Jupyter black\n",
    "%load_ext nb_black\n",
    "\n",
    "# Colors\n",
    "B_beige = \"#CDA577\"\n",
    "B_brown = \"#643E34\"\n",
    "B_slate = \"#3F5B66\"\n",
    "B_dkgray = \"#5A7E8E\"\n",
    "B_ltgray = \"#6D949B\"\n",
    "B_green = \"#01CB8B\"\n",
    "B_lime = \"#D3F04A\"\n",
    "\n",
    "B_colors = [B_beige, B_brown, B_slate, B_dkgray, B_ltgray, B_green, B_lime]\n",
    "B_colors_cat = [B_beige, B_green, B_brown, B_ltgray, B_slate, B_lime, B_dkgray]"
   ]
  },
  {
   "cell_type": "markdown",
   "metadata": {},
   "source": [
    "# Initial data analysis"
   ]
  },
  {
   "cell_type": "code",
   "execution_count": 4,
   "metadata": {
    "ExecuteTime": {
     "end_time": "2020-03-27T16:35:38.242995Z",
     "start_time": "2020-03-27T16:35:38.226419Z"
    }
   },
   "outputs": [
    {
     "data": {
      "application/javascript": [
       "\n",
       "            setTimeout(function() {\n",
       "                var nbb_cell_id = 4;\n",
       "                var nbb_unformatted_code = \"def initial_analysis(df):\\n    \\\"\\\"\\\"\\n    Given a dataframe produces a simple report on initial data analytics\\n    Params:\\n        - df \\n    Returns:\\n        - Shape of dataframe records and columns\\n        - Columns and data types\\n    \\\"\\\"\\\"\\n    print(\\\"Report of Initial Data Analysis:\\\\n\\\")\\n    print(f\\\"Shape of dataframe: {df.shape}\\\")\\n    print(f\\\"Features and Data Types: \\\\n {df.dtypes}\\\")\";\n",
       "                var nbb_formatted_code = \"def initial_analysis(df):\\n    \\\"\\\"\\\"\\n    Given a dataframe produces a simple report on initial data analytics\\n    Params:\\n        - df \\n    Returns:\\n        - Shape of dataframe records and columns\\n        - Columns and data types\\n    \\\"\\\"\\\"\\n    print(\\\"Report of Initial Data Analysis:\\\\n\\\")\\n    print(f\\\"Shape of dataframe: {df.shape}\\\")\\n    print(f\\\"Features and Data Types: \\\\n {df.dtypes}\\\")\";\n",
       "                var nbb_cells = Jupyter.notebook.get_cells();\n",
       "                for (var i = 0; i < nbb_cells.length; ++i) {\n",
       "                    if (nbb_cells[i].input_prompt_number == nbb_cell_id) {\n",
       "                        if (nbb_cells[i].get_text() == nbb_unformatted_code) {\n",
       "                             nbb_cells[i].set_text(nbb_formatted_code);\n",
       "                        }\n",
       "                        break;\n",
       "                    }\n",
       "                }\n",
       "            }, 500);\n",
       "            "
      ],
      "text/plain": [
       "<IPython.core.display.Javascript object>"
      ]
     },
     "metadata": {},
     "output_type": "display_data"
    }
   ],
   "source": [
    "def initial_analysis(df):\n",
    "    \"\"\"\n",
    "    Given a dataframe produces a simple report on initial data analytics\n",
    "    Params:\n",
    "        - df \n",
    "    Returns:\n",
    "        - Shape of dataframe records and columns\n",
    "        - Columns and data types\n",
    "    \"\"\"\n",
    "    print(\"Report of Initial Data Analysis:\\n\")\n",
    "    print(f\"Shape of dataframe: {df.shape}\")\n",
    "    print(f\"Features and Data Types: \\n {df.dtypes}\")"
   ]
  },
  {
   "cell_type": "code",
   "execution_count": 5,
   "metadata": {
    "ExecuteTime": {
     "end_time": "2020-03-27T16:35:46.270414Z",
     "start_time": "2020-03-27T16:35:46.251558Z"
    }
   },
   "outputs": [
    {
     "data": {
      "application/javascript": [
       "\n",
       "            setTimeout(function() {\n",
       "                var nbb_cell_id = 5;\n",
       "                var nbb_unformatted_code = \"def percent_missing(df):\\n    \\\"\\\"\\\"\\n    Given a dataframe it calculates the percentage of missing records per column\\n    Params:\\n        - df\\n    Returns:\\n        - Dictionary of column name and percentage of missing records\\n    \\\"\\\"\\\"\\n    col = list(df.columns)\\n    perc = [round(df[c].isna().mean() * 100, 2) for c in col]\\n    miss_dict = dict(zip(col, perc))\\n    return miss_dict\";\n",
       "                var nbb_formatted_code = \"def percent_missing(df):\\n    \\\"\\\"\\\"\\n    Given a dataframe it calculates the percentage of missing records per column\\n    Params:\\n        - df\\n    Returns:\\n        - Dictionary of column name and percentage of missing records\\n    \\\"\\\"\\\"\\n    col = list(df.columns)\\n    perc = [round(df[c].isna().mean() * 100, 2) for c in col]\\n    miss_dict = dict(zip(col, perc))\\n    return miss_dict\";\n",
       "                var nbb_cells = Jupyter.notebook.get_cells();\n",
       "                for (var i = 0; i < nbb_cells.length; ++i) {\n",
       "                    if (nbb_cells[i].input_prompt_number == nbb_cell_id) {\n",
       "                        if (nbb_cells[i].get_text() == nbb_unformatted_code) {\n",
       "                             nbb_cells[i].set_text(nbb_formatted_code);\n",
       "                        }\n",
       "                        break;\n",
       "                    }\n",
       "                }\n",
       "            }, 500);\n",
       "            "
      ],
      "text/plain": [
       "<IPython.core.display.Javascript object>"
      ]
     },
     "metadata": {},
     "output_type": "display_data"
    }
   ],
   "source": [
    "def percent_missing(df):\n",
    "    \"\"\"\n",
    "    Given a dataframe it calculates the percentage of missing records per column\n",
    "    Params:\n",
    "        - df\n",
    "    Returns:\n",
    "        - Dictionary of column name and percentage of missing records\n",
    "    \"\"\"\n",
    "    col = list(df.columns)\n",
    "    perc = [round(df[c].isna().mean() * 100, 2) for c in col]\n",
    "    miss_dict = dict(zip(col, perc))\n",
    "    return miss_dict"
   ]
  },
  {
   "cell_type": "code",
   "execution_count": 7,
   "metadata": {
    "ExecuteTime": {
     "end_time": "2020-03-27T16:38:07.479366Z",
     "start_time": "2020-03-27T16:38:07.440315Z"
    }
   },
   "outputs": [
    {
     "data": {
      "text/plain": [
       "['.DS_Store',\n",
       " 'dc2_credit_card_unsupervised',\n",
       " 'BL_data_challenge_notebook.ipynb',\n",
       " 'Building Data Challenge Notebook.ipynb',\n",
       " 'dc1_breast_cancer_supervised',\n",
       " 'dc3_product_analytics',\n",
       " '.ipynb_checkpoints',\n",
       " 'brl_data_challenges',\n",
       " 'flowbot_data_challenge']"
      ]
     },
     "execution_count": 7,
     "metadata": {},
     "output_type": "execute_result"
    },
    {
     "data": {
      "application/javascript": [
       "\n",
       "            setTimeout(function() {\n",
       "                var nbb_cell_id = 7;\n",
       "                var nbb_unformatted_code = \"# os.getcwd()\\nos.chdir(\\n    \\\"/Users/lacar/Documents/Goals_and_careers/Edu_Data_Science/Insight/data_challenges\\\"\\n)\\nos.listdir()\";\n",
       "                var nbb_formatted_code = \"# os.getcwd()\\nos.chdir(\\n    \\\"/Users/lacar/Documents/Goals_and_careers/Edu_Data_Science/Insight/data_challenges\\\"\\n)\\nos.listdir()\";\n",
       "                var nbb_cells = Jupyter.notebook.get_cells();\n",
       "                for (var i = 0; i < nbb_cells.length; ++i) {\n",
       "                    if (nbb_cells[i].input_prompt_number == nbb_cell_id) {\n",
       "                        if (nbb_cells[i].get_text() == nbb_unformatted_code) {\n",
       "                             nbb_cells[i].set_text(nbb_formatted_code);\n",
       "                        }\n",
       "                        break;\n",
       "                    }\n",
       "                }\n",
       "            }, 500);\n",
       "            "
      ],
      "text/plain": [
       "<IPython.core.display.Javascript object>"
      ]
     },
     "metadata": {},
     "output_type": "display_data"
    }
   ],
   "source": [
    "# os.getcwd()\n",
    "os.chdir(\n",
    "    \"/Users/lacar/Documents/Goals_and_careers/Edu_Data_Science/Insight/data_challenges\"\n",
    ")\n",
    "os.listdir()"
   ]
  },
  {
   "cell_type": "markdown",
   "metadata": {},
   "source": [
    "## Results df overview"
   ]
  },
  {
   "cell_type": "code",
   "execution_count": 8,
   "metadata": {
    "ExecuteTime": {
     "end_time": "2020-03-27T16:38:19.520635Z",
     "start_time": "2020-03-27T16:38:18.598309Z"
    }
   },
   "outputs": [
    {
     "data": {
      "text/html": [
       "<div>\n",
       "<style scoped>\n",
       "    .dataframe tbody tr th:only-of-type {\n",
       "        vertical-align: middle;\n",
       "    }\n",
       "\n",
       "    .dataframe tbody tr th {\n",
       "        vertical-align: top;\n",
       "    }\n",
       "\n",
       "    .dataframe thead th {\n",
       "        text-align: right;\n",
       "    }\n",
       "</style>\n",
       "<table border=\"1\" class=\"dataframe\">\n",
       "  <thead>\n",
       "    <tr style=\"text-align: right;\">\n",
       "      <th></th>\n",
       "      <th>user_id</th>\n",
       "      <th>timestamp</th>\n",
       "      <th>source</th>\n",
       "      <th>device</th>\n",
       "      <th>operative_system</th>\n",
       "      <th>test</th>\n",
       "      <th>price</th>\n",
       "      <th>converted</th>\n",
       "    </tr>\n",
       "  </thead>\n",
       "  <tbody>\n",
       "    <tr>\n",
       "      <th>0</th>\n",
       "      <td>604839</td>\n",
       "      <td>2015-05-08 03:38:34</td>\n",
       "      <td>ads_facebook</td>\n",
       "      <td>mobile</td>\n",
       "      <td>iOS</td>\n",
       "      <td>0</td>\n",
       "      <td>39</td>\n",
       "      <td>0</td>\n",
       "    </tr>\n",
       "    <tr>\n",
       "      <th>1</th>\n",
       "      <td>624057</td>\n",
       "      <td>2015-05-10 21:08:46</td>\n",
       "      <td>seo-google</td>\n",
       "      <td>mobile</td>\n",
       "      <td>android</td>\n",
       "      <td>0</td>\n",
       "      <td>39</td>\n",
       "      <td>0</td>\n",
       "    </tr>\n",
       "    <tr>\n",
       "      <th>2</th>\n",
       "      <td>317970</td>\n",
       "      <td>2015-04-04 15:01:23</td>\n",
       "      <td>ads-bing</td>\n",
       "      <td>mobile</td>\n",
       "      <td>android</td>\n",
       "      <td>0</td>\n",
       "      <td>39</td>\n",
       "      <td>0</td>\n",
       "    </tr>\n",
       "    <tr>\n",
       "      <th>3</th>\n",
       "      <td>685636</td>\n",
       "      <td>2015-05-07 07:26:01</td>\n",
       "      <td>direct_traffic</td>\n",
       "      <td>mobile</td>\n",
       "      <td>iOS</td>\n",
       "      <td>1</td>\n",
       "      <td>59</td>\n",
       "      <td>0</td>\n",
       "    </tr>\n",
       "    <tr>\n",
       "      <th>4</th>\n",
       "      <td>820854</td>\n",
       "      <td>2015-05-24 11:04:40</td>\n",
       "      <td>ads_facebook</td>\n",
       "      <td>web</td>\n",
       "      <td>mac</td>\n",
       "      <td>0</td>\n",
       "      <td>39</td>\n",
       "      <td>0</td>\n",
       "    </tr>\n",
       "  </tbody>\n",
       "</table>\n",
       "</div>"
      ],
      "text/plain": [
       "   user_id            timestamp          source  device operative_system  \\\n",
       "0   604839  2015-05-08 03:38:34    ads_facebook  mobile              iOS   \n",
       "1   624057  2015-05-10 21:08:46      seo-google  mobile          android   \n",
       "2   317970  2015-04-04 15:01:23        ads-bing  mobile          android   \n",
       "3   685636  2015-05-07 07:26:01  direct_traffic  mobile              iOS   \n",
       "4   820854  2015-05-24 11:04:40    ads_facebook     web              mac   \n",
       "\n",
       "   test  price  converted  \n",
       "0     0     39          0  \n",
       "1     0     39          0  \n",
       "2     0     39          0  \n",
       "3     1     59          0  \n",
       "4     0     39          0  "
      ]
     },
     "execution_count": 8,
     "metadata": {},
     "output_type": "execute_result"
    },
    {
     "data": {
      "application/javascript": [
       "\n",
       "            setTimeout(function() {\n",
       "                var nbb_cell_id = 8;\n",
       "                var nbb_unformatted_code = \"# Load data\\ndf_results = pd.read_csv(\\n    \\\"flowbot_data_challenge/Pricing_test_DataChallenge/Pricing_Test_data/test_results.csv\\\"\\n)\\ndf_results.head()\";\n",
       "                var nbb_formatted_code = \"# Load data\\ndf_results = pd.read_csv(\\n    \\\"flowbot_data_challenge/Pricing_test_DataChallenge/Pricing_Test_data/test_results.csv\\\"\\n)\\ndf_results.head()\";\n",
       "                var nbb_cells = Jupyter.notebook.get_cells();\n",
       "                for (var i = 0; i < nbb_cells.length; ++i) {\n",
       "                    if (nbb_cells[i].input_prompt_number == nbb_cell_id) {\n",
       "                        if (nbb_cells[i].get_text() == nbb_unformatted_code) {\n",
       "                             nbb_cells[i].set_text(nbb_formatted_code);\n",
       "                        }\n",
       "                        break;\n",
       "                    }\n",
       "                }\n",
       "            }, 500);\n",
       "            "
      ],
      "text/plain": [
       "<IPython.core.display.Javascript object>"
      ]
     },
     "metadata": {},
     "output_type": "display_data"
    }
   ],
   "source": [
    "# Load data\n",
    "df_results = pd.read_csv(\n",
    "    \"flowbot_data_challenge/Pricing_test_DataChallenge/Pricing_Test_data/test_results.csv\"\n",
    ")\n",
    "df_results.head()"
   ]
  },
  {
   "cell_type": "code",
   "execution_count": 10,
   "metadata": {
    "ExecuteTime": {
     "end_time": "2020-03-27T16:38:40.496377Z",
     "start_time": "2020-03-27T16:38:40.473414Z"
    }
   },
   "outputs": [
    {
     "name": "stdout",
     "output_type": "stream",
     "text": [
      "Report of Initial Data Analysis:\n",
      "\n",
      "Shape of dataframe: (316800, 8)\n",
      "Features and Data Types: \n",
      " user_id              int64\n",
      "timestamp           object\n",
      "source              object\n",
      "device              object\n",
      "operative_system    object\n",
      "test                 int64\n",
      "price                int64\n",
      "converted            int64\n",
      "dtype: object\n"
     ]
    },
    {
     "data": {
      "application/javascript": [
       "\n",
       "            setTimeout(function() {\n",
       "                var nbb_cell_id = 10;\n",
       "                var nbb_unformatted_code = \"initial_analysis(df_results)\";\n",
       "                var nbb_formatted_code = \"initial_analysis(df_results)\";\n",
       "                var nbb_cells = Jupyter.notebook.get_cells();\n",
       "                for (var i = 0; i < nbb_cells.length; ++i) {\n",
       "                    if (nbb_cells[i].input_prompt_number == nbb_cell_id) {\n",
       "                        if (nbb_cells[i].get_text() == nbb_unformatted_code) {\n",
       "                             nbb_cells[i].set_text(nbb_formatted_code);\n",
       "                        }\n",
       "                        break;\n",
       "                    }\n",
       "                }\n",
       "            }, 500);\n",
       "            "
      ],
      "text/plain": [
       "<IPython.core.display.Javascript object>"
      ]
     },
     "metadata": {},
     "output_type": "display_data"
    }
   ],
   "source": [
    "initial_analysis(df_results)"
   ]
  },
  {
   "cell_type": "markdown",
   "metadata": {},
   "source": [
    "## Users df overview"
   ]
  },
  {
   "cell_type": "code",
   "execution_count": 12,
   "metadata": {
    "ExecuteTime": {
     "end_time": "2020-03-27T16:39:22.030346Z",
     "start_time": "2020-03-27T16:39:21.775793Z"
    }
   },
   "outputs": [
    {
     "data": {
      "text/html": [
       "<div>\n",
       "<style scoped>\n",
       "    .dataframe tbody tr th:only-of-type {\n",
       "        vertical-align: middle;\n",
       "    }\n",
       "\n",
       "    .dataframe tbody tr th {\n",
       "        vertical-align: top;\n",
       "    }\n",
       "\n",
       "    .dataframe thead th {\n",
       "        text-align: right;\n",
       "    }\n",
       "</style>\n",
       "<table border=\"1\" class=\"dataframe\">\n",
       "  <thead>\n",
       "    <tr style=\"text-align: right;\">\n",
       "      <th></th>\n",
       "      <th>user_id</th>\n",
       "      <th>city</th>\n",
       "      <th>country</th>\n",
       "      <th>lat</th>\n",
       "      <th>long</th>\n",
       "    </tr>\n",
       "  </thead>\n",
       "  <tbody>\n",
       "    <tr>\n",
       "      <th>0</th>\n",
       "      <td>510335</td>\n",
       "      <td>Peabody</td>\n",
       "      <td>USA</td>\n",
       "      <td>42.53</td>\n",
       "      <td>-70.97</td>\n",
       "    </tr>\n",
       "    <tr>\n",
       "      <th>1</th>\n",
       "      <td>89568</td>\n",
       "      <td>Reno</td>\n",
       "      <td>USA</td>\n",
       "      <td>39.54</td>\n",
       "      <td>-119.82</td>\n",
       "    </tr>\n",
       "    <tr>\n",
       "      <th>2</th>\n",
       "      <td>434134</td>\n",
       "      <td>Rialto</td>\n",
       "      <td>USA</td>\n",
       "      <td>34.11</td>\n",
       "      <td>-117.39</td>\n",
       "    </tr>\n",
       "    <tr>\n",
       "      <th>3</th>\n",
       "      <td>289769</td>\n",
       "      <td>Carson City</td>\n",
       "      <td>USA</td>\n",
       "      <td>39.15</td>\n",
       "      <td>-119.74</td>\n",
       "    </tr>\n",
       "    <tr>\n",
       "      <th>4</th>\n",
       "      <td>939586</td>\n",
       "      <td>Chicago</td>\n",
       "      <td>USA</td>\n",
       "      <td>41.84</td>\n",
       "      <td>-87.68</td>\n",
       "    </tr>\n",
       "  </tbody>\n",
       "</table>\n",
       "</div>"
      ],
      "text/plain": [
       "   user_id         city country    lat    long\n",
       "0   510335      Peabody     USA  42.53  -70.97\n",
       "1    89568         Reno     USA  39.54 -119.82\n",
       "2   434134       Rialto     USA  34.11 -117.39\n",
       "3   289769  Carson City     USA  39.15 -119.74\n",
       "4   939586      Chicago     USA  41.84  -87.68"
      ]
     },
     "execution_count": 12,
     "metadata": {},
     "output_type": "execute_result"
    },
    {
     "data": {
      "application/javascript": [
       "\n",
       "            setTimeout(function() {\n",
       "                var nbb_cell_id = 12;\n",
       "                var nbb_unformatted_code = \"df_users = pd.read_csv(\\n    \\\"flowbot_data_challenge/Pricing_test_DataChallenge/Pricing_Test_data/user_table.csv\\\"\\n)\\ndf_users.head()\";\n",
       "                var nbb_formatted_code = \"df_users = pd.read_csv(\\n    \\\"flowbot_data_challenge/Pricing_test_DataChallenge/Pricing_Test_data/user_table.csv\\\"\\n)\\ndf_users.head()\";\n",
       "                var nbb_cells = Jupyter.notebook.get_cells();\n",
       "                for (var i = 0; i < nbb_cells.length; ++i) {\n",
       "                    if (nbb_cells[i].input_prompt_number == nbb_cell_id) {\n",
       "                        if (nbb_cells[i].get_text() == nbb_unformatted_code) {\n",
       "                             nbb_cells[i].set_text(nbb_formatted_code);\n",
       "                        }\n",
       "                        break;\n",
       "                    }\n",
       "                }\n",
       "            }, 500);\n",
       "            "
      ],
      "text/plain": [
       "<IPython.core.display.Javascript object>"
      ]
     },
     "metadata": {},
     "output_type": "display_data"
    }
   ],
   "source": [
    "df_users = pd.read_csv(\n",
    "    \"flowbot_data_challenge/Pricing_test_DataChallenge/Pricing_Test_data/user_table.csv\"\n",
    ")\n",
    "df_users.head()"
   ]
  },
  {
   "cell_type": "code",
   "execution_count": 11,
   "metadata": {
    "ExecuteTime": {
     "end_time": "2020-03-27T16:39:11.975943Z",
     "start_time": "2020-03-27T16:39:11.963483Z"
    }
   },
   "outputs": [
    {
     "name": "stdout",
     "output_type": "stream",
     "text": [
      "Report of Initial Data Analysis:\n",
      "\n",
      "Shape of dataframe: (275616, 5)\n",
      "Features and Data Types: \n",
      " user_id      int64\n",
      "city        object\n",
      "country     object\n",
      "lat        float64\n",
      "long       float64\n",
      "dtype: object\n"
     ]
    },
    {
     "data": {
      "application/javascript": [
       "\n",
       "            setTimeout(function() {\n",
       "                var nbb_cell_id = 11;\n",
       "                var nbb_unformatted_code = \"initial_analysis(df_users)\";\n",
       "                var nbb_formatted_code = \"initial_analysis(df_users)\";\n",
       "                var nbb_cells = Jupyter.notebook.get_cells();\n",
       "                for (var i = 0; i < nbb_cells.length; ++i) {\n",
       "                    if (nbb_cells[i].input_prompt_number == nbb_cell_id) {\n",
       "                        if (nbb_cells[i].get_text() == nbb_unformatted_code) {\n",
       "                             nbb_cells[i].set_text(nbb_formatted_code);\n",
       "                        }\n",
       "                        break;\n",
       "                    }\n",
       "                }\n",
       "            }, 500);\n",
       "            "
      ],
      "text/plain": [
       "<IPython.core.display.Javascript object>"
      ]
     },
     "metadata": {},
     "output_type": "display_data"
    }
   ],
   "source": [
    "initial_analysis(df_users)"
   ]
  },
  {
   "cell_type": "markdown",
   "metadata": {},
   "source": [
    "## Merge data"
   ]
  },
  {
   "cell_type": "code",
   "execution_count": 13,
   "metadata": {
    "ExecuteTime": {
     "end_time": "2020-03-27T16:40:19.265593Z",
     "start_time": "2020-03-27T16:40:18.775562Z"
    }
   },
   "outputs": [
    {
     "data": {
      "text/html": [
       "<div>\n",
       "<style scoped>\n",
       "    .dataframe tbody tr th:only-of-type {\n",
       "        vertical-align: middle;\n",
       "    }\n",
       "\n",
       "    .dataframe tbody tr th {\n",
       "        vertical-align: top;\n",
       "    }\n",
       "\n",
       "    .dataframe thead th {\n",
       "        text-align: right;\n",
       "    }\n",
       "</style>\n",
       "<table border=\"1\" class=\"dataframe\">\n",
       "  <thead>\n",
       "    <tr style=\"text-align: right;\">\n",
       "      <th></th>\n",
       "      <th>user_id</th>\n",
       "      <th>timestamp</th>\n",
       "      <th>source</th>\n",
       "      <th>device</th>\n",
       "      <th>operative_system</th>\n",
       "      <th>test</th>\n",
       "      <th>price</th>\n",
       "      <th>converted</th>\n",
       "      <th>city</th>\n",
       "      <th>country</th>\n",
       "      <th>lat</th>\n",
       "      <th>long</th>\n",
       "    </tr>\n",
       "  </thead>\n",
       "  <tbody>\n",
       "    <tr>\n",
       "      <th>0</th>\n",
       "      <td>604839</td>\n",
       "      <td>2015-05-08 03:38:34</td>\n",
       "      <td>ads_facebook</td>\n",
       "      <td>mobile</td>\n",
       "      <td>iOS</td>\n",
       "      <td>0</td>\n",
       "      <td>39</td>\n",
       "      <td>0</td>\n",
       "      <td>Buffalo</td>\n",
       "      <td>USA</td>\n",
       "      <td>42.89</td>\n",
       "      <td>-78.86</td>\n",
       "    </tr>\n",
       "    <tr>\n",
       "      <th>1</th>\n",
       "      <td>624057</td>\n",
       "      <td>2015-05-10 21:08:46</td>\n",
       "      <td>seo-google</td>\n",
       "      <td>mobile</td>\n",
       "      <td>android</td>\n",
       "      <td>0</td>\n",
       "      <td>39</td>\n",
       "      <td>0</td>\n",
       "      <td>Lakeville</td>\n",
       "      <td>USA</td>\n",
       "      <td>44.68</td>\n",
       "      <td>-93.24</td>\n",
       "    </tr>\n",
       "    <tr>\n",
       "      <th>2</th>\n",
       "      <td>317970</td>\n",
       "      <td>2015-04-04 15:01:23</td>\n",
       "      <td>ads-bing</td>\n",
       "      <td>mobile</td>\n",
       "      <td>android</td>\n",
       "      <td>0</td>\n",
       "      <td>39</td>\n",
       "      <td>0</td>\n",
       "      <td>Parma</td>\n",
       "      <td>USA</td>\n",
       "      <td>41.38</td>\n",
       "      <td>-81.73</td>\n",
       "    </tr>\n",
       "    <tr>\n",
       "      <th>3</th>\n",
       "      <td>685636</td>\n",
       "      <td>2015-05-07 07:26:01</td>\n",
       "      <td>direct_traffic</td>\n",
       "      <td>mobile</td>\n",
       "      <td>iOS</td>\n",
       "      <td>1</td>\n",
       "      <td>59</td>\n",
       "      <td>0</td>\n",
       "      <td>Fayetteville</td>\n",
       "      <td>USA</td>\n",
       "      <td>35.07</td>\n",
       "      <td>-78.90</td>\n",
       "    </tr>\n",
       "    <tr>\n",
       "      <th>4</th>\n",
       "      <td>820854</td>\n",
       "      <td>2015-05-24 11:04:40</td>\n",
       "      <td>ads_facebook</td>\n",
       "      <td>web</td>\n",
       "      <td>mac</td>\n",
       "      <td>0</td>\n",
       "      <td>39</td>\n",
       "      <td>0</td>\n",
       "      <td>Fishers</td>\n",
       "      <td>USA</td>\n",
       "      <td>39.95</td>\n",
       "      <td>-86.02</td>\n",
       "    </tr>\n",
       "  </tbody>\n",
       "</table>\n",
       "</div>"
      ],
      "text/plain": [
       "   user_id            timestamp          source  device operative_system  \\\n",
       "0   604839  2015-05-08 03:38:34    ads_facebook  mobile              iOS   \n",
       "1   624057  2015-05-10 21:08:46      seo-google  mobile          android   \n",
       "2   317970  2015-04-04 15:01:23        ads-bing  mobile          android   \n",
       "3   685636  2015-05-07 07:26:01  direct_traffic  mobile              iOS   \n",
       "4   820854  2015-05-24 11:04:40    ads_facebook     web              mac   \n",
       "\n",
       "   test  price  converted          city country    lat   long  \n",
       "0     0     39          0       Buffalo     USA  42.89 -78.86  \n",
       "1     0     39          0     Lakeville     USA  44.68 -93.24  \n",
       "2     0     39          0         Parma     USA  41.38 -81.73  \n",
       "3     1     59          0  Fayetteville     USA  35.07 -78.90  \n",
       "4     0     39          0       Fishers     USA  39.95 -86.02  "
      ]
     },
     "execution_count": 13,
     "metadata": {},
     "output_type": "execute_result"
    },
    {
     "data": {
      "application/javascript": [
       "\n",
       "            setTimeout(function() {\n",
       "                var nbb_cell_id = 13;\n",
       "                var nbb_unformatted_code = \"df_merge = pd.merge(\\n    df_results, df_users, how=\\\"inner\\\", left_on=\\\"user_id\\\", right_on=\\\"user_id\\\"\\n)\\ndf_merge.head()\";\n",
       "                var nbb_formatted_code = \"df_merge = pd.merge(\\n    df_results, df_users, how=\\\"inner\\\", left_on=\\\"user_id\\\", right_on=\\\"user_id\\\"\\n)\\ndf_merge.head()\";\n",
       "                var nbb_cells = Jupyter.notebook.get_cells();\n",
       "                for (var i = 0; i < nbb_cells.length; ++i) {\n",
       "                    if (nbb_cells[i].input_prompt_number == nbb_cell_id) {\n",
       "                        if (nbb_cells[i].get_text() == nbb_unformatted_code) {\n",
       "                             nbb_cells[i].set_text(nbb_formatted_code);\n",
       "                        }\n",
       "                        break;\n",
       "                    }\n",
       "                }\n",
       "            }, 500);\n",
       "            "
      ],
      "text/plain": [
       "<IPython.core.display.Javascript object>"
      ]
     },
     "metadata": {},
     "output_type": "display_data"
    }
   ],
   "source": [
    "df_merge = pd.merge(\n",
    "    df_results, df_users, how=\"inner\", left_on=\"user_id\", right_on=\"user_id\"\n",
    ")\n",
    "df_merge.head()"
   ]
  },
  {
   "cell_type": "code",
   "execution_count": 14,
   "metadata": {
    "ExecuteTime": {
     "end_time": "2020-03-27T16:40:49.006259Z",
     "start_time": "2020-03-27T16:40:48.664450Z"
    }
   },
   "outputs": [
    {
     "data": {
      "text/plain": [
       "test  price\n",
       "0     39       176241\n",
       "      59          187\n",
       "1     39          135\n",
       "      59        99053\n",
       "Name: user_id, dtype: int64"
      ]
     },
     "execution_count": 14,
     "metadata": {},
     "output_type": "execute_result"
    },
    {
     "data": {
      "application/javascript": [
       "\n",
       "            setTimeout(function() {\n",
       "                var nbb_cell_id = 14;\n",
       "                var nbb_unformatted_code = \"### Verify group assignments\\ndf_merge.groupby([\\\"test\\\", \\\"price\\\"]).count()[\\\"user_id\\\"]\";\n",
       "                var nbb_formatted_code = \"### Verify group assignments\\ndf_merge.groupby([\\\"test\\\", \\\"price\\\"]).count()[\\\"user_id\\\"]\";\n",
       "                var nbb_cells = Jupyter.notebook.get_cells();\n",
       "                for (var i = 0; i < nbb_cells.length; ++i) {\n",
       "                    if (nbb_cells[i].input_prompt_number == nbb_cell_id) {\n",
       "                        if (nbb_cells[i].get_text() == nbb_unformatted_code) {\n",
       "                             nbb_cells[i].set_text(nbb_formatted_code);\n",
       "                        }\n",
       "                        break;\n",
       "                    }\n",
       "                }\n",
       "            }, 500);\n",
       "            "
      ],
      "text/plain": [
       "<IPython.core.display.Javascript object>"
      ]
     },
     "metadata": {},
     "output_type": "display_data"
    }
   ],
   "source": [
    "### Verify group assignments\n",
    "df_merge.groupby([\"test\", \"price\"]).count()[\"user_id\"]"
   ]
  },
  {
   "cell_type": "code",
   "execution_count": 15,
   "metadata": {
    "ExecuteTime": {
     "end_time": "2020-03-27T16:40:49.688738Z",
     "start_time": "2020-03-27T16:40:49.597825Z"
    }
   },
   "outputs": [
    {
     "data": {
      "application/javascript": [
       "\n",
       "            setTimeout(function() {\n",
       "                var nbb_cell_id = 15;\n",
       "                var nbb_unformatted_code = \"# Drop the users that are mis-assigned\\nbool_mis = ((df_merge[\\\"test\\\"] == 0) & (df_merge[\\\"price\\\"] == 59)) | (\\n    (df_merge[\\\"test\\\"] == 1) & (df_merge[\\\"price\\\"] == 39)\\n)\\n# bool_mis.sum()\\ndf_merge = df_merge.loc[~bool_mis, :]\";\n",
       "                var nbb_formatted_code = \"# Drop the users that are mis-assigned\\nbool_mis = ((df_merge[\\\"test\\\"] == 0) & (df_merge[\\\"price\\\"] == 59)) | (\\n    (df_merge[\\\"test\\\"] == 1) & (df_merge[\\\"price\\\"] == 39)\\n)\\n# bool_mis.sum()\\ndf_merge = df_merge.loc[~bool_mis, :]\";\n",
       "                var nbb_cells = Jupyter.notebook.get_cells();\n",
       "                for (var i = 0; i < nbb_cells.length; ++i) {\n",
       "                    if (nbb_cells[i].input_prompt_number == nbb_cell_id) {\n",
       "                        if (nbb_cells[i].get_text() == nbb_unformatted_code) {\n",
       "                             nbb_cells[i].set_text(nbb_formatted_code);\n",
       "                        }\n",
       "                        break;\n",
       "                    }\n",
       "                }\n",
       "            }, 500);\n",
       "            "
      ],
      "text/plain": [
       "<IPython.core.display.Javascript object>"
      ]
     },
     "metadata": {},
     "output_type": "display_data"
    }
   ],
   "source": [
    "# Drop the users that are mis-assigned\n",
    "bool_mis = ((df_merge[\"test\"] == 0) & (df_merge[\"price\"] == 59)) | (\n",
    "    (df_merge[\"test\"] == 1) & (df_merge[\"price\"] == 39)\n",
    ")\n",
    "# bool_mis.sum()\n",
    "df_merge = df_merge.loc[~bool_mis, :]"
   ]
  },
  {
   "cell_type": "code",
   "execution_count": 16,
   "metadata": {
    "ExecuteTime": {
     "end_time": "2020-03-27T16:40:50.526428Z",
     "start_time": "2020-03-27T16:40:50.517801Z"
    }
   },
   "outputs": [
    {
     "data": {
      "text/plain": [
       "(275294, 12)"
      ]
     },
     "execution_count": 16,
     "metadata": {},
     "output_type": "execute_result"
    },
    {
     "data": {
      "application/javascript": [
       "\n",
       "            setTimeout(function() {\n",
       "                var nbb_cell_id = 16;\n",
       "                var nbb_unformatted_code = \"df_merge.shape\";\n",
       "                var nbb_formatted_code = \"df_merge.shape\";\n",
       "                var nbb_cells = Jupyter.notebook.get_cells();\n",
       "                for (var i = 0; i < nbb_cells.length; ++i) {\n",
       "                    if (nbb_cells[i].input_prompt_number == nbb_cell_id) {\n",
       "                        if (nbb_cells[i].get_text() == nbb_unformatted_code) {\n",
       "                             nbb_cells[i].set_text(nbb_formatted_code);\n",
       "                        }\n",
       "                        break;\n",
       "                    }\n",
       "                }\n",
       "            }, 500);\n",
       "            "
      ],
      "text/plain": [
       "<IPython.core.display.Javascript object>"
      ]
     },
     "metadata": {},
     "output_type": "display_data"
    }
   ],
   "source": [
    "df_merge.shape"
   ]
  },
  {
   "cell_type": "markdown",
   "metadata": {},
   "source": [
    "# Exploratory data analysis"
   ]
  },
  {
   "cell_type": "code",
   "execution_count": 19,
   "metadata": {
    "ExecuteTime": {
     "end_time": "2020-03-29T15:14:50.483382Z",
     "start_time": "2020-03-29T15:14:50.402617Z"
    }
   },
   "outputs": [
    {
     "data": {
      "application/javascript": [
       "\n",
       "            setTimeout(function() {\n",
       "                var nbb_cell_id = 19;\n",
       "                var nbb_unformatted_code = \"# Set context\\nsns.set_context(\\n    \\\"talk\\\", rc={\\\"font.size\\\": 14, \\\"axes.titlesize\\\": 14, \\\"axes.labelsize\\\": 14}\\n)\";\n",
       "                var nbb_formatted_code = \"# Set context\\nsns.set_context(\\n    \\\"talk\\\", rc={\\\"font.size\\\": 14, \\\"axes.titlesize\\\": 14, \\\"axes.labelsize\\\": 14}\\n)\";\n",
       "                var nbb_cells = Jupyter.notebook.get_cells();\n",
       "                for (var i = 0; i < nbb_cells.length; ++i) {\n",
       "                    if (nbb_cells[i].input_prompt_number == nbb_cell_id) {\n",
       "                        if (nbb_cells[i].get_text() == nbb_unformatted_code) {\n",
       "                             nbb_cells[i].set_text(nbb_formatted_code);\n",
       "                        }\n",
       "                        break;\n",
       "                    }\n",
       "                }\n",
       "            }, 500);\n",
       "            "
      ],
      "text/plain": [
       "<IPython.core.display.Javascript object>"
      ]
     },
     "metadata": {},
     "output_type": "display_data"
    }
   ],
   "source": [
    "# Set context\n",
    "sns.set_context(\n",
    "    \"talk\", rc={\"font.size\": 14, \"axes.titlesize\": 14, \"axes.labelsize\": 14}\n",
    ")"
   ]
  },
  {
   "cell_type": "markdown",
   "metadata": {},
   "source": [
    "## Calculate the difference"
   ]
  },
  {
   "cell_type": "code",
   "execution_count": 20,
   "metadata": {
    "ExecuteTime": {
     "end_time": "2020-03-29T15:14:51.465560Z",
     "start_time": "2020-03-29T15:14:51.075762Z"
    }
   },
   "outputs": [
    {
     "data": {
      "application/javascript": [
       "\n",
       "            setTimeout(function() {\n",
       "                var nbb_cell_id = 20;\n",
       "                var nbb_unformatted_code = \"# Generate revenue per person\\ndf_merge[\\\"revenue\\\"] = df_merge[\\\"price\\\"] * df_merge[\\\"converted\\\"]\";\n",
       "                var nbb_formatted_code = \"# Generate revenue per person\\ndf_merge[\\\"revenue\\\"] = df_merge[\\\"price\\\"] * df_merge[\\\"converted\\\"]\";\n",
       "                var nbb_cells = Jupyter.notebook.get_cells();\n",
       "                for (var i = 0; i < nbb_cells.length; ++i) {\n",
       "                    if (nbb_cells[i].input_prompt_number == nbb_cell_id) {\n",
       "                        if (nbb_cells[i].get_text() == nbb_unformatted_code) {\n",
       "                             nbb_cells[i].set_text(nbb_formatted_code);\n",
       "                        }\n",
       "                        break;\n",
       "                    }\n",
       "                }\n",
       "            }, 500);\n",
       "            "
      ],
      "text/plain": [
       "<IPython.core.display.Javascript object>"
      ]
     },
     "metadata": {},
     "output_type": "display_data"
    }
   ],
   "source": [
    "# Generate revenue per person\n",
    "df_merge[\"revenue\"] = df_merge[\"price\"] * df_merge[\"converted\"]"
   ]
  },
  {
   "cell_type": "code",
   "execution_count": 21,
   "metadata": {
    "ExecuteTime": {
     "end_time": "2020-03-29T15:15:59.144335Z",
     "start_time": "2020-03-29T15:15:59.093848Z"
    }
   },
   "outputs": [
    {
     "data": {
      "text/html": [
       "<div>\n",
       "<style scoped>\n",
       "    .dataframe tbody tr th:only-of-type {\n",
       "        vertical-align: middle;\n",
       "    }\n",
       "\n",
       "    .dataframe tbody tr th {\n",
       "        vertical-align: top;\n",
       "    }\n",
       "\n",
       "    .dataframe thead th {\n",
       "        text-align: right;\n",
       "    }\n",
       "</style>\n",
       "<table border=\"1\" class=\"dataframe\">\n",
       "  <thead>\n",
       "    <tr style=\"text-align: right;\">\n",
       "      <th></th>\n",
       "      <th>user_id</th>\n",
       "      <th>timestamp</th>\n",
       "      <th>source</th>\n",
       "      <th>device</th>\n",
       "      <th>operative_system</th>\n",
       "      <th>test</th>\n",
       "      <th>price</th>\n",
       "      <th>converted</th>\n",
       "      <th>city</th>\n",
       "      <th>country</th>\n",
       "      <th>lat</th>\n",
       "      <th>long</th>\n",
       "      <th>revenue</th>\n",
       "    </tr>\n",
       "  </thead>\n",
       "  <tbody>\n",
       "    <tr>\n",
       "      <th>0</th>\n",
       "      <td>604839</td>\n",
       "      <td>2015-05-08 03:38:34</td>\n",
       "      <td>ads_facebook</td>\n",
       "      <td>mobile</td>\n",
       "      <td>iOS</td>\n",
       "      <td>0</td>\n",
       "      <td>39</td>\n",
       "      <td>0</td>\n",
       "      <td>Buffalo</td>\n",
       "      <td>USA</td>\n",
       "      <td>42.89</td>\n",
       "      <td>-78.86</td>\n",
       "      <td>0</td>\n",
       "    </tr>\n",
       "    <tr>\n",
       "      <th>1</th>\n",
       "      <td>624057</td>\n",
       "      <td>2015-05-10 21:08:46</td>\n",
       "      <td>seo-google</td>\n",
       "      <td>mobile</td>\n",
       "      <td>android</td>\n",
       "      <td>0</td>\n",
       "      <td>39</td>\n",
       "      <td>0</td>\n",
       "      <td>Lakeville</td>\n",
       "      <td>USA</td>\n",
       "      <td>44.68</td>\n",
       "      <td>-93.24</td>\n",
       "      <td>0</td>\n",
       "    </tr>\n",
       "    <tr>\n",
       "      <th>2</th>\n",
       "      <td>317970</td>\n",
       "      <td>2015-04-04 15:01:23</td>\n",
       "      <td>ads-bing</td>\n",
       "      <td>mobile</td>\n",
       "      <td>android</td>\n",
       "      <td>0</td>\n",
       "      <td>39</td>\n",
       "      <td>0</td>\n",
       "      <td>Parma</td>\n",
       "      <td>USA</td>\n",
       "      <td>41.38</td>\n",
       "      <td>-81.73</td>\n",
       "      <td>0</td>\n",
       "    </tr>\n",
       "    <tr>\n",
       "      <th>3</th>\n",
       "      <td>685636</td>\n",
       "      <td>2015-05-07 07:26:01</td>\n",
       "      <td>direct_traffic</td>\n",
       "      <td>mobile</td>\n",
       "      <td>iOS</td>\n",
       "      <td>1</td>\n",
       "      <td>59</td>\n",
       "      <td>0</td>\n",
       "      <td>Fayetteville</td>\n",
       "      <td>USA</td>\n",
       "      <td>35.07</td>\n",
       "      <td>-78.90</td>\n",
       "      <td>0</td>\n",
       "    </tr>\n",
       "    <tr>\n",
       "      <th>4</th>\n",
       "      <td>820854</td>\n",
       "      <td>2015-05-24 11:04:40</td>\n",
       "      <td>ads_facebook</td>\n",
       "      <td>web</td>\n",
       "      <td>mac</td>\n",
       "      <td>0</td>\n",
       "      <td>39</td>\n",
       "      <td>0</td>\n",
       "      <td>Fishers</td>\n",
       "      <td>USA</td>\n",
       "      <td>39.95</td>\n",
       "      <td>-86.02</td>\n",
       "      <td>0</td>\n",
       "    </tr>\n",
       "  </tbody>\n",
       "</table>\n",
       "</div>"
      ],
      "text/plain": [
       "   user_id            timestamp          source  device operative_system  \\\n",
       "0   604839  2015-05-08 03:38:34    ads_facebook  mobile              iOS   \n",
       "1   624057  2015-05-10 21:08:46      seo-google  mobile          android   \n",
       "2   317970  2015-04-04 15:01:23        ads-bing  mobile          android   \n",
       "3   685636  2015-05-07 07:26:01  direct_traffic  mobile              iOS   \n",
       "4   820854  2015-05-24 11:04:40    ads_facebook     web              mac   \n",
       "\n",
       "   test  price  converted          city country    lat   long  revenue  \n",
       "0     0     39          0       Buffalo     USA  42.89 -78.86        0  \n",
       "1     0     39          0     Lakeville     USA  44.68 -93.24        0  \n",
       "2     0     39          0         Parma     USA  41.38 -81.73        0  \n",
       "3     1     59          0  Fayetteville     USA  35.07 -78.90        0  \n",
       "4     0     39          0       Fishers     USA  39.95 -86.02        0  "
      ]
     },
     "execution_count": 21,
     "metadata": {},
     "output_type": "execute_result"
    },
    {
     "data": {
      "application/javascript": [
       "\n",
       "            setTimeout(function() {\n",
       "                var nbb_cell_id = 21;\n",
       "                var nbb_unformatted_code = \"df_merge.head()\";\n",
       "                var nbb_formatted_code = \"df_merge.head()\";\n",
       "                var nbb_cells = Jupyter.notebook.get_cells();\n",
       "                for (var i = 0; i < nbb_cells.length; ++i) {\n",
       "                    if (nbb_cells[i].input_prompt_number == nbb_cell_id) {\n",
       "                        if (nbb_cells[i].get_text() == nbb_unformatted_code) {\n",
       "                             nbb_cells[i].set_text(nbb_formatted_code);\n",
       "                        }\n",
       "                        break;\n",
       "                    }\n",
       "                }\n",
       "            }, 500);\n",
       "            "
      ],
      "text/plain": [
       "<IPython.core.display.Javascript object>"
      ]
     },
     "metadata": {},
     "output_type": "display_data"
    }
   ],
   "source": [
    "df_merge.head()"
   ]
  },
  {
   "cell_type": "code",
   "execution_count": 46,
   "metadata": {
    "ExecuteTime": {
     "end_time": "2020-03-29T21:40:29.608648Z",
     "start_time": "2020-03-29T21:40:27.813369Z"
    }
   },
   "outputs": [
    {
     "data": {
      "application/javascript": [
       "\n",
       "            setTimeout(function() {\n",
       "                var nbb_cell_id = 46;\n",
       "                var nbb_unformatted_code = \"groupA = df_merge[df_merge[\\\"test\\\"] == 0].loc[:, \\\"revenue\\\"].copy()\\ngroupB = df_merge[df_merge[\\\"test\\\"] == 1].loc[:, \\\"revenue\\\"].copy()\\n\\nn_A = len(groupA)\\nn_B = len(groupB)\\n\\nse_A = groupA.std() / np.sqrt(n_A)\\nse_B = groupB.std() / np.sqrt(n_B)\";\n",
       "                var nbb_formatted_code = \"groupA = df_merge[df_merge[\\\"test\\\"] == 0].loc[:, \\\"revenue\\\"].copy()\\ngroupB = df_merge[df_merge[\\\"test\\\"] == 1].loc[:, \\\"revenue\\\"].copy()\\n\\nn_A = len(groupA)\\nn_B = len(groupB)\\n\\nse_A = groupA.std() / np.sqrt(n_A)\\nse_B = groupB.std() / np.sqrt(n_B)\";\n",
       "                var nbb_cells = Jupyter.notebook.get_cells();\n",
       "                for (var i = 0; i < nbb_cells.length; ++i) {\n",
       "                    if (nbb_cells[i].input_prompt_number == nbb_cell_id) {\n",
       "                        if (nbb_cells[i].get_text() == nbb_unformatted_code) {\n",
       "                             nbb_cells[i].set_text(nbb_formatted_code);\n",
       "                        }\n",
       "                        break;\n",
       "                    }\n",
       "                }\n",
       "            }, 500);\n",
       "            "
      ],
      "text/plain": [
       "<IPython.core.display.Javascript object>"
      ]
     },
     "metadata": {},
     "output_type": "display_data"
    }
   ],
   "source": [
    "groupA = df_merge[df_merge[\"test\"] == 0].loc[:, \"revenue\"].copy()\n",
    "groupB = df_merge[df_merge[\"test\"] == 1].loc[:, \"revenue\"].copy()\n",
    "\n",
    "n_A = len(groupA)\n",
    "n_B = len(groupB)\n",
    "\n",
    "se_A = groupA.std() / np.sqrt(n_A)\n",
    "se_B = groupB.std() / np.sqrt(n_B)"
   ]
  },
  {
   "cell_type": "code",
   "execution_count": 34,
   "metadata": {
    "ExecuteTime": {
     "end_time": "2020-03-29T17:24:45.964166Z",
     "start_time": "2020-03-29T17:24:45.935778Z"
    }
   },
   "outputs": [
    {
     "name": "stdout",
     "output_type": "stream",
     "text": [
      "Group A mean, SD, SE:  0.7709670281035628 5.428949361675566 0.01293189937458914\n",
      "Group B mean, SD, SE:  0.9113302979213148 7.275884764868449 0.02311809240828995\n"
     ]
    },
    {
     "data": {
      "application/javascript": [
       "\n",
       "            setTimeout(function() {\n",
       "                var nbb_cell_id = 34;\n",
       "                var nbb_unformatted_code = \"print(\\\"Group A mean, SD, SE: \\\", groupA.mean(), groupA.std(), se_A)\\nprint(\\\"Group B mean, SD, SE: \\\", groupB.mean(), groupB.std(), se_B)\";\n",
       "                var nbb_formatted_code = \"print(\\\"Group A mean, SD, SE: \\\", groupA.mean(), groupA.std(), se_A)\\nprint(\\\"Group B mean, SD, SE: \\\", groupB.mean(), groupB.std(), se_B)\";\n",
       "                var nbb_cells = Jupyter.notebook.get_cells();\n",
       "                for (var i = 0; i < nbb_cells.length; ++i) {\n",
       "                    if (nbb_cells[i].input_prompt_number == nbb_cell_id) {\n",
       "                        if (nbb_cells[i].get_text() == nbb_unformatted_code) {\n",
       "                             nbb_cells[i].set_text(nbb_formatted_code);\n",
       "                        }\n",
       "                        break;\n",
       "                    }\n",
       "                }\n",
       "            }, 500);\n",
       "            "
      ],
      "text/plain": [
       "<IPython.core.display.Javascript object>"
      ]
     },
     "metadata": {},
     "output_type": "display_data"
    }
   ],
   "source": [
    "print(\"Group A mean, SD, SE: \", groupA.mean(), groupA.std(), se_A)\n",
    "print(\"Group B mean, SD, SE: \", groupB.mean(), groupB.std(), se_B)"
   ]
  },
  {
   "cell_type": "code",
   "execution_count": 36,
   "metadata": {
    "ExecuteTime": {
     "end_time": "2020-03-29T18:36:07.358987Z",
     "start_time": "2020-03-29T18:36:07.145617Z"
    }
   },
   "outputs": [
    {
     "name": "stdout",
     "output_type": "stream",
     "text": [
      "SE of difference:  0.026489247215289686\n"
     ]
    },
    {
     "data": {
      "application/javascript": [
       "\n",
       "            setTimeout(function() {\n",
       "                var nbb_cell_id = 36;\n",
       "                var nbb_unformatted_code = \"se_of_diff = np.sqrt(se_A**2 + se_B**2)\\nprint(\\\"SE of difference: \\\", combined_SE)\";\n",
       "                var nbb_formatted_code = \"se_of_diff = np.sqrt(se_A ** 2 + se_B ** 2)\\nprint(\\\"SE of difference: \\\", combined_SE)\";\n",
       "                var nbb_cells = Jupyter.notebook.get_cells();\n",
       "                for (var i = 0; i < nbb_cells.length; ++i) {\n",
       "                    if (nbb_cells[i].input_prompt_number == nbb_cell_id) {\n",
       "                        if (nbb_cells[i].get_text() == nbb_unformatted_code) {\n",
       "                             nbb_cells[i].set_text(nbb_formatted_code);\n",
       "                        }\n",
       "                        break;\n",
       "                    }\n",
       "                }\n",
       "            }, 500);\n",
       "            "
      ],
      "text/plain": [
       "<IPython.core.display.Javascript object>"
      ]
     },
     "metadata": {},
     "output_type": "display_data"
    }
   ],
   "source": [
    "se_of_diff = np.sqrt(se_A ** 2 + se_B ** 2)\n",
    "print(\"SE of difference: \", combined_SE)"
   ]
  },
  {
   "cell_type": "markdown",
   "metadata": {
    "ExecuteTime": {
     "end_time": "2020-03-29T15:19:41.495786Z",
     "start_time": "2020-03-29T15:19:41.482676Z"
    }
   },
   "source": [
    "Generate a 95% confidence interval for the difference\n",
    "\n",
    "\n",
    "$\\bar{x_A} - \\bar{x_B} \\pm 1.96*(se(\\bar{x_A} - \\bar{x_B}))$\n",
    "\n"
   ]
  },
  {
   "cell_type": "code",
   "execution_count": 44,
   "metadata": {
    "ExecuteTime": {
     "end_time": "2020-03-29T21:32:17.195251Z",
     "start_time": "2020-03-29T21:32:17.167862Z"
    }
   },
   "outputs": [
    {
     "name": "stdout",
     "output_type": "stream",
     "text": [
      "Interval for difference is: Between  0.088 and  0.192\n",
      "group B is greater\n"
     ]
    },
    {
     "data": {
      "application/javascript": [
       "\n",
       "            setTimeout(function() {\n",
       "                var nbb_cell_id = 44;\n",
       "                var nbb_unformatted_code = \"lower_bound = np.abs(groupA.mean() - groupB.mean()) - 1.96 * (se_of_diff)\\nupper_bound = np.abs(groupA.mean() - groupB.mean()) + 1.96 * (se_of_diff)\\n\\nif groupA.mean() > groupB.mean():\\n    higher_group = \\\"group A\\\"\\nelse:\\n    higher_group = \\\"group B\\\"\\n\\nprint(\\n    \\\"Interval for difference is: Between \\\",\\n    \\\"{:.3f}\\\".format(lower_bound) + \\\" and \\\",\\n    \\\"{:.3f}\\\".format(upper_bound))\\n\\nprint(higher_group + \\\" is greater\\\")\";\n",
       "                var nbb_formatted_code = \"lower_bound = np.abs(groupA.mean() - groupB.mean()) - 1.96 * (se_of_diff)\\nupper_bound = np.abs(groupA.mean() - groupB.mean()) + 1.96 * (se_of_diff)\\n\\nif groupA.mean() > groupB.mean():\\n    higher_group = \\\"group A\\\"\\nelse:\\n    higher_group = \\\"group B\\\"\\n\\nprint(\\n    \\\"Interval for difference is: Between \\\",\\n    \\\"{:.3f}\\\".format(lower_bound) + \\\" and \\\",\\n    \\\"{:.3f}\\\".format(upper_bound),\\n)\\n\\nprint(higher_group + \\\" is greater\\\")\";\n",
       "                var nbb_cells = Jupyter.notebook.get_cells();\n",
       "                for (var i = 0; i < nbb_cells.length; ++i) {\n",
       "                    if (nbb_cells[i].input_prompt_number == nbb_cell_id) {\n",
       "                        if (nbb_cells[i].get_text() == nbb_unformatted_code) {\n",
       "                             nbb_cells[i].set_text(nbb_formatted_code);\n",
       "                        }\n",
       "                        break;\n",
       "                    }\n",
       "                }\n",
       "            }, 500);\n",
       "            "
      ],
      "text/plain": [
       "<IPython.core.display.Javascript object>"
      ]
     },
     "metadata": {},
     "output_type": "display_data"
    }
   ],
   "source": [
    "lower_bound = np.abs(groupA.mean() - groupB.mean()) - 1.96 * (se_of_diff)\n",
    "upper_bound = np.abs(groupA.mean() - groupB.mean()) + 1.96 * (se_of_diff)\n",
    "\n",
    "if groupA.mean() > groupB.mean():\n",
    "    higher_group = \"group A\"\n",
    "else:\n",
    "    higher_group = \"group B\"\n",
    "\n",
    "print(\n",
    "    \"Interval for difference is: Between \",\n",
    "    \"{:.3f}\".format(lower_bound) + \" and \",\n",
    "    \"{:.3f}\".format(upper_bound),\n",
    ")\n",
    "\n",
    "print(higher_group + \" is greater\")"
   ]
  },
  {
   "cell_type": "markdown",
   "metadata": {},
   "source": [
    "## What is the right sample size?\n",
    "\n"
   ]
  },
  {
   "cell_type": "markdown",
   "metadata": {},
   "source": [
    "### Same SD for each group, change n for each group\n",
    "\n",
    "Let's assume the means and SD stay the same (a big assumption, but the sample sizes are big). Let's keep the approximate ratio of samples (B/A is 0.56203)."
   ]
  },
  {
   "cell_type": "code",
   "execution_count": 50,
   "metadata": {
    "ExecuteTime": {
     "end_time": "2020-03-29T21:42:50.575637Z",
     "start_time": "2020-03-29T21:42:50.563794Z"
    }
   },
   "outputs": [
    {
     "name": "stdout",
     "output_type": "stream",
     "text": [
      "Sample sizes (A and B):  176241 99053\n"
     ]
    },
    {
     "data": {
      "application/javascript": [
       "\n",
       "            setTimeout(function() {\n",
       "                var nbb_cell_id = 50;\n",
       "                var nbb_unformatted_code = \"print('Sample sizes (A and B): ', n_A, n_B)\";\n",
       "                var nbb_formatted_code = \"print(\\\"Sample sizes (A and B): \\\", n_A, n_B)\";\n",
       "                var nbb_cells = Jupyter.notebook.get_cells();\n",
       "                for (var i = 0; i < nbb_cells.length; ++i) {\n",
       "                    if (nbb_cells[i].input_prompt_number == nbb_cell_id) {\n",
       "                        if (nbb_cells[i].get_text() == nbb_unformatted_code) {\n",
       "                             nbb_cells[i].set_text(nbb_formatted_code);\n",
       "                        }\n",
       "                        break;\n",
       "                    }\n",
       "                }\n",
       "            }, 500);\n",
       "            "
      ],
      "text/plain": [
       "<IPython.core.display.Javascript object>"
      ]
     },
     "metadata": {},
     "output_type": "display_data"
    }
   ],
   "source": [
    "print(\"Sample sizes (A and B): \", n_A, n_B)"
   ]
  },
  {
   "cell_type": "code",
   "execution_count": 58,
   "metadata": {
    "ExecuteTime": {
     "end_time": "2020-03-29T21:50:24.945258Z",
     "start_time": "2020-03-29T21:50:24.935508Z"
    }
   },
   "outputs": [
    {
     "name": "stdout",
     "output_type": "stream",
     "text": [
      "0.5620315363621404\n"
     ]
    },
    {
     "data": {
      "application/javascript": [
       "\n",
       "            setTimeout(function() {\n",
       "                var nbb_cell_id = 58;\n",
       "                var nbb_unformatted_code = \"print(n_B/n_A)\";\n",
       "                var nbb_formatted_code = \"print(n_B / n_A)\";\n",
       "                var nbb_cells = Jupyter.notebook.get_cells();\n",
       "                for (var i = 0; i < nbb_cells.length; ++i) {\n",
       "                    if (nbb_cells[i].input_prompt_number == nbb_cell_id) {\n",
       "                        if (nbb_cells[i].get_text() == nbb_unformatted_code) {\n",
       "                             nbb_cells[i].set_text(nbb_formatted_code);\n",
       "                        }\n",
       "                        break;\n",
       "                    }\n",
       "                }\n",
       "            }, 500);\n",
       "            "
      ],
      "text/plain": [
       "<IPython.core.display.Javascript object>"
      ]
     },
     "metadata": {},
     "output_type": "display_data"
    }
   ],
   "source": [
    "print(n_B / n_A)"
   ]
  },
  {
   "cell_type": "code",
   "execution_count": 54,
   "metadata": {
    "ExecuteTime": {
     "end_time": "2020-03-29T21:48:14.366414Z",
     "start_time": "2020-03-29T21:48:14.244493Z"
    },
    "code_folding": [
     0
    ]
   },
   "outputs": [
    {
     "data": {
      "application/javascript": [
       "\n",
       "            setTimeout(function() {\n",
       "                var nbb_cell_id = 54;\n",
       "                var nbb_unformatted_code = \"def return_ci(sample_A_size, sample_B_size):\\n    \\n    se_A_sample = groupA.std() / np.sqrt(sample_A_size)\\n    se_B_sample = groupB.std() / np.sqrt(sample_B_size)\\n    \\n    se_pooled_of_diff = np.sqrt(se_A_sample ** 2 + se_B_sample ** 2)\\n    \\n    lower_bound_test = np.abs(groupA.mean() - groupB.mean()) - 1.96 * (se_pooled_of_diff)\\n    upper_bound_test = np.abs(groupA.mean() - groupB.mean()) + 1.96 * (se_pooled_of_diff)\\n\\n    if groupA.mean() > groupB.mean():\\n        higher_group = \\\"group A\\\"\\n    else:\\n        higher_group = \\\"group B\\\"\\n\\n    print(\\n        \\\"Interval for difference is: Between \\\",\\n        \\\"{:.3f}\\\".format(lower_bound_test) + \\\" and \\\",\\n        \\\"{:.3f}\\\".format(upper_bound_test),\\n    )\\n\\n    print(higher_group + \\\" is greater\\\")\";\n",
       "                var nbb_formatted_code = \"def return_ci(sample_A_size, sample_B_size):\\n\\n    se_A_sample = groupA.std() / np.sqrt(sample_A_size)\\n    se_B_sample = groupB.std() / np.sqrt(sample_B_size)\\n\\n    se_pooled_of_diff = np.sqrt(se_A_sample ** 2 + se_B_sample ** 2)\\n\\n    lower_bound_test = np.abs(groupA.mean() - groupB.mean()) - 1.96 * (\\n        se_pooled_of_diff\\n    )\\n    upper_bound_test = np.abs(groupA.mean() - groupB.mean()) + 1.96 * (\\n        se_pooled_of_diff\\n    )\\n\\n    if groupA.mean() > groupB.mean():\\n        higher_group = \\\"group A\\\"\\n    else:\\n        higher_group = \\\"group B\\\"\\n\\n    print(\\n        \\\"Interval for difference is: Between \\\",\\n        \\\"{:.3f}\\\".format(lower_bound_test) + \\\" and \\\",\\n        \\\"{:.3f}\\\".format(upper_bound_test),\\n    )\\n\\n    print(higher_group + \\\" is greater\\\")\";\n",
       "                var nbb_cells = Jupyter.notebook.get_cells();\n",
       "                for (var i = 0; i < nbb_cells.length; ++i) {\n",
       "                    if (nbb_cells[i].input_prompt_number == nbb_cell_id) {\n",
       "                        if (nbb_cells[i].get_text() == nbb_unformatted_code) {\n",
       "                             nbb_cells[i].set_text(nbb_formatted_code);\n",
       "                        }\n",
       "                        break;\n",
       "                    }\n",
       "                }\n",
       "            }, 500);\n",
       "            "
      ],
      "text/plain": [
       "<IPython.core.display.Javascript object>"
      ]
     },
     "metadata": {},
     "output_type": "display_data"
    }
   ],
   "source": [
    "def return_ci(sample_A_size, sample_B_size):\n",
    "\n",
    "    se_A_sample = groupA.std() / np.sqrt(sample_A_size)\n",
    "    se_B_sample = groupB.std() / np.sqrt(sample_B_size)\n",
    "\n",
    "    se_pooled_of_diff = np.sqrt(se_A_sample ** 2 + se_B_sample ** 2)\n",
    "\n",
    "    lower_bound_test = np.abs(groupA.mean() - groupB.mean()) - 1.96 * (\n",
    "        se_pooled_of_diff\n",
    "    )\n",
    "    upper_bound_test = np.abs(groupA.mean() - groupB.mean()) + 1.96 * (\n",
    "        se_pooled_of_diff\n",
    "    )\n",
    "\n",
    "    if groupA.mean() > groupB.mean():\n",
    "        higher_group = \"group A\"\n",
    "    else:\n",
    "        higher_group = \"group B\"\n",
    "\n",
    "    print(\n",
    "        \"Interval for difference is: Between \",\n",
    "        \"{:.3f}\".format(lower_bound_test) + \" and \",\n",
    "        \"{:.3f}\".format(upper_bound_test),\n",
    "    )\n",
    "\n",
    "    print(higher_group + \" is greater\")"
   ]
  },
  {
   "cell_type": "code",
   "execution_count": 59,
   "metadata": {
    "ExecuteTime": {
     "end_time": "2020-03-29T21:50:56.860410Z",
     "start_time": "2020-03-29T21:50:56.842888Z"
    }
   },
   "outputs": [
    {
     "name": "stdout",
     "output_type": "stream",
     "text": [
      "Interval for difference is: Between  0.088 and  0.192\n",
      "group B is greater\n"
     ]
    },
    {
     "data": {
      "application/javascript": [
       "\n",
       "            setTimeout(function() {\n",
       "                var nbb_cell_id = 59;\n",
       "                var nbb_unformatted_code = \"# Test different n values\\nn_testA = len(groupA)\\nn_testB = round(0.56203 * n_testA)\\n\\nreturn_ci(n_testA, n_testB)\";\n",
       "                var nbb_formatted_code = \"# Test different n values\\nn_testA = len(groupA)\\nn_testB = round(0.56203 * n_testA)\\n\\nreturn_ci(n_testA, n_testB)\";\n",
       "                var nbb_cells = Jupyter.notebook.get_cells();\n",
       "                for (var i = 0; i < nbb_cells.length; ++i) {\n",
       "                    if (nbb_cells[i].input_prompt_number == nbb_cell_id) {\n",
       "                        if (nbb_cells[i].get_text() == nbb_unformatted_code) {\n",
       "                             nbb_cells[i].set_text(nbb_formatted_code);\n",
       "                        }\n",
       "                        break;\n",
       "                    }\n",
       "                }\n",
       "            }, 500);\n",
       "            "
      ],
      "text/plain": [
       "<IPython.core.display.Javascript object>"
      ]
     },
     "metadata": {},
     "output_type": "display_data"
    }
   ],
   "source": [
    "# Test different n values\n",
    "n_testA = len(groupA)\n",
    "n_testB = round(0.56203 * n_testA)\n",
    "\n",
    "return_ci(n_testA, n_testB)"
   ]
  },
  {
   "cell_type": "code",
   "execution_count": 63,
   "metadata": {
    "ExecuteTime": {
     "end_time": "2020-03-29T21:54:19.224359Z",
     "start_time": "2020-03-29T21:54:19.160811Z"
    }
   },
   "outputs": [
    {
     "name": "stdout",
     "output_type": "stream",
     "text": [
      "sample sizes:  175000 98355\n",
      "Interval for difference is: Between  0.088 and  0.192\n",
      "group B is greater\n",
      "\n",
      "\n",
      "sample sizes:  150000 84304\n",
      "Interval for difference is: Between  0.084 and  0.197\n",
      "group B is greater\n",
      "\n",
      "\n",
      "sample sizes:  125000 70254\n",
      "Interval for difference is: Between  0.079 and  0.202\n",
      "group B is greater\n",
      "\n",
      "\n",
      "sample sizes:  100000 56203\n",
      "Interval for difference is: Between  0.071 and  0.209\n",
      "group B is greater\n",
      "\n",
      "\n",
      "sample sizes:  75000 42152\n",
      "Interval for difference is: Between  0.061 and  0.220\n",
      "group B is greater\n",
      "\n",
      "\n",
      "sample sizes:  50000 28102\n",
      "Interval for difference is: Between  0.043 and  0.238\n",
      "group B is greater\n",
      "\n",
      "\n",
      "sample sizes:  25000 14051\n",
      "Interval for difference is: Between  0.003 and  0.278\n",
      "group B is greater\n",
      "\n",
      "\n",
      "sample sizes:  10000 5620\n",
      "Interval for difference is: Between  -0.078 and  0.358\n",
      "group B is greater\n",
      "\n",
      "\n"
     ]
    },
    {
     "data": {
      "application/javascript": [
       "\n",
       "            setTimeout(function() {\n",
       "                var nbb_cell_id = 63;\n",
       "                var nbb_unformatted_code = \"for test_size_a in [175000, 150000, 125000, 100000, 75000, 50000, 25000, 10000]:\\n    n_testA = test_size_a\\n    n_testB = round(0.56203 * n_testA)\\n    print(\\\"sample sizes: \\\", n_testA, n_testB)\\n    return_ci(n_testA, n_testB)\\n    print(\\\"\\\\n\\\")\";\n",
       "                var nbb_formatted_code = \"for test_size_a in [175000, 150000, 125000, 100000, 75000, 50000, 25000, 10000]:\\n    n_testA = test_size_a\\n    n_testB = round(0.56203 * n_testA)\\n    print(\\\"sample sizes: \\\", n_testA, n_testB)\\n    return_ci(n_testA, n_testB)\\n    print(\\\"\\\\n\\\")\";\n",
       "                var nbb_cells = Jupyter.notebook.get_cells();\n",
       "                for (var i = 0; i < nbb_cells.length; ++i) {\n",
       "                    if (nbb_cells[i].input_prompt_number == nbb_cell_id) {\n",
       "                        if (nbb_cells[i].get_text() == nbb_unformatted_code) {\n",
       "                             nbb_cells[i].set_text(nbb_formatted_code);\n",
       "                        }\n",
       "                        break;\n",
       "                    }\n",
       "                }\n",
       "            }, 500);\n",
       "            "
      ],
      "text/plain": [
       "<IPython.core.display.Javascript object>"
      ]
     },
     "metadata": {},
     "output_type": "display_data"
    }
   ],
   "source": [
    "for test_size_a in [175000, 150000, 125000, 100000, 75000, 50000, 25000, 10000]:\n",
    "    n_testA = test_size_a\n",
    "    n_testB = round(0.56203 * n_testA)\n",
    "    print(\"sample sizes: \", n_testA, n_testB)\n",
    "    return_ci(n_testA, n_testB)\n",
    "    print(\"\\n\")"
   ]
  },
  {
   "cell_type": "markdown",
   "metadata": {},
   "source": [
    "### Use a sample size for a desired margin of error\n",
    "\n",
    "(z * (est. of variability) / margin)^2\n"
   ]
  },
  {
   "cell_type": "code",
   "execution_count": null,
   "metadata": {},
   "outputs": [],
   "source": []
  },
  {
   "cell_type": "code",
   "execution_count": null,
   "metadata": {},
   "outputs": [],
   "source": [
    "# Using online calculator\n",
    "\n",
    "# Two-sided test: mu1=groupA_mean, mu2=groupB_mean, \"sigma\"=pooled_SE, alpha=.05\n",
    "\n",
    "\n",
    "# One-sided test: mu1=groupA_mean, mu2=groupB_mean, \"sigma\"=pooled_SE, alpha=.025\n",
    "\n"
   ]
  }
 ],
 "metadata": {
  "kernelspec": {
   "display_name": "Python 3",
   "language": "python",
   "name": "python3"
  },
  "language_info": {
   "codemirror_mode": {
    "name": "ipython",
    "version": 3
   },
   "file_extension": ".py",
   "mimetype": "text/x-python",
   "name": "python",
   "nbconvert_exporter": "python",
   "pygments_lexer": "ipython3",
   "version": "3.6.9"
  },
  "toc": {
   "base_numbering": 1,
   "nav_menu": {},
   "number_sections": true,
   "sideBar": true,
   "skip_h1_title": false,
   "title_cell": "Table of Contents",
   "title_sidebar": "Contents",
   "toc_cell": false,
   "toc_position": {},
   "toc_section_display": true,
   "toc_window_display": true
  },
  "varInspector": {
   "cols": {
    "lenName": 16,
    "lenType": 16,
    "lenVar": 40
   },
   "kernels_config": {
    "python": {
     "delete_cmd_postfix": "",
     "delete_cmd_prefix": "del ",
     "library": "var_list.py",
     "varRefreshCmd": "print(var_dic_list())"
    },
    "r": {
     "delete_cmd_postfix": ") ",
     "delete_cmd_prefix": "rm(",
     "library": "var_list.r",
     "varRefreshCmd": "cat(var_dic_list()) "
    }
   },
   "types_to_exclude": [
    "module",
    "function",
    "builtin_function_or_method",
    "instance",
    "_Feature"
   ],
   "window_display": false
  }
 },
 "nbformat": 4,
 "nbformat_minor": 2
}
