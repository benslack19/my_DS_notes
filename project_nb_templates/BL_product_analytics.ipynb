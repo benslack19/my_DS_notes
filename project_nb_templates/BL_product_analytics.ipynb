{
 "cells": [
  {
   "cell_type": "markdown",
   "metadata": {},
   "source": [
    "# Conversion rate\n",
    "\n",
    "by Ben Lacar\n",
    "3/3/20\n",
    "\n",
    "## Problem statement and goal\n",
    "\n",
    "You are working for an e-commerce company. The company wants to optimize the conversion rate for its website. Conversion refers to the action the company wants the user to take, which in this case is making a purchase. The conversion rate is simply the number of conversions divided by the total number of visitors the page receives.\n",
    "\n",
    "*Optimizing conversion rates is a very common task for a data scientist, and rightfully so. We are able to collect all sorts of data about people who buy something on our website as well as about people who don't. This gives us a tremendous opportunity to understand what's working well (and potentially scale it even further) and what's not working well (and fix it).*\n",
    "\n",
    "*In brief, the goal of this exercise is to explore the available data, build a model that predicts conversion rate and, based on the model, come up with ideas to improve revenue.\n",
    "The problem is very straightforward, there are no dates, no tables to join, no feature engineering required. This exercise is a great starting point to get familiar with the general structure of data challenges, which are a common part of interviews for Data Scientist roles.*"
   ]
  },
  {
   "cell_type": "markdown",
   "metadata": {},
   "source": [
    "## Exercise description\n",
    "\n",
    "We have data about users who hit our site. We know whether they converted or not, as well as some of their basic characteristics such as the country they’re in, the marketing channel that brought them to the site, their age, whether they are repeat users, and the number of pages visited during that session (as a proxy for site activity/time spent on the site).\n",
    "\n",
    "\n",
    "Your project is to:\n",
    "1. Perform Exploratory Data Analysis and produce 2-3 plots that show either important features or interesting patterns in the data. It is up to you what you want to highlight.\n",
    "2. Perform cohort analysis based on the source of the customer.\n",
    "3. Come up with recommendations for the product team and the marketing team to improve conversion rate."
   ]
  },
  {
   "cell_type": "markdown",
   "metadata": {},
   "source": [
    "## Description of features\n",
    "\n",
    "The table is called \"conversion_data\". It has information about signed-in users during one session.\n",
    "Each row is an individual user session.\n",
    "\n",
    "- country: user country based on the IP address\n",
    "- age: user age. Self-reported at sign-in step.\n",
    "- new_user: whether the user created the account during this session or had already an account and simply came back to the site\n",
    "- source: marketing channel source\n",
    "    - Ads: came to the site by clicking on an advertisement\n",
    "    - Seo: came to the site by clicking on search results\n",
    "    - Direct: came to the site by directly typing the URL on the browser\n",
    "- total_pages_visited: number of total pages visited during the session. This is a proxy for time spent on site and engagement during the session.\n",
    "- converted: this is our label. 1 means they converted within the session, 0 means they left without buying anything. The company goal is to increase conversion rate: # conversions / total sessions."
   ]
  },
  {
   "cell_type": "markdown",
   "metadata": {},
   "source": [
    "# Table of Contents\n",
    "- Initial Data Analysis\n",
    "- Data Wrangling\n",
    "- Exploratory Data Analysis\n",
    "- Cohort analysis\n",
    "- Questions/Answers + Methodology\n",
    "- Conclusions"
   ]
  },
  {
   "cell_type": "code",
   "execution_count": 1,
   "metadata": {
    "ExecuteTime": {
     "end_time": "2020-03-02T06:18:09.348033Z",
     "start_time": "2020-03-02T06:17:55.806827Z"
    }
   },
   "outputs": [],
   "source": [
    "# Import libraries\n",
    "import os\n",
    "import pandas as pd\n",
    "import numpy as np\n",
    "import matplotlib.pyplot as plt\n",
    "\n",
    "%matplotlib inline\n",
    "import seaborn as sns\n",
    "import pandas_profiling as pp\n",
    "import etsy_py\n",
    "from scipy.stats import shapiro\n",
    "from scipy.stats import skew\n",
    "from scipy.stats import kurtosis"
   ]
  },
  {
   "cell_type": "code",
   "execution_count": 2,
   "metadata": {
    "ExecuteTime": {
     "end_time": "2020-03-02T06:18:16.213435Z",
     "start_time": "2020-03-02T06:18:11.664321Z"
    }
   },
   "outputs": [],
   "source": [
    "# Stats\n",
    "from scipy.stats import mannwhitneyu\n",
    "from scipy.stats import ttest_ind\n",
    "import statsmodels.api as sm\n",
    "from statsmodels.formula.api import ols"
   ]
  },
  {
   "cell_type": "code",
   "execution_count": 3,
   "metadata": {
    "ExecuteTime": {
     "end_time": "2020-03-02T06:18:19.704294Z",
     "start_time": "2020-03-02T06:18:19.021642Z"
    }
   },
   "outputs": [
    {
     "data": {
      "application/javascript": [
       "\n",
       "            setTimeout(function() {\n",
       "                var nbb_cell_id = 3;\n",
       "                var nbb_unformatted_code = \"# Code formatting Jupyter black\\n%load_ext nb_black\";\n",
       "                var nbb_formatted_code = \"# Code formatting Jupyter black\\n%load_ext nb_black\";\n",
       "                var nbb_cells = Jupyter.notebook.get_cells();\n",
       "                for (var i = 0; i < nbb_cells.length; ++i) {\n",
       "                    if (nbb_cells[i].input_prompt_number == nbb_cell_id) {\n",
       "                        if (nbb_cells[i].get_text() == nbb_unformatted_code) {\n",
       "                             nbb_cells[i].set_text(nbb_formatted_code);\n",
       "                        }\n",
       "                        break;\n",
       "                    }\n",
       "                }\n",
       "            }, 500);\n",
       "            "
      ],
      "text/plain": [
       "<IPython.core.display.Javascript object>"
      ]
     },
     "metadata": {},
     "output_type": "display_data"
    }
   ],
   "source": [
    "# Code formatting Jupyter black\n",
    "%load_ext nb_black"
   ]
  },
  {
   "cell_type": "code",
   "execution_count": 4,
   "metadata": {
    "ExecuteTime": {
     "end_time": "2020-03-02T06:18:20.353989Z",
     "start_time": "2020-03-02T06:18:20.338730Z"
    }
   },
   "outputs": [
    {
     "data": {
      "application/javascript": [
       "\n",
       "            setTimeout(function() {\n",
       "                var nbb_cell_id = 4;\n",
       "                var nbb_unformatted_code = \"# Termcolor\\nfrom termcolor import colored\";\n",
       "                var nbb_formatted_code = \"# Termcolor\\nfrom termcolor import colored\";\n",
       "                var nbb_cells = Jupyter.notebook.get_cells();\n",
       "                for (var i = 0; i < nbb_cells.length; ++i) {\n",
       "                    if (nbb_cells[i].input_prompt_number == nbb_cell_id) {\n",
       "                        if (nbb_cells[i].get_text() == nbb_unformatted_code) {\n",
       "                             nbb_cells[i].set_text(nbb_formatted_code);\n",
       "                        }\n",
       "                        break;\n",
       "                    }\n",
       "                }\n",
       "            }, 500);\n",
       "            "
      ],
      "text/plain": [
       "<IPython.core.display.Javascript object>"
      ]
     },
     "metadata": {},
     "output_type": "display_data"
    }
   ],
   "source": [
    "# Termcolor\n",
    "from termcolor import colored"
   ]
  },
  {
   "cell_type": "markdown",
   "metadata": {},
   "source": [
    "# Initial Data Analysis"
   ]
  },
  {
   "cell_type": "code",
   "execution_count": 18,
   "metadata": {
    "ExecuteTime": {
     "end_time": "2020-03-02T15:44:31.074319Z",
     "start_time": "2020-03-02T15:44:30.898743Z"
    },
    "code_folding": [
     0
    ]
   },
   "outputs": [
    {
     "data": {
      "application/javascript": [
       "\n",
       "            setTimeout(function() {\n",
       "                var nbb_cell_id = 18;\n",
       "                var nbb_unformatted_code = \"def initial_analysis(df):\\n    \\\"\\\"\\\"\\n    Given a dataframe produces a simple report on initial data analytics\\n    Params:\\n        - df \\n    Returns:\\n        - Shape of dataframe records and columns\\n        - Columns and data types\\n    \\\"\\\"\\\"\\n    print(\\\"Report of Initial Data Analysis:\\\\n\\\")\\n    print(f\\\"Shape of dataframe: {df.shape}\\\")\\n    print(f\\\"Features and Data Types: \\\\n {df.dtypes}\\\")\";\n",
       "                var nbb_formatted_code = \"def initial_analysis(df):\\n    \\\"\\\"\\\"\\n    Given a dataframe produces a simple report on initial data analytics\\n    Params:\\n        - df \\n    Returns:\\n        - Shape of dataframe records and columns\\n        - Columns and data types\\n    \\\"\\\"\\\"\\n    print(\\\"Report of Initial Data Analysis:\\\\n\\\")\\n    print(f\\\"Shape of dataframe: {df.shape}\\\")\\n    print(f\\\"Features and Data Types: \\\\n {df.dtypes}\\\")\";\n",
       "                var nbb_cells = Jupyter.notebook.get_cells();\n",
       "                for (var i = 0; i < nbb_cells.length; ++i) {\n",
       "                    if (nbb_cells[i].input_prompt_number == nbb_cell_id) {\n",
       "                        if (nbb_cells[i].get_text() == nbb_unformatted_code) {\n",
       "                             nbb_cells[i].set_text(nbb_formatted_code);\n",
       "                        }\n",
       "                        break;\n",
       "                    }\n",
       "                }\n",
       "            }, 500);\n",
       "            "
      ],
      "text/plain": [
       "<IPython.core.display.Javascript object>"
      ]
     },
     "metadata": {},
     "output_type": "display_data"
    }
   ],
   "source": [
    "def initial_analysis(df):\n",
    "    \"\"\"\n",
    "    Given a dataframe produces a simple report on initial data analytics\n",
    "    Params:\n",
    "        - df \n",
    "    Returns:\n",
    "        - Shape of dataframe records and columns\n",
    "        - Columns and data types\n",
    "    \"\"\"\n",
    "    print(\"Report of Initial Data Analysis:\\n\")\n",
    "    print(f\"Shape of dataframe: {df.shape}\")\n",
    "    print(f\"Features and Data Types: \\n {df.dtypes}\")"
   ]
  },
  {
   "cell_type": "code",
   "execution_count": 19,
   "metadata": {
    "ExecuteTime": {
     "end_time": "2020-03-02T15:44:31.428674Z",
     "start_time": "2020-03-02T15:44:31.390663Z"
    },
    "code_folding": [
     0
    ]
   },
   "outputs": [
    {
     "data": {
      "application/javascript": [
       "\n",
       "            setTimeout(function() {\n",
       "                var nbb_cell_id = 19;\n",
       "                var nbb_unformatted_code = \"def percent_missing(df):\\n    \\\"\\\"\\\"\\n    Given a dataframe it calculates the percentage of missing records per column\\n    Params:\\n        - df\\n    Returns:\\n        - Dictionary of column name and percentage of missing records\\n    \\\"\\\"\\\"\\n    col = list(df.columns)\\n    perc = [round(df[c].isna().mean() * 100, 2) for c in col]\\n    miss_dict = dict(zip(col, perc))\\n    return miss_dict\";\n",
       "                var nbb_formatted_code = \"def percent_missing(df):\\n    \\\"\\\"\\\"\\n    Given a dataframe it calculates the percentage of missing records per column\\n    Params:\\n        - df\\n    Returns:\\n        - Dictionary of column name and percentage of missing records\\n    \\\"\\\"\\\"\\n    col = list(df.columns)\\n    perc = [round(df[c].isna().mean() * 100, 2) for c in col]\\n    miss_dict = dict(zip(col, perc))\\n    return miss_dict\";\n",
       "                var nbb_cells = Jupyter.notebook.get_cells();\n",
       "                for (var i = 0; i < nbb_cells.length; ++i) {\n",
       "                    if (nbb_cells[i].input_prompt_number == nbb_cell_id) {\n",
       "                        if (nbb_cells[i].get_text() == nbb_unformatted_code) {\n",
       "                             nbb_cells[i].set_text(nbb_formatted_code);\n",
       "                        }\n",
       "                        break;\n",
       "                    }\n",
       "                }\n",
       "            }, 500);\n",
       "            "
      ],
      "text/plain": [
       "<IPython.core.display.Javascript object>"
      ]
     },
     "metadata": {},
     "output_type": "display_data"
    }
   ],
   "source": [
    "def percent_missing(df):\n",
    "    \"\"\"\n",
    "    Given a dataframe it calculates the percentage of missing records per column\n",
    "    Params:\n",
    "        - df\n",
    "    Returns:\n",
    "        - Dictionary of column name and percentage of missing records\n",
    "    \"\"\"\n",
    "    col = list(df.columns)\n",
    "    perc = [round(df[c].isna().mean() * 100, 2) for c in col]\n",
    "    miss_dict = dict(zip(col, perc))\n",
    "    return miss_dict"
   ]
  },
  {
   "cell_type": "code",
   "execution_count": 20,
   "metadata": {
    "ExecuteTime": {
     "end_time": "2020-03-02T15:44:32.683402Z",
     "start_time": "2020-03-02T15:44:32.403156Z"
    },
    "code_folding": []
   },
   "outputs": [
    {
     "data": {
      "application/javascript": [
       "\n",
       "            setTimeout(function() {\n",
       "                var nbb_cell_id = 20;\n",
       "                var nbb_unformatted_code = \"def normality_test(df, col_list):\\n    \\\"\\\"\\\"\\n    Given a dataframe determines whether each numerical column is Gaussian \\n    Ho = Assumes distribution is not Gaussian\\n    Ha = Assumes distribution is Gaussian\\n    Params:\\n        - df\\n    Returns:\\n        - W Statistic\\n        - p-value\\n        - List of columns that do not have gaussian distribution\\n    \\\"\\\"\\\"\\n    non_gauss = []\\n    w_stat = []\\n    # Determine if each sample of numerical feature is gaussian\\n    alpha = 0.05\\n    for n in numeric_list:\\n        stat, p = shapiro(df[n])\\n        print(sns.distplot(df[n]))\\n        print(tuple(skew(df[n]), kurtosis(df[n])))\\n\\n        if p <= alpha:  # Reject Ho -- Distribution is not normal\\n            non_gauss.append(n)\\n            w_stat.append(stat)\\n    # Dictionary of numerical features not gaussian and W-Statistic\\n    norm_dict = dict(zip(non_gauss, w_stat))\\n    return norm_dict\";\n",
       "                var nbb_formatted_code = \"def normality_test(df, col_list):\\n    \\\"\\\"\\\"\\n    Given a dataframe determines whether each numerical column is Gaussian \\n    Ho = Assumes distribution is not Gaussian\\n    Ha = Assumes distribution is Gaussian\\n    Params:\\n        - df\\n    Returns:\\n        - W Statistic\\n        - p-value\\n        - List of columns that do not have gaussian distribution\\n    \\\"\\\"\\\"\\n    non_gauss = []\\n    w_stat = []\\n    # Determine if each sample of numerical feature is gaussian\\n    alpha = 0.05\\n    for n in numeric_list:\\n        stat, p = shapiro(df[n])\\n        print(sns.distplot(df[n]))\\n        print(tuple(skew(df[n]), kurtosis(df[n])))\\n\\n        if p <= alpha:  # Reject Ho -- Distribution is not normal\\n            non_gauss.append(n)\\n            w_stat.append(stat)\\n    # Dictionary of numerical features not gaussian and W-Statistic\\n    norm_dict = dict(zip(non_gauss, w_stat))\\n    return norm_dict\";\n",
       "                var nbb_cells = Jupyter.notebook.get_cells();\n",
       "                for (var i = 0; i < nbb_cells.length; ++i) {\n",
       "                    if (nbb_cells[i].input_prompt_number == nbb_cell_id) {\n",
       "                        if (nbb_cells[i].get_text() == nbb_unformatted_code) {\n",
       "                             nbb_cells[i].set_text(nbb_formatted_code);\n",
       "                        }\n",
       "                        break;\n",
       "                    }\n",
       "                }\n",
       "            }, 500);\n",
       "            "
      ],
      "text/plain": [
       "<IPython.core.display.Javascript object>"
      ]
     },
     "metadata": {},
     "output_type": "display_data"
    }
   ],
   "source": [
    "def normality_test(df, col_list):\n",
    "    \"\"\"\n",
    "    Given a dataframe determines whether each numerical column is Gaussian \n",
    "    Ho = Assumes distribution is not Gaussian\n",
    "    Ha = Assumes distribution is Gaussian\n",
    "    Params:\n",
    "        - df\n",
    "    Returns:\n",
    "        - W Statistic\n",
    "        - p-value\n",
    "        - List of columns that do not have gaussian distribution\n",
    "    \"\"\"\n",
    "    non_gauss = []\n",
    "    w_stat = []\n",
    "    # Determine if each sample of numerical feature is gaussian\n",
    "    alpha = 0.05\n",
    "    for n in numeric_list:\n",
    "        stat, p = shapiro(df[n])\n",
    "        print(sns.distplot(df[n]))\n",
    "        print(tuple(skew(df[n]), kurtosis(df[n])))\n",
    "\n",
    "        if p <= alpha:  # Reject Ho -- Distribution is not normal\n",
    "            non_gauss.append(n)\n",
    "            w_stat.append(stat)\n",
    "    # Dictionary of numerical features not gaussian and W-Statistic\n",
    "    norm_dict = dict(zip(non_gauss, w_stat))\n",
    "    return norm_dict"
   ]
  },
  {
   "cell_type": "code",
   "execution_count": 21,
   "metadata": {
    "ExecuteTime": {
     "end_time": "2020-03-02T15:44:33.898651Z",
     "start_time": "2020-03-02T15:44:33.888719Z"
    }
   },
   "outputs": [
    {
     "data": {
      "text/plain": [
       "['Conversion Rate.pdf',\n",
       " '.DS_Store',\n",
       " 'Lacar_Ben_dc3_product_analytics.ipynb',\n",
       " 'conversion_data.csv',\n",
       " '.ipynb_checkpoints']"
      ]
     },
     "execution_count": 21,
     "metadata": {},
     "output_type": "execute_result"
    },
    {
     "data": {
      "application/javascript": [
       "\n",
       "            setTimeout(function() {\n",
       "                var nbb_cell_id = 21;\n",
       "                var nbb_unformatted_code = \"os.listdir()\";\n",
       "                var nbb_formatted_code = \"os.listdir()\";\n",
       "                var nbb_cells = Jupyter.notebook.get_cells();\n",
       "                for (var i = 0; i < nbb_cells.length; ++i) {\n",
       "                    if (nbb_cells[i].input_prompt_number == nbb_cell_id) {\n",
       "                        if (nbb_cells[i].get_text() == nbb_unformatted_code) {\n",
       "                             nbb_cells[i].set_text(nbb_formatted_code);\n",
       "                        }\n",
       "                        break;\n",
       "                    }\n",
       "                }\n",
       "            }, 500);\n",
       "            "
      ],
      "text/plain": [
       "<IPython.core.display.Javascript object>"
      ]
     },
     "metadata": {},
     "output_type": "display_data"
    }
   ],
   "source": [
    "os.listdir()"
   ]
  },
  {
   "cell_type": "code",
   "execution_count": 22,
   "metadata": {
    "ExecuteTime": {
     "end_time": "2020-03-02T15:44:34.218186Z",
     "start_time": "2020-03-02T15:44:33.919210Z"
    }
   },
   "outputs": [
    {
     "data": {
      "text/html": [
       "<div>\n",
       "<style scoped>\n",
       "    .dataframe tbody tr th:only-of-type {\n",
       "        vertical-align: middle;\n",
       "    }\n",
       "\n",
       "    .dataframe tbody tr th {\n",
       "        vertical-align: top;\n",
       "    }\n",
       "\n",
       "    .dataframe thead th {\n",
       "        text-align: right;\n",
       "    }\n",
       "</style>\n",
       "<table border=\"1\" class=\"dataframe\">\n",
       "  <thead>\n",
       "    <tr style=\"text-align: right;\">\n",
       "      <th></th>\n",
       "      <th>country</th>\n",
       "      <th>age</th>\n",
       "      <th>new_user</th>\n",
       "      <th>source</th>\n",
       "      <th>total_pages_visited</th>\n",
       "      <th>converted</th>\n",
       "    </tr>\n",
       "  </thead>\n",
       "  <tbody>\n",
       "    <tr>\n",
       "      <th>0</th>\n",
       "      <td>UK</td>\n",
       "      <td>25</td>\n",
       "      <td>1</td>\n",
       "      <td>Ads</td>\n",
       "      <td>1</td>\n",
       "      <td>0</td>\n",
       "    </tr>\n",
       "    <tr>\n",
       "      <th>1</th>\n",
       "      <td>US</td>\n",
       "      <td>23</td>\n",
       "      <td>1</td>\n",
       "      <td>Seo</td>\n",
       "      <td>5</td>\n",
       "      <td>0</td>\n",
       "    </tr>\n",
       "    <tr>\n",
       "      <th>2</th>\n",
       "      <td>US</td>\n",
       "      <td>28</td>\n",
       "      <td>1</td>\n",
       "      <td>Seo</td>\n",
       "      <td>4</td>\n",
       "      <td>0</td>\n",
       "    </tr>\n",
       "    <tr>\n",
       "      <th>3</th>\n",
       "      <td>China</td>\n",
       "      <td>39</td>\n",
       "      <td>1</td>\n",
       "      <td>Seo</td>\n",
       "      <td>5</td>\n",
       "      <td>0</td>\n",
       "    </tr>\n",
       "    <tr>\n",
       "      <th>4</th>\n",
       "      <td>US</td>\n",
       "      <td>30</td>\n",
       "      <td>1</td>\n",
       "      <td>Seo</td>\n",
       "      <td>6</td>\n",
       "      <td>0</td>\n",
       "    </tr>\n",
       "  </tbody>\n",
       "</table>\n",
       "</div>"
      ],
      "text/plain": [
       "  country  age  new_user source  total_pages_visited  converted\n",
       "0      UK   25         1    Ads                    1          0\n",
       "1      US   23         1    Seo                    5          0\n",
       "2      US   28         1    Seo                    4          0\n",
       "3   China   39         1    Seo                    5          0\n",
       "4      US   30         1    Seo                    6          0"
      ]
     },
     "execution_count": 22,
     "metadata": {},
     "output_type": "execute_result"
    },
    {
     "data": {
      "application/javascript": [
       "\n",
       "            setTimeout(function() {\n",
       "                var nbb_cell_id = 22;\n",
       "                var nbb_unformatted_code = \"# Load data\\ndf_conv = pd.read_csv(\\\"conversion_data.csv\\\")  # , delimiter=\\\",\\\", index_col=0)\\ndf_conv.head()\";\n",
       "                var nbb_formatted_code = \"# Load data\\ndf_conv = pd.read_csv(\\\"conversion_data.csv\\\")  # , delimiter=\\\",\\\", index_col=0)\\ndf_conv.head()\";\n",
       "                var nbb_cells = Jupyter.notebook.get_cells();\n",
       "                for (var i = 0; i < nbb_cells.length; ++i) {\n",
       "                    if (nbb_cells[i].input_prompt_number == nbb_cell_id) {\n",
       "                        if (nbb_cells[i].get_text() == nbb_unformatted_code) {\n",
       "                             nbb_cells[i].set_text(nbb_formatted_code);\n",
       "                        }\n",
       "                        break;\n",
       "                    }\n",
       "                }\n",
       "            }, 500);\n",
       "            "
      ],
      "text/plain": [
       "<IPython.core.display.Javascript object>"
      ]
     },
     "metadata": {},
     "output_type": "display_data"
    }
   ],
   "source": [
    "# Load data\n",
    "df_conv = pd.read_csv(\"conversion_data.csv\")  # , delimiter=\",\", index_col=0)\n",
    "df_conv.head()"
   ]
  },
  {
   "cell_type": "code",
   "execution_count": 10,
   "metadata": {
    "ExecuteTime": {
     "end_time": "2020-03-02T06:20:05.469078Z",
     "start_time": "2020-03-02T06:20:05.458686Z"
    }
   },
   "outputs": [
    {
     "name": "stdout",
     "output_type": "stream",
     "text": [
      "Report of Initial Data Analysis:\n",
      "\n",
      "Shape of dataframe: (316200, 6)\n",
      "Features and Data Types: \n",
      " country                object\n",
      "age                     int64\n",
      "new_user                int64\n",
      "source                 object\n",
      "total_pages_visited     int64\n",
      "converted               int64\n",
      "dtype: object\n"
     ]
    },
    {
     "data": {
      "application/javascript": [
       "\n",
       "            setTimeout(function() {\n",
       "                var nbb_cell_id = 10;\n",
       "                var nbb_unformatted_code = \"initial_analysis(df_conv)\";\n",
       "                var nbb_formatted_code = \"initial_analysis(df_conv)\";\n",
       "                var nbb_cells = Jupyter.notebook.get_cells();\n",
       "                for (var i = 0; i < nbb_cells.length; ++i) {\n",
       "                    if (nbb_cells[i].input_prompt_number == nbb_cell_id) {\n",
       "                        if (nbb_cells[i].get_text() == nbb_unformatted_code) {\n",
       "                             nbb_cells[i].set_text(nbb_formatted_code);\n",
       "                        }\n",
       "                        break;\n",
       "                    }\n",
       "                }\n",
       "            }, 500);\n",
       "            "
      ],
      "text/plain": [
       "<IPython.core.display.Javascript object>"
      ]
     },
     "metadata": {},
     "output_type": "display_data"
    }
   ],
   "source": [
    "initial_analysis(df_conv)"
   ]
  },
  {
   "cell_type": "code",
   "execution_count": 11,
   "metadata": {
    "ExecuteTime": {
     "end_time": "2020-03-02T06:20:19.288779Z",
     "start_time": "2020-03-02T06:20:19.253233Z"
    }
   },
   "outputs": [
    {
     "data": {
      "text/plain": [
       "{'country': 0.0,\n",
       " 'age': 0.0,\n",
       " 'new_user': 0.0,\n",
       " 'source': 0.0,\n",
       " 'total_pages_visited': 0.0,\n",
       " 'converted': 0.0}"
      ]
     },
     "execution_count": 11,
     "metadata": {},
     "output_type": "execute_result"
    },
    {
     "data": {
      "application/javascript": [
       "\n",
       "            setTimeout(function() {\n",
       "                var nbb_cell_id = 11;\n",
       "                var nbb_unformatted_code = \"percent_missing(df_conv)\";\n",
       "                var nbb_formatted_code = \"percent_missing(df_conv)\";\n",
       "                var nbb_cells = Jupyter.notebook.get_cells();\n",
       "                for (var i = 0; i < nbb_cells.length; ++i) {\n",
       "                    if (nbb_cells[i].input_prompt_number == nbb_cell_id) {\n",
       "                        if (nbb_cells[i].get_text() == nbb_unformatted_code) {\n",
       "                             nbb_cells[i].set_text(nbb_formatted_code);\n",
       "                        }\n",
       "                        break;\n",
       "                    }\n",
       "                }\n",
       "            }, 500);\n",
       "            "
      ],
      "text/plain": [
       "<IPython.core.display.Javascript object>"
      ]
     },
     "metadata": {},
     "output_type": "display_data"
    }
   ],
   "source": [
    "percent_missing(df_conv)"
   ]
  },
  {
   "cell_type": "markdown",
   "metadata": {},
   "source": [
    "# Data Wrangling"
   ]
  },
  {
   "cell_type": "markdown",
   "metadata": {},
   "source": [
    "## Check for duplicates"
   ]
  },
  {
   "cell_type": "code",
   "execution_count": 12,
   "metadata": {
    "ExecuteTime": {
     "end_time": "2020-03-02T06:20:24.766554Z",
     "start_time": "2020-03-02T06:20:24.630026Z"
    }
   },
   "outputs": [
    {
     "data": {
      "text/plain": [
       "0         False\n",
       "1         False\n",
       "2         False\n",
       "3         False\n",
       "4         False\n",
       "          ...  \n",
       "316195     True\n",
       "316196     True\n",
       "316197     True\n",
       "316198     True\n",
       "316199     True\n",
       "Length: 316200, dtype: bool"
      ]
     },
     "execution_count": 12,
     "metadata": {},
     "output_type": "execute_result"
    },
    {
     "data": {
      "application/javascript": [
       "\n",
       "            setTimeout(function() {\n",
       "                var nbb_cell_id = 12;\n",
       "                var nbb_unformatted_code = \"df_conv.duplicated()\";\n",
       "                var nbb_formatted_code = \"df_conv.duplicated()\";\n",
       "                var nbb_cells = Jupyter.notebook.get_cells();\n",
       "                for (var i = 0; i < nbb_cells.length; ++i) {\n",
       "                    if (nbb_cells[i].input_prompt_number == nbb_cell_id) {\n",
       "                        if (nbb_cells[i].get_text() == nbb_unformatted_code) {\n",
       "                             nbb_cells[i].set_text(nbb_formatted_code);\n",
       "                        }\n",
       "                        break;\n",
       "                    }\n",
       "                }\n",
       "            }, 500);\n",
       "            "
      ],
      "text/plain": [
       "<IPython.core.display.Javascript object>"
      ]
     },
     "metadata": {},
     "output_type": "display_data"
    }
   ],
   "source": [
    "df_conv.duplicated()"
   ]
  },
  {
   "cell_type": "code",
   "execution_count": 15,
   "metadata": {
    "ExecuteTime": {
     "end_time": "2020-03-02T06:21:38.038286Z",
     "start_time": "2020-03-02T06:21:37.950553Z"
    }
   },
   "outputs": [
    {
     "data": {
      "text/plain": [
       "299903"
      ]
     },
     "execution_count": 15,
     "metadata": {},
     "output_type": "execute_result"
    },
    {
     "data": {
      "application/javascript": [
       "\n",
       "            setTimeout(function() {\n",
       "                var nbb_cell_id = 15;\n",
       "                var nbb_unformatted_code = \"df_conv.duplicated().sum()\";\n",
       "                var nbb_formatted_code = \"df_conv.duplicated().sum()\";\n",
       "                var nbb_cells = Jupyter.notebook.get_cells();\n",
       "                for (var i = 0; i < nbb_cells.length; ++i) {\n",
       "                    if (nbb_cells[i].input_prompt_number == nbb_cell_id) {\n",
       "                        if (nbb_cells[i].get_text() == nbb_unformatted_code) {\n",
       "                             nbb_cells[i].set_text(nbb_formatted_code);\n",
       "                        }\n",
       "                        break;\n",
       "                    }\n",
       "                }\n",
       "            }, 500);\n",
       "            "
      ],
      "text/plain": [
       "<IPython.core.display.Javascript object>"
      ]
     },
     "metadata": {},
     "output_type": "display_data"
    }
   ],
   "source": [
    "df_conv.duplicated().sum()"
   ]
  },
  {
   "cell_type": "code",
   "execution_count": 13,
   "metadata": {
    "ExecuteTime": {
     "end_time": "2020-03-02T06:20:31.341028Z",
     "start_time": "2020-03-02T06:20:31.327338Z"
    }
   },
   "outputs": [
    {
     "data": {
      "text/html": [
       "<div>\n",
       "<style scoped>\n",
       "    .dataframe tbody tr th:only-of-type {\n",
       "        vertical-align: middle;\n",
       "    }\n",
       "\n",
       "    .dataframe tbody tr th {\n",
       "        vertical-align: top;\n",
       "    }\n",
       "\n",
       "    .dataframe thead th {\n",
       "        text-align: right;\n",
       "    }\n",
       "</style>\n",
       "<table border=\"1\" class=\"dataframe\">\n",
       "  <thead>\n",
       "    <tr style=\"text-align: right;\">\n",
       "      <th></th>\n",
       "      <th>country</th>\n",
       "      <th>age</th>\n",
       "      <th>new_user</th>\n",
       "      <th>source</th>\n",
       "      <th>total_pages_visited</th>\n",
       "      <th>converted</th>\n",
       "    </tr>\n",
       "  </thead>\n",
       "  <tbody>\n",
       "    <tr>\n",
       "      <th>0</th>\n",
       "      <td>UK</td>\n",
       "      <td>25</td>\n",
       "      <td>1</td>\n",
       "      <td>Ads</td>\n",
       "      <td>1</td>\n",
       "      <td>0</td>\n",
       "    </tr>\n",
       "    <tr>\n",
       "      <th>1</th>\n",
       "      <td>US</td>\n",
       "      <td>23</td>\n",
       "      <td>1</td>\n",
       "      <td>Seo</td>\n",
       "      <td>5</td>\n",
       "      <td>0</td>\n",
       "    </tr>\n",
       "    <tr>\n",
       "      <th>2</th>\n",
       "      <td>US</td>\n",
       "      <td>28</td>\n",
       "      <td>1</td>\n",
       "      <td>Seo</td>\n",
       "      <td>4</td>\n",
       "      <td>0</td>\n",
       "    </tr>\n",
       "    <tr>\n",
       "      <th>3</th>\n",
       "      <td>China</td>\n",
       "      <td>39</td>\n",
       "      <td>1</td>\n",
       "      <td>Seo</td>\n",
       "      <td>5</td>\n",
       "      <td>0</td>\n",
       "    </tr>\n",
       "    <tr>\n",
       "      <th>4</th>\n",
       "      <td>US</td>\n",
       "      <td>30</td>\n",
       "      <td>1</td>\n",
       "      <td>Seo</td>\n",
       "      <td>6</td>\n",
       "      <td>0</td>\n",
       "    </tr>\n",
       "  </tbody>\n",
       "</table>\n",
       "</div>"
      ],
      "text/plain": [
       "  country  age  new_user source  total_pages_visited  converted\n",
       "0      UK   25         1    Ads                    1          0\n",
       "1      US   23         1    Seo                    5          0\n",
       "2      US   28         1    Seo                    4          0\n",
       "3   China   39         1    Seo                    5          0\n",
       "4      US   30         1    Seo                    6          0"
      ]
     },
     "execution_count": 13,
     "metadata": {},
     "output_type": "execute_result"
    },
    {
     "data": {
      "application/javascript": [
       "\n",
       "            setTimeout(function() {\n",
       "                var nbb_cell_id = 13;\n",
       "                var nbb_unformatted_code = \"# Duplicates are not always next to each other\\ndf_conv.head()\";\n",
       "                var nbb_formatted_code = \"# Duplicates are not always next to each other\\ndf_conv.head()\";\n",
       "                var nbb_cells = Jupyter.notebook.get_cells();\n",
       "                for (var i = 0; i < nbb_cells.length; ++i) {\n",
       "                    if (nbb_cells[i].input_prompt_number == nbb_cell_id) {\n",
       "                        if (nbb_cells[i].get_text() == nbb_unformatted_code) {\n",
       "                             nbb_cells[i].set_text(nbb_formatted_code);\n",
       "                        }\n",
       "                        break;\n",
       "                    }\n",
       "                }\n",
       "            }, 500);\n",
       "            "
      ],
      "text/plain": [
       "<IPython.core.display.Javascript object>"
      ]
     },
     "metadata": {},
     "output_type": "display_data"
    }
   ],
   "source": [
    "# Duplicates are not always next to each other\n",
    "df_conv.head()"
   ]
  },
  {
   "cell_type": "code",
   "execution_count": 16,
   "metadata": {
    "ExecuteTime": {
     "end_time": "2020-03-02T15:25:59.841498Z",
     "start_time": "2020-03-02T15:25:59.543188Z"
    }
   },
   "outputs": [
    {
     "data": {
      "text/html": [
       "<div>\n",
       "<style scoped>\n",
       "    .dataframe tbody tr th:only-of-type {\n",
       "        vertical-align: middle;\n",
       "    }\n",
       "\n",
       "    .dataframe tbody tr th {\n",
       "        vertical-align: top;\n",
       "    }\n",
       "\n",
       "    .dataframe thead th {\n",
       "        text-align: right;\n",
       "    }\n",
       "</style>\n",
       "<table border=\"1\" class=\"dataframe\">\n",
       "  <thead>\n",
       "    <tr style=\"text-align: right;\">\n",
       "      <th></th>\n",
       "      <th>country</th>\n",
       "      <th>age</th>\n",
       "      <th>new_user</th>\n",
       "      <th>source</th>\n",
       "      <th>total_pages_visited</th>\n",
       "      <th>converted</th>\n",
       "    </tr>\n",
       "  </thead>\n",
       "  <tbody>\n",
       "    <tr>\n",
       "      <th>316195</th>\n",
       "      <td>US</td>\n",
       "      <td>26</td>\n",
       "      <td>1</td>\n",
       "      <td>Ads</td>\n",
       "      <td>9</td>\n",
       "      <td>0</td>\n",
       "    </tr>\n",
       "    <tr>\n",
       "      <th>316196</th>\n",
       "      <td>US</td>\n",
       "      <td>27</td>\n",
       "      <td>1</td>\n",
       "      <td>Direct</td>\n",
       "      <td>6</td>\n",
       "      <td>0</td>\n",
       "    </tr>\n",
       "    <tr>\n",
       "      <th>316197</th>\n",
       "      <td>China</td>\n",
       "      <td>25</td>\n",
       "      <td>0</td>\n",
       "      <td>Ads</td>\n",
       "      <td>4</td>\n",
       "      <td>0</td>\n",
       "    </tr>\n",
       "    <tr>\n",
       "      <th>316198</th>\n",
       "      <td>US</td>\n",
       "      <td>22</td>\n",
       "      <td>0</td>\n",
       "      <td>Seo</td>\n",
       "      <td>4</td>\n",
       "      <td>0</td>\n",
       "    </tr>\n",
       "    <tr>\n",
       "      <th>316199</th>\n",
       "      <td>UK</td>\n",
       "      <td>24</td>\n",
       "      <td>0</td>\n",
       "      <td>Ads</td>\n",
       "      <td>4</td>\n",
       "      <td>0</td>\n",
       "    </tr>\n",
       "  </tbody>\n",
       "</table>\n",
       "</div>"
      ],
      "text/plain": [
       "       country  age  new_user  source  total_pages_visited  converted\n",
       "316195      US   26         1     Ads                    9          0\n",
       "316196      US   27         1  Direct                    6          0\n",
       "316197   China   25         0     Ads                    4          0\n",
       "316198      US   22         0     Seo                    4          0\n",
       "316199      UK   24         0     Ads                    4          0"
      ]
     },
     "execution_count": 16,
     "metadata": {},
     "output_type": "execute_result"
    },
    {
     "data": {
      "application/javascript": [
       "\n",
       "            setTimeout(function() {\n",
       "                var nbb_cell_id = 16;\n",
       "                var nbb_unformatted_code = \"df_conv.tail()\";\n",
       "                var nbb_formatted_code = \"df_conv.tail()\";\n",
       "                var nbb_cells = Jupyter.notebook.get_cells();\n",
       "                for (var i = 0; i < nbb_cells.length; ++i) {\n",
       "                    if (nbb_cells[i].input_prompt_number == nbb_cell_id) {\n",
       "                        if (nbb_cells[i].get_text() == nbb_unformatted_code) {\n",
       "                             nbb_cells[i].set_text(nbb_formatted_code);\n",
       "                        }\n",
       "                        break;\n",
       "                    }\n",
       "                }\n",
       "            }, 500);\n",
       "            "
      ],
      "text/plain": [
       "<IPython.core.display.Javascript object>"
      ]
     },
     "metadata": {},
     "output_type": "display_data"
    }
   ],
   "source": [
    "df_conv.tail()"
   ]
  },
  {
   "cell_type": "code",
   "execution_count": 23,
   "metadata": {
    "ExecuteTime": {
     "end_time": "2020-03-02T15:44:49.029636Z",
     "start_time": "2020-03-02T15:44:48.923943Z"
    }
   },
   "outputs": [
    {
     "name": "stdout",
     "output_type": "stream",
     "text": [
      "\u001b[7m\u001b[31m299903 rows (94.85 %) are duplicates\u001b[0m\n"
     ]
    },
    {
     "data": {
      "application/javascript": [
       "\n",
       "            setTimeout(function() {\n",
       "                var nbb_cell_id = 23;\n",
       "                var nbb_unformatted_code = \"# duplicate rows\\nnumber_duplicate_rows = df_conv.duplicated().value_counts().loc[True]\\npercent_duplicate_rows = number_duplicate_rows / len(df_conv.index) * 100\\n\\ntext = colored(\\n    \\\"%d rows (%.2f %%) are duplicates\\\"\\n    % (number_duplicate_rows, percent_duplicate_rows),\\n    \\\"red\\\",\\n    attrs=[\\\"reverse\\\"],\\n)\\nprint(text)\";\n",
       "                var nbb_formatted_code = \"# duplicate rows\\nnumber_duplicate_rows = df_conv.duplicated().value_counts().loc[True]\\npercent_duplicate_rows = number_duplicate_rows / len(df_conv.index) * 100\\n\\ntext = colored(\\n    \\\"%d rows (%.2f %%) are duplicates\\\"\\n    % (number_duplicate_rows, percent_duplicate_rows),\\n    \\\"red\\\",\\n    attrs=[\\\"reverse\\\"],\\n)\\nprint(text)\";\n",
       "                var nbb_cells = Jupyter.notebook.get_cells();\n",
       "                for (var i = 0; i < nbb_cells.length; ++i) {\n",
       "                    if (nbb_cells[i].input_prompt_number == nbb_cell_id) {\n",
       "                        if (nbb_cells[i].get_text() == nbb_unformatted_code) {\n",
       "                             nbb_cells[i].set_text(nbb_formatted_code);\n",
       "                        }\n",
       "                        break;\n",
       "                    }\n",
       "                }\n",
       "            }, 500);\n",
       "            "
      ],
      "text/plain": [
       "<IPython.core.display.Javascript object>"
      ]
     },
     "metadata": {},
     "output_type": "display_data"
    }
   ],
   "source": [
    "# duplicate rows\n",
    "number_duplicate_rows = df_conv.duplicated().value_counts().loc[True]\n",
    "percent_duplicate_rows = number_duplicate_rows / len(df_conv.index) * 100\n",
    "\n",
    "text = colored(\n",
    "    \"%d rows (%.2f %%) are duplicates\"\n",
    "    % (number_duplicate_rows, percent_duplicate_rows),\n",
    "    \"red\",\n",
    "    attrs=[\"reverse\"],\n",
    ")\n",
    "print(text)"
   ]
  },
  {
   "cell_type": "code",
   "execution_count": 29,
   "metadata": {
    "ExecuteTime": {
     "end_time": "2020-03-02T15:53:22.432846Z",
     "start_time": "2020-03-02T15:53:22.253119Z"
    }
   },
   "outputs": [
    {
     "data": {
      "text/html": [
       "<div>\n",
       "<style scoped>\n",
       "    .dataframe tbody tr th:only-of-type {\n",
       "        vertical-align: middle;\n",
       "    }\n",
       "\n",
       "    .dataframe tbody tr th {\n",
       "        vertical-align: top;\n",
       "    }\n",
       "\n",
       "    .dataframe thead th {\n",
       "        text-align: right;\n",
       "    }\n",
       "</style>\n",
       "<table border=\"1\" class=\"dataframe\">\n",
       "  <thead>\n",
       "    <tr style=\"text-align: right;\">\n",
       "      <th></th>\n",
       "      <th>country</th>\n",
       "      <th>age</th>\n",
       "      <th>new_user</th>\n",
       "      <th>source</th>\n",
       "      <th>total_pages_visited</th>\n",
       "      <th>converted</th>\n",
       "    </tr>\n",
       "  </thead>\n",
       "  <tbody>\n",
       "    <tr>\n",
       "      <th>20029</th>\n",
       "      <td>China</td>\n",
       "      <td>17</td>\n",
       "      <td>0</td>\n",
       "      <td>Ads</td>\n",
       "      <td>1</td>\n",
       "      <td>0</td>\n",
       "    </tr>\n",
       "    <tr>\n",
       "      <th>21506</th>\n",
       "      <td>China</td>\n",
       "      <td>17</td>\n",
       "      <td>0</td>\n",
       "      <td>Ads</td>\n",
       "      <td>1</td>\n",
       "      <td>0</td>\n",
       "    </tr>\n",
       "    <tr>\n",
       "      <th>24947</th>\n",
       "      <td>China</td>\n",
       "      <td>17</td>\n",
       "      <td>0</td>\n",
       "      <td>Ads</td>\n",
       "      <td>1</td>\n",
       "      <td>0</td>\n",
       "    </tr>\n",
       "    <tr>\n",
       "      <th>112472</th>\n",
       "      <td>China</td>\n",
       "      <td>17</td>\n",
       "      <td>0</td>\n",
       "      <td>Ads</td>\n",
       "      <td>1</td>\n",
       "      <td>0</td>\n",
       "    </tr>\n",
       "    <tr>\n",
       "      <th>147042</th>\n",
       "      <td>China</td>\n",
       "      <td>17</td>\n",
       "      <td>0</td>\n",
       "      <td>Ads</td>\n",
       "      <td>1</td>\n",
       "      <td>0</td>\n",
       "    </tr>\n",
       "    <tr>\n",
       "      <th>157822</th>\n",
       "      <td>China</td>\n",
       "      <td>17</td>\n",
       "      <td>0</td>\n",
       "      <td>Ads</td>\n",
       "      <td>1</td>\n",
       "      <td>0</td>\n",
       "    </tr>\n",
       "    <tr>\n",
       "      <th>180647</th>\n",
       "      <td>China</td>\n",
       "      <td>17</td>\n",
       "      <td>0</td>\n",
       "      <td>Ads</td>\n",
       "      <td>1</td>\n",
       "      <td>0</td>\n",
       "    </tr>\n",
       "    <tr>\n",
       "      <th>221574</th>\n",
       "      <td>China</td>\n",
       "      <td>17</td>\n",
       "      <td>0</td>\n",
       "      <td>Ads</td>\n",
       "      <td>1</td>\n",
       "      <td>0</td>\n",
       "    </tr>\n",
       "    <tr>\n",
       "      <th>226909</th>\n",
       "      <td>China</td>\n",
       "      <td>17</td>\n",
       "      <td>0</td>\n",
       "      <td>Ads</td>\n",
       "      <td>1</td>\n",
       "      <td>0</td>\n",
       "    </tr>\n",
       "    <tr>\n",
       "      <th>233144</th>\n",
       "      <td>China</td>\n",
       "      <td>17</td>\n",
       "      <td>0</td>\n",
       "      <td>Ads</td>\n",
       "      <td>1</td>\n",
       "      <td>0</td>\n",
       "    </tr>\n",
       "    <tr>\n",
       "      <th>241892</th>\n",
       "      <td>China</td>\n",
       "      <td>17</td>\n",
       "      <td>0</td>\n",
       "      <td>Ads</td>\n",
       "      <td>1</td>\n",
       "      <td>0</td>\n",
       "    </tr>\n",
       "    <tr>\n",
       "      <th>252571</th>\n",
       "      <td>China</td>\n",
       "      <td>17</td>\n",
       "      <td>0</td>\n",
       "      <td>Ads</td>\n",
       "      <td>1</td>\n",
       "      <td>0</td>\n",
       "    </tr>\n",
       "    <tr>\n",
       "      <th>254061</th>\n",
       "      <td>China</td>\n",
       "      <td>17</td>\n",
       "      <td>0</td>\n",
       "      <td>Ads</td>\n",
       "      <td>1</td>\n",
       "      <td>0</td>\n",
       "    </tr>\n",
       "    <tr>\n",
       "      <th>296893</th>\n",
       "      <td>China</td>\n",
       "      <td>17</td>\n",
       "      <td>0</td>\n",
       "      <td>Ads</td>\n",
       "      <td>1</td>\n",
       "      <td>0</td>\n",
       "    </tr>\n",
       "    <tr>\n",
       "      <th>310019</th>\n",
       "      <td>China</td>\n",
       "      <td>17</td>\n",
       "      <td>0</td>\n",
       "      <td>Ads</td>\n",
       "      <td>1</td>\n",
       "      <td>0</td>\n",
       "    </tr>\n",
       "    <tr>\n",
       "      <th>5904</th>\n",
       "      <td>China</td>\n",
       "      <td>17</td>\n",
       "      <td>0</td>\n",
       "      <td>Ads</td>\n",
       "      <td>2</td>\n",
       "      <td>0</td>\n",
       "    </tr>\n",
       "    <tr>\n",
       "      <th>8278</th>\n",
       "      <td>China</td>\n",
       "      <td>17</td>\n",
       "      <td>0</td>\n",
       "      <td>Ads</td>\n",
       "      <td>2</td>\n",
       "      <td>0</td>\n",
       "    </tr>\n",
       "    <tr>\n",
       "      <th>62274</th>\n",
       "      <td>China</td>\n",
       "      <td>17</td>\n",
       "      <td>0</td>\n",
       "      <td>Ads</td>\n",
       "      <td>2</td>\n",
       "      <td>0</td>\n",
       "    </tr>\n",
       "    <tr>\n",
       "      <th>83260</th>\n",
       "      <td>China</td>\n",
       "      <td>17</td>\n",
       "      <td>0</td>\n",
       "      <td>Ads</td>\n",
       "      <td>2</td>\n",
       "      <td>0</td>\n",
       "    </tr>\n",
       "    <tr>\n",
       "      <th>92079</th>\n",
       "      <td>China</td>\n",
       "      <td>17</td>\n",
       "      <td>0</td>\n",
       "      <td>Ads</td>\n",
       "      <td>2</td>\n",
       "      <td>0</td>\n",
       "    </tr>\n",
       "  </tbody>\n",
       "</table>\n",
       "</div>"
      ],
      "text/plain": [
       "       country  age  new_user source  total_pages_visited  converted\n",
       "20029    China   17         0    Ads                    1          0\n",
       "21506    China   17         0    Ads                    1          0\n",
       "24947    China   17         0    Ads                    1          0\n",
       "112472   China   17         0    Ads                    1          0\n",
       "147042   China   17         0    Ads                    1          0\n",
       "157822   China   17         0    Ads                    1          0\n",
       "180647   China   17         0    Ads                    1          0\n",
       "221574   China   17         0    Ads                    1          0\n",
       "226909   China   17         0    Ads                    1          0\n",
       "233144   China   17         0    Ads                    1          0\n",
       "241892   China   17         0    Ads                    1          0\n",
       "252571   China   17         0    Ads                    1          0\n",
       "254061   China   17         0    Ads                    1          0\n",
       "296893   China   17         0    Ads                    1          0\n",
       "310019   China   17         0    Ads                    1          0\n",
       "5904     China   17         0    Ads                    2          0\n",
       "8278     China   17         0    Ads                    2          0\n",
       "62274    China   17         0    Ads                    2          0\n",
       "83260    China   17         0    Ads                    2          0\n",
       "92079    China   17         0    Ads                    2          0"
      ]
     },
     "execution_count": 29,
     "metadata": {},
     "output_type": "execute_result"
    },
    {
     "data": {
      "application/javascript": [
       "\n",
       "            setTimeout(function() {\n",
       "                var nbb_cell_id = 29;\n",
       "                var nbb_unformatted_code = \"# Sort values to see duplicates\\ndf_conv.sort_values(\\n    by=[\\\"country\\\", \\\"age\\\", \\\"new_user\\\", \\\"source\\\", \\\"total_pages_visited\\\", \\\"converted\\\"]\\n).head(20)\";\n",
       "                var nbb_formatted_code = \"# Sort values to see duplicates\\ndf_conv.sort_values(\\n    by=[\\\"country\\\", \\\"age\\\", \\\"new_user\\\", \\\"source\\\", \\\"total_pages_visited\\\", \\\"converted\\\"]\\n).head(20)\";\n",
       "                var nbb_cells = Jupyter.notebook.get_cells();\n",
       "                for (var i = 0; i < nbb_cells.length; ++i) {\n",
       "                    if (nbb_cells[i].input_prompt_number == nbb_cell_id) {\n",
       "                        if (nbb_cells[i].get_text() == nbb_unformatted_code) {\n",
       "                             nbb_cells[i].set_text(nbb_formatted_code);\n",
       "                        }\n",
       "                        break;\n",
       "                    }\n",
       "                }\n",
       "            }, 500);\n",
       "            "
      ],
      "text/plain": [
       "<IPython.core.display.Javascript object>"
      ]
     },
     "metadata": {},
     "output_type": "display_data"
    }
   ],
   "source": [
    "# Sort values to see duplicates\n",
    "df_conv.sort_values(\n",
    "    by=[\"country\", \"age\", \"new_user\", \"source\", \"total_pages_visited\", \"converted\"]\n",
    ").head(20)"
   ]
  },
  {
   "cell_type": "markdown",
   "metadata": {
    "ExecuteTime": {
     "end_time": "2020-03-02T15:46:54.697884Z",
     "start_time": "2020-03-02T15:46:30.983519Z"
    }
   },
   "source": [
    "<font color='red'>I recognize that there are duplicates but given that the problem statement and the limited set of features given, I will assume that this is not really duplicated data. I believe that they are actually different unique users who share the same features. For example, above, it is plausible that there are 15 different users from China who are 17 years old and share the feature characteristics shown above. </font>"
   ]
  },
  {
   "cell_type": "markdown",
   "metadata": {},
   "source": [
    "## Impute or deal with missing values"
   ]
  },
  {
   "cell_type": "code",
   "execution_count": 30,
   "metadata": {
    "ExecuteTime": {
     "end_time": "2020-03-02T15:54:07.364812Z",
     "start_time": "2020-03-02T15:54:07.319351Z"
    }
   },
   "outputs": [
    {
     "data": {
      "text/plain": [
       "country                0\n",
       "age                    0\n",
       "new_user               0\n",
       "source                 0\n",
       "total_pages_visited    0\n",
       "converted              0\n",
       "dtype: int64"
      ]
     },
     "execution_count": 30,
     "metadata": {},
     "output_type": "execute_result"
    },
    {
     "data": {
      "application/javascript": [
       "\n",
       "            setTimeout(function() {\n",
       "                var nbb_cell_id = 30;\n",
       "                var nbb_unformatted_code = \"df_conv.isna().sum()\";\n",
       "                var nbb_formatted_code = \"df_conv.isna().sum()\";\n",
       "                var nbb_cells = Jupyter.notebook.get_cells();\n",
       "                for (var i = 0; i < nbb_cells.length; ++i) {\n",
       "                    if (nbb_cells[i].input_prompt_number == nbb_cell_id) {\n",
       "                        if (nbb_cells[i].get_text() == nbb_unformatted_code) {\n",
       "                             nbb_cells[i].set_text(nbb_formatted_code);\n",
       "                        }\n",
       "                        break;\n",
       "                    }\n",
       "                }\n",
       "            }, 500);\n",
       "            "
      ],
      "text/plain": [
       "<IPython.core.display.Javascript object>"
      ]
     },
     "metadata": {},
     "output_type": "display_data"
    }
   ],
   "source": [
    "df_conv.isna().sum()"
   ]
  },
  {
   "cell_type": "markdown",
   "metadata": {},
   "source": [
    "**The data shows no missing values.**"
   ]
  },
  {
   "cell_type": "markdown",
   "metadata": {
    "ExecuteTime": {
     "end_time": "2020-02-18T22:44:59.550149Z",
     "start_time": "2020-02-18T22:44:59.543949Z"
    }
   },
   "source": [
    "## Deal with non-numeric values"
   ]
  },
  {
   "cell_type": "code",
   "execution_count": 32,
   "metadata": {
    "ExecuteTime": {
     "end_time": "2020-03-02T15:56:03.379200Z",
     "start_time": "2020-03-02T15:56:03.251233Z"
    },
    "collapsed": true
   },
   "outputs": [
    {
     "name": "stdout",
     "output_type": "stream",
     "text": [
      "country US         178092\n",
      "China       76602\n",
      "UK          48450\n",
      "Germany     13056\n",
      "Name: country, dtype: int64\n",
      "age 30     14346\n",
      "28     14341\n",
      "29     14158\n",
      "27     14084\n",
      "26     13931\n",
      "31     13692\n",
      "32     13507\n",
      "25     13460\n",
      "24     12960\n",
      "33     12631\n",
      "23     12336\n",
      "34     12108\n",
      "22     11701\n",
      "35     11471\n",
      "21     10966\n",
      "36     10779\n",
      "20     10156\n",
      "37      9761\n",
      "19      9349\n",
      "38      8970\n",
      "18      8466\n",
      "39      8202\n",
      "17      7597\n",
      "40      7148\n",
      "41      6401\n",
      "42      5588\n",
      "43      4904\n",
      "44      4224\n",
      "45      3634\n",
      "46      2994\n",
      "47      2504\n",
      "48      2121\n",
      "49      1629\n",
      "50      1356\n",
      "51      1093\n",
      "52       935\n",
      "53       627\n",
      "54       520\n",
      "55       394\n",
      "56       286\n",
      "57       247\n",
      "58       165\n",
      "59       127\n",
      "60        94\n",
      "61        71\n",
      "62        59\n",
      "63        35\n",
      "64        27\n",
      "65        15\n",
      "66         9\n",
      "67         5\n",
      "68         5\n",
      "69         3\n",
      "70         2\n",
      "77         1\n",
      "79         1\n",
      "111        1\n",
      "73         1\n",
      "72         1\n",
      "123        1\n",
      "Name: age, dtype: int64\n",
      "new_user 1    216744\n",
      "0     99456\n",
      "Name: new_user, dtype: int64\n",
      "source Seo       155040\n",
      "Ads        88740\n",
      "Direct     72420\n",
      "Name: source, dtype: int64\n",
      "total_pages_visited 2     43868\n",
      "3     43829\n",
      "4     41046\n",
      "1     40739\n",
      "5     36308\n",
      "6     30261\n",
      "7     23488\n",
      "8     17522\n",
      "9     12157\n",
      "10     8074\n",
      "11     5394\n",
      "12     3615\n",
      "13     2425\n",
      "14     1811\n",
      "15     1325\n",
      "16     1100\n",
      "17      845\n",
      "18      722\n",
      "19      565\n",
      "20      405\n",
      "21      296\n",
      "22      180\n",
      "23      113\n",
      "24       46\n",
      "25       39\n",
      "26       17\n",
      "27        7\n",
      "29        2\n",
      "28        1\n",
      "Name: total_pages_visited, dtype: int64\n",
      "converted 0    306000\n",
      "1     10200\n",
      "Name: converted, dtype: int64\n"
     ]
    },
    {
     "data": {
      "application/javascript": [
       "\n",
       "            setTimeout(function() {\n",
       "                var nbb_cell_id = 32;\n",
       "                var nbb_unformatted_code = \"# Inspect unique values and their counts\\nfor col in df_conv.columns:\\n    print(col, df_conv[col].value_counts())\";\n",
       "                var nbb_formatted_code = \"# Inspect unique values and their counts\\nfor col in df_conv.columns:\\n    print(col, df_conv[col].value_counts())\";\n",
       "                var nbb_cells = Jupyter.notebook.get_cells();\n",
       "                for (var i = 0; i < nbb_cells.length; ++i) {\n",
       "                    if (nbb_cells[i].input_prompt_number == nbb_cell_id) {\n",
       "                        if (nbb_cells[i].get_text() == nbb_unformatted_code) {\n",
       "                             nbb_cells[i].set_text(nbb_formatted_code);\n",
       "                        }\n",
       "                        break;\n",
       "                    }\n",
       "                }\n",
       "            }, 500);\n",
       "            "
      ],
      "text/plain": [
       "<IPython.core.display.Javascript object>"
      ]
     },
     "metadata": {},
     "output_type": "display_data"
    }
   ],
   "source": [
    "# Inspect unique values and their counts\n",
    "for col in df_conv.columns:\n",
    "    print(col, df_conv[col].value_counts())"
   ]
  },
  {
   "cell_type": "markdown",
   "metadata": {
    "ExecuteTime": {
     "end_time": "2020-02-24T21:11:10.176946Z",
     "start_time": "2020-02-24T21:11:10.167302Z"
    }
   },
   "source": [
    "**Inspection of values shows no anamolous values in the features. We can also start to see more details of the features which we can later visualize. For example:**\n",
    "\n",
    "-  4 unique countries with number of users from each in this order: US (178092), China (76602), UK (48450), Germany     (1305).\n",
    "- Most users are in their late 20s, early 30s,\n",
    "- Most are new users.\n",
    "- About twice as many visited by clicking on search results compared to ads + direct search combined.\n",
    "- Most visited two pages.\n",
    "- The number who converted is a very small percentage of users (10,200 out of 316,200)."
   ]
  },
  {
   "cell_type": "markdown",
   "metadata": {},
   "source": [
    "# Exploratory Data Analysis\n"
   ]
  },
  {
   "cell_type": "code",
   "execution_count": 249,
   "metadata": {
    "ExecuteTime": {
     "end_time": "2020-03-02T20:39:36.223228Z",
     "start_time": "2020-03-02T20:39:36.209984Z"
    }
   },
   "outputs": [
    {
     "data": {
      "application/javascript": [
       "\n",
       "            setTimeout(function() {\n",
       "                var nbb_cell_id = 249;\n",
       "                var nbb_unformatted_code = \"# Set seaborn sizes\\nsns.set_context(\\n    \\\"talk\\\", rc={\\\"font.size\\\": 14, \\\"axes.titlesize\\\": 14, \\\"axes.labelsize\\\": 14}\\n)\";\n",
       "                var nbb_formatted_code = \"# Set seaborn sizes\\nsns.set_context(\\n    \\\"talk\\\", rc={\\\"font.size\\\": 14, \\\"axes.titlesize\\\": 14, \\\"axes.labelsize\\\": 14}\\n)\";\n",
       "                var nbb_cells = Jupyter.notebook.get_cells();\n",
       "                for (var i = 0; i < nbb_cells.length; ++i) {\n",
       "                    if (nbb_cells[i].input_prompt_number == nbb_cell_id) {\n",
       "                        if (nbb_cells[i].get_text() == nbb_unformatted_code) {\n",
       "                             nbb_cells[i].set_text(nbb_formatted_code);\n",
       "                        }\n",
       "                        break;\n",
       "                    }\n",
       "                }\n",
       "            }, 500);\n",
       "            "
      ],
      "text/plain": [
       "<IPython.core.display.Javascript object>"
      ]
     },
     "metadata": {},
     "output_type": "display_data"
    }
   ],
   "source": [
    "# Set seaborn sizes\n",
    "sns.set_context(\n",
    "    \"talk\", rc={\"font.size\": 14, \"axes.titlesize\": 14, \"axes.labelsize\": 14}\n",
    ")"
   ]
  },
  {
   "cell_type": "code",
   "execution_count": 257,
   "metadata": {
    "ExecuteTime": {
     "end_time": "2020-03-02T20:54:02.485203Z",
     "start_time": "2020-03-02T20:54:02.437165Z"
    },
    "code_folding": [
     0
    ]
   },
   "outputs": [
    {
     "data": {
      "application/javascript": [
       "\n",
       "            setTimeout(function() {\n",
       "                var nbb_cell_id = 257;\n",
       "                var nbb_unformatted_code = \"def create_counts_converted_table_by_feature(df, feature):\\n\\n    # age is arbitrarily chosen\\n    df_conv_feature_counts = df.groupby([feature, \\\"converted\\\"]).count()[\\\"age\\\"].copy()\\n    return df_conv_feature_counts\";\n",
       "                var nbb_formatted_code = \"def create_counts_converted_table_by_feature(df, feature):\\n\\n    # age is arbitrarily chosen\\n    df_conv_feature_counts = df.groupby([feature, \\\"converted\\\"]).count()[\\\"age\\\"].copy()\\n    return df_conv_feature_counts\";\n",
       "                var nbb_cells = Jupyter.notebook.get_cells();\n",
       "                for (var i = 0; i < nbb_cells.length; ++i) {\n",
       "                    if (nbb_cells[i].input_prompt_number == nbb_cell_id) {\n",
       "                        if (nbb_cells[i].get_text() == nbb_unformatted_code) {\n",
       "                             nbb_cells[i].set_text(nbb_formatted_code);\n",
       "                        }\n",
       "                        break;\n",
       "                    }\n",
       "                }\n",
       "            }, 500);\n",
       "            "
      ],
      "text/plain": [
       "<IPython.core.display.Javascript object>"
      ]
     },
     "metadata": {},
     "output_type": "display_data"
    }
   ],
   "source": [
    "def create_counts_converted_table_by_feature(df, feature):\n",
    "\n",
    "    # age is arbitrarily chosen\n",
    "    df_conv_feature_counts = df.groupby([feature, \"converted\"]).count()[\"age\"].copy()\n",
    "    return df_conv_feature_counts"
   ]
  },
  {
   "cell_type": "code",
   "execution_count": 251,
   "metadata": {
    "ExecuteTime": {
     "end_time": "2020-03-02T20:39:41.939227Z",
     "start_time": "2020-03-02T20:39:41.895963Z"
    },
    "code_folding": []
   },
   "outputs": [
    {
     "data": {
      "application/javascript": [
       "\n",
       "            setTimeout(function() {\n",
       "                var nbb_cell_id = 251;\n",
       "                var nbb_unformatted_code = \"def create_bar_plots(df_conv_feature_counts, feature, feature_order, xaxis_label_rot):\\n\\n    non_converted_by_feature = [\\n        df_conv_feature_counts[feature, 0] for feature in feature_order\\n    ]\\n    converted_by_feature = [\\n        df_conv_feature_counts[feature, 1] for feature in feature_order\\n    ]\\n\\n    conv_rate_by_feature = [\\n        100\\n        * (df_conv_feature_counts[feature, 1] / df_conv_feature_counts[feature].sum())\\n        for feature in feature_order\\n    ]\\n\\n    f, (ax1, ax2) = plt.subplots(1, 2, figsize=(14, 6))\\n    ind = np.arange(len(feature_order))\\n\\n    ax1.bar(ind, non_converted_by_feature, color=\\\"gray\\\", label=\\\"no conversion\\\")\\n    ax1.bar(\\n        ind,\\n        converted_by_feature,\\n        bottom=non_converted_by_feature,\\n        color=\\\"green\\\",\\n        label=\\\"conversion\\\",\\n    )\\n    ax1.set_xticks(ind)\\n    labels = [item.get_text() for item in ax1.get_xticklabels()]\\n    ax1.set_xticklabels(feature_order, rotation=xaxis_label_rot)\\n    ax1.set_ylabel(\\\"number of users\\\")\\n    ax1.legend()\\n    ax1.set_title(\\\"No. of users by \\\" + feature)\\n\\n    ax2.bar(\\n        ind, conv_rate_by_feature, color=\\\"green\\\",\\n    )\\n    ax2.set_xticks(ind)\\n    labels = [item.get_text() for item in ax2.get_xticklabels()]\\n    ax2.set_xticklabels(feature_order, rotation=xaxis_label_rot)\\n    ax2.set_ylabel(\\\"percent of users\\\")\\n    ax2.set_title(\\\"Pct. of converted users \\\" + feature)\\n\\n    plt.tight_layout()\";\n",
       "                var nbb_formatted_code = \"def create_bar_plots(df_conv_feature_counts, feature, feature_order, xaxis_label_rot):\\n\\n    non_converted_by_feature = [\\n        df_conv_feature_counts[feature, 0] for feature in feature_order\\n    ]\\n    converted_by_feature = [\\n        df_conv_feature_counts[feature, 1] for feature in feature_order\\n    ]\\n\\n    conv_rate_by_feature = [\\n        100\\n        * (df_conv_feature_counts[feature, 1] / df_conv_feature_counts[feature].sum())\\n        for feature in feature_order\\n    ]\\n\\n    f, (ax1, ax2) = plt.subplots(1, 2, figsize=(14, 6))\\n    ind = np.arange(len(feature_order))\\n\\n    ax1.bar(ind, non_converted_by_feature, color=\\\"gray\\\", label=\\\"no conversion\\\")\\n    ax1.bar(\\n        ind,\\n        converted_by_feature,\\n        bottom=non_converted_by_feature,\\n        color=\\\"green\\\",\\n        label=\\\"conversion\\\",\\n    )\\n    ax1.set_xticks(ind)\\n    labels = [item.get_text() for item in ax1.get_xticklabels()]\\n    ax1.set_xticklabels(feature_order, rotation=xaxis_label_rot)\\n    ax1.set_ylabel(\\\"number of users\\\")\\n    ax1.legend()\\n    ax1.set_title(\\\"No. of users by \\\" + feature)\\n\\n    ax2.bar(\\n        ind, conv_rate_by_feature, color=\\\"green\\\",\\n    )\\n    ax2.set_xticks(ind)\\n    labels = [item.get_text() for item in ax2.get_xticklabels()]\\n    ax2.set_xticklabels(feature_order, rotation=xaxis_label_rot)\\n    ax2.set_ylabel(\\\"percent of users\\\")\\n    ax2.set_title(\\\"Pct. of converted users \\\" + feature)\\n\\n    plt.tight_layout()\";\n",
       "                var nbb_cells = Jupyter.notebook.get_cells();\n",
       "                for (var i = 0; i < nbb_cells.length; ++i) {\n",
       "                    if (nbb_cells[i].input_prompt_number == nbb_cell_id) {\n",
       "                        if (nbb_cells[i].get_text() == nbb_unformatted_code) {\n",
       "                             nbb_cells[i].set_text(nbb_formatted_code);\n",
       "                        }\n",
       "                        break;\n",
       "                    }\n",
       "                }\n",
       "            }, 500);\n",
       "            "
      ],
      "text/plain": [
       "<IPython.core.display.Javascript object>"
      ]
     },
     "metadata": {},
     "output_type": "display_data"
    }
   ],
   "source": [
    "def create_bar_plots(df_conv_feature_counts, feature, feature_order, xaxis_label_rot):\n",
    "\n",
    "    non_converted_by_feature = [\n",
    "        df_conv_feature_counts[feature, 0] for feature in feature_order\n",
    "    ]\n",
    "    converted_by_feature = [\n",
    "        df_conv_feature_counts[feature, 1] for feature in feature_order\n",
    "    ]\n",
    "\n",
    "    conv_rate_by_feature = [\n",
    "        100\n",
    "        * (df_conv_feature_counts[feature, 1] / df_conv_feature_counts[feature].sum())\n",
    "        for feature in feature_order\n",
    "    ]\n",
    "\n",
    "    f, (ax1, ax2) = plt.subplots(1, 2, figsize=(14, 6))\n",
    "    ind = np.arange(len(feature_order))\n",
    "\n",
    "    ax1.bar(ind, non_converted_by_feature, color=\"gray\", label=\"no conversion\")\n",
    "    ax1.bar(\n",
    "        ind,\n",
    "        converted_by_feature,\n",
    "        bottom=non_converted_by_feature,\n",
    "        color=\"green\",\n",
    "        label=\"conversion\",\n",
    "    )\n",
    "    ax1.set_xticks(ind)\n",
    "    labels = [item.get_text() for item in ax1.get_xticklabels()]\n",
    "    ax1.set_xticklabels(feature_order, rotation=xaxis_label_rot)\n",
    "    ax1.set_ylabel(\"number of users\")\n",
    "    ax1.legend()\n",
    "    ax1.set_title(\"No. of users by \" + feature)\n",
    "\n",
    "    ax2.bar(\n",
    "        ind, conv_rate_by_feature, color=\"green\",\n",
    "    )\n",
    "    ax2.set_xticks(ind)\n",
    "    labels = [item.get_text() for item in ax2.get_xticklabels()]\n",
    "    ax2.set_xticklabels(feature_order, rotation=xaxis_label_rot)\n",
    "    ax2.set_ylabel(\"percent of users\")\n",
    "    ax2.set_title(\"Pct. of converted users \" + feature)\n",
    "\n",
    "    plt.tight_layout()"
   ]
  },
  {
   "cell_type": "code",
   "execution_count": 37,
   "metadata": {
    "ExecuteTime": {
     "end_time": "2020-03-02T16:33:08.266785Z",
     "start_time": "2020-03-02T16:33:08.174136Z"
    }
   },
   "outputs": [
    {
     "data": {
      "text/html": [
       "<div>\n",
       "<style scoped>\n",
       "    .dataframe tbody tr th:only-of-type {\n",
       "        vertical-align: middle;\n",
       "    }\n",
       "\n",
       "    .dataframe tbody tr th {\n",
       "        vertical-align: top;\n",
       "    }\n",
       "\n",
       "    .dataframe thead th {\n",
       "        text-align: right;\n",
       "    }\n",
       "</style>\n",
       "<table border=\"1\" class=\"dataframe\">\n",
       "  <thead>\n",
       "    <tr style=\"text-align: right;\">\n",
       "      <th></th>\n",
       "      <th>country</th>\n",
       "      <th>age</th>\n",
       "      <th>new_user</th>\n",
       "      <th>source</th>\n",
       "      <th>total_pages_visited</th>\n",
       "      <th>converted</th>\n",
       "    </tr>\n",
       "  </thead>\n",
       "  <tbody>\n",
       "    <tr>\n",
       "      <th>0</th>\n",
       "      <td>UK</td>\n",
       "      <td>25</td>\n",
       "      <td>1</td>\n",
       "      <td>Ads</td>\n",
       "      <td>1</td>\n",
       "      <td>0</td>\n",
       "    </tr>\n",
       "    <tr>\n",
       "      <th>1</th>\n",
       "      <td>US</td>\n",
       "      <td>23</td>\n",
       "      <td>1</td>\n",
       "      <td>Seo</td>\n",
       "      <td>5</td>\n",
       "      <td>0</td>\n",
       "    </tr>\n",
       "    <tr>\n",
       "      <th>2</th>\n",
       "      <td>US</td>\n",
       "      <td>28</td>\n",
       "      <td>1</td>\n",
       "      <td>Seo</td>\n",
       "      <td>4</td>\n",
       "      <td>0</td>\n",
       "    </tr>\n",
       "    <tr>\n",
       "      <th>3</th>\n",
       "      <td>China</td>\n",
       "      <td>39</td>\n",
       "      <td>1</td>\n",
       "      <td>Seo</td>\n",
       "      <td>5</td>\n",
       "      <td>0</td>\n",
       "    </tr>\n",
       "    <tr>\n",
       "      <th>4</th>\n",
       "      <td>US</td>\n",
       "      <td>30</td>\n",
       "      <td>1</td>\n",
       "      <td>Seo</td>\n",
       "      <td>6</td>\n",
       "      <td>0</td>\n",
       "    </tr>\n",
       "  </tbody>\n",
       "</table>\n",
       "</div>"
      ],
      "text/plain": [
       "  country  age  new_user source  total_pages_visited  converted\n",
       "0      UK   25         1    Ads                    1          0\n",
       "1      US   23         1    Seo                    5          0\n",
       "2      US   28         1    Seo                    4          0\n",
       "3   China   39         1    Seo                    5          0\n",
       "4      US   30         1    Seo                    6          0"
      ]
     },
     "execution_count": 37,
     "metadata": {},
     "output_type": "execute_result"
    },
    {
     "data": {
      "application/javascript": [
       "\n",
       "            setTimeout(function() {\n",
       "                var nbb_cell_id = 37;\n",
       "                var nbb_unformatted_code = \"df_conv.head()\";\n",
       "                var nbb_formatted_code = \"df_conv.head()\";\n",
       "                var nbb_cells = Jupyter.notebook.get_cells();\n",
       "                for (var i = 0; i < nbb_cells.length; ++i) {\n",
       "                    if (nbb_cells[i].input_prompt_number == nbb_cell_id) {\n",
       "                        if (nbb_cells[i].get_text() == nbb_unformatted_code) {\n",
       "                             nbb_cells[i].set_text(nbb_formatted_code);\n",
       "                        }\n",
       "                        break;\n",
       "                    }\n",
       "                }\n",
       "            }, 500);\n",
       "            "
      ],
      "text/plain": [
       "<IPython.core.display.Javascript object>"
      ]
     },
     "metadata": {},
     "output_type": "display_data"
    }
   ],
   "source": [
    "df_conv.head()"
   ]
  },
  {
   "cell_type": "markdown",
   "metadata": {
    "ExecuteTime": {
     "end_time": "2020-03-02T16:29:05.710793Z",
     "start_time": "2020-03-02T16:29:05.657719Z"
    }
   },
   "source": [
    "## Conversion by country"
   ]
  },
  {
   "cell_type": "code",
   "execution_count": 230,
   "metadata": {
    "ExecuteTime": {
     "end_time": "2020-03-02T20:34:10.845395Z",
     "start_time": "2020-03-02T20:34:07.463242Z"
    }
   },
   "outputs": [
    {
     "data": {
      "text/plain": [
       "country  converted\n",
       "China    0             76500\n",
       "         1               102\n",
       "Germany  0             12240\n",
       "         1               816\n",
       "UK       0             45900\n",
       "         1              2550\n",
       "US       0            171360\n",
       "         1              6732\n",
       "Name: age, dtype: int64"
      ]
     },
     "execution_count": 230,
     "metadata": {},
     "output_type": "execute_result"
    },
    {
     "data": {
      "application/javascript": [
       "\n",
       "            setTimeout(function() {\n",
       "                var nbb_cell_id = 230;\n",
       "                var nbb_unformatted_code = \"df_conv_country_counts = create_counts_converted_table_by_feature(df_conv, \\\"country\\\")\\ndf_conv_country_counts\";\n",
       "                var nbb_formatted_code = \"df_conv_country_counts = create_counts_converted_table_by_feature(df_conv, \\\"country\\\")\\ndf_conv_country_counts\";\n",
       "                var nbb_cells = Jupyter.notebook.get_cells();\n",
       "                for (var i = 0; i < nbb_cells.length; ++i) {\n",
       "                    if (nbb_cells[i].input_prompt_number == nbb_cell_id) {\n",
       "                        if (nbb_cells[i].get_text() == nbb_unformatted_code) {\n",
       "                             nbb_cells[i].set_text(nbb_formatted_code);\n",
       "                        }\n",
       "                        break;\n",
       "                    }\n",
       "                }\n",
       "            }, 500);\n",
       "            "
      ],
      "text/plain": [
       "<IPython.core.display.Javascript object>"
      ]
     },
     "metadata": {},
     "output_type": "display_data"
    }
   ],
   "source": [
    "df_conv_country_counts = create_counts_converted_table_by_feature(df_conv, \"country\")\n",
    "df_conv_country_counts"
   ]
  },
  {
   "cell_type": "code",
   "execution_count": 252,
   "metadata": {
    "ExecuteTime": {
     "end_time": "2020-03-02T20:39:51.350548Z",
     "start_time": "2020-03-02T20:39:48.753481Z"
    }
   },
   "outputs": [
    {
     "data": {
      "image/png": "[encoded data removed]",
      "text/plain": [
       "<Figure size 1008x432 with 2 Axes>"
      ]
     },
     "metadata": {},
     "output_type": "display_data"
    },
    {
     "data": {
      "application/javascript": [
       "\n",
       "            setTimeout(function() {\n",
       "                var nbb_cell_id = 252;\n",
       "                var nbb_unformatted_code = \"# Put the countries in descending order of total counts\\ncountry_order = (\\n    df_conv.groupby([\\\"country\\\"])\\n    .count()[\\\"age\\\"]\\n    .copy()\\n    .sort_values(ascending=False)\\n    .index.tolist()\\n)\\ncountry_order\\ncreate_bar_plots(df_conv_country_counts, \\\"country\\\", country_order, 0)\";\n",
       "                var nbb_formatted_code = \"# Put the countries in descending order of total counts\\ncountry_order = (\\n    df_conv.groupby([\\\"country\\\"])\\n    .count()[\\\"age\\\"]\\n    .copy()\\n    .sort_values(ascending=False)\\n    .index.tolist()\\n)\\ncountry_order\\ncreate_bar_plots(df_conv_country_counts, \\\"country\\\", country_order, 0)\";\n",
       "                var nbb_cells = Jupyter.notebook.get_cells();\n",
       "                for (var i = 0; i < nbb_cells.length; ++i) {\n",
       "                    if (nbb_cells[i].input_prompt_number == nbb_cell_id) {\n",
       "                        if (nbb_cells[i].get_text() == nbb_unformatted_code) {\n",
       "                             nbb_cells[i].set_text(nbb_formatted_code);\n",
       "                        }\n",
       "                        break;\n",
       "                    }\n",
       "                }\n",
       "            }, 500);\n",
       "            "
      ],
      "text/plain": [
       "<IPython.core.display.Javascript object>"
      ]
     },
     "metadata": {},
     "output_type": "display_data"
    }
   ],
   "source": [
    "# Put the countries in descending order of total counts\n",
    "country_order = (\n",
    "    df_conv.groupby([\"country\"])\n",
    "    .count()[\"age\"]\n",
    "    .copy()\n",
    "    .sort_values(ascending=False)\n",
    "    .index.tolist()\n",
    ")\n",
    "country_order\n",
    "create_bar_plots(df_conv_country_counts, \"country\", country_order, 0)"
   ]
  },
  {
   "cell_type": "markdown",
   "metadata": {},
   "source": [
    "## Conversion by age"
   ]
  },
  {
   "cell_type": "code",
   "execution_count": 294,
   "metadata": {
    "ExecuteTime": {
     "end_time": "2020-03-02T22:27:08.868701Z",
     "start_time": "2020-03-02T22:27:05.994173Z"
    }
   },
   "outputs": [
    {
     "data": {
      "text/plain": [
       "Text(0.5, 1.0, 'Age distribution')"
      ]
     },
     "execution_count": 294,
     "metadata": {},
     "output_type": "execute_result"
    },
    {
     "data": {
      "image/png": "[encoded data removed]",
      "text/plain": [
       "<Figure size 576x396 with 1 Axes>"
      ]
     },
     "metadata": {},
     "output_type": "display_data"
    },
    {
     "data": {
      "application/javascript": [
       "\n",
       "            setTimeout(function() {\n",
       "                var nbb_cell_id = 294;\n",
       "                var nbb_unformatted_code = \"f, ax1 = plt.subplots()\\ndf_conv[\\\"age\\\"].hist(ax=ax1, bins=50, rwidth=1)\\nax1.set_title(\\\"Age distribution\\\")\";\n",
       "                var nbb_formatted_code = \"f, ax1 = plt.subplots()\\ndf_conv[\\\"age\\\"].hist(ax=ax1, bins=50, rwidth=1)\\nax1.set_title(\\\"Age distribution\\\")\";\n",
       "                var nbb_cells = Jupyter.notebook.get_cells();\n",
       "                for (var i = 0; i < nbb_cells.length; ++i) {\n",
       "                    if (nbb_cells[i].input_prompt_number == nbb_cell_id) {\n",
       "                        if (nbb_cells[i].get_text() == nbb_unformatted_code) {\n",
       "                             nbb_cells[i].set_text(nbb_formatted_code);\n",
       "                        }\n",
       "                        break;\n",
       "                    }\n",
       "                }\n",
       "            }, 500);\n",
       "            "
      ],
      "text/plain": [
       "<IPython.core.display.Javascript object>"
      ]
     },
     "metadata": {},
     "output_type": "display_data"
    }
   ],
   "source": [
    "f, ax1 = plt.subplots()\n",
    "df_conv[\"age\"].hist(ax=ax1, bins=50, rwidth=1)\n",
    "ax1.set_title(\"Age distribution\")"
   ]
  },
  {
   "cell_type": "code",
   "execution_count": 296,
   "metadata": {
    "ExecuteTime": {
     "end_time": "2020-03-02T22:27:32.504399Z",
     "start_time": "2020-03-02T22:27:32.470908Z"
    }
   },
   "outputs": [
    {
     "data": {
      "text/plain": [
       "30.0"
      ]
     },
     "execution_count": 296,
     "metadata": {},
     "output_type": "execute_result"
    },
    {
     "data": {
      "application/javascript": [
       "\n",
       "            setTimeout(function() {\n",
       "                var nbb_cell_id = 296;\n",
       "                var nbb_unformatted_code = \"df_conv[\\\"age\\\"].mean()\\n\\ndf_conv[\\\"age\\\"].median()\";\n",
       "                var nbb_formatted_code = \"df_conv[\\\"age\\\"].mean()\\n\\ndf_conv[\\\"age\\\"].median()\";\n",
       "                var nbb_cells = Jupyter.notebook.get_cells();\n",
       "                for (var i = 0; i < nbb_cells.length; ++i) {\n",
       "                    if (nbb_cells[i].input_prompt_number == nbb_cell_id) {\n",
       "                        if (nbb_cells[i].get_text() == nbb_unformatted_code) {\n",
       "                             nbb_cells[i].set_text(nbb_formatted_code);\n",
       "                        }\n",
       "                        break;\n",
       "                    }\n",
       "                }\n",
       "            }, 500);\n",
       "            "
      ],
      "text/plain": [
       "<IPython.core.display.Javascript object>"
      ]
     },
     "metadata": {},
     "output_type": "display_data"
    }
   ],
   "source": [
    "df_conv[\"age\"].mean()\n",
    "\n",
    "df_conv[\"age\"].median()"
   ]
  },
  {
   "cell_type": "code",
   "execution_count": 234,
   "metadata": {
    "ExecuteTime": {
     "end_time": "2020-03-02T20:34:22.666719Z",
     "start_time": "2020-03-02T20:34:22.648741Z"
    }
   },
   "outputs": [
    {
     "name": "stdout",
     "output_type": "stream",
     "text": [
      "Min age:  17 Max age:  123\n"
     ]
    },
    {
     "data": {
      "application/javascript": [
       "\n",
       "            setTimeout(function() {\n",
       "                var nbb_cell_id = 234;\n",
       "                var nbb_unformatted_code = \"print(\\\"Min age: \\\", df_conv[\\\"age\\\"].min(), \\\"Max age: \\\", df_conv[\\\"age\\\"].max())\";\n",
       "                var nbb_formatted_code = \"print(\\\"Min age: \\\", df_conv[\\\"age\\\"].min(), \\\"Max age: \\\", df_conv[\\\"age\\\"].max())\";\n",
       "                var nbb_cells = Jupyter.notebook.get_cells();\n",
       "                for (var i = 0; i < nbb_cells.length; ++i) {\n",
       "                    if (nbb_cells[i].input_prompt_number == nbb_cell_id) {\n",
       "                        if (nbb_cells[i].get_text() == nbb_unformatted_code) {\n",
       "                             nbb_cells[i].set_text(nbb_formatted_code);\n",
       "                        }\n",
       "                        break;\n",
       "                    }\n",
       "                }\n",
       "            }, 500);\n",
       "            "
      ],
      "text/plain": [
       "<IPython.core.display.Javascript object>"
      ]
     },
     "metadata": {},
     "output_type": "display_data"
    }
   ],
   "source": [
    "print(\"Min age: \", df_conv[\"age\"].min(), \"Max age: \", df_conv[\"age\"].max())"
   ]
  },
  {
   "cell_type": "code",
   "execution_count": 235,
   "metadata": {
    "ExecuteTime": {
     "end_time": "2020-03-02T20:34:23.505586Z",
     "start_time": "2020-03-02T20:34:23.442287Z"
    }
   },
   "outputs": [
    {
     "data": {
      "text/plain": [
       "(16.999, 23.0]    70571\n",
       "(23.0, 28.0]      68776\n",
       "(32.0, 38.0]      65720\n",
       "(28.0, 32.0]      55703\n",
       "(38.0, 123.0]     55430\n",
       "Name: age_groups, dtype: int64"
      ]
     },
     "execution_count": 235,
     "metadata": {},
     "output_type": "execute_result"
    },
    {
     "data": {
      "application/javascript": [
       "\n",
       "            setTimeout(function() {\n",
       "                var nbb_cell_id = 235;\n",
       "                var nbb_unformatted_code = \"# Bin age groups with quantile cuts\\ndf_conv[\\\"age_groups\\\"] = pd.qcut(df_conv[\\\"age\\\"], 5)\\ndf_conv[\\\"age_groups\\\"].value_counts()\";\n",
       "                var nbb_formatted_code = \"# Bin age groups with quantile cuts\\ndf_conv[\\\"age_groups\\\"] = pd.qcut(df_conv[\\\"age\\\"], 5)\\ndf_conv[\\\"age_groups\\\"].value_counts()\";\n",
       "                var nbb_cells = Jupyter.notebook.get_cells();\n",
       "                for (var i = 0; i < nbb_cells.length; ++i) {\n",
       "                    if (nbb_cells[i].input_prompt_number == nbb_cell_id) {\n",
       "                        if (nbb_cells[i].get_text() == nbb_unformatted_code) {\n",
       "                             nbb_cells[i].set_text(nbb_formatted_code);\n",
       "                        }\n",
       "                        break;\n",
       "                    }\n",
       "                }\n",
       "            }, 500);\n",
       "            "
      ],
      "text/plain": [
       "<IPython.core.display.Javascript object>"
      ]
     },
     "metadata": {},
     "output_type": "display_data"
    }
   ],
   "source": [
    "# Bin age groups with quantile cuts\n",
    "df_conv[\"age_groups\"] = pd.qcut(df_conv[\"age\"], 5)\n",
    "df_conv[\"age_groups\"].value_counts()"
   ]
  },
  {
   "cell_type": "markdown",
   "metadata": {},
   "source": [
    "**Note that pd.qcut does not exactly give equal numbers since duplicate values are splitting the places where a bin would be.**"
   ]
  },
  {
   "cell_type": "code",
   "execution_count": 236,
   "metadata": {
    "ExecuteTime": {
     "end_time": "2020-03-02T20:34:25.528472Z",
     "start_time": "2020-03-02T20:34:24.272525Z"
    }
   },
   "outputs": [
    {
     "data": {
      "text/plain": [
       "age_groups      converted\n",
       "(16.999, 23.0]  0            66533\n",
       "                1             4038\n",
       "(23.0, 28.0]    0            66172\n",
       "                1             2604\n",
       "(28.0, 32.0]    0            54100\n",
       "                1             1603\n",
       "(32.0, 38.0]    0            64425\n",
       "                1             1295\n",
       "(38.0, 123.0]   0            54770\n",
       "                1              660\n",
       "Name: age, dtype: int64"
      ]
     },
     "execution_count": 236,
     "metadata": {},
     "output_type": "execute_result"
    },
    {
     "data": {
      "application/javascript": [
       "\n",
       "            setTimeout(function() {\n",
       "                var nbb_cell_id = 236;\n",
       "                var nbb_unformatted_code = \"df_conv_age_groups_counts = create_counts_converted_table_by_feature(\\n    df_conv, \\\"age_groups\\\"\\n)\\ndf_conv_age_groups_counts\";\n",
       "                var nbb_formatted_code = \"df_conv_age_groups_counts = create_counts_converted_table_by_feature(\\n    df_conv, \\\"age_groups\\\"\\n)\\ndf_conv_age_groups_counts\";\n",
       "                var nbb_cells = Jupyter.notebook.get_cells();\n",
       "                for (var i = 0; i < nbb_cells.length; ++i) {\n",
       "                    if (nbb_cells[i].input_prompt_number == nbb_cell_id) {\n",
       "                        if (nbb_cells[i].get_text() == nbb_unformatted_code) {\n",
       "                             nbb_cells[i].set_text(nbb_formatted_code);\n",
       "                        }\n",
       "                        break;\n",
       "                    }\n",
       "                }\n",
       "            }, 500);\n",
       "            "
      ],
      "text/plain": [
       "<IPython.core.display.Javascript object>"
      ]
     },
     "metadata": {},
     "output_type": "display_data"
    }
   ],
   "source": [
    "df_conv_age_groups_counts = create_counts_converted_table_by_feature(\n",
    "    df_conv, \"age_groups\"\n",
    ")\n",
    "df_conv_age_groups_counts"
   ]
  },
  {
   "cell_type": "code",
   "execution_count": 237,
   "metadata": {
    "ExecuteTime": {
     "end_time": "2020-03-02T20:34:27.389105Z",
     "start_time": "2020-03-02T20:34:26.909396Z"
    }
   },
   "outputs": [
    {
     "data": {
      "image/png": "[encoded data removed]",
      "text/plain": [
       "<Figure size 1008x432 with 2 Axes>"
      ]
     },
     "metadata": {},
     "output_type": "display_data"
    },
    {
     "data": {
      "application/javascript": [
       "\n",
       "            setTimeout(function() {\n",
       "                var nbb_cell_id = 237;\n",
       "                var nbb_unformatted_code = \"# Manually set age_groups order\\nage_groups_order = [\\n    i for i in df_conv_age_groups_counts.index.get_level_values(0).unique().tolist()\\n]\\n# age_groups_order = [\\\"youngest\\\", \\\"young\\\", \\\"mid\\\", \\\"old\\\", \\\"older\\\"]\\n\\ncreate_bar_plots(df_conv_age_groups_counts, \\\"age_groups\\\", age_groups_order, 45)\";\n",
       "                var nbb_formatted_code = \"# Manually set age_groups order\\nage_groups_order = [\\n    i for i in df_conv_age_groups_counts.index.get_level_values(0).unique().tolist()\\n]\\n# age_groups_order = [\\\"youngest\\\", \\\"young\\\", \\\"mid\\\", \\\"old\\\", \\\"older\\\"]\\n\\ncreate_bar_plots(df_conv_age_groups_counts, \\\"age_groups\\\", age_groups_order, 45)\";\n",
       "                var nbb_cells = Jupyter.notebook.get_cells();\n",
       "                for (var i = 0; i < nbb_cells.length; ++i) {\n",
       "                    if (nbb_cells[i].input_prompt_number == nbb_cell_id) {\n",
       "                        if (nbb_cells[i].get_text() == nbb_unformatted_code) {\n",
       "                             nbb_cells[i].set_text(nbb_formatted_code);\n",
       "                        }\n",
       "                        break;\n",
       "                    }\n",
       "                }\n",
       "            }, 500);\n",
       "            "
      ],
      "text/plain": [
       "<IPython.core.display.Javascript object>"
      ]
     },
     "metadata": {},
     "output_type": "display_data"
    }
   ],
   "source": [
    "# Manually set age_groups order\n",
    "age_groups_order = [\n",
    "    i for i in df_conv_age_groups_counts.index.get_level_values(0).unique().tolist()\n",
    "]\n",
    "# age_groups_order = [\"youngest\", \"young\", \"mid\", \"old\", \"older\"]\n",
    "\n",
    "create_bar_plots(df_conv_age_groups_counts, \"age_groups\", age_groups_order, 45)"
   ]
  },
  {
   "cell_type": "markdown",
   "metadata": {},
   "source": [
    "## Conversion by new user"
   ]
  },
  {
   "cell_type": "code",
   "execution_count": 238,
   "metadata": {
    "ExecuteTime": {
     "end_time": "2020-03-02T20:35:48.940077Z",
     "start_time": "2020-03-02T20:35:46.295266Z"
    }
   },
   "outputs": [
    {
     "data": {
      "text/plain": [
       "new_user  converted\n",
       "0         0             92295\n",
       "          1              7161\n",
       "1         0            213705\n",
       "          1              3039\n",
       "Name: age, dtype: int64"
      ]
     },
     "execution_count": 238,
     "metadata": {},
     "output_type": "execute_result"
    },
    {
     "data": {
      "application/javascript": [
       "\n",
       "            setTimeout(function() {\n",
       "                var nbb_cell_id = 238;\n",
       "                var nbb_unformatted_code = \"df_conv_new_user_counts = create_counts_converted_table_by_feature(df_conv, \\\"new_user\\\")\\ndf_conv_new_user_counts\";\n",
       "                var nbb_formatted_code = \"df_conv_new_user_counts = create_counts_converted_table_by_feature(df_conv, \\\"new_user\\\")\\ndf_conv_new_user_counts\";\n",
       "                var nbb_cells = Jupyter.notebook.get_cells();\n",
       "                for (var i = 0; i < nbb_cells.length; ++i) {\n",
       "                    if (nbb_cells[i].input_prompt_number == nbb_cell_id) {\n",
       "                        if (nbb_cells[i].get_text() == nbb_unformatted_code) {\n",
       "                             nbb_cells[i].set_text(nbb_formatted_code);\n",
       "                        }\n",
       "                        break;\n",
       "                    }\n",
       "                }\n",
       "            }, 500);\n",
       "            "
      ],
      "text/plain": [
       "<IPython.core.display.Javascript object>"
      ]
     },
     "metadata": {},
     "output_type": "display_data"
    }
   ],
   "source": [
    "df_conv_new_user_counts = create_counts_converted_table_by_feature(df_conv, \"new_user\")\n",
    "df_conv_new_user_counts"
   ]
  },
  {
   "cell_type": "code",
   "execution_count": 239,
   "metadata": {
    "ExecuteTime": {
     "end_time": "2020-03-02T20:35:49.736906Z",
     "start_time": "2020-03-02T20:35:48.988257Z"
    }
   },
   "outputs": [
    {
     "data": {
      "image/png": "[encoded data removed]",
      "text/plain": [
       "<Figure size 1008x432 with 2 Axes>"
      ]
     },
     "metadata": {},
     "output_type": "display_data"
    },
    {
     "data": {
      "application/javascript": [
       "\n",
       "            setTimeout(function() {\n",
       "                var nbb_cell_id = 239;\n",
       "                var nbb_unformatted_code = \"# Manually set new_user order\\nnew_user_order = [0, 1]\\ncreate_bar_plots(df_conv_new_user_counts, \\\"new_user\\\", new_user_order, 0)\";\n",
       "                var nbb_formatted_code = \"# Manually set new_user order\\nnew_user_order = [0, 1]\\ncreate_bar_plots(df_conv_new_user_counts, \\\"new_user\\\", new_user_order, 0)\";\n",
       "                var nbb_cells = Jupyter.notebook.get_cells();\n",
       "                for (var i = 0; i < nbb_cells.length; ++i) {\n",
       "                    if (nbb_cells[i].input_prompt_number == nbb_cell_id) {\n",
       "                        if (nbb_cells[i].get_text() == nbb_unformatted_code) {\n",
       "                             nbb_cells[i].set_text(nbb_formatted_code);\n",
       "                        }\n",
       "                        break;\n",
       "                    }\n",
       "                }\n",
       "            }, 500);\n",
       "            "
      ],
      "text/plain": [
       "<IPython.core.display.Javascript object>"
      ]
     },
     "metadata": {},
     "output_type": "display_data"
    }
   ],
   "source": [
    "# Manually set new_user order\n",
    "new_user_order = [0, 1]\n",
    "create_bar_plots(df_conv_new_user_counts, \"new_user\", new_user_order, 0)"
   ]
  },
  {
   "cell_type": "markdown",
   "metadata": {},
   "source": [
    "## Conversion by source"
   ]
  },
  {
   "cell_type": "code",
   "execution_count": 240,
   "metadata": {
    "ExecuteTime": {
     "end_time": "2020-03-02T20:35:54.983459Z",
     "start_time": "2020-03-02T20:35:52.452059Z"
    }
   },
   "outputs": [
    {
     "data": {
      "text/plain": [
       "source  converted\n",
       "Ads     0             85680\n",
       "        1              3060\n",
       "Direct  0             70380\n",
       "        1              2040\n",
       "Seo     0            149940\n",
       "        1              5100\n",
       "Name: age, dtype: int64"
      ]
     },
     "execution_count": 240,
     "metadata": {},
     "output_type": "execute_result"
    },
    {
     "data": {
      "application/javascript": [
       "\n",
       "            setTimeout(function() {\n",
       "                var nbb_cell_id = 240;\n",
       "                var nbb_unformatted_code = \"df_conv_source_counts = create_counts_converted_table_by_feature(df_conv, \\\"source\\\")\\ndf_conv_source_counts\";\n",
       "                var nbb_formatted_code = \"df_conv_source_counts = create_counts_converted_table_by_feature(df_conv, \\\"source\\\")\\ndf_conv_source_counts\";\n",
       "                var nbb_cells = Jupyter.notebook.get_cells();\n",
       "                for (var i = 0; i < nbb_cells.length; ++i) {\n",
       "                    if (nbb_cells[i].input_prompt_number == nbb_cell_id) {\n",
       "                        if (nbb_cells[i].get_text() == nbb_unformatted_code) {\n",
       "                             nbb_cells[i].set_text(nbb_formatted_code);\n",
       "                        }\n",
       "                        break;\n",
       "                    }\n",
       "                }\n",
       "            }, 500);\n",
       "            "
      ],
      "text/plain": [
       "<IPython.core.display.Javascript object>"
      ]
     },
     "metadata": {},
     "output_type": "display_data"
    }
   ],
   "source": [
    "df_conv_source_counts = create_counts_converted_table_by_feature(df_conv, \"source\")\n",
    "df_conv_source_counts"
   ]
  },
  {
   "cell_type": "code",
   "execution_count": 241,
   "metadata": {
    "ExecuteTime": {
     "end_time": "2020-03-02T20:35:59.762398Z",
     "start_time": "2020-03-02T20:35:56.826574Z"
    }
   },
   "outputs": [
    {
     "data": {
      "image/png": "[encoded data removed]",
      "text/plain": [
       "<Figure size 1008x432 with 2 Axes>"
      ]
     },
     "metadata": {},
     "output_type": "display_data"
    },
    {
     "data": {
      "application/javascript": [
       "\n",
       "            setTimeout(function() {\n",
       "                var nbb_cell_id = 241;\n",
       "                var nbb_unformatted_code = \"# Put the sources in descending order of total counts (age was arbitrarily chosen)\\nsource_order = (\\n    df_conv.groupby([\\\"source\\\"])\\n    .count()[\\\"age\\\"]\\n    .copy()\\n    .sort_values(ascending=False)\\n    .index.tolist()\\n)\\n# print(source_order)\\ncreate_bar_plots(df_conv_source_counts, \\\"source\\\", source_order, 0)\";\n",
       "                var nbb_formatted_code = \"# Put the sources in descending order of total counts (age was arbitrarily chosen)\\nsource_order = (\\n    df_conv.groupby([\\\"source\\\"])\\n    .count()[\\\"age\\\"]\\n    .copy()\\n    .sort_values(ascending=False)\\n    .index.tolist()\\n)\\n# print(source_order)\\ncreate_bar_plots(df_conv_source_counts, \\\"source\\\", source_order, 0)\";\n",
       "                var nbb_cells = Jupyter.notebook.get_cells();\n",
       "                for (var i = 0; i < nbb_cells.length; ++i) {\n",
       "                    if (nbb_cells[i].input_prompt_number == nbb_cell_id) {\n",
       "                        if (nbb_cells[i].get_text() == nbb_unformatted_code) {\n",
       "                             nbb_cells[i].set_text(nbb_formatted_code);\n",
       "                        }\n",
       "                        break;\n",
       "                    }\n",
       "                }\n",
       "            }, 500);\n",
       "            "
      ],
      "text/plain": [
       "<IPython.core.display.Javascript object>"
      ]
     },
     "metadata": {},
     "output_type": "display_data"
    }
   ],
   "source": [
    "# Put the sources in descending order of total counts (age was arbitrarily chosen)\n",
    "source_order = (\n",
    "    df_conv.groupby([\"source\"])\n",
    "    .count()[\"age\"]\n",
    "    .copy()\n",
    "    .sort_values(ascending=False)\n",
    "    .index.tolist()\n",
    ")\n",
    "# print(source_order)\n",
    "create_bar_plots(df_conv_source_counts, \"source\", source_order, 0)"
   ]
  },
  {
   "cell_type": "markdown",
   "metadata": {},
   "source": [
    "## Conversion by number of pages visited"
   ]
  },
  {
   "cell_type": "code",
   "execution_count": 243,
   "metadata": {
    "ExecuteTime": {
     "end_time": "2020-03-02T20:36:06.869843Z",
     "start_time": "2020-03-02T20:36:06.472512Z"
    }
   },
   "outputs": [
    {
     "data": {
      "image/png": "[encoded data removed]",
      "text/plain": [
       "<Figure size 576x396 with 1 Axes>"
      ]
     },
     "metadata": {},
     "output_type": "display_data"
    },
    {
     "data": {
      "application/javascript": [
       "\n",
       "            setTimeout(function() {\n",
       "                var nbb_cell_id = 243;\n",
       "                var nbb_unformatted_code = \"f, ax1 = plt.subplots()\\ndf_conv[\\\"total_pages_visited\\\"].hist(ax=ax1)\\nax1.set_title(\\\"Distribution of users by number of pages visited\\\");\";\n",
       "                var nbb_formatted_code = \"f, ax1 = plt.subplots()\\ndf_conv[\\\"total_pages_visited\\\"].hist(ax=ax1)\\nax1.set_title(\\\"Distribution of users by number of pages visited\\\")\";\n",
       "                var nbb_cells = Jupyter.notebook.get_cells();\n",
       "                for (var i = 0; i < nbb_cells.length; ++i) {\n",
       "                    if (nbb_cells[i].input_prompt_number == nbb_cell_id) {\n",
       "                        if (nbb_cells[i].get_text() == nbb_unformatted_code) {\n",
       "                             nbb_cells[i].set_text(nbb_formatted_code);\n",
       "                        }\n",
       "                        break;\n",
       "                    }\n",
       "                }\n",
       "            }, 500);\n",
       "            "
      ],
      "text/plain": [
       "<IPython.core.display.Javascript object>"
      ]
     },
     "metadata": {},
     "output_type": "display_data"
    }
   ],
   "source": [
    "f, ax1 = plt.subplots()\n",
    "df_conv[\"total_pages_visited\"].hist(ax=ax1)\n",
    "ax1.set_title(\"Distribution of users by number of pages visited\")"
   ]
  },
  {
   "cell_type": "code",
   "execution_count": 198,
   "metadata": {
    "ExecuteTime": {
     "end_time": "2020-03-02T20:24:52.098576Z",
     "start_time": "2020-03-02T20:24:52.000180Z"
    }
   },
   "outputs": [
    {
     "data": {
      "text/plain": [
       "(0.999, 2.0]    84607\n",
       "(3.0, 5.0]      77354\n",
       "(7.0, 29.0]     56661\n",
       "(5.0, 7.0]      53749\n",
       "(2.0, 3.0]      43829\n",
       "Name: total_page_visit_groups, dtype: int64"
      ]
     },
     "execution_count": 198,
     "metadata": {},
     "output_type": "execute_result"
    },
    {
     "data": {
      "application/javascript": [
       "\n",
       "            setTimeout(function() {\n",
       "                var nbb_cell_id = 198;\n",
       "                var nbb_unformatted_code = \"# Bin number of page visits with quantile cuts\\ndf_conv[\\\"total_page_visit_groups\\\"] = pd.qcut(df_conv[\\\"total_pages_visited\\\"], 5)\\ndf_conv[\\\"total_page_visit_groups\\\"].value_counts()\";\n",
       "                var nbb_formatted_code = \"# Bin number of page visits with quantile cuts\\ndf_conv[\\\"total_page_visit_groups\\\"] = pd.qcut(df_conv[\\\"total_pages_visited\\\"], 5)\\ndf_conv[\\\"total_page_visit_groups\\\"].value_counts()\";\n",
       "                var nbb_cells = Jupyter.notebook.get_cells();\n",
       "                for (var i = 0; i < nbb_cells.length; ++i) {\n",
       "                    if (nbb_cells[i].input_prompt_number == nbb_cell_id) {\n",
       "                        if (nbb_cells[i].get_text() == nbb_unformatted_code) {\n",
       "                             nbb_cells[i].set_text(nbb_formatted_code);\n",
       "                        }\n",
       "                        break;\n",
       "                    }\n",
       "                }\n",
       "            }, 500);\n",
       "            "
      ],
      "text/plain": [
       "<IPython.core.display.Javascript object>"
      ]
     },
     "metadata": {},
     "output_type": "display_data"
    }
   ],
   "source": [
    "# Bin number of page visits with quantile cuts\n",
    "df_conv[\"total_page_visit_groups\"] = pd.qcut(df_conv[\"total_pages_visited\"], 5)\n",
    "df_conv[\"total_page_visit_groups\"].value_counts()"
   ]
  },
  {
   "cell_type": "code",
   "execution_count": 244,
   "metadata": {
    "ExecuteTime": {
     "end_time": "2020-03-02T20:36:58.231394Z",
     "start_time": "2020-03-02T20:36:57.166919Z"
    }
   },
   "outputs": [
    {
     "data": {
      "text/plain": [
       "total_page_visit_groups  converted\n",
       "(0.999, 2.0]             0            84597\n",
       "                         1               10\n",
       "(2.0, 3.0]               0            43818\n",
       "                         1               11\n",
       "(3.0, 5.0]               0            77265\n",
       "                         1               89\n",
       "(5.0, 7.0]               0            53486\n",
       "                         1              263\n",
       "(7.0, 29.0]              0            46834\n",
       "                         1             9827\n",
       "Name: age, dtype: int64"
      ]
     },
     "execution_count": 244,
     "metadata": {},
     "output_type": "execute_result"
    },
    {
     "data": {
      "application/javascript": [
       "\n",
       "            setTimeout(function() {\n",
       "                var nbb_cell_id = 244;\n",
       "                var nbb_unformatted_code = \"df_conv_total_page_visit_groups_counts = create_counts_converted_table_by_feature(df_conv, \\\"total_page_visit_groups\\\")\\ndf_conv_total_page_visit_groups_counts\";\n",
       "                var nbb_formatted_code = \"df_conv_total_page_visit_groups_counts = create_counts_converted_table_by_feature(\\n    df_conv, \\\"total_page_visit_groups\\\"\\n)\\ndf_conv_total_page_visit_groups_counts\";\n",
       "                var nbb_cells = Jupyter.notebook.get_cells();\n",
       "                for (var i = 0; i < nbb_cells.length; ++i) {\n",
       "                    if (nbb_cells[i].input_prompt_number == nbb_cell_id) {\n",
       "                        if (nbb_cells[i].get_text() == nbb_unformatted_code) {\n",
       "                             nbb_cells[i].set_text(nbb_formatted_code);\n",
       "                        }\n",
       "                        break;\n",
       "                    }\n",
       "                }\n",
       "            }, 500);\n",
       "            "
      ],
      "text/plain": [
       "<IPython.core.display.Javascript object>"
      ]
     },
     "metadata": {},
     "output_type": "display_data"
    }
   ],
   "source": [
    "df_conv_total_page_visit_groups_counts = create_counts_converted_table_by_feature(\n",
    "    df_conv, \"total_page_visit_groups\"\n",
    ")\n",
    "df_conv_total_page_visit_groups_counts"
   ]
  },
  {
   "cell_type": "code",
   "execution_count": 256,
   "metadata": {
    "ExecuteTime": {
     "end_time": "2020-03-02T20:49:17.511330Z",
     "start_time": "2020-03-02T20:49:16.595304Z"
    }
   },
   "outputs": [
    {
     "data": {
      "image/png": "[encoded data removed]",
      "text/plain": [
       "<Figure size 1008x432 with 2 Axes>"
      ]
     },
     "metadata": {},
     "output_type": "display_data"
    },
    {
     "data": {
      "application/javascript": [
       "\n",
       "            setTimeout(function() {\n",
       "                var nbb_cell_id = 256;\n",
       "                var nbb_unformatted_code = \"# Manually set total_page_visits_groups order\\ntotal_page_visits_groups_order = [\\n    i\\n    for i in df_conv_total_page_visit_groups_counts.index.get_level_values(0)\\n    .unique()\\n    .tolist()\\n]\\ntotal_page_visits_groups_order\\ncreate_bar_plots(\\n    df_conv_total_page_visit_groups_counts,\\n    \\\"total_page_visits_groups\\\",\\n    total_page_visits_groups_order,\\n    45,\\n)\";\n",
       "                var nbb_formatted_code = \"# Manually set total_page_visits_groups order\\ntotal_page_visits_groups_order = [\\n    i\\n    for i in df_conv_total_page_visit_groups_counts.index.get_level_values(0)\\n    .unique()\\n    .tolist()\\n]\\ntotal_page_visits_groups_order\\ncreate_bar_plots(\\n    df_conv_total_page_visit_groups_counts,\\n    \\\"total_page_visits_groups\\\",\\n    total_page_visits_groups_order,\\n    45,\\n)\";\n",
       "                var nbb_cells = Jupyter.notebook.get_cells();\n",
       "                for (var i = 0; i < nbb_cells.length; ++i) {\n",
       "                    if (nbb_cells[i].input_prompt_number == nbb_cell_id) {\n",
       "                        if (nbb_cells[i].get_text() == nbb_unformatted_code) {\n",
       "                             nbb_cells[i].set_text(nbb_formatted_code);\n",
       "                        }\n",
       "                        break;\n",
       "                    }\n",
       "                }\n",
       "            }, 500);\n",
       "            "
      ],
      "text/plain": [
       "<IPython.core.display.Javascript object>"
      ]
     },
     "metadata": {},
     "output_type": "display_data"
    }
   ],
   "source": [
    "# Manually set total_page_visits_groups order\n",
    "total_page_visits_groups_order = [\n",
    "    i\n",
    "    for i in df_conv_total_page_visit_groups_counts.index.get_level_values(0)\n",
    "    .unique()\n",
    "    .tolist()\n",
    "]\n",
    "total_page_visits_groups_order\n",
    "create_bar_plots(\n",
    "    df_conv_total_page_visit_groups_counts,\n",
    "    \"total_page_visits_groups\",\n",
    "    total_page_visits_groups_order,\n",
    "    45,\n",
    ")"
   ]
  },
  {
   "cell_type": "code",
   "execution_count": 456,
   "metadata": {
    "ExecuteTime": {
     "end_time": "2020-03-04T02:08:58.869417Z",
     "start_time": "2020-03-04T02:08:58.405945Z"
    }
   },
   "outputs": [
    {
     "data": {
      "text/plain": [
       "Text(0.5, 1.0, 'Distribution of users by number of pages visited')"
      ]
     },
     "execution_count": 456,
     "metadata": {},
     "output_type": "execute_result"
    },
    {
     "data": {
      "image/png": "[encoded data removed]",
      "text/plain": [
       "<Figure size 576x396 with 1 Axes>"
      ]
     },
     "metadata": {},
     "output_type": "display_data"
    },
    {
     "data": {
      "application/javascript": [
       "\n",
       "            setTimeout(function() {\n",
       "                var nbb_cell_id = 456;\n",
       "                var nbb_unformatted_code = \"f, ax1 = plt.subplots()\\n\\ndf_conv_0 = df_conv[df_conv[\\\"converted\\\"] == 0].copy()\\ndf_conv_0[\\\"total_pages_visited\\\"].hist(\\n    ax=ax1, bins=20, color=\\\"gray\\\", label=\\\"no conversion\\\"\\n)\\ndf_conv_1 = df_conv[df_conv[\\\"converted\\\"] == 1].copy()\\ndf_conv_1[\\\"total_pages_visited\\\"].hist(\\n    ax=ax1, bins=20, color=\\\"green\\\", label=\\\"conversion\\\"\\n)\\nax1.set_title(\\\"Distribution of users by number of pages visited\\\")\";\n",
       "                var nbb_formatted_code = \"f, ax1 = plt.subplots()\\n\\ndf_conv_0 = df_conv[df_conv[\\\"converted\\\"] == 0].copy()\\ndf_conv_0[\\\"total_pages_visited\\\"].hist(\\n    ax=ax1, bins=20, color=\\\"gray\\\", label=\\\"no conversion\\\"\\n)\\ndf_conv_1 = df_conv[df_conv[\\\"converted\\\"] == 1].copy()\\ndf_conv_1[\\\"total_pages_visited\\\"].hist(\\n    ax=ax1, bins=20, color=\\\"green\\\", label=\\\"conversion\\\"\\n)\\nax1.set_title(\\\"Distribution of users by number of pages visited\\\")\";\n",
       "                var nbb_cells = Jupyter.notebook.get_cells();\n",
       "                for (var i = 0; i < nbb_cells.length; ++i) {\n",
       "                    if (nbb_cells[i].input_prompt_number == nbb_cell_id) {\n",
       "                        if (nbb_cells[i].get_text() == nbb_unformatted_code) {\n",
       "                             nbb_cells[i].set_text(nbb_formatted_code);\n",
       "                        }\n",
       "                        break;\n",
       "                    }\n",
       "                }\n",
       "            }, 500);\n",
       "            "
      ],
      "text/plain": [
       "<IPython.core.display.Javascript object>"
      ]
     },
     "metadata": {},
     "output_type": "display_data"
    }
   ],
   "source": [
    "f, ax1 = plt.subplots()\n",
    "\n",
    "df_conv_0 = df_conv[df_conv[\"converted\"] == 0].copy()\n",
    "df_conv_0[\"total_pages_visited\"].hist(\n",
    "    ax=ax1, bins=20, color=\"gray\", label=\"no conversion\"\n",
    ")\n",
    "df_conv_1 = df_conv[df_conv[\"converted\"] == 1].copy()\n",
    "df_conv_1[\"total_pages_visited\"].hist(\n",
    "    ax=ax1, bins=20, color=\"green\", label=\"conversion\"\n",
    ")\n",
    "ax1.set_title(\"Distribution of users by number of pages visited\");"
   ]
  },
  {
   "cell_type": "code",
   "execution_count": null,
   "metadata": {},
   "outputs": [],
   "source": []
  },
  {
   "cell_type": "markdown",
   "metadata": {},
   "source": [
    "# Detailed cohort analysis based on the customer source\n",
    "\n",
    "Since the product and marketing team is especially interested in the customer source, I'll further visualize data based on source and other variables."
   ]
  },
  {
   "cell_type": "code",
   "execution_count": 258,
   "metadata": {
    "ExecuteTime": {
     "end_time": "2020-03-02T20:54:23.234895Z",
     "start_time": "2020-03-02T20:54:23.168638Z"
    }
   },
   "outputs": [
    {
     "data": {
      "text/html": [
       "<div>\n",
       "<style scoped>\n",
       "    .dataframe tbody tr th:only-of-type {\n",
       "        vertical-align: middle;\n",
       "    }\n",
       "\n",
       "    .dataframe tbody tr th {\n",
       "        vertical-align: top;\n",
       "    }\n",
       "\n",
       "    .dataframe thead th {\n",
       "        text-align: right;\n",
       "    }\n",
       "</style>\n",
       "<table border=\"1\" class=\"dataframe\">\n",
       "  <thead>\n",
       "    <tr style=\"text-align: right;\">\n",
       "      <th></th>\n",
       "      <th>country</th>\n",
       "      <th>age</th>\n",
       "      <th>new_user</th>\n",
       "      <th>source</th>\n",
       "      <th>total_pages_visited</th>\n",
       "      <th>converted</th>\n",
       "      <th>age_groups</th>\n",
       "      <th>total_page_visit_groups</th>\n",
       "    </tr>\n",
       "  </thead>\n",
       "  <tbody>\n",
       "    <tr>\n",
       "      <th>0</th>\n",
       "      <td>UK</td>\n",
       "      <td>25</td>\n",
       "      <td>1</td>\n",
       "      <td>Ads</td>\n",
       "      <td>1</td>\n",
       "      <td>0</td>\n",
       "      <td>(23.0, 28.0]</td>\n",
       "      <td>(0.999, 2.0]</td>\n",
       "    </tr>\n",
       "    <tr>\n",
       "      <th>1</th>\n",
       "      <td>US</td>\n",
       "      <td>23</td>\n",
       "      <td>1</td>\n",
       "      <td>Seo</td>\n",
       "      <td>5</td>\n",
       "      <td>0</td>\n",
       "      <td>(16.999, 23.0]</td>\n",
       "      <td>(3.0, 5.0]</td>\n",
       "    </tr>\n",
       "    <tr>\n",
       "      <th>2</th>\n",
       "      <td>US</td>\n",
       "      <td>28</td>\n",
       "      <td>1</td>\n",
       "      <td>Seo</td>\n",
       "      <td>4</td>\n",
       "      <td>0</td>\n",
       "      <td>(23.0, 28.0]</td>\n",
       "      <td>(3.0, 5.0]</td>\n",
       "    </tr>\n",
       "    <tr>\n",
       "      <th>3</th>\n",
       "      <td>China</td>\n",
       "      <td>39</td>\n",
       "      <td>1</td>\n",
       "      <td>Seo</td>\n",
       "      <td>5</td>\n",
       "      <td>0</td>\n",
       "      <td>(38.0, 123.0]</td>\n",
       "      <td>(3.0, 5.0]</td>\n",
       "    </tr>\n",
       "    <tr>\n",
       "      <th>4</th>\n",
       "      <td>US</td>\n",
       "      <td>30</td>\n",
       "      <td>1</td>\n",
       "      <td>Seo</td>\n",
       "      <td>6</td>\n",
       "      <td>0</td>\n",
       "      <td>(28.0, 32.0]</td>\n",
       "      <td>(5.0, 7.0]</td>\n",
       "    </tr>\n",
       "  </tbody>\n",
       "</table>\n",
       "</div>"
      ],
      "text/plain": [
       "  country  age  new_user source  total_pages_visited  converted  \\\n",
       "0      UK   25         1    Ads                    1          0   \n",
       "1      US   23         1    Seo                    5          0   \n",
       "2      US   28         1    Seo                    4          0   \n",
       "3   China   39         1    Seo                    5          0   \n",
       "4      US   30         1    Seo                    6          0   \n",
       "\n",
       "       age_groups total_page_visit_groups  \n",
       "0    (23.0, 28.0]            (0.999, 2.0]  \n",
       "1  (16.999, 23.0]              (3.0, 5.0]  \n",
       "2    (23.0, 28.0]              (3.0, 5.0]  \n",
       "3   (38.0, 123.0]              (3.0, 5.0]  \n",
       "4    (28.0, 32.0]              (5.0, 7.0]  "
      ]
     },
     "execution_count": 258,
     "metadata": {},
     "output_type": "execute_result"
    },
    {
     "data": {
      "application/javascript": [
       "\n",
       "            setTimeout(function() {\n",
       "                var nbb_cell_id = 258;\n",
       "                var nbb_unformatted_code = \"df_conv.head()\";\n",
       "                var nbb_formatted_code = \"df_conv.head()\";\n",
       "                var nbb_cells = Jupyter.notebook.get_cells();\n",
       "                for (var i = 0; i < nbb_cells.length; ++i) {\n",
       "                    if (nbb_cells[i].input_prompt_number == nbb_cell_id) {\n",
       "                        if (nbb_cells[i].get_text() == nbb_unformatted_code) {\n",
       "                             nbb_cells[i].set_text(nbb_formatted_code);\n",
       "                        }\n",
       "                        break;\n",
       "                    }\n",
       "                }\n",
       "            }, 500);\n",
       "            "
      ],
      "text/plain": [
       "<IPython.core.display.Javascript object>"
      ]
     },
     "metadata": {},
     "output_type": "display_data"
    }
   ],
   "source": [
    "df_conv.head()"
   ]
  },
  {
   "cell_type": "code",
   "execution_count": 265,
   "metadata": {
    "ExecuteTime": {
     "end_time": "2020-03-02T21:23:50.051675Z",
     "start_time": "2020-03-02T21:23:50.025011Z"
    },
    "code_folding": [
     0
    ]
   },
   "outputs": [
    {
     "data": {
      "application/javascript": [
       "\n",
       "            setTimeout(function() {\n",
       "                var nbb_cell_id = 265;\n",
       "                var nbb_unformatted_code = \"def create_counts_converted_table_by_multiple_features(df, feature1, feature2):\\n\\n    # age is arbitrarily chosen\\n    df_conv_feature_counts = (\\n        df.groupby([feature1, feature2, \\\"converted\\\"]).count()[\\\"age\\\"].copy()\\n    )\\n    return df_conv_feature_counts\";\n",
       "                var nbb_formatted_code = \"def create_counts_converted_table_by_multiple_features(df, feature1, feature2):\\n\\n    # age is arbitrarily chosen\\n    df_conv_feature_counts = (\\n        df.groupby([feature1, feature2, \\\"converted\\\"]).count()[\\\"age\\\"].copy()\\n    )\\n    return df_conv_feature_counts\";\n",
       "                var nbb_cells = Jupyter.notebook.get_cells();\n",
       "                for (var i = 0; i < nbb_cells.length; ++i) {\n",
       "                    if (nbb_cells[i].input_prompt_number == nbb_cell_id) {\n",
       "                        if (nbb_cells[i].get_text() == nbb_unformatted_code) {\n",
       "                             nbb_cells[i].set_text(nbb_formatted_code);\n",
       "                        }\n",
       "                        break;\n",
       "                    }\n",
       "                }\n",
       "            }, 500);\n",
       "            "
      ],
      "text/plain": [
       "<IPython.core.display.Javascript object>"
      ]
     },
     "metadata": {},
     "output_type": "display_data"
    }
   ],
   "source": [
    "def create_counts_converted_table_by_multiple_features(df, feature1, feature2):\n",
    "\n",
    "    # age is arbitrarily chosen\n",
    "    df_conv_feature_counts = (\n",
    "        df.groupby([feature1, feature2, \"converted\"]).count()[\"age\"].copy()\n",
    "    )\n",
    "    return df_conv_feature_counts"
   ]
  },
  {
   "cell_type": "code",
   "execution_count": 429,
   "metadata": {
    "ExecuteTime": {
     "end_time": "2020-03-04T01:49:25.431559Z",
     "start_time": "2020-03-04T01:49:25.353601Z"
    },
    "code_folding": [
     2
    ]
   },
   "outputs": [
    {
     "data": {
      "application/javascript": [
       "\n",
       "            setTimeout(function() {\n",
       "                var nbb_cell_id = 429;\n",
       "                var nbb_unformatted_code = \"def create_bar_plots_by_multiple_features(\\n    df_conv_feature_counts_multi, feature1_order, xaxis_label_rot, barwidth\\n):\\n\\n    # Make a dictionary where each source has its own list, each containing values for a member of the feature\\n    source_order = [\\\"Seo\\\", \\\"Ads\\\", \\\"Direct\\\"]\\n    source_dict = {\\n        \\\"Seo\\\": {\\\"nonconverted\\\": [], \\\"converted\\\": [], \\\"pct_converted\\\": []},\\n        \\\"Ads\\\": {\\\"nonconverted\\\": [], \\\"converted\\\": [], \\\"pct_converted\\\": []},\\n        \\\"Direct\\\": {\\\"nonconverted\\\": [], \\\"converted\\\": [], \\\"pct_converted\\\": []},\\n    }\\n\\n    color_list = [\\\"black\\\", \\\"white\\\", \\\"gray\\\"]\\n\\n    # Figure setup\\n\\n    f, (ax1, ax2) = plt.subplots(1, 2, figsize=(14, 6))\\n    # set width of bar\\n    barWidth = barwidth\\n    # Set position of bar on X axis\\n    ind1 = np.arange(len(feature1_order))\\n    ind2 = [x + barWidth for x in ind1]\\n    ind3 = [x + barWidth for x in ind2]\\n    ind_list = [ind1, ind2, ind3]\\n\\n    for i, source in enumerate(source_order):\\n        # print(source)\\n        non_converted_by_feat1 = [\\n            df_conv_feature_counts_multi[source][feat1][0] for feat1 in feature1_order\\n        ]\\n\\n        converted_by_feat1 = [\\n            df_conv_feature_counts_multi[source][feat1][1] for feat1 in feature1_order\\n        ]\\n\\n        conv_rate_by_feat1 = [\\n            100\\n            * (\\n                df_conv_feature_counts_multi[source][feat1][1]\\n                / df_conv_feature_counts_multi[source][feat1].sum()\\n            )\\n            for feat1 in feature1_order\\n        ]\\n\\n        source_dict[source][\\\"nonconverted\\\"] = non_converted_by_feat1\\n        source_dict[source][\\\"converted\\\"] = converted_by_feat1\\n        source_dict[source][\\\"pct_converted\\\"] = conv_rate_by_feat1\\n\\n        # Plotting\\n        ax1.bar(\\n            ind_list[i],\\n            source_dict[source][\\\"nonconverted\\\"],\\n            width=barWidth,\\n            edgecolor=\\\"black\\\",\\n            linewidth=1,\\n            color=color_list[i],\\n            label=source,\\n        )\\n        ax1.bar(\\n            ind_list[i],\\n            source_dict[source][\\\"converted\\\"],\\n            bottom=source_dict[source][\\\"nonconverted\\\"],\\n            width=barWidth,\\n            edgecolor=\\\"black\\\",\\n            linewidth=1,\\n            color=\\\"green\\\",\\n        )\\n\\n        ax2.bar(\\n            ind_list[i],\\n            source_dict[source][\\\"pct_converted\\\"],\\n            width=barWidth,\\n            edgecolor=\\\"green\\\",\\n            linewidth=1,\\n            color=color_list[i],\\n            label=source,\\n        )\\n\\n    ax1.set_xticks(ind2)\\n    labels = [item.get_text() for item in ax1.get_xticklabels()]\\n    ax1.set_xticklabels(feature1_order, rotation=xaxis_label_rot)\\n    ax1.set_ylabel(\\\"number of users\\\")\\n    ax1.legend()\\n    ax1.set_title(\\\"No. of users\\\")  # by \\\" + feature)\\n\\n    ax2.set_xticks(ind2)\\n    labels = [item.get_text() for item in ax2.get_xticklabels()]\\n    ax2.set_xticklabels(feature1_order, rotation=xaxis_label_rot)\\n    ax2.legend()\\n    ax2.set_ylabel(\\\"percent of users\\\")\\n    ax2.set_title(\\\"Pct. of converted users\\\")\\n\\n    plt.tight_layout()\";\n",
       "                var nbb_formatted_code = \"def create_bar_plots_by_multiple_features(\\n    df_conv_feature_counts_multi, feature1_order, xaxis_label_rot, barwidth\\n):\\n\\n    # Make a dictionary where each source has its own list, each containing values for a member of the feature\\n    source_order = [\\\"Seo\\\", \\\"Ads\\\", \\\"Direct\\\"]\\n    source_dict = {\\n        \\\"Seo\\\": {\\\"nonconverted\\\": [], \\\"converted\\\": [], \\\"pct_converted\\\": []},\\n        \\\"Ads\\\": {\\\"nonconverted\\\": [], \\\"converted\\\": [], \\\"pct_converted\\\": []},\\n        \\\"Direct\\\": {\\\"nonconverted\\\": [], \\\"converted\\\": [], \\\"pct_converted\\\": []},\\n    }\\n\\n    color_list = [\\\"black\\\", \\\"white\\\", \\\"gray\\\"]\\n\\n    # Figure setup\\n\\n    f, (ax1, ax2) = plt.subplots(1, 2, figsize=(14, 6))\\n    # set width of bar\\n    barWidth = barwidth\\n    # Set position of bar on X axis\\n    ind1 = np.arange(len(feature1_order))\\n    ind2 = [x + barWidth for x in ind1]\\n    ind3 = [x + barWidth for x in ind2]\\n    ind_list = [ind1, ind2, ind3]\\n\\n    for i, source in enumerate(source_order):\\n        # print(source)\\n        non_converted_by_feat1 = [\\n            df_conv_feature_counts_multi[source][feat1][0] for feat1 in feature1_order\\n        ]\\n\\n        converted_by_feat1 = [\\n            df_conv_feature_counts_multi[source][feat1][1] for feat1 in feature1_order\\n        ]\\n\\n        conv_rate_by_feat1 = [\\n            100\\n            * (\\n                df_conv_feature_counts_multi[source][feat1][1]\\n                / df_conv_feature_counts_multi[source][feat1].sum()\\n            )\\n            for feat1 in feature1_order\\n        ]\\n\\n        source_dict[source][\\\"nonconverted\\\"] = non_converted_by_feat1\\n        source_dict[source][\\\"converted\\\"] = converted_by_feat1\\n        source_dict[source][\\\"pct_converted\\\"] = conv_rate_by_feat1\\n\\n        # Plotting\\n        ax1.bar(\\n            ind_list[i],\\n            source_dict[source][\\\"nonconverted\\\"],\\n            width=barWidth,\\n            edgecolor=\\\"black\\\",\\n            linewidth=1,\\n            color=color_list[i],\\n            label=source,\\n        )\\n        ax1.bar(\\n            ind_list[i],\\n            source_dict[source][\\\"converted\\\"],\\n            bottom=source_dict[source][\\\"nonconverted\\\"],\\n            width=barWidth,\\n            edgecolor=\\\"black\\\",\\n            linewidth=1,\\n            color=\\\"green\\\",\\n        )\\n\\n        ax2.bar(\\n            ind_list[i],\\n            source_dict[source][\\\"pct_converted\\\"],\\n            width=barWidth,\\n            edgecolor=\\\"green\\\",\\n            linewidth=1,\\n            color=color_list[i],\\n            label=source,\\n        )\\n\\n    ax1.set_xticks(ind2)\\n    labels = [item.get_text() for item in ax1.get_xticklabels()]\\n    ax1.set_xticklabels(feature1_order, rotation=xaxis_label_rot)\\n    ax1.set_ylabel(\\\"number of users\\\")\\n    ax1.legend()\\n    ax1.set_title(\\\"No. of users\\\")  # by \\\" + feature)\\n\\n    ax2.set_xticks(ind2)\\n    labels = [item.get_text() for item in ax2.get_xticklabels()]\\n    ax2.set_xticklabels(feature1_order, rotation=xaxis_label_rot)\\n    ax2.legend()\\n    ax2.set_ylabel(\\\"percent of users\\\")\\n    ax2.set_title(\\\"Pct. of converted users\\\")\\n\\n    plt.tight_layout()\";\n",
       "                var nbb_cells = Jupyter.notebook.get_cells();\n",
       "                for (var i = 0; i < nbb_cells.length; ++i) {\n",
       "                    if (nbb_cells[i].input_prompt_number == nbb_cell_id) {\n",
       "                        if (nbb_cells[i].get_text() == nbb_unformatted_code) {\n",
       "                             nbb_cells[i].set_text(nbb_formatted_code);\n",
       "                        }\n",
       "                        break;\n",
       "                    }\n",
       "                }\n",
       "            }, 500);\n",
       "            "
      ],
      "text/plain": [
       "<IPython.core.display.Javascript object>"
      ]
     },
     "metadata": {},
     "output_type": "display_data"
    }
   ],
   "source": [
    "def create_bar_plots_by_multiple_features(\n",
    "    df_conv_feature_counts_multi, feature1_order, xaxis_label_rot, barwidth\n",
    "):\n",
    "\n",
    "    # Make a dictionary where each source has its own list, each containing values for a member of the feature\n",
    "    source_order = [\"Seo\", \"Ads\", \"Direct\"]\n",
    "    source_dict = {\n",
    "        \"Seo\": {\"nonconverted\": [], \"converted\": [], \"pct_converted\": []},\n",
    "        \"Ads\": {\"nonconverted\": [], \"converted\": [], \"pct_converted\": []},\n",
    "        \"Direct\": {\"nonconverted\": [], \"converted\": [], \"pct_converted\": []},\n",
    "    }\n",
    "\n",
    "    color_list = [\"black\", \"white\", \"gray\"]\n",
    "\n",
    "    # Figure setup\n",
    "\n",
    "    f, (ax1, ax2) = plt.subplots(1, 2, figsize=(14, 6))\n",
    "    # set width of bar\n",
    "    barWidth = barwidth\n",
    "    # Set position of bar on X axis\n",
    "    ind1 = np.arange(len(feature1_order))\n",
    "    ind2 = [x + barWidth for x in ind1]\n",
    "    ind3 = [x + barWidth for x in ind2]\n",
    "    ind_list = [ind1, ind2, ind3]\n",
    "\n",
    "    for i, source in enumerate(source_order):\n",
    "        # print(source)\n",
    "        non_converted_by_feat1 = [\n",
    "            df_conv_feature_counts_multi[source][feat1][0] for feat1 in feature1_order\n",
    "        ]\n",
    "\n",
    "        converted_by_feat1 = [\n",
    "            df_conv_feature_counts_multi[source][feat1][1] for feat1 in feature1_order\n",
    "        ]\n",
    "\n",
    "        conv_rate_by_feat1 = [\n",
    "            100\n",
    "            * (\n",
    "                df_conv_feature_counts_multi[source][feat1][1]\n",
    "                / df_conv_feature_counts_multi[source][feat1].sum()\n",
    "            )\n",
    "            for feat1 in feature1_order\n",
    "        ]\n",
    "\n",
    "        source_dict[source][\"nonconverted\"] = non_converted_by_feat1\n",
    "        source_dict[source][\"converted\"] = converted_by_feat1\n",
    "        source_dict[source][\"pct_converted\"] = conv_rate_by_feat1\n",
    "\n",
    "        # Plotting\n",
    "        ax1.bar(\n",
    "            ind_list[i],\n",
    "            source_dict[source][\"nonconverted\"],\n",
    "            width=barWidth,\n",
    "            edgecolor=\"black\",\n",
    "            linewidth=1,\n",
    "            color=color_list[i],\n",
    "            label=source,\n",
    "        )\n",
    "        ax1.bar(\n",
    "            ind_list[i],\n",
    "            source_dict[source][\"converted\"],\n",
    "            bottom=source_dict[source][\"nonconverted\"],\n",
    "            width=barWidth,\n",
    "            edgecolor=\"black\",\n",
    "            linewidth=1,\n",
    "            color=\"green\",\n",
    "        )\n",
    "\n",
    "        ax2.bar(\n",
    "            ind_list[i],\n",
    "            source_dict[source][\"pct_converted\"],\n",
    "            width=barWidth,\n",
    "            edgecolor=\"green\",\n",
    "            linewidth=1,\n",
    "            color=color_list[i],\n",
    "            label=source,\n",
    "        )\n",
    "\n",
    "    ax1.set_xticks(ind2)\n",
    "    labels = [item.get_text() for item in ax1.get_xticklabels()]\n",
    "    ax1.set_xticklabels(feature1_order, rotation=xaxis_label_rot)\n",
    "    ax1.set_ylabel(\"number of users\")\n",
    "    ax1.legend()\n",
    "    ax1.set_title(\"No. of users\")  # by \" + feature)\n",
    "\n",
    "    ax2.set_xticks(ind2)\n",
    "    labels = [item.get_text() for item in ax2.get_xticklabels()]\n",
    "    ax2.set_xticklabels(feature1_order, rotation=xaxis_label_rot)\n",
    "    ax2.legend()\n",
    "    ax2.set_ylabel(\"percent of users\")\n",
    "    ax2.set_title(\"Pct. of converted users\")\n",
    "\n",
    "    plt.tight_layout()"
   ]
  },
  {
   "cell_type": "markdown",
   "metadata": {},
   "source": [
    "## Source with country data"
   ]
  },
  {
   "cell_type": "code",
   "execution_count": 431,
   "metadata": {
    "ExecuteTime": {
     "end_time": "2020-03-04T01:50:27.857957Z",
     "start_time": "2020-03-04T01:50:24.457651Z"
    }
   },
   "outputs": [
    {
     "data": {
      "application/javascript": [
       "\n",
       "            setTimeout(function() {\n",
       "                var nbb_cell_id = 431;\n",
       "                var nbb_unformatted_code = \"df_conv_source_country_groups_counts = create_counts_converted_table_by_multiple_features(\\n    df_conv, \\\"source\\\", \\\"country\\\"\\n)\\ndf_conv_source_country_groups_counts.head();\";\n",
       "                var nbb_formatted_code = \"df_conv_source_country_groups_counts = create_counts_converted_table_by_multiple_features(\\n    df_conv, \\\"source\\\", \\\"country\\\"\\n)\\ndf_conv_source_country_groups_counts.head()\";\n",
       "                var nbb_cells = Jupyter.notebook.get_cells();\n",
       "                for (var i = 0; i < nbb_cells.length; ++i) {\n",
       "                    if (nbb_cells[i].input_prompt_number == nbb_cell_id) {\n",
       "                        if (nbb_cells[i].get_text() == nbb_unformatted_code) {\n",
       "                             nbb_cells[i].set_text(nbb_formatted_code);\n",
       "                        }\n",
       "                        break;\n",
       "                    }\n",
       "                }\n",
       "            }, 500);\n",
       "            "
      ],
      "text/plain": [
       "<IPython.core.display.Javascript object>"
      ]
     },
     "metadata": {},
     "output_type": "display_data"
    }
   ],
   "source": [
    "df_conv_source_country_groups_counts = create_counts_converted_table_by_multiple_features(\n",
    "    df_conv, \"source\", \"country\"\n",
    ")"
   ]
  },
  {
   "cell_type": "code",
   "execution_count": 432,
   "metadata": {
    "ExecuteTime": {
     "end_time": "2020-03-04T01:50:37.851023Z",
     "start_time": "2020-03-04T01:50:37.835209Z"
    }
   },
   "outputs": [
    {
     "data": {
      "text/plain": [
       "source  country  converted\n",
       "Ads     China    0            21529\n",
       "                 1               32\n",
       "        Germany  0             3509\n",
       "                 1              251\n",
       "        UK       0            12766\n",
       "Name: age, dtype: int64"
      ]
     },
     "execution_count": 432,
     "metadata": {},
     "output_type": "execute_result"
    },
    {
     "data": {
      "application/javascript": [
       "\n",
       "            setTimeout(function() {\n",
       "                var nbb_cell_id = 432;\n",
       "                var nbb_unformatted_code = \"df_conv_source_country_groups_counts.head()\";\n",
       "                var nbb_formatted_code = \"df_conv_source_country_groups_counts.head()\";\n",
       "                var nbb_cells = Jupyter.notebook.get_cells();\n",
       "                for (var i = 0; i < nbb_cells.length; ++i) {\n",
       "                    if (nbb_cells[i].input_prompt_number == nbb_cell_id) {\n",
       "                        if (nbb_cells[i].get_text() == nbb_unformatted_code) {\n",
       "                             nbb_cells[i].set_text(nbb_formatted_code);\n",
       "                        }\n",
       "                        break;\n",
       "                    }\n",
       "                }\n",
       "            }, 500);\n",
       "            "
      ],
      "text/plain": [
       "<IPython.core.display.Javascript object>"
      ]
     },
     "metadata": {},
     "output_type": "display_data"
    }
   ],
   "source": [
    "df_conv_source_country_groups_counts.head()"
   ]
  },
  {
   "cell_type": "code",
   "execution_count": 430,
   "metadata": {
    "ExecuteTime": {
     "end_time": "2020-03-04T01:49:26.595399Z",
     "start_time": "2020-03-04T01:49:25.978681Z"
    },
    "scrolled": false
   },
   "outputs": [
    {
     "data": {
      "image/png": "[encoded data removed]",
      "text/plain": [
       "<Figure size 1008x432 with 2 Axes>"
      ]
     },
     "metadata": {},
     "output_type": "display_data"
    },
    {
     "data": {
      "application/javascript": [
       "\n",
       "            setTimeout(function() {\n",
       "                var nbb_cell_id = 430;\n",
       "                var nbb_unformatted_code = \"create_bar_plots_by_multiple_features(\\n    df_conv_source_country_groups_counts, country_order, 0, 0.25\\n)\";\n",
       "                var nbb_formatted_code = \"create_bar_plots_by_multiple_features(\\n    df_conv_source_country_groups_counts, country_order, 0, 0.25\\n)\";\n",
       "                var nbb_cells = Jupyter.notebook.get_cells();\n",
       "                for (var i = 0; i < nbb_cells.length; ++i) {\n",
       "                    if (nbb_cells[i].input_prompt_number == nbb_cell_id) {\n",
       "                        if (nbb_cells[i].get_text() == nbb_unformatted_code) {\n",
       "                             nbb_cells[i].set_text(nbb_formatted_code);\n",
       "                        }\n",
       "                        break;\n",
       "                    }\n",
       "                }\n",
       "            }, 500);\n",
       "            "
      ],
      "text/plain": [
       "<IPython.core.display.Javascript object>"
      ]
     },
     "metadata": {},
     "output_type": "display_data"
    }
   ],
   "source": [
    "create_bar_plots_by_multiple_features(\n",
    "    df_conv_source_country_groups_counts, country_order, 0, 0.25\n",
    ")"
   ]
  },
  {
   "cell_type": "markdown",
   "metadata": {},
   "source": [
    "## Source with age groups"
   ]
  },
  {
   "cell_type": "code",
   "execution_count": 442,
   "metadata": {
    "ExecuteTime": {
     "end_time": "2020-03-04T01:55:10.693277Z",
     "start_time": "2020-03-04T01:55:09.594136Z"
    }
   },
   "outputs": [
    {
     "data": {
      "application/javascript": [
       "\n",
       "            setTimeout(function() {\n",
       "                var nbb_cell_id = 442;\n",
       "                var nbb_unformatted_code = \"df_conv_source_age_groups_counts = create_counts_converted_table_by_multiple_features(\\n    df_conv, \\\"source\\\", \\\"age_groups\\\"\\n)\";\n",
       "                var nbb_formatted_code = \"df_conv_source_age_groups_counts = create_counts_converted_table_by_multiple_features(\\n    df_conv, \\\"source\\\", \\\"age_groups\\\"\\n)\";\n",
       "                var nbb_cells = Jupyter.notebook.get_cells();\n",
       "                for (var i = 0; i < nbb_cells.length; ++i) {\n",
       "                    if (nbb_cells[i].input_prompt_number == nbb_cell_id) {\n",
       "                        if (nbb_cells[i].get_text() == nbb_unformatted_code) {\n",
       "                             nbb_cells[i].set_text(nbb_formatted_code);\n",
       "                        }\n",
       "                        break;\n",
       "                    }\n",
       "                }\n",
       "            }, 500);\n",
       "            "
      ],
      "text/plain": [
       "<IPython.core.display.Javascript object>"
      ]
     },
     "metadata": {},
     "output_type": "display_data"
    }
   ],
   "source": [
    "df_conv_source_age_groups_counts = create_counts_converted_table_by_multiple_features(\n",
    "    df_conv, \"source\", \"age_groups\"\n",
    ")"
   ]
  },
  {
   "cell_type": "code",
   "execution_count": 443,
   "metadata": {
    "ExecuteTime": {
     "end_time": "2020-03-04T01:55:10.930397Z",
     "start_time": "2020-03-04T01:55:10.914660Z"
    }
   },
   "outputs": [
    {
     "data": {
      "text/plain": [
       "source  age_groups      converted\n",
       "Ads     (16.999, 23.0]  0            18685\n",
       "                        1             1236\n",
       "        (23.0, 28.0]    0            18442\n",
       "                        1              774\n",
       "        (28.0, 32.0]    0            15262\n",
       "Name: age, dtype: int64"
      ]
     },
     "execution_count": 443,
     "metadata": {},
     "output_type": "execute_result"
    },
    {
     "data": {
      "application/javascript": [
       "\n",
       "            setTimeout(function() {\n",
       "                var nbb_cell_id = 443;\n",
       "                var nbb_unformatted_code = \"df_conv_source_age_groups_counts.head()\";\n",
       "                var nbb_formatted_code = \"df_conv_source_age_groups_counts.head()\";\n",
       "                var nbb_cells = Jupyter.notebook.get_cells();\n",
       "                for (var i = 0; i < nbb_cells.length; ++i) {\n",
       "                    if (nbb_cells[i].input_prompt_number == nbb_cell_id) {\n",
       "                        if (nbb_cells[i].get_text() == nbb_unformatted_code) {\n",
       "                             nbb_cells[i].set_text(nbb_formatted_code);\n",
       "                        }\n",
       "                        break;\n",
       "                    }\n",
       "                }\n",
       "            }, 500);\n",
       "            "
      ],
      "text/plain": [
       "<IPython.core.display.Javascript object>"
      ]
     },
     "metadata": {},
     "output_type": "display_data"
    }
   ],
   "source": [
    "df_conv_source_age_groups_counts.head()"
   ]
  },
  {
   "cell_type": "code",
   "execution_count": 437,
   "metadata": {
    "ExecuteTime": {
     "end_time": "2020-03-04T01:52:14.112321Z",
     "start_time": "2020-03-04T01:52:13.189664Z"
    },
    "scrolled": false
   },
   "outputs": [
    {
     "data": {
      "image/png": "[encoded data removed]",
      "text/plain": [
       "<Figure size 1008x432 with 2 Axes>"
      ]
     },
     "metadata": {},
     "output_type": "display_data"
    },
    {
     "data": {
      "application/javascript": [
       "\n",
       "            setTimeout(function() {\n",
       "                var nbb_cell_id = 437;\n",
       "                var nbb_unformatted_code = \"create_bar_plots_by_multiple_features(\\n    df_conv_source_age_groups_counts, age_groups_order, 45, 0.25\\n)\";\n",
       "                var nbb_formatted_code = \"create_bar_plots_by_multiple_features(\\n    df_conv_source_age_groups_counts, age_groups_order, 45, 0.25\\n)\";\n",
       "                var nbb_cells = Jupyter.notebook.get_cells();\n",
       "                for (var i = 0; i < nbb_cells.length; ++i) {\n",
       "                    if (nbb_cells[i].input_prompt_number == nbb_cell_id) {\n",
       "                        if (nbb_cells[i].get_text() == nbb_unformatted_code) {\n",
       "                             nbb_cells[i].set_text(nbb_formatted_code);\n",
       "                        }\n",
       "                        break;\n",
       "                    }\n",
       "                }\n",
       "            }, 500);\n",
       "            "
      ],
      "text/plain": [
       "<IPython.core.display.Javascript object>"
      ]
     },
     "metadata": {},
     "output_type": "display_data"
    }
   ],
   "source": [
    "create_bar_plots_by_multiple_features(\n",
    "    df_conv_source_age_groups_counts, age_groups_order, 45, 0.25\n",
    ")"
   ]
  },
  {
   "cell_type": "markdown",
   "metadata": {},
   "source": [
    "## Source with new user category"
   ]
  },
  {
   "cell_type": "code",
   "execution_count": 438,
   "metadata": {
    "ExecuteTime": {
     "end_time": "2020-03-04T01:54:14.403613Z",
     "start_time": "2020-03-04T01:54:14.361991Z"
    }
   },
   "outputs": [
    {
     "data": {
      "text/html": [
       "<div>\n",
       "<style scoped>\n",
       "    .dataframe tbody tr th:only-of-type {\n",
       "        vertical-align: middle;\n",
       "    }\n",
       "\n",
       "    .dataframe tbody tr th {\n",
       "        vertical-align: top;\n",
       "    }\n",
       "\n",
       "    .dataframe thead th {\n",
       "        text-align: right;\n",
       "    }\n",
       "</style>\n",
       "<table border=\"1\" class=\"dataframe\">\n",
       "  <thead>\n",
       "    <tr style=\"text-align: right;\">\n",
       "      <th></th>\n",
       "      <th>country</th>\n",
       "      <th>age</th>\n",
       "      <th>new_user</th>\n",
       "      <th>source</th>\n",
       "      <th>total_pages_visited</th>\n",
       "      <th>converted</th>\n",
       "      <th>age_groups</th>\n",
       "      <th>total_page_visit_groups</th>\n",
       "    </tr>\n",
       "  </thead>\n",
       "  <tbody>\n",
       "    <tr>\n",
       "      <th>0</th>\n",
       "      <td>UK</td>\n",
       "      <td>25</td>\n",
       "      <td>1</td>\n",
       "      <td>Ads</td>\n",
       "      <td>1</td>\n",
       "      <td>0</td>\n",
       "      <td>(23.0, 28.0]</td>\n",
       "      <td>(0.999, 2.0]</td>\n",
       "    </tr>\n",
       "    <tr>\n",
       "      <th>1</th>\n",
       "      <td>US</td>\n",
       "      <td>23</td>\n",
       "      <td>1</td>\n",
       "      <td>Seo</td>\n",
       "      <td>5</td>\n",
       "      <td>0</td>\n",
       "      <td>(16.999, 23.0]</td>\n",
       "      <td>(3.0, 5.0]</td>\n",
       "    </tr>\n",
       "    <tr>\n",
       "      <th>2</th>\n",
       "      <td>US</td>\n",
       "      <td>28</td>\n",
       "      <td>1</td>\n",
       "      <td>Seo</td>\n",
       "      <td>4</td>\n",
       "      <td>0</td>\n",
       "      <td>(23.0, 28.0]</td>\n",
       "      <td>(3.0, 5.0]</td>\n",
       "    </tr>\n",
       "    <tr>\n",
       "      <th>3</th>\n",
       "      <td>China</td>\n",
       "      <td>39</td>\n",
       "      <td>1</td>\n",
       "      <td>Seo</td>\n",
       "      <td>5</td>\n",
       "      <td>0</td>\n",
       "      <td>(38.0, 123.0]</td>\n",
       "      <td>(3.0, 5.0]</td>\n",
       "    </tr>\n",
       "    <tr>\n",
       "      <th>4</th>\n",
       "      <td>US</td>\n",
       "      <td>30</td>\n",
       "      <td>1</td>\n",
       "      <td>Seo</td>\n",
       "      <td>6</td>\n",
       "      <td>0</td>\n",
       "      <td>(28.0, 32.0]</td>\n",
       "      <td>(5.0, 7.0]</td>\n",
       "    </tr>\n",
       "  </tbody>\n",
       "</table>\n",
       "</div>"
      ],
      "text/plain": [
       "  country  age  new_user source  total_pages_visited  converted  \\\n",
       "0      UK   25         1    Ads                    1          0   \n",
       "1      US   23         1    Seo                    5          0   \n",
       "2      US   28         1    Seo                    4          0   \n",
       "3   China   39         1    Seo                    5          0   \n",
       "4      US   30         1    Seo                    6          0   \n",
       "\n",
       "       age_groups total_page_visit_groups  \n",
       "0    (23.0, 28.0]            (0.999, 2.0]  \n",
       "1  (16.999, 23.0]              (3.0, 5.0]  \n",
       "2    (23.0, 28.0]              (3.0, 5.0]  \n",
       "3   (38.0, 123.0]              (3.0, 5.0]  \n",
       "4    (28.0, 32.0]              (5.0, 7.0]  "
      ]
     },
     "execution_count": 438,
     "metadata": {},
     "output_type": "execute_result"
    },
    {
     "data": {
      "application/javascript": [
       "\n",
       "            setTimeout(function() {\n",
       "                var nbb_cell_id = 438;\n",
       "                var nbb_unformatted_code = \"df_conv.head()\";\n",
       "                var nbb_formatted_code = \"df_conv.head()\";\n",
       "                var nbb_cells = Jupyter.notebook.get_cells();\n",
       "                for (var i = 0; i < nbb_cells.length; ++i) {\n",
       "                    if (nbb_cells[i].input_prompt_number == nbb_cell_id) {\n",
       "                        if (nbb_cells[i].get_text() == nbb_unformatted_code) {\n",
       "                             nbb_cells[i].set_text(nbb_formatted_code);\n",
       "                        }\n",
       "                        break;\n",
       "                    }\n",
       "                }\n",
       "            }, 500);\n",
       "            "
      ],
      "text/plain": [
       "<IPython.core.display.Javascript object>"
      ]
     },
     "metadata": {},
     "output_type": "display_data"
    }
   ],
   "source": [
    "df_conv.head()"
   ]
  },
  {
   "cell_type": "code",
   "execution_count": 444,
   "metadata": {
    "ExecuteTime": {
     "end_time": "2020-03-04T01:55:18.777690Z",
     "start_time": "2020-03-04T01:55:16.530997Z"
    }
   },
   "outputs": [
    {
     "data": {
      "application/javascript": [
       "\n",
       "            setTimeout(function() {\n",
       "                var nbb_cell_id = 444;\n",
       "                var nbb_unformatted_code = \"df_conv_source_new_user_groups_counts = create_counts_converted_table_by_multiple_features(\\n    df_conv, \\\"source\\\", \\\"new_user\\\"\\n)\";\n",
       "                var nbb_formatted_code = \"df_conv_source_new_user_groups_counts = create_counts_converted_table_by_multiple_features(\\n    df_conv, \\\"source\\\", \\\"new_user\\\"\\n)\";\n",
       "                var nbb_cells = Jupyter.notebook.get_cells();\n",
       "                for (var i = 0; i < nbb_cells.length; ++i) {\n",
       "                    if (nbb_cells[i].input_prompt_number == nbb_cell_id) {\n",
       "                        if (nbb_cells[i].get_text() == nbb_unformatted_code) {\n",
       "                             nbb_cells[i].set_text(nbb_formatted_code);\n",
       "                        }\n",
       "                        break;\n",
       "                    }\n",
       "                }\n",
       "            }, 500);\n",
       "            "
      ],
      "text/plain": [
       "<IPython.core.display.Javascript object>"
      ]
     },
     "metadata": {},
     "output_type": "display_data"
    }
   ],
   "source": [
    "df_conv_source_new_user_groups_counts = create_counts_converted_table_by_multiple_features(\n",
    "    df_conv, \"source\", \"new_user\"\n",
    ")"
   ]
  },
  {
   "cell_type": "code",
   "execution_count": 445,
   "metadata": {
    "ExecuteTime": {
     "end_time": "2020-03-04T01:55:21.468696Z",
     "start_time": "2020-03-04T01:55:21.457038Z"
    }
   },
   "outputs": [
    {
     "data": {
      "text/plain": [
       "source  new_user  converted\n",
       "Ads     0         0            25706\n",
       "                  1             2185\n",
       "        1         0            59974\n",
       "                  1              875\n",
       "Direct  0         0            21291\n",
       "Name: age, dtype: int64"
      ]
     },
     "execution_count": 445,
     "metadata": {},
     "output_type": "execute_result"
    },
    {
     "data": {
      "application/javascript": [
       "\n",
       "            setTimeout(function() {\n",
       "                var nbb_cell_id = 445;\n",
       "                var nbb_unformatted_code = \"df_conv_source_new_user_groups_counts.head()\";\n",
       "                var nbb_formatted_code = \"df_conv_source_new_user_groups_counts.head()\";\n",
       "                var nbb_cells = Jupyter.notebook.get_cells();\n",
       "                for (var i = 0; i < nbb_cells.length; ++i) {\n",
       "                    if (nbb_cells[i].input_prompt_number == nbb_cell_id) {\n",
       "                        if (nbb_cells[i].get_text() == nbb_unformatted_code) {\n",
       "                             nbb_cells[i].set_text(nbb_formatted_code);\n",
       "                        }\n",
       "                        break;\n",
       "                    }\n",
       "                }\n",
       "            }, 500);\n",
       "            "
      ],
      "text/plain": [
       "<IPython.core.display.Javascript object>"
      ]
     },
     "metadata": {},
     "output_type": "display_data"
    }
   ],
   "source": [
    "df_conv_source_new_user_groups_counts.head()"
   ]
  },
  {
   "cell_type": "code",
   "execution_count": 447,
   "metadata": {
    "ExecuteTime": {
     "end_time": "2020-03-04T01:55:34.553307Z",
     "start_time": "2020-03-04T01:55:33.907694Z"
    },
    "scrolled": false
   },
   "outputs": [
    {
     "data": {
      "image/png": "[encoded data removed]",
      "text/plain": [
       "<Figure size 1008x432 with 2 Axes>"
      ]
     },
     "metadata": {},
     "output_type": "display_data"
    },
    {
     "data": {
      "application/javascript": [
       "\n",
       "            setTimeout(function() {\n",
       "                var nbb_cell_id = 447;\n",
       "                var nbb_unformatted_code = \"create_bar_plots_by_multiple_features(\\n    df_conv_source_new_user_groups_counts, new_user_order, 0, 0.25\\n)\";\n",
       "                var nbb_formatted_code = \"create_bar_plots_by_multiple_features(\\n    df_conv_source_new_user_groups_counts, new_user_order, 0, 0.25\\n)\";\n",
       "                var nbb_cells = Jupyter.notebook.get_cells();\n",
       "                for (var i = 0; i < nbb_cells.length; ++i) {\n",
       "                    if (nbb_cells[i].input_prompt_number == nbb_cell_id) {\n",
       "                        if (nbb_cells[i].get_text() == nbb_unformatted_code) {\n",
       "                             nbb_cells[i].set_text(nbb_formatted_code);\n",
       "                        }\n",
       "                        break;\n",
       "                    }\n",
       "                }\n",
       "            }, 500);\n",
       "            "
      ],
      "text/plain": [
       "<IPython.core.display.Javascript object>"
      ]
     },
     "metadata": {},
     "output_type": "display_data"
    }
   ],
   "source": [
    "create_bar_plots_by_multiple_features(\n",
    "    df_conv_source_new_user_groups_counts, new_user_order, 0, 0.25\n",
    ")"
   ]
  },
  {
   "cell_type": "markdown",
   "metadata": {},
   "source": [
    "## Source with total pages visited category"
   ]
  },
  {
   "cell_type": "code",
   "execution_count": 438,
   "metadata": {
    "ExecuteTime": {
     "end_time": "2020-03-04T01:54:14.403613Z",
     "start_time": "2020-03-04T01:54:14.361991Z"
    }
   },
   "outputs": [
    {
     "data": {
      "text/html": [
       "<div>\n",
       "<style scoped>\n",
       "    .dataframe tbody tr th:only-of-type {\n",
       "        vertical-align: middle;\n",
       "    }\n",
       "\n",
       "    .dataframe tbody tr th {\n",
       "        vertical-align: top;\n",
       "    }\n",
       "\n",
       "    .dataframe thead th {\n",
       "        text-align: right;\n",
       "    }\n",
       "</style>\n",
       "<table border=\"1\" class=\"dataframe\">\n",
       "  <thead>\n",
       "    <tr style=\"text-align: right;\">\n",
       "      <th></th>\n",
       "      <th>country</th>\n",
       "      <th>age</th>\n",
       "      <th>new_user</th>\n",
       "      <th>source</th>\n",
       "      <th>total_pages_visited</th>\n",
       "      <th>converted</th>\n",
       "      <th>age_groups</th>\n",
       "      <th>total_page_visit_groups</th>\n",
       "    </tr>\n",
       "  </thead>\n",
       "  <tbody>\n",
       "    <tr>\n",
       "      <th>0</th>\n",
       "      <td>UK</td>\n",
       "      <td>25</td>\n",
       "      <td>1</td>\n",
       "      <td>Ads</td>\n",
       "      <td>1</td>\n",
       "      <td>0</td>\n",
       "      <td>(23.0, 28.0]</td>\n",
       "      <td>(0.999, 2.0]</td>\n",
       "    </tr>\n",
       "    <tr>\n",
       "      <th>1</th>\n",
       "      <td>US</td>\n",
       "      <td>23</td>\n",
       "      <td>1</td>\n",
       "      <td>Seo</td>\n",
       "      <td>5</td>\n",
       "      <td>0</td>\n",
       "      <td>(16.999, 23.0]</td>\n",
       "      <td>(3.0, 5.0]</td>\n",
       "    </tr>\n",
       "    <tr>\n",
       "      <th>2</th>\n",
       "      <td>US</td>\n",
       "      <td>28</td>\n",
       "      <td>1</td>\n",
       "      <td>Seo</td>\n",
       "      <td>4</td>\n",
       "      <td>0</td>\n",
       "      <td>(23.0, 28.0]</td>\n",
       "      <td>(3.0, 5.0]</td>\n",
       "    </tr>\n",
       "    <tr>\n",
       "      <th>3</th>\n",
       "      <td>China</td>\n",
       "      <td>39</td>\n",
       "      <td>1</td>\n",
       "      <td>Seo</td>\n",
       "      <td>5</td>\n",
       "      <td>0</td>\n",
       "      <td>(38.0, 123.0]</td>\n",
       "      <td>(3.0, 5.0]</td>\n",
       "    </tr>\n",
       "    <tr>\n",
       "      <th>4</th>\n",
       "      <td>US</td>\n",
       "      <td>30</td>\n",
       "      <td>1</td>\n",
       "      <td>Seo</td>\n",
       "      <td>6</td>\n",
       "      <td>0</td>\n",
       "      <td>(28.0, 32.0]</td>\n",
       "      <td>(5.0, 7.0]</td>\n",
       "    </tr>\n",
       "  </tbody>\n",
       "</table>\n",
       "</div>"
      ],
      "text/plain": [
       "  country  age  new_user source  total_pages_visited  converted  \\\n",
       "0      UK   25         1    Ads                    1          0   \n",
       "1      US   23         1    Seo                    5          0   \n",
       "2      US   28         1    Seo                    4          0   \n",
       "3   China   39         1    Seo                    5          0   \n",
       "4      US   30         1    Seo                    6          0   \n",
       "\n",
       "       age_groups total_page_visit_groups  \n",
       "0    (23.0, 28.0]            (0.999, 2.0]  \n",
       "1  (16.999, 23.0]              (3.0, 5.0]  \n",
       "2    (23.0, 28.0]              (3.0, 5.0]  \n",
       "3   (38.0, 123.0]              (3.0, 5.0]  \n",
       "4    (28.0, 32.0]              (5.0, 7.0]  "
      ]
     },
     "execution_count": 438,
     "metadata": {},
     "output_type": "execute_result"
    },
    {
     "data": {
      "application/javascript": [
       "\n",
       "            setTimeout(function() {\n",
       "                var nbb_cell_id = 438;\n",
       "                var nbb_unformatted_code = \"df_conv.head()\";\n",
       "                var nbb_formatted_code = \"df_conv.head()\";\n",
       "                var nbb_cells = Jupyter.notebook.get_cells();\n",
       "                for (var i = 0; i < nbb_cells.length; ++i) {\n",
       "                    if (nbb_cells[i].input_prompt_number == nbb_cell_id) {\n",
       "                        if (nbb_cells[i].get_text() == nbb_unformatted_code) {\n",
       "                             nbb_cells[i].set_text(nbb_formatted_code);\n",
       "                        }\n",
       "                        break;\n",
       "                    }\n",
       "                }\n",
       "            }, 500);\n",
       "            "
      ],
      "text/plain": [
       "<IPython.core.display.Javascript object>"
      ]
     },
     "metadata": {},
     "output_type": "display_data"
    }
   ],
   "source": [
    "df_conv.head()"
   ]
  },
  {
   "cell_type": "code",
   "execution_count": 448,
   "metadata": {
    "ExecuteTime": {
     "end_time": "2020-03-04T01:58:47.563164Z",
     "start_time": "2020-03-04T01:58:44.187573Z"
    }
   },
   "outputs": [
    {
     "data": {
      "application/javascript": [
       "\n",
       "            setTimeout(function() {\n",
       "                var nbb_cell_id = 448;\n",
       "                var nbb_unformatted_code = \"df_conv_source_total_page_groups_counts = create_counts_converted_table_by_multiple_features(\\n    df_conv, \\\"source\\\", \\\"total_page_visit_groups\\\"\\n)\";\n",
       "                var nbb_formatted_code = \"df_conv_source_total_page_groups_counts = create_counts_converted_table_by_multiple_features(\\n    df_conv, \\\"source\\\", \\\"total_page_visit_groups\\\"\\n)\";\n",
       "                var nbb_cells = Jupyter.notebook.get_cells();\n",
       "                for (var i = 0; i < nbb_cells.length; ++i) {\n",
       "                    if (nbb_cells[i].input_prompt_number == nbb_cell_id) {\n",
       "                        if (nbb_cells[i].get_text() == nbb_unformatted_code) {\n",
       "                             nbb_cells[i].set_text(nbb_formatted_code);\n",
       "                        }\n",
       "                        break;\n",
       "                    }\n",
       "                }\n",
       "            }, 500);\n",
       "            "
      ],
      "text/plain": [
       "<IPython.core.display.Javascript object>"
      ]
     },
     "metadata": {},
     "output_type": "display_data"
    }
   ],
   "source": [
    "df_conv_source_total_page_groups_counts = create_counts_converted_table_by_multiple_features(\n",
    "    df_conv, \"source\", \"total_page_visit_groups\"\n",
    ")"
   ]
  },
  {
   "cell_type": "code",
   "execution_count": 449,
   "metadata": {
    "ExecuteTime": {
     "end_time": "2020-03-04T01:58:47.906214Z",
     "start_time": "2020-03-04T01:58:47.886155Z"
    }
   },
   "outputs": [
    {
     "data": {
      "text/plain": [
       "source  total_page_visit_groups  converted\n",
       "Ads     (0.999, 2.0]             0            23723\n",
       "                                 1                3\n",
       "        (2.0, 3.0]               0            12278\n",
       "                                 1                7\n",
       "        (3.0, 5.0]               0            21549\n",
       "Name: age, dtype: int64"
      ]
     },
     "execution_count": 449,
     "metadata": {},
     "output_type": "execute_result"
    },
    {
     "data": {
      "application/javascript": [
       "\n",
       "            setTimeout(function() {\n",
       "                var nbb_cell_id = 449;\n",
       "                var nbb_unformatted_code = \"df_conv_source_total_page_groups_counts.head()\";\n",
       "                var nbb_formatted_code = \"df_conv_source_total_page_groups_counts.head()\";\n",
       "                var nbb_cells = Jupyter.notebook.get_cells();\n",
       "                for (var i = 0; i < nbb_cells.length; ++i) {\n",
       "                    if (nbb_cells[i].input_prompt_number == nbb_cell_id) {\n",
       "                        if (nbb_cells[i].get_text() == nbb_unformatted_code) {\n",
       "                             nbb_cells[i].set_text(nbb_formatted_code);\n",
       "                        }\n",
       "                        break;\n",
       "                    }\n",
       "                }\n",
       "            }, 500);\n",
       "            "
      ],
      "text/plain": [
       "<IPython.core.display.Javascript object>"
      ]
     },
     "metadata": {},
     "output_type": "display_data"
    }
   ],
   "source": [
    "df_conv_source_total_page_groups_counts.head()"
   ]
  },
  {
   "cell_type": "code",
   "execution_count": null,
   "metadata": {},
   "outputs": [],
   "source": []
  },
  {
   "cell_type": "code",
   "execution_count": 316,
   "metadata": {
    "ExecuteTime": {
     "end_time": "2020-03-02T23:24:26.730797Z",
     "start_time": "2020-03-02T23:24:23.426169Z"
    }
   },
   "outputs": [
    {
     "data": {
      "text/plain": [
       "<matplotlib.legend.Legend at 0x135747a58>"
      ]
     },
     "execution_count": 316,
     "metadata": {},
     "output_type": "execute_result"
    },
    {
     "data": {
      "image/png": "[encoded data removed]",
      "text/plain": [
       "<Figure size 576x396 with 1 Axes>"
      ]
     },
     "metadata": {},
     "output_type": "display_data"
    },
    {
     "data": {
      "application/javascript": [
       "\n",
       "            setTimeout(function() {\n",
       "                var nbb_cell_id = 316;\n",
       "                var nbb_unformatted_code = \"sns.violinplot(data=df_conv, x=\\\"age_groups\\\", y=\\\"total_pages_visited\\\", hue=\\\"source\\\")\\n# Put the legend out of the figure\\nplt.legend(bbox_to_anchor=(1.05, 1), loc=2, borderaxespad=0.0)\";\n",
       "                var nbb_formatted_code = \"sns.violinplot(data=df_conv, x=\\\"age_groups\\\", y=\\\"total_pages_visited\\\", hue=\\\"source\\\")\\n# Put the legend out of the figure\\nplt.legend(bbox_to_anchor=(1.05, 1), loc=2, borderaxespad=0.0)\";\n",
       "                var nbb_cells = Jupyter.notebook.get_cells();\n",
       "                for (var i = 0; i < nbb_cells.length; ++i) {\n",
       "                    if (nbb_cells[i].input_prompt_number == nbb_cell_id) {\n",
       "                        if (nbb_cells[i].get_text() == nbb_unformatted_code) {\n",
       "                             nbb_cells[i].set_text(nbb_formatted_code);\n",
       "                        }\n",
       "                        break;\n",
       "                    }\n",
       "                }\n",
       "            }, 500);\n",
       "            "
      ],
      "text/plain": [
       "<IPython.core.display.Javascript object>"
      ]
     },
     "metadata": {},
     "output_type": "display_data"
    }
   ],
   "source": [
    "sns.violinplot(data=df_conv, x=\"age_groups\", y=\"total_pages_visited\", hue=\"source\")\n",
    "# Put the legend out of the figure\n",
    "plt.legend(bbox_to_anchor=(1.05, 1), loc=2, borderaxespad=0.0)"
   ]
  },
  {
   "cell_type": "markdown",
   "metadata": {},
   "source": [
    "## Actionable insights\n",
    "\n",
    "**Recommendations for the product team and the marketing team to improve conversion rate**"
   ]
  },
  {
   "cell_type": "markdown",
   "metadata": {},
   "source": [
    "- It does not make sense to continue investing in China, but UK and Germany are under invested Germany are under invested. **Increase product presence in UK and Germany.**\n",
    "\n",
    "- 17-23 year olds is the age group with the best chances of conversion, with increasing age inversely correlating with conversion rate. **Increase cross-platform advertising that focuses on late-teens and early 20s.**\n",
    "\n",
    "- While there are fewer returning users than new users, they tend to have a much higher conversion rate. **Focus resources on those that may return to the site.**\n",
    "\n",
    "- The sources are not significantly different in terms of conversion rate but most arrive to the site via search. **Invest to increase product promotion at the top of Google search queries.**\n",
    "\n",
    "- Those that spend the most time on the site convert at a high rate, particularly after reaching 7 total page visits. **Increase site engagement.**"
   ]
  },
  {
   "cell_type": "markdown",
   "metadata": {},
   "source": [
    "## Next steps"
   ]
  },
  {
   "cell_type": "markdown",
   "metadata": {},
   "source": [
    "- Increase cohort segmentation. While focus was made on the customer source, binning can be made across different categories (for example, age and country)."
   ]
  }
 ],
 "metadata": {
  "kernelspec": {
   "display_name": "Python 3",
   "language": "python",
   "name": "python3"
  },
  "language_info": {
   "codemirror_mode": {
    "name": "ipython",
    "version": 3
   },
   "file_extension": ".py",
   "mimetype": "text/x-python",
   "name": "python",
   "nbconvert_exporter": "python",
   "pygments_lexer": "ipython3",
   "version": "3.6.9"
  },
  "toc": {
   "base_numbering": 1,
   "nav_menu": {},
   "number_sections": true,
   "sideBar": true,
   "skip_h1_title": false,
   "title_cell": "Table of Contents",
   "title_sidebar": "Contents",
   "toc_cell": false,
   "toc_position": {},
   "toc_section_display": true,
   "toc_window_display": true
  },
  "varInspector": {
   "cols": {
    "lenName": 16,
    "lenType": 16,
    "lenVar": 40
   },
   "kernels_config": {
    "python": {
     "delete_cmd_postfix": "",
     "delete_cmd_prefix": "del ",
     "library": "var_list.py",
     "varRefreshCmd": "print(var_dic_list())"
    },
    "r": {
     "delete_cmd_postfix": ") ",
     "delete_cmd_prefix": "rm(",
     "library": "var_list.r",
     "varRefreshCmd": "cat(var_dic_list()) "
    }
   },
   "types_to_exclude": [
    "module",
    "function",
    "builtin_function_or_method",
    "instance",
    "_Feature"
   ],
   "window_display": false
  }
 },
 "nbformat": 4,
 "nbformat_minor": 4
}
