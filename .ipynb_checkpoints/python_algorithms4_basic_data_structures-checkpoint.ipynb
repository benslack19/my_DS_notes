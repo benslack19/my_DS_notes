{
 "cells": [
  {
   "cell_type": "markdown",
   "metadata": {},
   "source": [
    "**Python algorithms**\n",
    "\n",
    "Resources:\n",
    "\n",
    " - [MIT Introduction to Algorithms](https://ocw.mit.edu/courses/electrical-engineering-and-computer-science/6-046j-introduction-to-algorithms-sma-5503-fall-2005/)\n",
    " - [PDF notes from MIT class](https://ocw.mit.edu/courses/electrical-engineering-and-computer-science/6-046j-introduction-to-algorithms-sma-5503-fall-2005/video-lectures/lecture-1-administrivia-introduction-analysis-of-algorithms-insertion-sort-mergesort/lec1.pdf)\n",
    " - [Runestone course (notes below follow this course)](https://runestone.academy/runestone/books/published/pythonds/Introduction/GettingStartedwithData.html)\n",
    " \n",
    "- Objective is to cover this in 6 weeks (Nov 3 - Dec 22, account for Thanksgiving)\n",
    "- There are 112 subsections in sections 1-7:\n",
    "    - Cover 19 sections per week or about 4 per day (M-F)\n",
    "    - Move quickly through sections 1-2 (try to do 6 per day)\n",
    "    - Generally prioritize sections 3-7\n",
    "- Only included subsections where notes are needed\n",
    "\n",
    "Goals:\n",
    "- By week 1 (11/8): finish sections 1 and 2\n",
    "- By week 2 (11/15): finish section 3\n",
    "- By week 3 (11/22): finish half of section 4\n",
    "- By week 4 (11/29): finish section 4\n",
    "- By week 5 (12/6): finish section 5\n",
    "- By week 6 (12/13): finish section 6, start section 7\n",
    "- By week 7 (12/20): finish section 7\n",
    "\n",
    "Log:\n",
    "\n",
    "- 11/6/19: halfway through section 1.13\n",
    "- 11/12/19: finished going quickly through everything then starting over in detail, focusing on what Insight prioritizes\n",
    "\n",
    "\n",
    "Insight advice:\n",
    "\n",
    "*Action Item: Code the examples in Problem Solving with Algorithms and Data Structures in Python. In particular, become familiar with:\n",
    "- stacks\n",
    "- queues\n",
    "- linked lists\n",
    "- merge sort\n",
    "- quick sort\n",
    "- searching and hashing\n",
    "\n",
    "If you prefer to learn by watching lectures, check out the MIT Introduction to Algorithms course. Bonus: For each algorithm or data structure you learn about, try to program it from scratch in Python, from memory. Many Fellows have also found Leetcode to also be useful in the interview prep for their CS section.*"
   ]
  },
  {
   "cell_type": "markdown",
   "metadata": {},
   "source": [
    "# Objectives"
   ]
  },
  {
   "cell_type": "markdown",
   "metadata": {
    "ExecuteTime": {
     "end_time": "2020-03-12T21:15:27.436825Z",
     "start_time": "2020-03-12T21:15:27.425999Z"
    }
   },
   "source": [
    "- To understand the abstract data types stack, queue, deque, and list.\n",
    "- To be able to implement the ADTs stack, queue, and deque using Python lists.\n",
    "- To understand the performance of the implementations of basic linear data structures.\n",
    "- To understand prefix, infix, and postfix expression formats.\n",
    "- To use stacks to evaluate postfix expressions.\n",
    "- To use stacks to convert expressions from infix to postfix.\n",
    "- To use queues for basic timing simulations.\n",
    "- To be able to recognize problem properties where stacks, queues, and deques are appropriate data structures.\n",
    "- To be able to implement the abstract data type list as a linked list using the node and reference pattern.\n",
    "- To be able to compare the performance of our linked list implementation with Python’s list implementation."
   ]
  },
  {
   "cell_type": "markdown",
   "metadata": {},
   "source": [
    "# Linear structures\n",
    "\n",
    "- Stacks, queues, deques, and lists are examples of data collections whose items are ordered depending on how they are added or removed.\n",
    "- The structures have two ends, a \"left\" and \"right\" or \"top\" and \"bottom\".\n"
   ]
  },
  {
   "cell_type": "markdown",
   "metadata": {
    "ExecuteTime": {
     "end_time": "2020-03-12T21:17:17.631311Z",
     "start_time": "2020-03-12T21:17:17.628076Z"
    }
   },
   "source": [
    "# Stacks\n",
    "\n",
    "- LIFO: last-in, first-out\n",
    "- Like a stack of books or stack of plates at a buffet\n",
    "- When using a computer, a stack can be like the URLS in a web browser.\n",
    "    - Every web browser has a Back button.\n",
    "    - As you navigate from web page to web page, those pages are placed on a stack (actually it is the URLs that are going on the stack).\n",
    "    - The current page that you are viewing is on the top and the first page you looked at is at the base"
   ]
  },
  {
   "cell_type": "markdown",
   "metadata": {
    "ExecuteTime": {
     "end_time": "2020-03-16T23:11:34.565137Z",
     "start_time": "2020-03-16T23:11:34.353552Z"
    }
   },
   "source": [
    "## Implementing a stack in Python"
   ]
  },
  {
   "cell_type": "code",
   "execution_count": 28,
   "metadata": {
    "ExecuteTime": {
     "end_time": "2020-03-16T23:26:35.554257Z",
     "start_time": "2020-03-16T23:26:35.548777Z"
    }
   },
   "outputs": [],
   "source": [
    "# Exercise\n",
    "class Stack:\n",
    "    def __init__(self):\n",
    "        self.items = []\n",
    "\n",
    "    def isEmpty(self):\n",
    "        return self.items == []\n",
    "    \n",
    "    def push(self, item):\n",
    "        self.items.append(item)\n",
    "        \n",
    "    def pop(self):\n",
    "        return self.items.pop()\n",
    "    \n",
    "    def peek(self):\n",
    "        return self.items[len(self.items)-1]\n",
    "    \n",
    "    def size(self):\n",
    "        return len(self.items)"
   ]
  },
  {
   "cell_type": "code",
   "execution_count": 29,
   "metadata": {
    "ExecuteTime": {
     "end_time": "2020-03-16T23:26:36.085801Z",
     "start_time": "2020-03-16T23:26:36.081496Z"
    }
   },
   "outputs": [
    {
     "name": "stdout",
     "output_type": "stream",
     "text": [
      "True\n"
     ]
    }
   ],
   "source": [
    "s = Stack()\n",
    "print(s.isEmpty())\n"
   ]
  },
  {
   "cell_type": "code",
   "execution_count": 30,
   "metadata": {
    "ExecuteTime": {
     "end_time": "2020-03-16T23:26:36.633636Z",
     "start_time": "2020-03-16T23:26:36.629537Z"
    }
   },
   "outputs": [],
   "source": [
    "s.push(4)\n",
    "s.push('dog')"
   ]
  },
  {
   "cell_type": "code",
   "execution_count": 31,
   "metadata": {
    "ExecuteTime": {
     "end_time": "2020-03-16T23:26:37.155877Z",
     "start_time": "2020-03-16T23:26:37.150375Z"
    }
   },
   "outputs": [
    {
     "data": {
      "text/plain": [
       "<__main__.Stack at 0x11add34a8>"
      ]
     },
     "execution_count": 31,
     "metadata": {},
     "output_type": "execute_result"
    }
   ],
   "source": [
    "s"
   ]
  },
  {
   "cell_type": "code",
   "execution_count": 32,
   "metadata": {
    "ExecuteTime": {
     "end_time": "2020-03-16T23:26:38.292072Z",
     "start_time": "2020-03-16T23:26:38.287331Z"
    }
   },
   "outputs": [
    {
     "name": "stdout",
     "output_type": "stream",
     "text": [
      "dog\n"
     ]
    }
   ],
   "source": [
    "print(s.peek())"
   ]
  },
  {
   "cell_type": "code",
   "execution_count": 33,
   "metadata": {
    "ExecuteTime": {
     "end_time": "2020-03-16T23:27:00.083683Z",
     "start_time": "2020-03-16T23:27:00.076359Z"
    }
   },
   "outputs": [
    {
     "data": {
      "text/plain": [
       "'dog'"
      ]
     },
     "execution_count": 33,
     "metadata": {},
     "output_type": "execute_result"
    }
   ],
   "source": [
    "s.pop()"
   ]
  },
  {
   "cell_type": "code",
   "execution_count": 34,
   "metadata": {
    "ExecuteTime": {
     "end_time": "2020-03-16T23:27:07.468097Z",
     "start_time": "2020-03-16T23:27:07.462310Z"
    }
   },
   "outputs": [
    {
     "name": "stdout",
     "output_type": "stream",
     "text": [
      "4\n"
     ]
    }
   ],
   "source": [
    "print(s.peek())"
   ]
  },
  {
   "cell_type": "code",
   "execution_count": 36,
   "metadata": {
    "ExecuteTime": {
     "end_time": "2020-03-16T23:27:37.052574Z",
     "start_time": "2020-03-16T23:27:37.044391Z"
    }
   },
   "outputs": [
    {
     "name": "stdout",
     "output_type": "stream",
     "text": [
      "True\n",
      "dog\n",
      "3\n",
      "False\n",
      "8.4\n",
      "True\n",
      "2\n"
     ]
    }
   ],
   "source": [
    "# Whole thing\n",
    "s=Stack()\n",
    "\n",
    "print(s.isEmpty())\n",
    "s.push(4)\n",
    "s.push('dog')\n",
    "print(s.peek())\n",
    "s.push(True)\n",
    "print(s.size())\n",
    "print(s.isEmpty())\n",
    "s.push(8.4)\n",
    "print(s.pop())\n",
    "print(s.pop())\n",
    "print(s.size())"
   ]
  },
  {
   "cell_type": "code",
   "execution_count": 37,
   "metadata": {
    "ExecuteTime": {
     "end_time": "2020-03-16T23:27:58.899527Z",
     "start_time": "2020-03-16T23:27:58.892895Z"
    }
   },
   "outputs": [
    {
     "name": "stdout",
     "output_type": "stream",
     "text": [
      "dog\n"
     ]
    }
   ],
   "source": [
    "print(s.peek())"
   ]
  },
  {
   "cell_type": "markdown",
   "metadata": {},
   "source": [
    "### Alternate stack - using a list where the top is at the beginning instead of at the end\n",
    "\n",
    "- Theoretically this is possible but you'd have to define the index position 0 explicitly using pop and insert"
   ]
  },
  {
   "cell_type": "code",
   "execution_count": null,
   "metadata": {},
   "outputs": [],
   "source": [
    "class Stack:\n",
    "    def __init__(self):\n",
    "        self.items = []\n",
    "\n",
    "    def isEmpty(self):\n",
    "        return self.items == []\n",
    "    \n",
    "    def push(self, item):\n",
    "        self.items.insert(0,item)\n",
    "    def pop(self):\n",
    "        return self.items.pop(0)\n",
    "    def peek(self):\n",
    "        return self.items[0]\n",
    "    def size(self):\n",
    "        return len(self.items)"
   ]
  },
  {
   "cell_type": "markdown",
   "metadata": {},
   "source": [
    "## Simple, balanced parentheses"
   ]
  },
  {
   "cell_type": "code",
   "execution_count": null,
   "metadata": {},
   "outputs": [],
   "source": []
  },
  {
   "cell_type": "code",
   "execution_count": 51,
   "metadata": {
    "ExecuteTime": {
     "end_time": "2020-03-18T05:31:38.007723Z",
     "start_time": "2020-03-18T05:31:37.996867Z"
    }
   },
   "outputs": [],
   "source": [
    "def simple_parenth(s):\n",
    "    \n",
    "    # Check that there are an even number\n",
    "    if len(s) % 2 != 0:\n",
    "        return False\n",
    "    \n",
    "    # Loop through each string and use stack framework to evaluate\n",
    "    stack = list()\n",
    "    openers = ['(', '{', '[']\n",
    "    closers = [')', '}', ']']\n",
    "    \n",
    "    for i in s:\n",
    "        if i in openers:\n",
    "            stack.append(i)\n",
    "        if i in closers:\n",
    "            print('pop', stack.pop())\n",
    "            #print(i) \n",
    "    \n",
    "    if stack == []:\n",
    "        return True"
   ]
  },
  {
   "cell_type": "code",
   "execution_count": 52,
   "metadata": {
    "ExecuteTime": {
     "end_time": "2020-03-18T05:31:38.325840Z",
     "start_time": "2020-03-18T05:31:38.318919Z"
    }
   },
   "outputs": [
    {
     "name": "stdout",
     "output_type": "stream",
     "text": [
      "pop (\n",
      "pop (\n"
     ]
    },
    {
     "data": {
      "text/plain": [
       "True"
      ]
     },
     "execution_count": 52,
     "metadata": {},
     "output_type": "execute_result"
    }
   ],
   "source": [
    "simple_parenth('(())')"
   ]
  },
  {
   "cell_type": "code",
   "execution_count": null,
   "metadata": {},
   "outputs": [],
   "source": []
  }
 ],
 "metadata": {
  "kernelspec": {
   "display_name": "Python 3",
   "language": "python",
   "name": "python3"
  },
  "language_info": {
   "codemirror_mode": {
    "name": "ipython",
    "version": 3
   },
   "file_extension": ".py",
   "mimetype": "text/x-python",
   "name": "python",
   "nbconvert_exporter": "python",
   "pygments_lexer": "ipython3",
   "version": "3.6.9"
  },
  "toc": {
   "base_numbering": 1,
   "nav_menu": {},
   "number_sections": true,
   "sideBar": true,
   "skip_h1_title": false,
   "title_cell": "Table of Contents",
   "title_sidebar": "Contents",
   "toc_cell": false,
   "toc_position": {},
   "toc_section_display": "block",
   "toc_window_display": true
  },
  "varInspector": {
   "cols": {
    "lenName": 16,
    "lenType": 16,
    "lenVar": 40
   },
   "kernels_config": {
    "python": {
     "delete_cmd_postfix": "",
     "delete_cmd_prefix": "del ",
     "library": "var_list.py",
     "varRefreshCmd": "print(var_dic_list())"
    },
    "r": {
     "delete_cmd_postfix": ") ",
     "delete_cmd_prefix": "rm(",
     "library": "var_list.r",
     "varRefreshCmd": "cat(var_dic_list()) "
    }
   },
   "types_to_exclude": [
    "module",
    "function",
    "builtin_function_or_method",
    "instance",
    "_Feature"
   ],
   "window_display": false
  }
 },
 "nbformat": 4,
 "nbformat_minor": 2
}
