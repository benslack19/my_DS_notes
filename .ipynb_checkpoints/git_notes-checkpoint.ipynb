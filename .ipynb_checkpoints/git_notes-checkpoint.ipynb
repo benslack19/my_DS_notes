{
 "cells": [
  {
   "cell_type": "markdown",
   "metadata": {},
   "source": [
    "**Git_notes**\n",
    "\n",
    "Store useful commands and workflows."
   ]
  },
  {
   "cell_type": "markdown",
   "metadata": {},
   "source": [
    "# Committing a change\n",
    "\n",
    "Make edits to file.\n",
    "\n",
    "Check on the status of the git repository and observe that git recognizes the file was edited.\n",
    "<br>\n",
    "`git status`\n",
    "\n",
    "Commit the changes to a git version.\n",
    "<br>\n",
    "`git commit -a`\n",
    "<br>\n",
    "Option is shown to add a message that explains the change.\n"
   ]
  },
  {
   "cell_type": "markdown",
   "metadata": {},
   "source": [
    "# Sync'ing the Linux server scripts and Windows system scripts\n",
    "\n",
    "**Objective**\n",
    "<br>\n",
    "Have scripts available to use on each system as I will sometimes do an update on one that can be useful for the other. In addition, regularly committing them also ensures that they're version controlled.\n",
    "\n",
    "1. Identify the most up-to-date version of scripts (e.g. Linux server version is more updated than Windows version of scripts).\n",
    "2. `git commit` those changes.\n",
    "3. `git push origin master` to sync it to Bitbucket.\n",
    "4. On the Windows system (i.e. less-updated system), [clone the repository](https://confluence.atlassian.com/bitbucket/clone-a-repository-223217891.html). I also installed [Git for Windows](https://gitforwindows.org/) which makes it easy to use the same commands that I would do on Linux.\n",
    "5. On the Windows system, that theoretically means I should have the latest scripts. But to be sure, I can do a git pull:\n",
    "    - `git pull https://blacar_fldm@bitbucket.org/blacar_fldm/total_rna_seq.git`\n",
    "6. Let's say you want to make a change to a script then push it back in the other direction, i.e. first to Bitbucket, then to the Linux server:\n",
    "    - (a) From Windows, `git push origin master`, then\n",
    "    - (b) from Linux system, `git pull https://blacar_fldm@bitbucket.org/blacar_fldm/total_rna_seq.git`.\n",
    "7. Changes should now be sync'd.\n",
    "\n",
    "\n"
   ]
  },
  {
   "cell_type": "markdown",
   "metadata": {},
   "source": [
    "# Reverting back to a particular git version state.\n",
    "\n",
    "Notes on reverting or checkouts: (git checkout is more intuitive to me)\n",
    "<br>\n",
    "https://git-scm.com/book/en/v2/Git-Branching-Branches-in-a-Nutshell\n",
    "<br>\n",
    "https://stackoverflow.com/questions/7539130/go-to-particular-revision\n",
    "<br>\n",
    "https://stackoverflow.com/questions/4114095/how-to-revert-a-git-repository-to-a-previous-commit\n",
    "<br>\n",
    "https://blog.github.com/2015-06-08-how-to-undo-almost-anything-with-git/\n",
    "    \n",
    "Recover from a hard reset\n",
    "https://stackoverflow.com/questions/5788037/recover-from-git-reset-hard/5788069\n",
    "       \n",
    "\n",
    "Details from the textbook:\n",
    "<br>\n",
    "[Reset Demystified, pg. 249](C:/Users/benjamin.lacar/OneDrive%20-%20Fluidigm/Data_science/Version_control_git/progit_ebook.pdf)\n",
    "\n",
    "Helpful videos\n",
    "<br>\n",
    "[Whole playlist](https://www.youtube.com/watch?v=1ieJbCFgXQs&list=PL8jcXf-CLpxrw3ipflS7mujA-hM7m2YnH)\n",
    "<br>\n",
    "[Going back in history](https://www.youtube.com/watch?v=Pfcm4MLziBY&index=11&list=PL8jcXf-CLpxrw3ipflS7mujA-hM7m2YnH)\n",
    "\n",
    "**Key videos:**\n",
    "<br>\n",
    "on [git checkout](https://www.youtube.com/watch?v=JTE2Fn_sCZs)\n",
    "<br>\n",
    "on [git merge](https://www.youtube.com/watch?v=0iuqXh0oojo)\n",
    "\n",
    "1. Assume that you've made several git commits. This can be checked using git log.\n",
    "2. Make edits to files in the repository.\n",
    "3. Best thing to do is do a git checkout SHA and view the files, then make a branch that you can then merge back in:\n",
    "https://stackoverflow.com/questions/2763006/make-the-current-git-branch-a-master-branch\n",
    "\n"
   ]
  },
  {
   "cell_type": "code",
   "execution_count": null,
   "metadata": {},
   "outputs": [],
   "source": [
    "test"
   ]
  }
 ],
 "metadata": {
  "kernelspec": {
   "display_name": "Python 3",
   "language": "python",
   "name": "python3"
  },
  "language_info": {
   "codemirror_mode": {
    "name": "ipython",
    "version": 3
   },
   "file_extension": ".py",
   "mimetype": "text/x-python",
   "name": "python",
   "nbconvert_exporter": "python",
   "pygments_lexer": "ipython3",
   "version": "3.6.9"
  },
  "toc": {
   "base_numbering": 1,
   "nav_menu": {},
   "number_sections": true,
   "sideBar": true,
   "skip_h1_title": false,
   "title_cell": "Table of Contents",
   "title_sidebar": "Contents",
   "toc_cell": false,
   "toc_position": {},
   "toc_section_display": true,
   "toc_window_display": false
  },
  "varInspector": {
   "cols": {
    "lenName": 16,
    "lenType": 16,
    "lenVar": 40
   },
   "kernels_config": {
    "python": {
     "delete_cmd_postfix": "",
     "delete_cmd_prefix": "del ",
     "library": "var_list.py",
     "varRefreshCmd": "print(var_dic_list())"
    },
    "r": {
     "delete_cmd_postfix": ") ",
     "delete_cmd_prefix": "rm(",
     "library": "var_list.r",
     "varRefreshCmd": "cat(var_dic_list()) "
    }
   },
   "types_to_exclude": [
    "module",
    "function",
    "builtin_function_or_method",
    "instance",
    "_Feature"
   ],
   "window_display": false
  }
 },
 "nbformat": 4,
 "nbformat_minor": 2
}
