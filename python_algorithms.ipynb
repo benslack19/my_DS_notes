{
 "cells": [
  {
   "cell_type": "markdown",
   "metadata": {},
   "source": [
    "**Python algorithms**\n",
    "\n",
    "Resources:\n",
    "\n",
    " - [MIT Introduction to Algorithms](https://ocw.mit.edu/courses/electrical-engineering-and-computer-science/6-046j-introduction-to-algorithms-sma-5503-fall-2005/)\n",
    " - [PDF notes from MIT class](https://ocw.mit.edu/courses/electrical-engineering-and-computer-science/6-046j-introduction-to-algorithms-sma-5503-fall-2005/video-lectures/lecture-1-administrivia-introduction-analysis-of-algorithms-insertion-sort-mergesort/lec1.pdf)\n",
    " - [Runestone course (notes below follow this course)](https://runestone.academy/runestone/books/published/pythonds/Introduction/GettingStartedwithData.html)\n",
    " \n",
    "- Objective is to cover this in 6 weeks (Nov 3 - Dec 22, account for Thanksgiving)\n",
    "- There are 112 subsections in sections 1-7:\n",
    "    - Cover 19 sections per week or about 4 per day (M-F)\n",
    "    - Move quickly through sections 1-2 (try to do 6 per day)\n",
    "    - Generally prioritize sections 3-7\n",
    "- Only included subsections where notes are needed\n",
    "\n",
    "Goals:\n",
    "- By week 1 (11/8): finish sections 1 and 2\n",
    "- By week 2 (11/15): finish section 3\n",
    "- By week 3 (11/22): finish half of section 4\n",
    "- By week 4 (11/29): finish section 4\n",
    "- By week 5 (12/6): finish section 5\n",
    "- By week 6 (12/13): finish section 6, start section 7\n",
    "- By week 7 (12/20): finish section 7\n",
    "\n",
    "Log:\n",
    "\n",
    "- 11/6/19: halfway through section 1.13\n",
    "- 11/12/19: finished going quickly through everything then starting over in detail, focusing on what Insight prioritizes\n",
    "\n",
    "\n",
    "Insight advice:\n",
    "\n",
    "*Action Item: Code the examples in Problem Solving with Algorithms and Data Structures in Python. In particular, become familiar with:\n",
    "- stacks\n",
    "- queues\n",
    "- linked lists\n",
    "- merge sort\n",
    "- quick sort\n",
    "- searching and hashing\n",
    "\n",
    "If you prefer to learn by watching lectures, check out the MIT Introduction to Algorithms course. Bonus: For each algorithm or data structure you learn about, try to program it from scratch in Python, from memory. Many Fellows have also found Leetcode to also be useful in the interview prep for their CS section.*"
   ]
  },
  {
   "cell_type": "markdown",
   "metadata": {},
   "source": [
    "# Introduction\n",
    "\n",
    "17 subsections (try to go quickly; come back to it if needed)\n"
   ]
  },
  {
   "cell_type": "markdown",
   "metadata": {},
   "source": [
    "**1.8. Getting Started with Data**\n",
    "\n",
    "Nice overview of methods for lists, dictionaries, sets\n",
    "https://runestone.academy/runestone/books/published/pythonds/Introduction/GettingStartedwithData.html"
   ]
  },
  {
   "cell_type": "markdown",
   "metadata": {},
   "source": [
    "**1.9. Input and Output**\n",
    "\n",
    "Helpful notes for string formatting (such as with % operator)\n",
    "https://runestone.academy/runestone/books/published/pythonds/Introduction/InputandOutput.html"
   ]
  },
  {
   "cell_type": "markdown",
   "metadata": {},
   "source": [
    "**1.13. Object-Oriented Programming in Python: Defining Classes**\n",
    "\n",
    "Helpful for me to go over\n",
    "https://runestone.academy/runestone/books/published/pythonds/Introduction/ObjectOrientedProgramminginPythonDefiningClasses.html\n",
    "\n",
    "\n",
    " - We use abstract data types to provide the logical description of what a data object looks like (its state) and what it can do (its methods).\n",
    " - An object is an instance of a class\n",
    " \n",
    " **1.13.1. A Fraction Class (an example)**"
   ]
  },
  {
   "cell_type": "code",
   "execution_count": 1,
   "metadata": {},
   "outputs": [],
   "source": [
    "# Example of creating a class\n",
    "\n",
    "class Fraction:    \n",
    "    # Constructor method (all classes have this) - it defines the way in which data objects are created\n",
    "    # The self is always there, it references back to the object itself\n",
    "    def __init__(self,top,bottom):\n",
    "        # The numerator and denominator represent \"state\" data\n",
    "        # This provides the fraction object its starting value\n",
    "        self.num = top\n",
    "        self.den = bottom\n",
    "        "
   ]
  },
  {
   "cell_type": "code",
   "execution_count": 2,
   "metadata": {},
   "outputs": [
    {
     "data": {
      "text/plain": [
       "<__main__.Fraction at 0x1075e5358>"
      ]
     },
     "execution_count": 2,
     "metadata": {},
     "output_type": "execute_result"
    }
   ],
   "source": [
    "# Create an instance of the class\n",
    "myfraction = Fraction(3,5)\n",
    "myfraction"
   ]
  },
  {
   "cell_type": "code",
   "execution_count": 3,
   "metadata": {},
   "outputs": [],
   "source": [
    "# Example of creating a class and then adding a method to display it\n",
    "\n",
    "class Fraction:    \n",
    "    # Constructor method (all classes have this) - it defines the way in which data objects are created\n",
    "    # The self is always there, it references back to the object itself\n",
    "    def __init__(self,top,bottom):\n",
    "        # The numerator and denominator represent \"state\" data\n",
    "        # This provides the fraction object its starting value\n",
    "        self.num = top\n",
    "        self.den = bottom\n",
    "        \n",
    "    def show(self):\n",
    "        print(str(self.num) + '/' + str(self.den))"
   ]
  },
  {
   "cell_type": "code",
   "execution_count": null,
   "metadata": {},
   "outputs": [],
   "source": []
  },
  {
   "cell_type": "code",
   "execution_count": 45,
   "metadata": {},
   "outputs": [],
   "source": [
    "# note something is wrong below but above gives me a basic idea of what's going on"
   ]
  },
  {
   "cell_type": "code",
   "execution_count": 26,
   "metadata": {},
   "outputs": [
    {
     "name": "stdout",
     "output_type": "stream",
     "text": [
      "<__main__.Fraction object at 0x10c949080>\n",
      "3 / 5\n",
      "None\n"
     ]
    }
   ],
   "source": [
    "# Create an instance of the class\n",
    "myfraction = Fraction(3,5)\n",
    "print(myfraction)\n",
    "print(myfraction.show())"
   ]
  },
  {
   "cell_type": "code",
   "execution_count": 59,
   "metadata": {},
   "outputs": [],
   "source": [
    "# Including a multiplication of fractions function\n",
    "\n",
    "def gcd(m,n):\n",
    "    while m%n != 0:\n",
    "        oldm = m\n",
    "        oldn = n\n",
    "\n",
    "        m = oldn\n",
    "        n = oldm%oldn\n",
    "    return n\n",
    "\n",
    "class Fraction:    \n",
    "    # Constructor method (all classes have this) - it defines the way in which data objects are created\n",
    "    # The self is always there, it references back to the object itself\n",
    "    def __init__(self,top,bottom):\n",
    "        # The numerator and denominator represent \"state\" data\n",
    "        # This provides the fraction object its starting value\n",
    "        self.num = top\n",
    "        self.den = bottom\n",
    "        \n",
    "    def __str__(self):\n",
    "         return str(self.num)+\"/\"+str(self.den)\n",
    "\n",
    "    def show(self):\n",
    "         print(self.num,\"/\",self.den)\n",
    "\n",
    "    def __mul__(self,otherfraction):\n",
    "        newnum = self.num*otherfraction.num\n",
    "        newden = self.den * otherfraction.den\n",
    "        #common = gcd(newnum,newden)\n",
    "        # Note return line here\n",
    "        return Fraction(newnum,newden)\n",
    "        #return Fraction(newnum//common,newden//common)\n"
   ]
  },
  {
   "cell_type": "code",
   "execution_count": 60,
   "metadata": {},
   "outputs": [
    {
     "name": "stdout",
     "output_type": "stream",
     "text": [
      "3/10\n"
     ]
    }
   ],
   "source": [
    "f1 = Fraction(3,5)\n",
    "f2 = Fraction(1,2)\n",
    "f3 = f1*f2\n",
    "print(f3)"
   ]
  },
  {
   "cell_type": "code",
   "execution_count": 47,
   "metadata": {},
   "outputs": [],
   "source": [
    "# Below is the entirely from the course notes for completion \n",
    "\n",
    "def gcd(m,n):\n",
    "    while m%n != 0:\n",
    "        oldm = m\n",
    "        oldn = n\n",
    "\n",
    "        m = oldn\n",
    "        n = oldm%oldn\n",
    "    return n\n",
    "\n",
    "class Fraction:\n",
    "    def __init__(self,top,bottom):\n",
    "        self.num = top\n",
    "        self.den = bottom\n",
    "\n",
    "    def __str__(self):\n",
    "        return str(self.num)+\"/\"+str(self.den)\n",
    "\n",
    "    def show(self):\n",
    "        print(self.num,\"/\",self.den)\n",
    "\n",
    "    def __add__(self,otherfraction):\n",
    "        newnum = self.num*otherfraction.den + \\\n",
    "                      self.den*otherfraction.num\n",
    "        newden = self.den * otherfraction.den\n",
    "        common = gcd(newnum,newden)\n",
    "        return Fraction(newnum//common,newden//common)\n",
    "\n",
    "    def __eq__(self, other):\n",
    "        firstnum = self.num * other.den\n",
    "        secondnum = other.num * self.den\n",
    "\n",
    "        return firstnum == secondnum\n",
    "\n",
    "    \n",
    "x = Fraction(1,2)\n",
    "y = Fraction(2,3)\n",
    "print(x+y)\n",
    "print(x == y)"
   ]
  },
  {
   "cell_type": "markdown",
   "metadata": {},
   "source": [
    "**1.13.2. Inheritance: Logic Gates and Circuits**\n",
    "    \n",
    "\n",
    "- ability for one class to be related to another class\n",
    "- example: python sequential collection has list as a subclass `IS-A Relationship`\n",
    "- concept of inheritance can be extended to series of logic gates (and/or/not statements)\n",
    "\n",
    "- From notes:\n",
    "*Now, with the Connector class, we say that a Connector **HAS-A LogicGate** meaning that connectors will have instances of the LogicGate class within them but are not part of the hierarchy. When designing classes, it is very important to distinguish between those that have the IS-A relationship (which requires inheritance) and those that have HAS-A relationships (with no inheritance).*\n",
    "\n",
    "Possibly come back to this if needed"
   ]
  },
  {
   "cell_type": "markdown",
   "metadata": {},
   "source": [
    "**1.15. Key Terms**\n",
    "\n",
    "(good to quiz self)\n",
    "\n",
    "abstract data type\n",
    "abstraction\n",
    "algorithm\n",
    "class\n",
    "computable\n",
    "data abstraction\n",
    "data structure\n",
    "data type\n",
    "deep equality\n",
    "dictionary\n",
    "encapsulation\n",
    "exception\n",
    "format operator\n",
    "formatted strings\n",
    "HAS-A relationship\n",
    "implementation-independent\n",
    "information hiding\n",
    "inheritance\n",
    "inheritance hierarchy\n",
    "interface\n",
    "IS-A relationship\n",
    "list\n",
    "list comprehension\n",
    "method\n",
    "mutability\n",
    "object\n",
    "procedural abstraction\n",
    "programming\n",
    "prompt\n",
    "self\n",
    "shallow equality\n",
    "simulation\n",
    "string\n",
    "subclass\n",
    "superclass\n",
    "truth table"
   ]
  },
  {
   "cell_type": "markdown",
   "metadata": {},
   "source": [
    "**Probably good to do programming exercises in this chapter - come back to it**"
   ]
  },
  {
   "cell_type": "markdown",
   "metadata": {},
   "source": [
    "# A Proper Class\n",
    "\n",
    "2 subsections"
   ]
  },
  {
   "cell_type": "markdown",
   "metadata": {},
   "source": [
    "More in-depth `class` exercises\n",
    "\n",
    "Come back to this if needed"
   ]
  },
  {
   "cell_type": "code",
   "execution_count": null,
   "metadata": {},
   "outputs": [],
   "source": []
  },
  {
   "cell_type": "markdown",
   "metadata": {},
   "source": [
    "# Analysis\n",
    "\n",
    "11 subsections (goes over Big-O)"
   ]
  },
  {
   "cell_type": "markdown",
   "metadata": {},
   "source": [
    "## Objectives\n",
    "\n",
    "- To understand why algorithm analysis is important.\n",
    "- To be able to use “Big-O” to describe execution time.\n",
    "- To understand the “Big-O” execution time of common operations on Python lists and dictionaries.\n",
    "- To understand how the implementation of Python data impacts algorithm analysis.\n",
    "- To understand how to benchmark simple Python programs."
   ]
  },
  {
   "cell_type": "markdown",
   "metadata": {},
   "source": [
    "## What is algorithm analysis?\n",
    "\n",
    "When two programs solve the same problem but look different, is one program better than the other?\n",
    "\n",
    "In order to answer this question, we need to remember that there is an important difference between a program and the underlying algorithm that the program is representing.\n"
   ]
  },
  {
   "cell_type": "markdown",
   "metadata": {},
   "source": [
    "*The benchmark technique computes the actual time to execute. It does not really provide us with a useful measurement, because it is dependent on a particular machine, program, time of day, compiler, and programming language. Instead, we would like to have a characterization that is independent of the program or computer being used. This measure would then be useful for judging the algorithm alone and could be used to compare algorithms across implementations.*\n",
    "\n",
    "**Compare using Big-O instead of time since there are different system configurations**"
   ]
  },
  {
   "cell_type": "markdown",
   "metadata": {},
   "source": [
    "## Big-O Notation\n",
    "\n",
    "\n",
    "\n",
    "*...it is important to quantify the number of operations or steps that the algorithm will require. If each of these steps is considered to be a basic unit of computation, then the execution time for an algorithm can be expressed as the number of steps required to solve the problem...\n",
    "A good basic unit of computation for comparing the summation algorithms shown earlier might be to count the number of assignment statements performed to compute the sum.*\n"
   ]
  },
  {
   "cell_type": "markdown",
   "metadata": {},
   "source": [
    "**Common functions for Big-O**\n",
    "\n",
    "| f(n) | Name |\n",
    "|------|------|\n",
    "|1 | Constant |\n",
    "| log𝑛 | Logarithmic |\n",
    "| 𝑛 | Linear |\n",
    "| 𝑛log𝑛 | Log Linear |\n",
    "| 𝑛2 | Quadratic |\n",
    "| 𝑛3 | Cubic |\n",
    "| 2𝑛 | Exponential |"
   ]
  },
  {
   "cell_type": "code",
   "execution_count": null,
   "metadata": {},
   "outputs": [],
   "source": [
    "# Example\n",
    "\n",
    "a=5\n",
    "b=6\n",
    "c=10\n",
    "for i in range(n):\n",
    "    for j in range(n):\n",
    "        x = i * i\n",
    "        y = j * j\n",
    "        z = i * j\n",
    "for k in range(n):\n",
    "    w = a*k + 45\n",
    "    v = b*b\n",
    "d = 33"
   ]
  },
  {
   "cell_type": "markdown",
   "metadata": {},
   "source": [
    "*The number of assignment operations is the sum of four terms. The first term is the constant 3, representing the three assignment statements at the start of the fragment. The second term is 3𝑛2, since there are three statements that are performed 𝑛2 times due to the nested iteration. The third term is 2𝑛, two statements iterated n times. Finally, the fourth term is the constant 1, representing the final assignment statement. This gives us 𝑇(𝑛)=3+3𝑛2+2𝑛+1=3𝑛2+2𝑛+4. By looking at the exponents, we can easily see that the 𝑛2 term will be dominant and therefore this fragment of code is 𝑂(𝑛2). Note that all of the other terms as well as the coefficient on the dominant term can be ignored as n grows larger.*"
   ]
  },
  {
   "cell_type": "code",
   "execution_count": null,
   "metadata": {},
   "outputs": [],
   "source": [
    "# nested loop - O(n^2)\n",
    "test = 0\n",
    "for i in range(n):\n",
    "    for j in range(n):\n",
    "        test = test + i * j"
   ]
  },
  {
   "cell_type": "code",
   "execution_count": null,
   "metadata": {},
   "outputs": [],
   "source": [
    "# two loops but still linear - O(n)\n",
    "test = 0\n",
    "for i in range(n):\n",
    "    test = test + 1\n",
    "\n",
    "for j in range(n):\n",
    "    test = test - 1"
   ]
  },
  {
   "cell_type": "code",
   "execution_count": null,
   "metadata": {},
   "outputs": [],
   "source": [
    "# the division cuts down the size - O(log n)\n",
    "i = n\n",
    "while i > 0:\n",
    "    k = 2 + 2\n",
    "    i = i // 2"
   ]
  },
  {
   "cell_type": "markdown",
   "metadata": {},
   "source": [
    "## An Anagram Detection Example\n",
    "\n",
    "*A good example problem for showing algorithms with different orders of magnitude is the classic anagram detection problem for strings. One string is an anagram of another if the second is simply a rearrangement of the first. For example, 'heart' and 'earth' are anagrams. The strings 'python' and 'typhon' are anagrams as well. For the sake of simplicity, we will assume that the two strings in question are of equal length and that they are made up of symbols from the set of 26 lowercase alphabetic characters. Our goal is to write a boolean function that will take two strings and return whether they are anagrams.*\n"
   ]
  },
  {
   "cell_type": "markdown",
   "metadata": {},
   "source": [
    "\n",
    "**3.4.1. Solution 1: Checking Off**\n",
    "\n",
    "*Our first solution to the anagram problem will check the lengths of the strings and then to see that each character in the first string actually occurs in the second. If it is possible to “checkoff” each character, then the two strings must be anagrams. Checking off a character will be accomplished by replacing it with the special Python value None. However, since strings in Python are immutable, the first step in the process will be to convert the second string to a list. Each character from the first string can be checked against the characters in the list and if found, checked off by replacement*"
   ]
  },
  {
   "cell_type": "code",
   "execution_count": 5,
   "metadata": {},
   "outputs": [],
   "source": [
    "def check_off_1(word1, word2):\n",
    "    # check the lengths of the strings\n",
    "    if len(word1)==len(word2):\n",
    "        print('words are same length')\n",
    "        word2_as_list = list(word2)\n",
    "        \n",
    "        # see that each character in the first string actually occurs in the second\n",
    "        pos_word1 = 0\n",
    "        while pos_word1 < len(word1):\n",
    "            pos_word2 = 0\n",
    "            print('before: ', word1[pos_word1], word2_as_list[pos_word2])\n",
    "            while pos_word2 < len(word2_as_list):\n",
    "                if word1[pos_word1]==word2_as_list[pos_word2]:\n",
    "                    word2_as_list[pos_word2] = None\n",
    "                    print('letter is checked off')\n",
    "                else:\n",
    "                    pos_word2 += 1\n",
    "                    #print('not an anagram')\n",
    "            #print('after: ', word1[pos_word1], word2[pos_word2])\n",
    "            pos_word1 += 1\n",
    "    else:\n",
    "        print('words are not anagrams')\n",
    "\n",
    "    \n",
    "    return (word1, word2, word2_as_list)"
   ]
  },
  {
   "cell_type": "code",
   "execution_count": 6,
   "metadata": {},
   "outputs": [
    {
     "name": "stdout",
     "output_type": "stream",
     "text": [
      "words are same length\n",
      "before:  h e\n",
      "letter is checked off\n",
      "before:  e e\n",
      "letter is checked off\n",
      "before:  a None\n",
      "letter is checked off\n",
      "before:  r None\n",
      "letter is checked off\n",
      "before:  t None\n",
      "letter is checked off\n"
     ]
    }
   ],
   "source": [
    "word1, word2, word2_as_list = check_off_1('heart', 'earth')"
   ]
  },
  {
   "cell_type": "markdown",
   "metadata": {},
   "source": [
    "**This is an O(n^2) algorithm**"
   ]
  },
  {
   "cell_type": "markdown",
   "metadata": {},
   "source": [
    "**3.4.2 Solution 2: Sort and Compare**\n",
    "    \n",
    "Another solution to the anagram problem will make use of the fact that even though `s1` and `s2` are different, they are anagrams only if they consist of exactly the same characters. So, if we begin by sorting each string alphabetically, from a to z, we will end up with the same string if the original two strings are anagrams. ActiveCode 2 shows this solution. Again, in Python we can use the built-in `sort` method on lists by simply converting each string to a list at the start."
   ]
  },
  {
   "cell_type": "code",
   "execution_count": 38,
   "metadata": {},
   "outputs": [],
   "source": [
    "def sort_and_compare(s1, s2):\n",
    "    '''\n",
    "    Use of sort and compare method for anagram detection\n",
    "    '''\n",
    "    \n",
    "    # .sort is not a method for a string! convert to a list\n",
    "    s1_list = list(s1)\n",
    "    s2_list = list(s2)\n",
    "    \n",
    "    # .sort() works in place!\n",
    "    s1_list.sort()\n",
    "    s2_list.sort()\n",
    "    \n",
    "    pos=0\n",
    "    matches=True\n",
    "    \n",
    "    while pos < len(s1_list) and matches:\n",
    "        print(pos)\n",
    "        if s1_list[pos]==s2_list[pos]:\n",
    "            pos += 1\n",
    "        else:\n",
    "            matches=False\n",
    "        \n",
    "    return matches"
   ]
  },
  {
   "cell_type": "code",
   "execution_count": 40,
   "metadata": {},
   "outputs": [
    {
     "name": "stdout",
     "output_type": "stream",
     "text": [
      "0\n",
      "1\n",
      "2\n"
     ]
    },
    {
     "data": {
      "text/plain": [
       "False"
      ]
     },
     "execution_count": 40,
     "metadata": {},
     "output_type": "execute_result"
    }
   ],
   "source": [
    "sort_and_compare('sdfa', 'afdd')"
   ]
  },
  {
   "cell_type": "markdown",
   "metadata": {},
   "source": [
    "**Big-O assessment**\n",
    "\n",
    "On the surface, it looks like an O(n) algorithm but the .sort method has its own cost. It is closer to O(logn)."
   ]
  },
  {
   "cell_type": "markdown",
   "metadata": {},
   "source": [
    "**Below are notes I made for testing**"
   ]
  },
  {
   "cell_type": "code",
   "execution_count": 35,
   "metadata": {},
   "outputs": [
    {
     "data": {
      "text/plain": [
       "['s', 'd', 'f', 'a']"
      ]
     },
     "execution_count": 35,
     "metadata": {},
     "output_type": "execute_result"
    }
   ],
   "source": [
    "s1 = 'sdfa'\n",
    "# .sort is not a method for a string! convert to a list\n",
    "s1_list = list(s1)\n",
    "s1_list"
   ]
  },
  {
   "cell_type": "code",
   "execution_count": 36,
   "metadata": {},
   "outputs": [
    {
     "data": {
      "text/plain": [
       "['a', 'd', 'f', 's']"
      ]
     },
     "execution_count": 36,
     "metadata": {},
     "output_type": "execute_result"
    }
   ],
   "source": [
    "# .sort() works in place!\n",
    "s1_list.sort()\n",
    "s1_list"
   ]
  },
  {
   "cell_type": "markdown",
   "metadata": {},
   "source": [
    "**3.4.2 Solution 3: Brute force**\n",
    "\n",
    "Generate a list of all possible strings using the characters from `s1` and then see if `s2` occurs. But suppose the following:\n",
    "```\n",
    "s1 = 'blah'\n",
    "s2 = 'whatsapp'\n",
    "```\n",
    "\n",
    "This means you have to generate the following combinations for `s1`:\n",
    "```\n",
    "- blah\n",
    "- balh\n",
    "- bhla\n",
    "- etc.\n",
    "```\n",
    "\n",
    "In other words, there's 4 possibilities for the first position, 3 possibilities for the second, 2 possibilities for the third and the last position will be the remaining letter, meaning there are `n!` possibilities. As `n` gets large, it would actually exceed `2^n`.\n",
    "\n",
    "\n",
    "\n",
    "**This would take forever. It might be good as a first attempt on a coding interview but not an optimal solution.**\n",
    "    \n"
   ]
  },
  {
   "cell_type": "code",
   "execution_count": null,
   "metadata": {},
   "outputs": [],
   "source": []
  },
  {
   "cell_type": "code",
   "execution_count": null,
   "metadata": {},
   "outputs": [],
   "source": []
  },
  {
   "cell_type": "code",
   "execution_count": null,
   "metadata": {},
   "outputs": [],
   "source": []
  },
  {
   "cell_type": "code",
   "execution_count": null,
   "metadata": {},
   "outputs": [],
   "source": []
  },
  {
   "cell_type": "code",
   "execution_count": null,
   "metadata": {},
   "outputs": [],
   "source": []
  },
  {
   "cell_type": "code",
   "execution_count": null,
   "metadata": {},
   "outputs": [],
   "source": []
  },
  {
   "cell_type": "code",
   "execution_count": null,
   "metadata": {},
   "outputs": [],
   "source": []
  },
  {
   "cell_type": "markdown",
   "metadata": {},
   "source": [
    "**3.6 Lists**\n",
    "\n",
    "Interesting performance comparisons between growing a list by (shown in order of decreasing run time, concatenation is much, much higher than the others):\n",
    "    - concatenation \n",
    "    - append\n",
    "    - list comprehension\n",
    "    - range\n",
    "https://runestone.academy/runestone/books/published/pythonds/AlgorithmAnalysis/Lists.html\n"
   ]
  },
  {
   "cell_type": "code",
   "execution_count": null,
   "metadata": {},
   "outputs": [],
   "source": []
  },
  {
   "cell_type": "code",
   "execution_count": null,
   "metadata": {},
   "outputs": [],
   "source": []
  },
  {
   "cell_type": "code",
   "execution_count": null,
   "metadata": {},
   "outputs": [],
   "source": []
  },
  {
   "cell_type": "code",
   "execution_count": null,
   "metadata": {},
   "outputs": [],
   "source": []
  },
  {
   "cell_type": "code",
   "execution_count": null,
   "metadata": {},
   "outputs": [],
   "source": []
  },
  {
   "cell_type": "code",
   "execution_count": null,
   "metadata": {},
   "outputs": [],
   "source": []
  },
  {
   "cell_type": "markdown",
   "metadata": {},
   "source": [
    "# Basic Data Structures\n",
    "\n",
    "27 subsections (goes over stacks)"
   ]
  },
  {
   "cell_type": "code",
   "execution_count": null,
   "metadata": {},
   "outputs": [],
   "source": []
  },
  {
   "cell_type": "markdown",
   "metadata": {},
   "source": [
    "# Recursion\n",
    "\n",
    "17 subsections"
   ]
  },
  {
   "cell_type": "code",
   "execution_count": null,
   "metadata": {},
   "outputs": [],
   "source": []
  },
  {
   "cell_type": "markdown",
   "metadata": {},
   "source": [
    "# Sorting and Searching\n",
    "\n",
    "16 subsections"
   ]
  },
  {
   "cell_type": "code",
   "execution_count": null,
   "metadata": {},
   "outputs": [],
   "source": []
  },
  {
   "cell_type": "markdown",
   "metadata": {},
   "source": [
    "# Trees and Tree Algorithms\n",
    "\n",
    "22 subsections"
   ]
  },
  {
   "cell_type": "code",
   "execution_count": null,
   "metadata": {},
   "outputs": [],
   "source": []
  },
  {
   "cell_type": "markdown",
   "metadata": {},
   "source": [
    "# Graphs and Graph Algorithms\n",
    "\n",
    "26 subsections (probably won't get to this)"
   ]
  },
  {
   "cell_type": "code",
   "execution_count": null,
   "metadata": {},
   "outputs": [],
   "source": []
  }
 ],
 "metadata": {
  "kernelspec": {
   "display_name": "Python 3",
   "language": "python",
   "name": "python3"
  },
  "language_info": {
   "codemirror_mode": {
    "name": "ipython",
    "version": 3
   },
   "file_extension": ".py",
   "mimetype": "text/x-python",
   "name": "python",
   "nbconvert_exporter": "python",
   "pygments_lexer": "ipython3",
   "version": "3.5.6"
  },
  "toc": {
   "nav_menu": {},
   "number_sections": true,
   "sideBar": true,
   "skip_h1_title": false,
   "toc_cell": false,
   "toc_position": {},
   "toc_section_display": "block",
   "toc_window_display": true
  },
  "varInspector": {
   "cols": {
    "lenName": 16,
    "lenType": 16,
    "lenVar": 40
   },
   "kernels_config": {
    "python": {
     "delete_cmd_postfix": "",
     "delete_cmd_prefix": "del ",
     "library": "var_list.py",
     "varRefreshCmd": "print(var_dic_list())"
    },
    "r": {
     "delete_cmd_postfix": ") ",
     "delete_cmd_prefix": "rm(",
     "library": "var_list.r",
     "varRefreshCmd": "cat(var_dic_list()) "
    }
   },
   "types_to_exclude": [
    "module",
    "function",
    "builtin_function_or_method",
    "instance",
    "_Feature"
   ],
   "window_display": false
  }
 },
 "nbformat": 4,
 "nbformat_minor": 2
}
