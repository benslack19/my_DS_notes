{
 "cells": [
  {
   "cell_type": "code",
   "execution_count": 1,
   "metadata": {
    "ExecuteTime": {
     "end_time": "2020-08-03T22:12:17.887358Z",
     "start_time": "2020-08-03T22:12:17.086199Z"
    }
   },
   "outputs": [],
   "source": [
    "import numpy as np\n",
    "import pandas as pd"
   ]
  },
  {
   "cell_type": "markdown",
   "metadata": {},
   "source": [
    "Highest ROI activity: Leetcode problems, study problems and solutions and try to do it on your own\n",
    "\n",
    "- break up by algorithm / data structure type and interview problem\n",
    "\n",
    "Trying HackerRank"
   ]
  },
  {
   "cell_type": "markdown",
   "metadata": {
    "ExecuteTime": {
     "end_time": "2020-08-08T02:58:09.211403Z",
     "start_time": "2020-08-08T02:58:09.196297Z"
    }
   },
   "source": [
    "# Tips"
   ]
  },
  {
   "cell_type": "markdown",
   "metadata": {},
   "source": [
    "## My own tips"
   ]
  },
  {
   "cell_type": "markdown",
   "metadata": {},
   "source": [
    "What I learned:\n",
    "- Go slow. Have a good understanding of the problem first.\n",
    "- My logic is more efficient if I actually write it out in English\n",
    "- I test with a few cases, also in plain English\n",
    "- Take a break if stuck\n",
    "- Review a solution as a last resort\n",
    "- Be mindful what kind of pre-processing is already done\n",
    "    - like string to a list\n",
    "- Determine if a print or return is needed\n",
    "- Determine if unique values or all values are a factor"
   ]
  },
  {
   "cell_type": "markdown",
   "metadata": {},
   "source": [
    "## HR tips\n",
    "\n",
    "from [here](https://www.hackerrank.com/interview/interview-preparation-kit/tips-and-guidelines/videos)"
   ]
  },
  {
   "cell_type": "markdown",
   "metadata": {},
   "source": [
    "**Steps for solving algorithms** [video](https://www.youtube.com/watch?v=GKgAVjJxh9w&feature=emb_title)\n",
    "\n",
    "1. Listen/read problem carefully. When solving, you might not need every detail of the problem, but a detail might be helpful to solve it optimally.\n",
    "2. Use a good example, one that is big enough and has no special cases.\n",
    "3. Write a brute force algorithm. Better than nothing at all, checks for understanding, a starting point for optimization.\n",
    "4. OPTIMIZE. A good chunk of time in interview could be spent here.\n",
    "5. Walk through your algorithm. Know exactly what you're going to do before coding.\n",
    "6. Code. Whiteboard: use space wisely. Computer: use consistent coding style, descriptive variable names (then ask if I can abbreviate). Modularize code upfront. Write overall function that wraps smaller functions. Any conceptual chunks can be pushed off into other functions.\n",
    "7. Test. Don't use big example from step 2 right away. Start by analyzing each line of code. Then start with smaller test cases first, followed by edge cases, and big cases if there's time. Don't panic if there's a bug. Just talk about why that happens."
   ]
  },
  {
   "cell_type": "markdown",
   "metadata": {},
   "source": [
    "**3 algorithm strategies** [video](https://www.youtube.com/watch?v=84UYVCluClQ&feature=emb_title)\n",
    "\n",
    "1. BUD\n",
    "    - Bottlenecks: How could you improve the slowest step?\n",
    "    - Unnecessary work: Examine how you can use work already performed (e.g. determine if you can get a missing variable with pieces you already have)\n",
    "    - Duplicated work: How can you reduce repeated steps?\n",
    "    \n",
    "2. Space/Time tradeoffs\n",
    "    - often it means using a different data structure, **often a hash table**\n",
    "    - you're using more space, to get improved time complexity\n",
    "    \n",
    "3. D.I.Y.\n",
    "    - think about how you're thinking of solving **a big example problem that's reasonably generic** without code\n",
    "    - then reverse engineer that into code"
   ]
  },
  {
   "cell_type": "code",
   "execution_count": null,
   "metadata": {},
   "outputs": [],
   "source": []
  },
  {
   "cell_type": "code",
   "execution_count": null,
   "metadata": {},
   "outputs": [],
   "source": []
  },
  {
   "cell_type": "code",
   "execution_count": null,
   "metadata": {},
   "outputs": [],
   "source": []
  },
  {
   "cell_type": "markdown",
   "metadata": {},
   "source": [
    "# Sock Merchant (8/5/20)\n",
    "\n",
    "HackerRank practice\n",
    "[Sock Merchant](https://www.hackerrank.com/challenges/sock-merchant/problem?h_l=interview&playlist_slugs%5B%5D=interview-preparation-kit&playlist_slugs%5B%5D=warmup)\n"
   ]
  },
  {
   "cell_type": "markdown",
   "metadata": {},
   "source": [
    "## Using a dictionary"
   ]
  },
  {
   "cell_type": "code",
   "execution_count": 9,
   "metadata": {
    "ExecuteTime": {
     "end_time": "2020-08-05T20:08:37.672134Z",
     "start_time": "2020-08-05T20:08:37.651824Z"
    }
   },
   "outputs": [],
   "source": [
    "def sockMerchant(n, ar):\n",
    "    n_pairs = 0\n",
    "    sock_dict ={}\n",
    "    for i in range(len(ar)):\n",
    "        if ar[i] not in sock_dict:\n",
    "            sock_dict[ar[i]] = 1\n",
    "        else:\n",
    "            n_pairs +=1\n",
    "            # remove dictionary for that value\n",
    "            del sock_dict[ar[i]]\n",
    "        print(sock_dict)\n",
    "\n",
    "    return n_pairs\n"
   ]
  },
  {
   "cell_type": "code",
   "execution_count": 10,
   "metadata": {
    "ExecuteTime": {
     "end_time": "2020-08-05T20:08:38.344791Z",
     "start_time": "2020-08-05T20:08:38.332793Z"
    }
   },
   "outputs": [
    {
     "name": "stdout",
     "output_type": "stream",
     "text": [
      "{10: 1}\n",
      "{10: 1, 20: 1}\n",
      "{10: 1}\n",
      "{}\n",
      "{10: 1}\n",
      "{10: 1, 30: 1}\n",
      "{10: 1, 30: 1, 50: 1}\n",
      "{30: 1, 50: 1}\n",
      "{30: 1, 50: 1, 20: 1}\n"
     ]
    },
    {
     "data": {
      "text/plain": [
       "3"
      ]
     },
     "execution_count": 10,
     "metadata": {},
     "output_type": "execute_result"
    }
   ],
   "source": [
    "my_n = 9\n",
    "my_ar = [10, 20, 20, 10, 10, 30, 50, 10, 20]\n",
    "sockMerchant(my_n, my_ar)"
   ]
  },
  {
   "cell_type": "markdown",
   "metadata": {
    "ExecuteTime": {
     "end_time": "2020-08-06T19:23:31.598922Z",
     "start_time": "2020-08-06T19:23:31.399520Z"
    }
   },
   "source": [
    "## Using a set\n",
    "\n",
    "Use set as a way to hold unordered and unindexed unique items."
   ]
  },
  {
   "cell_type": "code",
   "execution_count": null,
   "metadata": {},
   "outputs": [],
   "source": []
  },
  {
   "cell_type": "code",
   "execution_count": 29,
   "metadata": {
    "ExecuteTime": {
     "end_time": "2020-08-06T19:26:49.985184Z",
     "start_time": "2020-08-06T19:26:49.976907Z"
    }
   },
   "outputs": [],
   "source": [
    "def sockMerchant_v2(n, ar):\n",
    "    n_pairs = 0\n",
    "    sock_set = set()\n",
    "    for i in range(n):\n",
    "        if ar[i] not in sock_set:\n",
    "            sock_set.add(ar[i])\n",
    "        else:\n",
    "            n_pairs +=1\n",
    "            # remove element from the set\n",
    "            sock_set.remove(ar[i])\n",
    "        #print(sock_set)\n",
    "\n",
    "    return n_pairs\n"
   ]
  },
  {
   "cell_type": "code",
   "execution_count": 30,
   "metadata": {
    "ExecuteTime": {
     "end_time": "2020-08-06T19:26:50.444485Z",
     "start_time": "2020-08-06T19:26:50.430234Z"
    }
   },
   "outputs": [
    {
     "name": "stdout",
     "output_type": "stream",
     "text": [
      "{10}\n",
      "{10, 20}\n",
      "{10}\n",
      "set()\n",
      "{10}\n",
      "{10, 30}\n",
      "{10, 50, 30}\n",
      "{50, 30}\n",
      "{50, 20, 30}\n"
     ]
    },
    {
     "data": {
      "text/plain": [
       "3"
      ]
     },
     "execution_count": 30,
     "metadata": {},
     "output_type": "execute_result"
    }
   ],
   "source": [
    "my_n = 9\n",
    "my_ar = [10, 20, 20, 10, 10, 30, 50, 10, 20]\n",
    "sockMerchant_v2(my_n, my_ar)"
   ]
  },
  {
   "cell_type": "code",
   "execution_count": null,
   "metadata": {},
   "outputs": [],
   "source": []
  },
  {
   "cell_type": "markdown",
   "metadata": {},
   "source": [
    "# Fruit subsets problem (8/5/20)\n",
    "\n",
    "Given a list of fruit, generate all subsets.\n",
    "\n",
    "Input:\n",
    "fruit_list = ['apple', 'orange', 'banana']\n",
    "\n",
    "Output:\n",
    "[[],\n",
    " ['apple'],\n",
    " ['orange'],\n",
    " ['apple', 'orange'],\n",
    " ['banana'],\n",
    " ['apple', 'banana'],\n",
    " ['orange', 'banana'],\n",
    " ['apple', 'orange', 'banana']]"
   ]
  },
  {
   "cell_type": "code",
   "execution_count": 17,
   "metadata": {
    "ExecuteTime": {
     "end_time": "2020-08-05T21:34:18.736251Z",
     "start_time": "2020-08-05T21:34:18.716835Z"
    }
   },
   "outputs": [],
   "source": [
    "def fruit_subsets(fruit_list):\n",
    "    output = [[]]\n",
    "    for fruit in fruit_list:        \n",
    "        output += [curr + [fruit] for curr in output]\n",
    "    return output"
   ]
  },
  {
   "cell_type": "code",
   "execution_count": 18,
   "metadata": {
    "ExecuteTime": {
     "end_time": "2020-08-05T21:34:18.955811Z",
     "start_time": "2020-08-05T21:34:18.944425Z"
    }
   },
   "outputs": [
    {
     "data": {
      "text/plain": [
       "[[],\n",
       " ['apple'],\n",
       " ['orange'],\n",
       " ['apple', 'orange'],\n",
       " ['banana'],\n",
       " ['apple', 'banana'],\n",
       " ['orange', 'banana'],\n",
       " ['apple', 'orange', 'banana']]"
      ]
     },
     "execution_count": 18,
     "metadata": {},
     "output_type": "execute_result"
    }
   ],
   "source": [
    "my_fruit_list = ['apple', 'orange', 'banana']\n",
    "fruit_subsets(my_fruit_list)"
   ]
  },
  {
   "cell_type": "code",
   "execution_count": 20,
   "metadata": {
    "ExecuteTime": {
     "end_time": "2020-08-05T21:35:01.227641Z",
     "start_time": "2020-08-05T21:35:01.216840Z"
    }
   },
   "outputs": [],
   "source": [
    "def fruit_subsets_v1(fruit_list):\n",
    "    output = [[]]\n",
    "    for fruit in fruit_list:    \n",
    "        for curr in output:\n",
    "            output += [curr + [fruit]]\n",
    "    return output"
   ]
  },
  {
   "cell_type": "code",
   "execution_count": 21,
   "metadata": {
    "ExecuteTime": {
     "end_time": "2020-08-05T21:35:05.484385Z",
     "start_time": "2020-08-05T21:35:01.724397Z"
    }
   },
   "outputs": [
    {
     "ename": "KeyboardInterrupt",
     "evalue": "",
     "output_type": "error",
     "traceback": [
      "\u001b[0;31m---------------------------------------------------------------------------\u001b[0m",
      "\u001b[0;31mKeyboardInterrupt\u001b[0m                         Traceback (most recent call last)",
      "\u001b[0;32m<ipython-input-21-f3e7558ebfa1>\u001b[0m in \u001b[0;36m<module>\u001b[0;34m\u001b[0m\n\u001b[1;32m      1\u001b[0m \u001b[0mmy_fruit_list\u001b[0m \u001b[0;34m=\u001b[0m \u001b[0;34m[\u001b[0m\u001b[0;34m'apple'\u001b[0m\u001b[0;34m,\u001b[0m \u001b[0;34m'orange'\u001b[0m\u001b[0;34m,\u001b[0m \u001b[0;34m'banana'\u001b[0m\u001b[0;34m]\u001b[0m\u001b[0;34m\u001b[0m\u001b[0;34m\u001b[0m\u001b[0m\n\u001b[0;32m----> 2\u001b[0;31m \u001b[0mfruit_subsets_v1\u001b[0m\u001b[0;34m(\u001b[0m\u001b[0mmy_fruit_list\u001b[0m\u001b[0;34m)\u001b[0m\u001b[0;34m\u001b[0m\u001b[0;34m\u001b[0m\u001b[0m\n\u001b[0m",
      "\u001b[0;32m<ipython-input-20-f3cb725117fa>\u001b[0m in \u001b[0;36mfruit_subsets_v1\u001b[0;34m(fruit_list)\u001b[0m\n\u001b[1;32m      3\u001b[0m     \u001b[0;32mfor\u001b[0m \u001b[0mfruit\u001b[0m \u001b[0;32min\u001b[0m \u001b[0mfruit_list\u001b[0m\u001b[0;34m:\u001b[0m\u001b[0;34m\u001b[0m\u001b[0;34m\u001b[0m\u001b[0m\n\u001b[1;32m      4\u001b[0m         \u001b[0;32mfor\u001b[0m \u001b[0mcurr\u001b[0m \u001b[0;32min\u001b[0m \u001b[0moutput\u001b[0m\u001b[0;34m:\u001b[0m\u001b[0;34m\u001b[0m\u001b[0;34m\u001b[0m\u001b[0m\n\u001b[0;32m----> 5\u001b[0;31m             \u001b[0moutput\u001b[0m \u001b[0;34m+=\u001b[0m \u001b[0;34m[\u001b[0m\u001b[0mcurr\u001b[0m \u001b[0;34m+\u001b[0m \u001b[0;34m[\u001b[0m\u001b[0mfruit\u001b[0m\u001b[0;34m]\u001b[0m\u001b[0;34m]\u001b[0m\u001b[0;34m\u001b[0m\u001b[0;34m\u001b[0m\u001b[0m\n\u001b[0m\u001b[1;32m      6\u001b[0m     \u001b[0;32mreturn\u001b[0m \u001b[0moutput\u001b[0m\u001b[0;34m\u001b[0m\u001b[0;34m\u001b[0m\u001b[0m\n",
      "\u001b[0;31mKeyboardInterrupt\u001b[0m: "
     ]
    }
   ],
   "source": [
    "my_fruit_list = ['apple', 'orange', 'banana']\n",
    "fruit_subsets_v1(my_fruit_list)"
   ]
  },
  {
   "cell_type": "code",
   "execution_count": null,
   "metadata": {},
   "outputs": [],
   "source": [
    "def fruit_subsets_v2(fruit_list):\n",
    "    output = [[]]\n",
    "    for fruit in fruit_list:    \n",
    "        for curr in output:\n",
    "            output += [curr + [fruit]]\n",
    "    return output"
   ]
  },
  {
   "cell_type": "code",
   "execution_count": null,
   "metadata": {},
   "outputs": [],
   "source": [
    "my_fruit_list = ['apple', 'orange', 'banana']\n",
    "fruit_subsets_v2(my_fruit_list)"
   ]
  },
  {
   "cell_type": "code",
   "execution_count": 31,
   "metadata": {
    "ExecuteTime": {
     "end_time": "2020-08-06T19:31:41.146396Z",
     "start_time": "2020-08-06T19:31:41.124525Z"
    }
   },
   "outputs": [],
   "source": [
    "# Lufan's solution: need to use copy\n",
    "\n",
    "def subset(fruit):\n",
    "    res = [[]]\n",
    "    for i in fruit:\n",
    "        for j in range(len(res)):\n",
    "            cur = res[j].copy()\n",
    "            cur.append(i)\n",
    "            res.append(cur)\n",
    "    return res\n"
   ]
  },
  {
   "cell_type": "code",
   "execution_count": 23,
   "metadata": {
    "ExecuteTime": {
     "end_time": "2020-08-05T22:22:50.286818Z",
     "start_time": "2020-08-05T22:22:50.256162Z"
    }
   },
   "outputs": [
    {
     "data": {
      "text/plain": [
       "[[],\n",
       " ['apple'],\n",
       " ['orange'],\n",
       " ['apple', 'orange'],\n",
       " ['banana'],\n",
       " ['apple', 'banana'],\n",
       " ['orange', 'banana'],\n",
       " ['apple', 'orange', 'banana']]"
      ]
     },
     "execution_count": 23,
     "metadata": {},
     "output_type": "execute_result"
    }
   ],
   "source": [
    "subset(my_fruit_list)"
   ]
  },
  {
   "cell_type": "markdown",
   "metadata": {},
   "source": [
    "# HR Counting Valleys (8/6/20)\n",
    "\n",
    "[HackerRank](https://www.hackerrank.com/challenges/counting-valleys/problem?h_l=interview&playlist_slugs%5B%5D=interview-preparation-kit&playlist_slugs%5B%5D=warmup)\n",
    "    "
   ]
  },
  {
   "cell_type": "markdown",
   "metadata": {},
   "source": [
    "Strategy:\n",
    "- Keep track of net values by setting sea level as zero in `res`\n",
    "- When net goes negative, then be prepared to count the valley (set `tracker` to True). Otherwise ignore it.\n",
    "- If net goes from a negative to zero, add to the counter and reset the `tracker`\n",
    "- He only goes up or down, not lateral."
   ]
  },
  {
   "cell_type": "code",
   "execution_count": 5,
   "metadata": {
    "ExecuteTime": {
     "end_time": "2020-08-08T00:12:50.400025Z",
     "start_time": "2020-08-08T00:12:50.392701Z"
    }
   },
   "outputs": [],
   "source": [
    "def countingValleys(n, s):\n",
    "    res = 0\n",
    "    net = 0\n",
    "    net_value_tracker = False\n",
    "    for step in s:\n",
    "        if step == 'U':\n",
    "            net += 1\n",
    "        else:\n",
    "            net -= 1\n",
    "            \n",
    "        if (net_value_tracker) & (net == 0):\n",
    "            res += 1\n",
    "            net_value_tracker = False\n",
    "            \n",
    "        if net < 0:\n",
    "            net_value_tracker = True\n",
    "        else:\n",
    "            net_value_tracker = False\n",
    "        \n",
    "        print(res, net, net_value_tracker)\n",
    "        \n",
    "    return res"
   ]
  },
  {
   "cell_type": "code",
   "execution_count": 6,
   "metadata": {
    "ExecuteTime": {
     "end_time": "2020-08-08T00:12:51.044934Z",
     "start_time": "2020-08-08T00:12:51.031982Z"
    }
   },
   "outputs": [
    {
     "name": "stdout",
     "output_type": "stream",
     "text": [
      "0 1 False\n",
      "0 0 False\n",
      "0 -1 True\n",
      "0 -2 True\n",
      "0 -1 True\n",
      "0 -2 True\n",
      "0 -1 True\n",
      "1 0 False\n"
     ]
    },
    {
     "data": {
      "text/plain": [
       "1"
      ]
     },
     "execution_count": 6,
     "metadata": {},
     "output_type": "execute_result"
    }
   ],
   "source": [
    "my_n = 8\n",
    "my_s = 'UDDDUDUU'\n",
    "\n",
    "countingValleys(my_n, my_s)"
   ]
  },
  {
   "cell_type": "code",
   "execution_count": 7,
   "metadata": {
    "ExecuteTime": {
     "end_time": "2020-08-08T00:12:56.561643Z",
     "start_time": "2020-08-08T00:12:56.548242Z"
    }
   },
   "outputs": [
    {
     "name": "stdout",
     "output_type": "stream",
     "text": [
      "0 -1 True\n",
      "0 -2 True\n",
      "0 -1 True\n",
      "1 0 False\n",
      "1 -1 True\n",
      "1 -2 True\n",
      "1 -1 True\n",
      "1 -2 True\n",
      "1 -1 True\n",
      "2 0 False\n",
      "2 1 False\n",
      "2 0 False\n"
     ]
    },
    {
     "data": {
      "text/plain": [
       "2"
      ]
     },
     "execution_count": 7,
     "metadata": {},
     "output_type": "execute_result"
    }
   ],
   "source": [
    "my_n = 12\n",
    "my_s = 'DDUUDDUDUUUD'\n",
    "\n",
    "countingValleys(my_n, my_s)"
   ]
  },
  {
   "cell_type": "markdown",
   "metadata": {
    "ExecuteTime": {
     "end_time": "2020-08-08T00:14:23.653322Z",
     "start_time": "2020-08-08T00:14:23.640196Z"
    }
   },
   "source": [
    "# HR Jumping on the Clouds (8/7/20)\n",
    "\n",
    "[HackerRank](https://www.hackerrank.com/challenges/jumping-on-the-clouds/problem?h_l=interview&playlist_slugs%5B%5D=interview-preparation-kit&playlist_slugs%5B%5D=warmup)\n",
    "\n",
    "1. Don't actually iterate, but look ahead and jump accordingly.\n",
    "2. If one can jump 2 ahead, do that, otherwise, move one ahead.\n",
    "3. The last cloud is always a zero. You therefore know the answer before you actually reach the last cloud. Last position you have to go to depends on whether second-to-last index is a 0 or 1."
   ]
  },
  {
   "cell_type": "code",
   "execution_count": 77,
   "metadata": {
    "ExecuteTime": {
     "end_time": "2020-08-08T02:38:56.959080Z",
     "start_time": "2020-08-08T02:38:56.929865Z"
    }
   },
   "outputs": [],
   "source": [
    "def jumpingOnClouds(c):\n",
    "    \n",
    "    # Case 1\n",
    "    #  0,1,2,3,4\n",
    "    # [0,0,1,0,0]\n",
    "    # 3 jumps\n",
    "    \n",
    "    # Case 2\n",
    "    #  0,1,2,3,4\n",
    "    # [0,0,0,1,0]\n",
    "    # 2 jumps\n",
    "    \n",
    "    # Case 3\n",
    "    #  0,1,2\n",
    "    # [0,1,0]\n",
    "    # 1 jump\n",
    "    \n",
    "    el = 0\n",
    "    jumps = 0\n",
    "    while el+2 < len(c):\n",
    "        \n",
    "        if c[el+2] == 0:\n",
    "            el += 2\n",
    "        else:\n",
    "            el += 1\n",
    "        jumps += 1\n",
    "    \n",
    "    # If there's a zero on second-to-last element, return jumps+1\n",
    "    if el == len(c)-2:\n",
    "        return jumps + 1\n",
    "    \n",
    "    # Otherwise (e.g. if there's a one on second-to-last element) return jumps\n",
    "    else:\n",
    "        return jumps\n",
    "    "
   ]
  },
  {
   "cell_type": "code",
   "execution_count": 78,
   "metadata": {
    "ExecuteTime": {
     "end_time": "2020-08-08T02:38:57.614380Z",
     "start_time": "2020-08-08T02:38:57.606662Z"
    }
   },
   "outputs": [
    {
     "data": {
      "text/plain": [
       "4"
      ]
     },
     "execution_count": 78,
     "metadata": {},
     "output_type": "execute_result"
    }
   ],
   "source": [
    "my_c = [0, 0, 1, 0, 0, 1, 0]\n",
    "jumpingOnClouds(my_c)"
   ]
  },
  {
   "cell_type": "code",
   "execution_count": 79,
   "metadata": {
    "ExecuteTime": {
     "end_time": "2020-08-08T02:38:58.685247Z",
     "start_time": "2020-08-08T02:38:58.679885Z"
    }
   },
   "outputs": [
    {
     "data": {
      "text/plain": [
       "3"
      ]
     },
     "execution_count": 79,
     "metadata": {},
     "output_type": "execute_result"
    }
   ],
   "source": [
    "my_c = [0, 0, 0, 0, 1, 0]\n",
    "jumpingOnClouds(my_c)"
   ]
  },
  {
   "cell_type": "code",
   "execution_count": 80,
   "metadata": {
    "ExecuteTime": {
     "end_time": "2020-08-08T02:38:59.882076Z",
     "start_time": "2020-08-08T02:38:59.875350Z"
    }
   },
   "outputs": [
    {
     "data": {
      "text/plain": [
       "3"
      ]
     },
     "execution_count": 80,
     "metadata": {},
     "output_type": "execute_result"
    }
   ],
   "source": [
    "my_c = [0, 0, 0, 1, 0, 0]\n",
    "jumpingOnClouds(my_c)"
   ]
  },
  {
   "cell_type": "code",
   "execution_count": 81,
   "metadata": {
    "ExecuteTime": {
     "end_time": "2020-08-08T02:39:01.452644Z",
     "start_time": "2020-08-08T02:39:01.447181Z"
    }
   },
   "outputs": [
    {
     "data": {
      "text/plain": [
       "1"
      ]
     },
     "execution_count": 81,
     "metadata": {},
     "output_type": "execute_result"
    }
   ],
   "source": [
    "my_c = [0, 1, 0]\n",
    "jumpingOnClouds(my_c)"
   ]
  },
  {
   "cell_type": "code",
   "execution_count": 82,
   "metadata": {
    "ExecuteTime": {
     "end_time": "2020-08-08T02:39:12.945345Z",
     "start_time": "2020-08-08T02:39:12.938801Z"
    }
   },
   "outputs": [
    {
     "data": {
      "text/plain": [
       "0"
      ]
     },
     "execution_count": 82,
     "metadata": {},
     "output_type": "execute_result"
    }
   ],
   "source": [
    "my_c = [0]\n",
    "jumpingOnClouds(my_c)"
   ]
  },
  {
   "cell_type": "markdown",
   "metadata": {},
   "source": [
    "# HR Repeated String\n",
    "\n",
    "[HackerRank](https://www.hackerrank.com/challenges/repeated-string/problem?h_l=interview&playlist_slugs%5B%5D=interview-preparation-kit&playlist_slugs%5B%5D=warmup&h_r=next-challenge&h_v=zen)\n",
    "\n",
    "Strategy 1:\n",
    "1. Print out the repeats\n",
    "2. Count the a's\n",
    "\n",
    "\n",
    "Strategy 2:\n",
    "1. Use the number of a's in the original string, division, and modulo to determine the result\n",
    "\n",
    "\n"
   ]
  },
  {
   "cell_type": "markdown",
   "metadata": {},
   "source": [
    "\n",
    "\n",
    "Example: 'aba', 10\n",
    "aba aba aba aba aba aba abaaba\n",
    "            *\n",
    "result is 7"
   ]
  },
  {
   "cell_type": "code",
   "execution_count": 89,
   "metadata": {
    "ExecuteTime": {
     "end_time": "2020-08-08T03:00:43.978833Z",
     "start_time": "2020-08-08T03:00:43.946186Z"
    }
   },
   "outputs": [],
   "source": [
    "def repeatedString(s, n):\n",
    "    \n",
    "    # Count number of a's in original string\n",
    "    num_a = 0\n",
    "    for i in s:\n",
    "        if i == 'a':\n",
    "            num_a += 1\n",
    "\n",
    "    # Determine the number of a's using floor division from the total length\n",
    "    n_strings = n // len(s)\n",
    "    total_As = num_a * n_strings\n",
    "\n",
    "    # Use modulo\n",
    "    rem = n % len(s)\n",
    "    for i in s[0:rem]:\n",
    "        if i == 'a':\n",
    "            total_As += 1\n",
    "\n",
    "    return total_As"
   ]
  },
  {
   "cell_type": "code",
   "execution_count": 90,
   "metadata": {
    "ExecuteTime": {
     "end_time": "2020-08-08T03:00:46.597936Z",
     "start_time": "2020-08-08T03:00:46.590493Z"
    }
   },
   "outputs": [
    {
     "data": {
      "text/plain": [
       "7"
      ]
     },
     "execution_count": 90,
     "metadata": {},
     "output_type": "execute_result"
    }
   ],
   "source": [
    "my_s = 'aba'\n",
    "my_n = 10\n",
    "\n",
    "repeatedString(my_s, my_n)"
   ]
  },
  {
   "cell_type": "code",
   "execution_count": 91,
   "metadata": {
    "ExecuteTime": {
     "end_time": "2020-08-08T03:01:23.323340Z",
     "start_time": "2020-08-08T03:01:23.313176Z"
    }
   },
   "outputs": [
    {
     "data": {
      "text/plain": [
       "1000000000000"
      ]
     },
     "execution_count": 91,
     "metadata": {},
     "output_type": "execute_result"
    }
   ],
   "source": [
    "my_s = 'a'\n",
    "my_n = 1000000000000\n",
    "\n",
    "repeatedString(my_s, my_n)"
   ]
  },
  {
   "cell_type": "markdown",
   "metadata": {
    "ExecuteTime": {
     "end_time": "2020-08-08T02:53:18.984812Z",
     "start_time": "2020-08-08T02:53:18.978125Z"
    }
   },
   "source": [
    "## With regular expression"
   ]
  },
  {
   "cell_type": "code",
   "execution_count": 86,
   "metadata": {
    "ExecuteTime": {
     "end_time": "2020-08-08T02:53:01.951747Z",
     "start_time": "2020-08-08T02:53:01.943396Z"
    }
   },
   "outputs": [
    {
     "data": {
      "text/plain": [
       "['a', 'a']"
      ]
     },
     "execution_count": 86,
     "metadata": {},
     "output_type": "execute_result"
    }
   ],
   "source": [
    "import re\n",
    "re.findall('a', my_s)"
   ]
  },
  {
   "cell_type": "markdown",
   "metadata": {},
   "source": [
    "# HR Ransom Note\n",
    "\n",
    "[HR](https://www.hackerrank.com/challenges/ctci-ransom-note/problem?h_l=interview&playlist_slugs%5B%5D=interview-preparation-kit&playlist_slugs%5B%5D=dictionaries-hashmaps)\n",
    "\n",
    "1. Easy check is to see if the number of words in magazine is less than note, which is an automatic no.\n",
    "2. If it's equal or greater, than one can iterate through the note and then check off that the magazine contains it.\n",
    "3. Brute force strategy is to iterate through both again.\n",
    "4. Another strategy is that passing through the magazine list once should leave a more efficient solution.\n",
    "\n"
   ]
  },
  {
   "cell_type": "code",
   "execution_count": 102,
   "metadata": {
    "ExecuteTime": {
     "end_time": "2020-08-08T20:29:38.502483Z",
     "start_time": "2020-08-08T20:29:38.496356Z"
    }
   },
   "outputs": [],
   "source": [
    "def checkMagazine(magazine, note):\n",
    "    \n",
    "    mag_words = magazine.split()\n",
    "    note_words = note.split()\n",
    "    \n",
    "    # Check if number of words in magazine is less than note. Automatic no.\n",
    "    if len(mag_words) < len(note_words):\n",
    "        return 'No'\n",
    "    \n",
    "    el_note = 0 \n",
    "    while el_note <= len(note_words)-1:\n",
    "        print(note_words[el_note])\n",
    "        if note_words[el_note] not in mag_words:\n",
    "            return 'No'\n",
    "        el_note += 1\n",
    "    return 'Yes'\n",
    "    "
   ]
  },
  {
   "cell_type": "code",
   "execution_count": 103,
   "metadata": {
    "ExecuteTime": {
     "end_time": "2020-08-08T20:29:38.878984Z",
     "start_time": "2020-08-08T20:29:38.869566Z"
    }
   },
   "outputs": [
    {
     "name": "stdout",
     "output_type": "stream",
     "text": [
      "give\n",
      "one\n",
      "grand\n",
      "today\n"
     ]
    },
    {
     "data": {
      "text/plain": [
       "'Yes'"
      ]
     },
     "execution_count": 103,
     "metadata": {},
     "output_type": "execute_result"
    }
   ],
   "source": [
    "my_magazine = 'give me one grand today night'\n",
    "my_note = 'give one grand today'\n",
    "\n",
    "checkMagazine(my_magazine, my_note)"
   ]
  },
  {
   "cell_type": "code",
   "execution_count": 104,
   "metadata": {
    "ExecuteTime": {
     "end_time": "2020-08-08T20:30:04.410923Z",
     "start_time": "2020-08-08T20:30:04.403712Z"
    }
   },
   "outputs": [
    {
     "name": "stdout",
     "output_type": "stream",
     "text": [
      "ive\n",
      "got\n",
      "some\n"
     ]
    },
    {
     "data": {
      "text/plain": [
       "'No'"
      ]
     },
     "execution_count": 104,
     "metadata": {},
     "output_type": "execute_result"
    }
   ],
   "source": [
    "my_magazine = 'ive got a lovely bunch of coconuts'\n",
    "my_note = 'ive got some coconuts'\n",
    "\n",
    "checkMagazine(my_magazine, my_note)"
   ]
  },
  {
   "cell_type": "markdown",
   "metadata": {},
   "source": [
    "**Time complexity**\n",
    "\n",
    "`x in s` for a list is O(n) time complexity on average so overall algorithm is O(n^2)\n",
    "\n",
    "`x in d` for a dictionary could be O(1) time complexity on average so overall algorithm could be O(n)"
   ]
  },
  {
   "cell_type": "code",
   "execution_count": null,
   "metadata": {},
   "outputs": [],
   "source": []
  },
  {
   "cell_type": "markdown",
   "metadata": {},
   "source": [
    "## Faster solution"
   ]
  },
  {
   "cell_type": "code",
   "execution_count": 105,
   "metadata": {
    "ExecuteTime": {
     "end_time": "2020-08-08T20:32:55.609174Z",
     "start_time": "2020-08-08T20:32:55.593924Z"
    }
   },
   "outputs": [],
   "source": [
    "def checkMagazine_v1(magazine, note):\n",
    "    \n",
    "    mag_words = set(magazine.split())\n",
    "    note_words = note.split()\n",
    "    \n",
    "    # Check if number of words in magazine is less than note. Automatic no.\n",
    "    if len(mag_words) < len(note_words):\n",
    "        return 'No'\n",
    "    \n",
    "    el_note = 0 \n",
    "    while el_note <= len(note_words)-1:\n",
    "        print(note_words[el_note])\n",
    "        if note_words[el_note] not in mag_words:\n",
    "            return 'No'\n",
    "        el_note += 1\n",
    "    return 'Yes'\n",
    "    "
   ]
  },
  {
   "cell_type": "code",
   "execution_count": 107,
   "metadata": {
    "ExecuteTime": {
     "end_time": "2020-08-08T20:33:33.923574Z",
     "start_time": "2020-08-08T20:33:33.914006Z"
    }
   },
   "outputs": [
    {
     "data": {
      "text/plain": [
       "{'a', 'bunch', 'coconuts', 'got', 'ive', 'lovely', 'of'}"
      ]
     },
     "execution_count": 107,
     "metadata": {},
     "output_type": "execute_result"
    }
   ],
   "source": [
    "set(my_magazine.split())"
   ]
  },
  {
   "cell_type": "code",
   "execution_count": 106,
   "metadata": {
    "ExecuteTime": {
     "end_time": "2020-08-08T20:33:08.072718Z",
     "start_time": "2020-08-08T20:33:08.062024Z"
    }
   },
   "outputs": [
    {
     "name": "stdout",
     "output_type": "stream",
     "text": [
      "ive\n",
      "got\n",
      "some\n"
     ]
    },
    {
     "data": {
      "text/plain": [
       "'No'"
      ]
     },
     "execution_count": 106,
     "metadata": {},
     "output_type": "execute_result"
    }
   ],
   "source": [
    "my_magazine = 'ive got a lovely bunch of coconuts'\n",
    "my_note = 'ive got some coconuts'\n",
    "\n",
    "checkMagazine_v1(my_magazine, my_note)"
   ]
  },
  {
   "cell_type": "markdown",
   "metadata": {},
   "source": [
    "## Edit for HackerRank - a split of string to list is already performed\n"
   ]
  },
  {
   "cell_type": "code",
   "execution_count": 121,
   "metadata": {
    "ExecuteTime": {
     "end_time": "2020-08-09T16:40:16.435907Z",
     "start_time": "2020-08-09T16:40:16.429249Z"
    }
   },
   "outputs": [],
   "source": [
    "def checkMagazine_v2(magazine, note):\n",
    "    \n",
    "    mag_words = set(magazine)\n",
    "    \n",
    "    # Check if number of words in magazine is less than note. Automatic no.\n",
    "#     if len(mag_words) < len(note):\n",
    "#         print('No')\n",
    "    \n",
    "    el_note = 0 \n",
    "    while el_note <= len(note)-1:\n",
    "        #print(note[el_note])\n",
    "        if note[el_note] not in mag_words:\n",
    "            return print('No')\n",
    "        else:\n",
    "            mag_words.remove(note[el_note])\n",
    "        el_note += 1\n",
    "    return print('Yes')\n",
    "    "
   ]
  },
  {
   "cell_type": "code",
   "execution_count": 122,
   "metadata": {
    "ExecuteTime": {
     "end_time": "2020-08-09T16:40:16.937410Z",
     "start_time": "2020-08-09T16:40:16.932897Z"
    }
   },
   "outputs": [
    {
     "name": "stdout",
     "output_type": "stream",
     "text": [
      "No\n"
     ]
    }
   ],
   "source": [
    "my_magazine = ('ive got a lovely bunch of coconuts').split()\n",
    "my_note = ('ive got some coconuts').split()\n",
    "\n",
    "checkMagazine_v2(my_magazine, my_note)"
   ]
  },
  {
   "cell_type": "code",
   "execution_count": 123,
   "metadata": {
    "ExecuteTime": {
     "end_time": "2020-08-09T16:40:19.194675Z",
     "start_time": "2020-08-09T16:40:19.188480Z"
    }
   },
   "outputs": [
    {
     "name": "stdout",
     "output_type": "stream",
     "text": [
      "No\n"
     ]
    }
   ],
   "source": [
    "my_magazine = ('two times three is not four').split()\n",
    "my_note = ('two times two is four').split()\n",
    "\n",
    "checkMagazine_v2(my_magazine, my_note)"
   ]
  },
  {
   "cell_type": "markdown",
   "metadata": {},
   "source": [
    "**Word can be used only once**"
   ]
  },
  {
   "cell_type": "markdown",
   "metadata": {},
   "source": [
    "## Edit with HR strategies\n",
    "\n",
    "1. Listen/read problem carefully. When solving, you might not need every detail of the problem, but a detail might be helpful to solve it optimally.\n",
    "2. Use a good example, one that is big enough and has no special cases.\n",
    "3. Write a brute force algorithm. Better than nothing at all, checks for understanding, a starting point for optimization.\n",
    "4. OPTIMIZE. A good chunk of time in interview could be spent here.\n",
    "5. Walk through your algorithm. Know exactly what you're going to do before coding.\n",
    "6. Code. Whiteboard: use space wisely. Computer: use consistent coding style, descriptive variable names (then ask if I can abbreviate). Modularize code upfront. Write overall function that wraps smaller functions. Any conceptual chunks can be pushed off into other functions.\n",
    "7. Test. Don't use big example from step 2 right away. Start by analyzing each line of code. Then start with smaller test cases first, followed by edge cases, and big cases if there's time. Don't panic if there's a bug. Just talk about why that happens."
   ]
  },
  {
   "cell_type": "markdown",
   "metadata": {},
   "source": [
    "**Revised strategy**\n",
    "- Go through each word of the note.\n",
    "- Cut out the word out of the magazine. (Therefore, can't use a set).\n",
    "- Keep repeating.\n",
    "\n",
    "Time complexity is O(n^2) because:\n",
    "- iteration through words of the note is O(n)\n",
    "\n",
    "Then these will be executed\n",
    "- checking item `in` list is O(n)\n",
    "- .remove method of a list is O(n)\n"
   ]
  },
  {
   "cell_type": "code",
   "execution_count": 134,
   "metadata": {
    "ExecuteTime": {
     "end_time": "2020-08-09T17:56:16.552098Z",
     "start_time": "2020-08-09T17:56:16.545389Z"
    }
   },
   "outputs": [],
   "source": [
    "def checkMagazine_v3(magazine, note):\n",
    "    \n",
    "    el_note = 0 \n",
    "    while el_note <= len(note)-1:\n",
    "        #print(note[el_note])\n",
    "        if note[el_note] not in magazine:\n",
    "            return print('No')\n",
    "        else:\n",
    "            magazine.remove(note[el_note])\n",
    "        el_note += 1\n",
    "    return print('Yes')\n",
    "    "
   ]
  },
  {
   "cell_type": "code",
   "execution_count": 135,
   "metadata": {
    "ExecuteTime": {
     "end_time": "2020-08-09T17:56:16.957833Z",
     "start_time": "2020-08-09T17:56:16.950689Z"
    }
   },
   "outputs": [
    {
     "name": "stdout",
     "output_type": "stream",
     "text": [
      "Yes\n"
     ]
    }
   ],
   "source": [
    "my_magazine = ('give me one grand today night').split()\n",
    "my_note = ('give one grand today').split()\n",
    "\n",
    "checkMagazine_v3(my_magazine, my_note)"
   ]
  },
  {
   "cell_type": "code",
   "execution_count": 130,
   "metadata": {
    "ExecuteTime": {
     "end_time": "2020-08-09T17:55:28.320246Z",
     "start_time": "2020-08-09T17:55:28.315203Z"
    }
   },
   "outputs": [
    {
     "name": "stdout",
     "output_type": "stream",
     "text": [
      "No\n"
     ]
    }
   ],
   "source": [
    "my_magazine = ('ive got a lovely bunch of coconuts').split()\n",
    "my_note = ('ive got some coconuts').split()\n",
    "\n",
    "checkMagazine_v3(my_magazine, my_note)"
   ]
  },
  {
   "cell_type": "code",
   "execution_count": 131,
   "metadata": {
    "ExecuteTime": {
     "end_time": "2020-08-09T17:55:29.851816Z",
     "start_time": "2020-08-09T17:55:29.846363Z"
    }
   },
   "outputs": [
    {
     "name": "stdout",
     "output_type": "stream",
     "text": [
      "No\n"
     ]
    }
   ],
   "source": [
    "my_magazine = ('two times three is not four').split()\n",
    "my_note = ('two times two is four').split()\n",
    "\n",
    "checkMagazine_v3(my_magazine, my_note)"
   ]
  },
  {
   "cell_type": "code",
   "execution_count": 137,
   "metadata": {
    "ExecuteTime": {
     "end_time": "2020-08-09T17:56:30.146010Z",
     "start_time": "2020-08-09T17:56:30.140415Z"
    }
   },
   "outputs": [
    {
     "name": "stdout",
     "output_type": "stream",
     "text": [
      "Yes\n"
     ]
    }
   ],
   "source": [
    "my_magazine = ('give me one one grand today night').split()\n",
    "my_note = ('give one one grand today').split()\n",
    "\n",
    "checkMagazine_v3(my_magazine, my_note)"
   ]
  },
  {
   "cell_type": "markdown",
   "metadata": {},
   "source": [
    "**This passes**"
   ]
  },
  {
   "cell_type": "markdown",
   "metadata": {
    "ExecuteTime": {
     "end_time": "2020-08-09T18:00:07.370634Z",
     "start_time": "2020-08-09T18:00:07.352197Z"
    }
   },
   "source": [
    "## Edit with HR strategies - optimize with a hash\n",
    "\n",
    "For each magazine word, create a dictionary with the count of the word. Use the note and decrement the value of the magazine count dictionary. If it's zero, then the note cannot be written.\n",
    "\n",
    "It is O(n) to create the magazine dictionary and O(n) to iterate through the note. Therefore, overall time complexity is O(n).\n",
    "\n",
    "I am increasing my space complexity to create the dictionary, but improving my time complexity."
   ]
  },
  {
   "cell_type": "code",
   "execution_count": 143,
   "metadata": {
    "ExecuteTime": {
     "end_time": "2020-08-09T19:43:38.175855Z",
     "start_time": "2020-08-09T19:43:38.147863Z"
    }
   },
   "outputs": [],
   "source": [
    "def checkMagazine_v4(magazine, note):\n",
    "    \n",
    "    # Create the magazine dictionary\n",
    "    mag_dict = dict()\n",
    "    for mag_word in magazine:\n",
    "        if mag_word not in mag_dict:\n",
    "            mag_dict[mag_word] = 1\n",
    "        else:\n",
    "            mag_dict[mag_word] += 1\n",
    "    \n",
    "    # Iterate through the note and check against the magazine dictionary\n",
    "    \n",
    "    for note_word in note:\n",
    "        \n",
    "        # If the word isn't in the magazine dictionary at all\n",
    "        if note_word not in mag_dict:\n",
    "            return print('No')\n",
    "        \n",
    "        # If the word was there but the number of instances has been exhausted\n",
    "        # Bug I had to fix was that the prior boolean and can't be executed\n",
    "        if mag_dict[note_word] == 0:\n",
    "            return print('No')\n",
    "        \n",
    "        # Decrement a word in the dictionary\n",
    "        else:\n",
    "            mag_dict[note_word] -= 1\n",
    "        \n",
    "    # If it goes through the whole note without executing a 'No',\n",
    "    # then that means the whole note can be written\n",
    "    return print('Yes')"
   ]
  },
  {
   "cell_type": "code",
   "execution_count": 144,
   "metadata": {
    "ExecuteTime": {
     "end_time": "2020-08-09T19:43:38.701258Z",
     "start_time": "2020-08-09T19:43:38.696902Z"
    }
   },
   "outputs": [
    {
     "name": "stdout",
     "output_type": "stream",
     "text": [
      "Yes\n"
     ]
    }
   ],
   "source": [
    "my_magazine = ('give me one grand today night').split()\n",
    "my_note = ('give one grand today').split()\n",
    "\n",
    "checkMagazine_v4(my_magazine, my_note)"
   ]
  },
  {
   "cell_type": "code",
   "execution_count": 145,
   "metadata": {
    "ExecuteTime": {
     "end_time": "2020-08-09T19:43:39.290692Z",
     "start_time": "2020-08-09T19:43:39.286502Z"
    }
   },
   "outputs": [
    {
     "name": "stdout",
     "output_type": "stream",
     "text": [
      "No\n"
     ]
    }
   ],
   "source": [
    "my_magazine = ('ive got a lovely bunch of coconuts').split()\n",
    "my_note = ('ive got some coconuts').split()\n",
    "\n",
    "checkMagazine_v4(my_magazine, my_note)"
   ]
  },
  {
   "cell_type": "code",
   "execution_count": 146,
   "metadata": {
    "ExecuteTime": {
     "end_time": "2020-08-09T19:43:41.189046Z",
     "start_time": "2020-08-09T19:43:41.183749Z"
    }
   },
   "outputs": [
    {
     "name": "stdout",
     "output_type": "stream",
     "text": [
      "No\n"
     ]
    }
   ],
   "source": [
    "my_magazine = ('two times three is not four').split()\n",
    "my_note = ('two times two is four').split()\n",
    "\n",
    "checkMagazine_v4(my_magazine, my_note)"
   ]
  },
  {
   "cell_type": "code",
   "execution_count": 147,
   "metadata": {
    "ExecuteTime": {
     "end_time": "2020-08-09T19:43:41.828862Z",
     "start_time": "2020-08-09T19:43:41.823170Z"
    }
   },
   "outputs": [
    {
     "name": "stdout",
     "output_type": "stream",
     "text": [
      "Yes\n"
     ]
    }
   ],
   "source": [
    "my_magazine = ('give me one one grand today night').split()\n",
    "my_note = ('give one one grand today').split()\n",
    "\n",
    "checkMagazine_v4(my_magazine, my_note)"
   ]
  },
  {
   "cell_type": "code",
   "execution_count": 150,
   "metadata": {
    "ExecuteTime": {
     "end_time": "2020-08-09T19:44:16.397028Z",
     "start_time": "2020-08-09T19:44:16.387987Z"
    }
   },
   "outputs": [
    {
     "name": "stdout",
     "output_type": "stream",
     "text": [
      "No\n"
     ]
    }
   ],
   "source": [
    "# limit on number of words\n",
    "my_magazine = ('give me one grand today night').split()\n",
    "my_note = ('give one one grand today').split()\n",
    "\n",
    "checkMagazine_v4(my_magazine, my_note)"
   ]
  },
  {
   "cell_type": "code",
   "execution_count": null,
   "metadata": {},
   "outputs": [],
   "source": []
  },
  {
   "cell_type": "markdown",
   "metadata": {},
   "source": [
    "# HR Two Strings\n",
    "\n",
    "[HR](https://www.hackerrank.com/challenges/two-strings/problem?h_l=interview&playlist_slugs%5B%5D=interview-preparation-kit&playlist_slugs%5B%5D=dictionaries-hashmaps&h_r=next-challenge&h_v=zen)\n",
    "\n",
    "1. Understand the problem in detail. There are multiple pairs to evaluate.\n",
    "2. Look at example. Understand input and output. The only return value is if there is **a** substring, which means just a common letter. That's it. **I iniitally thought I'd have to come up with multiple substrings, which would have led me down the wrong path.**\n",
    "3. Brute force solution is to iterate through each letter in the smaller word, and check it is in the larger word. Return 'YES' once that condition is True. If the iteration makes it through the smaller word without the condition being met, then return 'NO'. This is O(n^2) time complexity.\n",
    "4. Optimize. Since it only matters that a common letter is identified, only unique values between both strings matter. I can turn each string into a set, which is O(n) but in separate loops. Then iterating through the set of the smaller string is O(n) and checking a set is O(1), so overall time complexity is O(n)."
   ]
  },
  {
   "cell_type": "markdown",
   "metadata": {},
   "source": [
    "Example input:\n",
    "\n",
    "2\n",
    "hello\n",
    "world\n",
    "hi\n",
    "world"
   ]
  },
  {
   "cell_type": "code",
   "execution_count": 153,
   "metadata": {
    "ExecuteTime": {
     "end_time": "2020-08-09T20:07:41.530272Z",
     "start_time": "2020-08-09T20:07:41.524562Z"
    }
   },
   "outputs": [
    {
     "name": "stdout",
     "output_type": "stream",
     "text": [
      "d\n",
      "o\n",
      "w\n",
      "r\n"
     ]
    }
   ],
   "source": [
    "for i in set('word'):\n",
    "    print(i)"
   ]
  },
  {
   "cell_type": "code",
   "execution_count": 154,
   "metadata": {
    "ExecuteTime": {
     "end_time": "2020-08-09T20:10:56.829090Z",
     "start_time": "2020-08-09T20:10:56.822202Z"
    }
   },
   "outputs": [
    {
     "data": {
      "text/plain": [
       "4"
      ]
     },
     "execution_count": 154,
     "metadata": {},
     "output_type": "execute_result"
    }
   ],
   "source": [
    "len(set('word'))"
   ]
  },
  {
   "cell_type": "code",
   "execution_count": 162,
   "metadata": {
    "ExecuteTime": {
     "end_time": "2020-08-09T20:18:50.273970Z",
     "start_time": "2020-08-09T20:18:50.269150Z"
    }
   },
   "outputs": [],
   "source": [
    "def twoStrings(s1, s2):\n",
    "    \n",
    "    # Turn each string into a set\n",
    "    s1_set = set(s1)\n",
    "    s2_set = set(s2)\n",
    "    \n",
    "    # Identify the shorter set\n",
    "    if len(s1_set) <= len(s2_set):\n",
    "        short, long = s1_set, s2_set\n",
    "    else:\n",
    "        long, short = s1_set, s2_set\n",
    "        \n",
    "    # Iterate through shorter set, and check if it's in longer\n",
    "    for i in short:\n",
    "        if i in long:\n",
    "            return 'YES'\n",
    "        \n",
    "    # If it goes completely through the shorter set, then there's no common substring\n",
    "    return 'NO'"
   ]
  },
  {
   "cell_type": "code",
   "execution_count": 163,
   "metadata": {
    "ExecuteTime": {
     "end_time": "2020-08-09T20:18:50.670421Z",
     "start_time": "2020-08-09T20:18:50.665128Z"
    }
   },
   "outputs": [
    {
     "data": {
      "text/plain": [
       "'YES'"
      ]
     },
     "execution_count": 163,
     "metadata": {},
     "output_type": "execute_result"
    }
   ],
   "source": [
    "my_s1 = 'hello'\n",
    "my_s2 = 'world'\n",
    "twoStrings(my_s1, my_s2)"
   ]
  },
  {
   "cell_type": "code",
   "execution_count": 164,
   "metadata": {
    "ExecuteTime": {
     "end_time": "2020-08-09T20:18:52.385631Z",
     "start_time": "2020-08-09T20:18:52.380393Z"
    }
   },
   "outputs": [
    {
     "data": {
      "text/plain": [
       "'NO'"
      ]
     },
     "execution_count": 164,
     "metadata": {},
     "output_type": "execute_result"
    }
   ],
   "source": [
    "my_s1 = 'hi'\n",
    "my_s2 = 'world'\n",
    "twoStrings(my_s1, my_s2)"
   ]
  },
  {
   "cell_type": "markdown",
   "metadata": {},
   "source": [
    "# HR Sherlock and Anagrams\n",
    "\n",
    "[HR](https://www.hackerrank.com/challenges/sherlock-and-anagrams/problem?h_l=interview&playlist_slugs%5B%5D=interview-preparation-kit&playlist_slugs%5B%5D=dictionaries-hashmaps&h_r=next-challenge&h_v=zen&h_r=next-challenge&h_v=zen)\n",
    "\n",
    "1. Read/listen in detail. (A detail might be used for optimization). Understand input/output.\n",
    "2. Have a good example. Something big enough without a special case.\n",
    "3. Brute force. Good to get something, check for understanding, and then build off for optimization.\n",
    "4. Optimize.\n",
    "5. Walk through algorithm. Know exactly what you're doing before coding.\n",
    "6. Code. Actually make sure code reflects what you want it to do. Modularize if possible.\n",
    "7. Test. Use small examples first. Make sure you know what each line is doing. Finding a bug is a good opportunity to show off more of what you know!"
   ]
  },
  {
   "cell_type": "markdown",
   "metadata": {},
   "source": [
    "1. The output is returning the number of possible anagrams. Definition of anagram is that letter can be re-arranged (not palindrome). Repeated letter counts.\n",
    "2. See examples.\n",
    "3. Brute force is to iterate through the string. Keep track of different lengths and keep searching for a match.\n",
    "4. Optimize. (DIY method).\n",
    "    - Look at indexes of repeated letters. Repeated letters are required for an anagram to happen.\n",
    "    - For each letter, keep track of the indexes.\n",
    "    - If a letter has more than 1 index, then use that as the basis to check for anagrams.\n",
    "    - Example: 'ifailuhkqq', `letter_dict = {'i':[0, 3], 'f':[1]}` etc.\n",
    "    - Example: 'cdcd', `letter_dict = {'c':[0, 2], 'd':[1, 3]}` etc.\n",
    "    - Anagrams can happen in the indexes between a one repeating letter. If there are multiple repeating letters, it scales quickly.\n",
    "    - Use the dictionary values.\n",
    "5. Walk through algorithm.\n",
    "6. Code"
   ]
  },
  {
   "cell_type": "code",
   "execution_count": null,
   "metadata": {},
   "outputs": [],
   "source": [
    "# Brute force solution was already getting hairy\n",
    "# def sherlockAndAnagrams(s):\n",
    "#     length_str = len(s)\n",
    "#     length = 1\n",
    "#     while length < length_str:\n",
    "#         for i in range(len(s)):\n",
    "#             ss2check = i[0:length]\n",
    "#     return res"
   ]
  },
  {
   "cell_type": "code",
   "execution_count": 167,
   "metadata": {
    "ExecuteTime": {
     "end_time": "2020-08-10T03:05:21.504532Z",
     "start_time": "2020-08-10T03:05:21.469496Z"
    }
   },
   "outputs": [],
   "source": [
    "# Brute force solution was already getting hairy\n",
    "def sherlockAndAnagrams(s):\n",
    "    letter_d = dict()\n",
    "    for i in range(len(s)):\n",
    "        letter = s[i]\n",
    "        if s[i] not in letter_d:\n",
    "            letter_d[letter] = [i]\n",
    "        else:\n",
    "            letter_d[letter].append(i)\n",
    "\n",
    "    \n",
    "    return letter_d\n",
    "    #return res"
   ]
  },
  {
   "cell_type": "code",
   "execution_count": 168,
   "metadata": {
    "ExecuteTime": {
     "end_time": "2020-08-10T03:05:21.999101Z",
     "start_time": "2020-08-10T03:05:21.989964Z"
    }
   },
   "outputs": [
    {
     "data": {
      "text/plain": [
       "{'a': [0, 3], 'b': [1, 2]}"
      ]
     },
     "execution_count": 168,
     "metadata": {},
     "output_type": "execute_result"
    }
   ],
   "source": [
    "my_s = 'abba'\n",
    "sherlockAndAnagrams(my_s)"
   ]
  },
  {
   "cell_type": "code",
   "execution_count": 173,
   "metadata": {
    "ExecuteTime": {
     "end_time": "2020-08-10T05:12:50.106989Z",
     "start_time": "2020-08-10T05:12:50.096194Z"
    }
   },
   "outputs": [
    {
     "data": {
      "text/plain": [
       "True"
      ]
     },
     "execution_count": 173,
     "metadata": {},
     "output_type": "execute_result"
    }
   ],
   "source": [
    "(15 % 3 == 0) & (15 % 5 == 0)"
   ]
  },
  {
   "cell_type": "code",
   "execution_count": null,
   "metadata": {},
   "outputs": [],
   "source": []
  },
  {
   "cell_type": "code",
   "execution_count": null,
   "metadata": {},
   "outputs": [],
   "source": []
  },
  {
   "cell_type": "code",
   "execution_count": null,
   "metadata": {},
   "outputs": [],
   "source": []
  },
  {
   "cell_type": "markdown",
   "metadata": {},
   "source": [
    "# --"
   ]
  },
  {
   "cell_type": "markdown",
   "metadata": {
    "ExecuteTime": {
     "end_time": "2020-06-09T00:00:47.534015Z",
     "start_time": "2020-06-09T00:00:47.493488Z"
    }
   },
   "source": [
    "## ---"
   ]
  },
  {
   "cell_type": "code",
   "execution_count": null,
   "metadata": {},
   "outputs": [],
   "source": []
  }
 ],
 "metadata": {
  "kernelspec": {
   "display_name": "Python 3",
   "language": "python",
   "name": "python3"
  },
  "language_info": {
   "codemirror_mode": {
    "name": "ipython",
    "version": 3
   },
   "file_extension": ".py",
   "mimetype": "text/x-python",
   "name": "python",
   "nbconvert_exporter": "python",
   "pygments_lexer": "ipython3",
   "version": "3.6.9"
  },
  "toc": {
   "base_numbering": 1,
   "nav_menu": {},
   "number_sections": true,
   "sideBar": true,
   "skip_h1_title": false,
   "title_cell": "Table of Contents",
   "title_sidebar": "Contents",
   "toc_cell": false,
   "toc_position": {
    "height": "calc(100% - 180px)",
    "left": "10px",
    "top": "150px",
    "width": "165px"
   },
   "toc_section_display": true,
   "toc_window_display": true
  },
  "toc-autonumbering": true,
  "varInspector": {
   "cols": {
    "lenName": 16,
    "lenType": 16,
    "lenVar": 40
   },
   "kernels_config": {
    "python": {
     "delete_cmd_postfix": "",
     "delete_cmd_prefix": "del ",
     "library": "var_list.py",
     "varRefreshCmd": "print(var_dic_list())"
    },
    "r": {
     "delete_cmd_postfix": ") ",
     "delete_cmd_prefix": "rm(",
     "library": "var_list.r",
     "varRefreshCmd": "cat(var_dic_list()) "
    }
   },
   "types_to_exclude": [
    "module",
    "function",
    "builtin_function_or_method",
    "instance",
    "_Feature"
   ],
   "window_display": false
  }
 },
 "nbformat": 4,
 "nbformat_minor": 4
}
