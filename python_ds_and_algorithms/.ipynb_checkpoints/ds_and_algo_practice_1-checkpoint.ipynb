{
 "cells": [
  {
   "cell_type": "code",
   "execution_count": 1,
   "metadata": {
    "ExecuteTime": {
     "end_time": "2020-04-23T03:05:13.705297Z",
     "start_time": "2020-04-23T03:05:10.084857Z"
    }
   },
   "outputs": [],
   "source": [
    "import numpy as np\n",
    "import pandas as pd"
   ]
  },
  {
   "cell_type": "markdown",
   "metadata": {},
   "source": [
    "Highest ROI activity: Leetcode problems, study problems and solutions and try to do it on your own\n",
    "\n",
    "- break up by algorithm / data structure type and interview problem"
   ]
  },
  {
   "cell_type": "markdown",
   "metadata": {},
   "source": [
    "# My curated tips\n",
    "\n",
    "- Start by defining a function and use doc strings.\n",
    "- Make it crystal clear what the inputs and outputs are, including the type of data (list, string, etc.)\n",
    "- Clarify assumptions or notes at the bottom of the problem.\n",
    "- If you're using a list, clarify if it has been sorted.\n",
    "- Prioritize problems that have to do with data structures.\n",
    "- Start with a brute force solution.\n",
    "- Split the question into simpler problems.\n",
    "- Try to spot a pattern (e.g. what if you compute the sum of all possible pairs then sort the new array?)\n",
    "- Test your solution and include edge cases.\n",
    "- Constantly talk to your interviewer and voice your thoughts. (It is a preview of what working together is going to be like.)\n",
    "- Practice everyday. Whiteboard and on your computer.\n",
    "\n",
    "\n",
    "See Ravi's slides including dynamic programming.\n",
    "\n",
    "\n"
   ]
  },
  {
   "cell_type": "markdown",
   "metadata": {},
   "source": [
    "# Resources\n",
    "\n",
    "- https://www.teamblind.com/post/New-Year-Gift---Curated-List-of-Top-75-LeetCode-Questions-to-Save-Your-Time-OaM1orEU\n",
    "- https://www.bigocheatsheet.com/\n"
   ]
  },
  {
   "cell_type": "markdown",
   "metadata": {
    "ExecuteTime": {
     "end_time": "2020-02-20T01:16:20.441154Z",
     "start_time": "2020-02-20T01:16:20.320344Z"
    }
   },
   "source": [
    "- LC = leetcode\n",
    "- WB = whiteboard\n",
    "- O = other"
   ]
  },
  {
   "cell_type": "markdown",
   "metadata": {},
   "source": [
    "# twoSum (arrays, hash table)\n",
    "https://leetcode.com/problems/two-sum/"
   ]
  },
  {
   "cell_type": "markdown",
   "metadata": {},
   "source": [
    "Given an array of integers, return indices of the two numbers such that they add up to a specific target.\n",
    "\n",
    "You may assume that each input would have exactly one solution, and you may not use the same element twice.\n",
    "\n",
    "Example: Given nums = [2, 7, 11, 15], target = 9,\n",
    "\n",
    "Because nums[0] + nums[1] = 2 + 7 = 9,\n",
    "return [0, 1]."
   ]
  },
  {
   "cell_type": "markdown",
   "metadata": {
    "ExecuteTime": {
     "end_time": "2020-02-13T22:47:57.377562Z",
     "start_time": "2020-02-13T22:47:57.371544Z"
    }
   },
   "source": [
    "## Brute force - O(n^2)\n",
    "\n",
    "Make all combinations"
   ]
  },
  {
   "cell_type": "code",
   "execution_count": 179,
   "metadata": {
    "ExecuteTime": {
     "end_time": "2020-02-17T23:43:03.658199Z",
     "start_time": "2020-02-17T23:43:03.495418Z"
    }
   },
   "outputs": [],
   "source": [
    "def twoSum(nums, target):\n",
    "    total_list = list()\n",
    "    for i, first_num in enumerate(nums):\n",
    "        #print('first num: ', first_num)\n",
    "        if i < len(nums):\n",
    "            for j, second_num in enumerate(nums[i+1:]):\n",
    "                #print('second num: ', second_num)\n",
    "                total = first_num + second_num\n",
    "                if total == target:\n",
    "                    my_answer = (i, j+i+1)\n",
    "    return my_answer"
   ]
  },
  {
   "cell_type": "code",
   "execution_count": 180,
   "metadata": {
    "ExecuteTime": {
     "end_time": "2020-02-17T23:43:04.334547Z",
     "start_time": "2020-02-17T23:43:04.295396Z"
    }
   },
   "outputs": [
    {
     "data": {
      "text/plain": [
       "(0, 1)"
      ]
     },
     "execution_count": 180,
     "metadata": {},
     "output_type": "execute_result"
    }
   ],
   "source": [
    "twoSum([2, 7, 11, 15], 9)"
   ]
  },
  {
   "cell_type": "code",
   "execution_count": 54,
   "metadata": {
    "ExecuteTime": {
     "end_time": "2020-02-14T05:29:24.117327Z",
     "start_time": "2020-02-14T05:29:24.110645Z"
    }
   },
   "outputs": [
    {
     "data": {
      "text/plain": [
       "(2, 3)"
      ]
     },
     "execution_count": 54,
     "metadata": {},
     "output_type": "execute_result"
    }
   ],
   "source": [
    "twoSum([2, 7, 11, 15], 26)"
   ]
  },
  {
   "cell_type": "markdown",
   "metadata": {},
   "source": [
    "## Using hash table - O(n)"
   ]
  },
  {
   "cell_type": "code",
   "execution_count": 1,
   "metadata": {
    "ExecuteTime": {
     "end_time": "2020-04-23T23:52:53.692019Z",
     "start_time": "2020-04-23T23:52:53.686969Z"
    }
   },
   "outputs": [],
   "source": [
    "def twoSum(nums, target):\n",
    "    seen = {}\n",
    "    for i, v in enumerate(nums):\n",
    "        remaining = target - v\n",
    "        print(v, remaining)\n",
    "        if remaining in seen:\n",
    "            print([seen[remaining], i])\n",
    "            return [seen[remaining], i]\n",
    "        seen[v] = i\n",
    "        print(seen)\n",
    "    return []"
   ]
  },
  {
   "cell_type": "code",
   "execution_count": 3,
   "metadata": {
    "ExecuteTime": {
     "end_time": "2020-04-23T23:52:55.896120Z",
     "start_time": "2020-04-23T23:52:55.887363Z"
    }
   },
   "outputs": [
    {
     "name": "stdout",
     "output_type": "stream",
     "text": [
      "2 24\n",
      "{2: 0}\n",
      "7 19\n",
      "{2: 0, 7: 1}\n",
      "11 15\n",
      "{2: 0, 7: 1, 11: 2}\n",
      "15 11\n",
      "[2, 3]\n"
     ]
    },
    {
     "data": {
      "text/plain": [
       "[2, 3]"
      ]
     },
     "execution_count": 3,
     "metadata": {},
     "output_type": "execute_result"
    }
   ],
   "source": [
    "twoSum([2, 7, 11, 15], 26)"
   ]
  },
  {
   "cell_type": "code",
   "execution_count": 6,
   "metadata": {},
   "outputs": [],
   "source": [
    "# updated 5/5/20\n",
    "def twoSum(nums, target):\n",
    "    seen = {}\n",
    "    for i in range(len(nums)):\n",
    "        v = nums[i]\n",
    "        remaining = target - v\n",
    "        if remaining in seen:\n",
    "            return [seen[remaining], i]\n",
    "        seen[v] = i\n",
    "    return []"
   ]
  },
  {
   "cell_type": "code",
   "execution_count": 7,
   "metadata": {},
   "outputs": [
    {
     "data": {
      "text/plain": [
       "[2, 3]"
      ]
     },
     "execution_count": 7,
     "metadata": {},
     "output_type": "execute_result"
    }
   ],
   "source": [
    "twoSum([2, 7, 11, 15], 26)"
   ]
  },
  {
   "cell_type": "code",
   "execution_count": null,
   "metadata": {},
   "outputs": [],
   "source": []
  },
  {
   "cell_type": "code",
   "execution_count": null,
   "metadata": {},
   "outputs": [],
   "source": []
  },
  {
   "cell_type": "markdown",
   "metadata": {},
   "source": [
    "# twoSumClosest (arrays, binary search)\n",
    "\n",
    "Given two arrays and a target value, find a pair of numbers (one from each array) whose sum is closest to the target\n",
    "\n",
    "Example:\n",
    "[ 3, 2, 17, -5, 6 ]\n",
    "[ 5, 4, 12, 0, -81 ]\n",
    "\n",
    "Target = 13\n",
    "\n",
    "Return (2, 12)\n"
   ]
  },
  {
   "cell_type": "markdown",
   "metadata": {
    "ExecuteTime": {
     "end_time": "2020-03-06T05:53:23.932931Z",
     "start_time": "2020-03-06T05:53:23.928236Z"
    }
   },
   "source": [
    "## Brute force - O(n^2)"
   ]
  },
  {
   "cell_type": "code",
   "execution_count": 90,
   "metadata": {
    "ExecuteTime": {
     "end_time": "2020-03-06T06:04:58.503925Z",
     "start_time": "2020-03-06T06:04:58.495118Z"
    }
   },
   "outputs": [],
   "source": [
    "def twoSumClosest(nums1, nums2, target):\n",
    "    '''\n",
    "    Input: Two arrays, one target\n",
    "    Output: Pair of numbers, one from each array\n",
    "    Strategy: Loop through each array, keeping track of sums and distance from target. \n",
    "    Keep the pair that results in the closest distance. \n",
    "    '''\n",
    "    import numpy as np\n",
    "    \n",
    "    closest_pair = [None, None]\n",
    "    pair_sums = None\n",
    "    closest_distance = None\n",
    "    \n",
    "    for first_num in nums1:\n",
    "        for second_num in nums2:\n",
    "            pair_sums = first_num + second_num\n",
    "            distance = np.abs(target-pair_sums)\n",
    "            #print(distance)\n",
    "            if closest_distance is None:\n",
    "                closest_distance = distance\n",
    "                closest_pair = [first_num, second_num]\n",
    "            elif distance < closest_distance:\n",
    "                closest_distance = distance\n",
    "                closest_pair = [first_num, second_num]\n",
    "\n",
    "    return closest_pair"
   ]
  },
  {
   "cell_type": "code",
   "execution_count": 93,
   "metadata": {
    "ExecuteTime": {
     "end_time": "2020-03-06T06:05:40.606694Z",
     "start_time": "2020-03-06T06:05:40.600401Z"
    }
   },
   "outputs": [
    {
     "data": {
      "text/plain": [
       "[2, 12]"
      ]
     },
     "execution_count": 93,
     "metadata": {},
     "output_type": "execute_result"
    }
   ],
   "source": [
    "first_array = [3, 2, 17, -5, 6] \n",
    "second_aray = [5, 4, 12, 0, -81]\n",
    "this_target = 13\n",
    "\n",
    "twoSumClosest(first_array, second_aray, this_target)"
   ]
  },
  {
   "cell_type": "markdown",
   "metadata": {},
   "source": [
    "## Binary search - O(log n)"
   ]
  },
  {
   "cell_type": "code",
   "execution_count": null,
   "metadata": {},
   "outputs": [],
   "source": [
    "def twoSumClosest(nums1, nums2, target):\n",
    "    '''\n",
    "    Input: Two arrays, one target\n",
    "    Output: Pair of numbers, one from each array\n",
    "    Strategy: Sort each array first. Start in the middle of each array.\n",
    "    Then incrementally increase or decrease index of each array until you get closer to target.\n",
    "    Keep the pair that results in the closest distance. \n",
    "    '''\n",
    "    import numpy as np\n",
    "    \n",
    "    closest_pair = [None, None]\n",
    "    pair_sums = None\n",
    "    closest_distance = None\n",
    "    \n",
    "    s_nums1 = sorted(nums1)\n",
    "    s_nums2 = sorted(nums2)\n",
    "    \n",
    "    # Start in the middle of each sorted array\n",
    "    cursor_1 = round(len(s_nums1)/2)\n",
    "    cursor_2 = round(len(s_nums2)/2)\n",
    "    \n",
    "    # Compute the distance from the target\n",
    "    n1_check = s_nums1[cursor_1]\n",
    "    n2_check = s_nums2[cursor_2]\n",
    "    sum_check = n1_check + n2_check\n",
    "    dist = target - sum_check\n",
    "\n",
    "    # Edge case - if dist = 0, stop\n",
    "    if dist==0:\n",
    "        return [n1_check, n2_check]\n",
    "    \n",
    "    # If dist is positive, that means sum check needs to get more positive to get closer\n",
    "    if dist > 0:\n",
    "        # Increment first array upwards by 1\n",
    "        cursor_1 += 1\n",
    "        n1_check = s_nums1[cursor_1]\n",
    "        sum_check = n1_check + n2_check\n",
    "        dist = target - sum_check\n",
    "        \n",
    "        # See if it's equal or it's no longer positive\n",
    "        \n",
    "        # If dist is still positive, increment second array upwards by 1\n",
    "        cursor_2 += 1\n",
    "        n2_check = s_nums2[cursor_2]\n",
    "        sum_check = n1_check + n2_check\n",
    "        dist = target - sum_check\n",
    "        \n",
    "        # Repeat \n",
    "    \n",
    "    \n",
    "    \n",
    "    # If dist is positive, that means sum check needs to get more positive to get closer\n",
    "    \n",
    "    # Increment first array upwards by 1\n",
    "    \n",
    "    # If dist is still positive, increment second array upwards by 1\n",
    "    \n",
    "    # Repeat\n",
    "    \n",
    "    \n",
    "        \n",
    "        \n",
    "    \n",
    "    for first_num in nums1:\n",
    "        for second_num in nums2:\n",
    "            pair_sums = first_num + second_num\n",
    "            distance = np.abs(target-pair_sums)\n",
    "            #print(distance)\n",
    "            if closest_distance is None:\n",
    "                closest_distance = distance\n",
    "                closest_pair = [first_num, second_num]\n",
    "            elif distance < closest_distance:\n",
    "                closest_distance = distance\n",
    "                closest_pair = [first_num, second_num]\n",
    "\n",
    "    return closest_pair"
   ]
  },
  {
   "cell_type": "code",
   "execution_count": null,
   "metadata": {},
   "outputs": [],
   "source": []
  },
  {
   "cell_type": "code",
   "execution_count": null,
   "metadata": {},
   "outputs": [],
   "source": []
  },
  {
   "cell_type": "code",
   "execution_count": null,
   "metadata": {},
   "outputs": [],
   "source": []
  },
  {
   "cell_type": "markdown",
   "metadata": {},
   "source": [
    "# Subsets\n",
    "\n",
    "From whiteboarding and here\n",
    "https://leetcode.com/problems/subsets/"
   ]
  },
  {
   "cell_type": "markdown",
   "metadata": {
    "ExecuteTime": {
     "end_time": "2020-03-10T18:25:10.560501Z",
     "start_time": "2020-03-10T18:25:10.557457Z"
    }
   },
   "source": [
    "## My attempt (incorrect)"
   ]
  },
  {
   "cell_type": "code",
   "execution_count": 9,
   "metadata": {
    "ExecuteTime": {
     "end_time": "2020-02-12T18:08:42.622346Z",
     "start_time": "2020-02-12T18:08:42.617772Z"
    },
    "code_folding": []
   },
   "outputs": [],
   "source": [
    "def subsets(arr):\n",
    "    result = [[]]\n",
    "    for i in arr:\n",
    "        result.append([i])\n",
    "        for i in \n",
    "        # Then add the last element\n",
    "#         temp = result[-1]\n",
    "#         result.append([resuli])\n",
    "        \n",
    "    return result"
   ]
  },
  {
   "cell_type": "markdown",
   "metadata": {},
   "source": [
    "## Insight attempts (incorrect)"
   ]
  },
  {
   "cell_type": "markdown",
   "metadata": {},
   "source": [
    "Given a list, write a function to find all its subsets\n",
    "Example: Input [‘a’, ‘b’, ‘c’]\n",
    "Output: [], [‘a’], [‘b’], [‘c’], [‘a’, ‘b’], [‘a’, ‘c’], [‘b’, ‘c’], [‘a’, ‘b’, ‘c’] "
   ]
  },
  {
   "cell_type": "code",
   "execution_count": 11,
   "metadata": {},
   "outputs": [],
   "source": [
    "def make_subsets(list): \n",
    "    output = [[]] \n",
    "    for i in range(len(list)): \n",
    "        for j in range(len(output)): \n",
    "            output.append(output[j] + [list[i]]) \n",
    "            return output"
   ]
  },
  {
   "cell_type": "code",
   "execution_count": 12,
   "metadata": {},
   "outputs": [],
   "source": [
    "# Solution by Jenny 2/20: \n",
    "def subsets(array):\n",
    "    ans = [[]]\n",
    "    for i in range(len(array)): \n",
    "        for j in range(len(ans)): \n",
    "            new = ans[j] + [array[i]] \n",
    "            ans.append(new) \n",
    "            return ans"
   ]
  },
  {
   "cell_type": "markdown",
   "metadata": {},
   "source": [
    "**Note: This is not correct from testing**"
   ]
  },
  {
   "cell_type": "markdown",
   "metadata": {},
   "source": [
    "## Leetcode answer (correct)"
   ]
  },
  {
   "cell_type": "code",
   "execution_count": null,
   "metadata": {},
   "outputs": [],
   "source": [
    "def subsets_v0(nums):\n",
    "    #n = len(nums)\n",
    "    output = [[]]\n",
    "\n",
    "    for num in nums:\n",
    "        print(num)\n",
    "        output += [curr + [num] for curr in output]\n",
    "        #print('curr: ', curr)\n",
    "        print('output: ', output)\n",
    "\n",
    "    return output"
   ]
  },
  {
   "cell_type": "markdown",
   "metadata": {},
   "source": [
    "# O: Binary search problem\n",
    "\n",
    "https://practice.geeksforgeeks.org/problems/who-will-win/0"
   ]
  },
  {
   "cell_type": "markdown",
   "metadata": {},
   "source": [
    "Given a sorted array arr[] of N integers and a number K is given. The task is to check if the element K is present in the array or not."
   ]
  },
  {
   "cell_type": "code",
   "execution_count": 1,
   "metadata": {},
   "outputs": [],
   "source": [
    "# This solution is from the website - practice it yourself!\n",
    "  \n",
    "# Returns index of x in arr if present, else -1 \n",
    "def binarySearch (arr, l, r, x): \n",
    "  \n",
    "    # Check base case \n",
    "    if r >= l: \n",
    "  \n",
    "        mid = l + (r - l) // 2\n",
    "  \n",
    "        # If element is present at the middle itself \n",
    "        if arr[mid] == x: \n",
    "            return mid \n",
    "          \n",
    "        # If element is smaller than mid, then it  \n",
    "        # can only be present in left subarray \n",
    "        elif arr[mid] > x: \n",
    "            return binarySearch(arr, l, mid-1, x) \n",
    "  \n",
    "        # Else the element can only be present  \n",
    "        # in right subarray \n",
    "        else: \n",
    "            return binarySearch(arr, mid + 1, r, x) \n",
    "  \n",
    "    else: \n",
    "        # Element is not present in the array \n",
    "        return -1"
   ]
  },
  {
   "cell_type": "code",
   "execution_count": 2,
   "metadata": {},
   "outputs": [
    {
     "name": "stdout",
     "output_type": "stream",
     "text": [
      "Element is present at index  3\n"
     ]
    }
   ],
   "source": [
    "  \n",
    "# Driver Code \n",
    "arr = [ 2, 3, 4, 10, 40 ] \n",
    "x = 10\n",
    "  \n",
    "# Function call \n",
    "result = binarySearch(arr, 0, len(arr)-1, x) \n",
    "  \n",
    "if result != -1: \n",
    "    print (\"Element is present at index % d\" % result) \n",
    "else: \n",
    "    print (\"Element is not present in array\") "
   ]
  },
  {
   "cell_type": "code",
   "execution_count": null,
   "metadata": {},
   "outputs": [],
   "source": []
  },
  {
   "cell_type": "markdown",
   "metadata": {},
   "source": [
    "# LC: Happy Number\n",
    "\n",
    "https://leetcode.com/problems/happy-number/\n",
    "\n",
    "A happy number is a number defined by the following process: Starting with any positive integer, replace the number by the sum of the squares of its digits, and repeat the process until the number equals 1 (where it will stay), or it loops endlessly in a cycle which does not include 1. Those numbers for which this process ends in 1 are happy numbers.\n",
    "\n",
    "Input: 19\n",
    "<br>\n",
    "Output: true\n",
    "<br>\n",
    "Explanation: \n",
    "<br>\n",
    "1^2 + 9^2 = 82\n",
    "<br>\n",
    "8^2 + 2^2 = 68\n",
    "<br>\n",
    "6^2 + 8^2 = 100\n",
    "<br>\n",
    "1^2 + 0^2 + 0^2 = 1"
   ]
  },
  {
   "cell_type": "code",
   "execution_count": 354,
   "metadata": {
    "ExecuteTime": {
     "end_time": "2020-02-24T20:52:13.185847Z",
     "start_time": "2020-02-24T20:52:13.174441Z"
    }
   },
   "outputs": [],
   "source": [
    "# my approach is wrong - see below\n",
    "\n",
    "def isHappy(n):\n",
    "    '''\n",
    "    Input a number and  keep replacing the number by the square of the digits.\n",
    "    Return a boolean if the process ends in 1 (happy numbers)\n",
    "    or False if it loops endlessly in a cycle which does not include 1\n",
    "    '''\n",
    "    \n",
    "    if list_of_numbers not in locals():\n",
    "        list_of_numbers = []\n",
    "    \n",
    "    # Split the number into its integers by first turning it into a string\n",
    "    n = str(n)\n",
    "    list_n = list(n)\n",
    "    \n",
    "    # Square them\n",
    "    n_list_as_squared = [(int(i)**2) for i in list_n]\n",
    "    \n",
    "    # Get new number\n",
    "    total = 0\n",
    "    for number in n_list_as_squared:\n",
    "        total = total + number\n",
    "        \n",
    "    if total==1:\n",
    "        return True\n",
    "    else:\n",
    "        if total not in list_of_numbers:\n",
    "            list_of_numbers.append(total)\n",
    "            print(list_of_numbers)\n",
    "            return isHappy(total)\n",
    "        else:\n",
    "            return False\n",
    "\n",
    "    "
   ]
  },
  {
   "cell_type": "code",
   "execution_count": 364,
   "metadata": {
    "ExecuteTime": {
     "end_time": "2020-02-24T20:59:45.662322Z",
     "start_time": "2020-02-24T20:59:45.657342Z"
    }
   },
   "outputs": [],
   "source": [
    "# Solution found on Leetcode\n",
    "\n",
    "def isHappy(n):\n",
    "    mem = set()    # used set\n",
    "    while n != 1:    # used while statement to keep doing this\n",
    "        n = sum([int(i) ** 2 for i in str(n)])\n",
    "        print(n)\n",
    "        if n in mem:\n",
    "            return False\n",
    "        else:\n",
    "            mem.add(n)\n",
    "    else:\n",
    "        return True"
   ]
  },
  {
   "cell_type": "code",
   "execution_count": 365,
   "metadata": {
    "ExecuteTime": {
     "end_time": "2020-02-24T20:59:47.057494Z",
     "start_time": "2020-02-24T20:59:47.048516Z"
    }
   },
   "outputs": [
    {
     "name": "stdout",
     "output_type": "stream",
     "text": [
      "5\n",
      "25\n",
      "29\n",
      "85\n",
      "89\n",
      "145\n",
      "42\n",
      "20\n",
      "4\n",
      "16\n",
      "37\n",
      "58\n",
      "89\n"
     ]
    },
    {
     "data": {
      "text/plain": [
       "False"
      ]
     },
     "execution_count": 365,
     "metadata": {},
     "output_type": "execute_result"
    }
   ],
   "source": [
    "isHappy(21)"
   ]
  },
  {
   "cell_type": "code",
   "execution_count": null,
   "metadata": {},
   "outputs": [],
   "source": []
  },
  {
   "cell_type": "markdown",
   "metadata": {},
   "source": [
    "# LC: Palindrome\n",
    "https://leetcode.com/problems/palindrome-number/\n"
   ]
  },
  {
   "cell_type": "markdown",
   "metadata": {},
   "source": [
    "## Brute force"
   ]
  },
  {
   "cell_type": "code",
   "execution_count": 4,
   "metadata": {
    "ExecuteTime": {
     "end_time": "2020-02-16T01:39:15.369254Z",
     "start_time": "2020-02-16T01:39:15.364213Z"
    }
   },
   "outputs": [],
   "source": [
    "def isPalindrome_v1(int_value):\n",
    "    '''\n",
    "    Is the input value a palindrome?\n",
    "    '''\n",
    "    # Turn it into a string to index through\n",
    "    my_val = str(int_value)\n",
    "    # See if it's length 1\n",
    "    if len(my_val)==1:\n",
    "        return True\n",
    "    # Iterate but only up to half of the string\n",
    "    for i in range(round(len(my_val)/2)):\n",
    "        #print(i)\n",
    "        if my_val[i] != my_val[-1*(i+1)]:\n",
    "            return False\n",
    "    return True"
   ]
  },
  {
   "cell_type": "code",
   "execution_count": 5,
   "metadata": {},
   "outputs": [
    {
     "data": {
      "text/plain": [
       "True"
      ]
     },
     "execution_count": 5,
     "metadata": {},
     "output_type": "execute_result"
    }
   ],
   "source": [
    "isPalindrome_v1(121)"
   ]
  },
  {
   "cell_type": "code",
   "execution_count": 6,
   "metadata": {},
   "outputs": [
    {
     "data": {
      "text/plain": [
       "False"
      ]
     },
     "execution_count": 6,
     "metadata": {},
     "output_type": "execute_result"
    }
   ],
   "source": [
    "isPalindrome_v1(-121)"
   ]
  },
  {
   "cell_type": "markdown",
   "metadata": {
    "ExecuteTime": {
     "end_time": "2020-02-16T01:52:21.564289Z",
     "start_time": "2020-02-16T01:52:21.559246Z"
    }
   },
   "source": [
    "## Take first half and just reverse it to see if it matches second half"
   ]
  },
  {
   "cell_type": "code",
   "execution_count": 8,
   "metadata": {
    "ExecuteTime": {
     "end_time": "2020-02-16T01:59:41.819925Z",
     "start_time": "2020-02-16T01:59:41.811783Z"
    }
   },
   "outputs": [],
   "source": [
    "def isPalindrome_v2(int_value):\n",
    "    '''\n",
    "    Is the input value a palindrome?\n",
    "    '''\n",
    "    # Turn it into a string to index through\n",
    "    my_val = str(int_value)\n",
    "    # See if it's length 1\n",
    "    if len(my_val)==1:\n",
    "        return True\n",
    "    # Take first half and just reverse it to see if it matches second half\n",
    "    half_length = round(len(my_val)/2)\n",
    "    first_half = my_val[0:half_length]\n",
    "    second_half = my_val[-half_length:]\n",
    "    return first_half[::-1]==second_half"
   ]
  },
  {
   "cell_type": "code",
   "execution_count": 9,
   "metadata": {},
   "outputs": [
    {
     "data": {
      "text/plain": [
       "True"
      ]
     },
     "execution_count": 9,
     "metadata": {},
     "output_type": "execute_result"
    }
   ],
   "source": [
    "isPalindrome_v2(121)"
   ]
  },
  {
   "cell_type": "code",
   "execution_count": 10,
   "metadata": {},
   "outputs": [
    {
     "data": {
      "text/plain": [
       "False"
      ]
     },
     "execution_count": 10,
     "metadata": {},
     "output_type": "execute_result"
    }
   ],
   "source": [
    "isPalindrome_v2(-121)"
   ]
  },
  {
   "cell_type": "code",
   "execution_count": null,
   "metadata": {},
   "outputs": [],
   "source": []
  },
  {
   "cell_type": "markdown",
   "metadata": {},
   "source": [
    "## Solution from board (don't fully get it)"
   ]
  },
  {
   "cell_type": "code",
   "execution_count": null,
   "metadata": {},
   "outputs": [],
   "source": [
    " def isPalindrome(self, x: int) -> bool:\n",
    "        if x < 0:\n",
    "            return False\n",
    "        \n",
    "        original = x\n",
    "        rev = 0\n",
    "        while x > 0:\n",
    "            # Essentially what we are doing here is making the least significant digit \n",
    "            # into the most significant digit in the reversed number\n",
    "            # e.g 321 => 123\n",
    "            # iteration 1: rev = 1   = 0 + 1\n",
    "            # iteration 2: rev = 12  = 1*10 + 2 # Notice how the '1' moved to the left because of the multiply by 10\n",
    "            # iteration 3: rev = 123 = 12*10 + 3 \n",
    "            rev = rev * 10 + x % 10\n",
    "            x //= 10\n",
    "            \n",
    "        return rev == original"
   ]
  },
  {
   "cell_type": "code",
   "execution_count": null,
   "metadata": {},
   "outputs": [],
   "source": [
    "def isPalindrome_v3(string):\n",
    "    \"\"\"\n",
    "    Input can be a string and not just integer as specified in Leetcode problem. Uses recursion.\n",
    "    \"\"\"\n",
    "    \n",
    "    # Edits to string to accomodate phrases, capitalization, spaces, etc.\n",
    "    import re\n",
    "    string = string.lower()\n",
    "    # Replace everything that isn't a letter\n",
    "    string = re.sub('[^a-z]', '', string)\n",
    "    \n",
    "    # Base cases\n",
    "    \n",
    "    # If the original string has a length that is an odd number\n",
    "    if len(string)==1:\n",
    "        return True\n",
    "    # If the original string has a length that is an even number\n",
    "    if (len(string)==2) & (string[0]==string[1]):\n",
    "        return True\n",
    "    else:\n",
    "        #print(string)\n",
    "        if string[0]==string[-1]:\n",
    "            return isPalindrome(string[1:-1])\n",
    "        else:\n",
    "            return False"
   ]
  },
  {
   "cell_type": "code",
   "execution_count": null,
   "metadata": {},
   "outputs": [],
   "source": []
  },
  {
   "cell_type": "code",
   "execution_count": null,
   "metadata": {},
   "outputs": [],
   "source": []
  },
  {
   "cell_type": "markdown",
   "metadata": {},
   "source": [
    "# LC: Reverse digits of an integer\n",
    "\n",
    "https://leetcode.com/problems/reverse-integer/"
   ]
  },
  {
   "cell_type": "code",
   "execution_count": null,
   "metadata": {},
   "outputs": [],
   "source": [
    "Given a 32-bit signed integer, reverse digits of an integer.\n",
    "\n",
    "Example 1:\n",
    "\n",
    "Input: 123\n",
    "Output: 321\n",
    "Example 2:\n",
    "\n",
    "Input: -123\n",
    "Output: -321\n",
    "Example 3:\n",
    "\n",
    "Input: 120\n",
    "Output: 21"
   ]
  },
  {
   "cell_type": "markdown",
   "metadata": {},
   "source": [
    "## Attempt 1"
   ]
  },
  {
   "cell_type": "code",
   "execution_count": 269,
   "metadata": {
    "ExecuteTime": {
     "end_time": "2020-02-19T18:39:13.010352Z",
     "start_time": "2020-02-19T18:39:13.003439Z"
    },
    "code_folding": []
   },
   "outputs": [],
   "source": [
    "def reverse(x):\n",
    "    '''\n",
    "    x is an integer. return the reverse of it.\n",
    "    \n",
    "    Assume we are dealing with an environment which could only \n",
    "    store integers within the 32-bit signed integer range: \n",
    "    [−231,  231 − 1]. For the purpose of this problem, assume\n",
    "    that your function returns 0 when the reversed integer\n",
    "    overflows.\n",
    "    '''\n",
    "\n",
    "    x = str(x)\n",
    "    x = list(x)\n",
    "    if x[0] != '-':\n",
    "        x = x[::-1]\n",
    "        x = ''.join(x)\n",
    "        x = int(x)\n",
    "    else:\n",
    "        x = x[::-1]\n",
    "        x = x[:-1]\n",
    "        x = ''.join(x)\n",
    "        x = int(x)\n",
    "        x = -1*x\n",
    "        \n",
    "    if (x < -2**31) | (x > 2**31-1):\n",
    "        return 0\n",
    "        \n",
    "    return x"
   ]
  },
  {
   "cell_type": "code",
   "execution_count": 270,
   "metadata": {
    "ExecuteTime": {
     "end_time": "2020-02-19T18:39:15.373014Z",
     "start_time": "2020-02-19T18:39:15.365435Z"
    }
   },
   "outputs": [
    {
     "data": {
      "text/plain": [
       "0"
      ]
     },
     "execution_count": 270,
     "metadata": {},
     "output_type": "execute_result"
    }
   ],
   "source": [
    "reverse(1534236469)"
   ]
  },
  {
   "cell_type": "code",
   "execution_count": null,
   "metadata": {},
   "outputs": [],
   "source": []
  },
  {
   "cell_type": "markdown",
   "metadata": {},
   "source": [
    "# LC: Longest Common Prefix (string, array)"
   ]
  },
  {
   "cell_type": "markdown",
   "metadata": {
    "ExecuteTime": {
     "end_time": "2020-02-19T18:45:59.453549Z",
     "start_time": "2020-02-19T18:45:59.417599Z"
    }
   },
   "source": [
    "Write a function to find the longest common prefix string amongst an array of strings.\n",
    "\n",
    "If there is no common prefix, return an empty string \"\".\n",
    "\n",
    "Note: All given inputs are in lowercase letters a-z.\n"
   ]
  },
  {
   "cell_type": "markdown",
   "metadata": {},
   "source": [
    "## Attempt 1"
   ]
  },
  {
   "cell_type": "code",
   "execution_count": 326,
   "metadata": {
    "ExecuteTime": {
     "end_time": "2020-02-19T20:02:51.751120Z",
     "start_time": "2020-02-19T20:02:51.741674Z"
    }
   },
   "outputs": [],
   "source": [
    "def longestCommonPrefix(strs):\n",
    "    '''\n",
    "    Write a function to find the longest common prefix string amongst an array of strings.\n",
    "    Input: A list of strings.\n",
    "    Output: A string, of the longest common prefix string.\n",
    "    '''\n",
    "    \n",
    "    # Brute force\n",
    "    # Iterate through each string of the list and if \n",
    "    # there's something in common, store those letters.\n",
    "    \n",
    "    length_of_list = len(strs)\n",
    "    \n",
    "    # Iterate through lengths of strings and see if they're equal\n",
    "    \n",
    "    prefix_holder = \"\"\n",
    "    for subset_length in range(len(strs[0])):\n",
    "        for i, string in enumerate(strs):\n",
    "            if subset_length > len(string):\n",
    "                break\n",
    "            new_prefix_holder = strs[0][:subset_length]\n",
    "            if (new_prefix_holder==string[:subset_length]) & (i < length_of_list-1):\n",
    "                #print('string has common prefix: ')\n",
    "                continue\n",
    "            elif (new_prefix_holder==string[:subset_length]) & (i == length_of_list-1):\n",
    "                #print('string has common prefix and reached end of list')\n",
    "                prefix_holder = new_prefix_holder\n",
    "\n",
    "    return prefix_holder\n",
    "    "
   ]
  },
  {
   "cell_type": "code",
   "execution_count": 328,
   "metadata": {
    "ExecuteTime": {
     "end_time": "2020-02-19T20:02:58.999007Z",
     "start_time": "2020-02-19T20:02:58.993617Z"
    }
   },
   "outputs": [
    {
     "data": {
      "text/plain": [
       "'fl'"
      ]
     },
     "execution_count": 328,
     "metadata": {},
     "output_type": "execute_result"
    }
   ],
   "source": [
    "longestCommonPrefix([\"flowers\",\"flow\",\"flight\"])"
   ]
  },
  {
   "cell_type": "code",
   "execution_count": 329,
   "metadata": {
    "ExecuteTime": {
     "end_time": "2020-02-19T20:03:10.810795Z",
     "start_time": "2020-02-19T20:03:10.803636Z"
    }
   },
   "outputs": [
    {
     "data": {
      "text/plain": [
       "''"
      ]
     },
     "execution_count": 329,
     "metadata": {},
     "output_type": "execute_result"
    }
   ],
   "source": [
    "longestCommonPrefix([\"dog\",\"racecar\",\"car\"])"
   ]
  },
  {
   "cell_type": "code",
   "execution_count": 330,
   "metadata": {
    "ExecuteTime": {
     "end_time": "2020-02-19T20:03:13.172057Z",
     "start_time": "2020-02-19T20:03:13.166914Z"
    }
   },
   "outputs": [
    {
     "name": "stdout",
     "output_type": "stream",
     "text": [
      "0\n",
      "1\n",
      "2\n",
      "3\n",
      "4\n",
      "5\n",
      "6\n"
     ]
    }
   ],
   "source": [
    "strs = [\"flowers\",\"flow\",\"flight\"]\n",
    "\n",
    "for subset_length in range(len(strs[0])):\n",
    "    print(subset_length)"
   ]
  },
  {
   "cell_type": "markdown",
   "metadata": {},
   "source": [
    "# LC: searchInsert - binary search\n",
    "\n",
    "Given a sorted array and a target value, return the index if the target is found. If not, return the index where it would be if it were inserted in order.\n",
    "\n",
    "You may assume no duplicates in the array.\n",
    "\n",
    "https://leetcode.com/problems/search-insert-position/"
   ]
  },
  {
   "cell_type": "markdown",
   "metadata": {},
   "source": [
    "## Binary search - O(log n)"
   ]
  },
  {
   "cell_type": "code",
   "execution_count": 38,
   "metadata": {
    "ExecuteTime": {
     "end_time": "2020-02-25T00:56:53.133090Z",
     "start_time": "2020-02-25T00:56:53.125986Z"
    },
    "code_folding": [
     0
    ]
   },
   "outputs": [],
   "source": [
    "def searchInsert(nums, target):\n",
    "    '''\n",
    "    Return the index if the target is in the array or where it would be if it isn't.\n",
    "    '''\n",
    "    import math\n",
    "    \n",
    "        # Strategy - use binary search\n",
    "        # Split the array and use the bounds to find\n",
    "        # the midpoint - see if the target is above or below that midpoing\n",
    "        # Keep doing that until the bounds\n",
    "    \n",
    "        # Initialize\n",
    "        lower_index = 0\n",
    "        upper_index = len(nums)-1\n",
    "        \n",
    "        # If length of array is 1\n",
    "        if nums[0]==target:\n",
    "            return 0\n",
    "\n",
    "        # Check upper and lower bounds\n",
    "        if target < nums[lower_index]:\n",
    "            return 0\n",
    "        elif target > nums[upper_index]:\n",
    "            return len(nums)\n",
    "\n",
    "\n",
    "        while upper_index > lower_index + 1:\n",
    "            mp_index = math.floor((lower_index + upper_index)/2)\n",
    "            #print('lower: ', nums[lower_index], 'midpoint: ', nums[mp_index], 'upper: ', nums[upper_index])\n",
    "            print('lower: ', lower_index, 'midpoint: ', mp_index, 'upper: ', upper_index)\n",
    "            if nums[mp_index] == target:\n",
    "                return mp_index\n",
    "            elif nums[mp_index] < target:\n",
    "                lower_index = mp_index\n",
    "            else:\n",
    "                upper_index = mp_index\n",
    "\n",
    "        return lower_index + 1"
   ]
  },
  {
   "cell_type": "code",
   "execution_count": 39,
   "metadata": {
    "ExecuteTime": {
     "end_time": "2020-02-25T00:56:55.592230Z",
     "start_time": "2020-02-25T00:56:55.583566Z"
    },
    "scrolled": true
   },
   "outputs": [
    {
     "name": "stdout",
     "output_type": "stream",
     "text": [
      "lower:  0 midpoint:  1 upper:  3\n",
      "lower:  1 midpoint:  2 upper:  3\n"
     ]
    },
    {
     "data": {
      "text/plain": [
       "2"
      ]
     },
     "execution_count": 39,
     "metadata": {},
     "output_type": "execute_result"
    }
   ],
   "source": [
    "searchInsert([1,3,5,6], 5)"
   ]
  },
  {
   "cell_type": "code",
   "execution_count": 40,
   "metadata": {
    "ExecuteTime": {
     "end_time": "2020-02-25T00:56:56.139467Z",
     "start_time": "2020-02-25T00:56:56.129838Z"
    }
   },
   "outputs": [
    {
     "name": "stdout",
     "output_type": "stream",
     "text": [
      "lower:  0 midpoint:  1 upper:  3\n",
      "lower:  1 midpoint:  2 upper:  3\n"
     ]
    },
    {
     "data": {
      "text/plain": [
       "2"
      ]
     },
     "execution_count": 40,
     "metadata": {},
     "output_type": "execute_result"
    }
   ],
   "source": [
    "searchInsert([1,3,5,6], 4)"
   ]
  },
  {
   "cell_type": "code",
   "execution_count": 41,
   "metadata": {
    "ExecuteTime": {
     "end_time": "2020-02-25T00:56:57.255244Z",
     "start_time": "2020-02-25T00:56:57.249811Z"
    }
   },
   "outputs": [
    {
     "data": {
      "text/plain": [
       "4"
      ]
     },
     "execution_count": 41,
     "metadata": {},
     "output_type": "execute_result"
    }
   ],
   "source": [
    "searchInsert([1,3,5,6], 7)"
   ]
  },
  {
   "cell_type": "code",
   "execution_count": 42,
   "metadata": {
    "ExecuteTime": {
     "end_time": "2020-02-25T00:57:04.284882Z",
     "start_time": "2020-02-25T00:57:04.279671Z"
    }
   },
   "outputs": [
    {
     "data": {
      "text/plain": [
       "0"
      ]
     },
     "execution_count": 42,
     "metadata": {},
     "output_type": "execute_result"
    }
   ],
   "source": [
    "searchInsert([1,3,5,6], 0)"
   ]
  },
  {
   "cell_type": "markdown",
   "metadata": {},
   "source": [
    "# LC: Roman to Integer\n",
    "\n",
    "Given a roman numeral, convert it to an integer. Input is guaranteed to be within the range from 1 to 3999.\n",
    "\n",
    "For example, two is written as II in Roman numeral, just two one's added together. Twelve is written as, XII, which is simply X + II. The number twenty seven is written as XXVII, which is XX + V + II.\n",
    "\n",
    "Roman numerals are usually written largest to smallest from left to right. However, the numeral for four is not IIII. Instead, the number four is written as IV. Because the one is before the five we subtract it making four. The same principle applies to the number nine, which is written as IX. There are six instances where subtraction is used:\n",
    "\n",
    "- I can be placed before V (5) and X (10) to make 4 and 9. \n",
    "- X can be placed before L (50) and C (100) to make 40 and 90. \n",
    "- C can be placed before D (500) and M (1000) to make 400 and 900.\n",
    "\n",
    "Given a roman numeral, convert it to an integer. Input is guaranteed to be within the range from 1 to 3999."
   ]
  },
  {
   "cell_type": "code",
   "execution_count": 45,
   "metadata": {
    "ExecuteTime": {
     "end_time": "2020-02-27T02:04:18.429668Z",
     "start_time": "2020-02-27T02:04:18.416489Z"
    }
   },
   "outputs": [],
   "source": [
    "roman2int = {'I':1,\n",
    "             'V':5,\n",
    "             'X':10,\n",
    "             'L':50,\n",
    "             'C':100,\n",
    "             'D':500,\n",
    "             'M':1000}"
   ]
  },
  {
   "cell_type": "code",
   "execution_count": 47,
   "metadata": {
    "ExecuteTime": {
     "end_time": "2020-02-27T02:05:44.083285Z",
     "start_time": "2020-02-27T02:05:44.078220Z"
    }
   },
   "outputs": [],
   "source": [
    "def romanToInt(s):\n",
    "    \n",
    "    s_to_list =  list(s)\n",
    "    \n",
    "    return s_to_list"
   ]
  },
  {
   "cell_type": "code",
   "execution_count": 48,
   "metadata": {
    "ExecuteTime": {
     "end_time": "2020-02-27T02:05:52.522945Z",
     "start_time": "2020-02-27T02:05:52.500360Z"
    }
   },
   "outputs": [
    {
     "data": {
      "text/plain": [
       "['I', 'I', 'I']"
      ]
     },
     "execution_count": 48,
     "metadata": {},
     "output_type": "execute_result"
    }
   ],
   "source": [
    "romanToInt('III')"
   ]
  },
  {
   "cell_type": "code",
   "execution_count": 49,
   "metadata": {
    "ExecuteTime": {
     "end_time": "2020-02-27T02:13:51.875695Z",
     "start_time": "2020-02-27T02:13:51.867386Z"
    }
   },
   "outputs": [
    {
     "data": {
      "text/plain": [
       "4"
      ]
     },
     "execution_count": 49,
     "metadata": {},
     "output_type": "execute_result"
    }
   ],
   "source": [
    "sum([1,3])"
   ]
  },
  {
   "cell_type": "markdown",
   "metadata": {},
   "source": [
    "# LC: Remove duplicates from sorted array\n",
    "\n",
    "Topic: array\n",
    "Difficulty: easy\n",
    "\n",
    "https://leetcode.com/problems/remove-duplicates-from-sorted-array/\n",
    "\n",
    "Given a sorted array nums, remove the duplicates in-place such that each element appear only once and return the new length.\n",
    "Do not allocate extra space for another array, you must do this by modifying the input array in-place with O(1) extra memory.\n"
   ]
  },
  {
   "cell_type": "code",
   "execution_count": 29,
   "metadata": {
    "ExecuteTime": {
     "end_time": "2020-03-05T22:57:47.953929Z",
     "start_time": "2020-03-05T22:57:47.948225Z"
    }
   },
   "outputs": [],
   "source": [
    "def removeDuplicates(nums):\n",
    "    \n",
    "    # Edge case - empty array\n",
    "    \n",
    "    counter = 1\n",
    "    val2compare = nums[0]\n",
    "    for i in nums:\n",
    "        if i != val2compare:\n",
    "            val2compare = i\n",
    "            counter += 1\n",
    "            print(i, val2compare)\n",
    "            \n",
    "        elif i==val2compare:\n",
    "            val2compare = i\n",
    "        \n",
    "    return counter"
   ]
  },
  {
   "cell_type": "code",
   "execution_count": 30,
   "metadata": {
    "ExecuteTime": {
     "end_time": "2020-03-05T22:57:48.356086Z",
     "start_time": "2020-03-05T22:57:48.349444Z"
    }
   },
   "outputs": [
    {
     "name": "stdout",
     "output_type": "stream",
     "text": [
      "2 2\n"
     ]
    },
    {
     "data": {
      "text/plain": [
       "2"
      ]
     },
     "execution_count": 30,
     "metadata": {},
     "output_type": "execute_result"
    }
   ],
   "source": [
    "my_nums = [1,1,2]\n",
    "removeDuplicates(my_nums)"
   ]
  },
  {
   "cell_type": "code",
   "execution_count": 31,
   "metadata": {
    "ExecuteTime": {
     "end_time": "2020-03-05T22:57:50.733209Z",
     "start_time": "2020-03-05T22:57:50.726797Z"
    }
   },
   "outputs": [
    {
     "data": {
      "text/plain": [
       "1"
      ]
     },
     "execution_count": 31,
     "metadata": {},
     "output_type": "execute_result"
    }
   ],
   "source": [
    "my_nums = [0,0,1,1,1,2,2,3,3,4],\n",
    "\n",
    "removeDuplicates(my_nums)"
   ]
  },
  {
   "cell_type": "code",
   "execution_count": 4,
   "metadata": {
    "ExecuteTime": {
     "end_time": "2020-03-04T04:49:31.987110Z",
     "start_time": "2020-03-04T04:49:31.976942Z"
    }
   },
   "outputs": [
    {
     "data": {
      "text/plain": [
       "2"
      ]
     },
     "execution_count": 4,
     "metadata": {},
     "output_type": "execute_result"
    }
   ],
   "source": [
    "len(set(my_nums))"
   ]
  },
  {
   "cell_type": "code",
   "execution_count": 200,
   "metadata": {
    "ExecuteTime": {
     "end_time": "2020-04-16T23:28:30.225953Z",
     "start_time": "2020-04-16T23:28:30.219774Z"
    }
   },
   "outputs": [
    {
     "data": {
      "text/plain": [
       "121"
      ]
     },
     "execution_count": 200,
     "metadata": {},
     "output_type": "execute_result"
    }
   ],
   "source": [
    "len(my_arr)"
   ]
  },
  {
   "cell_type": "code",
   "execution_count": 201,
   "metadata": {
    "ExecuteTime": {
     "end_time": "2020-04-16T23:28:37.627192Z",
     "start_time": "2020-04-16T23:28:37.615692Z"
    }
   },
   "outputs": [
    {
     "data": {
      "text/plain": [
       "91"
      ]
     },
     "execution_count": 201,
     "metadata": {},
     "output_type": "execute_result"
    }
   ],
   "source": [
    "song_pairs(my_arr)"
   ]
  },
  {
   "cell_type": "code",
   "execution_count": null,
   "metadata": {},
   "outputs": [],
   "source": []
  },
  {
   "cell_type": "code",
   "execution_count": 211,
   "metadata": {
    "ExecuteTime": {
     "end_time": "2020-04-16T23:51:04.911610Z",
     "start_time": "2020-04-16T23:51:04.905192Z"
    }
   },
   "outputs": [],
   "source": [
    "# Shu's solution\n",
    "def solution(arr):\n",
    "    res = 0\n",
    "    rem = [0]*60\n",
    "    for i in arr:\n",
    "        rem[ i % 60] += 1\n",
    "    print(rem)\n",
    "    res = rem[0]*(rem[0]-1)/2 + rem[30]*(rem[30]-1)/2\n",
    "    for i in range(1, 30):\n",
    "        res += rem[i]*rem[60-i]\n",
    "    return res\n"
   ]
  },
  {
   "cell_type": "code",
   "execution_count": 212,
   "metadata": {
    "ExecuteTime": {
     "end_time": "2020-04-16T23:51:05.542537Z",
     "start_time": "2020-04-16T23:51:05.535314Z"
    }
   },
   "outputs": [
    {
     "name": "stdout",
     "output_type": "stream",
     "text": [
      "[0, 0, 0, 0, 0, 0, 0, 0, 0, 0, 0, 0, 0, 0, 0, 0, 0, 0, 0, 0, 1, 0, 0, 0, 0, 0, 0, 0, 0, 0, 2, 0, 0, 0, 0, 0, 0, 0, 0, 0, 2, 0, 0, 0, 0, 0, 0, 0, 0, 0, 0, 0, 0, 0, 0, 0, 0, 0, 0, 0]\n"
     ]
    },
    {
     "data": {
      "text/plain": [
       "3.0"
      ]
     },
     "execution_count": 212,
     "metadata": {},
     "output_type": "execute_result"
    }
   ],
   "source": [
    "my_arr = [30,20,150,100,40]\n",
    "solution(my_arr)"
   ]
  },
  {
   "cell_type": "code",
   "execution_count": null,
   "metadata": {},
   "outputs": [],
   "source": []
  },
  {
   "cell_type": "code",
   "execution_count": null,
   "metadata": {},
   "outputs": [],
   "source": []
  },
  {
   "cell_type": "markdown",
   "metadata": {},
   "source": [
    "# --"
   ]
  }
 ],
 "metadata": {
  "kernelspec": {
   "display_name": "Python 3",
   "language": "python",
   "name": "python3"
  },
  "language_info": {
   "codemirror_mode": {
    "name": "ipython",
    "version": 3
   },
   "file_extension": ".py",
   "mimetype": "text/x-python",
   "name": "python",
   "nbconvert_exporter": "python",
   "pygments_lexer": "ipython3",
   "version": "3.6.9"
  },
  "toc": {
   "base_numbering": 1,
   "nav_menu": {},
   "number_sections": true,
   "sideBar": true,
   "skip_h1_title": false,
   "title_cell": "Table of Contents",
   "title_sidebar": "Contents",
   "toc_cell": false,
   "toc_position": {
    "height": "calc(100% - 180px)",
    "left": "10px",
    "top": "150px",
    "width": "247.617px"
   },
   "toc_section_display": true,
   "toc_window_display": true
  },
  "toc-autonumbering": true,
  "varInspector": {
   "cols": {
    "lenName": 16,
    "lenType": 16,
    "lenVar": 40
   },
   "kernels_config": {
    "python": {
     "delete_cmd_postfix": "",
     "delete_cmd_prefix": "del ",
     "library": "var_list.py",
     "varRefreshCmd": "print(var_dic_list())"
    },
    "r": {
     "delete_cmd_postfix": ") ",
     "delete_cmd_prefix": "rm(",
     "library": "var_list.r",
     "varRefreshCmd": "cat(var_dic_list()) "
    }
   },
   "types_to_exclude": [
    "module",
    "function",
    "builtin_function_or_method",
    "instance",
    "_Feature"
   ],
   "window_display": false
  }
 },
 "nbformat": 4,
 "nbformat_minor": 4
}
