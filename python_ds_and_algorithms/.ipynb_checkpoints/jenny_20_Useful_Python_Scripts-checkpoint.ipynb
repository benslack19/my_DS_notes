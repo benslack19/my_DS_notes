{
 "cells": [
  {
   "cell_type": "markdown",
   "metadata": {},
   "source": [
    "# 20 Useful Python Scripts\n",
    "\n",
    "- 5/8/20, Jenny Ren"
   ]
  },
  {
   "cell_type": "markdown",
   "metadata": {},
   "source": [
    "20 useful scripts that make life easier.\n",
    "I got these from:\n",
    "https://zhuanlan.zhihu.com/p/89998429 \n",
    "\n",
    "https://stackoverflow.com \n",
    "\n",
    "https://www.w3schools.com/python \n",
    "\n",
    "https://docs.python.org \n"
   ]
  },
  {
   "cell_type": "code",
   "execution_count": 1,
   "metadata": {
    "ExecuteTime": {
     "end_time": "2020-04-28T16:52:31.444803Z",
     "start_time": "2020-04-28T16:52:30.174079Z"
    }
   },
   "outputs": [],
   "source": [
    "import matplotlib.pyplot as plt\n",
    "import numpy as np\n",
    "import pandas as pd\n",
    "import seaborn as sns"
   ]
  },
  {
   "cell_type": "markdown",
   "metadata": {},
   "source": [
    "# 1. Reversing a string using slicing\n",
    "\n",
    "time complexity?"
   ]
  },
  {
   "cell_type": "code",
   "execution_count": 5,
   "metadata": {},
   "outputs": [
    {
     "name": "stdout",
     "output_type": "stream",
     "text": [
      "EDCBA\n"
     ]
    }
   ],
   "source": [
    "my_string = \"ABCDE\"\n",
    "reversed_string = my_string[::-1]\n",
    "print(reversed_string)"
   ]
  },
  {
   "cell_type": "markdown",
   "metadata": {},
   "source": [
    "# 2. Capitalized first letter of each word in sentence using title()"
   ]
  },
  {
   "cell_type": "code",
   "execution_count": 6,
   "metadata": {},
   "outputs": [
    {
     "name": "stdout",
     "output_type": "stream",
     "text": [
      "I Love Python!\n"
     ]
    }
   ],
   "source": [
    "my_string = \"i love python!\"\n",
    "new_string = my_string.title()\n",
    "print(new_string)"
   ]
  },
  {
   "cell_type": "markdown",
   "metadata": {},
   "source": [
    "# 3. Get unique elements in string or list using set()"
   ]
  },
  {
   "cell_type": "code",
   "execution_count": 12,
   "metadata": {},
   "outputs": [
    {
     "name": "stdout",
     "output_type": "stream",
     "text": [
      "wroteyiasdhg\n"
     ]
    }
   ],
   "source": [
    "my_string = 'whetherisgreattoday'\n",
    "temp_set = set(my_string)\n",
    "new_string = ''.join(temp_set)\n",
    "print(new_string)"
   ]
  },
  {
   "cell_type": "code",
   "execution_count": 14,
   "metadata": {},
   "outputs": [
    {
     "data": {
      "text/plain": [
       "{'a', 'd', 'e', 'g', 'h', 'i', 'o', 'r', 's', 't', 'w', 'y'}"
      ]
     },
     "execution_count": 14,
     "metadata": {},
     "output_type": "execute_result"
    }
   ],
   "source": [
    "temp_set"
   ]
  },
  {
   "cell_type": "markdown",
   "metadata": {},
   "source": [
    "# 4. Multiplication of string or list"
   ]
  },
  {
   "cell_type": "code",
   "execution_count": 25,
   "metadata": {},
   "outputs": [
    {
     "name": "stdout",
     "output_type": "stream",
     "text": [
      "abcabcabc\n",
      "[1, 2, 3, 1, 2, 3, 1, 2, 3]\n"
     ]
    }
   ],
   "source": [
    "n = 3\n",
    "my_string = \"abc\"\n",
    "my_list1 = [1,2,3]\n",
    "\n",
    "print(my_string * n)\n",
    "print(my_list*n)"
   ]
  },
  {
   "cell_type": "markdown",
   "metadata": {},
   "source": [
    "An example of this is in some array or list problems, we create a list to store variables-\n",
    "\n",
    "Given a list nums, turn the first half to 0, and reverse the second half.\n"
   ]
  },
  {
   "cell_type": "code",
   "execution_count": 15,
   "metadata": {},
   "outputs": [
    {
     "name": "stdout",
     "output_type": "stream",
     "text": [
      "[0, 0, 0, 6, 5, 4]\n"
     ]
    }
   ],
   "source": [
    "nums = [1,2,3,4,5,6]\n",
    "n = len(nums)\n",
    "list_ = [0] * n\n",
    "list_[int(n/2):] = nums[int(n/2):][::-1]\n",
    "print(list_)"
   ]
  },
  {
   "cell_type": "markdown",
   "metadata": {},
   "source": [
    "# 5. List comprehension vs For loop"
   ]
  },
  {
   "cell_type": "code",
   "execution_count": 23,
   "metadata": {},
   "outputs": [
    {
     "name": "stdout",
     "output_type": "stream",
     "text": [
      "[0, 0, 6, 8]\n",
      "[2, 4, 6, 8]\n"
     ]
    }
   ],
   "source": [
    "original_list = [1,2,3,4]\n",
    "new_list1 = [2 * x if x > 2 else 0 for x in original_list ]\n",
    "print(new_list1)\n",
    "\n",
    "new_list2 = []\n",
    "for x in original_list:\n",
    "    new_list2.append(2 * x)\n",
    "print(new_list2)"
   ]
  },
  {
   "cell_type": "markdown",
   "metadata": {},
   "source": [
    "# 6. Switch the values of two variables"
   ]
  },
  {
   "cell_type": "code",
   "execution_count": 31,
   "metadata": {},
   "outputs": [
    {
     "name": "stdout",
     "output_type": "stream",
     "text": [
      "a=2, b=1000\n"
     ]
    }
   ],
   "source": [
    "a = 1000\n",
    "b = 2\n",
    "a, b = b, a\n",
    "print('a={}, b={}'.format(a, b))"
   ]
  },
  {
   "cell_type": "markdown",
   "metadata": {},
   "source": [
    "# 7. Split string"
   ]
  },
  {
   "cell_type": "code",
   "execution_count": 26,
   "metadata": {},
   "outputs": [
    {
     "name": "stdout",
     "output_type": "stream",
     "text": [
      "['Insight', 'Data', 'Science', 'fellows', 'rock']\n",
      "['stay happy', ' eat cake']\n"
     ]
    }
   ],
   "source": [
    "string_1 = \"Insight Data Science fellows rock\"\n",
    "string_2 = \"stay happy, eat cake\"\n",
    "# default separator ' '\n",
    "print(string_1.split())\n",
    "# defining separator as '/'\n",
    "print(string_2.split(','))\n"
   ]
  },
  {
   "cell_type": "code",
   "execution_count": 34,
   "metadata": {},
   "outputs": [
    {
     "name": "stdout",
     "output_type": "stream",
     "text": [
      "['Insight', 'Data', 'Science', 'fellows', 'rock']\n",
      "['stay happy, eat', 'cake']\n"
     ]
    }
   ],
   "source": [
    "string_1 = \"Insight Data Science fellows rock\"\n",
    "string_2 = \"stay happy, eat.cake\"\n",
    "# default separator ' '\n",
    "print(string_1.split())\n",
    "# defining separator as '/'\n",
    "print(string_2.split('.'))\n"
   ]
  },
  {
   "cell_type": "code",
   "execution_count": 36,
   "metadata": {},
   "outputs": [
    {
     "name": "stdout",
     "output_type": "stream",
     "text": [
      "['Insight']\n"
     ]
    },
    {
     "ename": "AttributeError",
     "evalue": "'list' object has no attribute 'split'",
     "output_type": "error",
     "traceback": [
      "\u001b[0;31m---------------------------------------------------------------------------\u001b[0m",
      "\u001b[0;31mAttributeError\u001b[0m                            Traceback (most recent call last)",
      "\u001b[0;32m<ipython-input-36-c6c09c009393>\u001b[0m in \u001b[0;36m<module>\u001b[0;34m\u001b[0m\n\u001b[1;32m      4\u001b[0m \u001b[0mprint\u001b[0m\u001b[0;34m(\u001b[0m\u001b[0mstring_1\u001b[0m\u001b[0;34m.\u001b[0m\u001b[0msplit\u001b[0m\u001b[0;34m(\u001b[0m\u001b[0;34m)\u001b[0m\u001b[0;34m)\u001b[0m\u001b[0;34m\u001b[0m\u001b[0;34m\u001b[0m\u001b[0m\n\u001b[1;32m      5\u001b[0m \u001b[0;31m# defining separator as '/'\u001b[0m\u001b[0;34m\u001b[0m\u001b[0;34m\u001b[0m\u001b[0;34m\u001b[0m\u001b[0m\n\u001b[0;32m----> 6\u001b[0;31m \u001b[0mprint\u001b[0m\u001b[0;34m(\u001b[0m\u001b[0mstring_2\u001b[0m\u001b[0;34m.\u001b[0m\u001b[0msplit\u001b[0m\u001b[0;34m(\u001b[0m\u001b[0;34m','\u001b[0m\u001b[0;34m)\u001b[0m\u001b[0;34m.\u001b[0m\u001b[0msplit\u001b[0m\u001b[0;34m(\u001b[0m\u001b[0;34m)\u001b[0m\u001b[0;34m)\u001b[0m\u001b[0;34m\u001b[0m\u001b[0;34m\u001b[0m\u001b[0m\n\u001b[0m",
      "\u001b[0;31mAttributeError\u001b[0m: 'list' object has no attribute 'split'"
     ]
    }
   ],
   "source": [
    "string_1 = \"Insight\"\n",
    "string_2 = \"stay happy, eat cake\"\n",
    "# default separator ' '\n",
    "print(string_1.split())\n",
    "# defining separator as '/'\n",
    "print(string_2.split(',').split())\n"
   ]
  },
  {
   "cell_type": "code",
   "execution_count": null,
   "metadata": {},
   "outputs": [],
   "source": []
  },
  {
   "cell_type": "markdown",
   "metadata": {},
   "source": [
    "# 8. Join elements of sequence to a string"
   ]
  },
  {
   "cell_type": "code",
   "execution_count": 24,
   "metadata": {},
   "outputs": [
    {
     "name": "stdout",
     "output_type": "stream",
     "text": [
      "Insight Data Science fellows rock\n"
     ]
    }
   ],
   "source": [
    "list_of_strings = ['Insight', 'Data', 'Science', 'fellows', 'rock']\n",
    "\n",
    "# Using join with the space separator\n",
    "print(' '.join(list_of_strings))\n"
   ]
  },
  {
   "cell_type": "code",
   "execution_count": null,
   "metadata": {},
   "outputs": [],
   "source": []
  },
  {
   "cell_type": "markdown",
   "metadata": {},
   "source": [
    "# 9. Valid Palindrome"
   ]
  },
  {
   "cell_type": "code",
   "execution_count": 40,
   "metadata": {},
   "outputs": [
    {
     "name": "stdout",
     "output_type": "stream",
     "text": [
      "True\n"
     ]
    }
   ],
   "source": [
    "my_string = \"abcba\"\n",
    "print(my_string == my_string[::-1])    "
   ]
  },
  {
   "cell_type": "markdown",
   "metadata": {},
   "source": [
    "# 10. Finding freqeuncy of each element in a list"
   ]
  },
  {
   "cell_type": "code",
   "execution_count": 38,
   "metadata": {},
   "outputs": [
    {
     "name": "stdout",
     "output_type": "stream",
     "text": [
      "Counter({'d': 5, 'b': 3, 'a': 2, 'c': 1})\n",
      "3\n",
      "[('d', 5)]\n"
     ]
    }
   ],
   "source": [
    "from collections import Counter\n",
    "my_list = ['a','a','b','b','b','c','d','d','d','d','d']\n",
    "count = Counter(my_list) \n",
    "print(count) \n",
    "print(count['b']) \n",
    "print(count.most_common(1)) "
   ]
  },
  {
   "cell_type": "code",
   "execution_count": 39,
   "metadata": {},
   "outputs": [
    {
     "data": {
      "text/plain": [
       "Counter({'a': 2, 'b': 3, 'c': 1, 'd': 5})"
      ]
     },
     "execution_count": 39,
     "metadata": {},
     "output_type": "execute_result"
    }
   ],
   "source": [
    "count"
   ]
  },
  {
   "cell_type": "code",
   "execution_count": 40,
   "metadata": {},
   "outputs": [
    {
     "name": "stdout",
     "output_type": "stream",
     "text": [
      "Counter({'d': 5, 'b': 3, 'a': 2, 'c': 1})\n"
     ]
    }
   ],
   "source": [
    "print(count)"
   ]
  },
  {
   "cell_type": "code",
   "execution_count": null,
   "metadata": {},
   "outputs": [],
   "source": []
  },
  {
   "cell_type": "markdown",
   "metadata": {},
   "source": [
    "# 11. Valid anagrams"
   ]
  },
  {
   "cell_type": "code",
   "execution_count": 49,
   "metadata": {},
   "outputs": [
    {
     "name": "stdout",
     "output_type": "stream",
     "text": [
      "1 and 2 anagram\n"
     ]
    }
   ],
   "source": [
    "str_1, str_2, str_3 = \"acbde\", \"abced\", \"abcda\"\n",
    "cnt_1, cnt_2, cnt_3  = Counter(str_1), Counter(str_2), Counter(str_3)\n",
    "if cnt_1 == cnt_2:\n",
    "    print('1 and 2 anagram')\n",
    "if cnt_1 == cnt_3:    \n",
    "    print('1 and 3 anagram')\n"
   ]
  },
  {
   "cell_type": "markdown",
   "metadata": {},
   "source": [
    "# 12. try-except-else"
   ]
  },
  {
   "cell_type": "markdown",
   "metadata": {},
   "source": [
    "* The try block lets you test a block of code for errors.\n",
    "* The except block lets you handle the error.\n",
    "* The finally block lets you execute code, regardless of the result of the try- and except blocks."
   ]
  },
  {
   "cell_type": "code",
   "execution_count": 58,
   "metadata": {},
   "outputs": [
    {
     "name": "stdout",
     "output_type": "stream",
     "text": [
      "\ti = 0\n",
      "\tError report: ZeroDivisionError\n",
      "Try block is run.\n",
      "\ti = 1\n",
      "\tNo error report and y equals 1.0\n",
      "Try block is run.\n",
      "\ti = 2\n",
      "\tNo error report and y equals 0.5\n",
      "Try block is run.\n"
     ]
    }
   ],
   "source": [
    "for i in range(3):\n",
    "    try:\n",
    "        y = 1 / i\n",
    "    except ZeroDivisionError:\n",
    "        print(f\"\\ti = {i}\")\n",
    "        print(\"\\tError report: ZeroDivisionError\")\n",
    "    else:\n",
    "        print(f\"\\ti = {i}\")\n",
    "        print(f\"\\tNo error report and y equals {y}\")\n",
    "    finally:\n",
    "        print(\"Try block is run.\")"
   ]
  },
  {
   "cell_type": "markdown",
   "metadata": {},
   "source": [
    "# 13. Use enumerate to get index and value"
   ]
  },
  {
   "cell_type": "code",
   "execution_count": 59,
   "metadata": {},
   "outputs": [
    {
     "name": "stdout",
     "output_type": "stream",
     "text": [
      "0: a\n",
      "1: b\n",
      "2: c\n",
      "3: d\n",
      "4: e\n"
     ]
    }
   ],
   "source": [
    "my_list = ['a', 'b', 'c', 'd', 'e']\n",
    "for index, value in enumerate(my_list):    \n",
    "    print('{0}: {1}'.format(index, value))"
   ]
  },
  {
   "cell_type": "markdown",
   "metadata": {},
   "source": [
    "# 14. Get memory size of object "
   ]
  },
  {
   "cell_type": "code",
   "execution_count": 43,
   "metadata": {},
   "outputs": [
    {
     "name": "stdout",
     "output_type": "stream",
     "text": [
      "28\n",
      "60\n"
     ]
    }
   ],
   "source": [
    "import sys\n",
    "num = 15\n",
    "print(sys.getsizeof(num))\n",
    "# In Python 2, 24# In Python 3, 28, unit is byte\n",
    "\n",
    "s = 'Hello world'\n",
    "print(sys.getsizeof(s))"
   ]
  },
  {
   "cell_type": "markdown",
   "metadata": {},
   "source": [
    "# 15. Combine two dictionaries"
   ]
  },
  {
   "cell_type": "code",
   "execution_count": 44,
   "metadata": {},
   "outputs": [
    {
     "name": "stdout",
     "output_type": "stream",
     "text": [
      "{'apple': 9, 'banana': 4, 'orange': 8}\n"
     ]
    }
   ],
   "source": [
    "dict_1 = {'apple': 9, 'banana': 6}\n",
    "dict_2 = {'banana': 4, 'orange': 8}\n",
    "combined_dict = {**dict_1, **dict_2}\n",
    "print(combined_dict)"
   ]
  },
  {
   "cell_type": "code",
   "execution_count": 46,
   "metadata": {},
   "outputs": [
    {
     "name": "stdout",
     "output_type": "stream",
     "text": [
      "{'apple': 9, 'banana': 4, 'orange': 8}\n"
     ]
    }
   ],
   "source": [
    "dict_3 = dict_1.copy()\n",
    "dict_3.update(dict_2)\n",
    "print(dict_3)"
   ]
  },
  {
   "cell_type": "markdown",
   "metadata": {},
   "source": [
    "# 16. Run time of a script"
   ]
  },
  {
   "cell_type": "code",
   "execution_count": 92,
   "metadata": {},
   "outputs": [
    {
     "name": "stdout",
     "output_type": "stream",
     "text": [
      "Time taken in micro_seconds: 0.0 ms\n"
     ]
    }
   ],
   "source": [
    "import time\n",
    "\n",
    "start_time = time.time()\n",
    "\n",
    "a, b = 0, 10\n",
    "for i in range(100):\n",
    "    a += b ** i\n",
    "    \n",
    "end_time = time.time()\n",
    "\n",
    "time_taken_in_micro = (end_time - start_time)*(10**6)\n",
    "print(\"Time taken in micro_seconds: {} ms\".format(time_taken_in_micro))\n"
   ]
  },
  {
   "cell_type": "markdown",
   "metadata": {},
   "source": [
    "# 17. Flatten a list of lists"
   ]
  },
  {
   "cell_type": "code",
   "execution_count": 101,
   "metadata": {},
   "outputs": [
    {
     "name": "stdout",
     "output_type": "stream",
     "text": [
      "[1, 2, 3, 3]\n",
      "[1, 2, 3, 4, [5], [6, 7], 8, [9, [10]]]\n",
      "[1, 2, 3, 4, 5, 6, 7, 8, 9, 10]\n"
     ]
    }
   ],
   "source": [
    "from iteration_utilities import deepflatten\n",
    "\n",
    "# if you only have one depth nested_list, use this\n",
    "def flatten(l):  \n",
    "    return [item for sublist in l for item in sublist]\n",
    "l = [[1,2,3],[3]]\n",
    "print(flatten(l))\n",
    "\n",
    "# flatten at a given depth\n",
    "l = [[1,2,3],[4,[5],[6,7]],[8,[9,[10]]]]\n",
    "print(list(deepflatten(l, depth=1)))\n",
    "\n",
    "# completely flatten a list\n",
    "l = [[1,2,3],[4,[5],[6,7]],[8,[9,[10]]]]\n",
    "print(list(deepflatten(l)))"
   ]
  },
  {
   "cell_type": "markdown",
   "metadata": {},
   "source": [
    "# 18. Sample from list"
   ]
  },
  {
   "cell_type": "code",
   "execution_count": 103,
   "metadata": {},
   "outputs": [
    {
     "name": "stdout",
     "output_type": "stream",
     "text": [
      "['c', 'a']\n"
     ]
    }
   ],
   "source": [
    "import random\n",
    "\n",
    "my_list = ['a', 'b', 'c', 'd', 'e']\n",
    "num_samples = 2\n",
    "samples = random.sample(my_list, num_samples)\n",
    "print(samples)"
   ]
  },
  {
   "cell_type": "markdown",
   "metadata": {},
   "source": [
    "# 19. Tranform integer to list of digits using map"
   ]
  },
  {
   "cell_type": "code",
   "execution_count": null,
   "metadata": {},
   "outputs": [],
   "source": [
    "num = 123456\n",
    "# using map\n",
    "list_of_digits = list(map(int, str(num)))\n",
    "print(list_of_digits)\n",
    "\n",
    "# using list comprehension\n",
    "list_of_digits = [int(x) for x in str(num)]\n",
    "print(list_of_digits)"
   ]
  },
  {
   "cell_type": "code",
   "execution_count": 50,
   "metadata": {},
   "outputs": [
    {
     "name": "stdout",
     "output_type": "stream",
     "text": [
      "[1, 2, 3, 4, 5, 6]\n",
      "[1, 2, 3, 4, 5, 6]\n"
     ]
    }
   ],
   "source": [
    "num = 123456\n",
    "# using map\n",
    "list_of_digits = list(map(int, str(num)))\n",
    "print(list_of_digits)\n",
    "\n",
    "# using list comprehension\n",
    "list_of_digits = [int(x) for x in str(num)]\n",
    "print(list_of_digits)"
   ]
  },
  {
   "cell_type": "code",
   "execution_count": 51,
   "metadata": {},
   "outputs": [
    {
     "name": "stdout",
     "output_type": "stream",
     "text": [
      "<map object at 0x12c24a1d0>\n",
      "1 2 3 4 5 6\n"
     ]
    }
   ],
   "source": [
    "print(map(int, str(num)))\n",
    "print(*map(int, str(num)))"
   ]
  },
  {
   "cell_type": "code",
   "execution_count": null,
   "metadata": {},
   "outputs": [],
   "source": []
  },
  {
   "cell_type": "code",
   "execution_count": null,
   "metadata": {},
   "outputs": [],
   "source": []
  },
  {
   "cell_type": "code",
   "execution_count": null,
   "metadata": {},
   "outputs": [],
   "source": []
  },
  {
   "cell_type": "markdown",
   "metadata": {},
   "source": [
    "# 20. Check uniqueness of element"
   ]
  },
  {
   "cell_type": "code",
   "execution_count": 110,
   "metadata": {},
   "outputs": [
    {
     "name": "stdout",
     "output_type": "stream",
     "text": [
      "All elements are unique\n",
      "List has duplicates\n"
     ]
    }
   ],
   "source": [
    "def unique(l):\n",
    "    if len(l) == len(set(l)):        \n",
    "        print(\"All elements are unique\")    \n",
    "    else:        \n",
    "        print(\"List has duplicates\")\n",
    "unique([1,2,3,4])\n",
    "unique([1,1,2,3])"
   ]
  },
  {
   "cell_type": "code",
   "execution_count": null,
   "metadata": {},
   "outputs": [],
   "source": []
  },
  {
   "cell_type": "code",
   "execution_count": 49,
   "metadata": {},
   "outputs": [
    {
     "ename": "TypeError",
     "evalue": "unsupported operand type(s) for +: 'set' and 'set'",
     "output_type": "error",
     "traceback": [
      "\u001b[0;31m---------------------------------------------------------------------------\u001b[0m",
      "\u001b[0;31mTypeError\u001b[0m                                 Traceback (most recent call last)",
      "\u001b[0;32m<ipython-input-49-ac00e3deee2e>\u001b[0m in \u001b[0;36m<module>\u001b[0;34m\u001b[0m\n\u001b[0;32m----> 1\u001b[0;31m \u001b[0mset\u001b[0m\u001b[0;34m(\u001b[0m\u001b[0;34m'ABC'\u001b[0m\u001b[0;34m)\u001b[0m\u001b[0;34m+\u001b[0m\u001b[0mset\u001b[0m\u001b[0;34m(\u001b[0m\u001b[0;34m'AB'\u001b[0m\u001b[0;34m)\u001b[0m\u001b[0;34m\u001b[0m\u001b[0;34m\u001b[0m\u001b[0m\n\u001b[0m",
      "\u001b[0;31mTypeError\u001b[0m: unsupported operand type(s) for +: 'set' and 'set'"
     ]
    }
   ],
   "source": [
    "set('ABC')+set('AB')"
   ]
  },
  {
   "cell_type": "code",
   "execution_count": null,
   "metadata": {},
   "outputs": [],
   "source": []
  }
 ],
 "metadata": {
  "kernelspec": {
   "display_name": "Python 3",
   "language": "python",
   "name": "python3"
  },
  "language_info": {
   "codemirror_mode": {
    "name": "ipython",
    "version": 3
   },
   "file_extension": ".py",
   "mimetype": "text/x-python",
   "name": "python",
   "nbconvert_exporter": "python",
   "pygments_lexer": "ipython3",
   "version": "3.6.9"
  },
  "toc": {
   "base_numbering": 1,
   "nav_menu": {},
   "number_sections": true,
   "sideBar": true,
   "skip_h1_title": false,
   "title_cell": "Table of Contents",
   "title_sidebar": "Contents",
   "toc_cell": false,
   "toc_position": {
    "height": "calc(100% - 180px)",
    "left": "10px",
    "top": "150px",
    "width": "258.767px"
   },
   "toc_section_display": true,
   "toc_window_display": true
  },
  "toc-autonumbering": true,
  "toc-showcode": false,
  "toc-showmarkdowntxt": false,
  "varInspector": {
   "cols": {
    "lenName": 16,
    "lenType": 16,
    "lenVar": 40
   },
   "kernels_config": {
    "python": {
     "delete_cmd_postfix": "",
     "delete_cmd_prefix": "del ",
     "library": "var_list.py",
     "varRefreshCmd": "print(var_dic_list())"
    },
    "r": {
     "delete_cmd_postfix": ") ",
     "delete_cmd_prefix": "rm(",
     "library": "var_list.r",
     "varRefreshCmd": "cat(var_dic_list()) "
    }
   },
   "types_to_exclude": [
    "module",
    "function",
    "builtin_function_or_method",
    "instance",
    "_Feature"
   ],
   "window_display": false
  }
 },
 "nbformat": 4,
 "nbformat_minor": 4
}
