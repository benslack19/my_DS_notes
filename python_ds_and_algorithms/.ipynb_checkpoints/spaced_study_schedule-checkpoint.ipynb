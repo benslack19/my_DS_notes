{
 "cells": [
  {
   "cell_type": "markdown",
   "metadata": {},
   "source": [
    "# Study schedule\n"
   ]
  },
  {
   "cell_type": "code",
   "execution_count": 7,
   "metadata": {
    "ExecuteTime": {
     "end_time": "2020-03-20T04:23:20.392055Z",
     "start_time": "2020-03-20T04:23:17.591904Z"
    }
   },
   "outputs": [
    {
     "data": {
      "application/javascript": [
       "\n",
       "            setTimeout(function() {\n",
       "                var nbb_cell_id = 7;\n",
       "                var nbb_unformatted_code = \"# Code formatting Jupyter black\\n%load_ext nb_black\";\n",
       "                var nbb_formatted_code = \"# Code formatting Jupyter black\\n%load_ext nb_black\";\n",
       "                var nbb_cells = Jupyter.notebook.get_cells();\n",
       "                for (var i = 0; i < nbb_cells.length; ++i) {\n",
       "                    if (nbb_cells[i].input_prompt_number == nbb_cell_id) {\n",
       "                        if (nbb_cells[i].get_text() == nbb_unformatted_code) {\n",
       "                             nbb_cells[i].set_text(nbb_formatted_code);\n",
       "                        }\n",
       "                        break;\n",
       "                    }\n",
       "                }\n",
       "            }, 500);\n",
       "            "
      ],
      "text/plain": [
       "<IPython.core.display.Javascript object>"
      ]
     },
     "metadata": {},
     "output_type": "display_data"
    }
   ],
   "source": [
    "# Code formatting Jupyter black\n",
    "%load_ext nb_black"
   ]
  },
  {
   "cell_type": "markdown",
   "metadata": {
    "ExecuteTime": {
     "end_time": "2020-03-25T17:12:34.767448Z",
     "start_time": "2020-03-25T17:12:34.658868Z"
    }
   },
   "source": [
    "[Writing math symbols in markdown](https://jupyter-notebook.readthedocs.io/en/stable/examples/Notebook/Typesetting%20Equations.html)"
   ]
  },
  {
   "cell_type": "markdown",
   "metadata": {},
   "source": [
    "# Creating a study schedule with spaced repetition\n",
    "\n",
    "Given a set of lessons, make a study schedule where a lesson is repeated following a spaced repetition schedule. Intervals were determined by [this site](https://www.supermemo.com/en).\n",
    "\n",
    "Inputs:\n",
    "1. List of lessons to be exposed to in order.\n",
    "2. A starting date.\n",
    "\n",
    "Output:\n",
    "- A pandas dataframe where the first column is the date, second column is a new lesson, and there's an optimal re-exposure to lessons. Allocated time needs to proportionally account for lessons learned. New lessons get more time and are the main times to learn the theory while being supported by doing problems. The re-exposures should be focused on doing problems with review of theory done only as needed.\n",
    "\n",
    "- Imagine you have 2 hours.\n",
    "    - D1: new lesson, theory study and problems: 60 min\n",
    "    - D4: re-exposure on day 4, problems only: 15 min\n",
    "    - D12: re-exposure on day 12, problems only: 15 min\n",
    "    - D30: re-exposure on day 30, problems only: 15 min\n"
   ]
  },
  {
   "cell_type": "code",
   "execution_count": 34,
   "metadata": {
    "ExecuteTime": {
     "end_time": "2020-03-24T14:56:05.276156Z",
     "start_time": "2020-03-24T14:56:05.196488Z"
    }
   },
   "outputs": [
    {
     "data": {
      "application/javascript": [
       "\n",
       "            setTimeout(function() {\n",
       "                var nbb_cell_id = 34;\n",
       "                var nbb_unformatted_code = \"import pandas as pd\\nimport numpy as np\\nimport datetime\";\n",
       "                var nbb_formatted_code = \"import pandas as pd\\nimport numpy as np\\nimport datetime\";\n",
       "                var nbb_cells = Jupyter.notebook.get_cells();\n",
       "                for (var i = 0; i < nbb_cells.length; ++i) {\n",
       "                    if (nbb_cells[i].input_prompt_number == nbb_cell_id) {\n",
       "                        if (nbb_cells[i].get_text() == nbb_unformatted_code) {\n",
       "                             nbb_cells[i].set_text(nbb_formatted_code);\n",
       "                        }\n",
       "                        break;\n",
       "                    }\n",
       "                }\n",
       "            }, 500);\n",
       "            "
      ],
      "text/plain": [
       "<IPython.core.display.Javascript object>"
      ]
     },
     "metadata": {},
     "output_type": "display_data"
    }
   ],
   "source": [
    "import pandas as pd\n",
    "import numpy as np\n",
    "import datetime"
   ]
  },
  {
   "cell_type": "code",
   "execution_count": 171,
   "metadata": {
    "ExecuteTime": {
     "end_time": "2020-03-26T21:50:44.335943Z",
     "start_time": "2020-03-26T21:50:44.294071Z"
    }
   },
   "outputs": [
    {
     "data": {
      "application/javascript": [
       "\n",
       "            setTimeout(function() {\n",
       "                var nbb_cell_id = 171;\n",
       "                var nbb_unformatted_code = \"first_day = \\\"2020-03-26\\\"\\n# last_day = \\\"2020-06-20\\\"\\n\\ndf_schedule = pd.DataFrame()\\ndf_schedule[\\\"date\\\"] = pd.date_range(start=first_day, end=\\\"2020-04-24\\\")\\ndf_schedule[\\\"new_d1\\\"] = None\\ndf_schedule[\\\"reexp_d4\\\"] = None\\ndf_schedule[\\\"reexp_d12\\\"] = None\\ndf_schedule[\\\"reexp_d30\\\"] = None\";\n",
       "                var nbb_formatted_code = \"first_day = \\\"2020-03-26\\\"\\n# last_day = \\\"2020-06-20\\\"\\n\\ndf_schedule = pd.DataFrame()\\ndf_schedule[\\\"date\\\"] = pd.date_range(start=first_day, end=\\\"2020-04-24\\\")\\ndf_schedule[\\\"new_d1\\\"] = None\\ndf_schedule[\\\"reexp_d4\\\"] = None\\ndf_schedule[\\\"reexp_d12\\\"] = None\\ndf_schedule[\\\"reexp_d30\\\"] = None\";\n",
       "                var nbb_cells = Jupyter.notebook.get_cells();\n",
       "                for (var i = 0; i < nbb_cells.length; ++i) {\n",
       "                    if (nbb_cells[i].input_prompt_number == nbb_cell_id) {\n",
       "                        if (nbb_cells[i].get_text() == nbb_unformatted_code) {\n",
       "                             nbb_cells[i].set_text(nbb_formatted_code);\n",
       "                        }\n",
       "                        break;\n",
       "                    }\n",
       "                }\n",
       "            }, 500);\n",
       "            "
      ],
      "text/plain": [
       "<IPython.core.display.Javascript object>"
      ]
     },
     "metadata": {},
     "output_type": "display_data"
    }
   ],
   "source": [
    "first_day = \"2020-03-26\"\n",
    "df_schedule = pd.DataFrame()\n",
    "df_schedule[\"date\"] = pd.date_range(start=first_day, end=\"2020-04-24\")\n",
    "df_schedule[\"new_d1\"] = None\n",
    "df_schedule[\"reexp_d4\"] = None\n",
    "df_schedule[\"reexp_d12\"] = None\n",
    "df_schedule[\"reexp_d30\"] = None"
   ]
  },
  {
   "cell_type": "code",
   "execution_count": 191,
   "metadata": {
    "ExecuteTime": {
     "end_time": "2020-03-26T21:58:00.615751Z",
     "start_time": "2020-03-26T21:58:00.606296Z"
    }
   },
   "outputs": [
    {
     "data": {
      "application/javascript": [
       "\n",
       "            setTimeout(function() {\n",
       "                var nbb_cell_id = 191;\n",
       "                var nbb_unformatted_code = \"lessons = [\\\"L\\\" + str(i) for i in range(0, 30)]\";\n",
       "                var nbb_formatted_code = \"lessons = [\\\"L\\\" + str(i) for i in range(0, 30)]\";\n",
       "                var nbb_cells = Jupyter.notebook.get_cells();\n",
       "                for (var i = 0; i < nbb_cells.length; ++i) {\n",
       "                    if (nbb_cells[i].input_prompt_number == nbb_cell_id) {\n",
       "                        if (nbb_cells[i].get_text() == nbb_unformatted_code) {\n",
       "                             nbb_cells[i].set_text(nbb_formatted_code);\n",
       "                        }\n",
       "                        break;\n",
       "                    }\n",
       "                }\n",
       "            }, 500);\n",
       "            "
      ],
      "text/plain": [
       "<IPython.core.display.Javascript object>"
      ]
     },
     "metadata": {},
     "output_type": "display_data"
    }
   ],
   "source": [
    "lessons = [\"L\" + str(i) for i in range(0, 30)]\n",
    "df_schedule[\"new_d1\"] = lessons\n",
    "\n",
    "ind_d4 = range(3, 30)\n",
    "lessons_d4 = lessons[0 : len(lessons) - 3]\n",
    "df_schedule.loc[ind_d4, \"reexp_d4\"] = lessons_d4\n",
    "\n",
    "ind_d12 = range(11, 30)\n",
    "lessons_d12 = lessons[0 : len(lessons) - 11]\n",
    "df_schedule.loc[ind_d12, \"reexp_d12\"] = lessons_d12\n",
    "\n",
    "ind_d30 = range(29, 30)\n",
    "lessons_d30 = lessons[0 : len(lessons) - 29]\n",
    "df_schedule.loc[ind_d30, \"reexp_d30\"] = lessons_d30"
   ]
  },
  {
   "cell_type": "code",
   "execution_count": 196,
   "metadata": {
    "ExecuteTime": {
     "end_time": "2020-03-26T21:58:03.055280Z",
     "start_time": "2020-03-26T21:58:03.034195Z"
    }
   },
   "outputs": [
    {
     "data": {
      "text/html": [
       "<div>\n",
       "<style scoped>\n",
       "    .dataframe tbody tr th:only-of-type {\n",
       "        vertical-align: middle;\n",
       "    }\n",
       "\n",
       "    .dataframe tbody tr th {\n",
       "        vertical-align: top;\n",
       "    }\n",
       "\n",
       "    .dataframe thead th {\n",
       "        text-align: right;\n",
       "    }\n",
       "</style>\n",
       "<table border=\"1\" class=\"dataframe\">\n",
       "  <thead>\n",
       "    <tr style=\"text-align: right;\">\n",
       "      <th></th>\n",
       "      <th>date</th>\n",
       "      <th>new_d1</th>\n",
       "      <th>reexp_d4</th>\n",
       "      <th>reexp_d12</th>\n",
       "      <th>reexp_d30</th>\n",
       "    </tr>\n",
       "  </thead>\n",
       "  <tbody>\n",
       "    <tr>\n",
       "      <th>0</th>\n",
       "      <td>2020-03-26</td>\n",
       "      <td>L0</td>\n",
       "      <td>None</td>\n",
       "      <td>None</td>\n",
       "      <td>None</td>\n",
       "    </tr>\n",
       "    <tr>\n",
       "      <th>1</th>\n",
       "      <td>2020-03-27</td>\n",
       "      <td>L1</td>\n",
       "      <td>None</td>\n",
       "      <td>None</td>\n",
       "      <td>None</td>\n",
       "    </tr>\n",
       "    <tr>\n",
       "      <th>2</th>\n",
       "      <td>2020-03-28</td>\n",
       "      <td>L2</td>\n",
       "      <td>None</td>\n",
       "      <td>None</td>\n",
       "      <td>None</td>\n",
       "    </tr>\n",
       "    <tr>\n",
       "      <th>3</th>\n",
       "      <td>2020-03-29</td>\n",
       "      <td>L3</td>\n",
       "      <td>L0</td>\n",
       "      <td>None</td>\n",
       "      <td>None</td>\n",
       "    </tr>\n",
       "    <tr>\n",
       "      <th>4</th>\n",
       "      <td>2020-03-30</td>\n",
       "      <td>L4</td>\n",
       "      <td>L1</td>\n",
       "      <td>None</td>\n",
       "      <td>None</td>\n",
       "    </tr>\n",
       "    <tr>\n",
       "      <th>5</th>\n",
       "      <td>2020-03-31</td>\n",
       "      <td>L5</td>\n",
       "      <td>L2</td>\n",
       "      <td>None</td>\n",
       "      <td>None</td>\n",
       "    </tr>\n",
       "    <tr>\n",
       "      <th>6</th>\n",
       "      <td>2020-04-01</td>\n",
       "      <td>L6</td>\n",
       "      <td>L3</td>\n",
       "      <td>None</td>\n",
       "      <td>None</td>\n",
       "    </tr>\n",
       "    <tr>\n",
       "      <th>7</th>\n",
       "      <td>2020-04-02</td>\n",
       "      <td>L7</td>\n",
       "      <td>L4</td>\n",
       "      <td>None</td>\n",
       "      <td>None</td>\n",
       "    </tr>\n",
       "    <tr>\n",
       "      <th>8</th>\n",
       "      <td>2020-04-03</td>\n",
       "      <td>L8</td>\n",
       "      <td>L5</td>\n",
       "      <td>None</td>\n",
       "      <td>None</td>\n",
       "    </tr>\n",
       "    <tr>\n",
       "      <th>9</th>\n",
       "      <td>2020-04-04</td>\n",
       "      <td>L9</td>\n",
       "      <td>L6</td>\n",
       "      <td>None</td>\n",
       "      <td>None</td>\n",
       "    </tr>\n",
       "    <tr>\n",
       "      <th>10</th>\n",
       "      <td>2020-04-05</td>\n",
       "      <td>L10</td>\n",
       "      <td>L7</td>\n",
       "      <td>None</td>\n",
       "      <td>None</td>\n",
       "    </tr>\n",
       "    <tr>\n",
       "      <th>11</th>\n",
       "      <td>2020-04-06</td>\n",
       "      <td>L11</td>\n",
       "      <td>L8</td>\n",
       "      <td>L0</td>\n",
       "      <td>None</td>\n",
       "    </tr>\n",
       "    <tr>\n",
       "      <th>12</th>\n",
       "      <td>2020-04-07</td>\n",
       "      <td>L12</td>\n",
       "      <td>L9</td>\n",
       "      <td>L1</td>\n",
       "      <td>None</td>\n",
       "    </tr>\n",
       "    <tr>\n",
       "      <th>13</th>\n",
       "      <td>2020-04-08</td>\n",
       "      <td>L13</td>\n",
       "      <td>L10</td>\n",
       "      <td>L2</td>\n",
       "      <td>None</td>\n",
       "    </tr>\n",
       "    <tr>\n",
       "      <th>14</th>\n",
       "      <td>2020-04-09</td>\n",
       "      <td>L14</td>\n",
       "      <td>L11</td>\n",
       "      <td>L3</td>\n",
       "      <td>None</td>\n",
       "    </tr>\n",
       "    <tr>\n",
       "      <th>15</th>\n",
       "      <td>2020-04-10</td>\n",
       "      <td>L15</td>\n",
       "      <td>L12</td>\n",
       "      <td>L4</td>\n",
       "      <td>None</td>\n",
       "    </tr>\n",
       "    <tr>\n",
       "      <th>16</th>\n",
       "      <td>2020-04-11</td>\n",
       "      <td>L16</td>\n",
       "      <td>L13</td>\n",
       "      <td>L5</td>\n",
       "      <td>None</td>\n",
       "    </tr>\n",
       "    <tr>\n",
       "      <th>17</th>\n",
       "      <td>2020-04-12</td>\n",
       "      <td>L17</td>\n",
       "      <td>L14</td>\n",
       "      <td>L6</td>\n",
       "      <td>None</td>\n",
       "    </tr>\n",
       "    <tr>\n",
       "      <th>18</th>\n",
       "      <td>2020-04-13</td>\n",
       "      <td>L18</td>\n",
       "      <td>L15</td>\n",
       "      <td>L7</td>\n",
       "      <td>None</td>\n",
       "    </tr>\n",
       "    <tr>\n",
       "      <th>19</th>\n",
       "      <td>2020-04-14</td>\n",
       "      <td>L19</td>\n",
       "      <td>L16</td>\n",
       "      <td>L8</td>\n",
       "      <td>None</td>\n",
       "    </tr>\n",
       "    <tr>\n",
       "      <th>20</th>\n",
       "      <td>2020-04-15</td>\n",
       "      <td>L20</td>\n",
       "      <td>L17</td>\n",
       "      <td>L9</td>\n",
       "      <td>None</td>\n",
       "    </tr>\n",
       "    <tr>\n",
       "      <th>21</th>\n",
       "      <td>2020-04-16</td>\n",
       "      <td>L21</td>\n",
       "      <td>L18</td>\n",
       "      <td>L10</td>\n",
       "      <td>None</td>\n",
       "    </tr>\n",
       "    <tr>\n",
       "      <th>22</th>\n",
       "      <td>2020-04-17</td>\n",
       "      <td>L22</td>\n",
       "      <td>L19</td>\n",
       "      <td>L11</td>\n",
       "      <td>None</td>\n",
       "    </tr>\n",
       "    <tr>\n",
       "      <th>23</th>\n",
       "      <td>2020-04-18</td>\n",
       "      <td>L23</td>\n",
       "      <td>L20</td>\n",
       "      <td>L12</td>\n",
       "      <td>None</td>\n",
       "    </tr>\n",
       "    <tr>\n",
       "      <th>24</th>\n",
       "      <td>2020-04-19</td>\n",
       "      <td>L24</td>\n",
       "      <td>L21</td>\n",
       "      <td>L13</td>\n",
       "      <td>None</td>\n",
       "    </tr>\n",
       "    <tr>\n",
       "      <th>25</th>\n",
       "      <td>2020-04-20</td>\n",
       "      <td>L25</td>\n",
       "      <td>L22</td>\n",
       "      <td>L14</td>\n",
       "      <td>None</td>\n",
       "    </tr>\n",
       "    <tr>\n",
       "      <th>26</th>\n",
       "      <td>2020-04-21</td>\n",
       "      <td>L26</td>\n",
       "      <td>L23</td>\n",
       "      <td>L15</td>\n",
       "      <td>None</td>\n",
       "    </tr>\n",
       "    <tr>\n",
       "      <th>27</th>\n",
       "      <td>2020-04-22</td>\n",
       "      <td>L27</td>\n",
       "      <td>L24</td>\n",
       "      <td>L16</td>\n",
       "      <td>None</td>\n",
       "    </tr>\n",
       "    <tr>\n",
       "      <th>28</th>\n",
       "      <td>2020-04-23</td>\n",
       "      <td>L28</td>\n",
       "      <td>L25</td>\n",
       "      <td>L17</td>\n",
       "      <td>None</td>\n",
       "    </tr>\n",
       "    <tr>\n",
       "      <th>29</th>\n",
       "      <td>2020-04-24</td>\n",
       "      <td>L29</td>\n",
       "      <td>L26</td>\n",
       "      <td>L18</td>\n",
       "      <td>L0</td>\n",
       "    </tr>\n",
       "  </tbody>\n",
       "</table>\n",
       "</div>"
      ],
      "text/plain": [
       "         date new_d1 reexp_d4 reexp_d12 reexp_d30\n",
       "0  2020-03-26     L0     None      None      None\n",
       "1  2020-03-27     L1     None      None      None\n",
       "2  2020-03-28     L2     None      None      None\n",
       "3  2020-03-29     L3       L0      None      None\n",
       "4  2020-03-30     L4       L1      None      None\n",
       "5  2020-03-31     L5       L2      None      None\n",
       "6  2020-04-01     L6       L3      None      None\n",
       "7  2020-04-02     L7       L4      None      None\n",
       "8  2020-04-03     L8       L5      None      None\n",
       "9  2020-04-04     L9       L6      None      None\n",
       "10 2020-04-05    L10       L7      None      None\n",
       "11 2020-04-06    L11       L8        L0      None\n",
       "12 2020-04-07    L12       L9        L1      None\n",
       "13 2020-04-08    L13      L10        L2      None\n",
       "14 2020-04-09    L14      L11        L3      None\n",
       "15 2020-04-10    L15      L12        L4      None\n",
       "16 2020-04-11    L16      L13        L5      None\n",
       "17 2020-04-12    L17      L14        L6      None\n",
       "18 2020-04-13    L18      L15        L7      None\n",
       "19 2020-04-14    L19      L16        L8      None\n",
       "20 2020-04-15    L20      L17        L9      None\n",
       "21 2020-04-16    L21      L18       L10      None\n",
       "22 2020-04-17    L22      L19       L11      None\n",
       "23 2020-04-18    L23      L20       L12      None\n",
       "24 2020-04-19    L24      L21       L13      None\n",
       "25 2020-04-20    L25      L22       L14      None\n",
       "26 2020-04-21    L26      L23       L15      None\n",
       "27 2020-04-22    L27      L24       L16      None\n",
       "28 2020-04-23    L28      L25       L17      None\n",
       "29 2020-04-24    L29      L26       L18        L0"
      ]
     },
     "execution_count": 196,
     "metadata": {},
     "output_type": "execute_result"
    },
    {
     "data": {
      "application/javascript": [
       "\n",
       "            setTimeout(function() {\n",
       "                var nbb_cell_id = 196;\n",
       "                var nbb_unformatted_code = \"df_schedule\";\n",
       "                var nbb_formatted_code = \"df_schedule\";\n",
       "                var nbb_cells = Jupyter.notebook.get_cells();\n",
       "                for (var i = 0; i < nbb_cells.length; ++i) {\n",
       "                    if (nbb_cells[i].input_prompt_number == nbb_cell_id) {\n",
       "                        if (nbb_cells[i].get_text() == nbb_unformatted_code) {\n",
       "                             nbb_cells[i].set_text(nbb_formatted_code);\n",
       "                        }\n",
       "                        break;\n",
       "                    }\n",
       "                }\n",
       "            }, 500);\n",
       "            "
      ],
      "text/plain": [
       "<IPython.core.display.Javascript object>"
      ]
     },
     "metadata": {},
     "output_type": "display_data"
    }
   ],
   "source": [
    "df_schedule"
   ]
  },
  {
   "cell_type": "code",
   "execution_count": null,
   "metadata": {},
   "outputs": [],
   "source": []
  },
  {
   "cell_type": "code",
   "execution_count": null,
   "metadata": {},
   "outputs": [],
   "source": []
  },
  {
   "cell_type": "code",
   "execution_count": null,
   "metadata": {},
   "outputs": [],
   "source": []
  },
  {
   "cell_type": "code",
   "execution_count": null,
   "metadata": {},
   "outputs": [],
   "source": []
  },
  {
   "cell_type": "code",
   "execution_count": null,
   "metadata": {},
   "outputs": [],
   "source": []
  },
  {
   "cell_type": "markdown",
   "metadata": {},
   "source": [
    "# Brilliant problems"
   ]
  },
  {
   "cell_type": "markdown",
   "metadata": {},
   "source": [
    "## Linear data structures"
   ]
  },
  {
   "cell_type": "markdown",
   "metadata": {},
   "source": [
    "Write a program that computes the change in the average (arithmetic mean) of an unsorted array, when each number larger than X in the array is changed to a different number Y.\n",
    "\n",
    "What is the biggest average among the given arrays when all the numbers larger than \n",
    "20 are changed to 20 in the arrays below?\n",
    "\n",
    "[12, 10, 8, 36, 12, 10, 0, 20, 0, 2]\n",
    "[28, 29, 11, 29, 2, 6, 4, 7, 13, 32]\n",
    "[21, 32, 32, 12, 31, 20, 16, 6, 7, 11]\n",
    "[32, 36, 17, 5, 10, 30, 20, 7, 33, 11]\n",
    "[28, 10, 21, 8, 15, 15, 38, 30, 13, 4]\n",
    "[16, 25, 15, 35, 4, 14, 22, 22, 39, 17]\n",
    "[18, 5, 11, 6, 34, 8, 21, 3, 19, 22]\n",
    "[1, 15, 38, 33, 17, 1, 3, 25, 22, 0]\n",
    "[31, 1, 6, 2, 2, 14, 37, 27, 14, 14]\n",
    "[2, 16, 2, 18, 16, 28, 25, 30, 8, 23]"
   ]
  },
  {
   "cell_type": "code",
   "execution_count": 4,
   "metadata": {
    "ExecuteTime": {
     "end_time": "2020-03-20T02:36:07.308021Z",
     "start_time": "2020-03-20T02:36:07.303272Z"
    }
   },
   "outputs": [],
   "source": [
    "def get_mean_new_array(arr, x, y):\n",
    "    import numpy as np\n",
    "    new_arr = list()\n",
    "    for i in arr:\n",
    "        if i > x:\n",
    "            new_arr.append(y)\n",
    "        else:\n",
    "            new_arr.append(i)\n",
    "    \n",
    "    return np.mean(new_arr)"
   ]
  },
  {
   "cell_type": "code",
   "execution_count": 5,
   "metadata": {
    "ExecuteTime": {
     "end_time": "2020-03-20T02:36:07.906751Z",
     "start_time": "2020-03-20T02:36:07.893037Z"
    }
   },
   "outputs": [
    {
     "data": {
      "text/plain": [
       "9.4"
      ]
     },
     "execution_count": 5,
     "metadata": {},
     "output_type": "execute_result"
    }
   ],
   "source": [
    "my_list = [12, 10, 8, 36, 12, 10, 0, 20, 0, 2]\n",
    "get_mean_new_array(my_list, 20, 20)"
   ]
  },
  {
   "cell_type": "code",
   "execution_count": 12,
   "metadata": {
    "ExecuteTime": {
     "end_time": "2020-03-20T04:25:46.009349Z",
     "start_time": "2020-03-20T04:25:45.992726Z"
    }
   },
   "outputs": [
    {
     "data": {
      "application/javascript": [
       "\n",
       "            setTimeout(function() {\n",
       "                var nbb_cell_id = 12;\n",
       "                var nbb_unformatted_code = \"# Return the sum of the 3rd highest and 5th highest numbers from an unsorted array\\ndef sum_3h_5h(arr):\\n    return sorted(arr)[-3] + sorted(arr)[-5]\";\n",
       "                var nbb_formatted_code = \"# Return the sum of the 3rd highest and 5th highest numbers from an unsorted array\\ndef sum_3h_5h(arr):\\n    return sorted(arr)[-3] + sorted(arr)[-5]\";\n",
       "                var nbb_cells = Jupyter.notebook.get_cells();\n",
       "                for (var i = 0; i < nbb_cells.length; ++i) {\n",
       "                    if (nbb_cells[i].input_prompt_number == nbb_cell_id) {\n",
       "                        if (nbb_cells[i].get_text() == nbb_unformatted_code) {\n",
       "                             nbb_cells[i].set_text(nbb_formatted_code);\n",
       "                        }\n",
       "                        break;\n",
       "                    }\n",
       "                }\n",
       "            }, 500);\n",
       "            "
      ],
      "text/plain": [
       "<IPython.core.display.Javascript object>"
      ]
     },
     "metadata": {},
     "output_type": "display_data"
    }
   ],
   "source": [
    "# Return the sum of the 3rd highest and 5th highest numbers from an unsorted array\n",
    "def sum_3h_5h(arr):\n",
    "    return sorted(arr)[-3] + sorted(arr)[-5]"
   ]
  },
  {
   "cell_type": "code",
   "execution_count": 13,
   "metadata": {
    "ExecuteTime": {
     "end_time": "2020-03-20T04:25:58.875065Z",
     "start_time": "2020-03-20T04:25:58.818916Z"
    },
    "code_folding": [
     0
    ]
   },
   "outputs": [
    {
     "data": {
      "text/plain": [
       "89"
      ]
     },
     "execution_count": 13,
     "metadata": {},
     "output_type": "execute_result"
    },
    {
     "data": {
      "application/javascript": [
       "\n",
       "            setTimeout(function() {\n",
       "                var nbb_cell_id = 13;\n",
       "                var nbb_unformatted_code = \"my_list = [\\n    20,\\n    24,\\n    22,\\n    13,\\n    34,\\n    13,\\n    14,\\n    33,\\n    41,\\n    10,\\n    35,\\n    1,\\n    2,\\n    24,\\n    16,\\n    20,\\n    16,\\n    23,\\n    46,\\n    41,\\n    31,\\n    7,\\n    49,\\n    25,\\n    34,\\n    15,\\n    17,\\n    18,\\n    1,\\n    30,\\n    1,\\n    17,\\n    23,\\n    43,\\n    10,\\n    4,\\n    48,\\n    44,\\n    24,\\n    23,\\n    30,\\n    0,\\n    34,\\n    30,\\n    33,\\n    27,\\n    20,\\n    42,\\n    25,\\n    5,\\n]\\n\\nsum_3h_5h(my_list)\";\n",
       "                var nbb_formatted_code = \"my_list = [\\n    20,\\n    24,\\n    22,\\n    13,\\n    34,\\n    13,\\n    14,\\n    33,\\n    41,\\n    10,\\n    35,\\n    1,\\n    2,\\n    24,\\n    16,\\n    20,\\n    16,\\n    23,\\n    46,\\n    41,\\n    31,\\n    7,\\n    49,\\n    25,\\n    34,\\n    15,\\n    17,\\n    18,\\n    1,\\n    30,\\n    1,\\n    17,\\n    23,\\n    43,\\n    10,\\n    4,\\n    48,\\n    44,\\n    24,\\n    23,\\n    30,\\n    0,\\n    34,\\n    30,\\n    33,\\n    27,\\n    20,\\n    42,\\n    25,\\n    5,\\n]\\n\\nsum_3h_5h(my_list)\";\n",
       "                var nbb_cells = Jupyter.notebook.get_cells();\n",
       "                for (var i = 0; i < nbb_cells.length; ++i) {\n",
       "                    if (nbb_cells[i].input_prompt_number == nbb_cell_id) {\n",
       "                        if (nbb_cells[i].get_text() == nbb_unformatted_code) {\n",
       "                             nbb_cells[i].set_text(nbb_formatted_code);\n",
       "                        }\n",
       "                        break;\n",
       "                    }\n",
       "                }\n",
       "            }, 500);\n",
       "            "
      ],
      "text/plain": [
       "<IPython.core.display.Javascript object>"
      ]
     },
     "metadata": {},
     "output_type": "display_data"
    }
   ],
   "source": [
    "my_list = [\n",
    "    20,\n",
    "    24,\n",
    "    22,\n",
    "    13,\n",
    "    34,\n",
    "    13,\n",
    "    14,\n",
    "    33,\n",
    "    41,\n",
    "    10,\n",
    "    35,\n",
    "    1,\n",
    "    2,\n",
    "    24,\n",
    "    16,\n",
    "    20,\n",
    "    16,\n",
    "    23,\n",
    "    46,\n",
    "    41,\n",
    "    31,\n",
    "    7,\n",
    "    49,\n",
    "    25,\n",
    "    34,\n",
    "    15,\n",
    "    17,\n",
    "    18,\n",
    "    1,\n",
    "    30,\n",
    "    1,\n",
    "    17,\n",
    "    23,\n",
    "    43,\n",
    "    10,\n",
    "    4,\n",
    "    48,\n",
    "    44,\n",
    "    24,\n",
    "    23,\n",
    "    30,\n",
    "    0,\n",
    "    34,\n",
    "    30,\n",
    "    33,\n",
    "    27,\n",
    "    20,\n",
    "    42,\n",
    "    25,\n",
    "    5,\n",
    "]\n",
    "\n",
    "sum_3h_5h(my_list)"
   ]
  },
  {
   "cell_type": "code",
   "execution_count": 16,
   "metadata": {
    "ExecuteTime": {
     "end_time": "2020-03-20T04:29:05.552049Z",
     "start_time": "2020-03-20T04:29:05.536209Z"
    }
   },
   "outputs": [
    {
     "data": {
      "application/javascript": [
       "\n",
       "            setTimeout(function() {\n",
       "                var nbb_cell_id = 16;\n",
       "                var nbb_unformatted_code = \"# What is the sum of all numbers in the array that have a remainder of 4 when divided by 6? \\n\\ndef sum_r4_d6(arr):\\n    res = 0\\n    for i in arr:\\n        if i%6 == 4:\\n            res += i\\n            \\n    return res\";\n",
       "                var nbb_formatted_code = \"# What is the sum of all numbers in the array that have a remainder of 4 when divided by 6?\\n\\n\\ndef sum_r4_d6(arr):\\n    res = 0\\n    for i in arr:\\n        if i % 6 == 4:\\n            res += i\\n\\n    return res\";\n",
       "                var nbb_cells = Jupyter.notebook.get_cells();\n",
       "                for (var i = 0; i < nbb_cells.length; ++i) {\n",
       "                    if (nbb_cells[i].input_prompt_number == nbb_cell_id) {\n",
       "                        if (nbb_cells[i].get_text() == nbb_unformatted_code) {\n",
       "                             nbb_cells[i].set_text(nbb_formatted_code);\n",
       "                        }\n",
       "                        break;\n",
       "                    }\n",
       "                }\n",
       "            }, 500);\n",
       "            "
      ],
      "text/plain": [
       "<IPython.core.display.Javascript object>"
      ]
     },
     "metadata": {},
     "output_type": "display_data"
    }
   ],
   "source": [
    "# What is the sum of all numbers in the array that have a remainder of 4 when divided by 6?\n",
    "\n",
    "\n",
    "def sum_r4_d6(arr):\n",
    "    res = 0\n",
    "    for i in arr:\n",
    "        if i % 6 == 4:\n",
    "            res += i\n",
    "\n",
    "    return res"
   ]
  },
  {
   "cell_type": "code",
   "execution_count": 17,
   "metadata": {
    "ExecuteTime": {
     "end_time": "2020-03-20T04:29:05.857658Z",
     "start_time": "2020-03-20T04:29:05.834602Z"
    }
   },
   "outputs": [
    {
     "data": {
      "text/plain": [
       "60"
      ]
     },
     "execution_count": 17,
     "metadata": {},
     "output_type": "execute_result"
    },
    {
     "data": {
      "application/javascript": [
       "\n",
       "            setTimeout(function() {\n",
       "                var nbb_cell_id = 17;\n",
       "                var nbb_unformatted_code = \"my_list = [\\n    1,\\n    28,\\n    12,\\n    31,\\n    11,\\n    5,\\n    4,\\n    30,\\n    30,\\n    8,\\n    9,\\n    39,\\n    2,\\n    5,\\n    33,\\n    33,\\n    37,\\n    5,\\n    12,\\n    27,\\n    23,\\n    39,\\n    1,\\n    36,\\n    28,\\n    33,\\n    24,\\n    5,\\n    27,\\n    36,\\n]\\nsum_r4_d6(my_list)\";\n",
       "                var nbb_formatted_code = \"my_list = [\\n    1,\\n    28,\\n    12,\\n    31,\\n    11,\\n    5,\\n    4,\\n    30,\\n    30,\\n    8,\\n    9,\\n    39,\\n    2,\\n    5,\\n    33,\\n    33,\\n    37,\\n    5,\\n    12,\\n    27,\\n    23,\\n    39,\\n    1,\\n    36,\\n    28,\\n    33,\\n    24,\\n    5,\\n    27,\\n    36,\\n]\\nsum_r4_d6(my_list)\";\n",
       "                var nbb_cells = Jupyter.notebook.get_cells();\n",
       "                for (var i = 0; i < nbb_cells.length; ++i) {\n",
       "                    if (nbb_cells[i].input_prompt_number == nbb_cell_id) {\n",
       "                        if (nbb_cells[i].get_text() == nbb_unformatted_code) {\n",
       "                             nbb_cells[i].set_text(nbb_formatted_code);\n",
       "                        }\n",
       "                        break;\n",
       "                    }\n",
       "                }\n",
       "            }, 500);\n",
       "            "
      ],
      "text/plain": [
       "<IPython.core.display.Javascript object>"
      ]
     },
     "metadata": {},
     "output_type": "display_data"
    }
   ],
   "source": [
    "my_list = [\n",
    "    1,\n",
    "    28,\n",
    "    12,\n",
    "    31,\n",
    "    11,\n",
    "    5,\n",
    "    4,\n",
    "    30,\n",
    "    30,\n",
    "    8,\n",
    "    9,\n",
    "    39,\n",
    "    2,\n",
    "    5,\n",
    "    33,\n",
    "    33,\n",
    "    37,\n",
    "    5,\n",
    "    12,\n",
    "    27,\n",
    "    23,\n",
    "    39,\n",
    "    1,\n",
    "    36,\n",
    "    28,\n",
    "    33,\n",
    "    24,\n",
    "    5,\n",
    "    27,\n",
    "    36,\n",
    "]\n",
    "sum_r4_d6(my_list)"
   ]
  },
  {
   "cell_type": "code",
   "execution_count": null,
   "metadata": {},
   "outputs": [],
   "source": []
  }
 ],
 "metadata": {
  "kernelspec": {
   "display_name": "Python 3",
   "language": "python",
   "name": "python3"
  },
  "language_info": {
   "codemirror_mode": {
    "name": "ipython",
    "version": 3
   },
   "file_extension": ".py",
   "mimetype": "text/x-python",
   "name": "python",
   "nbconvert_exporter": "python",
   "pygments_lexer": "ipython3",
   "version": "3.6.9"
  },
  "toc": {
   "base_numbering": 1,
   "nav_menu": {},
   "number_sections": true,
   "sideBar": true,
   "skip_h1_title": false,
   "title_cell": "Table of Contents",
   "title_sidebar": "Contents",
   "toc_cell": false,
   "toc_position": {
    "height": "calc(100% - 180px)",
    "left": "10px",
    "top": "150px",
    "width": "271.767px"
   },
   "toc_section_display": "block",
   "toc_window_display": true
  },
  "varInspector": {
   "cols": {
    "lenName": 16,
    "lenType": 16,
    "lenVar": 40
   },
   "kernels_config": {
    "python": {
     "delete_cmd_postfix": "",
     "delete_cmd_prefix": "del ",
     "library": "var_list.py",
     "varRefreshCmd": "print(var_dic_list())"
    },
    "r": {
     "delete_cmd_postfix": ") ",
     "delete_cmd_prefix": "rm(",
     "library": "var_list.r",
     "varRefreshCmd": "cat(var_dic_list()) "
    }
   },
   "types_to_exclude": [
    "module",
    "function",
    "builtin_function_or_method",
    "instance",
    "_Feature"
   ],
   "window_display": false
  }
 },
 "nbformat": 4,
 "nbformat_minor": 2
}
