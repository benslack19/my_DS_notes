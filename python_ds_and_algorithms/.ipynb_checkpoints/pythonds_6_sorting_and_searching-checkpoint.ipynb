{
 "cells": [
  {
   "cell_type": "markdown",
   "metadata": {},
   "source": [
    "**Python algorithms**\n",
    "\n",
    "Resources:\n",
    "\n",
    " - [MIT Introduction to Algorithms](https://ocw.mit.edu/courses/electrical-engineering-and-computer-science/6-046j-introduction-to-algorithms-sma-5503-fall-2005/)\n",
    " - [PDF notes from MIT class](https://ocw.mit.edu/courses/electrical-engineering-and-computer-science/6-046j-introduction-to-algorithms-sma-5503-fall-2005/video-lectures/lecture-1-administrivia-introduction-analysis-of-algorithms-insertion-sort-mergesort/lec1.pdf)\n",
    " - [Runestone course (notes below follow this course)](https://runestone.academy/runestone/books/published/pythonds/Introduction/GettingStartedwithData.html)\n",
    " \n",
    "- Objective is to cover this in 6 weeks (Nov 3 - Dec 22, account for Thanksgiving)\n",
    "- There are 112 subsections in sections 1-7:\n",
    "    - Cover 19 sections per week or about 4 per day (M-F)\n",
    "    - Move quickly through sections 1-2 (try to do 6 per day)\n",
    "    - Generally prioritize sections 3-7\n",
    "- Only included subsections where notes are needed\n",
    "\n",
    "Goals:\n",
    "- By week 1 (11/8): finish sections 1 and 2\n",
    "- By week 2 (11/15): finish section 3\n",
    "- By week 3 (11/22): finish half of section 4\n",
    "- By week 4 (11/29): finish section 4\n",
    "- By week 5 (12/6): finish section 5\n",
    "- By week 6 (12/13): finish section 6, start section 7\n",
    "- By week 7 (12/20): finish section 7\n",
    "\n",
    "Log:\n",
    "\n",
    "- 11/6/19: halfway through section 1.13\n",
    "- 11/12/19: finished going quickly through everything then starting over in detail, focusing on what Insight prioritizes\n",
    "\n",
    "\n",
    "Insight advice:\n",
    "\n",
    "*Action Item: Code the examples in Problem Solving with Algorithms and Data Structures in Python. In particular, become familiar with:\n",
    "- stacks\n",
    "- queues\n",
    "- linked lists\n",
    "- merge sort\n",
    "- quick sort\n",
    "- searching and hashing\n",
    "\n",
    "If you prefer to learn by watching lectures, check out the MIT Introduction to Algorithms course. Bonus: For each algorithm or data structure you learn about, try to program it from scratch in Python, from memory. Many Fellows have also found Leetcode to also be useful in the interview prep for their CS section.*"
   ]
  },
  {
   "cell_type": "markdown",
   "metadata": {},
   "source": [
    "# Objectives"
   ]
  },
  {
   "cell_type": "markdown",
   "metadata": {
    "ExecuteTime": {
     "end_time": "2020-03-12T21:15:27.436825Z",
     "start_time": "2020-03-12T21:15:27.425999Z"
    }
   },
   "source": [
    "- To be able to explain and implement sequential search and binary search.\n",
    "- To be able to explain and implement selection sort, bubble sort, merge sort, quick sort, insertion sort, and shell sort.\n",
    "- To understand the idea of hashing as a search technique.\n",
    "- To introduce the map abstract data type.\n",
    "- To implement the map abstract data type using hashing."
   ]
  },
  {
   "cell_type": "markdown",
   "metadata": {},
   "source": [
    "# Searching\n",
    "\n",
    "- We will now turn our attention to some of the most common problems that arise in computing, those of searching and sorting. In this section we will study searching.\n",
    "- In Python, there is a very easy way to ask whether an item is in a list of items. We use the in operator.\n",
    "- Even though this is easy to write, an underlying process must be carried out to answer the question. It turns out that there are many different ways to search for the item. What we are interested in here is how these algorithms work and how they compare to one another.\n"
   ]
  },
  {
   "cell_type": "markdown",
   "metadata": {
    "ExecuteTime": {
     "end_time": "2020-03-12T21:17:17.631311Z",
     "start_time": "2020-03-12T21:17:17.628076Z"
    }
   },
   "source": [
    "# The Sequential Search\n",
    "\n",
    "When data items are stored in a collection such as a list, we say that they have a linear or sequential relationship. Each data item is stored in a position relative to the others. In Python lists, these relative positions are the index values of the individual items. Since these index values are ordered, it is possible for us to visit them in sequence. This process gives rise to our first searching technique, the sequential search.\n",
    "\n",
    "Figure 1 shows how this search works. Starting at the first item in the list, we simply move from item to item, following the underlying sequential ordering until we either find what we are looking for or run out of items. If we run out of items, we have discovered that the item we were searching for was not present."
   ]
  },
  {
   "cell_type": "code",
   "execution_count": 4,
   "metadata": {
    "ExecuteTime": {
     "end_time": "2020-03-12T21:28:16.788106Z",
     "start_time": "2020-03-12T21:28:16.783582Z"
    }
   },
   "outputs": [],
   "source": [
    "# My attempt at coding this function - think it was okay\n",
    "def sequentialSearch(array, n):\n",
    "    \n",
    "    cur = 0\n",
    "    \n",
    "    while cur < len(array):\n",
    "        if array[cur]==n:\n",
    "            return True\n",
    "        else:\n",
    "            cur += 1\n",
    "    \n",
    "    return False"
   ]
  },
  {
   "cell_type": "code",
   "execution_count": 8,
   "metadata": {
    "ExecuteTime": {
     "end_time": "2020-03-12T21:28:38.307044Z",
     "start_time": "2020-03-12T21:28:38.301131Z"
    }
   },
   "outputs": [
    {
     "data": {
      "text/plain": [
       "True"
      ]
     },
     "execution_count": 8,
     "metadata": {},
     "output_type": "execute_result"
    }
   ],
   "source": [
    "arr = [0,4,5,6,7]\n",
    "number = 7\n",
    "sequentialSearch(arr, number)"
   ]
  },
  {
   "cell_type": "code",
   "execution_count": 10,
   "metadata": {
    "ExecuteTime": {
     "end_time": "2020-03-12T21:29:35.135165Z",
     "start_time": "2020-03-12T21:29:35.127884Z"
    }
   },
   "outputs": [
    {
     "data": {
      "text/plain": [
       "False"
      ]
     },
     "execution_count": 10,
     "metadata": {},
     "output_type": "execute_result"
    }
   ],
   "source": [
    "arr = [1, 2, 32, 8, 17, 19, 42, 13, 0]\n",
    "number = 3\n",
    "sequentialSearch(arr, number)"
   ]
  },
  {
   "cell_type": "code",
   "execution_count": 11,
   "metadata": {
    "ExecuteTime": {
     "end_time": "2020-03-12T21:29:48.846440Z",
     "start_time": "2020-03-12T21:29:48.838525Z"
    }
   },
   "outputs": [
    {
     "data": {
      "text/plain": [
       "True"
      ]
     },
     "execution_count": 11,
     "metadata": {},
     "output_type": "execute_result"
    }
   ],
   "source": [
    "arr = [1, 2, 32, 8, 17, 19, 42, 13, 0]\n",
    "number = 13\n",
    "sequentialSearch(arr, number)"
   ]
  },
  {
   "cell_type": "markdown",
   "metadata": {},
   "source": [
    "## Analysis of sequential search"
   ]
  },
  {
   "cell_type": "markdown",
   "metadata": {},
   "source": [
    "If the array remains randomly ordered and if the item that is *not* present in the list, then the search would go to the end. But by sorting the array ahead of time, there can be some computational savings. E.g. once the numbers you have iterated through pass the target, you can have the algorithm stop.\n"
   ]
  },
  {
   "cell_type": "markdown",
   "metadata": {},
   "source": [
    "# Binary search\n",
    "Instead of searching the list in sequence, a binary search will start by examining the middle item. If that item is the one we are searching for, we are done. If it is not the correct item, we can use the ordered nature of the list to eliminate half of the remaining items. If the item we are searching for is greater than the middle item, we know that the entire lower half of the list as well as the middle item can be eliminated from further consideration. The item, if it is in the list, must be in the upper half."
   ]
  },
  {
   "cell_type": "code",
   "execution_count": null,
   "metadata": {},
   "outputs": [],
   "source": [
    "# My attempt at coding this function - \n",
    "def binarySearch(sorted_array, n):\n",
    "    \n",
    "    # Left and right\n",
    "    left = 0\n",
    "    right = len(sorted_array)\n",
    "    \n",
    "    \n",
    "    # Start checking\n",
    "    while (left < right) > 2:\n",
    "    \n",
    "        # Look at the middle and see if it's equal\n",
    "        mid = (right+left)//2\n",
    "        if sorted_array[mid]==n:\n",
    "            return True\n",
    "    \n",
    "        # If the midpoint value is less than the target\n",
    "        # then re-assign the right most index to mid and repeat\n",
    "        if (sorted_array[mid] < n):\n",
    "            right = mid\n",
    "        \n",
    "            # If the value is greater than the target\n",
    "            # then re-assign the right most index to mid and repeat\n",
    "            elif (sorted_array[mid] > n):\n",
    "                right = mid\n",
    "\n",
    "    \n",
    "    # Look at lower half\n",
    "    \n",
    "    \n",
    "    # Look at upper half\n",
    "\n",
    "#     while cur < len(array):\n",
    "#         # Look at the middle\n",
    "#         if array[cur]==n:\n",
    "#             return True\n",
    "#         else:\n",
    "#             cur += 1\n",
    "    \n",
    "    "
   ]
  },
  {
   "cell_type": "markdown",
   "metadata": {},
   "source": [
    "# Bubble sort"
   ]
  },
  {
   "cell_type": "code",
   "execution_count": null,
   "metadata": {},
   "outputs": [],
   "source": [
    "arr = [2,0,3,1]"
   ]
  }
 ],
 "metadata": {
  "kernelspec": {
   "display_name": "Python 3",
   "language": "python",
   "name": "python3"
  },
  "language_info": {
   "codemirror_mode": {
    "name": "ipython",
    "version": 3
   },
   "file_extension": ".py",
   "mimetype": "text/x-python",
   "name": "python",
   "nbconvert_exporter": "python",
   "pygments_lexer": "ipython3",
   "version": "3.6.9"
  },
  "toc": {
   "base_numbering": 1,
   "nav_menu": {},
   "number_sections": true,
   "sideBar": true,
   "skip_h1_title": false,
   "title_cell": "Table of Contents",
   "title_sidebar": "Contents",
   "toc_cell": false,
   "toc_position": {},
   "toc_section_display": "block",
   "toc_window_display": true
  },
  "varInspector": {
   "cols": {
    "lenName": 16,
    "lenType": 16,
    "lenVar": 40
   },
   "kernels_config": {
    "python": {
     "delete_cmd_postfix": "",
     "delete_cmd_prefix": "del ",
     "library": "var_list.py",
     "varRefreshCmd": "print(var_dic_list())"
    },
    "r": {
     "delete_cmd_postfix": ") ",
     "delete_cmd_prefix": "rm(",
     "library": "var_list.r",
     "varRefreshCmd": "cat(var_dic_list()) "
    }
   },
   "types_to_exclude": [
    "module",
    "function",
    "builtin_function_or_method",
    "instance",
    "_Feature"
   ],
   "window_display": false
  }
 },
 "nbformat": 4,
 "nbformat_minor": 2
}
