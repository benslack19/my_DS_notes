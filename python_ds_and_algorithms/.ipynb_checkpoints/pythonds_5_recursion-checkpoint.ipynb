{
 "cells": [
  {
   "cell_type": "markdown",
   "metadata": {},
   "source": [
    "**Recursion**\n",
    "\n",
    "From [Runestone course](https://runestone.academy/runestone/books/published/pythonds/Introduction/GettingStartedwithData.html)\n",
    "\n",
    "For each algorithm or data structure you learn about, try to program it from scratch in Python, from memory."
   ]
  },
  {
   "cell_type": "markdown",
   "metadata": {},
   "source": [
    "# Objectives"
   ]
  },
  {
   "cell_type": "markdown",
   "metadata": {
    "ExecuteTime": {
     "end_time": "2020-03-12T21:15:27.436825Z",
     "start_time": "2020-03-12T21:15:27.425999Z"
    }
   },
   "source": [
    "- To understand that complex problems that may otherwise be difficult to solve may have a simple recursive solution.\n",
    "- To learn how to formulate programs recursively.\n",
    "- To understand and apply the three laws of recursion.\n",
    "- To understand recursion as a form of iteration.\n",
    "- To implement the recursive formulation of a problem.\n",
    "- To understand how recursion is implemented by a computer system."
   ]
  },
  {
   "cell_type": "markdown",
   "metadata": {},
   "source": [
    "# What is recursion?\n",
    "\n",
    "- A problem solving method that involves breaking a problem down into smaller and smaller subproblems until it gets small enough to be solved trivially\n",
    "- It usually involves a function calling itself\n",
    "- It allows us to write elegant solutions to problems that may otherwise be difficult to program\n"
   ]
  },
  {
   "cell_type": "markdown",
   "metadata": {},
   "source": [
    "# Calculating the sum of a list of numbers"
   ]
  },
  {
   "cell_type": "markdown",
   "metadata": {},
   "source": [
    "Here's a problem that can be solved without recursion."
   ]
  },
  {
   "cell_type": "code",
   "execution_count": 1,
   "metadata": {
    "ExecuteTime": {
     "end_time": "2020-04-29T22:07:30.442355Z",
     "start_time": "2020-04-29T22:07:30.425830Z"
    }
   },
   "outputs": [
    {
     "name": "stdout",
     "output_type": "stream",
     "text": [
      "25\n"
     ]
    }
   ],
   "source": [
    "def listsum(numList):\n",
    "    theSum = 0\n",
    "    for i in numList:\n",
    "        theSum = theSum + i\n",
    "    return theSum\n",
    "\n",
    "print(listsum([1,3,5,7,9]))"
   ]
  },
  {
   "cell_type": "markdown",
   "metadata": {},
   "source": [
    "Imagine that we could not use while or for loops.\n",
    "\n",
    "A simple way to think of it is to first think that addition is just a pair of numbers. We can think of the problem as a series of nested addition calls, as indicated by the parentheses. \n",
    "\n",
    "((((1+3)+5)+7)+9)\n",
    "or\n",
    "(1+(3+(5+(7+9))))\n"
   ]
  },
  {
   "cell_type": "code",
   "execution_count": 2,
   "metadata": {
    "ExecuteTime": {
     "end_time": "2020-04-29T22:37:17.253880Z",
     "start_time": "2020-04-29T22:37:17.223666Z"
    }
   },
   "outputs": [],
   "source": [
    "def listsum(numList):\n",
    "    \n",
    "    # Base case - addition is sum of 2 numbers\n",
    "    if len(numList)==2:\n",
    "        return numList[0] + numList[1]\n",
    "    else:\n",
    "        return numList[0] + listsum(numList[1:])"
   ]
  },
  {
   "cell_type": "code",
   "execution_count": 3,
   "metadata": {
    "ExecuteTime": {
     "end_time": "2020-04-29T22:37:43.060455Z",
     "start_time": "2020-04-29T22:37:42.988317Z"
    }
   },
   "outputs": [
    {
     "data": {
      "text/plain": [
       "25"
      ]
     },
     "execution_count": 3,
     "metadata": {},
     "output_type": "execute_result"
    }
   ],
   "source": [
    "my_numList = [1,3,5,7,9]\n",
    "\n",
    "listsum(my_numList)"
   ]
  },
  {
   "cell_type": "code",
   "execution_count": 4,
   "metadata": {
    "ExecuteTime": {
     "end_time": "2020-04-29T22:39:08.920310Z",
     "start_time": "2020-04-29T22:39:08.912649Z"
    }
   },
   "outputs": [
    {
     "name": "stdout",
     "output_type": "stream",
     "text": [
      "25\n"
     ]
    }
   ],
   "source": [
    "# Note tutorial solution made the base case as having only one element remaining\n",
    "# but we arrive at the same number\n",
    "\n",
    "def listsum(numList):\n",
    "    if len(numList) == 1:\n",
    "        return numList[0]\n",
    "    else:\n",
    "        return numList[0] + listsum(numList[1:])\n",
    "\n",
    "print(listsum([1,3,5,7,9]))\n"
   ]
  },
  {
   "cell_type": "markdown",
   "metadata": {},
   "source": [
    "# The three laws of recursion\n",
    "\n",
    "1. A recursive algorithm must have a base case.\n",
    "2. A recursive algorithm must change its state and move toward the base case.\n",
    "3. A recursive algorithm must call itself, recursively."
   ]
  },
  {
   "cell_type": "markdown",
   "metadata": {},
   "source": [
    "A **base case** is the condition that allows the algorithm to stop recursing. A base case is typically a problem that is small enough to solve directly.\n",
    "\n",
    "To obey the second law, we must **arrange for a change of state that moves the algorithm toward the base case**. A change of state means that some data that the algorithm is using is modified. **Usually the data that represents our problem gets smaller** in some way (e.g. shortening the list).\n",
    "\n",
    "The final law is that **the algorithm must call itself**. This is the very definition of recursion. When we talk about recursion it may seem that we are talking ourselves in circles. We have a problem to solve with a function, but that function solves the problem by calling itself. *Let the algorithm do the work.*\n",
    "\n"
   ]
  },
  {
   "cell_type": "markdown",
   "metadata": {},
   "source": [
    "# Converting an integer to a string in any base"
   ]
  },
  {
   "cell_type": "markdown",
   "metadata": {},
   "source": [
    "Let's suppose that we want to convert an integer into a string in some base between binary and hexadecimal. For example, the integer 10 would be \"10\" in decimal or \"1010\" in binary. (Of course, assume we can't simply call str(10)).\n",
    "\n",
    "This problem can be approached in different ways, including as a stack, but the recursive formulation of the problem is very elegant. Suppose we're looking to convert the number 769 in base 10.\n",
    "\n",
    "We can use a sequence of characters corresponding to the first 10 digits by using it as a lookup string, such as `convertString = \"0123456789\"`. For example, if the number is 9, then you can convert it into a string with `convString[9]`. A number less than 10 sounds like a good **base case**.\n",
    "\n",
    "Knowing the base case suggests that the algorithm will involve three components.\n",
    "1. Reduce the original number to a series of single-digit numbers.\n",
    "2. Convert the single digit-number to a string using a lookup.\n",
    "3. Concatenate the single-digit strings together to form the final result.\n",
    "\n",
    "**What strategy can we employ to change the state?** Reducing the number can be by subtraction or division, but division by the base we are trying to convert to seems like it would be a better approach. If we take 769 divided by 10, we would get 76 remainder 9. Both of these values can be useful. We can use the remainder (9) as our single digit to convert into a string and then we can take the 76 and enter that into the recursive function.\n"
   ]
  },
  {
   "attachments": {
    "5.5_fig3.png": {
     "image/png": "[encoded data removed]"
    }
   },
   "cell_type": "markdown",
   "metadata": {},
   "source": [
    "![5.5_fig3.png](attachment:5.5_fig3.png)"
   ]
  },
  {
   "cell_type": "code",
   "execution_count": 4,
   "metadata": {
    "ExecuteTime": {
     "end_time": "2020-04-30T00:47:32.847140Z",
     "start_time": "2020-04-30T00:47:32.841828Z"
    }
   },
   "outputs": [],
   "source": [
    "def toStr(n, base):\n",
    "    convertString = \"0123456789\"\n",
    "    new_n = n // base  # floor division\n",
    "    r = n % base\n",
    "    \n",
    "    # Base case\n",
    "    if n < base:\n",
    "        return convertString[n]\n",
    "    \n",
    "    else:\n",
    "        return toStr(new_n, base) + convertString[r]"
   ]
  },
  {
   "cell_type": "code",
   "execution_count": 2,
   "metadata": {
    "ExecuteTime": {
     "end_time": "2020-04-30T00:47:24.503372Z",
     "start_time": "2020-04-30T00:47:24.482700Z"
    }
   },
   "outputs": [
    {
     "data": {
      "text/plain": [
       "'769'"
      ]
     },
     "execution_count": 2,
     "metadata": {},
     "output_type": "execute_result"
    }
   ],
   "source": [
    "toStr(769,10)"
   ]
  },
  {
   "cell_type": "code",
   "execution_count": 8,
   "metadata": {
    "ExecuteTime": {
     "end_time": "2020-04-30T00:48:21.194511Z",
     "start_time": "2020-04-30T00:48:21.188794Z"
    }
   },
   "outputs": [
    {
     "name": "stdout",
     "output_type": "stream",
     "text": [
      "10\n",
      "1010\n"
     ]
    }
   ],
   "source": [
    "print(toStr(10,10))\n",
    "print(toStr(10,2))"
   ]
  },
  {
   "cell_type": "markdown",
   "metadata": {},
   "source": [
    "Note that we make the recursive call first on line 6, then we add the string representation of the remainder. **By delaying the concatenation operation until after the recursive call has returned, we get the result in the proper order. This should remind you of our discussion of stacks back in the previous chapter.**"
   ]
  },
  {
   "cell_type": "markdown",
   "metadata": {},
   "source": [
    "## (?) Exercise: Reverse string (didn't do this)\n",
    "\n",
    "Write a function that takes a string as a parameter and returns a new string that is the reverse of the old string."
   ]
  },
  {
   "cell_type": "code",
   "execution_count": null,
   "metadata": {},
   "outputs": [],
   "source": []
  },
  {
   "cell_type": "code",
   "execution_count": null,
   "metadata": {},
   "outputs": [],
   "source": []
  },
  {
   "cell_type": "code",
   "execution_count": null,
   "metadata": {},
   "outputs": [],
   "source": []
  },
  {
   "cell_type": "markdown",
   "metadata": {},
   "source": [
    "## Exercise: Palindrome"
   ]
  },
  {
   "cell_type": "markdown",
   "metadata": {},
   "source": [
    "**Exercise:** Write a function that takes a string as a parameter and returns True if the string is a palindrome, False otherwise. Remember that a string is a palindrome if it is spelled the same both forward and backward. \n",
    "\n",
    "For bonus points, palindromes can also be phrases, but you need to remove the spaces and punctuation before checking"
   ]
  },
  {
   "cell_type": "code",
   "execution_count": 75,
   "metadata": {
    "ExecuteTime": {
     "end_time": "2020-04-30T01:31:37.996423Z",
     "start_time": "2020-04-30T01:31:37.989103Z"
    }
   },
   "outputs": [],
   "source": [
    "def isPalindrome(string):\n",
    "    \n",
    "    # Edits to string to accomodate phrases, capitalization, spaces, etc.\n",
    "    import re\n",
    "    string = string.lower()\n",
    "    # Replace everything that isn't a letter\n",
    "    string = re.sub('[^a-z]', '', string)\n",
    "    \n",
    "    # Base cases\n",
    "    \n",
    "    # If the original string has a length that is an odd number\n",
    "    if len(string)==1:\n",
    "        return True\n",
    "    # If the original string has a length that is an even number\n",
    "    if (len(string)==2) & (string[0]==string[1]):\n",
    "        return True\n",
    "    else:\n",
    "        #print(string)\n",
    "        if string[0]==string[-1]:\n",
    "            return isPalindrome(string[1:-1])\n",
    "        else:\n",
    "            return False"
   ]
  },
  {
   "cell_type": "code",
   "execution_count": 76,
   "metadata": {
    "ExecuteTime": {
     "end_time": "2020-04-30T01:31:40.890604Z",
     "start_time": "2020-04-30T01:31:40.883878Z"
    }
   },
   "outputs": [
    {
     "data": {
      "text/plain": [
       "True"
      ]
     },
     "execution_count": 76,
     "metadata": {},
     "output_type": "execute_result"
    }
   ],
   "source": [
    "isPalindrome('radar')"
   ]
  },
  {
   "cell_type": "code",
   "execution_count": 77,
   "metadata": {
    "ExecuteTime": {
     "end_time": "2020-04-30T01:31:41.405346Z",
     "start_time": "2020-04-30T01:31:41.399464Z"
    }
   },
   "outputs": [
    {
     "data": {
      "text/plain": [
       "True"
      ]
     },
     "execution_count": 77,
     "metadata": {},
     "output_type": "execute_result"
    }
   ],
   "source": [
    "isPalindrome('kayak')"
   ]
  },
  {
   "cell_type": "code",
   "execution_count": 78,
   "metadata": {
    "ExecuteTime": {
     "end_time": "2020-04-30T01:31:41.902729Z",
     "start_time": "2020-04-30T01:31:41.897521Z"
    }
   },
   "outputs": [
    {
     "data": {
      "text/plain": [
       "True"
      ]
     },
     "execution_count": 78,
     "metadata": {},
     "output_type": "execute_result"
    }
   ],
   "source": [
    "isPalindrome('aibohphobia')"
   ]
  },
  {
   "cell_type": "code",
   "execution_count": 79,
   "metadata": {
    "ExecuteTime": {
     "end_time": "2020-04-30T01:31:42.365452Z",
     "start_time": "2020-04-30T01:31:42.358429Z"
    }
   },
   "outputs": [
    {
     "data": {
      "text/plain": [
       "True"
      ]
     },
     "execution_count": 79,
     "metadata": {},
     "output_type": "execute_result"
    }
   ],
   "source": [
    "isPalindrome('Aib ohph ?obia')"
   ]
  },
  {
   "cell_type": "code",
   "execution_count": 80,
   "metadata": {
    "ExecuteTime": {
     "end_time": "2020-04-30T01:31:43.140434Z",
     "start_time": "2020-04-30T01:31:43.134624Z"
    }
   },
   "outputs": [
    {
     "data": {
      "text/plain": [
       "True"
      ]
     },
     "execution_count": 80,
     "metadata": {},
     "output_type": "execute_result"
    }
   ],
   "source": [
    "isPalindrome('Aib ohph ?obia')"
   ]
  },
  {
   "cell_type": "code",
   "execution_count": 82,
   "metadata": {
    "ExecuteTime": {
     "end_time": "2020-04-30T01:32:10.804120Z",
     "start_time": "2020-04-30T01:32:10.798128Z"
    }
   },
   "outputs": [
    {
     "data": {
      "text/plain": [
       "True"
      ]
     },
     "execution_count": 82,
     "metadata": {},
     "output_type": "execute_result"
    }
   ],
   "source": [
    "isPalindrome(\"madam i’m adam\")"
   ]
  },
  {
   "cell_type": "code",
   "execution_count": 81,
   "metadata": {
    "ExecuteTime": {
     "end_time": "2020-04-30T01:31:47.859376Z",
     "start_time": "2020-04-30T01:31:47.853793Z"
    }
   },
   "outputs": [
    {
     "data": {
      "text/plain": [
       "True"
      ]
     },
     "execution_count": 81,
     "metadata": {},
     "output_type": "execute_result"
    }
   ],
   "source": [
    "isPalindrome('Go hang a salami; I’m a lasagna hog')"
   ]
  },
  {
   "cell_type": "markdown",
   "metadata": {
    "ExecuteTime": {
     "end_time": "2020-04-30T01:27:25.881725Z",
     "start_time": "2020-04-30T01:27:25.878840Z"
    }
   },
   "source": [
    "### Testing"
   ]
  },
  {
   "cell_type": "code",
   "execution_count": 70,
   "metadata": {
    "ExecuteTime": {
     "end_time": "2020-04-30T01:29:20.191605Z",
     "start_time": "2020-04-30T01:29:20.183888Z"
    }
   },
   "outputs": [
    {
     "data": {
      "text/plain": [
       "'gohangasalamiimalasagnahog'"
      ]
     },
     "execution_count": 70,
     "metadata": {},
     "output_type": "execute_result"
    }
   ],
   "source": [
    "my_string = 'Go hang a salami; I’m a lasagna hog'\n",
    "my_string = my_string.lower()\n",
    "re.sub('[^a-z]', '', my_string)"
   ]
  },
  {
   "cell_type": "code",
   "execution_count": 63,
   "metadata": {
    "ExecuteTime": {
     "end_time": "2020-04-30T01:27:29.500953Z",
     "start_time": "2020-04-30T01:27:29.496634Z"
    }
   },
   "outputs": [
    {
     "name": "stdout",
     "output_type": "stream",
     "text": [
      "aib ohph ?obia\n"
     ]
    }
   ],
   "source": [
    "my_string = my_string.lower()\n",
    "print(my_string)\n",
    "#.replace(['a:z'],'')"
   ]
  },
  {
   "cell_type": "code",
   "execution_count": 64,
   "metadata": {
    "ExecuteTime": {
     "end_time": "2020-04-30T01:27:30.134956Z",
     "start_time": "2020-04-30T01:27:30.128627Z"
    }
   },
   "outputs": [
    {
     "data": {
      "text/plain": [
       "'aib ohph ?obia'"
      ]
     },
     "execution_count": 64,
     "metadata": {},
     "output_type": "execute_result"
    }
   ],
   "source": [
    "my_string"
   ]
  },
  {
   "cell_type": "code",
   "execution_count": 65,
   "metadata": {
    "ExecuteTime": {
     "end_time": "2020-04-30T01:27:31.114993Z",
     "start_time": "2020-04-30T01:27:31.109029Z"
    }
   },
   "outputs": [
    {
     "data": {
      "text/plain": [
       "'ibohphobia'"
      ]
     },
     "execution_count": 65,
     "metadata": {},
     "output_type": "execute_result"
    }
   ],
   "source": [
    "import re\n",
    "my_string = 'Aib ohph ?obia'\n",
    "re.sub('[^a-z]', '', my_string)"
   ]
  },
  {
   "cell_type": "code",
   "execution_count": null,
   "metadata": {},
   "outputs": [],
   "source": []
  },
  {
   "cell_type": "markdown",
   "metadata": {},
   "source": [
    "# (?) Stack Frames: Implementing Recursion\n",
    "\n",
    "Suppose that instead of concatenating the result of the recursive call to toStr with the string from convertString, we modified our algorithm to push the strings onto a stack instead of making the recursive call. "
   ]
  },
  {
   "cell_type": "code",
   "execution_count": null,
   "metadata": {},
   "outputs": [],
   "source": []
  },
  {
   "cell_type": "code",
   "execution_count": null,
   "metadata": {},
   "outputs": [],
   "source": []
  },
  {
   "cell_type": "code",
   "execution_count": null,
   "metadata": {},
   "outputs": [],
   "source": []
  },
  {
   "cell_type": "markdown",
   "metadata": {},
   "source": [
    "# (?) Introduction: Visualizing Recursion\n",
    "\n",
    "(this kept crashing)\n",
    "\n",
    "In this section we will look at a couple of examples of using recursion to draw some interesting pictures. **As you watch these pictures take shape you will get some new insight into the recursive process that may be helpful in cementing your understanding of recursion.**\n",
    "\n",
    "The tool we will use for our illustrations is Python’s turtle graphics module called turtle. The turtle module is standard with all versions of Python and is very easy to use. The metaphor is quite simple. You can create a turtle and the turtle can move forward, backward, turn left, turn right, etc. The turtle can have its tail up or down. When the turtle’s tail is down and the turtle moves it draws a line as it moves. To increase the artistic value of the turtle you can change the width of the tail as well as the color of the ink the tail is dipped in.\n",
    "\n",
    "Here is a simple example to illustrate some turtle graphics basics. We will use the turtle module to draw a spiral recursively. ActiveCode 1 shows how it is done. After importing the turtle module we create a turtle. When the turtle is created it also creates a window for itself to draw in. Next we define the drawSpiral function. The base case for this simple function is when the length of the line we want to draw, as given by the len parameter, is reduced to zero or less. If the length of the line is longer than zero we instruct the turtle to go forward by len units and then turn right 90 degrees. The recursive step is when we call drawSpiral again with a reduced length. At the end of ActiveCode 1 you will notice that we call the function myWin.exitonclick(), this is a handy little method of the window that puts the turtle into a wait mode until you click inside the window, after which the program cleans up and exits."
   ]
  },
  {
   "cell_type": "code",
   "execution_count": 1,
   "metadata": {
    "ExecuteTime": {
     "end_time": "2020-05-01T15:50:14.920963Z",
     "start_time": "2020-05-01T15:50:09.862285Z"
    }
   },
   "outputs": [
    {
     "ename": "Terminator",
     "evalue": "",
     "output_type": "error",
     "traceback": [
      "\u001b[0;31m---------------------------------------------------------------------------\u001b[0m",
      "\u001b[0;31mTerminator\u001b[0m                                Traceback (most recent call last)",
      "\u001b[0;32m<ipython-input-1-d33f89883486>\u001b[0m in \u001b[0;36m<module>\u001b[0;34m\u001b[0m\n\u001b[1;32m     12\u001b[0m \u001b[0mdrawSpiral\u001b[0m\u001b[0;34m(\u001b[0m\u001b[0mmyTurtle\u001b[0m\u001b[0;34m,\u001b[0m\u001b[0;36m10\u001b[0m\u001b[0;34m)\u001b[0m\u001b[0;34m\u001b[0m\u001b[0;34m\u001b[0m\u001b[0m\n\u001b[1;32m     13\u001b[0m \u001b[0mmyWin\u001b[0m\u001b[0;34m.\u001b[0m\u001b[0mexitonclick\u001b[0m\u001b[0;34m(\u001b[0m\u001b[0;34m)\u001b[0m\u001b[0;34m\u001b[0m\u001b[0;34m\u001b[0m\u001b[0m\n\u001b[0;32m---> 14\u001b[0;31m \u001b[0mturtle\u001b[0m\u001b[0;34m.\u001b[0m\u001b[0mdone\u001b[0m\u001b[0;34m(\u001b[0m\u001b[0;34m)\u001b[0m \u001b[0;31m# added this to deal with the program freezing\u001b[0m\u001b[0;34m\u001b[0m\u001b[0;34m\u001b[0m\u001b[0m\n\u001b[0m",
      "\u001b[0;32m~/anaconda/envs/insight/lib/python3.6/turtle.py\u001b[0m in \u001b[0;36mmainloop\u001b[0;34m()\u001b[0m\n",
      "\u001b[0;31mTerminator\u001b[0m: "
     ]
    }
   ],
   "source": [
    "# # kept crashing\n",
    "# import turtle\n",
    "\n",
    "# myTurtle = turtle.Turtle()\n",
    "# myWin = turtle.Screen()\n",
    "\n",
    "# def drawSpiral(myTurtle, lineLen):\n",
    "#     if lineLen > 0:\n",
    "#         myTurtle.forward(lineLen)\n",
    "#         myTurtle.right(90)\n",
    "#         drawSpiral(myTurtle,lineLen-5)\n",
    "\n",
    "# drawSpiral(myTurtle,10)\n",
    "# myWin.exitonclick()\n",
    "# turtle.done() # added this to deal with the program freezing\n"
   ]
  },
  {
   "cell_type": "code",
   "execution_count": null,
   "metadata": {},
   "outputs": [],
   "source": []
  },
  {
   "cell_type": "code",
   "execution_count": null,
   "metadata": {},
   "outputs": [],
   "source": []
  },
  {
   "cell_type": "code",
   "execution_count": 10,
   "metadata": {
    "ExecuteTime": {
     "end_time": "2020-04-29T23:21:55.674966Z",
     "start_time": "2020-04-29T23:21:38.865110Z"
    }
   },
   "outputs": [],
   "source": [
    "import turtle\n",
    "\n",
    "def tree(branchLen,t):\n",
    "    if branchLen > 5:\n",
    "        t.forward(branchLen)\n",
    "        t.right(20)\n",
    "        tree(branchLen-15,t)\n",
    "        t.left(40)\n",
    "        tree(branchLen-15,t)\n",
    "        t.right(20)\n",
    "        t.backward(branchLen)\n",
    "\n",
    "def main():\n",
    "    t = turtle.Turtle()\n",
    "    myWin = turtle.Screen()\n",
    "    t.left(90)\n",
    "    t.up()\n",
    "    t.backward(100)\n",
    "    t.down()\n",
    "    t.color(\"green\")\n",
    "    tree(75,t)\n",
    "    myWin.exitonclick()\n",
    "\n",
    "main()\n"
   ]
  },
  {
   "cell_type": "code",
   "execution_count": null,
   "metadata": {},
   "outputs": [],
   "source": []
  },
  {
   "cell_type": "code",
   "execution_count": null,
   "metadata": {},
   "outputs": [],
   "source": []
  },
  {
   "cell_type": "markdown",
   "metadata": {},
   "source": [
    "# (?) Sierpinski triangle\n",
    "\n",
    "Depends on turtle so will just read.\n",
    "\n",
    "Another fractal that exhibits the property of self-similarity is the Sierpinski triangle. An example is shown in Figure 3. The Sierpinski triangle illustrates a three-way recursive algorithm. The procedure for drawing a Sierpinski triangle by hand is simple. Start with a single large triangle. Divide this large triangle into four new triangles by connecting the midpoint of each side. Ignoring the middle triangle that you just created, apply the same procedure to each of the three corner triangles. Each time you create a new set of triangles, you recursively apply this procedure to the three smaller corner triangles. You can continue to apply this procedure indefinitely if you have a sharp enough pencil. Before you continue reading, you may want to try drawing the Sierpinski triangle yourself, using the method described.\n",
    "\n",
    "Since we can continue to apply the algorithm indefinitely, what is the base case? **We will see that the base case is set arbitrarily as the number of times we want to divide the triangle into pieces.** Sometimes we call this number the “degree” of the fractal. "
   ]
  },
  {
   "cell_type": "code",
   "execution_count": null,
   "metadata": {},
   "outputs": [],
   "source": []
  },
  {
   "cell_type": "markdown",
   "metadata": {
    "ExecuteTime": {
     "end_time": "2020-05-01T14:57:21.386592Z",
     "start_time": "2020-05-01T14:57:21.351360Z"
    }
   },
   "source": [
    "# Complex recursive problems\n",
    "\n",
    "- These are problems that are hard to solve using an interative programming style but are very elegant and easy when using recursion.\n",
    "- Some problems might seem initially easy with recursion but is actually difficult."
   ]
  },
  {
   "cell_type": "code",
   "execution_count": null,
   "metadata": {},
   "outputs": [],
   "source": []
  },
  {
   "cell_type": "markdown",
   "metadata": {},
   "source": [
    "# (?) Tower of Hanoi\n",
    "\n",
    "\n",
    "Didn't fully get this.\n",
    "\n",
    "[link](https://runestone.academy/runestone/books/published/pythonds/Recursion/TowerofHanoi.html)\n",
    "\n",
    "The Tower of Hanoi puzzle was invented by the French mathematician Edouard Lucas in 1883. He was inspired by a legend that tells of a Hindu temple where the puzzle was presented to young priests. At the beginning of time, the priests were given three poles and a stack of 64 gold disks, each disk a little smaller than the one beneath it. Their assignment was to transfer all 64 disks from one of the three poles to another, with two important constraints. They could only move one disk at a time, and they could never place a larger disk on top of a smaller one. The priests worked very efficiently, day and night, moving one disk every second. When they finished their work, the legend said, the temple would crumble into dust and the world would vanish.\n",
    "\n",
    "[Khan Academy](https://www.khanacademy.org/computing/computer-science/algorithms/towers-of-hanoi/a/towers-of-hanoi)"
   ]
  },
  {
   "cell_type": "markdown",
   "metadata": {},
   "source": [
    "Here is a high-level outline of how to move a tower from the starting pole, to the goal pole, using an intermediate pole:\n",
    "\n",
    "1. Move a tower of height-1 to an intermediate pole, using the final pole.\n",
    "2. Move the remaining disk to the final pole.\n",
    "3. Move the tower of height-1 from the intermediate pole to the final pole using the original pole."
   ]
  },
  {
   "cell_type": "code",
   "execution_count": 5,
   "metadata": {
    "ExecuteTime": {
     "end_time": "2020-05-01T17:18:15.152695Z",
     "start_time": "2020-05-01T17:18:15.142898Z"
    }
   },
   "outputs": [
    {
     "name": "stdout",
     "output_type": "stream",
     "text": [
      "moving disk from A to B\n",
      "moving disk from A to C\n",
      "moving disk from B to C\n"
     ]
    }
   ],
   "source": [
    "# Runestone implementation\n",
    "\n",
    "def moveTower(height,fromPole, toPole, withPole):\n",
    "    if height >= 1:\n",
    "        moveTower(height-1,fromPole,withPole,toPole)\n",
    "        moveDisk(fromPole,toPole)\n",
    "        moveTower(height-1,withPole,toPole,fromPole)\n",
    "\n",
    "def moveDisk(fp,tp):\n",
    "    print(\"moving disk from\",fp,\"to\",tp)\n",
    "\n",
    "moveTower(2,\"A\",\"C\",\"B\")"
   ]
  },
  {
   "cell_type": "markdown",
   "metadata": {},
   "source": [
    "Assume we're moving one whole stack of height 3 from A to C.\n",
    "\n",
    "What is the base case? (n=1). Moving one disk from A (source) to C (destination).\n",
    "\n",
    "What if n=2? Need to use the intermediate pole.\n",
    "A to B, A to C, B to C.\n",
    "\n"
   ]
  },
  {
   "cell_type": "code",
   "execution_count": 41,
   "metadata": {
    "ExecuteTime": {
     "end_time": "2020-05-01T17:41:00.369892Z",
     "start_time": "2020-05-01T17:41:00.364922Z"
    }
   },
   "outputs": [],
   "source": [
    "# My implementation\n",
    "\n",
    "def move_tower(height, source, dest, interm):\n",
    "    \n",
    "    # Base case\n",
    "    if height==0:\n",
    "        print(\"Move from \", source, \"to\", dest)\n",
    "        \n",
    "    if height >= 1:\n",
    "        move_tower(height-1, source, interm, dest)   # This will move to the intermediate pole\n",
    "        #move_tower(height-1, source, dest, interm)   # Then this goes to the base case\n",
    "        move_tower(height-1, interm, dest, source)\n",
    "    \n",
    "    # no return needed"
   ]
  },
  {
   "cell_type": "code",
   "execution_count": 42,
   "metadata": {
    "ExecuteTime": {
     "end_time": "2020-05-01T17:41:01.173102Z",
     "start_time": "2020-05-01T17:41:01.168260Z"
    }
   },
   "outputs": [
    {
     "name": "stdout",
     "output_type": "stream",
     "text": [
      "Move from  A to B\n",
      "Move from  B to C\n"
     ]
    }
   ],
   "source": [
    "move_tower(1, \"A\", \"C\", \"B\")"
   ]
  },
  {
   "cell_type": "code",
   "execution_count": 43,
   "metadata": {
    "ExecuteTime": {
     "end_time": "2020-05-01T17:41:03.312971Z",
     "start_time": "2020-05-01T17:41:03.306296Z"
    }
   },
   "outputs": [
    {
     "name": "stdout",
     "output_type": "stream",
     "text": [
      "Move from  A to C\n",
      "Move from  C to B\n",
      "Move from  B to A\n",
      "Move from  A to C\n"
     ]
    }
   ],
   "source": [
    "move_tower(2, \"A\", \"C\", \"B\")"
   ]
  },
  {
   "cell_type": "code",
   "execution_count": 44,
   "metadata": {
    "ExecuteTime": {
     "end_time": "2020-05-01T17:41:09.111117Z",
     "start_time": "2020-05-01T17:41:09.099299Z"
    }
   },
   "outputs": [
    {
     "name": "stdout",
     "output_type": "stream",
     "text": [
      "Move from  A to B\n",
      "Move from  B to C\n",
      "Move from  C to A\n",
      "Move from  A to B\n",
      "Move from  B to C\n",
      "Move from  C to A\n",
      "Move from  A to B\n",
      "Move from  B to C\n"
     ]
    }
   ],
   "source": [
    "move_tower(3, \"A\", \"C\", \"B\")"
   ]
  },
  {
   "cell_type": "code",
   "execution_count": null,
   "metadata": {},
   "outputs": [],
   "source": []
  },
  {
   "cell_type": "markdown",
   "metadata": {
    "ExecuteTime": {
     "end_time": "2020-05-01T14:57:50.413824Z",
     "start_time": "2020-05-01T14:57:50.409768Z"
    }
   },
   "source": [
    "# Exploring a Maze"
   ]
  },
  {
   "cell_type": "code",
   "execution_count": null,
   "metadata": {},
   "outputs": [],
   "source": []
  },
  {
   "cell_type": "markdown",
   "metadata": {},
   "source": [
    "# Dynamic programming"
   ]
  },
  {
   "cell_type": "code",
   "execution_count": null,
   "metadata": {},
   "outputs": [],
   "source": []
  },
  {
   "cell_type": "code",
   "execution_count": null,
   "metadata": {},
   "outputs": [],
   "source": []
  },
  {
   "cell_type": "markdown",
   "metadata": {},
   "source": [
    "# Summary\n",
    "\n",
    "- All recursive algorithms must have a base case.\n",
    "- A recursive algorithm must change its state and make progress toward the base case.\n",
    "- A recursive algorithm must call itself (recursively).\n",
    "- Recursion can take the place of iteration in some cases.\n",
    "- Recursive algorithms often map very naturally to a formal expression of the problem you are trying to solve.\n",
    "- Recursion is not always the answer. Sometimes a recursive solution may be more computationally expensive than an alternative algorithm."
   ]
  },
  {
   "cell_type": "markdown",
   "metadata": {},
   "source": [
    "# Key terms\n",
    "\n",
    "- base case\n",
    "- decrypt\n",
    "- dynamic programming\n",
    "- recursion\n",
    "- recursive call\n",
    "- stack frame"
   ]
  },
  {
   "cell_type": "markdown",
   "metadata": {},
   "source": [
    "# Discussion questions\n",
    "\n",
    "1. Draw a call stack for the Tower of Hanoi problem. Assume that you start with a stack of three disks.\n",
    "2. Using the recursive rules as described, draw a Sierpinski triangle using paper and pencil.\n",
    "3. Using the dynamic programming algorithm for making change, find the smallest number of coins that you can use to make 33 cents in change. In addition to the usual coins assume that you have an 8 cent coin."
   ]
  },
  {
   "cell_type": "markdown",
   "metadata": {},
   "source": [
    "# Glossary\n",
    "\n",
    "**base case**\n",
    "A branch of the conditional statement in a recursive function that does not give rise to further recursive calls.\n",
    "\n",
    "**data structure**\n",
    "An organization of data for the purpose of making it easier to use.\n",
    "\n",
    "**exception**\n",
    "An error that occurs at runtime.\n",
    "\n",
    "**handle an exception**\n",
    "To prevent an exception from terminating a program by wrapping the block of code in a try / except construct.\n",
    "\n",
    "**immutable data type**\n",
    "A data type which cannot be modified. Assignments to elements or slices of immutable types cause a runtime error.\n",
    "\n",
    "**infinite recursion**\n",
    "A function that calls itself recursively without ever reaching the base case. Eventually, an infinite recursion causes a runtime error.\n",
    "\n",
    "**mutable data type**\n",
    "A data type which can be modified. All mutable types are compound types. Lists and dictionaries (see next chapter) are mutable data types; strings and tuples are not.\n",
    "\n",
    "**raise**\n",
    "To cause an exception by using the raise statement.\n",
    "\n",
    "**recursion**\n",
    "The process of calling the function that is already executing.\n",
    "\n",
    "**recursive call**\n",
    "The statement that calls an already executing function. Recursion can even be indirect — function f can call g which calls h, and h could make a call back to f.\n",
    "\n",
    "**recursive definition**\n",
    "A definition which defines something in terms of itself. To be useful it must include base cases which are not recursive. In this way it differs from a circular definition. Recursive definitions often provide an elegant way to express complex data structures.\n",
    "\n",
    "**tuple**\n",
    "A data type that contains a sequence of elements of any type, like a list, but is immutable. Tuples can be used wherever an immutable type is required, such as a key in a dictionary (see next chapter).\n",
    "\n",
    "**tuple assignment**\n",
    "An assignment to all of the elements in a tuple using a single assignment statement. Tuple assignment occurs in parallel rather than in sequence, making it useful for swapping values.\n",
    "\n"
   ]
  },
  {
   "cell_type": "markdown",
   "metadata": {},
   "source": [
    "# Programming exercises"
   ]
  },
  {
   "cell_type": "markdown",
   "metadata": {},
   "source": [
    "# --\n"
   ]
  },
  {
   "cell_type": "code",
   "execution_count": null,
   "metadata": {},
   "outputs": [],
   "source": []
  },
  {
   "cell_type": "code",
   "execution_count": null,
   "metadata": {},
   "outputs": [],
   "source": []
  },
  {
   "cell_type": "code",
   "execution_count": null,
   "metadata": {},
   "outputs": [],
   "source": []
  }
 ],
 "metadata": {
  "kernelspec": {
   "display_name": "Python 3",
   "language": "python",
   "name": "python3"
  },
  "language_info": {
   "codemirror_mode": {
    "name": "ipython",
    "version": 3
   },
   "file_extension": ".py",
   "mimetype": "text/x-python",
   "name": "python",
   "nbconvert_exporter": "python",
   "pygments_lexer": "ipython3",
   "version": "3.6.9"
  },
  "toc": {
   "base_numbering": 1,
   "nav_menu": {},
   "number_sections": true,
   "sideBar": true,
   "skip_h1_title": false,
   "title_cell": "Table of Contents",
   "title_sidebar": "Contents",
   "toc_cell": false,
   "toc_position": {
    "height": "calc(100% - 180px)",
    "left": "10px",
    "top": "150px",
    "width": "191.533px"
   },
   "toc_section_display": "block",
   "toc_window_display": true
  },
  "varInspector": {
   "cols": {
    "lenName": 16,
    "lenType": 16,
    "lenVar": 40
   },
   "kernels_config": {
    "python": {
     "delete_cmd_postfix": "",
     "delete_cmd_prefix": "del ",
     "library": "var_list.py",
     "varRefreshCmd": "print(var_dic_list())"
    },
    "r": {
     "delete_cmd_postfix": ") ",
     "delete_cmd_prefix": "rm(",
     "library": "var_list.r",
     "varRefreshCmd": "cat(var_dic_list()) "
    }
   },
   "types_to_exclude": [
    "module",
    "function",
    "builtin_function_or_method",
    "instance",
    "_Feature"
   ],
   "window_display": false
  }
 },
 "nbformat": 4,
 "nbformat_minor": 2
}
