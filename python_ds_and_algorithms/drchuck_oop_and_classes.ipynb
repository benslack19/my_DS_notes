{
 "cells": [
  {
   "cell_type": "markdown",
   "metadata": {},
   "source": [
    "**Object-oriented programming and classes**"
   ]
  },
  {
   "cell_type": "markdown",
   "metadata": {},
   "source": [
    "# Basic intro to objects"
   ]
  },
  {
   "cell_type": "code",
   "execution_count": 1,
   "metadata": {
    "ExecuteTime": {
     "end_time": "2019-11-20T22:53:12.660423Z",
     "start_time": "2019-11-20T22:53:12.638436Z"
    }
   },
   "outputs": [
    {
     "name": "stdout",
     "output_type": "stream",
     "text": [
      "chuck\n",
      "chuck\n",
      "chuck\n"
     ]
    }
   ],
   "source": [
    "stuff = list()\n",
    "stuff.append('python')\n",
    "stuff.append('chuck')\n",
    "stuff.sort()\n",
    "print (stuff[0])\n",
    "print (stuff.__getitem__(0))\n",
    "print (list.__getitem__(stuff,0))"
   ]
  },
  {
   "cell_type": "code",
   "execution_count": 2,
   "metadata": {
    "ExecuteTime": {
     "end_time": "2019-11-20T22:54:08.258649Z",
     "start_time": "2019-11-20T22:54:08.226667Z"
    },
    "scrolled": true
   },
   "outputs": [
    {
     "data": {
      "text/plain": [
       "['__add__',\n",
       " '__class__',\n",
       " '__contains__',\n",
       " '__delattr__',\n",
       " '__delitem__',\n",
       " '__dir__',\n",
       " '__doc__',\n",
       " '__eq__',\n",
       " '__format__',\n",
       " '__ge__',\n",
       " '__getattribute__',\n",
       " '__getitem__',\n",
       " '__gt__',\n",
       " '__hash__',\n",
       " '__iadd__',\n",
       " '__imul__',\n",
       " '__init__',\n",
       " '__init_subclass__',\n",
       " '__iter__',\n",
       " '__le__',\n",
       " '__len__',\n",
       " '__lt__',\n",
       " '__mul__',\n",
       " '__ne__',\n",
       " '__new__',\n",
       " '__reduce__',\n",
       " '__reduce_ex__',\n",
       " '__repr__',\n",
       " '__reversed__',\n",
       " '__rmul__',\n",
       " '__setattr__',\n",
       " '__setitem__',\n",
       " '__sizeof__',\n",
       " '__str__',\n",
       " '__subclasshook__',\n",
       " 'append',\n",
       " 'clear',\n",
       " 'copy',\n",
       " 'count',\n",
       " 'extend',\n",
       " 'index',\n",
       " 'insert',\n",
       " 'pop',\n",
       " 'remove',\n",
       " 'reverse',\n",
       " 'sort']"
      ]
     },
     "execution_count": 2,
     "metadata": {},
     "output_type": "execute_result"
    }
   ],
   "source": [
    "# Viewing all capabilities of an object with dir\n",
    "\n",
    "dir(stuff)"
   ]
  },
  {
   "cell_type": "markdown",
   "metadata": {},
   "source": [
    "The precise definition of dir() is that it lists the methods and attributes of a Python object."
   ]
  },
  {
   "cell_type": "code",
   "execution_count": 19,
   "metadata": {
    "ExecuteTime": {
     "end_time": "2019-11-20T23:31:40.958014Z",
     "start_time": "2019-11-20T23:31:40.947024Z"
    }
   },
   "outputs": [],
   "source": [
    "class PartyAnimal:\n",
    "    x = 0\n",
    "    \n",
    "    # The first parameter by convention is called 'self'\n",
    "        #     This syntax using the ‘dot’ operator is saying ‘the x within self’. So each time\n",
    "        #     party() is called, the internal x value is incremented by 1 and the value is printed\n",
    "        #     out.\n",
    "    def party(self):\n",
    "        self.x = self.x + 1\n",
    "        print(\"So far\", self.x)\n",
    "    \n",
    "    # Each method looks like a function\n",
    "    def party_hard(self):\n",
    "        self.x = self.x + 10\n",
    "        print(\"So far\", self.x)\n",
    "        \n",
    "    def hangover(self):\n",
    "        self.x = self.x - 2\n",
    "        print(\"So far\", self.x)"
   ]
  },
  {
   "cell_type": "code",
   "execution_count": 20,
   "metadata": {
    "ExecuteTime": {
     "end_time": "2019-11-20T23:31:43.286770Z",
     "start_time": "2019-11-20T23:31:43.279779Z"
    }
   },
   "outputs": [
    {
     "name": "stdout",
     "output_type": "stream",
     "text": [
      "So far 1\n"
     ]
    }
   ],
   "source": [
    "my_animal = PartyAnimal()\n",
    "my_animal.party()"
   ]
  },
  {
   "cell_type": "code",
   "execution_count": 21,
   "metadata": {
    "ExecuteTime": {
     "end_time": "2019-11-20T23:31:43.806996Z",
     "start_time": "2019-11-20T23:31:43.799021Z"
    }
   },
   "outputs": [
    {
     "name": "stdout",
     "output_type": "stream",
     "text": [
      "So far 2\n"
     ]
    }
   ],
   "source": [
    "my_animal.party()"
   ]
  },
  {
   "cell_type": "code",
   "execution_count": 22,
   "metadata": {
    "ExecuteTime": {
     "end_time": "2019-11-20T23:31:44.246521Z",
     "start_time": "2019-11-20T23:31:44.239526Z"
    }
   },
   "outputs": [
    {
     "name": "stdout",
     "output_type": "stream",
     "text": [
      "So far 12\n"
     ]
    }
   ],
   "source": [
    "my_animal.party_hard()"
   ]
  },
  {
   "cell_type": "code",
   "execution_count": 23,
   "metadata": {
    "ExecuteTime": {
     "end_time": "2019-11-20T23:31:54.470834Z",
     "start_time": "2019-11-20T23:31:54.463837Z"
    }
   },
   "outputs": [
    {
     "name": "stdout",
     "output_type": "stream",
     "text": [
      "So far 10\n"
     ]
    }
   ],
   "source": [
    "my_animal.hangover()"
   ]
  },
  {
   "cell_type": "code",
   "execution_count": null,
   "metadata": {},
   "outputs": [],
   "source": [
    "# The object gets updated"
   ]
  },
  {
   "cell_type": "code",
   "execution_count": 24,
   "metadata": {
    "ExecuteTime": {
     "end_time": "2019-11-20T23:32:29.717399Z",
     "start_time": "2019-11-20T23:32:29.709403Z"
    }
   },
   "outputs": [
    {
     "name": "stdout",
     "output_type": "stream",
     "text": [
      "So far 8\n"
     ]
    }
   ],
   "source": [
    "# It can be called like a function (like pd.merge(a, b, etc.))\n",
    "PartyAnimal.hangover(my_animal)"
   ]
  },
  {
   "cell_type": "markdown",
   "metadata": {},
   "source": [
    "## Classes as types"
   ]
  },
  {
   "cell_type": "code",
   "execution_count": 25,
   "metadata": {
    "ExecuteTime": {
     "end_time": "2019-11-20T23:38:34.039425Z",
     "start_time": "2019-11-20T23:38:34.028432Z"
    }
   },
   "outputs": [
    {
     "data": {
      "text/plain": [
       "__main__.PartyAnimal"
      ]
     },
     "execution_count": 25,
     "metadata": {},
     "output_type": "execute_result"
    }
   ],
   "source": [
    "type(my_animal)"
   ]
  },
  {
   "cell_type": "code",
   "execution_count": 31,
   "metadata": {
    "ExecuteTime": {
     "end_time": "2019-11-20T23:40:41.502899Z",
     "start_time": "2019-11-20T23:40:41.490904Z"
    }
   },
   "outputs": [
    {
     "data": {
      "text/plain": [
       "['__class__',\n",
       " '__delattr__',\n",
       " '__dict__',\n",
       " '__dir__',\n",
       " '__doc__',\n",
       " '__eq__',\n",
       " '__format__',\n",
       " '__ge__',\n",
       " '__getattribute__',\n",
       " '__gt__',\n",
       " '__hash__',\n",
       " '__init__',\n",
       " '__init_subclass__',\n",
       " '__le__',\n",
       " '__lt__',\n",
       " '__module__',\n",
       " '__ne__',\n",
       " '__new__',\n",
       " '__reduce__',\n",
       " '__reduce_ex__',\n",
       " '__repr__',\n",
       " '__setattr__',\n",
       " '__sizeof__',\n",
       " '__str__',\n",
       " '__subclasshook__',\n",
       " '__weakref__',\n",
       " 'hangover',\n",
       " 'party',\n",
       " 'party_hard',\n",
       " 'x']"
      ]
     },
     "execution_count": 31,
     "metadata": {},
     "output_type": "execute_result"
    }
   ],
   "source": [
    "dir(my_animal)"
   ]
  },
  {
   "cell_type": "code",
   "execution_count": 26,
   "metadata": {
    "ExecuteTime": {
     "end_time": "2019-11-20T23:38:45.670898Z",
     "start_time": "2019-11-20T23:38:45.661908Z"
    }
   },
   "outputs": [
    {
     "data": {
      "text/plain": [
       "int"
      ]
     },
     "execution_count": 26,
     "metadata": {},
     "output_type": "execute_result"
    }
   ],
   "source": [
    "type(my_animal.x)"
   ]
  },
  {
   "cell_type": "code",
   "execution_count": 29,
   "metadata": {
    "ExecuteTime": {
     "end_time": "2019-11-20T23:39:20.623347Z",
     "start_time": "2019-11-20T23:39:20.615351Z"
    }
   },
   "outputs": [
    {
     "data": {
      "text/plain": [
       "method"
      ]
     },
     "execution_count": 29,
     "metadata": {},
     "output_type": "execute_result"
    }
   ],
   "source": [
    "type(my_animal.party_hard)"
   ]
  },
  {
   "cell_type": "code",
   "execution_count": 30,
   "metadata": {
    "ExecuteTime": {
     "end_time": "2019-11-20T23:39:29.137645Z",
     "start_time": "2019-11-20T23:39:29.127650Z"
    }
   },
   "outputs": [
    {
     "data": {
      "text/plain": [
       "<__main__.PartyAnimal at 0x243e477a088>"
      ]
     },
     "execution_count": 30,
     "metadata": {},
     "output_type": "execute_result"
    }
   ],
   "source": [
    "my_animal"
   ]
  },
  {
   "cell_type": "code",
   "execution_count": null,
   "metadata": {},
   "outputs": [],
   "source": []
  },
  {
   "cell_type": "markdown",
   "metadata": {},
   "source": [
    "# Object Lifecycle"
   ]
  },
  {
   "cell_type": "code",
   "execution_count": 39,
   "metadata": {
    "ExecuteTime": {
     "end_time": "2019-11-20T23:47:20.577173Z",
     "start_time": "2019-11-20T23:47:20.558184Z"
    }
   },
   "outputs": [],
   "source": [
    "class PartyAnimal:\n",
    "    x = 0\n",
    "    \n",
    "    # We want our object to \"be aware\" of their moment of construction\n",
    "    def __init__(self):\n",
    "        print('I am constructed')\n",
    "    \n",
    "    def party(self):\n",
    "        self.x = self.x + 1\n",
    "        print(\"So far\", self.x)\n",
    "    \n",
    "    # Each method looks like a function\n",
    "    def party_hard(self):\n",
    "        self.x = self.x + 10\n",
    "        print(\"So far\", self.x)\n",
    "        \n",
    "    def hangover(self):\n",
    "        self.x = self.x - 2\n",
    "        print(\"So far\", self.x)\n",
    "        \n",
    "    # We want our object to \"be aware\" of destruction (tnis line isn't common)\n",
    "    \n",
    "    def __del__(self):\n",
    "        print('I am destructed', self.x)     # don't need self.x at construction\n",
    "        \n",
    "        "
   ]
  },
  {
   "cell_type": "code",
   "execution_count": 40,
   "metadata": {
    "ExecuteTime": {
     "end_time": "2019-11-20T23:47:21.211809Z",
     "start_time": "2019-11-20T23:47:21.201814Z"
    }
   },
   "outputs": [
    {
     "name": "stdout",
     "output_type": "stream",
     "text": [
      "I am constructed\n",
      "So far 1\n",
      "So far 11\n"
     ]
    }
   ],
   "source": [
    "an = PartyAnimal()\n",
    "an.party()\n",
    "an.party_hard()"
   ]
  },
  {
   "cell_type": "code",
   "execution_count": 37,
   "metadata": {
    "ExecuteTime": {
     "end_time": "2019-11-20T23:46:53.956185Z",
     "start_time": "2019-11-20T23:46:53.950186Z"
    }
   },
   "outputs": [
    {
     "name": "stdout",
     "output_type": "stream",
     "text": [
      "I am destructed 11\n"
     ]
    }
   ],
   "source": [
    "# Python \"throws object away\" when an gets re-assigned (next line)\n",
    "an = 42"
   ]
  },
  {
   "cell_type": "code",
   "execution_count": 38,
   "metadata": {
    "ExecuteTime": {
     "end_time": "2019-11-20T23:47:02.173444Z",
     "start_time": "2019-11-20T23:47:02.166449Z"
    },
    "scrolled": true
   },
   "outputs": [
    {
     "name": "stdout",
     "output_type": "stream",
     "text": [
      "an contains 42\n"
     ]
    }
   ],
   "source": [
    "print('an contains',an)"
   ]
  }
 ],
 "metadata": {
  "kernelspec": {
   "display_name": "Python 3",
   "language": "python",
   "name": "python3"
  },
  "language_info": {
   "codemirror_mode": {
    "name": "ipython",
    "version": 3
   },
   "file_extension": ".py",
   "mimetype": "text/x-python",
   "name": "python",
   "nbconvert_exporter": "python",
   "pygments_lexer": "ipython3",
   "version": "3.6.9"
  },
  "toc": {
   "base_numbering": 1,
   "nav_menu": {},
   "number_sections": true,
   "sideBar": true,
   "skip_h1_title": false,
   "title_cell": "Table of Contents",
   "title_sidebar": "Contents",
   "toc_cell": false,
   "toc_position": {},
   "toc_section_display": true,
   "toc_window_display": true
  },
  "varInspector": {
   "cols": {
    "lenName": 16,
    "lenType": 16,
    "lenVar": 40
   },
   "kernels_config": {
    "python": {
     "delete_cmd_postfix": "",
     "delete_cmd_prefix": "del ",
     "library": "var_list.py",
     "varRefreshCmd": "print(var_dic_list())"
    },
    "r": {
     "delete_cmd_postfix": ") ",
     "delete_cmd_prefix": "rm(",
     "library": "var_list.r",
     "varRefreshCmd": "cat(var_dic_list()) "
    }
   },
   "types_to_exclude": [
    "module",
    "function",
    "builtin_function_or_method",
    "instance",
    "_Feature"
   ],
   "window_display": false
  }
 },
 "nbformat": 4,
 "nbformat_minor": 2
}
