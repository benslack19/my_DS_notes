{
 "cells": [
  {
   "cell_type": "markdown",
   "metadata": {},
   "source": [
    "**Python algorithms**\n",
    "\n",
    "Resources:\n",
    "\n",
    " - [MIT Introduction to Algorithms](https://ocw.mit.edu/courses/electrical-engineering-and-computer-science/6-046j-introduction-to-algorithms-sma-5503-fall-2005/)\n",
    " - [PDF notes from MIT class](https://ocw.mit.edu/courses/electrical-engineering-and-computer-science/6-046j-introduction-to-algorithms-sma-5503-fall-2005/video-lectures/lecture-1-administrivia-introduction-analysis-of-algorithms-insertion-sort-mergesort/lec1.pdf)\n",
    " - [Runestone course (notes below follow this course)](https://runestone.academy/runestone/books/published/pythonds/Introduction/GettingStartedwithData.html)\n",
    "\n",
    "Insight advice:\n",
    "\n",
    "*Action Item: Code the examples in Problem Solving with Algorithms and Data Structures in Python. In particular, become familiar with:\n",
    "- stacks\n",
    "- queues\n",
    "- linked lists\n",
    "- merge sort\n",
    "- quick sort\n",
    "- searching and hashing\n",
    "\n",
    "If you prefer to learn by watching lectures, check out the MIT Introduction to Algorithms course. Bonus: For each algorithm or data structure you learn about, try to program it from scratch in Python, from memory. Many Fellows have also found Leetcode to also be useful in the interview prep for their CS section.*"
   ]
  },
  {
   "cell_type": "markdown",
   "metadata": {},
   "source": [
    "# Objectives"
   ]
  },
  {
   "cell_type": "markdown",
   "metadata": {
    "ExecuteTime": {
     "end_time": "2020-03-12T21:15:27.436825Z",
     "start_time": "2020-03-12T21:15:27.425999Z"
    }
   },
   "source": [
    "- To understand the abstract data types stack, queue, deque, and list.\n",
    "- To be able to implement the ADTs stack, queue, and deque using Python lists.\n",
    "- To understand the performance of the implementations of basic linear data structures.\n",
    "- To understand prefix, infix, and postfix expression formats.\n",
    "- To use stacks to evaluate postfix expressions.\n",
    "- To use stacks to convert expressions from infix to postfix.\n",
    "- To use queues for basic timing simulations.\n",
    "- To be able to recognize problem properties where stacks, queues, and deques are appropriate data structures.\n",
    "- To be able to implement the abstract data type list as a linked list using the node and reference pattern.\n",
    "- To be able to compare the performance of our linked list implementation with Python’s list implementation."
   ]
  },
  {
   "cell_type": "markdown",
   "metadata": {},
   "source": [
    "# Linear structures\n",
    "\n",
    "- Stacks, queues, deques, and lists are examples of data collections whose items are ordered depending on how they are added or removed.\n",
    "- The structures have two ends, a \"left\" and \"right\" or \"top\" and \"bottom\".\n"
   ]
  },
  {
   "cell_type": "markdown",
   "metadata": {
    "ExecuteTime": {
     "end_time": "2020-03-12T21:17:17.631311Z",
     "start_time": "2020-03-12T21:17:17.628076Z"
    }
   },
   "source": [
    "# Stacks\n",
    "\n",
    "- LIFO: last-in, first-out\n",
    "- Like a stack of books or stack of plates at a buffet\n",
    "- When using a computer, a stack can be like the URLS in a web browser.\n",
    "    - Every web browser has a Back button.\n",
    "    - As you navigate from web page to web page, those pages are placed on a stack (actually it is the URLs that are going on the stack).\n",
    "    - The current page that you are viewing is on the top and the first page you looked at is at the base"
   ]
  },
  {
   "cell_type": "markdown",
   "metadata": {},
   "source": [
    "# The stack abstract data type\n",
    "\n",
    "(I didn't focus too much on using the class created here.)\n",
    "\n",
    "\n",
    "- Stack() creates a new stack that is empty. It needs no parameters and returns an empty stack.\n",
    "- push(item) adds a new item to the top of the stack. It needs the item and returns nothing.\n",
    "- pop() removes the top item from the stack. It needs no parameters and returns the item. The stack is modified.\n",
    "- peek() returns the top item from the stack but does not remove it. It needs no parameters. The stack is not modified.\n",
    "- isEmpty() tests to see whether the stack is empty. It needs no parameters and returns a boolean value.\n",
    "- size() returns the number of items on the stack. It needs no parameters and returns an integer."
   ]
  },
  {
   "cell_type": "markdown",
   "metadata": {
    "ExecuteTime": {
     "end_time": "2020-03-16T23:11:34.565137Z",
     "start_time": "2020-03-16T23:11:34.353552Z"
    }
   },
   "source": [
    "# Implementing a stack in Python"
   ]
  },
  {
   "cell_type": "code",
   "execution_count": 28,
   "metadata": {
    "ExecuteTime": {
     "end_time": "2020-03-16T23:26:35.554257Z",
     "start_time": "2020-03-16T23:26:35.548777Z"
    }
   },
   "outputs": [],
   "source": [
    "# Exercise\n",
    "class Stack:\n",
    "    def __init__(self):\n",
    "        self.items = []\n",
    "\n",
    "    def isEmpty(self):\n",
    "        return self.items == []\n",
    "    \n",
    "    def push(self, item):\n",
    "        self.items.append(item)\n",
    "        \n",
    "    def pop(self):\n",
    "        return self.items.pop()\n",
    "    \n",
    "    def peek(self):\n",
    "        return self.items[len(self.items)-1]\n",
    "    \n",
    "    def size(self):\n",
    "        return len(self.items)"
   ]
  },
  {
   "cell_type": "code",
   "execution_count": 29,
   "metadata": {
    "ExecuteTime": {
     "end_time": "2020-03-16T23:26:36.085801Z",
     "start_time": "2020-03-16T23:26:36.081496Z"
    }
   },
   "outputs": [
    {
     "name": "stdout",
     "output_type": "stream",
     "text": [
      "True\n"
     ]
    }
   ],
   "source": [
    "s = Stack()\n",
    "print(s.isEmpty())\n"
   ]
  },
  {
   "cell_type": "code",
   "execution_count": 30,
   "metadata": {
    "ExecuteTime": {
     "end_time": "2020-03-16T23:26:36.633636Z",
     "start_time": "2020-03-16T23:26:36.629537Z"
    }
   },
   "outputs": [],
   "source": [
    "s.push(4)\n",
    "s.push('dog')"
   ]
  },
  {
   "cell_type": "code",
   "execution_count": 31,
   "metadata": {
    "ExecuteTime": {
     "end_time": "2020-03-16T23:26:37.155877Z",
     "start_time": "2020-03-16T23:26:37.150375Z"
    }
   },
   "outputs": [
    {
     "data": {
      "text/plain": [
       "<__main__.Stack at 0x11add34a8>"
      ]
     },
     "execution_count": 31,
     "metadata": {},
     "output_type": "execute_result"
    }
   ],
   "source": [
    "s"
   ]
  },
  {
   "cell_type": "code",
   "execution_count": 32,
   "metadata": {
    "ExecuteTime": {
     "end_time": "2020-03-16T23:26:38.292072Z",
     "start_time": "2020-03-16T23:26:38.287331Z"
    }
   },
   "outputs": [
    {
     "name": "stdout",
     "output_type": "stream",
     "text": [
      "dog\n"
     ]
    }
   ],
   "source": [
    "print(s.peek())"
   ]
  },
  {
   "cell_type": "code",
   "execution_count": 33,
   "metadata": {
    "ExecuteTime": {
     "end_time": "2020-03-16T23:27:00.083683Z",
     "start_time": "2020-03-16T23:27:00.076359Z"
    }
   },
   "outputs": [
    {
     "data": {
      "text/plain": [
       "'dog'"
      ]
     },
     "execution_count": 33,
     "metadata": {},
     "output_type": "execute_result"
    }
   ],
   "source": [
    "s.pop()"
   ]
  },
  {
   "cell_type": "code",
   "execution_count": 34,
   "metadata": {
    "ExecuteTime": {
     "end_time": "2020-03-16T23:27:07.468097Z",
     "start_time": "2020-03-16T23:27:07.462310Z"
    }
   },
   "outputs": [
    {
     "name": "stdout",
     "output_type": "stream",
     "text": [
      "4\n"
     ]
    }
   ],
   "source": [
    "print(s.peek())"
   ]
  },
  {
   "cell_type": "code",
   "execution_count": 36,
   "metadata": {
    "ExecuteTime": {
     "end_time": "2020-03-16T23:27:37.052574Z",
     "start_time": "2020-03-16T23:27:37.044391Z"
    }
   },
   "outputs": [
    {
     "name": "stdout",
     "output_type": "stream",
     "text": [
      "True\n",
      "dog\n",
      "3\n",
      "False\n",
      "8.4\n",
      "True\n",
      "2\n"
     ]
    }
   ],
   "source": [
    "# Whole thing\n",
    "s=Stack()\n",
    "\n",
    "print(s.isEmpty())\n",
    "s.push(4)\n",
    "s.push('dog')\n",
    "print(s.peek())\n",
    "s.push(True)\n",
    "print(s.size())\n",
    "print(s.isEmpty())\n",
    "s.push(8.4)\n",
    "print(s.pop())\n",
    "print(s.pop())\n",
    "print(s.size())"
   ]
  },
  {
   "cell_type": "code",
   "execution_count": 37,
   "metadata": {
    "ExecuteTime": {
     "end_time": "2020-03-16T23:27:58.899527Z",
     "start_time": "2020-03-16T23:27:58.892895Z"
    }
   },
   "outputs": [
    {
     "name": "stdout",
     "output_type": "stream",
     "text": [
      "dog\n"
     ]
    }
   ],
   "source": [
    "print(s.peek())"
   ]
  },
  {
   "cell_type": "markdown",
   "metadata": {},
   "source": [
    "### Alternate stack - using a list where the top is at the beginning instead of at the end\n",
    "\n",
    "- Theoretically this is possible but you'd have to define the index position 0 explicitly using pop and insert"
   ]
  },
  {
   "cell_type": "code",
   "execution_count": null,
   "metadata": {},
   "outputs": [],
   "source": [
    "class Stack:\n",
    "    def __init__(self):\n",
    "        self.items = []\n",
    "\n",
    "    def isEmpty(self):\n",
    "        return self.items == []\n",
    "    \n",
    "    def push(self, item):\n",
    "        self.items.insert(0,item)\n",
    "    def pop(self):\n",
    "        return self.items.pop(0)\n",
    "    def peek(self):\n",
    "        return self.items[0]\n",
    "    def size(self):\n",
    "        return len(self.items)"
   ]
  },
  {
   "cell_type": "markdown",
   "metadata": {},
   "source": [
    "# Simple, balanced parentheses\n",
    "\n",
    "(I didn't do this and worked on the general parentheses Leetcode problem.)"
   ]
  },
  {
   "cell_type": "markdown",
   "metadata": {},
   "source": [
    "# Balanced Symbols (A General Case)"
   ]
  },
  {
   "cell_type": "markdown",
   "metadata": {},
   "source": [
    "Leetcode problem\n",
    "https://leetcode.com/problems/valid-parentheses/"
   ]
  },
  {
   "cell_type": "markdown",
   "metadata": {
    "ExecuteTime": {
     "end_time": "2020-04-24T15:31:08.091361Z",
     "start_time": "2020-04-24T15:31:08.086436Z"
    }
   },
   "source": [
    "## My solution"
   ]
  },
  {
   "cell_type": "code",
   "execution_count": 63,
   "metadata": {
    "ExecuteTime": {
     "end_time": "2020-04-24T15:24:08.993745Z",
     "start_time": "2020-04-24T15:24:08.985589Z"
    }
   },
   "outputs": [],
   "source": [
    "\n",
    "def simple_parenth(s):\n",
    "    \n",
    "    # Check that there are an even number\n",
    "    if len(s) % 2 != 0:\n",
    "        return False\n",
    "    \n",
    "    # If it's empty, it's valid\n",
    "    if len(s) == 0:\n",
    "        return True\n",
    "    \n",
    "    # Loop through each string and use stack framework to evaluate\n",
    "    stack = list()\n",
    "    openers = ['(', '{', '[']\n",
    "    closers = [')', '}', ']']\n",
    "    parenth_dict = {'(':')', '{':'}', '[':']'}\n",
    "    \n",
    "    # If the first element is a closer, then its already invalid\n",
    "    if s[0] in closers:\n",
    "        return False\n",
    "    \n",
    "    for i in s:\n",
    "        # Openers can be added at any time\n",
    "        if i in openers:\n",
    "            stack.append(i)\n",
    "        # Closers must only be added if the previous element was its paired opener\n",
    "        if i in closers:\n",
    "            last = stack[-1]\n",
    "            # If the pair matches, don't add the closer and pop its opener (the last element)\n",
    "            if parenth_dict[last]==i:\n",
    "                stack.pop()\n",
    "            # If it doesn't, then the string is invalid and you don't have to check the rest of the string\n",
    "            else:\n",
    "                return False\n",
    "                \n",
    "    if stack == []:\n",
    "        return True\n",
    " "
   ]
  },
  {
   "cell_type": "code",
   "execution_count": 64,
   "metadata": {
    "ExecuteTime": {
     "end_time": "2020-04-24T15:24:09.416259Z",
     "start_time": "2020-04-24T15:24:09.409261Z"
    }
   },
   "outputs": [
    {
     "data": {
      "text/plain": [
       "True"
      ]
     },
     "execution_count": 64,
     "metadata": {},
     "output_type": "execute_result"
    }
   ],
   "source": [
    "simple_parenth('(())')"
   ]
  },
  {
   "cell_type": "code",
   "execution_count": 65,
   "metadata": {
    "ExecuteTime": {
     "end_time": "2020-04-24T15:24:09.810984Z",
     "start_time": "2020-04-24T15:24:09.805069Z"
    }
   },
   "outputs": [
    {
     "data": {
      "text/plain": [
       "False"
      ]
     },
     "execution_count": 65,
     "metadata": {},
     "output_type": "execute_result"
    }
   ],
   "source": [
    "simple_parenth('([)]')"
   ]
  },
  {
   "cell_type": "code",
   "execution_count": 66,
   "metadata": {
    "ExecuteTime": {
     "end_time": "2020-04-24T15:24:10.952168Z",
     "start_time": "2020-04-24T15:24:10.946771Z"
    }
   },
   "outputs": [
    {
     "data": {
      "text/plain": [
       "False"
      ]
     },
     "execution_count": 66,
     "metadata": {},
     "output_type": "execute_result"
    }
   ],
   "source": [
    "simple_parenth('(]')"
   ]
  },
  {
   "cell_type": "code",
   "execution_count": 67,
   "metadata": {
    "ExecuteTime": {
     "end_time": "2020-04-24T15:24:11.387959Z",
     "start_time": "2020-04-24T15:24:11.381365Z"
    }
   },
   "outputs": [
    {
     "data": {
      "text/plain": [
       "True"
      ]
     },
     "execution_count": 67,
     "metadata": {},
     "output_type": "execute_result"
    }
   ],
   "source": [
    "simple_parenth('')"
   ]
  },
  {
   "cell_type": "code",
   "execution_count": 68,
   "metadata": {
    "ExecuteTime": {
     "end_time": "2020-04-24T15:24:11.968085Z",
     "start_time": "2020-04-24T15:24:11.962751Z"
    }
   },
   "outputs": [
    {
     "data": {
      "text/plain": [
       "False"
      ]
     },
     "execution_count": 68,
     "metadata": {},
     "output_type": "execute_result"
    }
   ],
   "source": [
    "simple_parenth('(()])}[}[}[]][}}[}{})][[(]({])])}}(])){)((){')"
   ]
  },
  {
   "cell_type": "code",
   "execution_count": null,
   "metadata": {},
   "outputs": [],
   "source": []
  },
  {
   "cell_type": "code",
   "execution_count": null,
   "metadata": {},
   "outputs": [],
   "source": []
  },
  {
   "cell_type": "markdown",
   "metadata": {},
   "source": [
    "## Tutorial's solution\n",
    "\n",
    "(won't work since I didn't install the package)"
   ]
  },
  {
   "cell_type": "code",
   "execution_count": 70,
   "metadata": {
    "ExecuteTime": {
     "end_time": "2020-04-24T15:32:11.947812Z",
     "start_time": "2020-04-24T15:32:11.928148Z"
    }
   },
   "outputs": [
    {
     "ename": "ModuleNotFoundError",
     "evalue": "No module named 'pythonds'",
     "output_type": "error",
     "traceback": [
      "\u001b[0;31m---------------------------------------------------------------------------\u001b[0m",
      "\u001b[0;31mModuleNotFoundError\u001b[0m                       Traceback (most recent call last)",
      "\u001b[0;32m<ipython-input-70-48f0288b9470>\u001b[0m in \u001b[0;36m<module>\u001b[0;34m\u001b[0m\n\u001b[0;32m----> 1\u001b[0;31m \u001b[0;32mfrom\u001b[0m \u001b[0mpythonds\u001b[0m\u001b[0;34m.\u001b[0m\u001b[0mbasic\u001b[0m \u001b[0;32mimport\u001b[0m \u001b[0mStack\u001b[0m\u001b[0;34m\u001b[0m\u001b[0;34m\u001b[0m\u001b[0m\n\u001b[0m\u001b[1;32m      2\u001b[0m \u001b[0;34m\u001b[0m\u001b[0m\n\u001b[1;32m      3\u001b[0m \u001b[0;32mdef\u001b[0m \u001b[0mparChecker\u001b[0m\u001b[0;34m(\u001b[0m\u001b[0msymbolString\u001b[0m\u001b[0;34m)\u001b[0m\u001b[0;34m:\u001b[0m\u001b[0;34m\u001b[0m\u001b[0;34m\u001b[0m\u001b[0m\n\u001b[1;32m      4\u001b[0m     \u001b[0ms\u001b[0m \u001b[0;34m=\u001b[0m \u001b[0mStack\u001b[0m\u001b[0;34m(\u001b[0m\u001b[0;34m)\u001b[0m\u001b[0;34m\u001b[0m\u001b[0;34m\u001b[0m\u001b[0m\n\u001b[1;32m      5\u001b[0m     \u001b[0mbalanced\u001b[0m \u001b[0;34m=\u001b[0m \u001b[0;32mTrue\u001b[0m\u001b[0;34m\u001b[0m\u001b[0;34m\u001b[0m\u001b[0m\n",
      "\u001b[0;31mModuleNotFoundError\u001b[0m: No module named 'pythonds'"
     ]
    }
   ],
   "source": [
    "from pythonds.basic import Stack\n",
    "\n",
    "def parChecker(symbolString):\n",
    "    s = Stack()\n",
    "    balanced = True\n",
    "    index = 0\n",
    "    while index < len(symbolString) and balanced:\n",
    "        symbol = symbolString[index]\n",
    "        if symbol in \"([{\":\n",
    "            s.push(symbol)\n",
    "        else:\n",
    "            if s.isEmpty():\n",
    "                balanced = False\n",
    "            else:\n",
    "                top = s.pop()\n",
    "                if not matches(top,symbol):\n",
    "                       balanced = False\n",
    "        index = index + 1\n",
    "    if balanced and s.isEmpty():\n",
    "        return True\n",
    "    else:\n",
    "        return False\n",
    "\n",
    "def matches(open,close):\n",
    "    opens = \"([{\"\n",
    "    closers = \")]}\"\n",
    "    return opens.index(open) == closers.index(close)\n",
    "\n",
    "print(parChecker('{({([][])}())}'))\n",
    "print(parChecker('[{()]'))"
   ]
  },
  {
   "cell_type": "markdown",
   "metadata": {},
   "source": [
    "# Converting decimal numbers to binary numbers\n",
    "\n",
    "(skipped)\n"
   ]
  },
  {
   "cell_type": "markdown",
   "metadata": {},
   "source": [
    "# Infix, prefix, postfix\n",
    "\n",
    "(skipped)\n"
   ]
  },
  {
   "cell_type": "code",
   "execution_count": null,
   "metadata": {},
   "outputs": [],
   "source": []
  },
  {
   "cell_type": "code",
   "execution_count": null,
   "metadata": {},
   "outputs": [],
   "source": []
  },
  {
   "cell_type": "code",
   "execution_count": null,
   "metadata": {},
   "outputs": [],
   "source": []
  },
  {
   "cell_type": "code",
   "execution_count": null,
   "metadata": {},
   "outputs": [],
   "source": []
  },
  {
   "cell_type": "markdown",
   "metadata": {},
   "source": [
    "# Linked Lists (4.21)\n",
    "\n",
    "Implementing an Unordered List: Linked Lists\n",
    "<br>\n",
    "[link to course](https://runestone.academy/runestone/books/published/pythonds/BasicDS/ImplementinganUnorderedListLinkedLists.html)\n",
    "\n",
    "We can still maintain a list of items even though they're not contiguous physically in memory. There just has to be some way to point to the next node. The location of the first item has to be explicitly specified (head), but if we know what each node is pointing to, then we can get the data from the entire linked list. The last item has to know that there is no next item (end or tail)."
   ]
  },
  {
   "cell_type": "markdown",
   "metadata": {
    "ExecuteTime": {
     "end_time": "2020-04-10T21:48:29.394029Z",
     "start_time": "2020-04-10T21:48:29.391128Z"
    }
   },
   "source": [
    "## The `Node` class\n",
    "\n",
    "The node is the basic building block. It must hold two pieces of info, the data (the list item itself) and the reference to the next node. The implementation is shown in the next cell.  The `Node` class also includes the unsual methods to access and modify the data and the next reference."
   ]
  },
  {
   "cell_type": "code",
   "execution_count": 1,
   "metadata": {
    "ExecuteTime": {
     "end_time": "2020-04-20T15:42:54.640090Z",
     "start_time": "2020-04-20T15:42:54.633153Z"
    }
   },
   "outputs": [],
   "source": [
    "class Node:\n",
    "    def __init__(self, initdata):\n",
    "        self.data = initdata\n",
    "        self.next = None\n",
    "        \n",
    "    def getData(self):\n",
    "        return self.data\n",
    "    \n",
    "    def getNext(self):\n",
    "        return self.next\n",
    "    \n",
    "    def setData(self, newdata):\n",
    "        self.data = newdata\n",
    "    \n",
    "    def setNext(self, newnext):\n",
    "        self.next = newnext"
   ]
  },
  {
   "cell_type": "code",
   "execution_count": 2,
   "metadata": {
    "ExecuteTime": {
     "end_time": "2020-04-15T16:28:54.314224Z",
     "start_time": "2020-04-15T16:28:54.294710Z"
    }
   },
   "outputs": [
    {
     "data": {
      "text/plain": [
       "93"
      ]
     },
     "execution_count": 2,
     "metadata": {},
     "output_type": "execute_result"
    }
   ],
   "source": [
    "temp = Node(93)\n",
    "temp.getData()"
   ]
  },
  {
   "cell_type": "markdown",
   "metadata": {},
   "source": [
    "## The `Unordered List` Class\n",
    "\n",
    "This will be building our linked list from the collection of nodes. Each node is linked by explicit references. As long as we know where to find the first node (containing the first item), each item after that can be found by successively following the next links. Each list object just needs to contain a reference to the head of the list.\n"
   ]
  },
  {
   "cell_type": "markdown",
   "metadata": {},
   "source": [
    "### Making the linked list"
   ]
  },
  {
   "cell_type": "code",
   "execution_count": 3,
   "metadata": {
    "ExecuteTime": {
     "end_time": "2020-04-20T16:14:33.079835Z",
     "start_time": "2020-04-20T16:14:33.063220Z"
    }
   },
   "outputs": [],
   "source": [
    "class UnorderedList:\n",
    "    def __init__(self):\n",
    "        self.head = None\n",
    "    \n",
    "    # isEmpty added after explanation below\n",
    "    def isEmpty(self):\n",
    "        return self.head==None\n",
    "    \n",
    "    def add(self, val):\n",
    "        temp = Node(val)          # add item as the new head and have it point to the original head\n",
    "        temp.setNext(self.head)   # have the new item point to the original head\n",
    "        self.head = temp          # make the new item the new head\n",
    "        \n",
    "    def create(self, arr):\n",
    "        \"\"\"\n",
    "        Form a linked list when given an array (helpful for Leetcode problems)\n",
    "        \"\"\"\n",
    "        arr_rev = arr[::-1]\n",
    "        for val in arr_rev:\n",
    "            self.add(val)\n",
    "        \n",
    "    # size is added after explanation below\n",
    "    def size(self):\n",
    "        current = self.head\n",
    "        count = 0\n",
    "        while current != None:\n",
    "            count += 1\n",
    "            current = current.getNext()\n",
    "            \n",
    "        return count\n",
    "    \n",
    "    # my attempt at search\n",
    "    def search_BL(self, val):\n",
    "        \"\"\"\n",
    "        BL function. Return the node containing the value.\n",
    "        \"\"\"\n",
    "        current = self.head\n",
    "        count = 0\n",
    "        while current != None:\n",
    "            count += 1\n",
    "            current = current.getNext()\n",
    "            if current.getData()==val:\n",
    "                return count\n",
    "        return None\n",
    "    \n",
    "    def search(self,item):\n",
    "        \"\"\"\n",
    "        Runestone function is just returning a boolean\n",
    "        \"\"\"\n",
    "        current = self.head\n",
    "        found = False\n",
    "        while current != None and not found:\n",
    "            if current.getData() == item:\n",
    "                found = True\n",
    "            else:\n",
    "                current = current.getNext()\n",
    "\n",
    "        return found\n",
    "    \n",
    "    def remove(self,item):\n",
    "        \"\"\"\n",
    "        Considerations: Need to remove and also re-attach to the previous node.\n",
    "        Have two pointers.\n",
    "        Also need to consider how to removing the head or the last item.\n",
    "        \"\"\"\n",
    "        current = self.head\n",
    "        previous = None   # Starts as None since there's nothing behind the head\n",
    "        found = False\n",
    "        while not found:   # Take out the current!=None  (why?)\n",
    "            if current.getData() == item:\n",
    "                found = True\n",
    "            else:\n",
    "                previous = current  # Assign the previous pointer before re-assigning next\n",
    "                current = current.getNext()\n",
    "\n",
    "        # In the case that the item to be removed is the head node, assign to the following node\n",
    "        if previous == None:\n",
    "            self.head = current.getNext()\n",
    "        else:\n",
    "            previous.setNext(current.getNext()) # Is this line necessary? Yes - it will jump ahead when the else block is executed in the while\n",
    "                \n",
    "    def print_items(self, n):\n",
    "        \"\"\"\n",
    "        My custom function to print the items of the list\n",
    "        \"\"\"\n",
    "        current = self.head\n",
    "        counter = 0\n",
    "        while (current != None) and (counter <=n):\n",
    "            counter += 1\n",
    "            print(current.getData())\n",
    "            current = current.getNext()\n",
    "        if n > counter:\n",
    "            print('Max no. of items is', counter)\n",
    "            \n",
    "    def append(self, item):\n",
    "        \"\"\"\n",
    "        Traverse the linked list until you get to the item where next is pointing to None.\n",
    "        By definition, this is the last item (the tail). Have the tail\n",
    "        point to the new item and have the item point to None.\n",
    "        \"\"\"\n",
    "        new_node = Node(item)\n",
    "        \n",
    "        current = self.head\n",
    "        if current:\n",
    "            while current.getNext() != None:\n",
    "                current = current.getNext()\n",
    "            current.setNext(new_node)\n",
    "        else:\n",
    "            self.head = new_node\n"
   ]
  },
  {
   "cell_type": "markdown",
   "metadata": {},
   "source": [
    "### Quick way to recreate the list object"
   ]
  },
  {
   "cell_type": "code",
   "execution_count": 4,
   "metadata": {
    "ExecuteTime": {
     "end_time": "2020-04-20T15:47:47.978259Z",
     "start_time": "2020-04-20T15:47:47.974414Z"
    }
   },
   "outputs": [],
   "source": [
    "def get_list_object(arr):\n",
    "    \"\"\"\n",
    "    BL custom function to generate a linked list object for testing.\n",
    "    \"\"\"\n",
    "    my_linked_list = UnorderedList()\n",
    "    my_linked_list.create(arr)\n",
    "    return my_linked_list"
   ]
  },
  {
   "cell_type": "code",
   "execution_count": 46,
   "metadata": {
    "ExecuteTime": {
     "end_time": "2020-04-15T16:45:29.466694Z",
     "start_time": "2020-04-15T16:45:29.463085Z"
    }
   },
   "outputs": [],
   "source": [
    "# Initially when constructing the list there are no items and starts as an empty list.\n",
    "mylist = UnorderedList()"
   ]
  },
  {
   "cell_type": "markdown",
   "metadata": {},
   "source": [
    "Like in the `Node` class, the special reference `None` will again be used to state that the head of the list does not refer to anything. Eventually, the example list given earlier will be represented by a linked list. The head of the list referes to the first node which contains the first item of the list. In turn, that node holds a reference to the next node (next item) and so on. **It is very important to note that the list class itself does not contain any node objects. Instead it contains a single reference to only the first node in the linked structure.**"
   ]
  },
  {
   "cell_type": "markdown",
   "metadata": {},
   "source": [
    "The `isEmpty` method just checks to see if the head of the list is a reference to `None`. The result of the boolean expression `self.head==None` will only be true if there are no nodes in the linked list. Since a new list is empty, the constructor and the check for empty must be consistent with one another. This shows the advantage to using the reference `None` to denote the \"end\" of the linked structure. In Python, `None` can be compared to any reference. Two references are equal if they both refer to the same object. We will use this often in our remaining methods."
   ]
  },
  {
   "cell_type": "code",
   "execution_count": 31,
   "metadata": {
    "ExecuteTime": {
     "end_time": "2020-04-11T00:58:52.392079Z",
     "start_time": "2020-04-11T00:58:52.388075Z"
    }
   },
   "outputs": [],
   "source": [
    "# Added above - don't execute here\n",
    "def isEmpty(self):\n",
    "    return self.head==None"
   ]
  },
  {
   "cell_type": "markdown",
   "metadata": {},
   "source": [
    "How do we get to the next items in our list? With the `add` method. But before we can do that, we need to address the important question of where in the linked list to place the new item. Since the list is unordered, the specific location of the new item can go anywhere, but it makes sense to place the new item in the easiest location possible. The only entry point is at the head of the list. But each time you add it, the item you add gets shifted closer to the tail. In other words, the first item will end up as the tail while last item you add becomes the head. **The easiest place to add the new node is right at the head of the list. In other words, we will make the new item the first item of the list and the existing items will ned to be linked to this new first item so that they follow.**"
   ]
  },
  {
   "cell_type": "markdown",
   "metadata": {},
   "source": [
    "The `add` method is shown below. Each item of the list must reside in a node object. Line 2 creates a new node and places the item as its data. Now we must complete the process by linking the new node into the existing structure. This requires two steps. Line 3 changes the `next` reference of the new node to refer to the old firs tnode of the list. Now that the rest of the list has been properly attached to the new node, we can modify the head of the list to refer to the new node. The assignment statement in line 4 sets the head of the list.\n",
    "\n",
    "**The order of these steps is critical.** If lines 3 and 4 were reversed, all of the original nodes would be lost since the head was the only external reference ot the list nodes."
   ]
  },
  {
   "cell_type": "code",
   "execution_count": 32,
   "metadata": {
    "ExecuteTime": {
     "end_time": "2020-04-11T00:58:55.239228Z",
     "start_time": "2020-04-11T00:58:55.234810Z"
    }
   },
   "outputs": [],
   "source": [
    "# Added above - don't execute here\n",
    "def add(self, item):\n",
    "    temp = Node(item)\n",
    "    temp.setNext(self.head)\n",
    "    self.head = temp"
   ]
  },
  {
   "cell_type": "code",
   "execution_count": 47,
   "metadata": {
    "ExecuteTime": {
     "end_time": "2020-04-15T16:45:32.308947Z",
     "start_time": "2020-04-15T16:45:32.303358Z"
    }
   },
   "outputs": [],
   "source": [
    "mylist.add(31)  # Added first but will eventually become last item of the list\n",
    "mylist.add(77)\n",
    "mylist.add(17)\n",
    "mylist.add(93)\n",
    "mylist.add(26)\n",
    "mylist.add(54)  # Added last making it the head"
   ]
  },
  {
   "cell_type": "markdown",
   "metadata": {},
   "source": [
    "### Linked list traversal\n",
    "\n",
    "Methods are `size`, `search`, and `remove`. **Linked list traversal** refers to the process of systematically visiting each node. To do this we use an external reference that starts at the first node in the list. As we visit each node, we move the reference to the next node by \"traversing\" the next reference.\n",
    "\n",
    "To implement the `size` method, we need to traverse the linked list and keep a count of the number of nodes. The function below shows the code for counting the number of nodes in the list. The external reference is called `current` and is intialized to the head of the list in line 2. Note how useful it is to compare a reference to `None` which indicates the end of the list. Every time current moves to a new node, we add 1 to `count`. Finally, `count` gets returned after the iteration stops."
   ]
  },
  {
   "cell_type": "markdown",
   "metadata": {},
   "source": [
    "#### Size"
   ]
  },
  {
   "cell_type": "code",
   "execution_count": 64,
   "metadata": {
    "ExecuteTime": {
     "end_time": "2020-04-11T01:06:38.261427Z",
     "start_time": "2020-04-11T01:06:38.256483Z"
    }
   },
   "outputs": [],
   "source": [
    "# Added above\n",
    "def size(self):\n",
    "    current = self.head\n",
    "    count = 0\n",
    "    while current != None:\n",
    "        count += 1\n",
    "        current = current.getNext()\n",
    "        \n",
    "    return count"
   ]
  },
  {
   "cell_type": "code",
   "execution_count": 89,
   "metadata": {
    "ExecuteTime": {
     "end_time": "2020-04-11T01:13:27.332156Z",
     "start_time": "2020-04-11T01:13:27.328159Z"
    }
   },
   "outputs": [
    {
     "name": "stdout",
     "output_type": "stream",
     "text": [
      "6\n"
     ]
    }
   ],
   "source": [
    "print(mylist.size())"
   ]
  },
  {
   "cell_type": "markdown",
   "metadata": {},
   "source": [
    "#### Search"
   ]
  },
  {
   "cell_type": "markdown",
   "metadata": {},
   "source": [
    "**Exercise: Try creating the search function myself.**"
   ]
  },
  {
   "cell_type": "code",
   "execution_count": 93,
   "metadata": {
    "ExecuteTime": {
     "end_time": "2020-04-11T01:20:07.868335Z",
     "start_time": "2020-04-11T01:20:07.863812Z"
    }
   },
   "outputs": [],
   "source": [
    "def search_BL(self, val):\n",
    "    \"\"\"\n",
    "    BL function. Return the node containing the value.\n",
    "    But not handling the values that aren't present.\n",
    "    \"\"\"\n",
    "    current = self.head\n",
    "    count = 0\n",
    "    while current != None:\n",
    "        count += 1\n",
    "        current = current.getNext()\n",
    "        if current.getData()==val:\n",
    "            return count\n",
    "        \n",
    "    return None\n",
    "    "
   ]
  },
  {
   "cell_type": "code",
   "execution_count": 102,
   "metadata": {
    "ExecuteTime": {
     "end_time": "2020-04-11T01:22:44.941387Z",
     "start_time": "2020-04-11T01:22:44.935223Z"
    }
   },
   "outputs": [
    {
     "data": {
      "text/plain": [
       "4"
      ]
     },
     "execution_count": 102,
     "metadata": {},
     "output_type": "execute_result"
    }
   ],
   "source": [
    "mylist.search_BL(77)"
   ]
  },
  {
   "cell_type": "markdown",
   "metadata": {},
   "source": [
    "**Runestone function for search returns T/F**"
   ]
  },
  {
   "cell_type": "code",
   "execution_count": 104,
   "metadata": {
    "ExecuteTime": {
     "end_time": "2020-04-11T01:25:07.365214Z",
     "start_time": "2020-04-11T01:25:07.360102Z"
    }
   },
   "outputs": [],
   "source": [
    "def search(self,item):\n",
    "    current = self.head\n",
    "    found = False\n",
    "    while current != None and not found:     # elegant line\n",
    "        if current.getData() == item:\n",
    "            found = True\n",
    "        else:\n",
    "            current = current.getNext()\n",
    "\n",
    "    return found"
   ]
  },
  {
   "cell_type": "code",
   "execution_count": 107,
   "metadata": {
    "ExecuteTime": {
     "end_time": "2020-04-11T01:25:25.258958Z",
     "start_time": "2020-04-11T01:25:25.252373Z"
    }
   },
   "outputs": [
    {
     "data": {
      "text/plain": [
       "True"
      ]
     },
     "execution_count": 107,
     "metadata": {},
     "output_type": "execute_result"
    }
   ],
   "source": [
    "mylist.search(17)"
   ]
  },
  {
   "cell_type": "code",
   "execution_count": 105,
   "metadata": {
    "ExecuteTime": {
     "end_time": "2020-04-11T01:25:07.748463Z",
     "start_time": "2020-04-11T01:25:07.743604Z"
    }
   },
   "outputs": [
    {
     "data": {
      "text/plain": [
       "False"
      ]
     },
     "execution_count": 105,
     "metadata": {},
     "output_type": "execute_result"
    }
   ],
   "source": [
    "mylist.search(47)"
   ]
  },
  {
   "cell_type": "markdown",
   "metadata": {},
   "source": [
    "Once the traversal process sees the value, it exits the while and returns `True`. But if the value isn't there, then it will traverse the whole linked list before returning `False`."
   ]
  },
  {
   "cell_type": "markdown",
   "metadata": {},
   "source": [
    "#### Remove"
   ]
  },
  {
   "cell_type": "markdown",
   "metadata": {
    "ExecuteTime": {
     "end_time": "2020-04-11T01:27:22.722329Z",
     "start_time": "2020-04-11T01:27:22.716731Z"
    }
   },
   "source": [
    "Exercise: Try creating the remove function myself.\n",
    "Considerations: Need to remove and also re-attach the next node."
   ]
  },
  {
   "cell_type": "code",
   "execution_count": null,
   "metadata": {},
   "outputs": [],
   "source": [
    "def remove(self,item):\n",
    "    \"\"\"\n",
    "    Considerations: Need to remove and also re-attach to the previous node.\n",
    "    Have two pointers.\n",
    "    Also need to consider how to removing the head or the last item.\n",
    "    \"\"\"\n",
    "    current = self.head\n",
    "    previous = None   # Starts as None since there's nothing behind the head\n",
    "    found = False\n",
    "    while not found:   # Take out the current!=None  (why?)\n",
    "        if current.getData() == item:\n",
    "            found = True\n",
    "        else:\n",
    "            previous = current  # Assign the previous pointer before re-assigning next\n",
    "            current = current.getNext()\n",
    "\n",
    "    # In the case that the item to be removed is the head node, assign to the following node\n",
    "    if previous == None:\n",
    "        self.head = current.getNext()\n",
    "    else:\n",
    "        previous.setNext(current.getNext()) # Is this line necessary? Yes - it will jump ahead when the else block is executed in the while"
   ]
  },
  {
   "cell_type": "code",
   "execution_count": 13,
   "metadata": {
    "ExecuteTime": {
     "end_time": "2020-04-15T16:31:46.610987Z",
     "start_time": "2020-04-15T16:31:46.606297Z"
    }
   },
   "outputs": [],
   "source": [
    "# My own function - print method\n",
    "\n",
    "def print_items(self, n):\n",
    "    \"\"\"\n",
    "    My custom function to print the items of the list\n",
    "    \"\"\"\n",
    "    current = self.head\n",
    "    counter = 0\n",
    "    while (current != None) and (counter <=n):\n",
    "        counter += 1\n",
    "        print(current.getData())\n",
    "        current = current.getNext()"
   ]
  },
  {
   "cell_type": "code",
   "execution_count": 112,
   "metadata": {
    "ExecuteTime": {
     "end_time": "2020-04-15T17:13:49.040865Z",
     "start_time": "2020-04-15T17:13:49.031113Z"
    }
   },
   "outputs": [
    {
     "name": "stdout",
     "output_type": "stream",
     "text": [
      "54\n",
      "26\n",
      "93\n",
      "17\n",
      "77\n",
      "31\n"
     ]
    }
   ],
   "source": [
    "mylist = get_list_object()\n",
    "mylist.print_items(6)"
   ]
  },
  {
   "cell_type": "code",
   "execution_count": 113,
   "metadata": {
    "ExecuteTime": {
     "end_time": "2020-04-15T17:13:50.926236Z",
     "start_time": "2020-04-15T17:13:50.921810Z"
    }
   },
   "outputs": [
    {
     "name": "stdout",
     "output_type": "stream",
     "text": [
      "54\n",
      "26\n",
      "93\n",
      "17\n",
      "31\n",
      "Max no. of items is 5\n"
     ]
    }
   ],
   "source": [
    "# Remove an item in the middle\n",
    "mylist.remove(77)\n",
    "mylist.print_items(6)"
   ]
  },
  {
   "cell_type": "code",
   "execution_count": 114,
   "metadata": {
    "ExecuteTime": {
     "end_time": "2020-04-15T17:13:53.493828Z",
     "start_time": "2020-04-15T17:13:53.487775Z"
    }
   },
   "outputs": [
    {
     "name": "stdout",
     "output_type": "stream",
     "text": [
      "54\n",
      "26\n",
      "93\n",
      "17\n",
      "Max no. of items is 4\n"
     ]
    }
   ],
   "source": [
    "# Remove an item at the end\n",
    "mylist.remove(31)\n",
    "mylist.print_items(6)"
   ]
  },
  {
   "cell_type": "code",
   "execution_count": 115,
   "metadata": {
    "ExecuteTime": {
     "end_time": "2020-04-15T17:14:22.181750Z",
     "start_time": "2020-04-15T17:14:22.176862Z"
    }
   },
   "outputs": [
    {
     "name": "stdout",
     "output_type": "stream",
     "text": [
      "26\n",
      "93\n",
      "17\n",
      "Max no. of items is 3\n"
     ]
    }
   ],
   "source": [
    "# Remove an item at the beginning\n",
    "mylist.remove(54)\n",
    "mylist.print_items(6)"
   ]
  },
  {
   "cell_type": "markdown",
   "metadata": {},
   "source": [
    "## Exercises\n",
    "\n",
    "The remaining methods append, insert, index, and pop are left as exercises. Remember that each of these must take into account whether the change is taking place at the head of the list or someplace else. Also, insert, index, and pop require that we name the positions of the list. We will assume that position names are integers starting with 0."
   ]
  },
  {
   "cell_type": "markdown",
   "metadata": {},
   "source": [
    "### Append"
   ]
  },
  {
   "cell_type": "code",
   "execution_count": null,
   "metadata": {},
   "outputs": [],
   "source": [
    "def append(self, item):\n",
    "    \"\"\"\n",
    "    Traverse the linked list until you get to the item where next is pointing to None.\n",
    "    By definition, this is the last item (the tail). Have the tail\n",
    "    point to the new item and have the item point to None.\n",
    "    \"\"\"\n",
    "    new_node = Node(item)\n",
    "\n",
    "    current = self.head\n",
    "    if current:\n",
    "        while current.getNext() != None:\n",
    "            current = current.getNext()\n",
    "        current.setNext(new_node)\n",
    "    else:\n",
    "        self.head = new_node\n",
    "    "
   ]
  },
  {
   "cell_type": "markdown",
   "metadata": {},
   "source": [
    "Part II: In the previous problem, you most likely created an append method that was 𝑂(𝑛) If you add an instance variable to the UnorderedList class you can create an append method that is 𝑂(1). Modify your append method to be 𝑂(1) Be Careful! To really do this correctly you will need to consider a couple of special cases that may require you to make a modification to the add method as well."
   ]
  },
  {
   "cell_type": "markdown",
   "metadata": {},
   "source": [
    "**I wasn't sure what to do** so I looked it up. Key is to make it a [doubly linked list](https://www.quora.com/How-do-I-implement-linked-list-with-an-append-method-of-complexity-O-1) and see below.\n",
    "\n"
   ]
  },
  {
   "cell_type": "markdown",
   "metadata": {},
   "source": [
    "#### Testing"
   ]
  },
  {
   "cell_type": "code",
   "execution_count": 32,
   "metadata": {
    "ExecuteTime": {
     "end_time": "2020-04-20T16:17:42.374895Z",
     "start_time": "2020-04-20T16:17:42.369226Z"
    },
    "scrolled": true
   },
   "outputs": [
    {
     "name": "stdout",
     "output_type": "stream",
     "text": [
      "54\n",
      "26\n",
      "93\n",
      "17\n",
      "77\n",
      "31\n"
     ]
    }
   ],
   "source": [
    "mylist = get_list_object([54, 26, 93, 17, 77, 31])\n",
    "mylist.print_items(6)"
   ]
  },
  {
   "cell_type": "code",
   "execution_count": 33,
   "metadata": {
    "ExecuteTime": {
     "end_time": "2020-04-20T16:17:42.638422Z",
     "start_time": "2020-04-20T16:17:42.631450Z"
    }
   },
   "outputs": [
    {
     "name": "stdout",
     "output_type": "stream",
     "text": [
      "54\n",
      "26\n",
      "93\n",
      "17\n",
      "77\n",
      "31\n",
      "99\n",
      "Max no. of items is 7\n"
     ]
    }
   ],
   "source": [
    "# Append an item at the beginning (not sure how it's different than add)\n",
    "mylist.append(99)\n",
    "mylist.print_items(10)"
   ]
  },
  {
   "cell_type": "code",
   "execution_count": 31,
   "metadata": {
    "ExecuteTime": {
     "end_time": "2020-04-20T16:14:37.569660Z",
     "start_time": "2020-04-20T16:14:37.563820Z"
    }
   },
   "outputs": [
    {
     "name": "stdout",
     "output_type": "stream",
     "text": [
      "99\n",
      "Max no. of items is 1\n"
     ]
    }
   ],
   "source": [
    "mylist = get_list_object([])\n",
    "mylist.append(99)\n",
    "mylist.print_items(6)"
   ]
  },
  {
   "cell_type": "markdown",
   "metadata": {},
   "source": [
    "### Insert"
   ]
  },
  {
   "cell_type": "code",
   "execution_count": 58,
   "metadata": {
    "ExecuteTime": {
     "end_time": "2020-04-22T23:54:55.272275Z",
     "start_time": "2020-04-22T23:54:55.268218Z"
    }
   },
   "outputs": [],
   "source": [
    "def insert(self, item):\n",
    "    \"\"\"\n",
    "    Find the index... \n",
    "    \"\"\"\n",
    "    \n",
    "    "
   ]
  },
  {
   "cell_type": "markdown",
   "metadata": {},
   "source": [
    "## Make a doubly linked list"
   ]
  },
  {
   "cell_type": "code",
   "execution_count": 41,
   "metadata": {
    "ExecuteTime": {
     "end_time": "2020-04-20T16:37:45.262868Z",
     "start_time": "2020-04-20T16:37:45.255561Z"
    }
   },
   "outputs": [],
   "source": [
    "# I think I can simplify the function of making this class, but I wrote it all out here for completion\n",
    "\n",
    "class Node_doubly:\n",
    "    def __init__(self, initdata):\n",
    "        self.data = initdata\n",
    "        self.next = None\n",
    "        self.prev = None     # This is a key addition, have a pointer look back to previous\n",
    "        \n",
    "    def getData(self):\n",
    "        return self.data\n",
    "    \n",
    "    def getNext(self):\n",
    "        return self.next\n",
    "    \n",
    "    # Key addition\n",
    "    def getPrev(self):\n",
    "        return self.prev\n",
    "    \n",
    "    def setData(self, newdata):\n",
    "        self.data = newdata\n",
    "    \n",
    "    def setNext(self, newnext):\n",
    "        self.next = newnext\n",
    "        \n",
    "    # Key addition\n",
    "    def setPrev(self, newprev):\n",
    "        self.prev = newprev"
   ]
  },
  {
   "cell_type": "code",
   "execution_count": 54,
   "metadata": {
    "ExecuteTime": {
     "end_time": "2020-04-20T16:44:00.240257Z",
     "start_time": "2020-04-20T16:44:00.231611Z"
    }
   },
   "outputs": [],
   "source": [
    "class UnorderedList_doubly:\n",
    "    def __init__(self):\n",
    "        self.head = None\n",
    "    \n",
    "    def isEmpty(self):\n",
    "        return self.head==None\n",
    "    \n",
    "    # add method\n",
    "    def add(self, val):\n",
    "        temp = Node_doubly(val)          # add item as the new head and have it point to the original head\n",
    "        temp.setNext(self.head)          # have the new item point next to the original head\n",
    "        \n",
    "        # If linked list object started out as not empty\n",
    "        if self.head != None:\n",
    "            self.head.setPrev(temp)               # have the original head point prev to the new item\n",
    "            \n",
    "        # Make the new item the new head\n",
    "        self.head = temp\n",
    "        \n",
    "    def print_items(self, n):\n",
    "        \"\"\"\n",
    "        My custom function to print the items of the list\n",
    "        \"\"\"\n",
    "        current = self.head\n",
    "        counter = 0\n",
    "        while (current != None) and (counter <=n):\n",
    "            counter += 1\n",
    "            print(current.getData())\n",
    "            current = current.getNext()\n",
    "        if n > counter:\n",
    "            print('Max no. of items is', counter)\n",
    "    "
   ]
  },
  {
   "cell_type": "code",
   "execution_count": 55,
   "metadata": {
    "ExecuteTime": {
     "end_time": "2020-04-20T16:44:00.856248Z",
     "start_time": "2020-04-20T16:44:00.853061Z"
    }
   },
   "outputs": [],
   "source": [
    "my_doubly_ll = UnorderedList_doubly()\n",
    "my_doubly_ll.add(31)"
   ]
  },
  {
   "cell_type": "code",
   "execution_count": 56,
   "metadata": {
    "ExecuteTime": {
     "end_time": "2020-04-20T16:44:01.400249Z",
     "start_time": "2020-04-20T16:44:01.396523Z"
    }
   },
   "outputs": [],
   "source": [
    "my_doubly_ll.add(77)"
   ]
  },
  {
   "cell_type": "code",
   "execution_count": 57,
   "metadata": {
    "ExecuteTime": {
     "end_time": "2020-04-20T16:44:01.882306Z",
     "start_time": "2020-04-20T16:44:01.876711Z"
    }
   },
   "outputs": [
    {
     "name": "stdout",
     "output_type": "stream",
     "text": [
      "77\n",
      "31\n",
      "Max no. of items is 2\n"
     ]
    }
   ],
   "source": [
    "my_doubly_ll.print_items(3)"
   ]
  },
  {
   "cell_type": "markdown",
   "metadata": {
    "ExecuteTime": {
     "end_time": "2020-04-22T23:55:43.738632Z",
     "start_time": "2020-04-22T23:55:43.733220Z"
    }
   },
   "source": [
    "# The ordered list abstract data type (4.22)\n",
    "\n",
    "We will now consider a type of list known as an ordered list. For example, if the list of integers shown above were an ordered list (ascending order), then it could be written as 17, 26, 31, 54, 77, and 93. Since 17 is the smallest item, it occupies the first position in the list. Likewise, since 93 is the largest, it occupies the last position. Ordered list can be ascending or descending. Many operations will be similar to unordered list (linked list section)."
   ]
  },
  {
   "cell_type": "markdown",
   "metadata": {},
   "source": [
    "# Implementing an ordered list (4.23)\n",
    "\n",
    "Methods that will be similar to unordered list:\n",
    "- isEmpty and size since they only deal wtih the number of nodes in the list without regard to actual item values\n",
    "- remove since we find the item then link around the node\n",
    "\n",
    "Methods that need to be modified to account for the order:\n",
    "- search\n",
    "- add\n",
    "\n",
    "`search`\n",
    "- traverse the nodes until we find what we want or run out of nodes\n",
    "- take advantage of the ordering to stop as soon as possible\n",
    "- if the item we're searching for exceeds the value of a traversed node, then you can stop and return False"
   ]
  },
  {
   "cell_type": "code",
   "execution_count": 3,
   "metadata": {
    "ExecuteTime": {
     "end_time": "2020-04-23T01:00:17.493968Z",
     "start_time": "2020-04-23T01:00:17.488569Z"
    }
   },
   "outputs": [],
   "source": [
    "class Node:\n",
    "    def __init__(self, initdata):\n",
    "        self.data = initdata\n",
    "        self.next = None\n",
    "        \n",
    "    def getData(self):\n",
    "        return self.data\n",
    "    \n",
    "    def getNext(self):\n",
    "        return self.next\n",
    "    \n",
    "    def setData(self, newdata):\n",
    "        self.data = newdata\n",
    "    \n",
    "    def setNext(self, newnext):\n",
    "        self.next = newnext"
   ]
  },
  {
   "cell_type": "code",
   "execution_count": 4,
   "metadata": {
    "ExecuteTime": {
     "end_time": "2020-04-23T01:00:17.878859Z",
     "start_time": "2020-04-23T01:00:17.861447Z"
    }
   },
   "outputs": [],
   "source": [
    "class OrderedList:\n",
    "    def __init__(self):\n",
    "        self.head = None\n",
    "      \n",
    "    # isEmpty, add, create are copied only to create object ------\n",
    "    \n",
    "    # isEmpty added after explanation below\n",
    "    def isEmpty(self):\n",
    "        return self.head==None\n",
    "    \n",
    "    def add(self, val):\n",
    "        temp = Node(val)          # add item as the new head and have it point to the original head\n",
    "        temp.setNext(self.head)   # have the new item point to the original head\n",
    "        self.head = temp          # make the new item the new head\n",
    "        \n",
    "    def create(self, arr):\n",
    "        \"\"\"\n",
    "        Form a linked list when given an array (helpful for Leetcode problems)\n",
    "        \"\"\"\n",
    "        arr_rev = arr[::-1]\n",
    "        for val in arr_rev:\n",
    "            self.add(val)\n",
    "             \n",
    "    def print_items(self, n):\n",
    "        \"\"\"\n",
    "        My custom function to print the items of the list\n",
    "        \"\"\"\n",
    "        current = self.head\n",
    "        counter = 0\n",
    "        while (current != None) and (counter <=n):\n",
    "            counter += 1\n",
    "            print(current.getData())\n",
    "            current = current.getNext()\n",
    "        if n > counter:\n",
    "            print('Max no. of items is', counter)\n",
    "            \n",
    "            \n",
    "    # ---------- functions above are to test functions below ----------\n",
    "                \n",
    "    def search_BL(self, item):\n",
    "        \"\"\"\n",
    "        My functions looks like it works. Briefer than Runestone function\n",
    "        \"\"\"\n",
    "        current = self.head\n",
    "        \n",
    "        while (current != None) and (item >= current.getData()):\n",
    "            #print(current.getData())\n",
    "            if item == current.getData():\n",
    "                return True\n",
    "            else:\n",
    "                current = current.getNext()\n",
    "            \n",
    "        return False\n",
    "    \n",
    "    \n",
    "    def search(self, item):\n",
    "        \"\"\"\n",
    "        Runestone function\n",
    "        \"\"\"\n",
    "        current = self.head\n",
    "        found = False\n",
    "        stop = False\n",
    "        while current != None and not found and not stop:\n",
    "            if current.getData() == item:\n",
    "                found = True\n",
    "            else:\n",
    "                if current.getData() > item:\n",
    "                    stop = True\n",
    "                else:\n",
    "                    current = current.getNext()\n",
    "\n",
    "        return found\n",
    "    \n",
    "    \n",
    "    def add_v1(self, item):\n",
    "        \"\"\"\n",
    "        Runestone function. Needs to insert at the right place and connect nodes correctly.\n",
    "        Need a second pointer since once we have identified the place where the new node will\n",
    "        be added, the current pointer is past the point of insertion.\n",
    "        \"\"\"\n",
    "        current = self.head\n",
    "        previous = None\n",
    "        stop = False\n",
    "        while current != None and not stop:\n",
    "            if current.getData() > item:\n",
    "                stop = True\n",
    "            else:\n",
    "                previous = current\n",
    "                current = current.getNext()\n",
    "\n",
    "        temp = Node(item)\n",
    "        if previous == None:\n",
    "            temp.setNext(self.head)\n",
    "            self.head = temp\n",
    "        else:\n",
    "            temp.setNext(current)\n",
    "            previous.setNext(temp)\n"
   ]
  },
  {
   "cell_type": "code",
   "execution_count": 5,
   "metadata": {
    "ExecuteTime": {
     "end_time": "2020-04-23T01:00:18.978713Z",
     "start_time": "2020-04-23T01:00:18.972526Z"
    }
   },
   "outputs": [
    {
     "name": "stdout",
     "output_type": "stream",
     "text": [
      "17\n",
      "26\n",
      "31\n",
      "54\n"
     ]
    }
   ],
   "source": [
    "my_ol = OrderedList()\n",
    "my_ol.create([17, 26, 31, 54])\n",
    "my_ol.print_items(4)"
   ]
  },
  {
   "cell_type": "code",
   "execution_count": 6,
   "metadata": {
    "ExecuteTime": {
     "end_time": "2020-04-23T01:00:21.408774Z",
     "start_time": "2020-04-23T01:00:21.396272Z"
    }
   },
   "outputs": [
    {
     "data": {
      "text/plain": [
       "False"
      ]
     },
     "execution_count": 6,
     "metadata": {},
     "output_type": "execute_result"
    }
   ],
   "source": [
    "my_ol.search_BL(0)"
   ]
  },
  {
   "cell_type": "code",
   "execution_count": 7,
   "metadata": {
    "ExecuteTime": {
     "end_time": "2020-04-23T01:00:25.033936Z",
     "start_time": "2020-04-23T01:00:25.030748Z"
    }
   },
   "outputs": [],
   "source": [
    "my_ol.add_v1(35)"
   ]
  },
  {
   "cell_type": "markdown",
   "metadata": {},
   "source": [
    "### Analysis of Linked Lists (4.23.1)"
   ]
  },
  {
   "cell_type": "markdown",
   "metadata": {},
   "source": [
    "Time complexity is tied to whether they require traversal.\n",
    "\n",
    "O(1):\n",
    "- isempty\n",
    "- add (in unordered list)\n",
    "\n",
    "O(n):\n",
    "- size\n",
    "- search\n",
    "- add (in ordered list)\n",
    "- length\n",
    "- remove\n",
    "\n",
    "You may also have noticed that the performance of this implementation differs from the actual performance given earlier for Python lists. This suggests that linked lists are not the way Python lists are implemented. The actual implementation of a Python list is based on the notion of an array. "
   ]
  },
  {
   "cell_type": "markdown",
   "metadata": {},
   "source": [
    "# Summary (4.24)\n",
    "\n",
    "- Linear data structures maintain data in an ordered fashion.\n",
    "- Stacks\n",
    "    - LIFO (last in first out)\n",
    "    - fundamental operations: push, pop, isEmpty\n",
    "    - useful for designing algorithms to evaluate and translate expressions\n",
    "    - can provide a reversal characteristic\n",
    "- Queues\n",
    "    - FIFO (first in first out)\n",
    "    - fundamental operations: enqueue, dequeue, isEmpty\n",
    "    - can assist in construction of timing simulations\n",
    "- Prefix, infix, and postfix are all ways to write expressions\n",
    "- Simulations are random number generators to create a real-life situation and allow us to answer \"what if\" types of questions\n",
    "- Deques\n",
    "    - Hybrid of stacks and queues\n",
    "    - fundamental operations: addFront, addRear, removeFront, removeRear, isEmpty\n",
    "- Lists are collections of items where each item holds a relative position\n",
    "- Linked list implementation maintains logical order without requiring physical storage requirements\n",
    "- Modification to the head of the linked list is a special case"
   ]
  },
  {
   "cell_type": "markdown",
   "metadata": {},
   "source": [
    "# Key terms (4.25)\n",
    "\n",
    "balanced parentheses\n",
    "\n",
    "data field\n",
    "\n",
    "deque\n",
    "\n",
    "first-in first-out (FIFO)\n",
    "\n",
    "fully parenthesized\n",
    "\n",
    "head\n",
    "\n",
    "infix\n",
    "\n",
    "last-in first-out (LIFO)\n",
    "\n",
    "linear data structure\n",
    "\n",
    "linked list\n",
    "\n",
    "linked list traversal\n",
    "\n",
    "list\n",
    "\n",
    "node\n",
    "\n",
    "palindrome\n",
    "\n",
    "postfix\n",
    "\n",
    "precedence\n",
    "\n",
    "prefix\n",
    "\n",
    "queue\n",
    "\n",
    "simulation\n",
    "\n",
    "stack\n",
    "\n"
   ]
  },
  {
   "cell_type": "markdown",
   "metadata": {},
   "source": [
    "# Discussion questions (4.26)\n",
    "Good questions\n",
    "\n",
    "\n",
    "https://runestone.academy/runestone/books/published/pythonds/BasicDS/DiscussionQuestions.html"
   ]
  },
  {
   "cell_type": "code",
   "execution_count": null,
   "metadata": {},
   "outputs": [],
   "source": []
  },
  {
   "cell_type": "code",
   "execution_count": null,
   "metadata": {},
   "outputs": [],
   "source": []
  },
  {
   "cell_type": "code",
   "execution_count": null,
   "metadata": {},
   "outputs": [],
   "source": []
  }
 ],
 "metadata": {
  "kernelspec": {
   "display_name": "Python 3",
   "language": "python",
   "name": "python3"
  },
  "language_info": {
   "codemirror_mode": {
    "name": "ipython",
    "version": 3
   },
   "file_extension": ".py",
   "mimetype": "text/x-python",
   "name": "python",
   "nbconvert_exporter": "python",
   "pygments_lexer": "ipython3",
   "version": "3.6.9"
  },
  "toc": {
   "base_numbering": 1,
   "nav_menu": {},
   "number_sections": true,
   "sideBar": true,
   "skip_h1_title": false,
   "title_cell": "Table of Contents",
   "title_sidebar": "Contents",
   "toc_cell": false,
   "toc_position": {
    "height": "calc(100% - 180px)",
    "left": "10px",
    "top": "150px",
    "width": "303.533px"
   },
   "toc_section_display": "block",
   "toc_window_display": true
  },
  "toc-autonumbering": true,
  "varInspector": {
   "cols": {
    "lenName": 16,
    "lenType": 16,
    "lenVar": 40
   },
   "kernels_config": {
    "python": {
     "delete_cmd_postfix": "",
     "delete_cmd_prefix": "del ",
     "library": "var_list.py",
     "varRefreshCmd": "print(var_dic_list())"
    },
    "r": {
     "delete_cmd_postfix": ") ",
     "delete_cmd_prefix": "rm(",
     "library": "var_list.r",
     "varRefreshCmd": "cat(var_dic_list()) "
    }
   },
   "types_to_exclude": [
    "module",
    "function",
    "builtin_function_or_method",
    "instance",
    "_Feature"
   ],
   "window_display": false
  }
 },
 "nbformat": 4,
 "nbformat_minor": 4
}
