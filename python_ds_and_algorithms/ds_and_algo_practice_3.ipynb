{
 "cells": [
  {
   "cell_type": "code",
   "execution_count": 1,
   "metadata": {
    "ExecuteTime": {
     "end_time": "2020-04-23T03:05:13.705297Z",
     "start_time": "2020-04-23T03:05:10.084857Z"
    }
   },
   "outputs": [],
   "source": [
    "import numpy as np\n",
    "import pandas as pd"
   ]
  },
  {
   "cell_type": "markdown",
   "metadata": {},
   "source": [
    "Highest ROI activity: Leetcode problems, study problems and solutions and try to do it on your own\n",
    "\n",
    "- break up by algorithm / data structure type and interview problem"
   ]
  },
  {
   "cell_type": "markdown",
   "metadata": {},
   "source": [
    "# 4/28/20\n",
    "\n",
    "Shu"
   ]
  },
  {
   "cell_type": "markdown",
   "metadata": {},
   "source": [
    "## 3sum (4/28/20)\n",
    "\n",
    "3Sum\n",
    "Given an array nums of n integers, are there elements a, b, c in nums such that a + b + c = 0? Find all unique triplets in the array which gives the sum of zero.\n",
    "Note:\n",
    "The solution set must not contain duplicate triplets.\n",
    "Example:\n",
    "Given array nums = [-1, 0, 1, 2, -1, -4],\n",
    "\n",
    "A solution set is:\n",
    "[\n",
    "  [-1, 0, 1],\n",
    "  [-1, -1, 2]\n",
    "]\n"
   ]
  },
  {
   "cell_type": "code",
   "execution_count": null,
   "metadata": {},
   "outputs": [],
   "source": [
    "# Shu's solution\n",
    "\n",
    "from collections import deque\n",
    "class Solution:\n",
    "    def threeSum(self, nums: List[int]) -> List[List[int]]:\n",
    "        mp = {}\n",
    "        for i in range(len(nums)):\n",
    "            if nums[i] not in mp:\n",
    "                mp[nums[i]] = 0\n",
    "            mp[nums[i]] += 1\n",
    "        res = []\n",
    "        for i in mp:\n",
    "            for j in mp:\n",
    "                k = -i-j\n",
    "                if k in mp:\n",
    "                    if i < j < k:\n",
    "                        res.append([i, j, k])\n",
    "                    elif i == j < k and mp[i] > 1:\n",
    "                        res.append([i, j, k])\n",
    "                    elif i < j == k and mp[j] > 1:\n",
    "                        res.append([i, j, k])\n",
    "                    elif i == j == k and mp[k] > 2:\n",
    "                        res.append([i, j, k])\n",
    "        return res\n"
   ]
  },
  {
   "cell_type": "code",
   "execution_count": null,
   "metadata": {},
   "outputs": [],
   "source": [
    "def three_sum(arr):\n",
    "    \n",
    "    return list_of_sol"
   ]
  },
  {
   "cell_type": "code",
   "execution_count": 2,
   "metadata": {
    "ExecuteTime": {
     "end_time": "2020-04-28T22:14:00.707444Z",
     "start_time": "2020-04-28T22:14:00.701657Z"
    }
   },
   "outputs": [
    {
     "name": "stdout",
     "output_type": "stream",
     "text": [
      "1\n",
      "0\n",
      "-1\n",
      "-2\n",
      "4\n"
     ]
    }
   ],
   "source": [
    "my_arr =[-1, 0, 1, 2, -1, -4]\n",
    "\n",
    "# strategy is to use remainder... and a dictionary\n",
    "dict2store = dict()\n",
    "\n",
    "for i in my_arr:\n",
    "    if i not in dict2store:\n",
    "        # remainder with 2 elements\n",
    "        remainder1 = 0 - i\n",
    "        print(remainder1)\n",
    "        \n",
    "        dict2store[i] = [remainder1]\n",
    "            for j in \n",
    "\n",
    "\n"
   ]
  },
  {
   "cell_type": "code",
   "execution_count": 7,
   "metadata": {
    "ExecuteTime": {
     "end_time": "2020-04-28T22:23:35.721656Z",
     "start_time": "2020-04-28T22:23:35.716623Z"
    }
   },
   "outputs": [],
   "source": [
    "def two_sum_again(arr):\n",
    "    \"\"\"\n",
    "    Strategy is to use remainder and a dictionary.\n",
    "    \"\"\"\n",
    "    \n",
    "    dict2store = dict()\n",
    "\n",
    "    for i in my_arr:\n",
    "        remainder1 = 0 - i\n",
    "        if i not in dict2store:\n",
    "            # remainder with 2 elements\n",
    "            dict2store[i] = remainder1\n",
    "        else:\n",
    "            return (i, dict2store[i])\n",
    "\n",
    "    return None"
   ]
  },
  {
   "cell_type": "code",
   "execution_count": 6,
   "metadata": {
    "ExecuteTime": {
     "end_time": "2020-04-28T22:23:31.718049Z",
     "start_time": "2020-04-28T22:23:31.700628Z"
    }
   },
   "outputs": [
    {
     "name": "stdout",
     "output_type": "stream",
     "text": [
      "1\n",
      "0\n",
      "-1\n",
      "-2\n",
      "1\n"
     ]
    },
    {
     "data": {
      "text/plain": [
       "(-1, 1)"
      ]
     },
     "execution_count": 6,
     "metadata": {},
     "output_type": "execute_result"
    }
   ],
   "source": [
    "two_sum_again(my_arr)"
   ]
  },
  {
   "cell_type": "code",
   "execution_count": 4,
   "metadata": {
    "ExecuteTime": {
     "end_time": "2020-04-28T22:22:05.395719Z",
     "start_time": "2020-04-28T22:22:05.388130Z"
    }
   },
   "outputs": [
    {
     "name": "stdout",
     "output_type": "stream",
     "text": [
      "1\n",
      "0\n",
      "-1\n",
      "-2\n",
      "1\n",
      "-1 1\n",
      "4\n"
     ]
    }
   ],
   "source": [
    "# Two sum\n",
    "my_arr =[-1, 0, 1, 2, -1, -4]\n",
    "\n",
    "# strategy is to use remainder... and a dictionary\n",
    "dict2store = dict()\n",
    "\n",
    "for i in my_arr:\n",
    "    remainder1 = 0 - i\n",
    "    print(remainder1)\n",
    "    if i not in dict2store:\n",
    "        # remainder with 2 elements\n",
    "        dict2store[i] = remainder1\n",
    "    else:\n",
    "        print(i, dict2store[i])\n"
   ]
  },
  {
   "cell_type": "code",
   "execution_count": null,
   "metadata": {},
   "outputs": [],
   "source": []
  },
  {
   "cell_type": "markdown",
   "metadata": {},
   "source": [
    "When encountering a problem, think of a simpler version of that problem."
   ]
  },
  {
   "cell_type": "code",
   "execution_count": null,
   "metadata": {},
   "outputs": [],
   "source": []
  },
  {
   "cell_type": "markdown",
   "metadata": {
    "ExecuteTime": {
     "end_time": "2020-04-28T22:38:27.228937Z",
     "start_time": "2020-04-28T22:38:27.209998Z"
    }
   },
   "source": [
    "## Meeting Rooms II (4/28/20)\n",
    "\n",
    "[leetcode](https://leetcode.com/problems/meeting-rooms-ii/)\n",
    "\n",
    "\n",
    "Given an array of meeting time intervals consisting of start and end times [[s1,e1],[s2,e2],...] (si < ei), find the minimum number of conference rooms required.\n",
    "Example 1:\n",
    "Input: [[0, 30],[5, 10],[15, 20]]\n",
    "Output: 2\n",
    "Example 2:\n",
    "Input: [[7,10],[2,4]]\n",
    "Output: 1\n"
   ]
  },
  {
   "cell_type": "code",
   "execution_count": null,
   "metadata": {},
   "outputs": [],
   "source": [
    "def meeting_room_ii(arr):\n",
    "    \n",
    "    return n"
   ]
  },
  {
   "cell_type": "code",
   "execution_count": 8,
   "metadata": {
    "ExecuteTime": {
     "end_time": "2020-04-28T22:41:56.421736Z",
     "start_time": "2020-04-28T22:41:56.413895Z"
    }
   },
   "outputs": [
    {
     "name": "stdout",
     "output_type": "stream",
     "text": [
      "[0, 30]\n",
      "[5, 10]\n",
      "[15, 20]\n"
     ]
    }
   ],
   "source": [
    "my_arr = [[0, 30],[5, 10],[15, 20]]\n",
    "for block in my_arr:\n",
    "    print(block)\n",
    "    n = 0\n",
    "    if n==0:\n",
    "        n += 1\n",
    "        start = block[0]\n",
    "        end = block[1]"
   ]
  },
  {
   "cell_type": "code",
   "execution_count": null,
   "metadata": {},
   "outputs": [],
   "source": [
    "# Shu's solution\n",
    "class Solution:\n",
    "    def minMeetingRooms(self, intervals: List[List[int]]) -> int:\n",
    "        order = []\n",
    "        for i in intervals:\n",
    "            order.append((i[0], 1))\n",
    "            order.append((i[1], -1))\n",
    "        order.sort()\n",
    "        maxc = 0\n",
    "        cnt = 0\n",
    "        for t in order:\n",
    "            if t[1] == 1:\n",
    "                cnt += 1\n",
    "                maxc = max(maxc, cnt)\n",
    "            else:\n",
    "                cnt -= 1\n",
    "        return maxc\n"
   ]
  },
  {
   "cell_type": "markdown",
   "metadata": {},
   "source": [
    "Minimum number of conference rooms is the maximum number of opening brackets"
   ]
  },
  {
   "cell_type": "markdown",
   "metadata": {
    "ExecuteTime": {
     "end_time": "2020-04-30T22:06:49.253919Z",
     "start_time": "2020-04-30T22:06:49.172600Z"
    }
   },
   "source": [
    "## Maximum product subarray (4/30/20)\n",
    "\n",
    "https://leetcode.com/problems/maximum-product-subarray/"
   ]
  },
  {
   "cell_type": "markdown",
   "metadata": {},
   "source": [
    "Given an integer array nums, find the contiguous subarray within an array (containing at least one number) which has the largest product. Return zero if there are no positive products.\n",
    "Example 1:\n",
    "Input: [2,3,-2,4]\n",
    "Output: 6\n",
    "Explanation: [2,3] has the largest product 6.\n",
    "Example 2:\n",
    "Input: [-2,0,-1]\n",
    "Output: 0\n",
    "Explanation: The result cannot be 2, because [-2,-1] is not a subarray.\n"
   ]
  },
  {
   "cell_type": "code",
   "execution_count": 11,
   "metadata": {
    "ExecuteTime": {
     "end_time": "2020-04-30T22:24:09.557101Z",
     "start_time": "2020-04-30T22:24:09.506888Z"
    }
   },
   "outputs": [],
   "source": [
    "def maxproduct_subarray(arr):\n",
    "    \n",
    "    \n",
    "    \n",
    "    return max_product"
   ]
  },
  {
   "cell_type": "code",
   "execution_count": 2,
   "metadata": {
    "ExecuteTime": {
     "end_time": "2020-04-30T22:27:45.151243Z",
     "start_time": "2020-04-30T22:27:45.130578Z"
    }
   },
   "outputs": [],
   "source": [
    "my_arr = [2,3,-2,4]"
   ]
  },
  {
   "cell_type": "code",
   "execution_count": 5,
   "metadata": {},
   "outputs": [
    {
     "ename": "SyntaxError",
     "evalue": "invalid syntax (<ipython-input-5-67f827818efa>, line 11)",
     "output_type": "error",
     "traceback": [
      "\u001b[0;36m  File \u001b[0;32m\"<ipython-input-5-67f827818efa>\"\u001b[0;36m, line \u001b[0;32m11\u001b[0m\n\u001b[0;31m    elif:\u001b[0m\n\u001b[0m        ^\u001b[0m\n\u001b[0;31mSyntaxError\u001b[0m\u001b[0;31m:\u001b[0m invalid syntax\n"
     ]
    }
   ],
   "source": [
    "\n",
    "\n",
    "# brute force\n",
    "max_sub_arr = None\n",
    "max_product = None\n",
    "for i in my_arr:\n",
    "    max_elem = i\n",
    "    sub_arr = [i]\n",
    "    for j in my_arr[i+1:]:\n",
    "        if len(sub_arr)==1:\n",
    "            if i*j > max_elem:\n",
    "                sub_arr.append(j)\n",
    "        elif:\n",
    "            \n",
    "            \n",
    "    \n",
    "    \n",
    "\n",
    "# Output: 6\n",
    "\n"
   ]
  },
  {
   "cell_type": "code",
   "execution_count": 4,
   "metadata": {
    "ExecuteTime": {
     "end_time": "2020-04-30T22:29:10.633481Z",
     "start_time": "2020-04-30T22:29:10.598859Z"
    }
   },
   "outputs": [
    {
     "ename": "NameError",
     "evalue": "name 'List' is not defined",
     "output_type": "error",
     "traceback": [
      "\u001b[0;31m---------------------------------------------------------------------------\u001b[0m",
      "\u001b[0;31mNameError\u001b[0m                                 Traceback (most recent call last)",
      "\u001b[0;32m<ipython-input-4-216dd61370d8>\u001b[0m in \u001b[0;36m<module>\u001b[0;34m\u001b[0m\n\u001b[1;32m      1\u001b[0m \u001b[0;31m# Shu\u001b[0m\u001b[0;34m\u001b[0m\u001b[0;34m\u001b[0m\u001b[0;34m\u001b[0m\u001b[0m\n\u001b[0;32m----> 2\u001b[0;31m \u001b[0;32mclass\u001b[0m \u001b[0mSolution\u001b[0m\u001b[0;34m:\u001b[0m\u001b[0;34m\u001b[0m\u001b[0;34m\u001b[0m\u001b[0m\n\u001b[0m\u001b[1;32m      3\u001b[0m     \u001b[0;32mdef\u001b[0m \u001b[0mmaxProduct\u001b[0m\u001b[0;34m(\u001b[0m\u001b[0mself\u001b[0m\u001b[0;34m,\u001b[0m \u001b[0mnums\u001b[0m\u001b[0;34m:\u001b[0m \u001b[0mList\u001b[0m\u001b[0;34m[\u001b[0m\u001b[0mint\u001b[0m\u001b[0;34m]\u001b[0m\u001b[0;34m)\u001b[0m \u001b[0;34m->\u001b[0m \u001b[0mint\u001b[0m\u001b[0;34m:\u001b[0m\u001b[0;34m\u001b[0m\u001b[0;34m\u001b[0m\u001b[0m\n\u001b[1;32m      4\u001b[0m         \u001b[0mdp\u001b[0m \u001b[0;34m=\u001b[0m \u001b[0;34m[\u001b[0m\u001b[0mnums\u001b[0m\u001b[0;34m[\u001b[0m\u001b[0;36m0\u001b[0m\u001b[0;34m]\u001b[0m\u001b[0;34m]\u001b[0m\u001b[0;34m\u001b[0m\u001b[0;34m\u001b[0m\u001b[0m\n\u001b[1;32m      5\u001b[0m         \u001b[0mdpn\u001b[0m \u001b[0;34m=\u001b[0m \u001b[0;34m[\u001b[0m\u001b[0mnums\u001b[0m\u001b[0;34m[\u001b[0m\u001b[0;36m0\u001b[0m\u001b[0;34m]\u001b[0m\u001b[0;34m]\u001b[0m\u001b[0;34m\u001b[0m\u001b[0;34m\u001b[0m\u001b[0m\n",
      "\u001b[0;32m<ipython-input-4-216dd61370d8>\u001b[0m in \u001b[0;36mSolution\u001b[0;34m()\u001b[0m\n\u001b[1;32m      1\u001b[0m \u001b[0;31m# Shu\u001b[0m\u001b[0;34m\u001b[0m\u001b[0;34m\u001b[0m\u001b[0;34m\u001b[0m\u001b[0m\n\u001b[1;32m      2\u001b[0m \u001b[0;32mclass\u001b[0m \u001b[0mSolution\u001b[0m\u001b[0;34m:\u001b[0m\u001b[0;34m\u001b[0m\u001b[0;34m\u001b[0m\u001b[0m\n\u001b[0;32m----> 3\u001b[0;31m     \u001b[0;32mdef\u001b[0m \u001b[0mmaxProduct\u001b[0m\u001b[0;34m(\u001b[0m\u001b[0mself\u001b[0m\u001b[0;34m,\u001b[0m \u001b[0mnums\u001b[0m\u001b[0;34m:\u001b[0m \u001b[0mList\u001b[0m\u001b[0;34m[\u001b[0m\u001b[0mint\u001b[0m\u001b[0;34m]\u001b[0m\u001b[0;34m)\u001b[0m \u001b[0;34m->\u001b[0m \u001b[0mint\u001b[0m\u001b[0;34m:\u001b[0m\u001b[0;34m\u001b[0m\u001b[0;34m\u001b[0m\u001b[0m\n\u001b[0m\u001b[1;32m      4\u001b[0m         \u001b[0mdp\u001b[0m \u001b[0;34m=\u001b[0m \u001b[0;34m[\u001b[0m\u001b[0mnums\u001b[0m\u001b[0;34m[\u001b[0m\u001b[0;36m0\u001b[0m\u001b[0;34m]\u001b[0m\u001b[0;34m]\u001b[0m\u001b[0;34m\u001b[0m\u001b[0;34m\u001b[0m\u001b[0m\n\u001b[1;32m      5\u001b[0m         \u001b[0mdpn\u001b[0m \u001b[0;34m=\u001b[0m \u001b[0;34m[\u001b[0m\u001b[0mnums\u001b[0m\u001b[0;34m[\u001b[0m\u001b[0;36m0\u001b[0m\u001b[0;34m]\u001b[0m\u001b[0;34m]\u001b[0m\u001b[0;34m\u001b[0m\u001b[0;34m\u001b[0m\u001b[0m\n",
      "\u001b[0;31mNameError\u001b[0m: name 'List' is not defined"
     ]
    }
   ],
   "source": [
    "# Shu\n",
    "class Solution:\n",
    "    def maxProduct(self, nums: List[int]) -> int:\n",
    "        dp = [nums[0]]\n",
    "        dpn = [nums[0]]\n",
    "        for i in range(1, len(nums)):\n",
    "            dp.append(max(nums[i]*dpn[i-1], nums[i]*dp[i-1], nums[i]))\n",
    "            dpn.append(min(nums[i]*dpn[i-1], nums[i]*dp[i-1], nums[i]))\n",
    "        return max(dp)\n",
    "\n",
    "\n"
   ]
  },
  {
   "cell_type": "markdown",
   "metadata": {
    "ExecuteTime": {
     "end_time": "2020-04-15T17:23:54.796988Z",
     "start_time": "2020-04-15T17:23:54.765391Z"
    }
   },
   "source": [
    "# 5/1/20"
   ]
  },
  {
   "cell_type": "markdown",
   "metadata": {},
   "source": [
    "## Graph problem\n",
    "\n",
    "Given an undirected graph represented as an adjacency matrix and an integer k, write a function to determine whether each vertex in the graph can be colored such that no two adjacent vertices share the same color using at most k colors."
   ]
  },
  {
   "cell_type": "code",
   "execution_count": null,
   "metadata": {},
   "outputs": [],
   "source": []
  },
  {
   "cell_type": "code",
   "execution_count": null,
   "metadata": {},
   "outputs": [],
   "source": []
  },
  {
   "cell_type": "code",
   "execution_count": null,
   "metadata": {},
   "outputs": [],
   "source": []
  },
  {
   "cell_type": "code",
   "execution_count": null,
   "metadata": {},
   "outputs": [],
   "source": []
  },
  {
   "cell_type": "markdown",
   "metadata": {},
   "source": [
    "## Queue problem\n",
    "\n",
    "Implement a queue using two stacks. Recall that a queue is a FIFO (first-in, first-out) data structure with the following methods: enqueue, which inserts an element into the queue, and dequeue, which removes it."
   ]
  },
  {
   "cell_type": "code",
   "execution_count": null,
   "metadata": {},
   "outputs": [],
   "source": []
  },
  {
   "cell_type": "code",
   "execution_count": null,
   "metadata": {},
   "outputs": [],
   "source": []
  },
  {
   "cell_type": "markdown",
   "metadata": {},
   "source": [
    "# LC: Check If It Is a Straight Line\n",
    "\n",
    "https://leetcode.com/explore/challenge/card/may-leetcoding-challenge/535/week-2-may-8th-may-14th/3323/\n",
    "\n",
    "You are given an array coordinates, coordinates[i] = [x, y], where [x, y] represents the coordinate of a point. Check if these points make a straight line in the XY plane.\n",
    "\n",
    "Input: coordinates = [[1,2],[2,3],[3,4],[4,5],[5,6],[6,7]]\n",
    "Output: true\n",
    "\n",
    "\n",
    "Constraints:\n",
    "\n",
    "2 <= coordinates.length <= 1000\n",
    "coordinates[i].length == 2\n",
    "-10^4 <= coordinates[i][0], coordinates[i][1] <= 10^4\n",
    "coordinates contains no duplicate point."
   ]
  },
  {
   "cell_type": "code",
   "execution_count": null,
   "metadata": {},
   "outputs": [],
   "source": []
  },
  {
   "cell_type": "markdown",
   "metadata": {},
   "source": [
    "## Attempt 1"
   ]
  },
  {
   "cell_type": "code",
   "execution_count": 8,
   "metadata": {},
   "outputs": [
    {
     "name": "stdout",
     "output_type": "stream",
     "text": [
      "True\n"
     ]
    }
   ],
   "source": [
    "my_coord = [[1,2],[2,3],[3,4],[4,5],[5,6],[6,7]]\n",
    "\n",
    "\"\"\"\n",
    "Straight line when:\n",
    "- the slope between each pair is the same\n",
    "- mse is 0\n",
    "\"\"\"\n",
    "\n",
    "# Brute force\n",
    "\n",
    "initial_slope = None\n",
    "for i in range(len(my_coord)-1):\n",
    "    slope = (my_coord[i+1][1]-my_coord[i][1])/(my_coord[i+1][0]-my_coord[i][0])\n",
    "    if i==0:\n",
    "        initial_slope = slope\n",
    "    if slope != initial_slope:\n",
    "        print(False)\n",
    "print(True)\n"
   ]
  },
  {
   "cell_type": "code",
   "execution_count": 21,
   "metadata": {},
   "outputs": [],
   "source": [
    "def checkStraightLine(coordinates):\n",
    "    \"\"\"\n",
    "    Straight line when:\n",
    "    - the slope between each pair is the same\n",
    "    - mse is 0\n",
    "    \"\"\"\n",
    "\n",
    "    # Brute force\n",
    "    initial_slope = None\n",
    "    initial_x_diff = None\n",
    "    for i in range(len(coordinates)-1):\n",
    "\n",
    "        y_diff = (coordinates[i+1][1]-coordinates[i][1])\n",
    "        x_diff = (coordinates[i+1][0]-coordinates[i][0])\n",
    "        \n",
    "        # Edge case is division by 0 (vertical line)\n",
    "        if (i==0) & (x_diff==0):\n",
    "            initial_x_diff = 0\n",
    "            \n",
    "        if (initial_x_diff == 0) & (x_diff != 0):\n",
    "            return False\n",
    "        \n",
    "        if (initial_x_diff != 0) & (x_diff == 0):\n",
    "            return False\n",
    "                \n",
    "        # Most cases\n",
    "        if initial_x_diff != 0:\n",
    "            slope = y_diff/x_diff\n",
    "            if i==0:\n",
    "                initial_slope = slope\n",
    "            if slope != initial_slope:\n",
    "                return False\n",
    "            \n",
    "    return True"
   ]
  },
  {
   "cell_type": "code",
   "execution_count": 22,
   "metadata": {},
   "outputs": [
    {
     "data": {
      "text/plain": [
       "True"
      ]
     },
     "execution_count": 22,
     "metadata": {},
     "output_type": "execute_result"
    }
   ],
   "source": [
    "my_coord = [[1,2],[2,3],[3,4],[4,5],[5,6],[6,7]]\n",
    "checkStraightLine(my_coord)"
   ]
  },
  {
   "cell_type": "code",
   "execution_count": 23,
   "metadata": {},
   "outputs": [
    {
     "data": {
      "text/plain": [
       "False"
      ]
     },
     "execution_count": 23,
     "metadata": {},
     "output_type": "execute_result"
    }
   ],
   "source": [
    "my_coord = [[1,1],[2,2],[3,4],[4,5],[5,6],[7,7]]\n",
    "checkStraightLine(my_coord)"
   ]
  },
  {
   "cell_type": "code",
   "execution_count": 24,
   "metadata": {},
   "outputs": [
    {
     "data": {
      "text/plain": [
       "False"
      ]
     },
     "execution_count": 24,
     "metadata": {},
     "output_type": "execute_result"
    }
   ],
   "source": [
    "my_coord = [[-1,1],[-6,-4],[-6,2],[2,0],[-1,-2],[0,-4]]\n",
    "checkStraightLine(my_coord)"
   ]
  },
  {
   "cell_type": "code",
   "execution_count": null,
   "metadata": {},
   "outputs": [],
   "source": []
  },
  {
   "cell_type": "code",
   "execution_count": null,
   "metadata": {},
   "outputs": [],
   "source": []
  },
  {
   "cell_type": "code",
   "execution_count": null,
   "metadata": {},
   "outputs": [],
   "source": []
  },
  {
   "cell_type": "markdown",
   "metadata": {},
   "source": [
    "# --"
   ]
  }
 ],
 "metadata": {
  "kernelspec": {
   "display_name": "Python 3",
   "language": "python",
   "name": "python3"
  },
  "language_info": {
   "codemirror_mode": {
    "name": "ipython",
    "version": 3
   },
   "file_extension": ".py",
   "mimetype": "text/x-python",
   "name": "python",
   "nbconvert_exporter": "python",
   "pygments_lexer": "ipython3",
   "version": "3.6.9"
  },
  "toc": {
   "base_numbering": 1,
   "nav_menu": {},
   "number_sections": true,
   "sideBar": true,
   "skip_h1_title": false,
   "title_cell": "Table of Contents",
   "title_sidebar": "Contents",
   "toc_cell": false,
   "toc_position": {
    "height": "calc(100% - 180px)",
    "left": "10px",
    "top": "150px",
    "width": "189.617px"
   },
   "toc_section_display": true,
   "toc_window_display": true
  },
  "toc-autonumbering": true,
  "varInspector": {
   "cols": {
    "lenName": 16,
    "lenType": 16,
    "lenVar": 40
   },
   "kernels_config": {
    "python": {
     "delete_cmd_postfix": "",
     "delete_cmd_prefix": "del ",
     "library": "var_list.py",
     "varRefreshCmd": "print(var_dic_list())"
    },
    "r": {
     "delete_cmd_postfix": ") ",
     "delete_cmd_prefix": "rm(",
     "library": "var_list.r",
     "varRefreshCmd": "cat(var_dic_list()) "
    }
   },
   "types_to_exclude": [
    "module",
    "function",
    "builtin_function_or_method",
    "instance",
    "_Feature"
   ],
   "window_display": false
  }
 },
 "nbformat": 4,
 "nbformat_minor": 4
}
