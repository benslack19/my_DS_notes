{
 "cells": [
  {
   "cell_type": "markdown",
   "metadata": {},
   "source": [
    "**Probability and statistics - Chapter 11: Tables of Counts**\n",
    "\n",
    "Using the textbook by Wild & Seber as a guide, I document some statistical lessons in this notebook.\n",
    "\n",
    "This chapter is about variables that define classes or group membership. Tables of measurements are now replaced by tables of counts, and we focus on proportions (probabilities) rather than means. Tables are based on samples, and the sample proportions in the tables will be estimates of the true underlying population proportions.\n",
    "\n",
    "In the way that t- and F-distributions are used for making inferences about samples of quantitative varibles, the Chi-square distribution is the main distribution handling inferences about categorical data. It is based on cmparing the observed counts in the tables with those that one might expect to get under some hypothesis about the way the underlying population proportions or probabilities are structured. If the differences between the observed and expected counts are sufficiently large, then the hypothesis will be rejected.\n",
    "\n",
    "**One-way tables:**\n",
    "- single qualitative variable with a single vector of data\n",
    "- **Test for goodness-of-fit**: Do the underlying population proportions follow a hypothesized pattern?\n",
    "\n",
    "**Two-way tables:**\n",
    "- Similar as above but now two situations are of interest\n",
    "    1. **Test for homogeneity**: When we have several different populations, each represented by a 1D table, do they have the same underlying proportions?\n",
    "    2. **Test for independence**: When there is just one population, but the categories can now be arranged in a 2D array. Are the row and column categoires independent of each other?\n",
    "- Note the perils of collapsing complex tables to simpler ones\n"
   ]
  },
  {
   "cell_type": "code",
   "execution_count": 1,
   "metadata": {
    "ExecuteTime": {
     "end_time": "2020-09-03T17:30:07.797359Z",
     "start_time": "2020-09-03T17:30:05.188816Z"
    }
   },
   "outputs": [
    {
     "data": {
      "application/javascript": [
       "\n",
       "            setTimeout(function() {\n",
       "                var nbb_cell_id = 1;\n",
       "                var nbb_unformatted_code = \"import matplotlib.pyplot as plt\\nimport numpy as np\\nimport pandas as pd\\n\\n%matplotlib inline\\nimport seaborn as sns\\nfrom scipy import integrate, stats\\n\\n# Code formatting\\n%load_ext nb_black\";\n",
       "                var nbb_formatted_code = \"import matplotlib.pyplot as plt\\nimport numpy as np\\nimport pandas as pd\\n\\n%matplotlib inline\\nimport seaborn as sns\\nfrom scipy import integrate, stats\\n\\n# Code formatting\\n%load_ext nb_black\";\n",
       "                var nbb_cells = Jupyter.notebook.get_cells();\n",
       "                for (var i = 0; i < nbb_cells.length; ++i) {\n",
       "                    if (nbb_cells[i].input_prompt_number == nbb_cell_id) {\n",
       "                        if (nbb_cells[i].get_text() == nbb_unformatted_code) {\n",
       "                             nbb_cells[i].set_text(nbb_formatted_code);\n",
       "                        }\n",
       "                        break;\n",
       "                    }\n",
       "                }\n",
       "            }, 500);\n",
       "            "
      ],
      "text/plain": [
       "<IPython.core.display.Javascript object>"
      ]
     },
     "metadata": {},
     "output_type": "display_data"
    }
   ],
   "source": [
    "import matplotlib.pyplot as plt\n",
    "import numpy as np\n",
    "import pandas as pd\n",
    "\n",
    "%matplotlib inline\n",
    "import seaborn as sns\n",
    "from scipy import integrate, stats\n",
    "\n",
    "# Code formatting\n",
    "%load_ext nb_black"
   ]
  },
  {
   "cell_type": "markdown",
   "metadata": {},
   "source": [
    "## Introduction\n",
    "\n"
   ]
  },
  {
   "cell_type": "markdown",
   "metadata": {},
   "source": [
    "## Chapter review exercises"
   ]
  },
  {
   "cell_type": "markdown",
   "metadata": {},
   "source": [
    "### Question 1\n",
    "\n",
    "300 voters in a district are surveyed at random and are asked which of three majoral candidates they would vote for. Results were:\n",
    "\n",
    "| Preferred mayor | A | B | C |\n",
    "| --- | ---- | --- | -- |\n",
    "| Number of voters | 119 | 97 | 84 |"
   ]
  },
  {
   "cell_type": "code",
   "execution_count": 2,
   "metadata": {
    "ExecuteTime": {
     "end_time": "2020-09-03T17:33:20.764933Z",
     "start_time": "2020-09-03T17:33:20.739752Z"
    }
   },
   "outputs": [
    {
     "data": {
      "text/plain": [
       "Power_divergenceResult(statistic=6.26, pvalue=0.04371779725275094)"
      ]
     },
     "execution_count": 2,
     "metadata": {},
     "output_type": "execute_result"
    },
    {
     "data": {
      "application/javascript": [
       "\n",
       "            setTimeout(function() {\n",
       "                var nbb_cell_id = 2;\n",
       "                var nbb_unformatted_code = \"from scipy.stats import chisquare\\n\\nchisquare([119, 97, 84])\";\n",
       "                var nbb_formatted_code = \"from scipy.stats import chisquare\\n\\nchisquare([119, 97, 84])\";\n",
       "                var nbb_cells = Jupyter.notebook.get_cells();\n",
       "                for (var i = 0; i < nbb_cells.length; ++i) {\n",
       "                    if (nbb_cells[i].input_prompt_number == nbb_cell_id) {\n",
       "                        if (nbb_cells[i].get_text() == nbb_unformatted_code) {\n",
       "                             nbb_cells[i].set_text(nbb_formatted_code);\n",
       "                        }\n",
       "                        break;\n",
       "                    }\n",
       "                }\n",
       "            }, 500);\n",
       "            "
      ],
      "text/plain": [
       "<IPython.core.display.Javascript object>"
      ]
     },
     "metadata": {},
     "output_type": "display_data"
    }
   ],
   "source": [
    "from scipy.stats import chisquare\n",
    "\n",
    "chisquare([119, 97, 84])"
   ]
  },
  {
   "cell_type": "markdown",
   "metadata": {},
   "source": [
    "This answer is the same that I got calculated manually and with the book."
   ]
  },
  {
   "cell_type": "code",
   "execution_count": null,
   "metadata": {},
   "outputs": [],
   "source": []
  }
 ],
 "metadata": {
  "kernelspec": {
   "display_name": "Python 3",
   "language": "python",
   "name": "python3"
  },
  "language_info": {
   "codemirror_mode": {
    "name": "ipython",
    "version": 3
   },
   "file_extension": ".py",
   "mimetype": "text/x-python",
   "name": "python",
   "nbconvert_exporter": "python",
   "pygments_lexer": "ipython3",
   "version": "3.6.9"
  },
  "toc": {
   "base_numbering": 1,
   "nav_menu": {},
   "number_sections": true,
   "sideBar": true,
   "skip_h1_title": false,
   "title_cell": "Table of Contents",
   "title_sidebar": "Contents",
   "toc_cell": false,
   "toc_position": {},
   "toc_section_display": true,
   "toc_window_display": true
  },
  "varInspector": {
   "cols": {
    "lenName": 16,
    "lenType": 16,
    "lenVar": 40
   },
   "kernels_config": {
    "python": {
     "delete_cmd_postfix": "",
     "delete_cmd_prefix": "del ",
     "library": "var_list.py",
     "varRefreshCmd": "print(var_dic_list())"
    },
    "r": {
     "delete_cmd_postfix": ") ",
     "delete_cmd_prefix": "rm(",
     "library": "var_list.r",
     "varRefreshCmd": "cat(var_dic_list()) "
    }
   },
   "types_to_exclude": [
    "module",
    "function",
    "builtin_function_or_method",
    "instance",
    "_Feature"
   ],
   "window_display": false
  }
 },
 "nbformat": 4,
 "nbformat_minor": 4
}
