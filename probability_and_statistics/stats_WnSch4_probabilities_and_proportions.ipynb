{
 "cells": [
  {
   "cell_type": "markdown",
   "metadata": {},
   "source": [
    "# Chapter 4: Probabilities and Proportions\n",
    "\n",
    "Using the textbook by Wild & Seber as a guide, I document some statistical lessons in this notebook.\n",
    "\n",
    "The primary emphasis of the chapter is providing a foundation for developing statistical theory. Most people have an intuitive feeling for probability, but care is needed as intuition can lead you astray if there isn't a sure foundation.\n",
    "\n",
    "There are "
   ]
  },
  {
   "cell_type": "code",
   "execution_count": 1,
   "metadata": {
    "ExecuteTime": {
     "end_time": "2020-06-04T19:17:09.025690Z",
     "start_time": "2020-06-04T19:17:07.002035Z"
    }
   },
   "outputs": [
    {
     "data": {
      "application/javascript": [
       "\n",
       "            setTimeout(function() {\n",
       "                var nbb_cell_id = 1;\n",
       "                var nbb_unformatted_code = \"import numpy as np\\nimport pandas as pd\\nimport matplotlib.pyplot as plt\\n\\n%matplotlib inline\\nimport seaborn as sns\\nfrom scipy import stats, integrate\\n\\n# Code formatting\\n%load_ext nb_black\";\n",
       "                var nbb_formatted_code = \"import numpy as np\\nimport pandas as pd\\nimport matplotlib.pyplot as plt\\n\\n%matplotlib inline\\nimport seaborn as sns\\nfrom scipy import stats, integrate\\n\\n# Code formatting\\n%load_ext nb_black\";\n",
       "                var nbb_cells = Jupyter.notebook.get_cells();\n",
       "                for (var i = 0; i < nbb_cells.length; ++i) {\n",
       "                    if (nbb_cells[i].input_prompt_number == nbb_cell_id) {\n",
       "                        if (nbb_cells[i].get_text() == nbb_unformatted_code) {\n",
       "                             nbb_cells[i].set_text(nbb_formatted_code);\n",
       "                        }\n",
       "                        break;\n",
       "                    }\n",
       "                }\n",
       "            }, 500);\n",
       "            "
      ],
      "text/plain": [
       "<IPython.core.display.Javascript object>"
      ]
     },
     "metadata": {},
     "output_type": "display_data"
    }
   ],
   "source": [
    "import numpy as np\n",
    "import pandas as pd\n",
    "import matplotlib.pyplot as plt\n",
    "\n",
    "%matplotlib inline\n",
    "import seaborn as sns\n",
    "from scipy import stats, integrate\n",
    "\n",
    "# Code formatting\n",
    "%load_ext nb_black"
   ]
  },
  {
   "cell_type": "markdown",
   "metadata": {},
   "source": [
    "## Introduction"
   ]
  },
  {
   "cell_type": "markdown",
   "metadata": {},
   "source": [
    "xxxxx"
   ]
  },
  {
   "cell_type": "markdown",
   "metadata": {},
   "source": [
    "## Coin Tossing and Probability Models"
   ]
  },
  {
   "cell_type": "markdown",
   "metadata": {},
   "source": [
    "xxxxx"
   ]
  },
  {
   "cell_type": "code",
   "execution_count": null,
   "metadata": {},
   "outputs": [],
   "source": []
  },
  {
   "cell_type": "markdown",
   "metadata": {},
   "source": [
    "## Where do probabilities come from?"
   ]
  },
  {
   "cell_type": "markdown",
   "metadata": {},
   "source": [
    "xxxxx"
   ]
  },
  {
   "cell_type": "code",
   "execution_count": null,
   "metadata": {},
   "outputs": [],
   "source": []
  },
  {
   "cell_type": "markdown",
   "metadata": {},
   "source": [
    "## Simple probability models"
   ]
  },
  {
   "cell_type": "markdown",
   "metadata": {},
   "source": [
    "xxxxx"
   ]
  },
  {
   "cell_type": "code",
   "execution_count": null,
   "metadata": {},
   "outputs": [],
   "source": []
  },
  {
   "cell_type": "markdown",
   "metadata": {},
   "source": [
    "## Probability rules"
   ]
  },
  {
   "cell_type": "markdown",
   "metadata": {},
   "source": [
    "xxxxx"
   ]
  },
  {
   "cell_type": "code",
   "execution_count": null,
   "metadata": {},
   "outputs": [],
   "source": []
  },
  {
   "cell_type": "markdown",
   "metadata": {},
   "source": [
    "## Conditional probability"
   ]
  },
  {
   "cell_type": "markdown",
   "metadata": {},
   "source": [
    "xxxxx"
   ]
  },
  {
   "cell_type": "markdown",
   "metadata": {},
   "source": [
    "## Statistical independence"
   ]
  },
  {
   "cell_type": "code",
   "execution_count": null,
   "metadata": {},
   "outputs": [],
   "source": []
  },
  {
   "cell_type": "markdown",
   "metadata": {
    "ExecuteTime": {
     "end_time": "2020-06-11T00:28:49.553257Z",
     "start_time": "2020-06-11T00:28:48.733975Z"
    }
   },
   "source": [
    "## Summary"
   ]
  },
  {
   "cell_type": "markdown",
   "metadata": {
    "ExecuteTime": {
     "end_time": "2020-06-11T00:38:33.757480Z",
     "start_time": "2020-06-11T00:38:33.458009Z"
    }
   },
   "source": [
    "1. **Some basic ideas about probabilities**\n",
    "    - how probabilities arise\n",
    "    - the idea of a simple probability model\n",
    "    - important but different notions of mutually exclusive events and statistically independent events\n",
    "    - a probability depends on the infomration available\n",
    "    - a formalization of this through conditional probability\n",
    "\n",
    "2. **Some facility with manipulating probabilities and proportions**\n",
    "    - Some standard types of probability manipulation that will be used repeatedly. For example:\n",
    "    - **Adding** of probabilities of **mutually exclusive** events to get the probability that at least one of them occurs\n",
    "    - **Multiplying** the probabilities of **independent events** to get the probability that all of them occur.\n",
    "    - Also, some problems can best be solved by constructing tw-way tables of counts or proportions."
   ]
  },
  {
   "cell_type": "markdown",
   "metadata": {},
   "source": [
    "### Summary of concepts"
   ]
  },
  {
   "cell_type": "markdown",
   "metadata": {},
   "source": [
    "1. **Probabilities** come frmo three main sources:\n",
    "    - **Models** (idealizations such as the notion of equally likely outcomes, which suggest probabilities by symmetry)\n",
    "    - **Data** (e.g. relative frequencies with which the event has occurred in the past)\n",
    "    - **Subjective feelings** representing a degre of belief\n",
    "\n",
    "\n",
    "2. A simple **probability model** consists of a sample space and a probability distribution.\n",
    "\n",
    "\n",
    "3. The **sample space, S** for a random experiment is the set of all possible out comes of the experiment.\n",
    "\n",
    "\n",
    "4. Probability distribution\n",
    "\n",
    "\n",
    "5. An event is a collection of outcomes. An event occurs if any outcome making up that event occurs.\n",
    "\n",
    "\n",
    "6. The probability of event A can be obtained by adding up the probabilities of all the outcomes in A.\n",
    "\n",
    "\n",
    "7. If all outcomes are equally likely:\n",
    "<br>\n",
    "    $ \\text{pr(A)} = \\frac{\\text{number of outcomes in A}}{\\text{total number of outcomes}} $\n",
    "<br>\n",
    "<br>\n",
    "8. The complement of an event A, denoted $\\bar{A}$ occurs if A does not occur.\n",
    "\n",
    "\n",
    "9. It is useful to represent events diagramatically using Venn diagrams.\n",
    "\n",
    "\n",
    "10. A union of events, A or B, contains all outcomes in A or B (including those in both). It occurs if at least one of A or B occurs.\n",
    "\n",
    "\n",
    "11. An intersection of events, A and B, contains all outcomes that are in both A and B. It occurs only if both A and B occur.\n",
    "\n",
    "\n",
    "12. Mutually exclusive events cannot occur at the same time.\n",
    "\n",
    "\n",
    "13. The conditional probability of A occurring given that B occurs is given by:\n",
    "<br>\n",
    "      $ \\text{pr(A | B)} = \\frac{\\text{pr(A and B)}}{\\text{pr(B)}} $\n",
    "<br>\n",
    "<br>\n",
    "14. Events A and B are statistically independent if knowing whether B has cocurred gives no new information about the chances of A occurring, that is, if pr(A | B) = pr(A).\n",
    "\n",
    "15. If events are physically independent, then under any sensible probability model they are also statistically independent.\n",
    "\n",
    "16. Assuming that events are independent when in reality they are not can often lead to answers that are grossly too big or grossly too small."
   ]
  },
  {
   "cell_type": "markdown",
   "metadata": {},
   "source": [
    "### Summary of useful formulas"
   ]
  },
  {
   "cell_type": "markdown",
   "metadata": {},
   "source": [
    "1. For discrete sample spaces, pr(A) can be obtained by adding the probabilities of all outcomes in A.\n",
    "2. For equally likely outcomes in a finite sample space\n",
    "<br>\n",
    "    $ \\text{pr(A)} = \\frac{\\text{number of outcomes in A}}{\\text{total number of outcomes}} $\n",
    "<br>\n",
    "<br>\n",
    "\n",
    "**General probability rules**\n",
    "<br>\n",
    "1. pr(S) = 1\n",
    "2. pr($\\bar{A}$) = 1 - pr(${A}$)\n",
    "3. If A and B are mutually exclusive events, then \n",
    "<br>\n",
    "    pr(A or B) = pr(A) + pr(B)    \n",
    "<br>\n",
    "4. If $A_1, A_2, ..., A_k$ are mutually exclusive events, then \n",
    "<br>\n",
    "    pr($A_1 or A_2 or ... A_k$) = pr($A_1$) + pr($A_2$) + ... + pr($A_k$)\n",
    "    \n",
    "**Conditional probability**\n",
    "<br>\n",
    "1. Definition:\n",
    "<br>\n",
    "$ \\text{pr(A | B)} = \\frac{\\text{pr(A and B)}}{\\text{pr(B)}} $\n",
    "<br>\n",
    "2. Multiplication rule:\n",
    "<br>\n",
    "$ \\text{pr(A and B)} = \\text{pr(B|A)}\\text{pr(A)} = \\text{pr(A|B)}\\text{pr(B)} $\n",
    "<br>\n",
    "\n",
    "**Independence**\n",
    "<br>\n",
    "1. If A and B are independent events, then\n",
    "<br>\n",
    "$ \\text{pr(A and B)} = \\text{pr(A)pr(B)} $\n",
    "<br>\n",
    "2. If $A_1, A_2, ..., A_k$ are mutually independent, then it follows that\n",
    "<br>\n",
    "    $pr(A_1 and A_2 and ... A_n) = pr(A_1)pr(A_2)...pr(A_n)$\n",
    "    "
   ]
  },
  {
   "cell_type": "markdown",
   "metadata": {},
   "source": [
    "## End of the chapter problems"
   ]
  },
  {
   "cell_type": "markdown",
   "metadata": {},
   "source": [
    "### Bertrand's Box Problem"
   ]
  },
  {
   "cell_type": "markdown",
   "metadata": {},
   "source": [
    "24. A historic problem called Bertrand's Box Problem. A box contains three drawers: one containing two gold coins, one containing two silver coins, and one containing one gold and one silver coin. A drawer is chosen at random, and a coin is randomly selected from that drawer. If the selected coin turns out to be gold, what is the probability that the chosen drawer is the one with two gold coins?\n",
    "\n",
    "A. G,G\n",
    "B. S,S\n",
    "C. G,S"
   ]
  },
  {
   "cell_type": "markdown",
   "metadata": {
    "ExecuteTime": {
     "end_time": "2020-06-11T01:35:48.309414Z",
     "start_time": "2020-06-11T01:35:48.175731Z"
    }
   },
   "source": [
    "#### My application of Bayes"
   ]
  },
  {
   "cell_type": "markdown",
   "metadata": {},
   "source": [
    "A. G,G\n",
    "B. S,S\n",
    "C. G,S"
   ]
  },
  {
   "cell_type": "markdown",
   "metadata": {},
   "source": [
    "**Right answer - not 100% sure about reasoning but I think it's okay.**\n",
    "\n",
    "Probability of it coming from Drawer B is 0. If it came from Drawer C, gold is 1 out of 2. If it came from Drawer A, gold is 2 out of 2.\n",
    "\n",
    "P(A given drawing one gold coin) = P(A|G) = P(A & G) / P(G) \n",
    "\n",
    "P(A & G) = P(G|A)P(A) = P(A|G)P(G)\n",
    "\n",
    "P(A|G) = P(G|A)P(A)/P(G)\n",
    "\n",
    "= (1)*(1/3) / (1/2)\n",
    "\n",
    "= 2/3"
   ]
  },
  {
   "cell_type": "markdown",
   "metadata": {},
   "source": [
    "[Bertrand's box problem on Wikipedia](https://en.wikipedia.org/wiki/Bertrand%27s_box_paradox)"
   ]
  },
  {
   "cell_type": "markdown",
   "metadata": {},
   "source": [
    "#### Reasoning"
   ]
  },
  {
   "cell_type": "markdown",
   "metadata": {},
   "source": [
    "Let's say that each of the boxes has two drawers. The problem can be re-framed as, \"If you randomly choose a box, and then find a gold coin in one of the drawers, what is the probability that the other will be a gold coin?\"\n",
    "\n",
    "You can eliminate box B (S,S). That leaves two, but the answer is NOT 1/2.\n",
    "\n",
    "The coin you pick can be one of the following three gold coins:\n",
    "G1 (box A)\n",
    "G2 (box A)\n",
    "G3 (box B)\n",
    "\n",
    "Therefore, it's a 2/3 probability that it comes from box A."
   ]
  },
  {
   "cell_type": "markdown",
   "metadata": {},
   "source": [
    "#### Bayes solution (Wikipedia) - application of conditional probability"
   ]
  },
  {
   "cell_type": "markdown",
   "metadata": {
    "ExecuteTime": {
     "end_time": "2020-06-11T17:21:54.512896Z",
     "start_time": "2020-06-11T17:21:54.268246Z"
    }
   },
   "source": [
    "P(A|G)P(G) = P(G|A)P(G)\n",
    "\n",
    "P(A|G) = P(G|A)P(A) / P(G)\n",
    "\n",
    "Let's look at denominator\n",
    "P(G) = P(G|A)P(A) + P(G|B)P(B) + P(G|C)P(C)\n",
    "     = (1)*(1/3) + (1/2)*(1/3) + (0)*(1/3)\n",
    "    \n",
    "    \n",
    "P(A|G) =   (1)*(1/3) / (1)*(1/3) + (1/2)*(1/3)\n",
    "\n",
    "(1/3 cancel out)\n",
    "       = 1 / 1.5\n",
    "       = 2/3"
   ]
  },
  {
   "cell_type": "markdown",
   "metadata": {},
   "source": [
    "#### Experimental / simulation approach"
   ]
  },
  {
   "cell_type": "code",
   "execution_count": 17,
   "metadata": {
    "ExecuteTime": {
     "end_time": "2020-06-11T17:32:50.135169Z",
     "start_time": "2020-06-11T17:32:50.119087Z"
    }
   },
   "outputs": [
    {
     "data": {
      "text/plain": [
       "['A']"
      ]
     },
     "execution_count": 17,
     "metadata": {},
     "output_type": "execute_result"
    },
    {
     "data": {
      "application/javascript": [
       "\n",
       "            setTimeout(function() {\n",
       "                var nbb_cell_id = 17;\n",
       "                var nbb_unformatted_code = \"import random\\n\\nrandom.sample([\\\"A\\\", \\\"B\\\", \\\"C\\\"], 1)\";\n",
       "                var nbb_formatted_code = \"import random\\n\\nrandom.sample([\\\"A\\\", \\\"B\\\", \\\"C\\\"], 1)\";\n",
       "                var nbb_cells = Jupyter.notebook.get_cells();\n",
       "                for (var i = 0; i < nbb_cells.length; ++i) {\n",
       "                    if (nbb_cells[i].input_prompt_number == nbb_cell_id) {\n",
       "                        if (nbb_cells[i].get_text() == nbb_unformatted_code) {\n",
       "                             nbb_cells[i].set_text(nbb_formatted_code);\n",
       "                        }\n",
       "                        break;\n",
       "                    }\n",
       "                }\n",
       "            }, 500);\n",
       "            "
      ],
      "text/plain": [
       "<IPython.core.display.Javascript object>"
      ]
     },
     "metadata": {},
     "output_type": "display_data"
    }
   ],
   "source": [
    "import random\n",
    "\n",
    "random.sample([\"A\", \"B\", \"C\"], 1)"
   ]
  },
  {
   "cell_type": "code",
   "execution_count": 29,
   "metadata": {
    "ExecuteTime": {
     "end_time": "2020-06-11T17:44:48.388684Z",
     "start_time": "2020-06-11T17:44:48.231752Z"
    }
   },
   "outputs": [
    {
     "data": {
      "application/javascript": [
       "\n",
       "            setTimeout(function() {\n",
       "                var nbb_cell_id = 29;\n",
       "                var nbb_unformatted_code = \"# Run a lot of trials\\n\\nfrom collections import Counter\\nimport random\\n\\nboxes = [\\\"A\\\", \\\"B\\\", \\\"C\\\"]\\ncoin_side = [1, 2]  # Assume gold is on side 1 of Box B\\n\\nbox_count = Counter()\\ntrial_box_list = list()\\n\\ntrial_box_list_wgold = list()\\nbox_count_wgold = Counter()\\n\\nfor trial in range(10000):\\n    # Randomly pick a box\\n    box = random.sample(boxes, 1)[0]\\n    trial_box_list.append(box)\\n\\n    # Keep track of box distribution\\n    box_count[box] += 1\\n\\n    # Randomly pick coin after picking a box\\n    if box == \\\"A\\\":\\n        side = random.sample(coin_side, 1)[\\n            0\\n        ]  # not really necessary for Box A but showing for completion\\n        if (side == 1) | (side == 2):\\n            trial_box_list_wgold.append(box)\\n            box_count_wgold[box] += 1  # Keep track of box with gold distribution\\n\\n    elif box == \\\"B\\\":\\n        side = random.sample(coin_side, 1)[0]  # Assume gold is on side 1 of Box B\\n        if side == 1:\\n            trial_box_list_wgold.append(box)\\n            box_count_wgold[box] += 1  # Keep track of box with gold distribution\\n\\n    # ignore box C\";\n",
       "                var nbb_formatted_code = \"# Run a lot of trials\\n\\nfrom collections import Counter\\nimport random\\n\\nboxes = [\\\"A\\\", \\\"B\\\", \\\"C\\\"]\\ncoin_side = [1, 2]  # Assume gold is on side 1 of Box B\\n\\nbox_count = Counter()\\ntrial_box_list = list()\\n\\ntrial_box_list_wgold = list()\\nbox_count_wgold = Counter()\\n\\nfor trial in range(10000):\\n    # Randomly pick a box\\n    box = random.sample(boxes, 1)[0]\\n    trial_box_list.append(box)\\n\\n    # Keep track of box distribution\\n    box_count[box] += 1\\n\\n    # Randomly pick coin after picking a box\\n    if box == \\\"A\\\":\\n        side = random.sample(coin_side, 1)[\\n            0\\n        ]  # not really necessary for Box A but showing for completion\\n        if (side == 1) | (side == 2):\\n            trial_box_list_wgold.append(box)\\n            box_count_wgold[box] += 1  # Keep track of box with gold distribution\\n\\n    elif box == \\\"B\\\":\\n        side = random.sample(coin_side, 1)[0]  # Assume gold is on side 1 of Box B\\n        if side == 1:\\n            trial_box_list_wgold.append(box)\\n            box_count_wgold[box] += 1  # Keep track of box with gold distribution\\n\\n    # ignore box C\";\n",
       "                var nbb_cells = Jupyter.notebook.get_cells();\n",
       "                for (var i = 0; i < nbb_cells.length; ++i) {\n",
       "                    if (nbb_cells[i].input_prompt_number == nbb_cell_id) {\n",
       "                        if (nbb_cells[i].get_text() == nbb_unformatted_code) {\n",
       "                             nbb_cells[i].set_text(nbb_formatted_code);\n",
       "                        }\n",
       "                        break;\n",
       "                    }\n",
       "                }\n",
       "            }, 500);\n",
       "            "
      ],
      "text/plain": [
       "<IPython.core.display.Javascript object>"
      ]
     },
     "metadata": {},
     "output_type": "display_data"
    }
   ],
   "source": [
    "# Run a lot of trials\n",
    "\n",
    "from collections import Counter\n",
    "import random\n",
    "\n",
    "boxes = [\"A\", \"B\", \"C\"]\n",
    "coin_side = [1, 2]  # Assume gold is on side 1 of Box B\n",
    "\n",
    "box_count = Counter()\n",
    "trial_box_list = list()\n",
    "\n",
    "trial_box_list_wgold = list()\n",
    "box_count_wgold = Counter()\n",
    "\n",
    "for trial in range(10000):\n",
    "    # Randomly pick a box\n",
    "    box = random.sample(boxes, 1)[0]\n",
    "    trial_box_list.append(box)\n",
    "\n",
    "    # Keep track of box distribution\n",
    "    box_count[box] += 1\n",
    "\n",
    "    # Randomly pick coin after picking a box\n",
    "    if box == \"A\":\n",
    "        side = random.sample(coin_side, 1)[\n",
    "            0\n",
    "        ]  # not really necessary for Box A but showing for completion\n",
    "        if (side == 1) | (side == 2):\n",
    "            trial_box_list_wgold.append(box)\n",
    "            box_count_wgold[box] += 1  # Keep track of box with gold distribution\n",
    "\n",
    "    elif box == \"B\":\n",
    "        side = random.sample(coin_side, 1)[0]  # Assume gold is on side 1 of Box B\n",
    "        if side == 1:\n",
    "            trial_box_list_wgold.append(box)\n",
    "            box_count_wgold[box] += 1  # Keep track of box with gold distribution\n",
    "\n",
    "    # ignore box C"
   ]
  },
  {
   "cell_type": "code",
   "execution_count": 33,
   "metadata": {
    "ExecuteTime": {
     "end_time": "2020-06-11T17:45:20.821034Z",
     "start_time": "2020-06-11T17:45:20.804498Z"
    }
   },
   "outputs": [
    {
     "data": {
      "text/plain": [
       "0.6625049544193421"
      ]
     },
     "execution_count": 33,
     "metadata": {},
     "output_type": "execute_result"
    },
    {
     "data": {
      "application/javascript": [
       "\n",
       "            setTimeout(function() {\n",
       "                var nbb_cell_id = 33;\n",
       "                var nbb_unformatted_code = \"box_count_wgold[\\\"A\\\"] / (box_count_wgold[\\\"A\\\"] + box_count_wgold[\\\"B\\\"])\";\n",
       "                var nbb_formatted_code = \"box_count_wgold[\\\"A\\\"] / (box_count_wgold[\\\"A\\\"] + box_count_wgold[\\\"B\\\"])\";\n",
       "                var nbb_cells = Jupyter.notebook.get_cells();\n",
       "                for (var i = 0; i < nbb_cells.length; ++i) {\n",
       "                    if (nbb_cells[i].input_prompt_number == nbb_cell_id) {\n",
       "                        if (nbb_cells[i].get_text() == nbb_unformatted_code) {\n",
       "                             nbb_cells[i].set_text(nbb_formatted_code);\n",
       "                        }\n",
       "                        break;\n",
       "                    }\n",
       "                }\n",
       "            }, 500);\n",
       "            "
      ],
      "text/plain": [
       "<IPython.core.display.Javascript object>"
      ]
     },
     "metadata": {},
     "output_type": "display_data"
    }
   ],
   "source": [
    "box_count_wgold[\"A\"] / (box_count_wgold[\"A\"] + box_count_wgold[\"B\"])"
   ]
  },
  {
   "cell_type": "code",
   "execution_count": null,
   "metadata": {},
   "outputs": [],
   "source": []
  },
  {
   "cell_type": "code",
   "execution_count": null,
   "metadata": {},
   "outputs": [],
   "source": []
  },
  {
   "cell_type": "code",
   "execution_count": null,
   "metadata": {},
   "outputs": [],
   "source": [
    "#### Other versions:\n",
    "\n",
    "Card version:\n",
    "    - 3 cards with colors on each side (BB, WW, BW)\n",
    "    - One card is pulled and the side you see is black. What are the odds that the other side is black?\n",
    "    \n",
    "An alternative question: Pick a card at random. What are the odds that it has the same color on either side?\n",
    "    "
   ]
  },
  {
   "cell_type": "markdown",
   "metadata": {},
   "source": [
    "### Satellite signals"
   ]
  },
  {
   "cell_type": "markdown",
   "metadata": {},
   "source": [
    "25. Digital data are transmitted as a sequence of signals that represent 0s and 1s. Suppose that data are being transmitted to a satellite and then relayed to a distant site. Suppose that, due to electrical interference in the atmostphere, there is a 1-in-1000 chance that a transmitted 0 will be reversed between the sender and sattelite (such that the satellite interprets it as a 1) and a 2-in-1000 chance that a transmitted 1 will be reversed. Suppose that 40% of transmitted digits are 0s.\n",
    "\n",
    "a. What is the probability that a transmitted digit is correctly received by the satellite?\n",
    "b. Assuming independence, what is the probability that all digits are received correctly (i) if 1000 digits are transmitted? (ii) if 10,000 are transmitted?"
   ]
  }
 ],
 "metadata": {
  "kernelspec": {
   "display_name": "Python 3",
   "language": "python",
   "name": "python3"
  },
  "language_info": {
   "codemirror_mode": {
    "name": "ipython",
    "version": 3
   },
   "file_extension": ".py",
   "mimetype": "text/x-python",
   "name": "python",
   "nbconvert_exporter": "python",
   "pygments_lexer": "ipython3",
   "version": "3.6.9"
  },
  "toc": {
   "base_numbering": 1,
   "nav_menu": {},
   "number_sections": true,
   "sideBar": true,
   "skip_h1_title": false,
   "title_cell": "Table of Contents",
   "title_sidebar": "Contents",
   "toc_cell": false,
   "toc_position": {},
   "toc_section_display": true,
   "toc_window_display": true
  },
  "varInspector": {
   "cols": {
    "lenName": 16,
    "lenType": 16,
    "lenVar": 40
   },
   "kernels_config": {
    "python": {
     "delete_cmd_postfix": "",
     "delete_cmd_prefix": "del ",
     "library": "var_list.py",
     "varRefreshCmd": "print(var_dic_list())"
    },
    "r": {
     "delete_cmd_postfix": ") ",
     "delete_cmd_prefix": "rm(",
     "library": "var_list.r",
     "varRefreshCmd": "cat(var_dic_list()) "
    }
   },
   "types_to_exclude": [
    "module",
    "function",
    "builtin_function_or_method",
    "instance",
    "_Feature"
   ],
   "window_display": false
  }
 },
 "nbformat": 4,
 "nbformat_minor": 4
}
