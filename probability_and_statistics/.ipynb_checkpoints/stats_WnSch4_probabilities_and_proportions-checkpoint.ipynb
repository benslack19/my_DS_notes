{
 "cells": [
  {
   "cell_type": "markdown",
   "metadata": {},
   "source": [
    "# Chapter 4: Probabilities and Proportions\n",
    "\n",
    "Using the textbook by Wild & Seber as a guide, I document some statistical lessons in this notebook.\n",
    "\n",
    "The primary emphasis of the chapter is providing a foundation for developing statistical theory. Most people have an intuitive feeling for probability, but care is needed as intuition can lead you astray if there isn't a sure foundation.\n",
    "\n",
    "There are "
   ]
  },
  {
   "cell_type": "code",
   "execution_count": 1,
   "metadata": {
    "ExecuteTime": {
     "end_time": "2020-06-04T19:17:09.025690Z",
     "start_time": "2020-06-04T19:17:07.002035Z"
    }
   },
   "outputs": [
    {
     "data": {
      "application/javascript": [
       "\n",
       "            setTimeout(function() {\n",
       "                var nbb_cell_id = 1;\n",
       "                var nbb_unformatted_code = \"import numpy as np\\nimport pandas as pd\\nimport matplotlib.pyplot as plt\\n\\n%matplotlib inline\\nimport seaborn as sns\\nfrom scipy import stats, integrate\\n\\n# Code formatting\\n%load_ext nb_black\";\n",
       "                var nbb_formatted_code = \"import numpy as np\\nimport pandas as pd\\nimport matplotlib.pyplot as plt\\n\\n%matplotlib inline\\nimport seaborn as sns\\nfrom scipy import stats, integrate\\n\\n# Code formatting\\n%load_ext nb_black\";\n",
       "                var nbb_cells = Jupyter.notebook.get_cells();\n",
       "                for (var i = 0; i < nbb_cells.length; ++i) {\n",
       "                    if (nbb_cells[i].input_prompt_number == nbb_cell_id) {\n",
       "                        if (nbb_cells[i].get_text() == nbb_unformatted_code) {\n",
       "                             nbb_cells[i].set_text(nbb_formatted_code);\n",
       "                        }\n",
       "                        break;\n",
       "                    }\n",
       "                }\n",
       "            }, 500);\n",
       "            "
      ],
      "text/plain": [
       "<IPython.core.display.Javascript object>"
      ]
     },
     "metadata": {},
     "output_type": "display_data"
    }
   ],
   "source": [
    "import numpy as np\n",
    "import pandas as pd\n",
    "import matplotlib.pyplot as plt\n",
    "\n",
    "%matplotlib inline\n",
    "import seaborn as sns\n",
    "from scipy import stats, integrate\n",
    "\n",
    "# Code formatting\n",
    "%load_ext nb_black"
   ]
  },
  {
   "cell_type": "markdown",
   "metadata": {},
   "source": [
    "## Introduction"
   ]
  },
  {
   "cell_type": "markdown",
   "metadata": {},
   "source": [
    "xxxxx"
   ]
  },
  {
   "cell_type": "markdown",
   "metadata": {},
   "source": [
    "## Coin Tossing and Probability Models"
   ]
  },
  {
   "cell_type": "markdown",
   "metadata": {},
   "source": [
    "xxxxx"
   ]
  },
  {
   "cell_type": "markdown",
   "metadata": {},
   "source": [
    "## End of the chapter problems"
   ]
  },
  {
   "cell_type": "markdown",
   "metadata": {},
   "source": [
    "### Bertrand's Box Problem"
   ]
  },
  {
   "cell_type": "markdown",
   "metadata": {},
   "source": [
    "24. A historic problem called Bertrand's Box Problem. A box contains three drawers: one containing two gold coins, one containing two silver coins, and one containing one gold and one silver coin. A drawer is chosen at random, and a coin is randomly selected from that drawer. If the selected coin turns out to be gold, what is the probability that the chosen drawer is the one with two gold coins?"
   ]
  },
  {
   "cell_type": "markdown",
   "metadata": {},
   "source": [
    "A. G,G\n",
    "B. S,S\n",
    "C. G,S"
   ]
  },
  {
   "cell_type": "markdown",
   "metadata": {},
   "source": [
    "Probability of it coming from Drawer B is 0. If it came from Drawer C, gold is 1 out of 2. If it came from Drawer A, gold is 2 out of 2.\n",
    "\n",
    "P(A given drawing one gold coin) = P(A|G) = P(A & G) / P(G) \n",
    "\n",
    "P(A & G) = P(G|A)P(A) = P(A|G)P(G)\n",
    "\n",
    "P(A|G) = P(G|A)P(A)/P(G)\n",
    "\n",
    "= (1)*(1/3) / (1/2)\n",
    "\n",
    "= 2/3\n"
   ]
  },
  {
   "cell_type": "markdown",
   "metadata": {},
   "source": [
    "[Bertrand's box problem on Wikipedia](https://en.wikipedia.org/wiki/Bertrand%27s_box_paradox)"
   ]
  },
  {
   "cell_type": "markdown",
   "metadata": {},
   "source": [
    "### Satellite signals"
   ]
  },
  {
   "cell_type": "markdown",
   "metadata": {},
   "source": [
    "25. Digital data are transmitted as a sequence of signals that represent 0s and 1s. Suppose that data are being transmitted to a satellite and then relayed to a distant site. Suppose that, due to electrical interference in the atmostphere, there is a 1-in-1000 chance that a transmitted 0 will be reversed between the sender and sattelite (such that the satellite interprets it as a 1) and a 2-in-1000 chance that a transmitted 1 will be reversed. Suppose that 40% of transmitted digits are 0s.\n",
    "\n",
    "a. What is the probability that a transmitted digit is correctly received by the satellite?\n",
    "b. Assuming independence, what is the probability that all digits are received correctly (i) if 1000 digits are transmitted? (ii) if 10,000 are transmitted?"
   ]
  }
 ],
 "metadata": {
  "kernelspec": {
   "display_name": "Python 3",
   "language": "python",
   "name": "python3"
  },
  "language_info": {
   "codemirror_mode": {
    "name": "ipython",
    "version": 3
   },
   "file_extension": ".py",
   "mimetype": "text/x-python",
   "name": "python",
   "nbconvert_exporter": "python",
   "pygments_lexer": "ipython3",
   "version": "3.6.9"
  },
  "toc": {
   "base_numbering": 1,
   "nav_menu": {},
   "number_sections": true,
   "sideBar": true,
   "skip_h1_title": false,
   "title_cell": "Table of Contents",
   "title_sidebar": "Contents",
   "toc_cell": false,
   "toc_position": {},
   "toc_section_display": true,
   "toc_window_display": true
  },
  "varInspector": {
   "cols": {
    "lenName": 16,
    "lenType": 16,
    "lenVar": 40
   },
   "kernels_config": {
    "python": {
     "delete_cmd_postfix": "",
     "delete_cmd_prefix": "del ",
     "library": "var_list.py",
     "varRefreshCmd": "print(var_dic_list())"
    },
    "r": {
     "delete_cmd_postfix": ") ",
     "delete_cmd_prefix": "rm(",
     "library": "var_list.r",
     "varRefreshCmd": "cat(var_dic_list()) "
    }
   },
   "types_to_exclude": [
    "module",
    "function",
    "builtin_function_or_method",
    "instance",
    "_Feature"
   ],
   "window_display": false
  }
 },
 "nbformat": 4,
 "nbformat_minor": 4
}
