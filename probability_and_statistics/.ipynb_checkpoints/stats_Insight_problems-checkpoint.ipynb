{
 "cells": [
  {
   "cell_type": "markdown",
   "metadata": {},
   "source": [
    "# Statistics from Insight problems\n",
    "\n"
   ]
  },
  {
   "cell_type": "code",
   "execution_count": 2,
   "metadata": {
    "ExecuteTime": {
     "end_time": "2020-04-13T19:53:21.109565Z",
     "start_time": "2020-04-13T19:53:21.096173Z"
    }
   },
   "outputs": [
    {
     "name": "stdout",
     "output_type": "stream",
     "text": [
      "The nb_black extension is already loaded. To reload it, use:\n",
      "  %reload_ext nb_black\n"
     ]
    },
    {
     "data": {
      "application/javascript": [
       "\n",
       "            setTimeout(function() {\n",
       "                var nbb_cell_id = 2;\n",
       "                var nbb_unformatted_code = \"import numpy as np\\nimport pandas as pd\\nimport matplotlib.pyplot as plt\\nimport seaborn as sns\\nfrom scipy import stats, integrate\\n\\n# Code formatting\\n%load_ext nb_black\";\n",
       "                var nbb_formatted_code = \"import numpy as np\\nimport pandas as pd\\nimport matplotlib.pyplot as plt\\nimport seaborn as sns\\nfrom scipy import stats, integrate\\n\\n# Code formatting\\n%load_ext nb_black\";\n",
       "                var nbb_cells = Jupyter.notebook.get_cells();\n",
       "                for (var i = 0; i < nbb_cells.length; ++i) {\n",
       "                    if (nbb_cells[i].input_prompt_number == nbb_cell_id) {\n",
       "                        if (nbb_cells[i].get_text() == nbb_unformatted_code) {\n",
       "                             nbb_cells[i].set_text(nbb_formatted_code);\n",
       "                        }\n",
       "                        break;\n",
       "                    }\n",
       "                }\n",
       "            }, 500);\n",
       "            "
      ],
      "text/plain": [
       "<IPython.core.display.Javascript object>"
      ]
     },
     "metadata": {},
     "output_type": "display_data"
    }
   ],
   "source": [
    "import numpy as np\n",
    "import pandas as pd\n",
    "import matplotlib.pyplot as plt\n",
    "import seaborn as sns\n",
    "from scipy import stats, integrate\n",
    "\n",
    "# Code formatting\n",
    "%load_ext nb_black"
   ]
  },
  {
   "cell_type": "markdown",
   "metadata": {},
   "source": [
    "**Some math markdown notations**"
   ]
  },
  {
   "cell_type": "markdown",
   "metadata": {
    "ExecuteTime": {
     "end_time": "2020-03-24T21:30:10.813904Z",
     "start_time": "2020-03-24T21:30:10.494124Z"
    }
   },
   "source": [
    "[Writing math symbols in markdown](https://jupyter-notebook.readthedocs.io/en/stable/examples/Notebook/Typesetting%20Equations.html)"
   ]
  },
  {
   "cell_type": "markdown",
   "metadata": {},
   "source": [
    "$\\bar{x}$\n",
    "$\\pm$\n",
    "$2se(\\bar{x})$\n",
    "\n",
    "= 5.447931 $\\pm$ 2 x 0.04102858 = 5.447931 $\\pm$ 0.08205717\n",
    "\n",
    "$\\bar{x}$\n",
    "$\\bar{X}$\n",
    "$se(\\bar{x})$ = \n",
    "\n",
    "$\\frac{s_X}{\\sqrt(n)}$ = $\\frac{0.22094577}{\\sqrt29}$ \n",
    "$\\mu$\n",
    "$\\hat{p}$\n",
    "$\\hat{P}$\n"
   ]
  },
  {
   "cell_type": "markdown",
   "metadata": {},
   "source": [
    "# Bootstrapping exercise\n",
    "\n",
    "Questions with Prodyumna. Testing fundamentals of probability theory and minor coding as minor element."
   ]
  },
  {
   "cell_type": "markdown",
   "metadata": {},
   "source": [
    "Choosing to join Insight is a risky life choice. Consider three possible outcomes of attending Insight:\n",
    "With probability 65%, you get a great job which pays well (how well is well? you ask. for the sake of this exercise let's say 100,000). With probability 30, you get a less great job which only pays half i.e. 50,000. Finally and sadly, with probability 5%, you don't get a job i.e. make 0."
   ]
  },
  {
   "cell_type": "markdown",
   "metadata": {},
   "source": [
    "## Calculate the expected value"
   ]
  },
  {
   "cell_type": "code",
   "execution_count": 3,
   "metadata": {
    "ExecuteTime": {
     "end_time": "2020-04-13T19:53:34.212824Z",
     "start_time": "2020-04-13T19:53:34.202623Z"
    }
   },
   "outputs": [
    {
     "name": "stdout",
     "output_type": "stream",
     "text": [
      "80000.0\n"
     ]
    },
    {
     "data": {
      "application/javascript": [
       "\n",
       "            setTimeout(function() {\n",
       "                var nbb_cell_id = 3;\n",
       "                var nbb_unformatted_code = \"exp_val = 100000*0.65 + 50000*0.3 + 0*0.05 \\nprint(exp_val)\";\n",
       "                var nbb_formatted_code = \"exp_val = 100000 * 0.65 + 50000 * 0.3 + 0 * 0.05\\nprint(exp_val)\";\n",
       "                var nbb_cells = Jupyter.notebook.get_cells();\n",
       "                for (var i = 0; i < nbb_cells.length; ++i) {\n",
       "                    if (nbb_cells[i].input_prompt_number == nbb_cell_id) {\n",
       "                        if (nbb_cells[i].get_text() == nbb_unformatted_code) {\n",
       "                             nbb_cells[i].set_text(nbb_formatted_code);\n",
       "                        }\n",
       "                        break;\n",
       "                    }\n",
       "                }\n",
       "            }, 500);\n",
       "            "
      ],
      "text/plain": [
       "<IPython.core.display.Javascript object>"
      ]
     },
     "metadata": {},
     "output_type": "display_data"
    }
   ],
   "source": [
    "exp_val = 100000 * 0.65 + 50000 * 0.3 + 0 * 0.05\n",
    "print(exp_val)"
   ]
  },
  {
   "cell_type": "markdown",
   "metadata": {},
   "source": [
    "## Determine SD?"
   ]
  },
  {
   "cell_type": "markdown",
   "metadata": {},
   "source": [
    "## Write a simulation to calculate expected value\n",
    "\n",
    "My strategy\n",
    "- Make a list of values - make draws"
   ]
  },
  {
   "cell_type": "code",
   "execution_count": 4,
   "metadata": {
    "ExecuteTime": {
     "end_time": "2020-04-13T19:53:40.338309Z",
     "start_time": "2020-04-13T19:53:40.329338Z"
    }
   },
   "outputs": [
    {
     "data": {
      "application/javascript": [
       "\n",
       "            setTimeout(function() {\n",
       "                var nbb_cell_id = 4;\n",
       "                var nbb_unformatted_code = \"simulated_vals = [100000]*65 + [50000]*30 + [0]*5\";\n",
       "                var nbb_formatted_code = \"simulated_vals = [100000] * 65 + [50000] * 30 + [0] * 5\";\n",
       "                var nbb_cells = Jupyter.notebook.get_cells();\n",
       "                for (var i = 0; i < nbb_cells.length; ++i) {\n",
       "                    if (nbb_cells[i].input_prompt_number == nbb_cell_id) {\n",
       "                        if (nbb_cells[i].get_text() == nbb_unformatted_code) {\n",
       "                             nbb_cells[i].set_text(nbb_formatted_code);\n",
       "                        }\n",
       "                        break;\n",
       "                    }\n",
       "                }\n",
       "            }, 500);\n",
       "            "
      ],
      "text/plain": [
       "<IPython.core.display.Javascript object>"
      ]
     },
     "metadata": {},
     "output_type": "display_data"
    }
   ],
   "source": [
    "simulated_vals = [100000] * 65 + [50000] * 30 + [0] * 5"
   ]
  },
  {
   "cell_type": "code",
   "execution_count": 5,
   "metadata": {
    "ExecuteTime": {
     "end_time": "2020-04-13T19:53:41.879251Z",
     "start_time": "2020-04-13T19:53:41.867918Z"
    }
   },
   "outputs": [
    {
     "data": {
      "application/javascript": [
       "\n",
       "            setTimeout(function() {\n",
       "                var nbb_cell_id = 5;\n",
       "                var nbb_unformatted_code = \"# Make repeated draws\\ndraws = np.random.choice(simulated_vals, 100)\";\n",
       "                var nbb_formatted_code = \"# Make repeated draws\\ndraws = np.random.choice(simulated_vals, 100)\";\n",
       "                var nbb_cells = Jupyter.notebook.get_cells();\n",
       "                for (var i = 0; i < nbb_cells.length; ++i) {\n",
       "                    if (nbb_cells[i].input_prompt_number == nbb_cell_id) {\n",
       "                        if (nbb_cells[i].get_text() == nbb_unformatted_code) {\n",
       "                             nbb_cells[i].set_text(nbb_formatted_code);\n",
       "                        }\n",
       "                        break;\n",
       "                    }\n",
       "                }\n",
       "            }, 500);\n",
       "            "
      ],
      "text/plain": [
       "<IPython.core.display.Javascript object>"
      ]
     },
     "metadata": {},
     "output_type": "display_data"
    }
   ],
   "source": [
    "# Make repeated draws\n",
    "draws = np.random.choice(simulated_vals, 100)"
   ]
  },
  {
   "cell_type": "code",
   "execution_count": 6,
   "metadata": {
    "ExecuteTime": {
     "end_time": "2020-04-13T19:53:42.430233Z",
     "start_time": "2020-04-13T19:53:42.421280Z"
    }
   },
   "outputs": [
    {
     "data": {
      "text/plain": [
       "array([100000, 100000,      0, 100000, 100000, 100000, 100000,  50000,\n",
       "       100000, 100000,      0, 100000, 100000, 100000, 100000,  50000,\n",
       "       100000,  50000,  50000, 100000,  50000, 100000, 100000,  50000,\n",
       "       100000, 100000, 100000,  50000, 100000, 100000,  50000,  50000,\n",
       "       100000,  50000, 100000, 100000, 100000, 100000, 100000, 100000,\n",
       "       100000, 100000, 100000, 100000,  50000,      0, 100000, 100000,\n",
       "       100000, 100000, 100000,  50000,  50000,  50000,  50000, 100000,\n",
       "       100000, 100000, 100000, 100000, 100000,  50000, 100000, 100000,\n",
       "       100000, 100000, 100000, 100000,  50000, 100000,      0, 100000,\n",
       "       100000, 100000,  50000,  50000, 100000, 100000,  50000, 100000,\n",
       "       100000, 100000, 100000,  50000, 100000,  50000, 100000, 100000,\n",
       "       100000, 100000, 100000, 100000,  50000,  50000, 100000, 100000,\n",
       "       100000, 100000, 100000,      0])"
      ]
     },
     "execution_count": 6,
     "metadata": {},
     "output_type": "execute_result"
    },
    {
     "data": {
      "application/javascript": [
       "\n",
       "            setTimeout(function() {\n",
       "                var nbb_cell_id = 6;\n",
       "                var nbb_unformatted_code = \"draws\";\n",
       "                var nbb_formatted_code = \"draws\";\n",
       "                var nbb_cells = Jupyter.notebook.get_cells();\n",
       "                for (var i = 0; i < nbb_cells.length; ++i) {\n",
       "                    if (nbb_cells[i].input_prompt_number == nbb_cell_id) {\n",
       "                        if (nbb_cells[i].get_text() == nbb_unformatted_code) {\n",
       "                             nbb_cells[i].set_text(nbb_formatted_code);\n",
       "                        }\n",
       "                        break;\n",
       "                    }\n",
       "                }\n",
       "            }, 500);\n",
       "            "
      ],
      "text/plain": [
       "<IPython.core.display.Javascript object>"
      ]
     },
     "metadata": {},
     "output_type": "display_data"
    }
   ],
   "source": [
    "draws"
   ]
  },
  {
   "cell_type": "code",
   "execution_count": 7,
   "metadata": {
    "ExecuteTime": {
     "end_time": "2020-04-13T19:53:45.257044Z",
     "start_time": "2020-04-13T19:53:45.248187Z"
    }
   },
   "outputs": [
    {
     "data": {
      "text/plain": [
       "83000.0"
      ]
     },
     "execution_count": 7,
     "metadata": {},
     "output_type": "execute_result"
    },
    {
     "data": {
      "application/javascript": [
       "\n",
       "            setTimeout(function() {\n",
       "                var nbb_cell_id = 7;\n",
       "                var nbb_unformatted_code = \"# Add them up and divide by number of draws\\nnp.mean(draws)\";\n",
       "                var nbb_formatted_code = \"# Add them up and divide by number of draws\\nnp.mean(draws)\";\n",
       "                var nbb_cells = Jupyter.notebook.get_cells();\n",
       "                for (var i = 0; i < nbb_cells.length; ++i) {\n",
       "                    if (nbb_cells[i].input_prompt_number == nbb_cell_id) {\n",
       "                        if (nbb_cells[i].get_text() == nbb_unformatted_code) {\n",
       "                             nbb_cells[i].set_text(nbb_formatted_code);\n",
       "                        }\n",
       "                        break;\n",
       "                    }\n",
       "                }\n",
       "            }, 500);\n",
       "            "
      ],
      "text/plain": [
       "<IPython.core.display.Javascript object>"
      ]
     },
     "metadata": {},
     "output_type": "display_data"
    }
   ],
   "source": [
    "# Add them up and divide by number of draws\n",
    "np.mean(draws)"
   ]
  },
  {
   "cell_type": "code",
   "execution_count": 8,
   "metadata": {
    "ExecuteTime": {
     "end_time": "2020-04-13T19:53:45.665815Z",
     "start_time": "2020-04-13T19:53:45.652962Z"
    }
   },
   "outputs": [
    {
     "data": {
      "text/plain": [
       "79715.0"
      ]
     },
     "execution_count": 8,
     "metadata": {},
     "output_type": "execute_result"
    },
    {
     "data": {
      "application/javascript": [
       "\n",
       "            setTimeout(function() {\n",
       "                var nbb_cell_id = 8;\n",
       "                var nbb_unformatted_code = \"draws = np.random.choice(simulated_vals, 10000)\\nnp.mean(draws)\";\n",
       "                var nbb_formatted_code = \"draws = np.random.choice(simulated_vals, 10000)\\nnp.mean(draws)\";\n",
       "                var nbb_cells = Jupyter.notebook.get_cells();\n",
       "                for (var i = 0; i < nbb_cells.length; ++i) {\n",
       "                    if (nbb_cells[i].input_prompt_number == nbb_cell_id) {\n",
       "                        if (nbb_cells[i].get_text() == nbb_unformatted_code) {\n",
       "                             nbb_cells[i].set_text(nbb_formatted_code);\n",
       "                        }\n",
       "                        break;\n",
       "                    }\n",
       "                }\n",
       "            }, 500);\n",
       "            "
      ],
      "text/plain": [
       "<IPython.core.display.Javascript object>"
      ]
     },
     "metadata": {},
     "output_type": "display_data"
    }
   ],
   "source": [
    "draws = np.random.choice(simulated_vals, 10000)\n",
    "np.mean(draws)"
   ]
  },
  {
   "cell_type": "markdown",
   "metadata": {
    "ExecuteTime": {
     "end_time": "2020-03-12T02:55:56.954258Z",
     "start_time": "2020-03-12T02:55:56.946877Z"
    }
   },
   "source": [
    "## Imagine you have a survey of 50 Insight fellows\n",
    "\n",
    "Construct a dataframe of fellow_id\n",
    "- column 1, fellow id: 0-49\n",
    "- column 2, draw from normal distribution, with mean 80,0000 and standard deviation of 20,000"
   ]
  },
  {
   "cell_type": "code",
   "execution_count": 9,
   "metadata": {
    "ExecuteTime": {
     "end_time": "2020-04-13T19:53:49.506181Z",
     "start_time": "2020-04-13T19:53:49.481731Z"
    }
   },
   "outputs": [
    {
     "data": {
      "application/javascript": [
       "\n",
       "            setTimeout(function() {\n",
       "                var nbb_cell_id = 9;\n",
       "                var nbb_unformatted_code = \"df_salary = pd.DataFrame()\\ndf_salary['fellow_id'] = range(50)\\ndf_salary['salary'] = np.random.normal(80000,20000,50)\";\n",
       "                var nbb_formatted_code = \"df_salary = pd.DataFrame()\\ndf_salary[\\\"fellow_id\\\"] = range(50)\\ndf_salary[\\\"salary\\\"] = np.random.normal(80000, 20000, 50)\";\n",
       "                var nbb_cells = Jupyter.notebook.get_cells();\n",
       "                for (var i = 0; i < nbb_cells.length; ++i) {\n",
       "                    if (nbb_cells[i].input_prompt_number == nbb_cell_id) {\n",
       "                        if (nbb_cells[i].get_text() == nbb_unformatted_code) {\n",
       "                             nbb_cells[i].set_text(nbb_formatted_code);\n",
       "                        }\n",
       "                        break;\n",
       "                    }\n",
       "                }\n",
       "            }, 500);\n",
       "            "
      ],
      "text/plain": [
       "<IPython.core.display.Javascript object>"
      ]
     },
     "metadata": {},
     "output_type": "display_data"
    }
   ],
   "source": [
    "df_salary = pd.DataFrame()\n",
    "df_salary[\"fellow_id\"] = range(50)\n",
    "df_salary[\"salary\"] = np.random.normal(80000, 20000, 50)"
   ]
  },
  {
   "cell_type": "code",
   "execution_count": 10,
   "metadata": {
    "ExecuteTime": {
     "end_time": "2020-04-13T19:53:49.942872Z",
     "start_time": "2020-04-13T19:53:49.927633Z"
    }
   },
   "outputs": [
    {
     "data": {
      "text/html": [
       "<div>\n",
       "<style scoped>\n",
       "    .dataframe tbody tr th:only-of-type {\n",
       "        vertical-align: middle;\n",
       "    }\n",
       "\n",
       "    .dataframe tbody tr th {\n",
       "        vertical-align: top;\n",
       "    }\n",
       "\n",
       "    .dataframe thead th {\n",
       "        text-align: right;\n",
       "    }\n",
       "</style>\n",
       "<table border=\"1\" class=\"dataframe\">\n",
       "  <thead>\n",
       "    <tr style=\"text-align: right;\">\n",
       "      <th></th>\n",
       "      <th>fellow_id</th>\n",
       "      <th>salary</th>\n",
       "    </tr>\n",
       "  </thead>\n",
       "  <tbody>\n",
       "    <tr>\n",
       "      <th>0</th>\n",
       "      <td>0</td>\n",
       "      <td>85250.620024</td>\n",
       "    </tr>\n",
       "    <tr>\n",
       "      <th>1</th>\n",
       "      <td>1</td>\n",
       "      <td>66327.389611</td>\n",
       "    </tr>\n",
       "    <tr>\n",
       "      <th>2</th>\n",
       "      <td>2</td>\n",
       "      <td>52720.196947</td>\n",
       "    </tr>\n",
       "    <tr>\n",
       "      <th>3</th>\n",
       "      <td>3</td>\n",
       "      <td>102795.543800</td>\n",
       "    </tr>\n",
       "    <tr>\n",
       "      <th>4</th>\n",
       "      <td>4</td>\n",
       "      <td>85361.086494</td>\n",
       "    </tr>\n",
       "  </tbody>\n",
       "</table>\n",
       "</div>"
      ],
      "text/plain": [
       "   fellow_id         salary\n",
       "0          0   85250.620024\n",
       "1          1   66327.389611\n",
       "2          2   52720.196947\n",
       "3          3  102795.543800\n",
       "4          4   85361.086494"
      ]
     },
     "execution_count": 10,
     "metadata": {},
     "output_type": "execute_result"
    },
    {
     "data": {
      "application/javascript": [
       "\n",
       "            setTimeout(function() {\n",
       "                var nbb_cell_id = 10;\n",
       "                var nbb_unformatted_code = \"df_salary.head()\";\n",
       "                var nbb_formatted_code = \"df_salary.head()\";\n",
       "                var nbb_cells = Jupyter.notebook.get_cells();\n",
       "                for (var i = 0; i < nbb_cells.length; ++i) {\n",
       "                    if (nbb_cells[i].input_prompt_number == nbb_cell_id) {\n",
       "                        if (nbb_cells[i].get_text() == nbb_unformatted_code) {\n",
       "                             nbb_cells[i].set_text(nbb_formatted_code);\n",
       "                        }\n",
       "                        break;\n",
       "                    }\n",
       "                }\n",
       "            }, 500);\n",
       "            "
      ],
      "text/plain": [
       "<IPython.core.display.Javascript object>"
      ]
     },
     "metadata": {},
     "output_type": "display_data"
    }
   ],
   "source": [
    "df_salary.head()"
   ]
  },
  {
   "cell_type": "code",
   "execution_count": 11,
   "metadata": {
    "ExecuteTime": {
     "end_time": "2020-04-13T19:53:53.020337Z",
     "start_time": "2020-04-13T19:53:53.014487Z"
    }
   },
   "outputs": [
    {
     "data": {
      "application/javascript": [
       "\n",
       "            setTimeout(function() {\n",
       "                var nbb_cell_id = 11;\n",
       "                var nbb_unformatted_code = \"# salary = pd.DataFrame({'fellow_id':range(50),\\n#                       'salary':np.random.normal(80000,20000,50)})\";\n",
       "                var nbb_formatted_code = \"# salary = pd.DataFrame({'fellow_id':range(50),\\n#                       'salary':np.random.normal(80000,20000,50)})\";\n",
       "                var nbb_cells = Jupyter.notebook.get_cells();\n",
       "                for (var i = 0; i < nbb_cells.length; ++i) {\n",
       "                    if (nbb_cells[i].input_prompt_number == nbb_cell_id) {\n",
       "                        if (nbb_cells[i].get_text() == nbb_unformatted_code) {\n",
       "                             nbb_cells[i].set_text(nbb_formatted_code);\n",
       "                        }\n",
       "                        break;\n",
       "                    }\n",
       "                }\n",
       "            }, 500);\n",
       "            "
      ],
      "text/plain": [
       "<IPython.core.display.Javascript object>"
      ]
     },
     "metadata": {},
     "output_type": "display_data"
    }
   ],
   "source": [
    "# salary = pd.DataFrame({'fellow_id':range(50),\n",
    "#                       'salary':np.random.normal(80000,20000,50)})"
   ]
  },
  {
   "cell_type": "code",
   "execution_count": 22,
   "metadata": {
    "ExecuteTime": {
     "end_time": "2020-04-06T17:14:38.851052Z",
     "start_time": "2020-04-06T17:14:38.848172Z"
    }
   },
   "outputs": [],
   "source": [
    "# What is mean of the salary?"
   ]
  },
  {
   "cell_type": "code",
   "execution_count": 12,
   "metadata": {
    "ExecuteTime": {
     "end_time": "2020-04-13T19:53:59.156042Z",
     "start_time": "2020-04-13T19:53:59.144458Z"
    },
    "scrolled": true
   },
   "outputs": [
    {
     "data": {
      "text/plain": [
       "81200.73977072988"
      ]
     },
     "execution_count": 12,
     "metadata": {},
     "output_type": "execute_result"
    },
    {
     "data": {
      "application/javascript": [
       "\n",
       "            setTimeout(function() {\n",
       "                var nbb_cell_id = 12;\n",
       "                var nbb_unformatted_code = \"df_salary['salary'].mean()\";\n",
       "                var nbb_formatted_code = \"df_salary[\\\"salary\\\"].mean()\";\n",
       "                var nbb_cells = Jupyter.notebook.get_cells();\n",
       "                for (var i = 0; i < nbb_cells.length; ++i) {\n",
       "                    if (nbb_cells[i].input_prompt_number == nbb_cell_id) {\n",
       "                        if (nbb_cells[i].get_text() == nbb_unformatted_code) {\n",
       "                             nbb_cells[i].set_text(nbb_formatted_code);\n",
       "                        }\n",
       "                        break;\n",
       "                    }\n",
       "                }\n",
       "            }, 500);\n",
       "            "
      ],
      "text/plain": [
       "<IPython.core.display.Javascript object>"
      ]
     },
     "metadata": {},
     "output_type": "display_data"
    }
   ],
   "source": [
    "df_salary[\"salary\"].mean()"
   ]
  },
  {
   "cell_type": "markdown",
   "metadata": {},
   "source": [
    "### Calculate the 95% CI around this mean\n",
    "\n",
    "Is the 50 the \"population\"? Or is it a sample of the population?"
   ]
  },
  {
   "cell_type": "markdown",
   "metadata": {},
   "source": [
    "**Using SD**"
   ]
  },
  {
   "cell_type": "code",
   "execution_count": 13,
   "metadata": {
    "ExecuteTime": {
     "end_time": "2020-04-13T19:54:06.117518Z",
     "start_time": "2020-04-13T19:54:06.101046Z"
    }
   },
   "outputs": [
    {
     "name": "stdout",
     "output_type": "stream",
     "text": [
      "SD:  53678.20405688572 108723.27548457404\n"
     ]
    },
    {
     "data": {
      "application/javascript": [
       "\n",
       "            setTimeout(function() {\n",
       "                var nbb_cell_id = 13;\n",
       "                var nbb_unformatted_code = \"lower_bound = df_salary[\\\"salary\\\"].mean() - 1.96 * df_salary[\\\"salary\\\"].std()\\nupper_bound = df_salary[\\\"salary\\\"].mean() + 1.96 * df_salary[\\\"salary\\\"].std()\\n\\nprint(\\\"SD: \\\", lower_bound, upper_bound)\";\n",
       "                var nbb_formatted_code = \"lower_bound = df_salary[\\\"salary\\\"].mean() - 1.96 * df_salary[\\\"salary\\\"].std()\\nupper_bound = df_salary[\\\"salary\\\"].mean() + 1.96 * df_salary[\\\"salary\\\"].std()\\n\\nprint(\\\"SD: \\\", lower_bound, upper_bound)\";\n",
       "                var nbb_cells = Jupyter.notebook.get_cells();\n",
       "                for (var i = 0; i < nbb_cells.length; ++i) {\n",
       "                    if (nbb_cells[i].input_prompt_number == nbb_cell_id) {\n",
       "                        if (nbb_cells[i].get_text() == nbb_unformatted_code) {\n",
       "                             nbb_cells[i].set_text(nbb_formatted_code);\n",
       "                        }\n",
       "                        break;\n",
       "                    }\n",
       "                }\n",
       "            }, 500);\n",
       "            "
      ],
      "text/plain": [
       "<IPython.core.display.Javascript object>"
      ]
     },
     "metadata": {},
     "output_type": "display_data"
    }
   ],
   "source": [
    "lower_bound = df_salary[\"salary\"].mean() - 1.96 * df_salary[\"salary\"].std()\n",
    "upper_bound = df_salary[\"salary\"].mean() + 1.96 * df_salary[\"salary\"].std()\n",
    "\n",
    "print(\"SD: \", lower_bound, upper_bound)"
   ]
  },
  {
   "cell_type": "markdown",
   "metadata": {},
   "source": [
    "**Use standard error**"
   ]
  },
  {
   "cell_type": "code",
   "execution_count": 14,
   "metadata": {
    "ExecuteTime": {
     "end_time": "2020-04-13T19:54:12.198329Z",
     "start_time": "2020-04-13T19:54:12.179726Z"
    }
   },
   "outputs": [
    {
     "name": "stdout",
     "output_type": "stream",
     "text": [
      "SE:  77308.46544298825 85093.01409847151\n"
     ]
    },
    {
     "data": {
      "application/javascript": [
       "\n",
       "            setTimeout(function() {\n",
       "                var nbb_cell_id = 14;\n",
       "                var nbb_unformatted_code = \"lower_bound = df_salary[\\\"salary\\\"].mean() - 1.96 * (\\n    df_salary[\\\"salary\\\"].std() / np.sqrt(50)\\n)\\nupper_bound = df_salary[\\\"salary\\\"].mean() + 1.96 * (\\n    df_salary[\\\"salary\\\"].std() / np.sqrt(50)\\n)\\n\\nprint(\\\"SE: \\\", lower_bound, upper_bound)\";\n",
       "                var nbb_formatted_code = \"lower_bound = df_salary[\\\"salary\\\"].mean() - 1.96 * (\\n    df_salary[\\\"salary\\\"].std() / np.sqrt(50)\\n)\\nupper_bound = df_salary[\\\"salary\\\"].mean() + 1.96 * (\\n    df_salary[\\\"salary\\\"].std() / np.sqrt(50)\\n)\\n\\nprint(\\\"SE: \\\", lower_bound, upper_bound)\";\n",
       "                var nbb_cells = Jupyter.notebook.get_cells();\n",
       "                for (var i = 0; i < nbb_cells.length; ++i) {\n",
       "                    if (nbb_cells[i].input_prompt_number == nbb_cell_id) {\n",
       "                        if (nbb_cells[i].get_text() == nbb_unformatted_code) {\n",
       "                             nbb_cells[i].set_text(nbb_formatted_code);\n",
       "                        }\n",
       "                        break;\n",
       "                    }\n",
       "                }\n",
       "            }, 500);\n",
       "            "
      ],
      "text/plain": [
       "<IPython.core.display.Javascript object>"
      ]
     },
     "metadata": {},
     "output_type": "display_data"
    }
   ],
   "source": [
    "lower_bound = df_salary[\"salary\"].mean() - 1.96 * (\n",
    "    df_salary[\"salary\"].std() / np.sqrt(50)\n",
    ")\n",
    "upper_bound = df_salary[\"salary\"].mean() + 1.96 * (\n",
    "    df_salary[\"salary\"].std() / np.sqrt(50)\n",
    ")\n",
    "\n",
    "print(\"SE: \", lower_bound, upper_bound)"
   ]
  },
  {
   "cell_type": "markdown",
   "metadata": {},
   "source": [
    "## Simulation to get CI\n",
    "\n",
    "Bootstrap = repeat with replacement"
   ]
  },
  {
   "cell_type": "code",
   "execution_count": 46,
   "metadata": {
    "ExecuteTime": {
     "end_time": "2020-04-13T20:03:05.250798Z",
     "start_time": "2020-04-13T20:03:05.234009Z"
    }
   },
   "outputs": [
    {
     "data": {
      "text/html": [
       "<div>\n",
       "<style scoped>\n",
       "    .dataframe tbody tr th:only-of-type {\n",
       "        vertical-align: middle;\n",
       "    }\n",
       "\n",
       "    .dataframe tbody tr th {\n",
       "        vertical-align: top;\n",
       "    }\n",
       "\n",
       "    .dataframe thead th {\n",
       "        text-align: right;\n",
       "    }\n",
       "</style>\n",
       "<table border=\"1\" class=\"dataframe\">\n",
       "  <thead>\n",
       "    <tr style=\"text-align: right;\">\n",
       "      <th></th>\n",
       "      <th>fellow_id</th>\n",
       "      <th>salary</th>\n",
       "    </tr>\n",
       "  </thead>\n",
       "  <tbody>\n",
       "    <tr>\n",
       "      <th>0</th>\n",
       "      <td>0</td>\n",
       "      <td>85250.620024</td>\n",
       "    </tr>\n",
       "    <tr>\n",
       "      <th>1</th>\n",
       "      <td>1</td>\n",
       "      <td>66327.389611</td>\n",
       "    </tr>\n",
       "    <tr>\n",
       "      <th>2</th>\n",
       "      <td>2</td>\n",
       "      <td>52720.196947</td>\n",
       "    </tr>\n",
       "    <tr>\n",
       "      <th>3</th>\n",
       "      <td>3</td>\n",
       "      <td>102795.543800</td>\n",
       "    </tr>\n",
       "    <tr>\n",
       "      <th>4</th>\n",
       "      <td>4</td>\n",
       "      <td>85361.086494</td>\n",
       "    </tr>\n",
       "  </tbody>\n",
       "</table>\n",
       "</div>"
      ],
      "text/plain": [
       "   fellow_id         salary\n",
       "0          0   85250.620024\n",
       "1          1   66327.389611\n",
       "2          2   52720.196947\n",
       "3          3  102795.543800\n",
       "4          4   85361.086494"
      ]
     },
     "execution_count": 46,
     "metadata": {},
     "output_type": "execute_result"
    },
    {
     "data": {
      "application/javascript": [
       "\n",
       "            setTimeout(function() {\n",
       "                var nbb_cell_id = 46;\n",
       "                var nbb_unformatted_code = \"df_salary.head()\";\n",
       "                var nbb_formatted_code = \"df_salary.head()\";\n",
       "                var nbb_cells = Jupyter.notebook.get_cells();\n",
       "                for (var i = 0; i < nbb_cells.length; ++i) {\n",
       "                    if (nbb_cells[i].input_prompt_number == nbb_cell_id) {\n",
       "                        if (nbb_cells[i].get_text() == nbb_unformatted_code) {\n",
       "                             nbb_cells[i].set_text(nbb_formatted_code);\n",
       "                        }\n",
       "                        break;\n",
       "                    }\n",
       "                }\n",
       "            }, 500);\n",
       "            "
      ],
      "text/plain": [
       "<IPython.core.display.Javascript object>"
      ]
     },
     "metadata": {},
     "output_type": "display_data"
    }
   ],
   "source": [
    "df_salary.head()"
   ]
  },
  {
   "cell_type": "code",
   "execution_count": 47,
   "metadata": {
    "ExecuteTime": {
     "end_time": "2020-04-13T20:03:11.708198Z",
     "start_time": "2020-04-13T20:03:11.515538Z"
    }
   },
   "outputs": [
    {
     "data": {
      "text/plain": [
       "<matplotlib.axes._subplots.AxesSubplot at 0x124727438>"
      ]
     },
     "execution_count": 47,
     "metadata": {},
     "output_type": "execute_result"
    },
    {
     "data": {
      "image/png": "[encoded data removed]",
      "text/plain": [
       "<Figure size 432x288 with 1 Axes>"
      ]
     },
     "metadata": {
      "needs_background": "light"
     },
     "output_type": "display_data"
    },
    {
     "data": {
      "application/javascript": [
       "\n",
       "            setTimeout(function() {\n",
       "                var nbb_cell_id = 47;\n",
       "                var nbb_unformatted_code = \"df_salary[\\\"salary\\\"].hist(color=\\\"gray\\\")\";\n",
       "                var nbb_formatted_code = \"df_salary[\\\"salary\\\"].hist(color=\\\"gray\\\")\";\n",
       "                var nbb_cells = Jupyter.notebook.get_cells();\n",
       "                for (var i = 0; i < nbb_cells.length; ++i) {\n",
       "                    if (nbb_cells[i].input_prompt_number == nbb_cell_id) {\n",
       "                        if (nbb_cells[i].get_text() == nbb_unformatted_code) {\n",
       "                             nbb_cells[i].set_text(nbb_formatted_code);\n",
       "                        }\n",
       "                        break;\n",
       "                    }\n",
       "                }\n",
       "            }, 500);\n",
       "            "
      ],
      "text/plain": [
       "<IPython.core.display.Javascript object>"
      ]
     },
     "metadata": {},
     "output_type": "display_data"
    }
   ],
   "source": [
    "df_salary[\"salary\"].hist(color=\"gray\")"
   ]
  },
  {
   "cell_type": "markdown",
   "metadata": {},
   "source": [
    "### Understanding sampling with replacement"
   ]
  },
  {
   "cell_type": "code",
   "execution_count": 49,
   "metadata": {
    "ExecuteTime": {
     "end_time": "2020-04-13T20:03:34.913006Z",
     "start_time": "2020-04-13T20:03:34.897467Z"
    }
   },
   "outputs": [
    {
     "data": {
      "text/html": [
       "<div>\n",
       "<style scoped>\n",
       "    .dataframe tbody tr th:only-of-type {\n",
       "        vertical-align: middle;\n",
       "    }\n",
       "\n",
       "    .dataframe tbody tr th {\n",
       "        vertical-align: top;\n",
       "    }\n",
       "\n",
       "    .dataframe thead th {\n",
       "        text-align: right;\n",
       "    }\n",
       "</style>\n",
       "<table border=\"1\" class=\"dataframe\">\n",
       "  <thead>\n",
       "    <tr style=\"text-align: right;\">\n",
       "      <th></th>\n",
       "      <th>fellow_id</th>\n",
       "      <th>salary</th>\n",
       "    </tr>\n",
       "  </thead>\n",
       "  <tbody>\n",
       "    <tr>\n",
       "      <th>2</th>\n",
       "      <td>2</td>\n",
       "      <td>52720.196947</td>\n",
       "    </tr>\n",
       "    <tr>\n",
       "      <th>1</th>\n",
       "      <td>1</td>\n",
       "      <td>66327.389611</td>\n",
       "    </tr>\n",
       "    <tr>\n",
       "      <th>2</th>\n",
       "      <td>2</td>\n",
       "      <td>52720.196947</td>\n",
       "    </tr>\n",
       "  </tbody>\n",
       "</table>\n",
       "</div>"
      ],
      "text/plain": [
       "   fellow_id        salary\n",
       "2          2  52720.196947\n",
       "1          1  66327.389611\n",
       "2          2  52720.196947"
      ]
     },
     "execution_count": 49,
     "metadata": {},
     "output_type": "execute_result"
    },
    {
     "data": {
      "application/javascript": [
       "\n",
       "            setTimeout(function() {\n",
       "                var nbb_cell_id = 49;\n",
       "                var nbb_unformatted_code = \"df_salary[0:3].sample(3, replace=True)\";\n",
       "                var nbb_formatted_code = \"df_salary[0:3].sample(3, replace=True)\";\n",
       "                var nbb_cells = Jupyter.notebook.get_cells();\n",
       "                for (var i = 0; i < nbb_cells.length; ++i) {\n",
       "                    if (nbb_cells[i].input_prompt_number == nbb_cell_id) {\n",
       "                        if (nbb_cells[i].get_text() == nbb_unformatted_code) {\n",
       "                             nbb_cells[i].set_text(nbb_formatted_code);\n",
       "                        }\n",
       "                        break;\n",
       "                    }\n",
       "                }\n",
       "            }, 500);\n",
       "            "
      ],
      "text/plain": [
       "<IPython.core.display.Javascript object>"
      ]
     },
     "metadata": {},
     "output_type": "display_data"
    }
   ],
   "source": [
    "df_salary[0:3].sample(3, replace=True)"
   ]
  },
  {
   "cell_type": "code",
   "execution_count": 50,
   "metadata": {
    "ExecuteTime": {
     "end_time": "2020-04-13T20:03:36.008811Z",
     "start_time": "2020-04-13T20:03:35.994331Z"
    }
   },
   "outputs": [
    {
     "data": {
      "text/html": [
       "<div>\n",
       "<style scoped>\n",
       "    .dataframe tbody tr th:only-of-type {\n",
       "        vertical-align: middle;\n",
       "    }\n",
       "\n",
       "    .dataframe tbody tr th {\n",
       "        vertical-align: top;\n",
       "    }\n",
       "\n",
       "    .dataframe thead th {\n",
       "        text-align: right;\n",
       "    }\n",
       "</style>\n",
       "<table border=\"1\" class=\"dataframe\">\n",
       "  <thead>\n",
       "    <tr style=\"text-align: right;\">\n",
       "      <th></th>\n",
       "      <th>fellow_id</th>\n",
       "      <th>salary</th>\n",
       "    </tr>\n",
       "  </thead>\n",
       "  <tbody>\n",
       "    <tr>\n",
       "      <th>1</th>\n",
       "      <td>1</td>\n",
       "      <td>66327.389611</td>\n",
       "    </tr>\n",
       "    <tr>\n",
       "      <th>0</th>\n",
       "      <td>0</td>\n",
       "      <td>85250.620024</td>\n",
       "    </tr>\n",
       "    <tr>\n",
       "      <th>2</th>\n",
       "      <td>2</td>\n",
       "      <td>52720.196947</td>\n",
       "    </tr>\n",
       "  </tbody>\n",
       "</table>\n",
       "</div>"
      ],
      "text/plain": [
       "   fellow_id        salary\n",
       "1          1  66327.389611\n",
       "0          0  85250.620024\n",
       "2          2  52720.196947"
      ]
     },
     "execution_count": 50,
     "metadata": {},
     "output_type": "execute_result"
    },
    {
     "data": {
      "application/javascript": [
       "\n",
       "            setTimeout(function() {\n",
       "                var nbb_cell_id = 50;\n",
       "                var nbb_unformatted_code = \"df_salary[0:3].sample(3, replace=False)\";\n",
       "                var nbb_formatted_code = \"df_salary[0:3].sample(3, replace=False)\";\n",
       "                var nbb_cells = Jupyter.notebook.get_cells();\n",
       "                for (var i = 0; i < nbb_cells.length; ++i) {\n",
       "                    if (nbb_cells[i].input_prompt_number == nbb_cell_id) {\n",
       "                        if (nbb_cells[i].get_text() == nbb_unformatted_code) {\n",
       "                             nbb_cells[i].set_text(nbb_formatted_code);\n",
       "                        }\n",
       "                        break;\n",
       "                    }\n",
       "                }\n",
       "            }, 500);\n",
       "            "
      ],
      "text/plain": [
       "<IPython.core.display.Javascript object>"
      ]
     },
     "metadata": {},
     "output_type": "display_data"
    }
   ],
   "source": [
    "df_salary[0:3].sample(3, replace=False)"
   ]
  },
  {
   "cell_type": "markdown",
   "metadata": {},
   "source": [
    "### Connecting sampling with replacement and t-test"
   ]
  },
  {
   "cell_type": "code",
   "execution_count": 22,
   "metadata": {
    "ExecuteTime": {
     "end_time": "2020-04-13T19:55:51.684038Z",
     "start_time": "2020-04-13T19:55:51.674266Z"
    }
   },
   "outputs": [
    {
     "data": {
      "application/javascript": [
       "\n",
       "            setTimeout(function() {\n",
       "                var nbb_cell_id = 22;\n",
       "                var nbb_unformatted_code = \"from scipy.stats import ttest_ind\\nfrom scipy.stats import norm  # for getting probability of z values\\nfrom scipy.stats import t  # for getting probability of t values\";\n",
       "                var nbb_formatted_code = \"from scipy.stats import ttest_ind\\nfrom scipy.stats import norm  # for getting probability of z values\\nfrom scipy.stats import t  # for getting probability of t values\";\n",
       "                var nbb_cells = Jupyter.notebook.get_cells();\n",
       "                for (var i = 0; i < nbb_cells.length; ++i) {\n",
       "                    if (nbb_cells[i].input_prompt_number == nbb_cell_id) {\n",
       "                        if (nbb_cells[i].get_text() == nbb_unformatted_code) {\n",
       "                             nbb_cells[i].set_text(nbb_formatted_code);\n",
       "                        }\n",
       "                        break;\n",
       "                    }\n",
       "                }\n",
       "            }, 500);\n",
       "            "
      ],
      "text/plain": [
       "<IPython.core.display.Javascript object>"
      ]
     },
     "metadata": {},
     "output_type": "display_data"
    }
   ],
   "source": [
    "from scipy.stats import ttest_ind\n",
    "from scipy.stats import norm  # for getting probability of z values\n",
    "from scipy.stats import t     # for getting probability of t values"
   ]
  },
  {
   "cell_type": "code",
   "execution_count": 73,
   "metadata": {
    "ExecuteTime": {
     "end_time": "2020-04-13T20:06:00.707735Z",
     "start_time": "2020-04-13T20:06:00.687223Z"
    }
   },
   "outputs": [
    {
     "data": {
      "application/javascript": [
       "\n",
       "            setTimeout(function() {\n",
       "                var nbb_cell_id = 73;\n",
       "                var nbb_unformatted_code = \"# Create dummy sets\\n\\nsalary1 = pd.DataFrame(\\n    {\\\"fellow_id\\\": range(50), \\\"salary\\\": np.random.normal(80000, 20000, 50)}\\n)\\n\\nsalary2 = pd.DataFrame(\\n    {\\\"fellow_id\\\": range(50), \\\"salary\\\": np.random.normal(85000, 20000, 50)}\\n)\";\n",
       "                var nbb_formatted_code = \"# Create dummy sets\\n\\nsalary1 = pd.DataFrame(\\n    {\\\"fellow_id\\\": range(50), \\\"salary\\\": np.random.normal(80000, 20000, 50)}\\n)\\n\\nsalary2 = pd.DataFrame(\\n    {\\\"fellow_id\\\": range(50), \\\"salary\\\": np.random.normal(85000, 20000, 50)}\\n)\";\n",
       "                var nbb_cells = Jupyter.notebook.get_cells();\n",
       "                for (var i = 0; i < nbb_cells.length; ++i) {\n",
       "                    if (nbb_cells[i].input_prompt_number == nbb_cell_id) {\n",
       "                        if (nbb_cells[i].get_text() == nbb_unformatted_code) {\n",
       "                             nbb_cells[i].set_text(nbb_formatted_code);\n",
       "                        }\n",
       "                        break;\n",
       "                    }\n",
       "                }\n",
       "            }, 500);\n",
       "            "
      ],
      "text/plain": [
       "<IPython.core.display.Javascript object>"
      ]
     },
     "metadata": {},
     "output_type": "display_data"
    }
   ],
   "source": [
    "# Create dummy sets\n",
    "\n",
    "salary1 = pd.DataFrame(\n",
    "    {\"fellow_id\": range(50), \"salary\": np.random.normal(80000, 20000, 50)}\n",
    ")\n",
    "\n",
    "salary2 = pd.DataFrame(\n",
    "    {\"fellow_id\": range(50), \"salary\": np.random.normal(85000, 20000, 50)}\n",
    ")"
   ]
  },
  {
   "cell_type": "code",
   "execution_count": 89,
   "metadata": {
    "ExecuteTime": {
     "end_time": "2020-04-13T20:10:54.269647Z",
     "start_time": "2020-04-13T20:10:54.051704Z"
    }
   },
   "outputs": [
    {
     "data": {
      "text/plain": [
       "(array([ 1.,  2.,  6.,  2., 12.,  4., 12.,  6.,  2.,  3.]),\n",
       " array([ 33477.70228329,  42210.49965986,  50943.29703643,  59676.094413  ,\n",
       "         68408.89178957,  77141.68916615,  85874.48654272,  94607.28391929,\n",
       "        103340.08129586, 112072.87867244, 120805.67604901]),\n",
       " <a list of 10 Patch objects>)"
      ]
     },
     "execution_count": 89,
     "metadata": {},
     "output_type": "execute_result"
    },
    {
     "data": {
      "image/png": "[encoded data removed]",
      "text/plain": [
       "<Figure size 432x288 with 1 Axes>"
      ]
     },
     "metadata": {
      "needs_background": "light"
     },
     "output_type": "display_data"
    },
    {
     "data": {
      "application/javascript": [
       "\n",
       "            setTimeout(function() {\n",
       "                var nbb_cell_id = 89;\n",
       "                var nbb_unformatted_code = \"f, ax1 = plt.subplots()\\nax1.hist(salary1[\\\"salary\\\"], color=\\\"red\\\", alpha=0.5)\\nax1.hist(salary2[\\\"salary\\\"], color=\\\"blue\\\", alpha=0.5)\";\n",
       "                var nbb_formatted_code = \"f, ax1 = plt.subplots()\\nax1.hist(salary1[\\\"salary\\\"], color=\\\"red\\\", alpha=0.5)\\nax1.hist(salary2[\\\"salary\\\"], color=\\\"blue\\\", alpha=0.5)\";\n",
       "                var nbb_cells = Jupyter.notebook.get_cells();\n",
       "                for (var i = 0; i < nbb_cells.length; ++i) {\n",
       "                    if (nbb_cells[i].input_prompt_number == nbb_cell_id) {\n",
       "                        if (nbb_cells[i].get_text() == nbb_unformatted_code) {\n",
       "                             nbb_cells[i].set_text(nbb_formatted_code);\n",
       "                        }\n",
       "                        break;\n",
       "                    }\n",
       "                }\n",
       "            }, 500);\n",
       "            "
      ],
      "text/plain": [
       "<IPython.core.display.Javascript object>"
      ]
     },
     "metadata": {},
     "output_type": "display_data"
    }
   ],
   "source": [
    "f, ax1 = plt.subplots()\n",
    "ax1.hist(salary1[\"salary\"], color=\"red\", alpha=0.5)\n",
    "ax1.hist(salary2[\"salary\"], color=\"blue\", alpha=0.5)"
   ]
  },
  {
   "cell_type": "markdown",
   "metadata": {},
   "source": [
    "#### Do a t-test on the original data"
   ]
  },
  {
   "cell_type": "code",
   "execution_count": 92,
   "metadata": {
    "ExecuteTime": {
     "end_time": "2020-04-13T20:11:27.096917Z",
     "start_time": "2020-04-13T20:11:27.083582Z"
    }
   },
   "outputs": [
    {
     "name": "stdout",
     "output_type": "stream",
     "text": [
      "t-statistic:  -1.5270641419819928 p-value:  0.12996621628239335\n"
     ]
    },
    {
     "data": {
      "application/javascript": [
       "\n",
       "            setTimeout(function() {\n",
       "                var nbb_cell_id = 92;\n",
       "                var nbb_unformatted_code = \"t_stat, pval = ttest_ind(salary1[\\\"salary\\\"], salary2[\\\"salary\\\"], equal_var=True)\\nprint(\\\"t-statistic: \\\", t_stat, \\\"p-value: \\\", pval)\";\n",
       "                var nbb_formatted_code = \"t_stat, pval = ttest_ind(salary1[\\\"salary\\\"], salary2[\\\"salary\\\"], equal_var=True)\\nprint(\\\"t-statistic: \\\", t_stat, \\\"p-value: \\\", pval)\";\n",
       "                var nbb_cells = Jupyter.notebook.get_cells();\n",
       "                for (var i = 0; i < nbb_cells.length; ++i) {\n",
       "                    if (nbb_cells[i].input_prompt_number == nbb_cell_id) {\n",
       "                        if (nbb_cells[i].get_text() == nbb_unformatted_code) {\n",
       "                             nbb_cells[i].set_text(nbb_formatted_code);\n",
       "                        }\n",
       "                        break;\n",
       "                    }\n",
       "                }\n",
       "            }, 500);\n",
       "            "
      ],
      "text/plain": [
       "<IPython.core.display.Javascript object>"
      ]
     },
     "metadata": {},
     "output_type": "display_data"
    }
   ],
   "source": [
    "t_stat, pval = ttest_ind(salary1[\"salary\"], salary2[\"salary\"], equal_var=True)\n",
    "print(\"t-statistic: \", t_stat, \"p-value: \", pval)"
   ]
  },
  {
   "cell_type": "code",
   "execution_count": 131,
   "metadata": {
    "ExecuteTime": {
     "end_time": "2020-04-13T21:14:03.704525Z",
     "start_time": "2020-04-13T21:14:03.684075Z"
    }
   },
   "outputs": [
    {
     "data": {
      "text/plain": [
       "3772.2135441151054"
      ]
     },
     "execution_count": 131,
     "metadata": {},
     "output_type": "execute_result"
    },
    {
     "data": {
      "application/javascript": [
       "\n",
       "            setTimeout(function() {\n",
       "                var nbb_cell_id = 131;\n",
       "                var nbb_unformatted_code = \"# Manually check\\n\\n# This is the standard error\\nnp.sqrt(\\n    (salary1[\\\"salary\\\"].std() / np.sqrt(50)) ** 2\\n    + (salary2[\\\"salary\\\"].std() / np.sqrt(50)) ** 2\\n)\";\n",
       "                var nbb_formatted_code = \"# Manually check\\n\\n# This is the standard error\\nnp.sqrt(\\n    (salary1[\\\"salary\\\"].std() / np.sqrt(50)) ** 2\\n    + (salary2[\\\"salary\\\"].std() / np.sqrt(50)) ** 2\\n)\";\n",
       "                var nbb_cells = Jupyter.notebook.get_cells();\n",
       "                for (var i = 0; i < nbb_cells.length; ++i) {\n",
       "                    if (nbb_cells[i].input_prompt_number == nbb_cell_id) {\n",
       "                        if (nbb_cells[i].get_text() == nbb_unformatted_code) {\n",
       "                             nbb_cells[i].set_text(nbb_formatted_code);\n",
       "                        }\n",
       "                        break;\n",
       "                    }\n",
       "                }\n",
       "            }, 500);\n",
       "            "
      ],
      "text/plain": [
       "<IPython.core.display.Javascript object>"
      ]
     },
     "metadata": {},
     "output_type": "display_data"
    }
   ],
   "source": [
    "# Manually check\n",
    "\n",
    "# This is the standard error of the difference\n",
    "np.sqrt(\n",
    "    (salary1[\"salary\"].std() / np.sqrt(50)) ** 2\n",
    "    + (salary2[\"salary\"].std() / np.sqrt(50)) ** 2\n",
    ")"
   ]
  },
  {
   "cell_type": "code",
   "execution_count": 132,
   "metadata": {
    "ExecuteTime": {
     "end_time": "2020-04-13T21:14:14.931564Z",
     "start_time": "2020-04-13T21:14:14.918878Z"
    }
   },
   "outputs": [
    {
     "data": {
      "text/plain": [
       "-1.5271505936153196"
      ]
     },
     "execution_count": 132,
     "metadata": {},
     "output_type": "execute_result"
    },
    {
     "data": {
      "application/javascript": [
       "\n",
       "            setTimeout(function() {\n",
       "                var nbb_cell_id = 132;\n",
       "                var nbb_unformatted_code = \"# This is the t-statistic\\n(salary1[\\\"salary\\\"].mean() - salary2[\\\"salary\\\"].mean()) / 3772\";\n",
       "                var nbb_formatted_code = \"# This is the t-statistic\\n(salary1[\\\"salary\\\"].mean() - salary2[\\\"salary\\\"].mean()) / 3772\";\n",
       "                var nbb_cells = Jupyter.notebook.get_cells();\n",
       "                for (var i = 0; i < nbb_cells.length; ++i) {\n",
       "                    if (nbb_cells[i].input_prompt_number == nbb_cell_id) {\n",
       "                        if (nbb_cells[i].get_text() == nbb_unformatted_code) {\n",
       "                             nbb_cells[i].set_text(nbb_formatted_code);\n",
       "                        }\n",
       "                        break;\n",
       "                    }\n",
       "                }\n",
       "            }, 500);\n",
       "            "
      ],
      "text/plain": [
       "<IPython.core.display.Javascript object>"
      ]
     },
     "metadata": {},
     "output_type": "display_data"
    }
   ],
   "source": [
    "# This is the t-statistic\n",
    "(salary1[\"salary\"].mean() - salary2[\"salary\"].mean()) / 3772"
   ]
  },
  {
   "cell_type": "code",
   "execution_count": 133,
   "metadata": {
    "ExecuteTime": {
     "end_time": "2020-04-13T21:14:37.729018Z",
     "start_time": "2020-04-13T21:14:37.716129Z"
    }
   },
   "outputs": [
    {
     "data": {
      "text/plain": [
       "0.12994488396420456"
      ]
     },
     "execution_count": 133,
     "metadata": {},
     "output_type": "execute_result"
    },
    {
     "data": {
      "application/javascript": [
       "\n",
       "            setTimeout(function() {\n",
       "                var nbb_cell_id = 133;\n",
       "                var nbb_unformatted_code = \"# This is calculating the 2-sided probability for this t-statistic\\n2 * t.cdf(x=-1.52715, df=98)\";\n",
       "                var nbb_formatted_code = \"# This is calculating the 2-sided probability for this t-statistic\\n2 * t.cdf(x=-1.52715, df=98)\";\n",
       "                var nbb_cells = Jupyter.notebook.get_cells();\n",
       "                for (var i = 0; i < nbb_cells.length; ++i) {\n",
       "                    if (nbb_cells[i].input_prompt_number == nbb_cell_id) {\n",
       "                        if (nbb_cells[i].get_text() == nbb_unformatted_code) {\n",
       "                             nbb_cells[i].set_text(nbb_formatted_code);\n",
       "                        }\n",
       "                        break;\n",
       "                    }\n",
       "                }\n",
       "            }, 500);\n",
       "            "
      ],
      "text/plain": [
       "<IPython.core.display.Javascript object>"
      ]
     },
     "metadata": {},
     "output_type": "display_data"
    }
   ],
   "source": [
    "# This is calculating the 2-sided probability for this t-statistic\n",
    "2 * t.cdf(x=-1.52715, df=98)"
   ]
  },
  {
   "cell_type": "markdown",
   "metadata": {},
   "source": [
    "#### Generate means of re-sampled data (n=50) (bootstrap)"
   ]
  },
  {
   "cell_type": "code",
   "execution_count": 93,
   "metadata": {
    "ExecuteTime": {
     "end_time": "2020-04-13T20:11:37.312870Z",
     "start_time": "2020-04-13T20:11:35.863603Z"
    }
   },
   "outputs": [
    {
     "data": {
      "application/javascript": [
       "\n",
       "            setTimeout(function() {\n",
       "                var nbb_cell_id = 93;\n",
       "                var nbb_unformatted_code = \"resample1_salary_means = list()\\nresample2_salary_means = list()\\nfor i in range(1000):\\n    resample1_salary = salary1.sample(n=50, replace=True).copy()[\\\"salary\\\"]\\n    resample1_salary_means.append(resample1_salary.mean())\\n\\n    resample2_salary = salary2.sample(n=50, replace=True).copy()[\\\"salary\\\"]\\n    resample2_salary_means.append(resample2_salary.mean())\";\n",
       "                var nbb_formatted_code = \"resample1_salary_means = list()\\nresample2_salary_means = list()\\nfor i in range(1000):\\n    resample1_salary = salary1.sample(n=50, replace=True).copy()[\\\"salary\\\"]\\n    resample1_salary_means.append(resample1_salary.mean())\\n\\n    resample2_salary = salary2.sample(n=50, replace=True).copy()[\\\"salary\\\"]\\n    resample2_salary_means.append(resample2_salary.mean())\";\n",
       "                var nbb_cells = Jupyter.notebook.get_cells();\n",
       "                for (var i = 0; i < nbb_cells.length; ++i) {\n",
       "                    if (nbb_cells[i].input_prompt_number == nbb_cell_id) {\n",
       "                        if (nbb_cells[i].get_text() == nbb_unformatted_code) {\n",
       "                             nbb_cells[i].set_text(nbb_formatted_code);\n",
       "                        }\n",
       "                        break;\n",
       "                    }\n",
       "                }\n",
       "            }, 500);\n",
       "            "
      ],
      "text/plain": [
       "<IPython.core.display.Javascript object>"
      ]
     },
     "metadata": {},
     "output_type": "display_data"
    }
   ],
   "source": [
    "resample1_salary_means = list()\n",
    "resample2_salary_means = list()\n",
    "for i in range(1000):\n",
    "    resample1_salary = salary1.sample(n=50, replace=True).copy()[\"salary\"]\n",
    "    resample1_salary_means.append(resample1_salary.mean())\n",
    "\n",
    "    resample2_salary = salary2.sample(n=50, replace=True).copy()[\"salary\"]\n",
    "    resample2_salary_means.append(resample2_salary.mean())"
   ]
  },
  {
   "cell_type": "code",
   "execution_count": 137,
   "metadata": {
    "ExecuteTime": {
     "end_time": "2020-04-13T21:20:56.240939Z",
     "start_time": "2020-04-13T21:20:55.845515Z"
    }
   },
   "outputs": [
    {
     "data": {
      "text/plain": [
       "Text(0.5, 1.0, 'sampling distribution of means')"
      ]
     },
     "execution_count": 137,
     "metadata": {},
     "output_type": "execute_result"
    },
    {
     "data": {
      "image/png": "[encoded data removed]",
      "text/plain": [
       "<Figure size 432x288 with 1 Axes>"
      ]
     },
     "metadata": {
      "needs_background": "light"
     },
     "output_type": "display_data"
    },
    {
     "data": {
      "application/javascript": [
       "\n",
       "            setTimeout(function() {\n",
       "                var nbb_cell_id = 137;\n",
       "                var nbb_unformatted_code = \"f, ax1 = plt.subplots()\\nax1.hist(resample1_salary_means, bins=50, color=\\\"red\\\", alpha=0.5)\\nax1.hist(resample2_salary_means, bins=50, color=\\\"blue\\\", alpha=0.5)\\nax1.set_title('sampling distribution of means')\";\n",
       "                var nbb_formatted_code = \"f, ax1 = plt.subplots()\\nax1.hist(resample1_salary_means, bins=50, color=\\\"red\\\", alpha=0.5)\\nax1.hist(resample2_salary_means, bins=50, color=\\\"blue\\\", alpha=0.5)\\nax1.set_title(\\\"sampling distribution of means\\\")\";\n",
       "                var nbb_cells = Jupyter.notebook.get_cells();\n",
       "                for (var i = 0; i < nbb_cells.length; ++i) {\n",
       "                    if (nbb_cells[i].input_prompt_number == nbb_cell_id) {\n",
       "                        if (nbb_cells[i].get_text() == nbb_unformatted_code) {\n",
       "                             nbb_cells[i].set_text(nbb_formatted_code);\n",
       "                        }\n",
       "                        break;\n",
       "                    }\n",
       "                }\n",
       "            }, 500);\n",
       "            "
      ],
      "text/plain": [
       "<IPython.core.display.Javascript object>"
      ]
     },
     "metadata": {},
     "output_type": "display_data"
    }
   ],
   "source": [
    "f, ax1 = plt.subplots()\n",
    "ax1.hist(resample1_salary_means, bins=50, color=\"red\", alpha=0.5)\n",
    "ax1.hist(resample2_salary_means, bins=50, color=\"blue\", alpha=0.5)\n",
    "ax1.set_title(\"sampling distribution of means\")"
   ]
  },
  {
   "cell_type": "code",
   "execution_count": 95,
   "metadata": {
    "ExecuteTime": {
     "end_time": "2020-04-13T20:11:43.402671Z",
     "start_time": "2020-04-13T20:11:43.385119Z"
    }
   },
   "outputs": [
    {
     "name": "stdout",
     "output_type": "stream",
     "text": [
      "Means of distributions of sample means for each group:  74924.62200634298 81033.65560450291\n",
      "Means of original sample (for comparison):  75035.72800765448 80796.14004677147\n"
     ]
    },
    {
     "data": {
      "application/javascript": [
       "\n",
       "            setTimeout(function() {\n",
       "                var nbb_cell_id = 95;\n",
       "                var nbb_unformatted_code = \"mean1 = pd.Series(resample1_salary_means).mean()\\nmean2 = pd.Series(resample2_salary_means).mean()\\n\\nprint(\\\"Means of distributions of sample means for each group: \\\", mean1, mean2)\\nprint(\\n    \\\"Means of original sample (for comparison): \\\",\\n    salary1[\\\"salary\\\"].mean(),\\n    salary2[\\\"salary\\\"].mean(),\\n)\";\n",
       "                var nbb_formatted_code = \"mean1 = pd.Series(resample1_salary_means).mean()\\nmean2 = pd.Series(resample2_salary_means).mean()\\n\\nprint(\\\"Means of distributions of sample means for each group: \\\", mean1, mean2)\\nprint(\\n    \\\"Means of original sample (for comparison): \\\",\\n    salary1[\\\"salary\\\"].mean(),\\n    salary2[\\\"salary\\\"].mean(),\\n)\";\n",
       "                var nbb_cells = Jupyter.notebook.get_cells();\n",
       "                for (var i = 0; i < nbb_cells.length; ++i) {\n",
       "                    if (nbb_cells[i].input_prompt_number == nbb_cell_id) {\n",
       "                        if (nbb_cells[i].get_text() == nbb_unformatted_code) {\n",
       "                             nbb_cells[i].set_text(nbb_formatted_code);\n",
       "                        }\n",
       "                        break;\n",
       "                    }\n",
       "                }\n",
       "            }, 500);\n",
       "            "
      ],
      "text/plain": [
       "<IPython.core.display.Javascript object>"
      ]
     },
     "metadata": {},
     "output_type": "display_data"
    }
   ],
   "source": [
    "mean1 = pd.Series(resample1_salary_means).mean()\n",
    "mean2 = pd.Series(resample2_salary_means).mean()\n",
    "\n",
    "print(\"Means of distributions of sample means for each group: \", mean1, mean2)\n",
    "print(\n",
    "    \"Means of original sample (for comparison): \",\n",
    "    salary1[\"salary\"].mean(),\n",
    "    salary2[\"salary\"].mean(),\n",
    ")"
   ]
  },
  {
   "cell_type": "code",
   "execution_count": 78,
   "metadata": {
    "ExecuteTime": {
     "end_time": "2020-04-13T20:06:26.499145Z",
     "start_time": "2020-04-13T20:06:26.484731Z"
    }
   },
   "outputs": [
    {
     "name": "stdout",
     "output_type": "stream",
     "text": [
      "Standard deviations of distributions of sample means for each group:  2662.9736639582857 2636.3288892079313\n"
     ]
    },
    {
     "data": {
      "application/javascript": [
       "\n",
       "            setTimeout(function() {\n",
       "                var nbb_cell_id = 78;\n",
       "                var nbb_unformatted_code = \"sd1 = pd.Series(resample1_salary_means).std()\\nsd2 = pd.Series(resample2_salary_means).std()\\nprint(\\\"Standard deviations of distributions of sample means for each group: \\\", sd1, sd2)\";\n",
       "                var nbb_formatted_code = \"sd1 = pd.Series(resample1_salary_means).std()\\nsd2 = pd.Series(resample2_salary_means).std()\\nprint(\\\"Standard deviations of distributions of sample means for each group: \\\", sd1, sd2)\";\n",
       "                var nbb_cells = Jupyter.notebook.get_cells();\n",
       "                for (var i = 0; i < nbb_cells.length; ++i) {\n",
       "                    if (nbb_cells[i].input_prompt_number == nbb_cell_id) {\n",
       "                        if (nbb_cells[i].get_text() == nbb_unformatted_code) {\n",
       "                             nbb_cells[i].set_text(nbb_formatted_code);\n",
       "                        }\n",
       "                        break;\n",
       "                    }\n",
       "                }\n",
       "            }, 500);\n",
       "            "
      ],
      "text/plain": [
       "<IPython.core.display.Javascript object>"
      ]
     },
     "metadata": {},
     "output_type": "display_data"
    }
   ],
   "source": [
    "sd1 = pd.Series(resample1_salary_means).std()\n",
    "sd2 = pd.Series(resample2_salary_means).std()\n",
    "print(\"Standard deviations of distributions of sample means for each group: \", sd1, sd2)"
   ]
  },
  {
   "cell_type": "markdown",
   "metadata": {},
   "source": [
    "**What does a distribution of the difference look like?**"
   ]
  },
  {
   "cell_type": "code",
   "execution_count": 114,
   "metadata": {
    "ExecuteTime": {
     "end_time": "2020-04-13T20:54:15.947629Z",
     "start_time": "2020-04-13T20:54:15.931550Z"
    }
   },
   "outputs": [
    {
     "name": "stdout",
     "output_type": "stream",
     "text": [
      "Mean difference:  -6109.033598159935 SD of difference:  3766.0134718121803\n"
     ]
    },
    {
     "data": {
      "application/javascript": [
       "\n",
       "            setTimeout(function() {\n",
       "                var nbb_cell_id = 114;\n",
       "                var nbb_unformatted_code = \"mean_diff = mean1 - mean2\\nsd_diff = np.sqrt(sd1 ** 2 + sd1 ** 2)\\nprint(\\\"Mean difference: \\\", mean_diff, \\\"SD of difference: \\\", sd_diff)\";\n",
       "                var nbb_formatted_code = \"mean_diff = mean1 - mean2\\nsd_diff = np.sqrt(sd1 ** 2 + sd1 ** 2)\\nprint(\\\"Mean difference: \\\", mean_diff, \\\"SD of difference: \\\", sd_diff)\";\n",
       "                var nbb_cells = Jupyter.notebook.get_cells();\n",
       "                for (var i = 0; i < nbb_cells.length; ++i) {\n",
       "                    if (nbb_cells[i].input_prompt_number == nbb_cell_id) {\n",
       "                        if (nbb_cells[i].get_text() == nbb_unformatted_code) {\n",
       "                             nbb_cells[i].set_text(nbb_formatted_code);\n",
       "                        }\n",
       "                        break;\n",
       "                    }\n",
       "                }\n",
       "            }, 500);\n",
       "            "
      ],
      "text/plain": [
       "<IPython.core.display.Javascript object>"
      ]
     },
     "metadata": {},
     "output_type": "display_data"
    }
   ],
   "source": [
    "mean_diff = mean1 - mean2\n",
    "sd_diff = np.sqrt(sd1 ** 2 + sd1 ** 2)\n",
    "print(\"Mean difference: \", mean_diff, \"SD of difference: \", sd_diff)"
   ]
  },
  {
   "cell_type": "code",
   "execution_count": 138,
   "metadata": {
    "ExecuteTime": {
     "end_time": "2020-04-13T21:44:48.098204Z",
     "start_time": "2020-04-13T21:44:48.067653Z"
    }
   },
   "outputs": [
    {
     "name": "stdout",
     "output_type": "stream",
     "text": [
      "-13490.420002911807 1272.352806591939\n"
     ]
    },
    {
     "data": {
      "application/javascript": [
       "\n",
       "            setTimeout(function() {\n",
       "                var nbb_cell_id = 138;\n",
       "                var nbb_unformatted_code = \"# confidence interval\\nlower_bound = mean_diff - 1.96 * sd_diff\\nupper_bound = mean_diff + 1.96 * sd_diff\\nprint(lower_bound, upper_bound)\";\n",
       "                var nbb_formatted_code = \"# confidence interval\\nlower_bound = mean_diff - 1.96 * sd_diff\\nupper_bound = mean_diff + 1.96 * sd_diff\\nprint(lower_bound, upper_bound)\";\n",
       "                var nbb_cells = Jupyter.notebook.get_cells();\n",
       "                for (var i = 0; i < nbb_cells.length; ++i) {\n",
       "                    if (nbb_cells[i].input_prompt_number == nbb_cell_id) {\n",
       "                        if (nbb_cells[i].get_text() == nbb_unformatted_code) {\n",
       "                             nbb_cells[i].set_text(nbb_formatted_code);\n",
       "                        }\n",
       "                        break;\n",
       "                    }\n",
       "                }\n",
       "            }, 500);\n",
       "            "
      ],
      "text/plain": [
       "<IPython.core.display.Javascript object>"
      ]
     },
     "metadata": {},
     "output_type": "display_data"
    }
   ],
   "source": [
    "# confidence interval\n",
    "lower_bound = mean_diff - 1.96 * sd_diff\n",
    "upper_bound = mean_diff + 1.96 * sd_diff\n",
    "print(lower_bound, upper_bound)"
   ]
  },
  {
   "cell_type": "code",
   "execution_count": 117,
   "metadata": {
    "ExecuteTime": {
     "end_time": "2020-04-13T20:54:20.850374Z",
     "start_time": "2020-04-13T20:54:20.589572Z"
    },
    "scrolled": true
   },
   "outputs": [
    {
     "data": {
      "text/plain": [
       "<matplotlib.lines.Line2D at 0x125cb03c8>"
      ]
     },
     "execution_count": 117,
     "metadata": {},
     "output_type": "execute_result"
    },
    {
     "data": {
      "image/png": "[encoded data removed]",
      "text/plain": [
       "<Figure size 432x288 with 1 Axes>"
      ]
     },
     "metadata": {
      "needs_background": "light"
     },
     "output_type": "display_data"
    },
    {
     "data": {
      "application/javascript": [
       "\n",
       "            setTimeout(function() {\n",
       "                var nbb_cell_id = 117;\n",
       "                var nbb_unformatted_code = \"# Use random draws of normal distribution function. Use n of 1000?\\n\\ndiff_array = np.random.normal(mean_diff, sd_diff, 1000)\\n\\nf, ax = plt.subplots()\\nax.hist(diff_array, bins=50, color=\\\"gray\\\")\\nax.axvline(mean_diff, color=\\\"red\\\", linestyle=\\\"dashed\\\")\\nax.axvline(lower_bound, color=\\\"blue\\\", linestyle=\\\"dashed\\\")\\nax.axvline(upper_bound, color=\\\"blue\\\", linestyle=\\\"dashed\\\")\";\n",
       "                var nbb_formatted_code = \"# Use random draws of normal distribution function. Use n of 1000?\\n\\ndiff_array = np.random.normal(mean_diff, sd_diff, 1000)\\n\\nf, ax = plt.subplots()\\nax.hist(diff_array, bins=50, color=\\\"gray\\\")\\nax.axvline(mean_diff, color=\\\"red\\\", linestyle=\\\"dashed\\\")\\nax.axvline(lower_bound, color=\\\"blue\\\", linestyle=\\\"dashed\\\")\\nax.axvline(upper_bound, color=\\\"blue\\\", linestyle=\\\"dashed\\\")\";\n",
       "                var nbb_cells = Jupyter.notebook.get_cells();\n",
       "                for (var i = 0; i < nbb_cells.length; ++i) {\n",
       "                    if (nbb_cells[i].input_prompt_number == nbb_cell_id) {\n",
       "                        if (nbb_cells[i].get_text() == nbb_unformatted_code) {\n",
       "                             nbb_cells[i].set_text(nbb_formatted_code);\n",
       "                        }\n",
       "                        break;\n",
       "                    }\n",
       "                }\n",
       "            }, 500);\n",
       "            "
      ],
      "text/plain": [
       "<IPython.core.display.Javascript object>"
      ]
     },
     "metadata": {},
     "output_type": "display_data"
    }
   ],
   "source": [
    "diff_array = np.random.normal(mean_diff, sd_diff, 1000)\n",
    "\n",
    "f, ax = plt.subplots()\n",
    "ax.hist(diff_array, bins=50, color=\"gray\")\n",
    "ax.axvline(mean_diff, color=\"red\", linestyle=\"dashed\")\n",
    "ax.axvline(lower_bound, color=\"blue\", linestyle=\"dashed\")\n",
    "ax.axvline(upper_bound, color=\"blue\", linestyle=\"dashed\")"
   ]
  },
  {
   "cell_type": "code",
   "execution_count": 115,
   "metadata": {
    "ExecuteTime": {
     "end_time": "2020-04-13T20:54:16.787266Z",
     "start_time": "2020-04-13T20:54:16.777788Z"
    }
   },
   "outputs": [
    {
     "name": "stdout",
     "output_type": "stream",
     "text": [
      "-1.6221486311413296\n"
     ]
    },
    {
     "data": {
      "application/javascript": [
       "\n",
       "            setTimeout(function() {\n",
       "                var nbb_cell_id = 115;\n",
       "                var nbb_unformatted_code = \"# Calculate z-statistic for difference\\n# No. of standard deviation away\\nz_sd = mean_diff / sd_diff\\nprint(z_sd)\";\n",
       "                var nbb_formatted_code = \"# Calculate z-statistic for difference\\n# No. of standard deviation away\\nz_sd = mean_diff / sd_diff\\nprint(z_sd)\";\n",
       "                var nbb_cells = Jupyter.notebook.get_cells();\n",
       "                for (var i = 0; i < nbb_cells.length; ++i) {\n",
       "                    if (nbb_cells[i].input_prompt_number == nbb_cell_id) {\n",
       "                        if (nbb_cells[i].get_text() == nbb_unformatted_code) {\n",
       "                             nbb_cells[i].set_text(nbb_formatted_code);\n",
       "                        }\n",
       "                        break;\n",
       "                    }\n",
       "                }\n",
       "            }, 500);\n",
       "            "
      ],
      "text/plain": [
       "<IPython.core.display.Javascript object>"
      ]
     },
     "metadata": {},
     "output_type": "display_data"
    }
   ],
   "source": [
    "# Calculate z-statistic for difference\n",
    "# No. of standard deviation away\n",
    "z_sd = mean_diff / sd_diff\n",
    "print(z_sd)"
   ]
  },
  {
   "cell_type": "code",
   "execution_count": 135,
   "metadata": {
    "ExecuteTime": {
     "end_time": "2020-04-13T21:17:05.148763Z",
     "start_time": "2020-04-13T21:17:05.135397Z"
    }
   },
   "outputs": [
    {
     "name": "stdout",
     "output_type": "stream",
     "text": [
      "one sided:  0.05238668758873186\n",
      "two sided:  0.10477337517746373\n"
     ]
    },
    {
     "data": {
      "application/javascript": [
       "\n",
       "            setTimeout(function() {\n",
       "                var nbb_cell_id = 135;\n",
       "                var nbb_unformatted_code = \"# When I do sample with replacement, use a z-table and use the SD of the bootstrap\\nprint(\\\"one sided: \\\", norm.cdf(-1.62214))\\nprint(\\\"two sided: \\\", norm.cdf(-1.62214) * 2)\";\n",
       "                var nbb_formatted_code = \"# When I do sample with replacement, use a z-table and use the SD of the bootstrap\\nprint(\\\"one sided: \\\", norm.cdf(-1.62214))\\nprint(\\\"two sided: \\\", norm.cdf(-1.62214) * 2)\";\n",
       "                var nbb_cells = Jupyter.notebook.get_cells();\n",
       "                for (var i = 0; i < nbb_cells.length; ++i) {\n",
       "                    if (nbb_cells[i].input_prompt_number == nbb_cell_id) {\n",
       "                        if (nbb_cells[i].get_text() == nbb_unformatted_code) {\n",
       "                             nbb_cells[i].set_text(nbb_formatted_code);\n",
       "                        }\n",
       "                        break;\n",
       "                    }\n",
       "                }\n",
       "            }, 500);\n",
       "            "
      ],
      "text/plain": [
       "<IPython.core.display.Javascript object>"
      ]
     },
     "metadata": {},
     "output_type": "display_data"
    }
   ],
   "source": [
    "# When I do sample with replacement, use a z-table and use the SD of the bootstrap\n",
    "print(\"one sided: \", norm.cdf(-1.62214))\n",
    "print(\"two sided: \", norm.cdf(-1.62214) * 2)"
   ]
  },
  {
   "cell_type": "code",
   "execution_count": 136,
   "metadata": {
    "ExecuteTime": {
     "end_time": "2020-04-13T21:17:06.136022Z",
     "start_time": "2020-04-13T21:17:06.123466Z"
    }
   },
   "outputs": [
    {
     "name": "stdout",
     "output_type": "stream",
     "text": [
      "one sided:  0.06499107741325975\n",
      "two sided:  0.1299821548265195\n"
     ]
    },
    {
     "data": {
      "application/javascript": [
       "\n",
       "            setTimeout(function() {\n",
       "                var nbb_cell_id = 136;\n",
       "                var nbb_unformatted_code = \"# In a two sample difference, the df is n1 + n2 - 2\\nprint(\\\"one sided: \\\", t.cdf(-1.527, df=98))\\nprint(\\\"two sided: \\\", t.cdf(-1.527, df=98) * 2)\";\n",
       "                var nbb_formatted_code = \"# In a two sample difference, the df is n1 + n2 - 2\\nprint(\\\"one sided: \\\", t.cdf(-1.527, df=98))\\nprint(\\\"two sided: \\\", t.cdf(-1.527, df=98) * 2)\";\n",
       "                var nbb_cells = Jupyter.notebook.get_cells();\n",
       "                for (var i = 0; i < nbb_cells.length; ++i) {\n",
       "                    if (nbb_cells[i].input_prompt_number == nbb_cell_id) {\n",
       "                        if (nbb_cells[i].get_text() == nbb_unformatted_code) {\n",
       "                             nbb_cells[i].set_text(nbb_formatted_code);\n",
       "                        }\n",
       "                        break;\n",
       "                    }\n",
       "                }\n",
       "            }, 500);\n",
       "            "
      ],
      "text/plain": [
       "<IPython.core.display.Javascript object>"
      ]
     },
     "metadata": {},
     "output_type": "display_data"
    }
   ],
   "source": [
    "# In a two sample difference, the df is n1 + n2 - 2 (from above)\n",
    "print(\"one sided: \", t.cdf(-1.527, df=98))\n",
    "print(\"two sided: \", t.cdf(-1.527, df=98) * 2)"
   ]
  },
  {
   "cell_type": "markdown",
   "metadata": {},
   "source": [
    "**Proportion of samples above the upper bound**"
   ]
  },
  {
   "cell_type": "code",
   "execution_count": 118,
   "metadata": {
    "ExecuteTime": {
     "end_time": "2020-04-13T20:54:23.227793Z",
     "start_time": "2020-04-13T20:54:23.214861Z"
    }
   },
   "outputs": [
    {
     "data": {
      "text/plain": [
       "0.027"
      ]
     },
     "execution_count": 118,
     "metadata": {},
     "output_type": "execute_result"
    },
    {
     "data": {
      "application/javascript": [
       "\n",
       "            setTimeout(function() {\n",
       "                var nbb_cell_id = 118;\n",
       "                var nbb_unformatted_code = \"(diff_array > upper_bound).sum() / len(diff_array)\";\n",
       "                var nbb_formatted_code = \"(diff_array > upper_bound).sum() / len(diff_array)\";\n",
       "                var nbb_cells = Jupyter.notebook.get_cells();\n",
       "                for (var i = 0; i < nbb_cells.length; ++i) {\n",
       "                    if (nbb_cells[i].input_prompt_number == nbb_cell_id) {\n",
       "                        if (nbb_cells[i].get_text() == nbb_unformatted_code) {\n",
       "                             nbb_cells[i].set_text(nbb_formatted_code);\n",
       "                        }\n",
       "                        break;\n",
       "                    }\n",
       "                }\n",
       "            }, 500);\n",
       "            "
      ],
      "text/plain": [
       "<IPython.core.display.Javascript object>"
      ]
     },
     "metadata": {},
     "output_type": "display_data"
    }
   ],
   "source": [
    "(diff_array > upper_bound).sum() / len(diff_array)"
   ]
  },
  {
   "cell_type": "markdown",
   "metadata": {},
   "source": [
    "**Proportion of samples below the lower bound**"
   ]
  },
  {
   "cell_type": "code",
   "execution_count": 119,
   "metadata": {
    "ExecuteTime": {
     "end_time": "2020-04-13T20:54:25.248810Z",
     "start_time": "2020-04-13T20:54:25.236994Z"
    }
   },
   "outputs": [
    {
     "data": {
      "text/plain": [
       "0.024"
      ]
     },
     "execution_count": 119,
     "metadata": {},
     "output_type": "execute_result"
    },
    {
     "data": {
      "application/javascript": [
       "\n",
       "            setTimeout(function() {\n",
       "                var nbb_cell_id = 119;\n",
       "                var nbb_unformatted_code = \"(diff_array < lower_bound).sum() / len(diff_array)\";\n",
       "                var nbb_formatted_code = \"(diff_array < lower_bound).sum() / len(diff_array)\";\n",
       "                var nbb_cells = Jupyter.notebook.get_cells();\n",
       "                for (var i = 0; i < nbb_cells.length; ++i) {\n",
       "                    if (nbb_cells[i].input_prompt_number == nbb_cell_id) {\n",
       "                        if (nbb_cells[i].get_text() == nbb_unformatted_code) {\n",
       "                             nbb_cells[i].set_text(nbb_formatted_code);\n",
       "                        }\n",
       "                        break;\n",
       "                    }\n",
       "                }\n",
       "            }, 500);\n",
       "            "
      ],
      "text/plain": [
       "<IPython.core.display.Javascript object>"
      ]
     },
     "metadata": {},
     "output_type": "display_data"
    }
   ],
   "source": [
    "(diff_array < lower_bound).sum() / len(diff_array)"
   ]
  },
  {
   "cell_type": "code",
   "execution_count": null,
   "metadata": {},
   "outputs": [],
   "source": []
  },
  {
   "cell_type": "code",
   "execution_count": null,
   "metadata": {},
   "outputs": [],
   "source": []
  },
  {
   "cell_type": "markdown",
   "metadata": {},
   "source": [
    "## Understanding power\n",
    "\n",
    "The probability of not detecting a false negative\n",
    "\n",
    "1 - pr(type II error)"
   ]
  },
  {
   "cell_type": "code",
   "execution_count": null,
   "metadata": {},
   "outputs": [],
   "source": []
  },
  {
   "cell_type": "code",
   "execution_count": null,
   "metadata": {},
   "outputs": [],
   "source": []
  },
  {
   "cell_type": "markdown",
   "metadata": {},
   "source": [
    "### Vary sample size"
   ]
  },
  {
   "cell_type": "code",
   "execution_count": null,
   "metadata": {},
   "outputs": [],
   "source": []
  },
  {
   "cell_type": "code",
   "execution_count": null,
   "metadata": {},
   "outputs": [],
   "source": []
  },
  {
   "cell_type": "code",
   "execution_count": null,
   "metadata": {},
   "outputs": [],
   "source": []
  },
  {
   "cell_type": "markdown",
   "metadata": {},
   "source": [
    "### How does the number of draws in sampling with replacement affect the SD?\n",
    "\n",
    "Keep sample size constant"
   ]
  },
  {
   "cell_type": "code",
   "execution_count": 41,
   "metadata": {
    "ExecuteTime": {
     "end_time": "2020-04-13T19:58:58.944657Z",
     "start_time": "2020-04-13T19:58:58.912205Z"
    }
   },
   "outputs": [
    {
     "name": "stdout",
     "output_type": "stream",
     "text": [
      "SD of 10 draws, sample size of 50:  1791.3232360646666\n"
     ]
    },
    {
     "data": {
      "application/javascript": [
       "\n",
       "            setTimeout(function() {\n",
       "                var nbb_cell_id = 41;\n",
       "                var nbb_unformatted_code = \"# 10 draws\\nresample_test_1_salary_means = list()\\nfor i in range(10):\\n    resample_test_1_salary = salary1.sample(n=50, replace=True).copy()['salary']\\n    resample_test_1_salary_means.append(resample_test_1_salary.mean())\\n\\nprint('SD of 10 draws, sample size of 50: ', pd.Series(resample_test_1_salary_means).std())\";\n",
       "                var nbb_formatted_code = \"# 10 draws\\nresample_test_1_salary_means = list()\\nfor i in range(10):\\n    resample_test_1_salary = salary1.sample(n=50, replace=True).copy()[\\\"salary\\\"]\\n    resample_test_1_salary_means.append(resample_test_1_salary.mean())\\n\\nprint(\\n    \\\"SD of 10 draws, sample size of 50: \\\", pd.Series(resample_test_1_salary_means).std()\\n)\";\n",
       "                var nbb_cells = Jupyter.notebook.get_cells();\n",
       "                for (var i = 0; i < nbb_cells.length; ++i) {\n",
       "                    if (nbb_cells[i].input_prompt_number == nbb_cell_id) {\n",
       "                        if (nbb_cells[i].get_text() == nbb_unformatted_code) {\n",
       "                             nbb_cells[i].set_text(nbb_formatted_code);\n",
       "                        }\n",
       "                        break;\n",
       "                    }\n",
       "                }\n",
       "            }, 500);\n",
       "            "
      ],
      "text/plain": [
       "<IPython.core.display.Javascript object>"
      ]
     },
     "metadata": {},
     "output_type": "display_data"
    }
   ],
   "source": [
    "# 10 draws\n",
    "resample_test_1_salary_means = list()\n",
    "for i in range(10):\n",
    "    resample_test_1_salary = salary1.sample(n=50, replace=True).copy()[\"salary\"]\n",
    "    resample_test_1_salary_means.append(resample_test_1_salary.mean())\n",
    "\n",
    "print(\n",
    "    \"SD of 10 draws, sample size of 50: \", pd.Series(resample_test_1_salary_means).std()\n",
    ")"
   ]
  },
  {
   "cell_type": "code",
   "execution_count": 42,
   "metadata": {
    "ExecuteTime": {
     "end_time": "2020-04-13T19:58:59.777288Z",
     "start_time": "2020-04-13T19:58:59.690947Z"
    }
   },
   "outputs": [
    {
     "name": "stdout",
     "output_type": "stream",
     "text": [
      "SD of 50 draws, sample size of 50:  2543.4548763118532\n"
     ]
    },
    {
     "data": {
      "application/javascript": [
       "\n",
       "            setTimeout(function() {\n",
       "                var nbb_cell_id = 42;\n",
       "                var nbb_unformatted_code = \"# 50 draws\\nresample_test_1_salary_means = list()\\nfor i in range(50):\\n    resample_test_1_salary = salary1.sample(n=50, replace=True).copy()[\\\"salary\\\"]\\n    resample_test_1_salary_means.append(resample_test_1_salary.mean())\\n\\nprint(\\n    \\\"SD of 50 draws, sample size of 50: \\\", pd.Series(resample_test_1_salary_means).std()\\n)\";\n",
       "                var nbb_formatted_code = \"# 50 draws\\nresample_test_1_salary_means = list()\\nfor i in range(50):\\n    resample_test_1_salary = salary1.sample(n=50, replace=True).copy()[\\\"salary\\\"]\\n    resample_test_1_salary_means.append(resample_test_1_salary.mean())\\n\\nprint(\\n    \\\"SD of 50 draws, sample size of 50: \\\", pd.Series(resample_test_1_salary_means).std()\\n)\";\n",
       "                var nbb_cells = Jupyter.notebook.get_cells();\n",
       "                for (var i = 0; i < nbb_cells.length; ++i) {\n",
       "                    if (nbb_cells[i].input_prompt_number == nbb_cell_id) {\n",
       "                        if (nbb_cells[i].get_text() == nbb_unformatted_code) {\n",
       "                             nbb_cells[i].set_text(nbb_formatted_code);\n",
       "                        }\n",
       "                        break;\n",
       "                    }\n",
       "                }\n",
       "            }, 500);\n",
       "            "
      ],
      "text/plain": [
       "<IPython.core.display.Javascript object>"
      ]
     },
     "metadata": {},
     "output_type": "display_data"
    }
   ],
   "source": [
    "# 50 draws\n",
    "resample_test_1_salary_means = list()\n",
    "for i in range(50):\n",
    "    resample_test_1_salary = salary1.sample(n=50, replace=True).copy()[\"salary\"]\n",
    "    resample_test_1_salary_means.append(resample_test_1_salary.mean())\n",
    "\n",
    "print(\n",
    "    \"SD of 50 draws, sample size of 50: \", pd.Series(resample_test_1_salary_means).std()\n",
    ")"
   ]
  },
  {
   "cell_type": "code",
   "execution_count": 43,
   "metadata": {
    "ExecuteTime": {
     "end_time": "2020-04-13T19:59:02.200879Z",
     "start_time": "2020-04-13T19:59:01.805172Z"
    }
   },
   "outputs": [
    {
     "name": "stdout",
     "output_type": "stream",
     "text": [
      "SD of 500 draws, sample size of 50:  2437.972983160939\n"
     ]
    },
    {
     "data": {
      "application/javascript": [
       "\n",
       "            setTimeout(function() {\n",
       "                var nbb_cell_id = 43;\n",
       "                var nbb_unformatted_code = \"# 500 draws\\nresample_test_1_salary_means = list()\\nfor i in range(500):\\n    resample_test_1_salary = salary1.sample(n=50, replace=True).copy()[\\\"salary\\\"]\\n    resample_test_1_salary_means.append(resample_test_1_salary.mean())\\n\\nprint(\\n    \\\"SD of 500 draws, sample size of 50: \\\",\\n    pd.Series(resample_test_1_salary_means).std(),\\n)\";\n",
       "                var nbb_formatted_code = \"# 500 draws\\nresample_test_1_salary_means = list()\\nfor i in range(500):\\n    resample_test_1_salary = salary1.sample(n=50, replace=True).copy()[\\\"salary\\\"]\\n    resample_test_1_salary_means.append(resample_test_1_salary.mean())\\n\\nprint(\\n    \\\"SD of 500 draws, sample size of 50: \\\",\\n    pd.Series(resample_test_1_salary_means).std(),\\n)\";\n",
       "                var nbb_cells = Jupyter.notebook.get_cells();\n",
       "                for (var i = 0; i < nbb_cells.length; ++i) {\n",
       "                    if (nbb_cells[i].input_prompt_number == nbb_cell_id) {\n",
       "                        if (nbb_cells[i].get_text() == nbb_unformatted_code) {\n",
       "                             nbb_cells[i].set_text(nbb_formatted_code);\n",
       "                        }\n",
       "                        break;\n",
       "                    }\n",
       "                }\n",
       "            }, 500);\n",
       "            "
      ],
      "text/plain": [
       "<IPython.core.display.Javascript object>"
      ]
     },
     "metadata": {},
     "output_type": "display_data"
    }
   ],
   "source": [
    "# 500 draws\n",
    "resample_test_1_salary_means = list()\n",
    "for i in range(500):\n",
    "    resample_test_1_salary = salary1.sample(n=50, replace=True).copy()[\"salary\"]\n",
    "    resample_test_1_salary_means.append(resample_test_1_salary.mean())\n",
    "\n",
    "print(\n",
    "    \"SD of 500 draws, sample size of 50: \",\n",
    "    pd.Series(resample_test_1_salary_means).std(),\n",
    ")"
   ]
  },
  {
   "cell_type": "code",
   "execution_count": 44,
   "metadata": {
    "ExecuteTime": {
     "end_time": "2020-04-13T19:59:13.060676Z",
     "start_time": "2020-04-13T19:59:03.689487Z"
    }
   },
   "outputs": [
    {
     "data": {
      "application/javascript": [
       "\n",
       "            setTimeout(function() {\n",
       "                var nbb_cell_id = 44;\n",
       "                var nbb_unformatted_code = \"n_draws = range(10, 500, 10)\\nmeans_list = list()\\nsd_list = list()\\n\\nfor draw in n_draws:\\n    resample_test_1_salary_means = list()\\n    for i in range(draw):\\n        resample_test_1_salary = salary1.sample(n=50, replace=True).copy()[\\\"salary\\\"]\\n        resample_test_1_salary_means.append(resample_test_1_salary.mean())\\n    means_list.append(pd.Series(resample_test_1_salary_means).mean())\\n    sd_list.append(pd.Series(resample_test_1_salary_means).std())\";\n",
       "                var nbb_formatted_code = \"n_draws = range(10, 500, 10)\\nmeans_list = list()\\nsd_list = list()\\n\\nfor draw in n_draws:\\n    resample_test_1_salary_means = list()\\n    for i in range(draw):\\n        resample_test_1_salary = salary1.sample(n=50, replace=True).copy()[\\\"salary\\\"]\\n        resample_test_1_salary_means.append(resample_test_1_salary.mean())\\n    means_list.append(pd.Series(resample_test_1_salary_means).mean())\\n    sd_list.append(pd.Series(resample_test_1_salary_means).std())\";\n",
       "                var nbb_cells = Jupyter.notebook.get_cells();\n",
       "                for (var i = 0; i < nbb_cells.length; ++i) {\n",
       "                    if (nbb_cells[i].input_prompt_number == nbb_cell_id) {\n",
       "                        if (nbb_cells[i].get_text() == nbb_unformatted_code) {\n",
       "                             nbb_cells[i].set_text(nbb_formatted_code);\n",
       "                        }\n",
       "                        break;\n",
       "                    }\n",
       "                }\n",
       "            }, 500);\n",
       "            "
      ],
      "text/plain": [
       "<IPython.core.display.Javascript object>"
      ]
     },
     "metadata": {},
     "output_type": "display_data"
    }
   ],
   "source": [
    "n_draws = range(10, 500, 10)\n",
    "means_list = list()\n",
    "sd_list = list()\n",
    "\n",
    "for draw in n_draws:\n",
    "    resample_test_1_salary_means = list()\n",
    "    for i in range(draw):\n",
    "        resample_test_1_salary = salary1.sample(n=50, replace=True).copy()[\"salary\"]\n",
    "        resample_test_1_salary_means.append(resample_test_1_salary.mean())\n",
    "    means_list.append(pd.Series(resample_test_1_salary_means).mean())\n",
    "    sd_list.append(pd.Series(resample_test_1_salary_means).std())"
   ]
  },
  {
   "cell_type": "code",
   "execution_count": 45,
   "metadata": {
    "ExecuteTime": {
     "end_time": "2020-04-13T19:59:13.687064Z",
     "start_time": "2020-04-13T19:59:13.120641Z"
    }
   },
   "outputs": [
    {
     "data": {
      "image/png": "[encoded data removed]",
      "text/plain": [
       "<Figure size 1008x432 with 2 Axes>"
      ]
     },
     "metadata": {
      "needs_background": "light"
     },
     "output_type": "display_data"
    },
    {
     "data": {
      "application/javascript": [
       "\n",
       "            setTimeout(function() {\n",
       "                var nbb_cell_id = 45;\n",
       "                var nbb_unformatted_code = \"f, (ax1, ax2) = plt.subplots(1, 2, figsize=(14, 6))\\n\\nax1.scatter(n_draws, means_list, color=\\\"gray\\\")\\nax1.set_title(\\\"Means as a function of no. of draws\\\")\\nax1.set_xlabel(\\\"no. of draws\\\")\\nax1.set_ylabel(\\\"mean\\\")\\n\\nax2.scatter(n_draws, sd_list, color=\\\"gray\\\")\\nax2.set_title(\\\"SD as a function of no. of draws\\\")\\nax2.set_xlabel(\\\"no. of draws\\\")\\nax2.set_ylabel(\\\"SD\\\")\\n\\nplt.tight_layout()\";\n",
       "                var nbb_formatted_code = \"f, (ax1, ax2) = plt.subplots(1, 2, figsize=(14, 6))\\n\\nax1.scatter(n_draws, means_list, color=\\\"gray\\\")\\nax1.set_title(\\\"Means as a function of no. of draws\\\")\\nax1.set_xlabel(\\\"no. of draws\\\")\\nax1.set_ylabel(\\\"mean\\\")\\n\\nax2.scatter(n_draws, sd_list, color=\\\"gray\\\")\\nax2.set_title(\\\"SD as a function of no. of draws\\\")\\nax2.set_xlabel(\\\"no. of draws\\\")\\nax2.set_ylabel(\\\"SD\\\")\\n\\nplt.tight_layout()\";\n",
       "                var nbb_cells = Jupyter.notebook.get_cells();\n",
       "                for (var i = 0; i < nbb_cells.length; ++i) {\n",
       "                    if (nbb_cells[i].input_prompt_number == nbb_cell_id) {\n",
       "                        if (nbb_cells[i].get_text() == nbb_unformatted_code) {\n",
       "                             nbb_cells[i].set_text(nbb_formatted_code);\n",
       "                        }\n",
       "                        break;\n",
       "                    }\n",
       "                }\n",
       "            }, 500);\n",
       "            "
      ],
      "text/plain": [
       "<IPython.core.display.Javascript object>"
      ]
     },
     "metadata": {},
     "output_type": "display_data"
    }
   ],
   "source": [
    "f, (ax1, ax2) = plt.subplots(1, 2, figsize=(14, 6))\n",
    "\n",
    "ax1.scatter(n_draws, means_list, color=\"gray\")\n",
    "ax1.set_title(\"Means as a function of no. of draws\")\n",
    "ax1.set_xlabel(\"no. of draws\")\n",
    "ax1.set_ylabel(\"mean\")\n",
    "\n",
    "ax2.scatter(n_draws, sd_list, color=\"gray\")\n",
    "ax2.set_title(\"SD as a function of no. of draws\")\n",
    "ax2.set_xlabel(\"no. of draws\")\n",
    "ax2.set_ylabel(\"SD\")\n",
    "\n",
    "plt.tight_layout()"
   ]
  },
  {
   "cell_type": "code",
   "execution_count": null,
   "metadata": {},
   "outputs": [],
   "source": []
  },
  {
   "cell_type": "markdown",
   "metadata": {},
   "source": [
    "## Followup 4/13/20\n",
    "\n",
    "- t-test is under the condition that the null is true, simulate based on that mean\n",
    "- bootstrap, generate instance of that t\n",
    "- bootstrap means you can calculate statistics without invoking the machinery of t-statistics\n",
    "- imagine that there's some quirk in the data, start with a one-sample test and see if it's equal to the mean"
   ]
  },
  {
   "cell_type": "code",
   "execution_count": null,
   "metadata": {},
   "outputs": [],
   "source": []
  },
  {
   "cell_type": "markdown",
   "metadata": {},
   "source": [
    "# A/B test - Jeremy teachback"
   ]
  },
  {
   "cell_type": "markdown",
   "metadata": {},
   "source": [
    "## Session 1"
   ]
  },
  {
   "cell_type": "markdown",
   "metadata": {},
   "source": [
    "- when to apply CLT\n",
    "\n",
    "- specifying the population or the sample\n",
    "\n",
    "- using confidence intervals vs where it falls in the rejection region of the null hypothesis; versus the difference\n",
    "\n",
    "- slides available?\n",
    "\n",
    "- crime scene problem\n",
    "\n",
    "- computing power (alternative hypothesis)\n",
    "\n"
   ]
  },
  {
   "cell_type": "markdown",
   "metadata": {},
   "source": [
    "Ratio of null to alternative"
   ]
  },
  {
   "cell_type": "markdown",
   "metadata": {},
   "source": [
    "## Session 2 4/16/20"
   ]
  },
  {
   "cell_type": "markdown",
   "metadata": {},
   "source": [
    "Bootstrap numerically approximates the uncertainty in a test statistic due to the sampling process. A bootstrap sample of X is a sample (with the same size as X) drawn with replacement from X."
   ]
  },
  {
   "cell_type": "markdown",
   "metadata": {},
   "source": [
    "quantile CI\n",
    "\n",
    "- looks like lower and upper bound of interval\n",
    "\n",
    "lower = np.quantile(X-btstrp, alpha/2)\n",
    "upper = np.quantile(X-btstrp, 1-alpha/2)"
   ]
  },
  {
   "cell_type": "code",
   "execution_count": null,
   "metadata": {},
   "outputs": [],
   "source": []
  },
  {
   "cell_type": "code",
   "execution_count": null,
   "metadata": {},
   "outputs": [],
   "source": []
  },
  {
   "cell_type": "code",
   "execution_count": null,
   "metadata": {},
   "outputs": [],
   "source": []
  },
  {
   "cell_type": "code",
   "execution_count": null,
   "metadata": {},
   "outputs": [],
   "source": []
  },
  {
   "cell_type": "code",
   "execution_count": null,
   "metadata": {},
   "outputs": [],
   "source": []
  },
  {
   "cell_type": "markdown",
   "metadata": {},
   "source": [
    "# Questions from Insight forum"
   ]
  },
  {
   "cell_type": "markdown",
   "metadata": {},
   "source": [
    "## When should you use one-sided vs. two-sided hypothesis tests for A/B-testing? \n",
    "\n",
    "@Katja, here are some pages out a textbook I have.\n",
    "@Nathan, I agree that's a cool post and StitchFix's other blog articles look nice.\n",
    "\n",
    "As Jeremy said, the two-sided hypothesis test means that the estimate in the alternate hypothesis can be further away from the parameter in *either direction* (either much smaller or much larger). So in your red circled statements, therefore, I believe it is okay to have directionality in both directions. With regards to your first question, possibly one A/B test scenario could be that you're deciding between two different website designs (A and B) but you don't know which would be better. Since you're open to either being better you could use a two-sided test. A different scenario might be that you have a baseline design (A) and you think that an alternate design (B) could be better. This scenario doesn't preclude using a two-sided test, but since you care about the directionality (B > A) then you could use a one-sided test. Why use a one-sided test when you can still answer your question in a two-sided test? From what I think the StitchFix post is saying and from other sources I can find, the most immediate benefit is that you can use lower sample sizes to reach significance in a one-sided test."
   ]
  },
  {
   "cell_type": "markdown",
   "metadata": {},
   "source": [
    "## Crime scene\n",
    "\n",
    " Suppose a crime has been committed. Blood is found at the scene for which there is no innocent explanation. It is of a type which is present in 1% of the population.\n",
    "a. The prosecutor claims: “There is a 1% chance that the defendant would have the crime blood type if he were innocent. Thus there is a 99% chance that he guilty”. This is known as the prosecutor’s fallacy. What is wrong with this argument?"
   ]
  },
  {
   "cell_type": "code",
   "execution_count": null,
   "metadata": {},
   "outputs": [],
   "source": []
  },
  {
   "cell_type": "code",
   "execution_count": null,
   "metadata": {},
   "outputs": [],
   "source": [
    "total_pop = 1000\n",
    "n_people = 0.01*total_pop"
   ]
  },
  {
   "cell_type": "markdown",
   "metadata": {},
   "source": [
    "The prosecutor is connecting the prevalence of blood type in the population with guilt.\n",
    "\n",
    "- The prevalence of the blood type might be at a higher rate closer to the scene. 1% could be the percentage for a whole city but the rate is higher in a certain neighborhood demographic.\n",
    "- It does not factor into the \n",
    "\n",
    "Revisit: https://en.wikipedia.org/wiki/Prosecutor%27s_fallacy"
   ]
  },
  {
   "cell_type": "code",
   "execution_count": null,
   "metadata": {},
   "outputs": [],
   "source": []
  },
  {
   "cell_type": "markdown",
   "metadata": {},
   "source": [
    "# Questions of the day (4/3/20)"
   ]
  },
  {
   "cell_type": "markdown",
   "metadata": {},
   "source": [
    "## Bobo problem\n",
    "\n",
    "1) Bobo the amoeba has a 25%, 25%, and 50% chance of producing 0, 1, or 2 offspring, respectively. Each of Bobo’s descendants also have the same probabilities. What is the probability that Bobo’s lineage dies out?"
   ]
  },
  {
   "cell_type": "code",
   "execution_count": null,
   "metadata": {},
   "outputs": [],
   "source": []
  },
  {
   "cell_type": "markdown",
   "metadata": {},
   "source": [
    "# QotD (4/15/20)"
   ]
  },
  {
   "cell_type": "markdown",
   "metadata": {},
   "source": [
    "## Fishermen problem\n",
    "\n",
    "If two fishermen catch two fish in two minutes, how many fish will be caught by 500 men in 500 minutes?\n",
    "\n",
    "250K fish"
   ]
  },
  {
   "cell_type": "code",
   "execution_count": null,
   "metadata": {},
   "outputs": [],
   "source": []
  },
  {
   "cell_type": "markdown",
   "metadata": {},
   "source": [
    "# QotD (4/20/20)"
   ]
  },
  {
   "cell_type": "code",
   "execution_count": null,
   "metadata": {},
   "outputs": [],
   "source": []
  },
  {
   "cell_type": "code",
   "execution_count": null,
   "metadata": {},
   "outputs": [],
   "source": []
  },
  {
   "cell_type": "code",
   "execution_count": null,
   "metadata": {},
   "outputs": [],
   "source": []
  },
  {
   "cell_type": "code",
   "execution_count": null,
   "metadata": {},
   "outputs": [],
   "source": []
  },
  {
   "cell_type": "code",
   "execution_count": null,
   "metadata": {},
   "outputs": [],
   "source": []
  },
  {
   "cell_type": "markdown",
   "metadata": {},
   "source": [
    "# --- "
   ]
  }
 ],
 "metadata": {
  "kernelspec": {
   "display_name": "Python 3",
   "language": "python",
   "name": "python3"
  },
  "language_info": {
   "codemirror_mode": {
    "name": "ipython",
    "version": 3
   },
   "file_extension": ".py",
   "mimetype": "text/x-python",
   "name": "python",
   "nbconvert_exporter": "python",
   "pygments_lexer": "ipython3",
   "version": "3.6.9"
  },
  "toc": {
   "base_numbering": 1,
   "nav_menu": {},
   "number_sections": true,
   "sideBar": true,
   "skip_h1_title": false,
   "title_cell": "Table of Contents",
   "title_sidebar": "Contents",
   "toc_cell": false,
   "toc_position": {
    "height": "calc(100% - 180px)",
    "left": "10px",
    "top": "150px",
    "width": "222.3px"
   },
   "toc_section_display": true,
   "toc_window_display": true
  },
  "varInspector": {
   "cols": {
    "lenName": 16,
    "lenType": 16,
    "lenVar": 40
   },
   "kernels_config": {
    "python": {
     "delete_cmd_postfix": "",
     "delete_cmd_prefix": "del ",
     "library": "var_list.py",
     "varRefreshCmd": "print(var_dic_list())"
    },
    "r": {
     "delete_cmd_postfix": ") ",
     "delete_cmd_prefix": "rm(",
     "library": "var_list.r",
     "varRefreshCmd": "cat(var_dic_list()) "
    }
   },
   "types_to_exclude": [
    "module",
    "function",
    "builtin_function_or_method",
    "instance",
    "_Feature"
   ],
   "window_display": false
  }
 },
 "nbformat": 4,
 "nbformat_minor": 2
}
