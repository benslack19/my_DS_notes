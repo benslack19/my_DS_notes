{
 "cells": [
  {
   "cell_type": "markdown",
   "metadata": {},
   "source": [
    "# Probability and statistics - Chapter 10: Data on a continuous variable\n",
    "\n",
    "**need to update**\n",
    "\n",
    "Using the textbook by Wild & Seber as a guide, I document some statistical lessons in this notebook.\n",
    "\n",
    "The primary emphasis of the chapter is on the nature of confidence intervals and interpreting CIs in the context of a practical investigation."
   ]
  },
  {
   "cell_type": "code",
   "execution_count": 1,
   "metadata": {
    "ExecuteTime": {
     "end_time": "2020-04-10T00:07:04.482402Z",
     "start_time": "2020-04-10T00:07:04.462946Z"
    }
   },
   "outputs": [
    {
     "data": {
      "application/javascript": [
       "\n",
       "            setTimeout(function() {\n",
       "                var nbb_cell_id = 1;\n",
       "                var nbb_unformatted_code = \"import numpy as np\\nimport pandas as pd\\nimport matplotlib.pyplot as plt\\n\\n%matplotlib inline\\nimport seaborn as sns\\nfrom scipy import stats, integrate\\n\\n# Code formatting\\n%load_ext nb_black\";\n",
       "                var nbb_formatted_code = \"import numpy as np\\nimport pandas as pd\\nimport matplotlib.pyplot as plt\\n\\n%matplotlib inline\\nimport seaborn as sns\\nfrom scipy import stats, integrate\\n\\n# Code formatting\\n%load_ext nb_black\";\n",
       "                var nbb_cells = Jupyter.notebook.get_cells();\n",
       "                for (var i = 0; i < nbb_cells.length; ++i) {\n",
       "                    if (nbb_cells[i].input_prompt_number == nbb_cell_id) {\n",
       "                        if (nbb_cells[i].get_text() == nbb_unformatted_code) {\n",
       "                             nbb_cells[i].set_text(nbb_formatted_code);\n",
       "                        }\n",
       "                        break;\n",
       "                    }\n",
       "                }\n",
       "            }, 500);\n",
       "            "
      ],
      "text/plain": [
       "<IPython.core.display.Javascript object>"
      ]
     },
     "metadata": {},
     "output_type": "display_data"
    }
   ],
   "source": [
    "import matplotlib.pyplot as plt\n",
    "import numpy as np\n",
    "import pandas as pd\n",
    "\n",
    "%matplotlib inline\n",
    "import seaborn as sns\n",
    "from scipy import integrate, stats\n",
    "\n",
    "# Code formatting\n",
    "%load_ext nb_black"
   ]
  },
  {
   "cell_type": "markdown",
   "metadata": {},
   "source": [
    "## Introduction\n",
    "\n",
    "Chapter 7 talked informally about using a two-standard-error interval as an interval estimate of an unknown parameter. We now take a close look at this idea and consier intervals of varying widths. The width will depend on how much \"confidence\" we want to have in the interval as a means of capturing the true value of the parameter. The following example introduces the ideas.\n",
    "\n",
    "**Example. Estimating the speed of light.**\n",
    "\n",
    "In 1882, Newcomb attempted to measure the speed of light by passing light from its source onto a rapidly rotating mirror that would be picked up by a distant fixed mirror. The observations are passage times for the light to travel from Fort Myer on the west bank of the Potomoac river to a fixed mirror at the foot of the Washington Monument 3721 m away and back (in ms). There are 20 observations corresponding to 20 repetitions of the measurement procedure. Imagine also that he only used a subset of the data with 8 replications.\n"
   ]
  },
  {
   "cell_type": "code",
   "execution_count": 29,
   "metadata": {
    "ExecuteTime": {
     "end_time": "2020-04-08T00:52:00.651350Z",
     "start_time": "2020-04-08T00:52:00.634497Z"
    }
   },
   "outputs": [
    {
     "data": {
      "application/javascript": [
       "\n",
       "            setTimeout(function() {\n",
       "                var nbb_cell_id = 29;\n",
       "                var nbb_unformatted_code = \"data_set_20 = pd.Series([\\n    24.824,\\n    24.828,\\n    24.837,\\n    24.832,\\n    24.820,\\n    24.825,\\n    24.825,\\n    24.836,\\n    24.836,\\n    24.821,\\n    24.828,\\n    24.826,\\n    24.832,\\n    24.828,\\n    24.826,\\n    24.830,\\n    24.836,\\n    24.829,\\n    24.830,\\n    24.822,\\n])\";\n",
       "                var nbb_formatted_code = \"data_set_20 = pd.Series(\\n    [\\n        24.824,\\n        24.828,\\n        24.837,\\n        24.832,\\n        24.820,\\n        24.825,\\n        24.825,\\n        24.836,\\n        24.836,\\n        24.821,\\n        24.828,\\n        24.826,\\n        24.832,\\n        24.828,\\n        24.826,\\n        24.830,\\n        24.836,\\n        24.829,\\n        24.830,\\n        24.822,\\n    ]\\n)\";\n",
       "                var nbb_cells = Jupyter.notebook.get_cells();\n",
       "                for (var i = 0; i < nbb_cells.length; ++i) {\n",
       "                    if (nbb_cells[i].input_prompt_number == nbb_cell_id) {\n",
       "                        if (nbb_cells[i].get_text() == nbb_unformatted_code) {\n",
       "                             nbb_cells[i].set_text(nbb_formatted_code);\n",
       "                        }\n",
       "                        break;\n",
       "                    }\n",
       "                }\n",
       "            }, 500);\n",
       "            "
      ],
      "text/plain": [
       "<IPython.core.display.Javascript object>"
      ]
     },
     "metadata": {},
     "output_type": "display_data"
    }
   ],
   "source": [
    "data_set_20 = pd.Series(\n",
    "    [\n",
    "        24.824,\n",
    "        24.828,\n",
    "        24.837,\n",
    "        24.832,\n",
    "        24.820,\n",
    "        24.825,\n",
    "        24.825,\n",
    "        24.836,\n",
    "        24.836,\n",
    "        24.821,\n",
    "        24.828,\n",
    "        24.826,\n",
    "        24.832,\n",
    "        24.828,\n",
    "        24.826,\n",
    "        24.830,\n",
    "        24.836,\n",
    "        24.829,\n",
    "        24.830,\n",
    "        24.822,\n",
    "    ]\n",
    ")"
   ]
  },
  {
   "cell_type": "code",
   "execution_count": 27,
   "metadata": {
    "ExecuteTime": {
     "end_time": "2020-04-08T00:51:31.725392Z",
     "start_time": "2020-04-08T00:51:31.713515Z"
    },
    "scrolled": true
   },
   "outputs": [
    {
     "data": {
      "application/javascript": [
       "\n",
       "            setTimeout(function() {\n",
       "                var nbb_cell_id = 27;\n",
       "                var nbb_unformatted_code = \"data_set_8 = pd.Series(data_set_20).iloc[[0, 2, 5, 7, 12, 14, 18, 19]]\";\n",
       "                var nbb_formatted_code = \"data_set_8 = pd.Series(data_set_20).iloc[[0, 2, 5, 7, 12, 14, 18, 19]]\";\n",
       "                var nbb_cells = Jupyter.notebook.get_cells();\n",
       "                for (var i = 0; i < nbb_cells.length; ++i) {\n",
       "                    if (nbb_cells[i].input_prompt_number == nbb_cell_id) {\n",
       "                        if (nbb_cells[i].get_text() == nbb_unformatted_code) {\n",
       "                             nbb_cells[i].set_text(nbb_formatted_code);\n",
       "                        }\n",
       "                        break;\n",
       "                    }\n",
       "                }\n",
       "            }, 500);\n",
       "            "
      ],
      "text/plain": [
       "<IPython.core.display.Javascript object>"
      ]
     },
     "metadata": {},
     "output_type": "display_data"
    }
   ],
   "source": [
    "data_set_8 = pd.Series(data_set_20).iloc[[0, 2, 5, 7, 12, 14, 18, 19]]"
   ]
  },
  {
   "cell_type": "markdown",
   "metadata": {},
   "source": [
    "*See pg. 238*"
   ]
  },
  {
   "cell_type": "markdown",
   "metadata": {},
   "source": [
    "**Is a two-standard error-interval larger or smaller when the sample size is small compared to when it is large?**\n",
    "\n",
    "SE is larger (since $\\sqrt{n}$ would be smaller), therefore making the two-standard-error interval larger. "
   ]
  },
  {
   "cell_type": "markdown",
   "metadata": {},
   "source": [
    "In sections 7.2.3 and 7.6, we know that a two-standard-error interval captures the true mean for approximately 19 out of every 20 samples taken when we have large samples. Instead of always using two standard errors on either side of estimate, we take sample size into account.\n",
    "\n",
    "We shall think generally about estimating a population parameter $\\theta$ using a data estimate $\\hat{\\theta}$. The defining property of a 95% confidence interval for a parameter $\\theta$  is as follows.\n",
    "\n",
    "**A type of interval that contains the true value of a parameter for 95% of samples taken is called a 95% confidence interval for that parameter.**\n",
    "\n",
    "(95% CI for $\\theta$):      $\\hat{\\theta} \\pm t_{df}(0.025)se(\\hat{\\theta})$\n",
    "\n",
    "A confidence interval (CI) for the true value of a parameter is given by:\n",
    "<br>\n",
    "**estimate $\\pm$ t standard errors**\n",
    "\n",
    "**confidence limits:** The endpoints of a confidence interval.\n",
    "<br>\n",
    "**margin of error:** The piece being added and subtracted."
   ]
  },
  {
   "cell_type": "code",
   "execution_count": null,
   "metadata": {},
   "outputs": [],
   "source": []
  },
  {
   "cell_type": "code",
   "execution_count": null,
   "metadata": {},
   "outputs": [],
   "source": []
  },
  {
   "cell_type": "code",
   "execution_count": null,
   "metadata": {},
   "outputs": [],
   "source": []
  },
  {
   "cell_type": "markdown",
   "metadata": {},
   "source": [
    "\n",
    "### Adjusting the confidence level\n",
    "\n",
    "\n",
    "### How can we make a precise statement with confidence?\n",
    "\n",
    "\n",
    "### Conservative confidence intervals"
   ]
  },
  {
   "cell_type": "markdown",
   "metadata": {
    "ExecuteTime": {
     "end_time": "2020-04-08T00:16:29.848454Z",
     "start_time": "2020-04-08T00:16:29.841238Z"
    }
   },
   "source": [
    "## Means"
   ]
  },
  {
   "cell_type": "code",
   "execution_count": null,
   "metadata": {},
   "outputs": [],
   "source": []
  },
  {
   "cell_type": "code",
   "execution_count": null,
   "metadata": {},
   "outputs": [],
   "source": []
  },
  {
   "cell_type": "markdown",
   "metadata": {},
   "source": [
    "## Proportions"
   ]
  },
  {
   "cell_type": "code",
   "execution_count": null,
   "metadata": {},
   "outputs": [],
   "source": []
  },
  {
   "cell_type": "code",
   "execution_count": null,
   "metadata": {},
   "outputs": [],
   "source": []
  },
  {
   "cell_type": "markdown",
   "metadata": {},
   "source": [
    "## Comparing two means"
   ]
  },
  {
   "cell_type": "code",
   "execution_count": null,
   "metadata": {},
   "outputs": [],
   "source": []
  },
  {
   "cell_type": "code",
   "execution_count": null,
   "metadata": {},
   "outputs": [],
   "source": []
  },
  {
   "cell_type": "markdown",
   "metadata": {
    "ExecuteTime": {
     "end_time": "2020-04-08T00:17:09.349381Z",
     "start_time": "2020-04-08T00:17:09.341827Z"
    }
   },
   "source": [
    "## Comparing two proportions\n",
    "\n",
    "\n",
    "### Independence case\n",
    "\n",
    "\n",
    "### Other common comparisons\n",
    "\n",
    "\n",
    "### \"Margins of error\" in media reports"
   ]
  },
  {
   "cell_type": "code",
   "execution_count": null,
   "metadata": {},
   "outputs": [],
   "source": []
  },
  {
   "cell_type": "markdown",
   "metadata": {
    "ExecuteTime": {
     "end_time": "2020-04-08T00:19:02.839321Z",
     "start_time": "2020-04-08T00:19:02.833114Z"
    }
   },
   "source": [
    "## How big should my study be?\n",
    "\n",
    "### Proportions\n",
    "\n",
    "\n",
    "### Means\n",
    "\n"
   ]
  },
  {
   "cell_type": "markdown",
   "metadata": {},
   "source": [
    "## Summary"
   ]
  },
  {
   "cell_type": "code",
   "execution_count": null,
   "metadata": {},
   "outputs": [],
   "source": []
  },
  {
   "cell_type": "markdown",
   "metadata": {},
   "source": [
    "## Review exercises"
   ]
  },
  {
   "cell_type": "markdown",
   "metadata": {
    "ExecuteTime": {
     "end_time": "2020-04-09T23:44:03.139532Z",
     "start_time": "2020-04-09T23:44:03.133707Z"
    }
   },
   "source": [
    "### Question 1."
   ]
  },
  {
   "cell_type": "markdown",
   "metadata": {},
   "source": [
    "A new batch of ore is to be tested for its nickel content to determine whether it is consistent with th eusual mean content of 3.25% that has been found for previous batches. Ten samples are taken with the following results:"
   ]
  },
  {
   "cell_type": "code",
   "execution_count": 125,
   "metadata": {
    "ExecuteTime": {
     "end_time": "2020-04-10T00:28:13.230105Z",
     "start_time": "2020-04-10T00:28:13.218258Z"
    }
   },
   "outputs": [
    {
     "data": {
      "application/javascript": [
       "\n",
       "            setTimeout(function() {\n",
       "                var nbb_cell_id = 125;\n",
       "                var nbb_unformatted_code = \"new_batch = pd.Series([3.27, 3.23, 3.31, 3.34, 3.26, 3.24, 3.25, 3.37, 3.29, 3.33])\";\n",
       "                var nbb_formatted_code = \"new_batch = pd.Series([3.27, 3.23, 3.31, 3.34, 3.26, 3.24, 3.25, 3.37, 3.29, 3.33])\";\n",
       "                var nbb_cells = Jupyter.notebook.get_cells();\n",
       "                for (var i = 0; i < nbb_cells.length; ++i) {\n",
       "                    if (nbb_cells[i].input_prompt_number == nbb_cell_id) {\n",
       "                        if (nbb_cells[i].get_text() == nbb_unformatted_code) {\n",
       "                             nbb_cells[i].set_text(nbb_formatted_code);\n",
       "                        }\n",
       "                        break;\n",
       "                    }\n",
       "                }\n",
       "            }, 500);\n",
       "            "
      ],
      "text/plain": [
       "<IPython.core.display.Javascript object>"
      ]
     },
     "metadata": {},
     "output_type": "display_data"
    }
   ],
   "source": [
    "new_batch = pd.Series([3.27, 3.23, 3.31, 3.34, 3.26, 3.24, 3.25, 3.37, 3.29, 3.33])"
   ]
  },
  {
   "cell_type": "markdown",
   "metadata": {},
   "source": [
    "(a) Obtain a dot plot for these data. Anything to suggest that the data may not be normally distributed?\n",
    "*Normal distribution seems like a reasonable assumption.*"
   ]
  },
  {
   "cell_type": "code",
   "execution_count": 126,
   "metadata": {
    "ExecuteTime": {
     "end_time": "2020-04-10T00:28:15.152350Z",
     "start_time": "2020-04-10T00:28:14.960145Z"
    }
   },
   "outputs": [
    {
     "data": {
      "text/plain": [
       "<matplotlib.collections.PathCollection at 0x12d4bc588>"
      ]
     },
     "execution_count": 126,
     "metadata": {},
     "output_type": "execute_result"
    },
    {
     "data": {
      "image/png": "[encoded data removed]",
      "text/plain": [
       "<Figure size 864x144 with 1 Axes>"
      ]
     },
     "metadata": {
      "needs_background": "light"
     },
     "output_type": "display_data"
    },
    {
     "data": {
      "application/javascript": [
       "\n",
       "            setTimeout(function() {\n",
       "                var nbb_cell_id = 126;\n",
       "                var nbb_unformatted_code = \"f, ax1 = plt.subplots(figsize=(12, 2))\\nax1.scatter(new_batch, [1] * len(new_batch), facecolors=\\\"none\\\", edgecolors=\\\"k\\\")\";\n",
       "                var nbb_formatted_code = \"f, ax1 = plt.subplots(figsize=(12, 2))\\nax1.scatter(new_batch, [1] * len(new_batch), facecolors=\\\"none\\\", edgecolors=\\\"k\\\")\";\n",
       "                var nbb_cells = Jupyter.notebook.get_cells();\n",
       "                for (var i = 0; i < nbb_cells.length; ++i) {\n",
       "                    if (nbb_cells[i].input_prompt_number == nbb_cell_id) {\n",
       "                        if (nbb_cells[i].get_text() == nbb_unformatted_code) {\n",
       "                             nbb_cells[i].set_text(nbb_formatted_code);\n",
       "                        }\n",
       "                        break;\n",
       "                    }\n",
       "                }\n",
       "            }, 500);\n",
       "            "
      ],
      "text/plain": [
       "<IPython.core.display.Javascript object>"
      ]
     },
     "metadata": {},
     "output_type": "display_data"
    }
   ],
   "source": [
    "f, ax1 = plt.subplots(figsize=(12, 2))\n",
    "ax1.scatter(new_batch, [1] * len(new_batch), facecolors=\"none\", edgecolors=\"k\")"
   ]
  },
  {
   "cell_type": "markdown",
   "metadata": {},
   "source": [
    "(b) Find the sample mean and standard deviation for the 10 observations."
   ]
  },
  {
   "cell_type": "code",
   "execution_count": 127,
   "metadata": {
    "ExecuteTime": {
     "end_time": "2020-04-10T00:28:17.420004Z",
     "start_time": "2020-04-10T00:28:17.408189Z"
    }
   },
   "outputs": [
    {
     "name": "stdout",
     "output_type": "stream",
     "text": [
      "mean:  3.289 std:  0.04701063709417264\n"
     ]
    },
    {
     "data": {
      "application/javascript": [
       "\n",
       "            setTimeout(function() {\n",
       "                var nbb_cell_id = 127;\n",
       "                var nbb_unformatted_code = \"print(\\\"mean: \\\", new_batch.mean(), \\\"std: \\\", new_batch.std())\";\n",
       "                var nbb_formatted_code = \"print(\\\"mean: \\\", new_batch.mean(), \\\"std: \\\", new_batch.std())\";\n",
       "                var nbb_cells = Jupyter.notebook.get_cells();\n",
       "                for (var i = 0; i < nbb_cells.length; ++i) {\n",
       "                    if (nbb_cells[i].input_prompt_number == nbb_cell_id) {\n",
       "                        if (nbb_cells[i].get_text() == nbb_unformatted_code) {\n",
       "                             nbb_cells[i].set_text(nbb_formatted_code);\n",
       "                        }\n",
       "                        break;\n",
       "                    }\n",
       "                }\n",
       "            }, 500);\n",
       "            "
      ],
      "text/plain": [
       "<IPython.core.display.Javascript object>"
      ]
     },
     "metadata": {},
     "output_type": "display_data"
    }
   ],
   "source": [
    "print(\"mean: \", new_batch.mean(), \"std: \", new_batch.std())"
   ]
  },
  {
   "cell_type": "markdown",
   "metadata": {},
   "source": [
    "(c) Obtain a 95% confidence for the mean content of this batch. Is there any evidence that this batch differs from previous batches?\n",
    "\n",
    "*For a 95% CI, I need to get the t-statistic that avoids the highest and lowest 0.025.*"
   ]
  },
  {
   "cell_type": "code",
   "execution_count": 128,
   "metadata": {
    "ExecuteTime": {
     "end_time": "2020-04-10T00:28:20.907328Z",
     "start_time": "2020-04-10T00:28:20.895792Z"
    }
   },
   "outputs": [
    {
     "name": "stdout",
     "output_type": "stream",
     "text": [
      "2.2281388519649385\n"
     ]
    },
    {
     "data": {
      "application/javascript": [
       "\n",
       "            setTimeout(function() {\n",
       "                var nbb_cell_id = 128;\n",
       "                var nbb_unformatted_code = \"from scipy.stats import t\\nt_val_df10 = t.ppf(q=0.975, df=10)\\nprint(t_val_df10)\";\n",
       "                var nbb_formatted_code = \"from scipy.stats import t\\n\\nt_val_df10 = t.ppf(q=0.975, df=10)\\nprint(t_val_df10)\";\n",
       "                var nbb_cells = Jupyter.notebook.get_cells();\n",
       "                for (var i = 0; i < nbb_cells.length; ++i) {\n",
       "                    if (nbb_cells[i].input_prompt_number == nbb_cell_id) {\n",
       "                        if (nbb_cells[i].get_text() == nbb_unformatted_code) {\n",
       "                             nbb_cells[i].set_text(nbb_formatted_code);\n",
       "                        }\n",
       "                        break;\n",
       "                    }\n",
       "                }\n",
       "            }, 500);\n",
       "            "
      ],
      "text/plain": [
       "<IPython.core.display.Javascript object>"
      ]
     },
     "metadata": {},
     "output_type": "display_data"
    }
   ],
   "source": [
    "from scipy.stats import t\n",
    "\n",
    "t_val_df10 = t.ppf(q=0.975, df=10)\n",
    "print(t_val_df10)"
   ]
  },
  {
   "cell_type": "code",
   "execution_count": 129,
   "metadata": {
    "ExecuteTime": {
     "end_time": "2020-04-10T00:28:22.464702Z",
     "start_time": "2020-04-10T00:28:22.447616Z"
    }
   },
   "outputs": [
    {
     "name": "stdout",
     "output_type": "stream",
     "text": [
      "Lower and upper bound:  3.255876334648118 3.3221236653518824\n"
     ]
    },
    {
     "data": {
      "application/javascript": [
       "\n",
       "            setTimeout(function() {\n",
       "                var nbb_cell_id = 129;\n",
       "                var nbb_unformatted_code = \"lower_bound = new_batch.mean() - t_val_df10 * (new_batch.std() / np.sqrt(10))\\nupper_bound = new_batch.mean() + t_val_df10 * (new_batch.std() / np.sqrt(10))\\n\\nprint(\\\"Lower and upper bound: \\\", lower_bound, upper_bound)\";\n",
       "                var nbb_formatted_code = \"lower_bound = new_batch.mean() - t_val_df10 * (new_batch.std() / np.sqrt(10))\\nupper_bound = new_batch.mean() + t_val_df10 * (new_batch.std() / np.sqrt(10))\\n\\nprint(\\\"Lower and upper bound: \\\", lower_bound, upper_bound)\";\n",
       "                var nbb_cells = Jupyter.notebook.get_cells();\n",
       "                for (var i = 0; i < nbb_cells.length; ++i) {\n",
       "                    if (nbb_cells[i].input_prompt_number == nbb_cell_id) {\n",
       "                        if (nbb_cells[i].get_text() == nbb_unformatted_code) {\n",
       "                             nbb_cells[i].set_text(nbb_formatted_code);\n",
       "                        }\n",
       "                        break;\n",
       "                    }\n",
       "                }\n",
       "            }, 500);\n",
       "            "
      ],
      "text/plain": [
       "<IPython.core.display.Javascript object>"
      ]
     },
     "metadata": {},
     "output_type": "display_data"
    }
   ],
   "source": [
    "lower_bound = new_batch.mean() - t_val_df10 * (new_batch.std() / np.sqrt(10))\n",
    "upper_bound = new_batch.mean() + t_val_df10 * (new_batch.std() / np.sqrt(10))\n",
    "\n",
    "print(\"Lower and upper bound: \", lower_bound, upper_bound)"
   ]
  },
  {
   "cell_type": "markdown",
   "metadata": {},
   "source": [
    "*There is evidence that the batch is different, since the usual mean content is 3.25%.*"
   ]
  },
  {
   "cell_type": "markdown",
   "metadata": {},
   "source": [
    "(d) Draw confidence interval on your dot plot. If you had 40 observations with the same sample mean and SD, what would that look like?"
   ]
  },
  {
   "cell_type": "code",
   "execution_count": 133,
   "metadata": {
    "ExecuteTime": {
     "end_time": "2020-04-10T00:29:15.497263Z",
     "start_time": "2020-04-10T00:29:15.272837Z"
    }
   },
   "outputs": [
    {
     "name": "stdout",
     "output_type": "stream",
     "text": [
      "3.273977277206439 3.3040227227935612\n"
     ]
    },
    {
     "data": {
      "image/png": "[encoded data removed]",
      "text/plain": [
       "<Figure size 864x144 with 1 Axes>"
      ]
     },
     "metadata": {
      "needs_background": "light"
     },
     "output_type": "display_data"
    },
    {
     "data": {
      "application/javascript": [
       "\n",
       "            setTimeout(function() {\n",
       "                var nbb_cell_id = 133;\n",
       "                var nbb_unformatted_code = \"f, ax1 = plt.subplots(figsize=(12, 2))\\n\\nax1.scatter(new_batch, [1] * len(new_batch), facecolors=\\\"none\\\", edgecolors=\\\"k\\\")\\nax1.plot([lower_bound, upper_bound], [1.01, 1.01], linewidth=1, color=\\\"r\\\", label=\\\"n=10\\\")\\n\\n\\nt_val_df40 = t.ppf(q=0.975, df=40)\\nlower_bound_40 = new_batch.mean() - t_val_df40 * (new_batch.std() / np.sqrt(40))\\nupper_bound_40 = new_batch.mean() + t_val_df40 * (new_batch.std() / np.sqrt(40))\\nax1.plot([lower_bound_40, upper_bound_40], [0.99, 0.99], linewidth=1, color=\\\"b\\\", label=\\\"n=40\\\")\\nax1.legend();\\n\\nprint(lower_bound_40, upper_bound_40)\";\n",
       "                var nbb_formatted_code = \"f, ax1 = plt.subplots(figsize=(12, 2))\\n\\nax1.scatter(new_batch, [1] * len(new_batch), facecolors=\\\"none\\\", edgecolors=\\\"k\\\")\\nax1.plot([lower_bound, upper_bound], [1.01, 1.01], linewidth=1, color=\\\"r\\\", label=\\\"n=10\\\")\\n\\n\\nt_val_df40 = t.ppf(q=0.975, df=40)\\nlower_bound_40 = new_batch.mean() - t_val_df40 * (new_batch.std() / np.sqrt(40))\\nupper_bound_40 = new_batch.mean() + t_val_df40 * (new_batch.std() / np.sqrt(40))\\nax1.plot(\\n    [lower_bound_40, upper_bound_40], [0.99, 0.99], linewidth=1, color=\\\"b\\\", label=\\\"n=40\\\"\\n)\\nax1.legend()\\n\\nprint(lower_bound_40, upper_bound_40)\";\n",
       "                var nbb_cells = Jupyter.notebook.get_cells();\n",
       "                for (var i = 0; i < nbb_cells.length; ++i) {\n",
       "                    if (nbb_cells[i].input_prompt_number == nbb_cell_id) {\n",
       "                        if (nbb_cells[i].get_text() == nbb_unformatted_code) {\n",
       "                             nbb_cells[i].set_text(nbb_formatted_code);\n",
       "                        }\n",
       "                        break;\n",
       "                    }\n",
       "                }\n",
       "            }, 500);\n",
       "            "
      ],
      "text/plain": [
       "<IPython.core.display.Javascript object>"
      ]
     },
     "metadata": {},
     "output_type": "display_data"
    }
   ],
   "source": [
    "f, ax1 = plt.subplots(figsize=(12, 2))\n",
    "\n",
    "ax1.scatter(new_batch, [1] * len(new_batch), facecolors=\"none\", edgecolors=\"k\")\n",
    "ax1.plot([lower_bound, upper_bound], [1.01, 1.01], linewidth=1, color=\"r\", label=\"n=10\")\n",
    "\n",
    "\n",
    "t_val_df40 = t.ppf(q=0.975, df=40)\n",
    "lower_bound_40 = new_batch.mean() - t_val_df40 * (new_batch.std() / np.sqrt(40))\n",
    "upper_bound_40 = new_batch.mean() + t_val_df40 * (new_batch.std() / np.sqrt(40))\n",
    "ax1.plot(\n",
    "    [lower_bound_40, upper_bound_40], [0.99, 0.99], linewidth=1, color=\"b\", label=\"n=40\"\n",
    ")\n",
    "ax1.legend()\n",
    "\n",
    "print(lower_bound_40, upper_bound_40)"
   ]
  },
  {
   "cell_type": "markdown",
   "metadata": {},
   "source": [
    "There's 4x as many samples. If the multiplier didn't change, then that would translate to the width of the interval getting divided roughly in half (square root relationship in denominator)."
   ]
  },
  {
   "cell_type": "markdown",
   "metadata": {},
   "source": [
    "(e) If the original 10 observations represent a pilot sample, what sample size would you need to obtain a 95% CI with margin of error no greater than 0.015?"
   ]
  },
  {
   "cell_type": "code",
   "execution_count": 131,
   "metadata": {
    "ExecuteTime": {
     "end_time": "2020-04-10T00:28:36.367909Z",
     "start_time": "2020-04-10T00:28:36.344135Z"
    }
   },
   "outputs": [
    {
     "name": "stdout",
     "output_type": "stream",
     "text": [
      "10 0.03312366535188211\n",
      "15 0.02587173558826408\n",
      "20 0.021927435032804764\n",
      "25 0.01936404389698853\n",
      "30 0.01752867906845273\n",
      "35 0.016131741047443634\n",
      "40 0.015022722793560884\n",
      "45 0.014114699589829674\n",
      "50 0.01335351970894271\n"
     ]
    },
    {
     "data": {
      "application/javascript": [
       "\n",
       "            setTimeout(function() {\n",
       "                var nbb_cell_id = 131;\n",
       "                var nbb_unformatted_code = \"# From trying different values\\nfor n in range(10, 55, 5):\\n    t_val_df = t.ppf(q=0.975, df=n)\\n    m_of_e = t_val_df * (new_batch.std() / np.sqrt(n))\\n    print(n, m_of_e)\";\n",
       "                var nbb_formatted_code = \"# From trying different values\\nfor n in range(10, 55, 5):\\n    t_val_df = t.ppf(q=0.975, df=n)\\n    m_of_e = t_val_df * (new_batch.std() / np.sqrt(n))\\n    print(n, m_of_e)\";\n",
       "                var nbb_cells = Jupyter.notebook.get_cells();\n",
       "                for (var i = 0; i < nbb_cells.length; ++i) {\n",
       "                    if (nbb_cells[i].input_prompt_number == nbb_cell_id) {\n",
       "                        if (nbb_cells[i].get_text() == nbb_unformatted_code) {\n",
       "                             nbb_cells[i].set_text(nbb_formatted_code);\n",
       "                        }\n",
       "                        break;\n",
       "                    }\n",
       "                }\n",
       "            }, 500);\n",
       "            "
      ],
      "text/plain": [
       "<IPython.core.display.Javascript object>"
      ]
     },
     "metadata": {},
     "output_type": "display_data"
    }
   ],
   "source": [
    "# From trying different values\n",
    "for n in range(10, 55, 5):\n",
    "    t_val_df = t.ppf(q=0.975, df=n)\n",
    "    m_of_e = t_val_df * (new_batch.std() / np.sqrt(n))\n",
    "    print(n, m_of_e)"
   ]
  },
  {
   "cell_type": "code",
   "execution_count": 134,
   "metadata": {
    "ExecuteTime": {
     "end_time": "2020-04-10T00:32:37.855193Z",
     "start_time": "2020-04-10T00:32:37.840317Z"
    }
   },
   "outputs": [
    {
     "name": "stdout",
     "output_type": "stream",
     "text": [
      "37.7330488888889\n"
     ]
    },
    {
     "data": {
      "application/javascript": [
       "\n",
       "            setTimeout(function() {\n",
       "                var nbb_cell_id = 134;\n",
       "                var nbb_unformatted_code = \"# From formula\\n# z is the multiplier appropriate for the confidence level (when n is large t ~= z)\\n# sigma_star is the estimate of variability:\\n    # could just be sigma from a \\\"pilot\\\"\\n    # could be (maximum imaginable measurement - minimum imaginable measurement)/6\\n# Rationale is that virtually all observations fall within 3sigma on either side of the mean\\n# m is margin of error\\n# sigma_star = (max(new_batch) - min(new_batch)) / 6\\n\\nsigma_star = new_batch.std()\\nz = 1.96\\nm = 0.015\\n\\nest_sample_size = ((z * sigma_star) / m) ** 2\\n\\nprint(est_sample_size)\";\n",
       "                var nbb_formatted_code = \"# From formula\\n# z is the multiplier appropriate for the confidence level (when n is large t ~= z)\\n# sigma_star is the estimate of variability:\\n# could just be sigma from a \\\"pilot\\\"\\n# could be (maximum imaginable measurement - minimum imaginable measurement)/6\\n# Rationale is that virtually all observations fall within 3sigma on either side of the mean\\n# m is margin of error\\n# sigma_star = (max(new_batch) - min(new_batch)) / 6\\n\\nsigma_star = new_batch.std()\\nz = 1.96\\nm = 0.015\\n\\nest_sample_size = ((z * sigma_star) / m) ** 2\\n\\nprint(est_sample_size)\";\n",
       "                var nbb_cells = Jupyter.notebook.get_cells();\n",
       "                for (var i = 0; i < nbb_cells.length; ++i) {\n",
       "                    if (nbb_cells[i].input_prompt_number == nbb_cell_id) {\n",
       "                        if (nbb_cells[i].get_text() == nbb_unformatted_code) {\n",
       "                             nbb_cells[i].set_text(nbb_formatted_code);\n",
       "                        }\n",
       "                        break;\n",
       "                    }\n",
       "                }\n",
       "            }, 500);\n",
       "            "
      ],
      "text/plain": [
       "<IPython.core.display.Javascript object>"
      ]
     },
     "metadata": {},
     "output_type": "display_data"
    }
   ],
   "source": [
    "# From formula\n",
    "# z is the multiplier appropriate for the confidence level (when n is large t ~= z)\n",
    "# sigma_star is the estimate of variability:\n",
    "# could just be sigma from a \"pilot\"\n",
    "# could be (maximum imaginable measurement - minimum imaginable measurement)/6\n",
    "# Rationale is that virtually all observations fall within 3sigma on either side of the mean\n",
    "# m is margin of error\n",
    "# sigma_star = (max(new_batch) - min(new_batch)) / 6\n",
    "\n",
    "sigma_star = new_batch.std()\n",
    "z = 1.96\n",
    "m = 0.015\n",
    "\n",
    "est_sample_size = ((z * sigma_star) / m) ** 2\n",
    "\n",
    "print(est_sample_size)"
   ]
  },
  {
   "cell_type": "code",
   "execution_count": null,
   "metadata": {},
   "outputs": [],
   "source": []
  },
  {
   "cell_type": "code",
   "execution_count": null,
   "metadata": {},
   "outputs": [],
   "source": []
  },
  {
   "cell_type": "markdown",
   "metadata": {
    "ExecuteTime": {
     "end_time": "2020-04-09T23:44:03.139532Z",
     "start_time": "2020-04-09T23:44:03.133707Z"
    }
   },
   "source": [
    "### Question 9."
   ]
  },
  {
   "cell_type": "markdown",
   "metadata": {},
   "source": [
    "A study asked whether some differences in health problems could be caused by differences in diet between smokers and non-smokers. A survey was performed on 9003 British adults. (part b) Using only the data on nonmanual workers, obtain a 95% confidence interval for the true diffrence in proportions between ex-smokers and smokers consuming breakfast. Repeat for the other dietary habits. Interpret your intervals."
   ]
  },
  {
   "cell_type": "code",
   "execution_count": 2,
   "metadata": {},
   "outputs": [
    {
     "data": {
      "application/javascript": [
       "\n",
       "            setTimeout(function() {\n",
       "                var nbb_cell_id = 2;\n",
       "                var nbb_unformatted_code = \"df = pd.DataFrame({'smokers':[404, 0.629, 0.354, 0.594, 0.282],\\n                   'exsmokers':[517, 0.824, 0.536, 0.776, 0.162]})\\n\\ndf.index = ['n_group', 'prop_consuming_breakfast', 'prop_consuming_brownbread', 'prop_consuming_freshfruit', 'prop_consuming_friedfood']\";\n",
       "                var nbb_formatted_code = \"df = pd.DataFrame(\\n    {\\n        \\\"smokers\\\": [404, 0.629, 0.354, 0.594, 0.282],\\n        \\\"exsmokers\\\": [517, 0.824, 0.536, 0.776, 0.162],\\n    }\\n)\\n\\ndf.index = [\\n    \\\"n_group\\\",\\n    \\\"prop_consuming_breakfast\\\",\\n    \\\"prop_consuming_brownbread\\\",\\n    \\\"prop_consuming_freshfruit\\\",\\n    \\\"prop_consuming_friedfood\\\",\\n]\";\n",
       "                var nbb_cells = Jupyter.notebook.get_cells();\n",
       "                for (var i = 0; i < nbb_cells.length; ++i) {\n",
       "                    if (nbb_cells[i].input_prompt_number == nbb_cell_id) {\n",
       "                        if (nbb_cells[i].get_text() == nbb_unformatted_code) {\n",
       "                             nbb_cells[i].set_text(nbb_formatted_code);\n",
       "                        }\n",
       "                        break;\n",
       "                    }\n",
       "                }\n",
       "            }, 500);\n",
       "            "
      ],
      "text/plain": [
       "<IPython.core.display.Javascript object>"
      ]
     },
     "metadata": {},
     "output_type": "display_data"
    }
   ],
   "source": [
    "df = pd.DataFrame(\n",
    "    {\n",
    "        \"smokers\": [404, 0.629, 0.354, 0.594, 0.282],\n",
    "        \"exsmokers\": [517, 0.824, 0.536, 0.776, 0.162],\n",
    "    }\n",
    ")\n",
    "\n",
    "df.index = [\n",
    "    \"n_group\",\n",
    "    \"prop_consuming_breakfast\",\n",
    "    \"prop_consuming_brownbread\",\n",
    "    \"prop_consuming_freshfruit\",\n",
    "    \"prop_consuming_friedfood\",\n",
    "]"
   ]
  },
  {
   "cell_type": "code",
   "execution_count": 3,
   "metadata": {},
   "outputs": [
    {
     "data": {
      "text/html": [
       "<div>\n",
       "<style scoped>\n",
       "    .dataframe tbody tr th:only-of-type {\n",
       "        vertical-align: middle;\n",
       "    }\n",
       "\n",
       "    .dataframe tbody tr th {\n",
       "        vertical-align: top;\n",
       "    }\n",
       "\n",
       "    .dataframe thead th {\n",
       "        text-align: right;\n",
       "    }\n",
       "</style>\n",
       "<table border=\"1\" class=\"dataframe\">\n",
       "  <thead>\n",
       "    <tr style=\"text-align: right;\">\n",
       "      <th></th>\n",
       "      <th>smokers</th>\n",
       "      <th>exsmokers</th>\n",
       "    </tr>\n",
       "  </thead>\n",
       "  <tbody>\n",
       "    <tr>\n",
       "      <th>n_group</th>\n",
       "      <td>404.000</td>\n",
       "      <td>517.000</td>\n",
       "    </tr>\n",
       "    <tr>\n",
       "      <th>prop_consuming_breakfast</th>\n",
       "      <td>0.629</td>\n",
       "      <td>0.824</td>\n",
       "    </tr>\n",
       "    <tr>\n",
       "      <th>prop_consuming_brownbread</th>\n",
       "      <td>0.354</td>\n",
       "      <td>0.536</td>\n",
       "    </tr>\n",
       "    <tr>\n",
       "      <th>prop_consuming_freshfruit</th>\n",
       "      <td>0.594</td>\n",
       "      <td>0.776</td>\n",
       "    </tr>\n",
       "    <tr>\n",
       "      <th>prop_consuming_friedfood</th>\n",
       "      <td>0.282</td>\n",
       "      <td>0.162</td>\n",
       "    </tr>\n",
       "  </tbody>\n",
       "</table>\n",
       "</div>"
      ],
      "text/plain": [
       "                           smokers  exsmokers\n",
       "n_group                    404.000    517.000\n",
       "prop_consuming_breakfast     0.629      0.824\n",
       "prop_consuming_brownbread    0.354      0.536\n",
       "prop_consuming_freshfruit    0.594      0.776\n",
       "prop_consuming_friedfood     0.282      0.162"
      ]
     },
     "execution_count": 3,
     "metadata": {},
     "output_type": "execute_result"
    },
    {
     "data": {
      "application/javascript": [
       "\n",
       "            setTimeout(function() {\n",
       "                var nbb_cell_id = 3;\n",
       "                var nbb_unformatted_code = \"df\";\n",
       "                var nbb_formatted_code = \"df\";\n",
       "                var nbb_cells = Jupyter.notebook.get_cells();\n",
       "                for (var i = 0; i < nbb_cells.length; ++i) {\n",
       "                    if (nbb_cells[i].input_prompt_number == nbb_cell_id) {\n",
       "                        if (nbb_cells[i].get_text() == nbb_unformatted_code) {\n",
       "                             nbb_cells[i].set_text(nbb_formatted_code);\n",
       "                        }\n",
       "                        break;\n",
       "                    }\n",
       "                }\n",
       "            }, 500);\n",
       "            "
      ],
      "text/plain": [
       "<IPython.core.display.Javascript object>"
      ]
     },
     "metadata": {},
     "output_type": "display_data"
    }
   ],
   "source": [
    "df"
   ]
  },
  {
   "cell_type": "markdown",
   "metadata": {},
   "source": [
    "The 95% confidence interval of the difference in the proportion consuming breakfast between smokers and non-smokers would be:\n",
    "\n",
    "p(smokers) - p(exsmokers) +/- 1.96 $\\times $ square_root(se_diff)"
   ]
  },
  {
   "cell_type": "code",
   "execution_count": 14,
   "metadata": {},
   "outputs": [
    {
     "name": "stdout",
     "output_type": "stream",
     "text": [
      "0.19499999999999995\n"
     ]
    },
    {
     "data": {
      "application/javascript": [
       "\n",
       "            setTimeout(function() {\n",
       "                var nbb_cell_id = 14;\n",
       "                var nbb_unformatted_code = \"p_diff = 0.824-.629\\nprint(p_diff)\";\n",
       "                var nbb_formatted_code = \"p_diff = 0.824 - 0.629\\nprint(p_diff)\";\n",
       "                var nbb_cells = Jupyter.notebook.get_cells();\n",
       "                for (var i = 0; i < nbb_cells.length; ++i) {\n",
       "                    if (nbb_cells[i].input_prompt_number == nbb_cell_id) {\n",
       "                        if (nbb_cells[i].get_text() == nbb_unformatted_code) {\n",
       "                             nbb_cells[i].set_text(nbb_formatted_code);\n",
       "                        }\n",
       "                        break;\n",
       "                    }\n",
       "                }\n",
       "            }, 500);\n",
       "            "
      ],
      "text/plain": [
       "<IPython.core.display.Javascript object>"
      ]
     },
     "metadata": {},
     "output_type": "display_data"
    }
   ],
   "source": [
    "p_diff = 0.824-.629\n",
    "print(p_diff)"
   ]
  },
  {
   "cell_type": "markdown",
   "metadata": {},
   "source": [
    " $se(\\hat{p_1} - \\hat{p_2})$ = $\\sqrt{\\frac{\\hat{p_1}(1-\\hat{p_1})}{n_1} + \\frac{\\hat{p_2}(1-\\hat{p_2})}{n_2}}$ "
   ]
  },
  {
   "cell_type": "code",
   "execution_count": 17,
   "metadata": {},
   "outputs": [
    {
     "data": {
      "application/javascript": [
       "\n",
       "            setTimeout(function() {\n",
       "                var nbb_cell_id = 17;\n",
       "                var nbb_unformatted_code = \"se_diff = np.sqrt((0.629*(1-0.629))/404 + (0.824*(1-0.824))/517)\";\n",
       "                var nbb_formatted_code = \"se_diff = np.sqrt((0.629 * (1 - 0.629)) / 404 + (0.824 * (1 - 0.824)) / 517)\";\n",
       "                var nbb_cells = Jupyter.notebook.get_cells();\n",
       "                for (var i = 0; i < nbb_cells.length; ++i) {\n",
       "                    if (nbb_cells[i].input_prompt_number == nbb_cell_id) {\n",
       "                        if (nbb_cells[i].get_text() == nbb_unformatted_code) {\n",
       "                             nbb_cells[i].set_text(nbb_formatted_code);\n",
       "                        }\n",
       "                        break;\n",
       "                    }\n",
       "                }\n",
       "            }, 500);\n",
       "            "
      ],
      "text/plain": [
       "<IPython.core.display.Javascript object>"
      ]
     },
     "metadata": {},
     "output_type": "display_data"
    }
   ],
   "source": [
    "se_diff = np.sqrt((0.629*(1-0.629))/404 + (0.824*(1-0.824))/517)"
   ]
  },
  {
   "cell_type": "code",
   "execution_count": 18,
   "metadata": {},
   "outputs": [
    {
     "data": {
      "text/plain": [
       "0.029293888875097915"
      ]
     },
     "execution_count": 18,
     "metadata": {},
     "output_type": "execute_result"
    },
    {
     "data": {
      "application/javascript": [
       "\n",
       "            setTimeout(function() {\n",
       "                var nbb_cell_id = 18;\n",
       "                var nbb_unformatted_code = \"se_diff\";\n",
       "                var nbb_formatted_code = \"se_diff\";\n",
       "                var nbb_cells = Jupyter.notebook.get_cells();\n",
       "                for (var i = 0; i < nbb_cells.length; ++i) {\n",
       "                    if (nbb_cells[i].input_prompt_number == nbb_cell_id) {\n",
       "                        if (nbb_cells[i].get_text() == nbb_unformatted_code) {\n",
       "                             nbb_cells[i].set_text(nbb_formatted_code);\n",
       "                        }\n",
       "                        break;\n",
       "                    }\n",
       "                }\n",
       "            }, 500);\n",
       "            "
      ],
      "text/plain": [
       "<IPython.core.display.Javascript object>"
      ]
     },
     "metadata": {},
     "output_type": "display_data"
    }
   ],
   "source": [
    "se_diff"
   ]
  },
  {
   "cell_type": "code",
   "execution_count": 13,
   "metadata": {},
   "outputs": [
    {
     "name": "stdout",
     "output_type": "stream",
     "text": [
      "919.0\n"
     ]
    },
    {
     "data": {
      "application/javascript": [
       "\n",
       "            setTimeout(function() {\n",
       "                var nbb_cell_id = 13;\n",
       "                var nbb_unformatted_code = \"sample_size = df.loc['n_group', :].sum() - 2\\nprint(sample_size)\";\n",
       "                var nbb_formatted_code = \"sample_size = df.loc[\\\"n_group\\\", :].sum() - 2\\nprint(sample_size)\";\n",
       "                var nbb_cells = Jupyter.notebook.get_cells();\n",
       "                for (var i = 0; i < nbb_cells.length; ++i) {\n",
       "                    if (nbb_cells[i].input_prompt_number == nbb_cell_id) {\n",
       "                        if (nbb_cells[i].get_text() == nbb_unformatted_code) {\n",
       "                             nbb_cells[i].set_text(nbb_formatted_code);\n",
       "                        }\n",
       "                        break;\n",
       "                    }\n",
       "                }\n",
       "            }, 500);\n",
       "            "
      ],
      "text/plain": [
       "<IPython.core.display.Javascript object>"
      ]
     },
     "metadata": {},
     "output_type": "display_data"
    }
   ],
   "source": [
    "# not needed\n",
    "sample_size = df.loc['n_group', :].sum() - 2\n",
    "print(sample_size)"
   ]
  },
  {
   "cell_type": "code",
   "execution_count": 19,
   "metadata": {},
   "outputs": [
    {
     "name": "stdout",
     "output_type": "stream",
     "text": [
      "Difference in proportions (0.1950) +/- 1.96 * standard error of difference (0.02929)\n"
     ]
    },
    {
     "data": {
      "application/javascript": [
       "\n",
       "            setTimeout(function() {\n",
       "                var nbb_cell_id = 19;\n",
       "                var nbb_unformatted_code = \"print(\\\"Difference in proportions ({0:0.4f}) +/- 1.96 * standard error of difference ({1:0.5f})\\\".format(p_diff, se_diff))\";\n",
       "                var nbb_formatted_code = \"print(\\n    \\\"Difference in proportions ({0:0.4f}) +/- 1.96 * standard error of difference ({1:0.5f})\\\".format(\\n        p_diff, se_diff\\n    )\\n)\";\n",
       "                var nbb_cells = Jupyter.notebook.get_cells();\n",
       "                for (var i = 0; i < nbb_cells.length; ++i) {\n",
       "                    if (nbb_cells[i].input_prompt_number == nbb_cell_id) {\n",
       "                        if (nbb_cells[i].get_text() == nbb_unformatted_code) {\n",
       "                             nbb_cells[i].set_text(nbb_formatted_code);\n",
       "                        }\n",
       "                        break;\n",
       "                    }\n",
       "                }\n",
       "            }, 500);\n",
       "            "
      ],
      "text/plain": [
       "<IPython.core.display.Javascript object>"
      ]
     },
     "metadata": {},
     "output_type": "display_data"
    }
   ],
   "source": [
    "print(\"Difference in proportions ({0:0.4f}) +/- 1.96 * standard error of difference ({1:0.5f})\".format(p_diff, se_diff))"
   ]
  },
  {
   "cell_type": "code",
   "execution_count": 21,
   "metadata": {},
   "outputs": [
    {
     "name": "stdout",
     "output_type": "stream",
     "text": [
      "0.13758397780480802 0.2524160221951919\n"
     ]
    },
    {
     "data": {
      "application/javascript": [
       "\n",
       "            setTimeout(function() {\n",
       "                var nbb_cell_id = 21;\n",
       "                var nbb_unformatted_code = \"print(p_diff-1.96*se_diff, p_diff+1.96*se_diff)\";\n",
       "                var nbb_formatted_code = \"print(p_diff - 1.96 * se_diff, p_diff + 1.96 * se_diff)\";\n",
       "                var nbb_cells = Jupyter.notebook.get_cells();\n",
       "                for (var i = 0; i < nbb_cells.length; ++i) {\n",
       "                    if (nbb_cells[i].input_prompt_number == nbb_cell_id) {\n",
       "                        if (nbb_cells[i].get_text() == nbb_unformatted_code) {\n",
       "                             nbb_cells[i].set_text(nbb_formatted_code);\n",
       "                        }\n",
       "                        break;\n",
       "                    }\n",
       "                }\n",
       "            }, 500);\n",
       "            "
      ],
      "text/plain": [
       "<IPython.core.display.Javascript object>"
      ]
     },
     "metadata": {},
     "output_type": "display_data"
    }
   ],
   "source": [
    "print(p_diff-1.96*se_diff, p_diff+1.96*se_diff)"
   ]
  },
  {
   "cell_type": "code",
   "execution_count": null,
   "metadata": {},
   "outputs": [],
   "source": []
  }
 ],
 "metadata": {
  "kernelspec": {
   "display_name": "Python 3",
   "language": "python",
   "name": "python3"
  },
  "language_info": {
   "codemirror_mode": {
    "name": "ipython",
    "version": 3
   },
   "file_extension": ".py",
   "mimetype": "text/x-python",
   "name": "python",
   "nbconvert_exporter": "python",
   "pygments_lexer": "ipython3",
   "version": "3.6.9"
  },
  "toc": {
   "base_numbering": 1,
   "nav_menu": {},
   "number_sections": true,
   "sideBar": true,
   "skip_h1_title": false,
   "title_cell": "Table of Contents",
   "title_sidebar": "Contents",
   "toc_cell": false,
   "toc_position": {},
   "toc_section_display": true,
   "toc_window_display": true
  },
  "varInspector": {
   "cols": {
    "lenName": 16,
    "lenType": 16,
    "lenVar": 40
   },
   "kernels_config": {
    "python": {
     "delete_cmd_postfix": "",
     "delete_cmd_prefix": "del ",
     "library": "var_list.py",
     "varRefreshCmd": "print(var_dic_list())"
    },
    "r": {
     "delete_cmd_postfix": ") ",
     "delete_cmd_prefix": "rm(",
     "library": "var_list.r",
     "varRefreshCmd": "cat(var_dic_list()) "
    }
   },
   "types_to_exclude": [
    "module",
    "function",
    "builtin_function_or_method",
    "instance",
    "_Feature"
   ],
   "window_display": false
  }
 },
 "nbformat": 4,
 "nbformat_minor": 4
}
