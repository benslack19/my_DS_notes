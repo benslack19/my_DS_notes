{
 "cells": [
  {
   "cell_type": "markdown",
   "metadata": {},
   "source": [
    "# Statistics notes\n",
    "\n",
    "Using the textbook by Wild & Seber as a guide, I document some statistical lessons in this notebook. Some calculations are done with Python code. A baseball database is used in some cases for example data."
   ]
  },
  {
   "cell_type": "code",
   "execution_count": 34,
   "metadata": {
    "ExecuteTime": {
     "end_time": "2020-04-06T17:22:27.835940Z",
     "start_time": "2020-04-06T17:22:27.486413Z"
    }
   },
   "outputs": [
    {
     "data": {
      "application/javascript": [
       "\n",
       "            setTimeout(function() {\n",
       "                var nbb_cell_id = 34;\n",
       "                var nbb_unformatted_code = \"import numpy as np\\nimport pandas as pd\\nimport matplotlib.pyplot as plt\\nimport seaborn as sns\\nfrom scipy import stats, integrate\\n\\n# Code formatting\\n%load_ext nb_black\";\n",
       "                var nbb_formatted_code = \"import numpy as np\\nimport pandas as pd\\nimport matplotlib.pyplot as plt\\nimport seaborn as sns\\nfrom scipy import stats, integrate\\n\\n# Code formatting\\n%load_ext nb_black\";\n",
       "                var nbb_cells = Jupyter.notebook.get_cells();\n",
       "                for (var i = 0; i < nbb_cells.length; ++i) {\n",
       "                    if (nbb_cells[i].input_prompt_number == nbb_cell_id) {\n",
       "                        if (nbb_cells[i].get_text() == nbb_unformatted_code) {\n",
       "                             nbb_cells[i].set_text(nbb_formatted_code);\n",
       "                        }\n",
       "                        break;\n",
       "                    }\n",
       "                }\n",
       "            }, 500);\n",
       "            "
      ],
      "text/plain": [
       "<IPython.core.display.Javascript object>"
      ]
     },
     "metadata": {},
     "output_type": "display_data"
    }
   ],
   "source": [
    "import numpy as np\n",
    "import pandas as pd\n",
    "import matplotlib.pyplot as plt\n",
    "import seaborn as sns\n",
    "from scipy import stats, integrate\n",
    "\n",
    "# Code formatting\n",
    "%load_ext nb_black"
   ]
  },
  {
   "cell_type": "code",
   "execution_count": 2,
   "metadata": {
    "ExecuteTime": {
     "end_time": "2020-04-06T17:13:29.391651Z",
     "start_time": "2020-04-06T17:13:27.619910Z"
    }
   },
   "outputs": [],
   "source": [
    "# For importing example data\n",
    "import sqlalchemy\n",
    "import sqlalchemy_utils\n",
    "from sqlalchemy import create_engine\n",
    "from sqlalchemy_utils import database_exists, create_database\n",
    "import psycopg2"
   ]
  },
  {
   "cell_type": "code",
   "execution_count": 3,
   "metadata": {
    "ExecuteTime": {
     "end_time": "2020-03-27T01:09:18.156209Z",
     "start_time": "2020-03-27T01:09:18.070554Z"
    }
   },
   "outputs": [
    {
     "name": "stdout",
     "output_type": "stream",
     "text": [
      "postgres://lacar@localhost/baseball\n"
     ]
    }
   ],
   "source": [
    "# Define a database name\n",
    "# Set your postgres username\n",
    "dbname = \"baseball\"\n",
    "username = \"lacar\"  # change this to your username\n",
    "\n",
    "# Working with PostgreSQL in Python\n",
    "# Connect to make queries using psycopg2\n",
    "con = None\n",
    "con = psycopg2.connect(database=dbname, user=username)\n",
    "\n",
    "# Here, we're using postgres, but sqlalchemy can connect to other things too.\n",
    "engine = create_engine(\"postgres://%s@localhost/%s\" % (username, dbname))\n",
    "print(engine.url)"
   ]
  },
  {
   "cell_type": "code",
   "execution_count": 4,
   "metadata": {
    "ExecuteTime": {
     "end_time": "2020-03-27T01:09:21.911444Z",
     "start_time": "2020-03-27T01:09:20.492771Z"
    }
   },
   "outputs": [
    {
     "name": "stdout",
     "output_type": "stream",
     "text": [
      "(1301, 288)\n"
     ]
    },
    {
     "data": {
      "text/html": [
       "<div>\n",
       "<style scoped>\n",
       "    .dataframe tbody tr th:only-of-type {\n",
       "        vertical-align: middle;\n",
       "    }\n",
       "\n",
       "    .dataframe tbody tr th {\n",
       "        vertical-align: top;\n",
       "    }\n",
       "\n",
       "    .dataframe thead th {\n",
       "        text-align: right;\n",
       "    }\n",
       "</style>\n",
       "<table border=\"1\" class=\"dataframe\">\n",
       "  <thead>\n",
       "    <tr style=\"text-align: right;\">\n",
       "      <th></th>\n",
       "      <th>index</th>\n",
       "      <th>Season</th>\n",
       "      <th>Name</th>\n",
       "      <th>Team</th>\n",
       "      <th>Age</th>\n",
       "      <th>G</th>\n",
       "      <th>AB</th>\n",
       "      <th>PA</th>\n",
       "      <th>H</th>\n",
       "      <th>1B</th>\n",
       "      <th>...</th>\n",
       "      <th>wSL/C _pi</th>\n",
       "      <th>wXX/C _pi</th>\n",
       "      <th>O-Swing_perc _pi</th>\n",
       "      <th>Z-Swing_perc _pi</th>\n",
       "      <th>Swing_perc _pi</th>\n",
       "      <th>O-Contact_perc _pi</th>\n",
       "      <th>Z-Contact_perc _pi</th>\n",
       "      <th>Contact_perc _pi</th>\n",
       "      <th>Zone_perc _pi</th>\n",
       "      <th>Pace _pi</th>\n",
       "    </tr>\n",
       "  </thead>\n",
       "  <tbody>\n",
       "    <tr>\n",
       "      <th>0</th>\n",
       "      <td>1363</td>\n",
       "      <td>2018.0</td>\n",
       "      <td>Austin Dean</td>\n",
       "      <td>Marlins</td>\n",
       "      <td>24.0</td>\n",
       "      <td>34.0</td>\n",
       "      <td>113.0</td>\n",
       "      <td>122.0</td>\n",
       "      <td>25.0</td>\n",
       "      <td>17.0</td>\n",
       "      <td>...</td>\n",
       "      <td>-0.60</td>\n",
       "      <td>NaN</td>\n",
       "      <td>0.307</td>\n",
       "      <td>0.577</td>\n",
       "      <td>0.438</td>\n",
       "      <td>0.750</td>\n",
       "      <td>0.874</td>\n",
       "      <td>0.829</td>\n",
       "      <td>0.486</td>\n",
       "      <td>23.7</td>\n",
       "    </tr>\n",
       "    <tr>\n",
       "      <th>1</th>\n",
       "      <td>1046</td>\n",
       "      <td>2018.0</td>\n",
       "      <td>Albert Almora Jr.</td>\n",
       "      <td>Cubs</td>\n",
       "      <td>24.0</td>\n",
       "      <td>152.0</td>\n",
       "      <td>444.0</td>\n",
       "      <td>479.0</td>\n",
       "      <td>127.0</td>\n",
       "      <td>97.0</td>\n",
       "      <td>...</td>\n",
       "      <td>-0.85</td>\n",
       "      <td>NaN</td>\n",
       "      <td>0.411</td>\n",
       "      <td>0.694</td>\n",
       "      <td>0.543</td>\n",
       "      <td>0.604</td>\n",
       "      <td>0.884</td>\n",
       "      <td>0.771</td>\n",
       "      <td>0.467</td>\n",
       "      <td>24.0</td>\n",
       "    </tr>\n",
       "    <tr>\n",
       "      <th>2</th>\n",
       "      <td>239</td>\n",
       "      <td>2017.0</td>\n",
       "      <td>Domingo Santana</td>\n",
       "      <td>Brewers</td>\n",
       "      <td>24.0</td>\n",
       "      <td>151.0</td>\n",
       "      <td>525.0</td>\n",
       "      <td>607.0</td>\n",
       "      <td>146.0</td>\n",
       "      <td>87.0</td>\n",
       "      <td>...</td>\n",
       "      <td>2.48</td>\n",
       "      <td>9.30</td>\n",
       "      <td>0.273</td>\n",
       "      <td>0.686</td>\n",
       "      <td>0.462</td>\n",
       "      <td>0.496</td>\n",
       "      <td>0.797</td>\n",
       "      <td>0.700</td>\n",
       "      <td>0.458</td>\n",
       "      <td>22.3</td>\n",
       "    </tr>\n",
       "    <tr>\n",
       "      <th>3</th>\n",
       "      <td>538</td>\n",
       "      <td>2018.0</td>\n",
       "      <td>George Springer</td>\n",
       "      <td>Astros</td>\n",
       "      <td>28.0</td>\n",
       "      <td>140.0</td>\n",
       "      <td>544.0</td>\n",
       "      <td>620.0</td>\n",
       "      <td>144.0</td>\n",
       "      <td>96.0</td>\n",
       "      <td>...</td>\n",
       "      <td>0.08</td>\n",
       "      <td>6.35</td>\n",
       "      <td>0.234</td>\n",
       "      <td>0.665</td>\n",
       "      <td>0.444</td>\n",
       "      <td>0.599</td>\n",
       "      <td>0.847</td>\n",
       "      <td>0.780</td>\n",
       "      <td>0.487</td>\n",
       "      <td>25.1</td>\n",
       "    </tr>\n",
       "    <tr>\n",
       "      <th>4</th>\n",
       "      <td>304</td>\n",
       "      <td>2019.0</td>\n",
       "      <td>Cameron Maybin</td>\n",
       "      <td>Yankees</td>\n",
       "      <td>32.0</td>\n",
       "      <td>82.0</td>\n",
       "      <td>239.0</td>\n",
       "      <td>269.0</td>\n",
       "      <td>68.0</td>\n",
       "      <td>40.0</td>\n",
       "      <td>...</td>\n",
       "      <td>-0.01</td>\n",
       "      <td>NaN</td>\n",
       "      <td>0.239</td>\n",
       "      <td>0.628</td>\n",
       "      <td>0.419</td>\n",
       "      <td>0.535</td>\n",
       "      <td>0.818</td>\n",
       "      <td>0.731</td>\n",
       "      <td>0.462</td>\n",
       "      <td>23.9</td>\n",
       "    </tr>\n",
       "  </tbody>\n",
       "</table>\n",
       "<p>5 rows × 288 columns</p>\n",
       "</div>"
      ],
      "text/plain": [
       "   index  Season               Name     Team   Age      G     AB     PA  \\\n",
       "0   1363  2018.0        Austin Dean  Marlins  24.0   34.0  113.0  122.0   \n",
       "1   1046  2018.0  Albert Almora Jr.     Cubs  24.0  152.0  444.0  479.0   \n",
       "2    239  2017.0    Domingo Santana  Brewers  24.0  151.0  525.0  607.0   \n",
       "3    538  2018.0    George Springer   Astros  28.0  140.0  544.0  620.0   \n",
       "4    304  2019.0     Cameron Maybin  Yankees  32.0   82.0  239.0  269.0   \n",
       "\n",
       "       H    1B  ...  wSL/C _pi  wXX/C _pi  O-Swing_perc _pi  Z-Swing_perc _pi  \\\n",
       "0   25.0  17.0  ...      -0.60        NaN             0.307             0.577   \n",
       "1  127.0  97.0  ...      -0.85        NaN             0.411             0.694   \n",
       "2  146.0  87.0  ...       2.48       9.30             0.273             0.686   \n",
       "3  144.0  96.0  ...       0.08       6.35             0.234             0.665   \n",
       "4   68.0  40.0  ...      -0.01        NaN             0.239             0.628   \n",
       "\n",
       "   Swing_perc _pi  O-Contact_perc _pi  Z-Contact_perc _pi  Contact_perc _pi  \\\n",
       "0           0.438               0.750               0.874             0.829   \n",
       "1           0.543               0.604               0.884             0.771   \n",
       "2           0.462               0.496               0.797             0.700   \n",
       "3           0.444               0.599               0.847             0.780   \n",
       "4           0.419               0.535               0.818             0.731   \n",
       "\n",
       "   Zone_perc _pi  Pace _pi  \n",
       "0          0.486      23.7  \n",
       "1          0.467      24.0  \n",
       "2          0.458      22.3  \n",
       "3          0.487      25.1  \n",
       "4          0.462      23.9  \n",
       "\n",
       "[5 rows x 288 columns]"
      ]
     },
     "execution_count": 4,
     "metadata": {},
     "output_type": "execute_result"
    }
   ],
   "source": [
    "# Use players with 100 ab, randomly ordered\n",
    "sql_query = \"\"\"\n",
    "SELECT * FROM batting_stats\n",
    "WHERE \"AB\" > 100\n",
    "ORDER BY RANDOM();\n",
    "\"\"\"\n",
    "df_query = pd.read_sql_query(sql_query,con)\n",
    "print(df_query.shape)\n",
    "df_query.head()"
   ]
  },
  {
   "cell_type": "code",
   "execution_count": 5,
   "metadata": {
    "ExecuteTime": {
     "end_time": "2020-03-27T01:09:24.699671Z",
     "start_time": "2020-03-27T01:09:24.563302Z"
    },
    "collapsed": true,
    "jupyter": {
     "outputs_hidden": true
    }
   },
   "outputs": [
    {
     "name": "stdout",
     "output_type": "stream",
     "text": [
      "0.9978616833686829 0.08872227370738983 SLG\n",
      "nan 1.0 Fld\n",
      "nan 1.0 phLI\n",
      "nan 1.0 SFv\n",
      "nan 1.0 KNv\n",
      "nan 1.0 wSF\n",
      "nan 1.0 wKN\n",
      "0.9982969760894775 0.2179788202047348 wFB/C\n",
      "nan 1.0 wSF/C\n",
      "nan 1.0 wKN/C\n",
      "nan 1.0 vFS _pfx\n",
      "nan 1.0 vFO _pfx\n",
      "nan 1.0 vKC _pfx\n",
      "nan 1.0 vEP _pfx\n",
      "nan 1.0 vSC _pfx\n",
      "nan 1.0 vKN _pfx\n",
      "nan 1.0 FS-X _pfx\n",
      "nan 1.0 FO-X _pfx\n",
      "nan 1.0 KC-X _pfx\n",
      "nan 1.0 EP-X _pfx\n",
      "nan 1.0 SC-X _pfx\n",
      "nan 1.0 KN-X _pfx\n",
      "nan 1.0 FS-Z _pfx\n",
      "nan 1.0 FO-Z _pfx\n",
      "nan 1.0 KC-Z _pfx\n",
      "nan 1.0 EP-Z _pfx\n",
      "nan 1.0 SC-Z _pfx\n",
      "nan 1.0 KN-Z _pfx\n",
      "nan 1.0 wFS _pfx\n",
      "nan 1.0 wFO _pfx\n",
      "nan 1.0 wKC _pfx\n",
      "nan 1.0 wEP _pfx\n",
      "nan 1.0 wSC _pfx\n",
      "nan 1.0 wKN _pfx\n",
      "0.999442458152771 0.9780756831169128 wFA/C _pfx\n",
      "nan 1.0 wFS/C _pfx\n",
      "nan 1.0 wFO/C _pfx\n",
      "nan 1.0 wKC/C _pfx\n",
      "nan 1.0 wEP/C _pfx\n",
      "nan 1.0 wSC/C _pfx\n",
      "nan 1.0 wKN/C _pfx\n",
      "nan 1.0 vCS _pi\n",
      "nan 1.0 vFS _pi\n",
      "nan 1.0 vKN _pi\n",
      "nan 1.0 vSB _pi\n",
      "nan 1.0 vXX _pi\n",
      "nan 1.0 CS-X _pi\n",
      "nan 1.0 FS-X _pi\n",
      "nan 1.0 KN-X _pi\n",
      "nan 1.0 SB-X _pi\n",
      "nan 1.0 XX-X _pi\n",
      "nan 1.0 CS-Z _pi\n",
      "nan 1.0 FS-Z _pi\n",
      "nan 1.0 KN-Z _pi\n",
      "nan 1.0 SB-Z _pi\n",
      "nan 1.0 XX-Z _pi\n",
      "nan 1.0 wCS _pi\n",
      "nan 1.0 wFS _pi\n",
      "nan 1.0 wKN _pi\n",
      "nan 1.0 wSB _pi\n",
      "nan 1.0 wXX _pi\n",
      "nan 1.0 wCS/C _pi\n",
      "0.9991647601127625 0.8422848582267761 wFA/C _pi\n",
      "nan 1.0 wFS/C _pi\n",
      "nan 1.0 wKN/C _pi\n",
      "nan 1.0 wSB/C _pi\n",
      "nan 1.0 wXX/C _pi\n"
     ]
    }
   ],
   "source": [
    "# Pick data by looking at which are normally distributed\n",
    "# Looking at Shapiro-Wilk test - this is like taking the slope of a Q-Q plot https://www.youtube.com/watch?v=dRAqSsgkCUc\n",
    "from scipy.stats import shapiro\n",
    "\n",
    "for col in df_query.columns:\n",
    "    try:\n",
    "        stat, p = shapiro(df_query[col])\n",
    "        if (p > 0.05) & ('perc' not in col):\n",
    "            print(stat, p, col)\n",
    "    except:\n",
    "        continue"
   ]
  },
  {
   "cell_type": "code",
   "execution_count": 6,
   "metadata": {
    "ExecuteTime": {
     "end_time": "2020-03-27T01:09:32.393366Z",
     "start_time": "2020-03-27T01:09:32.381456Z"
    }
   },
   "outputs": [
    {
     "data": {
      "text/plain": [
       "0    0.363\n",
       "1    0.378\n",
       "2    0.505\n",
       "3    0.434\n",
       "4    0.494\n",
       "5    0.540\n",
       "6    0.343\n",
       "7    0.444\n",
       "8    0.445\n",
       "9    0.346\n",
       "Name: SLG, dtype: float64"
      ]
     },
     "execution_count": 6,
     "metadata": {},
     "output_type": "execute_result"
    }
   ],
   "source": [
    "df_query['SLG'].head(10)"
   ]
  },
  {
   "cell_type": "markdown",
   "metadata": {},
   "source": [
    "## Some markdown notations"
   ]
  },
  {
   "cell_type": "markdown",
   "metadata": {
    "ExecuteTime": {
     "end_time": "2020-03-24T21:30:10.813904Z",
     "start_time": "2020-03-24T21:30:10.494124Z"
    }
   },
   "source": [
    "[Writing math symbols in markdown](https://jupyter-notebook.readthedocs.io/en/stable/examples/Notebook/Typesetting%20Equations.html)"
   ]
  },
  {
   "cell_type": "markdown",
   "metadata": {},
   "source": [
    "$\\bar{x}$\n",
    "$\\pm$\n",
    "$2se(\\bar{x})$\n",
    "\n",
    "= 5.447931 $\\pm$ 2 x 0.04102858 = 5.447931 $\\pm$ 0.08205717\n",
    "\n",
    "$\\bar{x}$\n",
    "$\\bar{X}$\n",
    "$se(\\bar{x})$ = \n",
    "\n",
    "$\\frac{s_X}{\\sqrt(n)}$ = $\\frac{0.22094577}{\\sqrt29}$ \n",
    "$\\mu$\n",
    "$\\hat{p}$\n",
    "$\\hat{P}$\n"
   ]
  },
  {
   "cell_type": "markdown",
   "metadata": {},
   "source": [
    "# (Ch. 7) Sampling Distributions of Estimates\n",
    "\n",
    "- Pivotal chapter! This chapter lays the foundations for all of the discussion about estimation that follows!\n",
    "- Focus for the remainder of the book is how to use sampled data to inform us about the population from which data are drawn."
   ]
  },
  {
   "cell_type": "markdown",
   "metadata": {},
   "source": [
    "## (7.1) Parameters and Estimates\n",
    "\n",
    "Random or unpredictable data can arise in two ways:\n",
    "1. The randomness associated when sampling from a larger population (e.g. sampling the heights of a randomly chosen group of men to estimate all men)\n",
    "2. A random process production in which case the underlying population is more conceptual than real (e.g. taking a set of computer chips to determine malfunctioning rate to estimate rate of all produced chips)\n",
    "\n",
    "Parameter vs. Estimate:\n",
    "- Parameter: A numerical characteristic of a population or distribution (e.g. the population mean E(*X*) or $\\mu$, population standard deviation sd(*X*) or $\\sigma$, and population proportions). In practice, we usually know very little about the population we are sampling (hence one of the reasons for collecting data from the population).\n",
    "\n",
    "- Estimate: A quantity calculated from the data of an unknown parameter (e.g. take the sample mean $\\bar{x}$as an *estimate* of the population mean $\\mu$, or the sample proportion $\\hat{p}$ as an *estimate* of *p*).\n",
    "\n",
    "**Q: What are the symbols for population mean and sample mean? Population proportion and sample proportion? Population sd and sample sd?**\n",
    "\n",
    "If you take multiple samples (draws) from a population, how well do the estimates (like a sample mean) match the population mean? The chapter is understanding the sample variation.\n",
    "\n",
    "\n",
    "### Capital Letters and Small Letters: Estimates and Estimators\n",
    "\n",
    "- Capital letters refer to random variables (and applicable to samples!).\n",
    "    - The estimator\n",
    "    - When we want to think about the way the sampling process behaves\n",
    "- Small letters refer to observed values.\n",
    "    - The estimate\n",
    "    - When we want to discuss what we actually saw when we collected the data\n",
    "\n",
    "Example: Imagine we're talking about the proportion of people in a sample who are vaccinated. The sample proportion can be referred to in two ways:\n",
    "- $\\hat{P}$ (capital): Thinking about the effects of sampling variation or the random variability involved in the process of taking a sample and obtaining a sample proportion.\n",
    "- $\\hat{p}$ (small): What we actually saw (0.26 of our sample had been vaccinated).\n",
    "\n",
    "The distinction in the context of estimation lets us talk about the actual number observed (the estimate) versus the abstraction that lets us think about the properties of the random process that produces the estimate (the estimator).\n",
    "\n",
    "### Quiz questions\n",
    "1. **Describe two ways in which random observations arise and give examples.**\n",
    "2. **What is a parameter? Give two examples of parameters.**\n",
    "3. **What is an estimate? How would you estimate the parameters you described in question 2?**\n",
    "4. **What is the distinction between an estimate and an estimator? Why is it made? What notational device is used to communicate the distinction?**"
   ]
  },
  {
   "cell_type": "markdown",
   "metadata": {},
   "source": [
    "## (7.2) Sampling Distribution of the Sample Mean\n",
    "\n",
    "### Means of Random Samples\n",
    "\n",
    "One way to estimate the population mean is to take multiple sample measurements and average them. For example, you can estimate pH of a chemical buffer solution by taking 7 measurements and averaging them. But how accurate is the estimate of the true population mean? We can use code to investigate the behavior of the proces of taking random samples and using the resulting sample mean $\\bar{x}$ as an estimate of $\\mu$. What we will be observing is the behavior of the **sampling variation** in values of $\\bar{x}$.\n",
    "\n",
    "Let's imagine that we'll evaluate the average slugging percentage of the baseball dataset (1,301 players with at least 100 ab). Here are the first 6 players slugging percentage (SLG)."
   ]
  },
  {
   "cell_type": "code",
   "execution_count": 122,
   "metadata": {
    "ExecuteTime": {
     "end_time": "2020-03-25T02:47:23.071754Z",
     "start_time": "2020-03-25T02:47:23.065020Z"
    }
   },
   "outputs": [
    {
     "name": "stdout",
     "output_type": "stream",
     "text": [
      "0    0.330\n",
      "1    0.428\n",
      "2    0.292\n",
      "3    0.312\n",
      "4    0.366\n",
      "5    0.447\n",
      "Name: SLG, dtype: float64\n"
     ]
    }
   ],
   "source": [
    "print(df_query['SLG'].iloc[0:6])"
   ]
  },
  {
   "cell_type": "markdown",
   "metadata": {},
   "source": [
    "Here's the mean:"
   ]
  },
  {
   "cell_type": "code",
   "execution_count": 123,
   "metadata": {
    "ExecuteTime": {
     "end_time": "2020-03-25T02:47:24.521676Z",
     "start_time": "2020-03-25T02:47:24.513813Z"
    }
   },
   "outputs": [
    {
     "name": "stdout",
     "output_type": "stream",
     "text": [
      "Average age:  0.3625\n"
     ]
    }
   ],
   "source": [
    "print('Average age: ', \"{:.4f}\".format(df_query['SLG'].iloc[0:6].mean()))"
   ]
  },
  {
   "cell_type": "markdown",
   "metadata": {},
   "source": [
    "Let's take another 6 players."
   ]
  },
  {
   "cell_type": "code",
   "execution_count": 124,
   "metadata": {
    "ExecuteTime": {
     "end_time": "2020-03-25T02:47:27.586948Z",
     "start_time": "2020-03-25T02:47:27.581109Z"
    }
   },
   "outputs": [
    {
     "name": "stdout",
     "output_type": "stream",
     "text": [
      "6     0.629\n",
      "7     0.530\n",
      "8     0.375\n",
      "9     0.379\n",
      "10    0.364\n",
      "11    0.292\n",
      "Name: SLG, dtype: float64\n"
     ]
    }
   ],
   "source": [
    "print(df_query['SLG'].iloc[6:12])"
   ]
  },
  {
   "cell_type": "markdown",
   "metadata": {},
   "source": [
    "Here's the mean of the second set of 6 players:"
   ]
  },
  {
   "cell_type": "code",
   "execution_count": 125,
   "metadata": {
    "ExecuteTime": {
     "end_time": "2020-03-25T02:47:37.433509Z",
     "start_time": "2020-03-25T02:47:37.419544Z"
    }
   },
   "outputs": [
    {
     "name": "stdout",
     "output_type": "stream",
     "text": [
      "Average age:  0.4282\n"
     ]
    }
   ],
   "source": [
    "print('Average age: ', \"{:.4f}\".format(df_query['SLG'].iloc[6:12].mean()))"
   ]
  },
  {
   "cell_type": "code",
   "execution_count": 126,
   "metadata": {
    "ExecuteTime": {
     "end_time": "2020-03-25T02:47:40.652261Z",
     "start_time": "2020-03-25T02:47:40.643410Z"
    }
   },
   "outputs": [],
   "source": [
    "def create_dot_plots(metric, sample_size, n_draws):\n",
    "    sns.set(context='talk')\n",
    "    f, ax1 = plt.subplots(figsize=(8,6))\n",
    "    for i in range(n_draws):\n",
    "        ax1.scatter(df_query[metric].iloc[i*sample_size:i*sample_size+sample_size], [i+1]*sample_size, facecolors='none', edgecolors='k')\n",
    "        ax1.scatter(df_query[metric].iloc[i:i+sample_size].mean(), [i+1], marker='+', color='r')\n",
    "    ax1.set_xlabel(metric)\n",
    "    ax1.set_ylabel('draw number')\n",
    "    ax1.set_title(str(n_draws) + ' draws of size n=' + str(sample_size))"
   ]
  },
  {
   "cell_type": "code",
   "execution_count": 127,
   "metadata": {
    "ExecuteTime": {
     "end_time": "2020-03-25T02:47:41.589191Z",
     "start_time": "2020-03-25T02:47:41.138156Z"
    }
   },
   "outputs": [
    {
     "data": {
      "image/png": "[encoded data removed]",
      "text/plain": [
       "<Figure size 576x432 with 1 Axes>"
      ]
     },
     "metadata": {},
     "output_type": "display_data"
    }
   ],
   "source": [
    "create_dot_plots('SLG', sample_size=6, n_draws=12)"
   ]
  },
  {
   "cell_type": "code",
   "execution_count": 128,
   "metadata": {
    "ExecuteTime": {
     "end_time": "2020-03-25T02:47:45.208100Z",
     "start_time": "2020-03-25T02:47:44.193573Z"
    }
   },
   "outputs": [
    {
     "data": {
      "image/png": "[encoded data removed]",
      "text/plain": [
       "<Figure size 576x432 with 1 Axes>"
      ]
     },
     "metadata": {},
     "output_type": "display_data"
    }
   ],
   "source": [
    "create_dot_plots('SLG', sample_size=24, n_draws=12)"
   ]
  },
  {
   "cell_type": "markdown",
   "metadata": {},
   "source": [
    "Note that each sample mean is different and will vary in an unpredictable way. Furthermore, as sample size is increased from 6 to 24, you can see the decrease in variability of the sample means."
   ]
  },
  {
   "cell_type": "code",
   "execution_count": 129,
   "metadata": {
    "ExecuteTime": {
     "end_time": "2020-03-25T02:47:48.531772Z",
     "start_time": "2020-03-25T02:47:48.527678Z"
    }
   },
   "outputs": [],
   "source": [
    "def get_array_of_sample_means(metric, sample_size, n_draws):\n",
    "    sample_means = list()\n",
    "    for i in range(n_draws):\n",
    "        sample_means.append(df_query[metric].sample(sample_size).mean())\n",
    "    return sample_means"
   ]
  },
  {
   "cell_type": "markdown",
   "metadata": {
    "ExecuteTime": {
     "end_time": "2020-03-26T00:45:41.025746Z",
     "start_time": "2020-03-26T00:45:40.888856Z"
    }
   },
   "source": [
    "Denote the sample mean of X-measurements, thought of as a random variable by $\\bar{X}$. See below how sample size is increased and the variance and SD decrease."
   ]
  },
  {
   "cell_type": "code",
   "execution_count": 145,
   "metadata": {
    "ExecuteTime": {
     "end_time": "2020-03-25T02:52:49.762104Z",
     "start_time": "2020-03-25T02:52:45.769806Z"
    }
   },
   "outputs": [],
   "source": [
    "sample_array_n6 = get_array_of_sample_means('SLG', 6, 1000)\n",
    "sample_array_n24 = get_array_of_sample_means('SLG', 24, 1000)\n",
    "sample_array_n100 = get_array_of_sample_means('SLG', 100, 1000)"
   ]
  },
  {
   "cell_type": "code",
   "execution_count": 161,
   "metadata": {
    "ExecuteTime": {
     "end_time": "2020-03-26T00:46:41.144032Z",
     "start_time": "2020-03-26T00:46:39.929402Z"
    }
   },
   "outputs": [
    {
     "data": {
      "image/png": "[encoded data removed]",
      "text/plain": [
       "<Figure size 576x432 with 3 Axes>"
      ]
     },
     "metadata": {},
     "output_type": "display_data"
    }
   ],
   "source": [
    "sns.set(context='talk')\n",
    "f, (ax1, ax2, ax3) = plt.subplots(3, 1, figsize=(8,6), sharex=True)\n",
    "\n",
    "sns.distplot(sample_array_n6, kde=True, ax=ax1, color='gray')\n",
    "ax1.set_title('n=6')\n",
    "sns.distplot(sample_array_n24, kde=True, ax=ax2, color='gray')\n",
    "ax2.set_title('n=24')\n",
    "sns.distplot(sample_array_n100, kde=True, ax=ax3, color='gray')\n",
    "ax3.set_title('n=100')\n",
    "\n",
    "plt.tight_layout()"
   ]
  },
  {
   "cell_type": "markdown",
   "metadata": {},
   "source": [
    "**Theory**\n",
    "\n",
    "Suppose $X_1$, $X_2$,... $X_n$ is a random sample from a distribution (not necessarily normal) with population mean $\\mu$ and population standard deviation $\\sigma$.\n",
    "\n",
    "The **sample mean** is therefore:\n",
    "<br>\n",
    "$\\Sigma$($X_1$, $X_2$,... $X_n$)/n = E(sample mean) = $\\mu_\\bar{X}$ = E($\\bar{X}$) = population mean\n",
    "\n",
    "The **sample standard deviation** is:\n",
    "<br>\n",
    " sd(sample means) = sd($\\bar{X}$) = $\\sigma_\\bar{x}$ =  population SD / $\\sqrt n $  = $\\frac{\\sigma}{\\sqrt n }$ \n",
    " \n",
    " *Note the similarity to the formula for standard error (to be discussed down below). In most cases, we do not know the population SD, hence the substitution of sample SD in the standard error equation.*\n",
    " "
   ]
  },
  {
   "cell_type": "markdown",
   "metadata": {},
   "source": [
    "Since the estimate for the expected mean is equal to the population mean, we call the estimate *unbiased*.\n",
    "One way to think about the standard deviation is that it is the variability of individual observations divided by $\\sqrt{n}$. Due to the denominator of this term, for a given sampling, reducing the variability by a factor of two (that is one-half of sd($\\bar{X}$) requires 4x as many samples and reducing the variability by three (one-third of sd($\\bar{X}$) requires 9x as many samples.\n"
   ]
  },
  {
   "cell_type": "markdown",
   "metadata": {},
   "source": [
    "If *X* measurements in the population actually come from a Normal distribution, then the sampling distribution of $\\bar{X}$ is also Normal. The ample mean will fall within two standard deviations of the population mean 95% of the time. This suggests that sd($\\bar{X}$) might be a useful measure of the \"precision\" of the sample mean as an estimate.\n",
    "\n",
    "We have seen that when sampling from a Normal distribution, $\\bar{X}$ is also Normally distributed. It follows then that:\n",
    "<br>\n",
    "**Z = ($\\bar{X}$ - $\\mu$)/sd($\\bar{X}$) ~ Normal(0,1)**\n",
    "<br>\n",
    "This is an important equation that we will return to later.\n"
   ]
  },
  {
   "cell_type": "markdown",
   "metadata": {},
   "source": [
    "#### Quiz questions [fill in later]\n",
    "\n",
    "1. We use both "
   ]
  },
  {
   "cell_type": "markdown",
   "metadata": {
    "ExecuteTime": {
     "end_time": "2020-03-26T04:23:01.829365Z",
     "start_time": "2020-03-26T04:23:01.502905Z"
    }
   },
   "source": [
    "#### Exercises\n",
    "\n",
    "1. **Suppose that for a given sample size of 10, sd($\\bar{X}$) = 9. How many more observations would we need to take to reduce sd($\\bar{X}$):**\n",
    "    - to 4.5?   *Cutting the variability by 2 means we need 2$^2$ (4) times as many samples. We therefore need a total of 10x4 (40), so we need an additional 30 samples.*\n",
    "    - to 3?     *Cutting the SD by a factor 3 means we need $3^2$ (9) times as many samples. We therefore need a total of 10x9 (90 samples), so we need an additional 80 samples.*\n",
    "    - to 1?     *Cutting the SD by a factor of 9 means we need 9$^2$ (81) times as many samples. We therefore need a total of 10x81 (810 samples), so we need an additional 800 samples.*\n",
    "    \n",
    "2. **The annual dividend paid by a large public company is calculated on the** (to be finished) "
   ]
  },
  {
   "cell_type": "markdown",
   "metadata": {},
   "source": [
    "### The Central Limit Effect\n",
    "\n",
    "Previously, we saw that for Normally distributed data, the distance between $\\bar{x}$ and $\\mu$ is within 2sd($\\bar{X}$) and sd($\\bar{X}$) looks like it be a useful measure of the precision of our estimate $\\bar{x}$. However, this has little practical value:\n",
    "- nobody *knows* that their data are coming from a Normal distribution\n",
    "- the value of sd($\\bar{X}$) = $\\sigma/\\sqrt{n}$ depends on the population standard deviation and nobody knows that in practice either!\n",
    "\n",
    "But what about the shape of the distribution of the sample mean $\\bar{X}$?\n",
    "\n",
    "If you make 5000 draws of size *n* and then averaged each draw to get 5000 sample means, you will get a normal distribution as you increase *n*, especially as *n* > 25. This will happen *regardless of the distribution shape* from the population you are drawing from (e.g. triangular, exponential, uniform, quadratic). This applies to discrete distributions as well.\n",
    "\n",
    "**Central limit theorem:** $\\bar{X}$ is approximately Normally distributed in large samples.\n",
    "\n",
    "CLT works faster the closer the original distributions are to normal. It works more slowly when distributions have a heavy tail and are asymmetric.\n"
   ]
  },
  {
   "cell_type": "markdown",
   "metadata": {},
   "source": [
    "#### Quiz questions [fill in]"
   ]
  },
  {
   "cell_type": "markdown",
   "metadata": {},
   "source": [
    "#### Exercises\n",
    "\n",
    "1. A Japanese importer... (tbd)\n",
    "\n",
    "2. Service times for customers coming through a checkout counter in a supermarket are independent random variables with an expected value of 3.1 minutes, a standard deviation of 1.2 minutes, and a distribution that is *not* Normal. A random sample of 50 customers is selected.\n",
    "\n",
    "    - What is the approximate probability that the average service time for these 50 customers is less than 3.3 minutes?\n",
    "    - What is the approximate probability that the total service time for these 50 customers is less than 2.5 hours?"
   ]
  },
  {
   "cell_type": "markdown",
   "metadata": {},
   "source": [
    "Question 2a.\n",
    "The population are all the customers coming through the checkout counter. Therefore, we can say the population mean and SD is 3.1 and 1.2 minutes, respectively. By taking a random sample of 50 customers, we can apply CLT and the properties of a Normal distribution.\n",
    "\n",
    "We want to find the cumulative distribution that is less than 3.3 minutes."
   ]
  },
  {
   "cell_type": "code",
   "execution_count": 174,
   "metadata": {
    "ExecuteTime": {
     "end_time": "2020-03-27T00:28:41.092358Z",
     "start_time": "2020-03-27T00:28:41.084518Z"
    }
   },
   "outputs": [
    {
     "data": {
      "text/plain": [
       "0.1697056274847714"
      ]
     },
     "execution_count": 174,
     "metadata": {},
     "output_type": "execute_result"
    }
   ],
   "source": [
    "sample_sd = 1.2/np.sqrt(50)\n",
    "sample_sd"
   ]
  },
  {
   "cell_type": "code",
   "execution_count": 175,
   "metadata": {
    "ExecuteTime": {
     "end_time": "2020-03-27T00:28:41.935365Z",
     "start_time": "2020-03-27T00:28:41.927884Z"
    }
   },
   "outputs": [
    {
     "data": {
      "text/plain": [
       "0.880703585341782"
      ]
     },
     "execution_count": 175,
     "metadata": {},
     "output_type": "execute_result"
    }
   ],
   "source": [
    "from scipy.stats import norm\n",
    "norm.cdf(x=3.3, loc=3.1, scale=sample_sd)"
   ]
  },
  {
   "cell_type": "markdown",
   "metadata": {
    "ExecuteTime": {
     "end_time": "2020-03-27T00:16:11.749369Z",
     "start_time": "2020-03-27T00:16:11.671471Z"
    }
   },
   "source": [
    "The probability that the *average* service time for these customers is less than 3.3 minutes is 88.1%. (answer confirmed correct)"
   ]
  },
  {
   "cell_type": "markdown",
   "metadata": {},
   "source": [
    "Question 2b.\n",
    "For a total, we will take the average total time for all customers:\n",
    "<br>\n",
    "avg_total_time = 3.1 minutes x 50 = 155 minutes\n",
    "<br>\n",
    "*I was not 100% sure about this next step but this turns out to be correct.*\n",
    "To get the standard deviation of the total time, we first scale the SD to account for the number of people:\n",
    "<br>\n",
    "popSD_total_time = 1.2 minutes x 50 = 60 minutes\n",
    "<br>\n",
    "Then take that divided by the square root of the sample size to get sample SD.\n",
    "<br>\n",
    "sampleSD_total_time = 60 / $\\sqrt{50}$ = 8.485 min\n",
    "<br>\n"
   ]
  },
  {
   "cell_type": "markdown",
   "metadata": {
    "ExecuteTime": {
     "end_time": "2020-03-27T00:24:26.660604Z",
     "start_time": "2020-03-27T00:24:26.564415Z"
    }
   },
   "source": [
    "We then apply CLT to apply properties of a normal distribution to find the probability that the 50 customers served will take under 2.5 hours (150 minutes)."
   ]
  },
  {
   "cell_type": "code",
   "execution_count": 10,
   "metadata": {
    "ExecuteTime": {
     "end_time": "2020-03-27T02:22:44.014581Z",
     "start_time": "2020-03-27T02:22:44.002055Z"
    }
   },
   "outputs": [
    {
     "name": "stdout",
     "output_type": "stream",
     "text": [
      "8.48528137423857\n"
     ]
    }
   ],
   "source": [
    "sampleSD_total_time = 60/np.sqrt(50)\n",
    "print(sampleSD_total_time)"
   ]
  },
  {
   "cell_type": "markdown",
   "metadata": {},
   "source": [
    "For population SD, why can't we add variances then take the square root?\n",
    "Two reasons: one is that these aren't independent random variables(?) and two is that we're not summing only two of them. (Taking the 50th root also doesn't give the right answer.)"
   ]
  },
  {
   "cell_type": "code",
   "execution_count": 177,
   "metadata": {
    "ExecuteTime": {
     "end_time": "2020-03-27T00:30:07.127889Z",
     "start_time": "2020-03-27T00:30:07.121524Z"
    }
   },
   "outputs": [
    {
     "data": {
      "text/plain": [
       "0.2778448951413973"
      ]
     },
     "execution_count": 177,
     "metadata": {},
     "output_type": "execute_result"
    }
   ],
   "source": [
    "norm.cdf(x=150, loc=155, scale=sampleSD_total_time)"
   ]
  },
  {
   "cell_type": "markdown",
   "metadata": {},
   "source": [
    "There is a 27% probability of serving the customers in <= 2.5 hours.\n",
    "(answer confirmed correct)"
   ]
  },
  {
   "cell_type": "markdown",
   "metadata": {},
   "source": [
    "### Introducing the Standard Error\n",
    "\n",
    "As mentioned above, we can theoretically calculate the variability from sample to sample in sample means sd($\\bar{X}$). However, this is not easy to do in practice since sd($\\bar{X}$) depends on $\\sigma$, the population standard deviation which is often unknown. Instead, we substitute by using the variability of individual observations taken from the sample, the sample standard deviation, $s_X$. This gives us an estimate of sd($\\bar{X}$):\n",
    "\n",
    "The standard error of the sample mean = $\\frac{sample SD}{\\sqrt{sample size}}$\n",
    "\n",
    "$se(\\bar{x})$ = $\\frac{s_X}{\\sqrt{n}}$\n"
   ]
  },
  {
   "cell_type": "markdown",
   "metadata": {},
   "source": [
    "We saw above that ($\\bar{X}$ - $\\mu$)/sd($\\bar{X}$) is approximately Normal(0,1) but so is ($\\bar{X}$ - $\\mu$)/se($\\bar{X}$). We now have a metric that can measure the precision of our sample mean. The three implications of situations where we have taken a random sample and obtained a value of $\\bar{x}$ from our data.\n",
    "\n",
    "1. se($\\bar{x}$) is a measure of the precison of $\\bar{x}$ as an estimate of $\\mu$, which is useful in practice.\n",
    "2. If we want to estimate the true value of $\\mu$, we can be reasonably safe it relies within 2se($\\bar{x}$) of $\\bar{x}$. (This sets us up for interval estimation and confidence intervals.)\n",
    "3. We'll be suspicious of any theoretical value for $\\mu$ that is more than 2se($\\bar{x}$) away from $\\bar{x}$. (This sets us up for hypothesis testing.)"
   ]
  },
  {
   "cell_type": "markdown",
   "metadata": {},
   "source": [
    "**Example** Two-standard-error interval for mean density of the Earth\n",
    "\n",
    "Cavendish made 29 mean density measurements. He found:\n",
    "\n",
    "sample mean = $\\bar{x}$ = 5.447931 g/cm$^3$\n",
    "<br>\n",
    "sample standard deviation = 0.22094577\n",
    "<br>\n",
    "sample standard error = $se(\\bar{x})$ = $\\frac{s_X}{\\sqrt{n}}$ = $\\frac{0.22094577}{\\sqrt{29}}$ = 0.04102858\n",
    "\n",
    "Therefore, it's a safe bet that the true mean density $\\mu$ was within 2 standard errors of the sample mean:\n",
    "\n",
    "$\\bar{x}$ $\\pm$ $2se(\\bar{x})$ = 5.447931 $\\pm$ 2 x 0.04102858 = 5.447931 $\\pm$ 0.08205717\n",
    "\n",
    "*Formulating things this way is like item (2), an example of* interval estimation, *a range of values that we think will contain the true value of the parameter we're trying to estimate ($\\mu$ in this case). A more sophisticated form of interval estimation is* confidence intervals *which will be introduced later.*\n",
    "\n",
    "Suppose that a theorist had proposed a mean density of 5.7, which is more than six standard errors away from the data estimate $\\bar{x}$ from Cavendish. If we trusted Cavendish, this would make us believe that the theorist is wrong.\n",
    "\n",
    "*Stating things this way is like item(3), a simple introduction and formulation of* hypothesis testing, *which will be discussed later.*"
   ]
  },
  {
   "cell_type": "markdown",
   "metadata": {},
   "source": [
    "#### Quiz questions\n",
    "\n",
    "1. Why is the standard deviation of $\\bar{X}$, sd($\\bar{X}$), not a useful measure of the precision of $\\bar{X}$ as an estimator in practical applications? what measure of precision do we use in practice?\n",
    "\n",
    "(others)"
   ]
  },
  {
   "cell_type": "markdown",
   "metadata": {},
   "source": [
    "#### Exercises\n",
    "\n",
    "(add questions 1 and 2)\n",
    "\n",
    "3. Suppose the daily rates charged by a random sample of 40 Seattle builders had a sample mean of `$`250 and a sample standard deviation of `$`50. In what range of values is the average daily rate of all Seattle buliders likely to lie?\n"
   ]
  },
  {
   "cell_type": "code",
   "execution_count": 99,
   "metadata": {
    "ExecuteTime": {
     "end_time": "2020-03-28T15:36:54.289973Z",
     "start_time": "2020-03-28T15:36:53.752196Z"
    }
   },
   "outputs": [
    {
     "name": "stdout",
     "output_type": "stream",
     "text": [
      "Range of values:  234.18861169915812 265.8113883008419\n"
     ]
    }
   ],
   "source": [
    "n = 40\n",
    "s_mean = 250  # sample mean\n",
    "s_sd = 50     # sample standard deviation\n",
    "s_se = s_sd/np.sqrt(n)      # standard error of the sample mean\n",
    "\n",
    "# The true mean will like within two standard errors of the sample mean 95% of the time.\n",
    "lower_bound = s_mean - 2*s_se\n",
    "upper_bound = s_mean + 2*s_se\n",
    "\n",
    "print(\"Range of values: \", lower_bound, upper_bound)\n",
    "# answer confirmed as correct"
   ]
  },
  {
   "cell_type": "code",
   "execution_count": null,
   "metadata": {},
   "outputs": [],
   "source": []
  },
  {
   "cell_type": "markdown",
   "metadata": {},
   "source": [
    "## (7.3) Sampling Distribution of the Sample Proportion\n",
    "\n",
    "### Sample proportions and their standard errors\n",
    "\n",
    "**Example** Proportion of teens witnessing drugs being sold at school.\n",
    "As part of a 1998 survey, 1000 US teenagers aged between 12 and 17 were interviewed by phone on a variety of issues. 27% of the teens reported having seen illegal drugs sold at their schools.\n",
    "\n",
    "We shouldn't take this one example too literally. We should really think about how this is just one sample and how another sample could give a different proportion. In other words, there will be variation in the sample proportion. Taking a random sample and observing a sample proportion is a random process.\n",
    "\n",
    "$\\hat{p}$ = the sample proportion from the sample we actually take (0.27 in the above example)\n",
    "\n",
    "$\\hat{P}$ = the corresponding random variable\n",
    "\n",
    "The distribution of $\\hat{P}$ tells us about the random variability in the process of taking a sample and observing a sample proportion. This gives us some information about the quality of the estimate we obtained from out data. The theory that we will develop applies both to random samples from a process and simple random samples from large populations.\n",
    "\n",
    "Let's define ${Y}$ as the number of individuals with a given characteristic. When taking a SRS from a large population, the distribution of ${Y}$ is approximately Binomial(${n,p}$).\n",
    "\n",
    "- n: sample size (the number of \"tosses\")\n",
    "- p: the probability of getting a \"head\" on any particular \"toss\"\n",
    "\n",
    "(This assumption is reasonable when p is $\\leq$ 0.5.)\n",
    "\n",
    "**The sample proportion $\\hat{p}$ estimates the population proportion ${p}$.**\n",
    "\n",
    "\n"
   ]
  },
  {
   "cell_type": "markdown",
   "metadata": {},
   "source": [
    "Let's imagine that we want to visualize the distribution for the number of individuals having a certain genetic mutation (they have it or they don't) when the proportion is 40% of the population and we sample 200 individuals. Naturally, we'd expect (0.4 x 200 =) 80 individuals to be most likely and therefore 80 is our expected value. But what about the variation? What kind of values can we expect each time we sample this distribution? For a binomial distribution, sd = $\\sqrt{np*(1-p)}$.\n",
    "\n",
    "For a binomial distribution:\n",
    "\n",
    "mean_binomial = n*p\n",
    "<br>\n",
    "sd_binomial = $\\sqrt{np*(1-p)}$\n",
    "\n",
    "In other words, it is like taking 200 coin tosses and counting the number of times heads comes up. Each \"sample\" is then the outcome of these 200 tosses. What do the sampled values look like?"
   ]
  },
  {
   "cell_type": "code",
   "execution_count": 40,
   "metadata": {
    "ExecuteTime": {
     "end_time": "2020-03-27T20:11:22.807295Z",
     "start_time": "2020-03-27T20:11:22.727161Z"
    }
   },
   "outputs": [
    {
     "name": "stdout",
     "output_type": "stream",
     "text": [
      "What 10 samples look like:  [76 80 77 83 85 88 82 85 82 82]\n"
     ]
    }
   ],
   "source": [
    "# Let's generate ten outcomes based on sampling this distribution\n",
    "n = 200\n",
    "p = 0.4\n",
    "print('What 10 samples look like: ', binom.rvs(n, p, size=10))"
   ]
  },
  {
   "cell_type": "markdown",
   "metadata": {},
   "source": [
    "Bonus:\n",
    "- How does variability (standard deviation) vary with **p**? (Assume n=10.)\n",
    "- How does variability (standard deviation) vary with **n**? (Assume p = 0.5)"
   ]
  },
  {
   "cell_type": "code",
   "execution_count": 35,
   "metadata": {
    "ExecuteTime": {
     "end_time": "2020-03-27T20:06:53.388951Z",
     "start_time": "2020-03-27T20:06:53.372349Z"
    }
   },
   "outputs": [],
   "source": [
    "from scipy.stats import binom"
   ]
  },
  {
   "cell_type": "code",
   "execution_count": 77,
   "metadata": {
    "ExecuteTime": {
     "end_time": "2020-03-27T20:29:39.306016Z",
     "start_time": "2020-03-27T20:29:39.230274Z"
    }
   },
   "outputs": [],
   "source": [
    "# Varying p, constant n\n",
    "p_array = np.arange(0, 1.05, 0.05)\n",
    "sd_binom_array = list()\n",
    "for p in p_array:\n",
    "    n = 10\n",
    "    sd_of_p = np.sqrt(n*p*(1-p))\n",
    "    sd_binom_array.append(sd_of_p)\n",
    "    \n",
    "# Varying n, constant p\n",
    "n_array = np.arange(0, 200, 5)\n",
    "sd_binom_array_n = list()\n",
    "for n in n_array:\n",
    "    p = 0.5\n",
    "    sd_of_n = np.sqrt(n*p*(1-p))\n",
    "    sd_binom_array_n.append(sd_of_n)"
   ]
  },
  {
   "cell_type": "code",
   "execution_count": 78,
   "metadata": {
    "ExecuteTime": {
     "end_time": "2020-03-27T20:29:40.348137Z",
     "start_time": "2020-03-27T20:29:39.539009Z"
    }
   },
   "outputs": [
    {
     "data": {
      "image/png": "[encoded data removed]",
      "text/plain": [
       "<Figure size 1008x432 with 2 Axes>"
      ]
     },
     "metadata": {},
     "output_type": "display_data"
    }
   ],
   "source": [
    "f, (ax1, ax2) = plt.subplots(1, 2, figsize=(14,6))\n",
    "\n",
    "ax1.scatter(p_array, sd_binom_array, color='gray')\n",
    "ax1.set_title('SD of a binomial distribution\\nas a function of p')\n",
    "ax1.set_xlabel('p')\n",
    "ax1.set_ylabel('SD')\n",
    "\n",
    "ax2.scatter(n_array, sd_binom_array_n, color='gray')\n",
    "ax2.set_title('SD of a binomial distribution\\nas a function of n')\n",
    "ax2.set_xlabel('n')\n",
    "ax2.set_ylabel('SD')\n",
    "\n",
    "plt.tight_layout()"
   ]
  },
  {
   "cell_type": "markdown",
   "metadata": {},
   "source": [
    "When the probabilities are closer to 0.5 the variability is largest. This makes intuitive sense. If you are trying to see if a coin is unfair, an unbiased coin is more likely to \"show\" it's unbiased with fewer tosses. With a fair coin, a broader range of outcomes is more probable.\n",
    "\n",
    "For n, it's interesting that the variability increases fastest with smaller sample sizes and then the rate appears to slow or get more consistent. This is because of the square root term. There is a bigger difference going from 5 to 10 after taking a square root then going from 50 to 55."
   ]
  },
  {
   "cell_type": "code",
   "execution_count": 92,
   "metadata": {
    "ExecuteTime": {
     "end_time": "2020-03-27T20:47:47.410304Z",
     "start_time": "2020-03-27T20:47:46.899207Z"
    }
   },
   "outputs": [
    {
     "data": {
      "image/png": "[encoded data removed]",
      "text/plain": [
       "<Figure size 576x432 with 1 Axes>"
      ]
     },
     "metadata": {},
     "output_type": "display_data"
    }
   ],
   "source": [
    "# Let's generate more random numbers for plotting\n",
    "binom_1000 = binom.rvs(n, p, size=10000)\n",
    "\n",
    "sns.set(context='talk')\n",
    "f, (ax1) = plt.subplots(1, 1, figsize=(8,6), sharex=True)\n",
    "\n",
    "sns.distplot(binom_1000, kde=True, ax=ax1, color='gray')\n",
    "ax1.set_title('A binomial distribution with n=200, p=0.4, 10,000 samples')\n",
    "ax1.set_xlabel('Value of y')\n",
    "ax1.set_ylabel('pr(Y=y)')\n",
    "\n",
    "plt.tight_layout()"
   ]
  },
  {
   "cell_type": "markdown",
   "metadata": {},
   "source": [
    "You can see that the binomial distribution curve approximates a Normal distribution as n gets larger.\n",
    "\n",
    "Therefore, $\\hat{P}$ the sample proportion is simply Y/n and is also approximately Normal under the same conditions. It can be shown that this is a consequence of CLT.\n",
    "\n",
    "For large samples, the distribution of $\\hat{P}$ is approximately Normal with\n",
    "\n",
    "mean = p (population proportion)\n",
    "<br>\n",
    "standard deviation = $\\sqrt{\\frac{p(1-p)}{n}}$\n",
    "\n",
    "However, since we often do not know the population proportion in practice, we substitute the sample proportion, $\\hat{p}$.\n",
    "\n",
    "**Standard error of the sample proportion**:\n",
    "\n",
    "$se(\\hat{p})$  = $\\sqrt{\\frac{\\hat{p}(1-\\hat{p})}{n}}$\n",
    "\n",
    "We can use $\\hat{p}$ and $se(\\hat{p})$ to tell us about the true value of p exacly the same way as we used $\\bar{x}$ and $se(\\bar{x})$ to tell us about the true value of the population mean $\\mu$."
   ]
  },
  {
   "cell_type": "markdown",
   "metadata": {},
   "source": [
    "**Example**: Two-standard-error interval\n",
    "    \n",
    "Going back to the teen poll example, if the sample value is 0.27, how big is the true population proportion p likely to be? We can find the interval that is within two standard errors.\n",
    "\n",
    "$se(\\hat{p})$ = $\\sqrt{\\frac{\\hat{p}(1-\\hat{p}}{n}}$ = $\\sqrt{\\frac{0.27*0.73}{1000}}$ = 0.014039\n",
    "\n",
    "p is therefore within two standard errors of $se(\\hat{p})$ or\n",
    "\n",
    "0.27 $\\pm$ 2*0.014039 or between 0.24 and 0.30"
   ]
  },
  {
   "cell_type": "code",
   "execution_count": null,
   "metadata": {},
   "outputs": [],
   "source": []
  },
  {
   "cell_type": "markdown",
   "metadata": {
    "ExecuteTime": {
     "end_time": "2020-03-27T21:34:17.786601Z",
     "start_time": "2020-03-27T21:34:17.563949Z"
    }
   },
   "source": [
    "#### Quiz questions\n",
    "\n",
    "(others, 6 total)\n",
    "\n",
    "6. Under what conditions is the formula $se(\\hat{p})$ = $\\sqrt{\\frac{\\hat{p}(1-\\hat{p}}{n}}$ applicable?\n"
   ]
  },
  {
   "cell_type": "markdown",
   "metadata": {},
   "source": [
    "#### Exercises\n",
    "\n",
    "(4 questions in total)\n",
    "\n",
    "3. In the 1998 survey mentioned above, 825 US teachers were sampled. Of these, 48% believed they had received adequate training about how to spot substance abuse in their students. This is a sample value and thus subject to sampling variation. If someone was claiming that the majority of teachers believe they have had sufficient training, would the data prove them wrong?\n",
    "\n",
    "    - One way to address this it determine the probability of getting the majority (greater than 50%) of teachers receiving training based on the sample proportion we obtained.\n",
    "    - Our estimate for the population proportion is our sample proportion $\\hat{p}$ = 0.48.\n",
    "    - Our standard error of the sample proportion is $se(\\hat{p})$ = $\\sqrt{\\frac{\\hat{p}(1-\\hat{p}}{n}}$ = $\\sqrt{\\frac{0.48*0.52}{825}}$ = 0.01739\n",
    "    - Our interval for the true value of p is within two standard errors of $\\hat{p}$:\n",
    "        0.48 $\\pm$ 2*0.01739 which is 0.445 and 0.515.\n",
    "       \n",
    "    - Since the interval contains values greater than 0.50, it is plausible for the person to claim that the majority of teachers have received training. No, the data would not prove this person wrong. (answer confirmed)\n",
    "    "
   ]
  },
  {
   "cell_type": "code",
   "execution_count": 97,
   "metadata": {
    "ExecuteTime": {
     "end_time": "2020-03-27T21:48:09.059914Z",
     "start_time": "2020-03-27T21:48:09.030501Z"
    }
   },
   "outputs": [
    {
     "name": "stdout",
     "output_type": "stream",
     "text": [
      "Standard error of sample proportion:  0.017393833808147487\n",
      "Two standard error interval of sample proportion:  (0.44522, 0.51478)\n"
     ]
    }
   ],
   "source": [
    "# Calculations for problem 3\n",
    "se_of_sample_prop = np.sqrt((0.48*0.52)/825)\n",
    "print('Standard error of sample proportion: ', se_of_sample_prop)\n",
    "\n",
    "interval_prop = (0.48-2*0.01739, 0.48+2*0.01739)\n",
    "print('Two standard error interval of sample proportion: ', interval_prop)"
   ]
  },
  {
   "cell_type": "markdown",
   "metadata": {},
   "source": [
    "### Some Asides about Polling"
   ]
  },
  {
   "cell_type": "markdown",
   "metadata": {},
   "source": [
    "You **don't** need a larger sample when sampling from a huge population (the entire US) versus a small town. (This is a common misconception about sampling). All that matters is that it is random. \n",
    "\n",
    "The Binomial-based theory of the previous subsection is an adequate approximation for sampling *without* replacement from a real population when the sample size n is smaller than about 10% of the population size N. (This is satisifed for almost any real sampling.) The sample size n matters while the size of the population N is almost irrelevant. The key is that everyone has the same chance of being selected, which is harder to do in practice in large ppoulations. Taking larger samples doesn't fix the nonsampling errors such as selection bias.\n",
    "\n",
    "Public opinion polls are a form of two-stage cluster sampling.\n",
    "First stage: Divide the population into clusters like towns or counties then randomly choose those clusters.\n",
    "Second stage: Randomly select individuals within those clusters.\n",
    "\n",
    "Errors typically quotd in the media from poll results are only appropriate for random sampling. The formula for $se(\\hat{p})$ underestimate the errors in cluster samples and sometimes it can be severe.\n",
    "\n",
    "Another source of confusion in opinoin polls is the tendency in the media to quote a single measure of error as though it applies univerally to all estimates calculated from the poll. The $se(\\hat{p})$ will vary with $(\\hat{p})$ as shown above.\n",
    "\n",
    "Remember that sources of error can be both sampling errors (sampling variation) and also nonsampling errors."
   ]
  },
  {
   "cell_type": "markdown",
   "metadata": {
    "ExecuteTime": {
     "end_time": "2020-03-27T23:53:00.340586Z",
     "start_time": "2020-03-27T23:52:59.983623Z"
    }
   },
   "source": [
    "#### Quiz questions (4)\n",
    "\n",
    "2. Are public opinion polls involving face-to-face interviews typically simple random samples?\n"
   ]
  },
  {
   "cell_type": "markdown",
   "metadata": {},
   "source": [
    "## (7.4) Estimates that are approximately Normal\n",
    "\n",
    "Recall the definition of *parameters* and *estimates*. There are uniform ways of operating with the different estimates. We can apply theta notation:\n",
    "\n",
    "| category | parameter | estimate  | random variable |\n",
    "|----------|-----------|----------|----------|\n",
    "| arbitrary | $\\theta$ | $\\hat{\\theta}$  | $\\hat{\\Theta}$  |\n",
    "|  mean | $\\mu$ | $\\bar{x}$  | $\\bar{X}$  |\n",
    "| proportion | ${p}$ | $\\hat{p}$ | $\\hat{P}$  |\n",
    "\n",
    "By identifying the estimate and its associated parameter, we can make general results to specific situations.\n",
    "<br>\n",
    "**statistical inference**: The process of using sample data to make useful statements about an unknown parameter $\\theta$.\n",
    "\n",
    "Capital theta, $\\hat{\\Theta}$, is the random variable corresponding to the values of $\\hat{\\theta}$ we actually obtain. This is in alignment for referring to the properties of the estimation with capital letters (the random variable).\n"
   ]
  },
  {
   "cell_type": "markdown",
   "metadata": {},
   "source": [
    "### Bias, precision, and accuracy\n",
    "\n",
    "Properties of a good estimator:\n",
    "-  **low bias**: Want the estimate E($\\bar{X}$) = $\\mu$ and E($\\hat{P}$) = $p$ as much as possible (the estimator $\\hat{\\theta}$ is concentrated as closely as possible to the true value of the parameter $\\theta$). Typically, the estimators described in the book are unbiased.\n",
    "- **high precision**: Low variability of the estimator in repeated sampling. We want to use the standard deviation of the sampling distribution of the estimator (sd($\\hat{\\Theta}$) but this requires knowing the population sd which we don't know in practice. That is why we use the standard error (se($\\hat{\\theta}$) as our measure of precision.\n",
    "\n",
    "| category | parameter | estimate  | \\*practical measure<br>of precision | formula for measure <br>of precision (se) |\n",
    "|----------|-----------|----------|----------|----------|\n",
    "| arbitrary | $\\theta$ | $\\hat{\\theta}$  | se($\\hat{\\theta}$) |  | \n",
    "|  mean | $\\mu$ | $\\bar{x}$  | se($\\bar{x}$) | $\\frac{s_x}{\\sqrt{n}}$ |\n",
    "| proportion | ${p}$ | $\\hat{p}$ | se($\\hat{p}$) | $\\sqrt{\\frac{\\hat{p}(1-\\hat{p})}{n}}$ |\n",
    "\n",
    "\\*Ideally we would use the population standard deviation to determine the measure of precision. However, a population SD is often unknown. We substitute the sample standard deviation ($s_x$ and in real-life to generate a \"practical\" measure of precision."
   ]
  },
  {
   "cell_type": "markdown",
   "metadata": {},
   "source": [
    "### Interval estimates\n",
    "\n",
    "This is applying the idea that we can use our estimate and the standard error to find the interval that captures the true population parameter (e.g. the interval within two standard errors of our estimate captures the parameter ~95% of the time). This is because ($\\hat{\\Theta}$-${\\theta}$)/se($\\hat{\\Theta}$ is approximately Normal(0,1) in large samples.\n",
    "\n",
    "| category | parameter | estimate  | interval estimate (~95%)|\n",
    "|----------|-----------|----------|----------|\n",
    "| arbitrary | $\\theta$ | $\\hat{\\theta}$  | $\\hat{\\theta} \\pm 2se(\\hat{\\theta}$)  |\n",
    "|  mean | $\\mu$ | $\\bar{x}$  | $\\bar{x} \\pm 2se(\\bar{x}$)  |\n",
    "| proportion | ${p}$ | $\\hat{p}$ | $\\hat{p} \\pm 2se(\\hat{p}$) |\n",
    "\n",
    "Implications of knowing the relationship of our estimate and our parameter based on the standard error:\n",
    "1. Estimating the true value of a parameter $\\theta$ by saying it is in the range of the estimate $\\pm$ 2 standard errors is a safe bet. *This is a gentle introduction to the idea of a* confidence interval.\n",
    "2. The data provide evidence *against* any theory that specifies a value of a parameter that is more than two standard errors from our data estimate. *This is a gentle introduction to the idea of a* test of significance.\n",
    "\n",
    "More sophisticated discussions of these ideas will be discussed later."
   ]
  },
  {
   "cell_type": "code",
   "execution_count": 1,
   "metadata": {
    "ExecuteTime": {
     "end_time": "2020-08-10T20:08:41.931261Z",
     "start_time": "2020-08-10T20:08:41.925720Z"
    }
   },
   "outputs": [],
   "source": [
    "import numpy as np"
   ]
  },
  {
   "cell_type": "code",
   "execution_count": 3,
   "metadata": {
    "ExecuteTime": {
     "end_time": "2020-08-18T22:31:03.185152Z",
     "start_time": "2020-08-18T22:31:03.179594Z"
    }
   },
   "outputs": [],
   "source": [
    "t_stat = [2.776, 2.571, 2.447, 2.365, 2.306]"
   ]
  },
  {
   "cell_type": "code",
   "execution_count": 15,
   "metadata": {
    "ExecuteTime": {
     "end_time": "2020-08-10T20:21:07.564857Z",
     "start_time": "2020-08-10T20:21:07.552436Z"
    }
   },
   "outputs": [
    {
     "name": "stdout",
     "output_type": "stream",
     "text": [
      "4 2.776 -0.6680757049394129 1.168075704939413\n",
      "5 2.571 -0.5105120561174556 1.0105120561174556\n",
      "6 2.447 -0.410765520375168 0.910765520375168\n",
      "7 2.365 -0.34125000000000005 0.84125\n",
      "8 2.306 -0.28926637086879425 0.7892663708687943\n"
     ]
    }
   ],
   "source": [
    "for t, i in enumerate([4,5,6,7,8]):\n",
    "    se_diff = np.sqrt((0.5**2)/i + (0.25*0.75)/i)\n",
    "    #print(se_diff)\n",
    "    print(i, t_stat[t], 0.25 - t_stat[t]*se_diff, 0.25 + t_stat[t]*se_diff)"
   ]
  },
  {
   "cell_type": "code",
   "execution_count": 2,
   "metadata": {
    "ExecuteTime": {
     "end_time": "2020-08-18T22:28:57.095156Z",
     "start_time": "2020-08-18T22:28:57.079686Z"
    }
   },
   "outputs": [
    {
     "name": "stdout",
     "output_type": "stream",
     "text": [
      "4 1.96 -0.3982090712108247 0.8982090712108247\n",
      "5 1.96 -0.3297758187437624 0.8297758187437624\n",
      "6 1.96 -0.27926049036997513 0.7792604903699751\n",
      "7 1.96 -0.24 0.74\n",
      "8 1.96 -0.2083530298798078 0.7083530298798077\n"
     ]
    }
   ],
   "source": [
    "for t, i in enumerate([4,5,6,7,8]):\n",
    "    se_diff = np.sqrt((0.5**2)/i + (0.25*0.75)/i)\n",
    "    #print(se_diff)\n",
    "    print(i, 1.96, 0.25 - 1.96*se_diff, 0.25 + 1.96*se_diff)"
   ]
  },
  {
   "cell_type": "code",
   "execution_count": 17,
   "metadata": {
    "ExecuteTime": {
     "end_time": "2020-08-10T20:24:47.420673Z",
     "start_time": "2020-08-10T20:24:47.415338Z"
    }
   },
   "outputs": [
    {
     "data": {
      "text/plain": [
       "3.8415999999999997"
      ]
     },
     "execution_count": 17,
     "metadata": {},
     "output_type": "execute_result"
    }
   ],
   "source": [
    "(1.96**2*(0.5**2))/0.25"
   ]
  },
  {
   "cell_type": "markdown",
   "metadata": {},
   "source": [
    "I followed this "
   ]
  },
  {
   "cell_type": "code",
   "execution_count": null,
   "metadata": {},
   "outputs": [],
   "source": [
    "# Using pooled standard deviation\n",
    "for t, i in enumerate([4,5,6,7,8]):\n",
    "    sp = np.sqrt((0.5**2)/i + (i-1)\n",
    "\n",
    "    #print(se_diff)\n",
    "    print(i, t_stat[t], 0.25 - t_stat[t]*se_diff, 0.25 + t_stat[t]*se_diff)\n",
    "    "
   ]
  },
  {
   "cell_type": "code",
   "execution_count": null,
   "metadata": {},
   "outputs": [],
   "source": []
  },
  {
   "cell_type": "markdown",
   "metadata": {},
   "source": [
    "### How many significant figures?\n",
    "\n",
    "When presenting answers, do not show unnecessary detail and in general use common sense. A rule of thumb is to show the estimate's decimal place of the *first significant figure* of the standard error.\n",
    "\n",
    "Example: Suppose our calculations give an estimate of 1.5436 and standard error of 0.06923. The first significant figure in the standard error is the 6 (the hundreths place). Therefore, suggested presentation would show estimate of 1.54 and standard error of 0.069.\n",
    "\n",
    "For interval estimates, show the bounds with one more significant figure than the order of magnitude of the width. For example, a calculated interval might have bounds of (23.76, 45.12). (Show it as 24, 45)."
   ]
  },
  {
   "cell_type": "markdown",
   "metadata": {},
   "source": [
    "### Quiz on Section 7.4"
   ]
  },
  {
   "cell_type": "markdown",
   "metadata": {},
   "source": [
    "1. Describe what is meant by the terms parameter and estimate.\n",
    "    - A parameter represents a characteristic of the population which is typically unknown.\n",
    "    - An estimate is an approximation of that parameter that comes from sampling.\n",
    "    - Single-number estimates like sample means and sample proportions are *point estimates* which distinguishes them from *interval estimates* like a two-standard-error interval.\n",
    "\n",
    "\n",
    "2. Why was a notation for an arbitrary estimate introduced?\n",
    "    - (unclear) Help distinguish the random variable \n",
    "    \n",
    "    \n",
    "3. What is statistical inference?\n",
    "    - In machine learning, it is using the predictive model's features to understand feature importance.\n",
    "\n",
    "\n",
    "4. Try to describe the ideas of bias and precision in plain English.\n",
    "    - Bias refers to how much the center of an estimate is different from a true mean.\n",
    "    - Precision refers to the uncertainty of the estimate (a high se has low precision).\n",
    "\n",
    "\n",
    "5. What is meant when an estimate of an unknown parameter is described as unbiased? Give an example of an unbiased estimate.\n",
    "    - An unbiased estimate would be something like a sample mean since it is equivalent to the population mean.\n",
    "\n",
    "\n",
    "6. What is the standard error of an estimate, and what do we use it for?\n",
    "    - It is the sample standard deviation divided by the square root of the sample size.\n",
    "    - This applies both to the sample mean and the sample proportion.\n",
    "\n",
    "\n",
    "7. Given that an estimate of a parameter is approximately Normally distributed, where can we expect the true value of the parameter to lie?\n",
    "    - We can expect the true value of the parameter to lie within two standard errors of the estimate of the parameter.\n",
    "\n",
    "\n",
    "8. If each of 1000 researchers independently conducted a study to estimate a parameter $\\theta$, how many researchers would you expect to catch the true value of $\\theta$ in their two-standard-error interval?\n",
    "\n",
    "9. (add later)"
   ]
  },
  {
   "cell_type": "markdown",
   "metadata": {},
   "source": [
    "## (7.5) Standard Errors of Differences\n",
    "\n",
    "When assessing differences, We can obtain standard errors individually but how should the standard errors be combined?"
   ]
  },
  {
   "cell_type": "markdown",
   "metadata": {},
   "source": [
    "### Standard error for a difference (independent samples)\n",
    "\n",
    "We can treat combining standard errors the way we combine standard deviations. For independent random variables ${X_1}$ and ${X_2}$:<br>\n",
    "sd(${X_1}$ - ${X_2}$) = $\\sqrt{{X_1}^2 + {X_1}^2}$"
   ]
  },
  {
   "cell_type": "markdown",
   "metadata": {},
   "source": [
    "**<center>Difference and standard error for a difference between independent estimates</center>**\n",
    "\n",
    "\n",
    "| category | parameter | estimate  | difference | SE for a difference | formula for SE for a difference |\n",
    "|----------|-----------|----------|----------|----------|----------|\n",
    "| arbitrary | $\\theta$ | $\\hat{\\theta}$  | $\\hat{\\theta_1}-\\hat{\\theta_2}$ | $se(\\hat{\\theta_1}-\\hat{\\theta_2}$) | $\\sqrt{se(\\hat{\\theta_1})^2 + se(\\hat{\\theta_2})^2}$  | \n",
    "|  mean | $\\mu$ | $\\bar{x}$  | $\\bar{x_1}-\\bar{x_2}$ | $se(\\bar{x_1}-\\bar{x_2}$) | $\\sqrt{\\frac{s_1^2}{n_1} + \\frac{s_2^2}{n_2}}$   | \n",
    "| proportion | ${p}$ | $\\hat{p}$ | $\\hat{p_1} - \\hat{p_2}$ | $se(\\hat{p_1} - \\hat{p_2})$ | $\\sqrt{\\frac{\\hat{p_1}(1-\\hat{p_1})}{n_1} + \\frac{\\hat{p_2}(1-\\hat{p_2})}{n_2}}$ \n"
   ]
  },
  {
   "cell_type": "markdown",
   "metadata": {},
   "source": [
    "You can use this to say whether there is a difference between groups. One hypothetical example in the cases of proportions is determining whether there is a difference between males and females willingness to vote for a candidate (outcome would be yes/no). You could use the difference in proportion and generate a two standard error interval to see whether 0 is contained in that interval. If it is not, then it is plausible that there is a real difference between the proportion of males and females affinity for the candidate.\n",
    "\n",
    "A similar procedure can be applied when trying to determine if there are real differences in the means between groups."
   ]
  },
  {
   "cell_type": "code",
   "execution_count": null,
   "metadata": {},
   "outputs": [],
   "source": []
  },
  {
   "cell_type": "code",
   "execution_count": null,
   "metadata": {},
   "outputs": [],
   "source": [
    "f = 0.6\n",
    "\n"
   ]
  },
  {
   "cell_type": "code",
   "execution_count": null,
   "metadata": {},
   "outputs": [],
   "source": []
  },
  {
   "cell_type": "markdown",
   "metadata": {},
   "source": [
    "#### Standard error for a difference between means\n",
    "\n"
   ]
  },
  {
   "cell_type": "code",
   "execution_count": 100,
   "metadata": {
    "ExecuteTime": {
     "end_time": "2020-03-29T15:26:01.250181Z",
     "start_time": "2020-03-29T15:26:01.089976Z"
    }
   },
   "outputs": [],
   "source": [
    "# See page 303 of Wild and Seber for this textbook example\n",
    "\n",
    "# group 1\n",
    "n_lying = 48\n",
    "xbar_lying = 8.8\n",
    "sample_sd_lying = 4.4\n",
    "\n",
    "# group 2\n",
    "n_sitting = 35\n",
    "xbar_sitting = 7.1\n",
    "sample_sd_sitting = 4.5\n"
   ]
  },
  {
   "cell_type": "code",
   "execution_count": 106,
   "metadata": {
    "ExecuteTime": {
     "end_time": "2020-03-29T15:29:34.162416Z",
     "start_time": "2020-03-29T15:29:34.154797Z"
    }
   },
   "outputs": [
    {
     "name": "stdout",
     "output_type": "stream",
     "text": [
      "mean of diff:  1.700000000000001 SE of diff:  0.9909110766889035\n"
     ]
    }
   ],
   "source": [
    "xbar_diff = xbar_lying-xbar_sitting\n",
    "\n",
    "# se_diff = sqrt(se1^2/n1 + se2^2/n2)\n",
    "se_diff = np.sqrt((sample_sd_lying**2)/n_lying + (sample_sd_sitting**2)/n_sitting)\n",
    "print('mean of diff: ', xbar_diff, 'SE of diff: ', se_diff)"
   ]
  },
  {
   "cell_type": "code",
   "execution_count": 108,
   "metadata": {
    "ExecuteTime": {
     "end_time": "2020-03-29T15:31:08.558231Z",
     "start_time": "2020-03-29T15:31:08.552858Z"
    }
   },
   "outputs": [
    {
     "name": "stdout",
     "output_type": "stream",
     "text": [
      "-0.28182215337780603 3.681822153377808 (answer confirmed)\n"
     ]
    }
   ],
   "source": [
    "# Get two standard error of difference\n",
    "lower_bound = xbar_diff-2*se_diff\n",
    "upper_bound = xbar_diff+2*se_diff\n",
    "\n",
    "print(lower_bound, upper_bound, '(answer confirmed)')"
   ]
  },
  {
   "cell_type": "code",
   "execution_count": null,
   "metadata": {},
   "outputs": [],
   "source": []
  },
  {
   "cell_type": "markdown",
   "metadata": {},
   "source": [
    "### Interpreting an interval for a difference\n",
    "\n",
    "It is straightforward when the end points of the interval have the same sign (if both negative or both positive, they are clearly non-zero with one being higher than the other). But in the case of opposite signs, it is possible that 0 is contained in the interval but in the case of something like -0.1 $\\leq \\theta_1 - \\theta_2 \\leq$ 6, the negative end is much closer to 9 than the positive endpoint. You can state that $\\theta_1$ may be larger than $\\theta_2$ by up to 6 units but it is unlikely to be appreciably smaller. Depending on the situation, one may feel that this is sufficient to make a decision and move forward."
   ]
  },
  {
   "cell_type": "markdown",
   "metadata": {},
   "source": [
    "### Individual two-standard-error intervals and differences\n",
    "\n",
    "Suppose that we have $\\hat\\theta_1$ and $\\hat\\theta_2$ as unbiased estimates of $\\theta_1$ and $\\theta_2$, respectively.\n",
    "\n",
    "**If separate intervals do *not* overlap**\n",
    "<br>\n",
    "$\\theta_1$ interval: [2, 5]\n",
    "<br>\n",
    "$\\theta_2$ interval: [7, 10]\n",
    "Then we *can* conclude that the true values of $\\theta_1$ and $\\theta_2$ are truly different.\n",
    "\n",
    "**If separate intervals do overlap**\n",
    "<br>\n",
    "$\\theta_1$ interval: [11.6, 16.4]\n",
    "<br>\n",
    "$\\theta_2$ interval: [7.8, 12.2]\n",
    "\n",
    "**Caution** While we might think that the overlap makes it plausible that the true values of $\\theta_1$ and $\\theta_2$ may be equal, individual two-standard-error intervals (or confidence intervals) can't be used for comparisons in this way. It is better to evaluate the difference directly ($\\theta_1$ - $\\theta_2$) and apply the standard error of the difference. (In this scenario, the two standard-error interval does not contain 0).\n",
    "\n",
    "**Why the anomaly?** The variability of a difference between (or sum of) two independent random quantities is smaller than the sum of the variabilities of its components (like the hypotenuse in the Pythagorean theorem).\n",
    "\n",
    "sd($X_1 - X_2$) = sd($X_1 + X_2$) < sd($X_1$) + sd($X_2$) \n",
    "\n",
    "Suppose that you have the following information:\n",
    "<br>\n",
    "$\\hat{\\theta_1}$ = 14\n",
    "<br>\n",
    "se($\\hat{\\theta_1}$) = 1.2\n",
    "<br>\n",
    "$\\hat{\\theta_2}$ = 10\n",
    "<br>\n",
    "se($\\hat{\\theta_2}$) = 1.1\n",
    "\n",
    "\n",
    "diff = 14-10 = 4\n",
    "se_diff = sqrt(1.2^2 + 1.1^2)\n",
    "\n",
    "Take the number of standard errors away.\n",
    "\n",
    "4 / 1.627 = 2.46 .... safe bet that true values of theta_1 and theta_2 are different\n",
    "\n",
    "\n",
    "\n"
   ]
  },
  {
   "cell_type": "code",
   "execution_count": null,
   "metadata": {},
   "outputs": [],
   "source": []
  },
  {
   "cell_type": "code",
   "execution_count": null,
   "metadata": {},
   "outputs": [],
   "source": []
  },
  {
   "cell_type": "markdown",
   "metadata": {},
   "source": [
    "### Exercises for section 7.5 (4 problems)\n"
   ]
  },
  {
   "cell_type": "markdown",
   "metadata": {
    "ExecuteTime": {
     "end_time": "2020-03-29T23:39:30.436070Z",
     "start_time": "2020-03-29T23:39:29.825725Z"
    }
   },
   "source": [
    "1. A survey on the proportions of students in Ontario, Canada who had smoked cigarettes at least once during the past year. Estimated proportion (and standard error in parentheses) by grade:\n",
    "    - grade 7: 0.141 (.02)\n",
    "    - grade 9: 0.378 (.043)\n",
    "    - grade 11: 0.474 (.031)\n",
    "    - grade 13: 0.303 (.030)\n",
    "\n",
    "The surprising feature was the dropoff between grades 11 and 13. Do the data provide evidence of a real change or could the drop-off be explained by sampling variation?\n",
    "- Calculate the standard error of the difference between grade 11 and 13.\n",
    "- How many standard errors apart are the two proportions? Do you think that there really is a decrease?\n",
    "- Calculate a two-standard-error interval for the true change.\n",
    "- What, if anything, do these results suggest to you about teenage smoking?\n",
    "\n"
   ]
  },
  {
   "cell_type": "code",
   "execution_count": 120,
   "metadata": {
    "ExecuteTime": {
     "end_time": "2020-03-29T23:56:07.169340Z",
     "start_time": "2020-03-29T23:56:07.156150Z"
    }
   },
   "outputs": [
    {
     "name": "stdout",
     "output_type": "stream",
     "text": [
      "SE of difference:  0.04313930922024598\n",
      "No. of SEs apart:  3.9639021368415164\n",
      "Interval for difference is: Between  0.086 and  0.256\n",
      "Since the differences are far apart, it appears that there is a \n",
      "true dropoff in the proportion of teens smoking between\n",
      "grade 11 and 13.\n",
      "answer confirmed\n"
     ]
    }
   ],
   "source": [
    "# Calculate the standard error of the difference between grade 11 and 13\n",
    "se_A = .031\n",
    "se_B = .030\n",
    "se_of_diff = np.sqrt(se_A ** 2 + se_B ** 2)\n",
    "print(\"SE of difference: \", se_of_diff)\n",
    "\n",
    "# How many standard errors apart are the two proportions? Do you think that there really is a decrease?\n",
    "p_A = 0.474\n",
    "p_B = 0.303\n",
    "p_diff = p_A - p_B\n",
    "n_SEs = (p_diff) / se_of_diff\n",
    "print(\"No. of SEs apart: \", n_SEs)\n",
    "\n",
    "# Calculate a two-standard-error interval for the true change\n",
    "lower_bound = np.abs(p_diff) - 1.96 * (se_of_diff)\n",
    "upper_bound = np.abs(p_diff) + 1.96 * (se_of_diff)\n",
    "\n",
    "print(\n",
    "    \"Interval for difference is: Between \",\n",
    "    \"{:.3f}\".format(lower_bound) + \" and \",\n",
    "    \"{:.3f}\".format(upper_bound),\n",
    ")\n",
    "\n",
    "print('Since the differences are far apart, it appears that there is a \\ntrue dropoff in the proportion of teens smoking between\\ngrade 11 and 13.')\n",
    "\n",
    "print('answer confirmed')"
   ]
  },
  {
   "cell_type": "markdown",
   "metadata": {},
   "source": [
    "\n",
    "\n",
    "2. After the sixth observation.... \n"
   ]
  },
  {
   "cell_type": "markdown",
   "metadata": {},
   "source": [
    "## (7.6) Student's t-distribution"
   ]
  },
  {
   "cell_type": "markdown",
   "metadata": {},
   "source": [
    "### Introduction\n",
    "\n",
    "The Normal distribution is really a whole family of distributions indexed by the parameters $\\mu$ and $\\sigma$. Student's t-distribution is simliar but it is indexed by a parameter called the degrees of freedom (df). If the distribution of a random variable T is a member of the family, T ~ Student(df).\n",
    "\n",
    "Distributions for members of this family are all symmetrical about the origin (0) and have similar shape to the Normal distribution. As df becomes large, the Student's t-distribution curve becomes indistinguishable from the standard Normal distribution (at df=$\\infty$, Student and Normal(0,1) are describing the same distribution)."
   ]
  },
  {
   "cell_type": "code",
   "execution_count": 2,
   "metadata": {
    "ExecuteTime": {
     "end_time": "2020-04-05T15:30:42.251931Z",
     "start_time": "2020-04-05T15:30:41.934112Z"
    }
   },
   "outputs": [
    {
     "data": {
      "image/png": "[encoded data removed]",
      "text/plain": [
       "<Figure size 432x288 with 1 Axes>"
      ]
     },
     "metadata": {
      "needs_background": "light"
     },
     "output_type": "display_data"
    }
   ],
   "source": [
    "# Student(df) density curves for various df\n",
    "from scipy.stats import t\n",
    "f, ax1 = plt.subplots()\n",
    "for df in [4, 10, 100]:\n",
    "    x = np.linspace(t.ppf(0.01, df), t.ppf(0.99, df), 100)\n",
    "    rv = t(df)\n",
    "    ax1.plot(x, rv.pdf(x), lw=2, label=df)\n",
    "ax1.set_xlim(-3, 3) \n",
    "ax1.legend();"
   ]
  },
  {
   "cell_type": "markdown",
   "metadata": {},
   "source": [
    "When sampling from a Normal distribution:\n",
    "<br>\n",
    "$Z = \\frac{\\bar{X} - \\mu}{sd(\\bar{X})} = \\frac{\\bar{X} - \\mu}{\\sigma/\\sqrt{n})}$\n",
    "\n",
    "If we standardize $\\bar{X}$ using its standard error instead of its standard deviation, we form:\n",
    "<br>\n",
    "$T = \\frac{\\bar{X} - \\mu}{se(\\bar{X})} = \\frac{\\bar{X} - \\mu}{S_X/\\sqrt{n})}$\n",
    "\n",
    "where the difference between Z and T is the substitution of the population standard deviation with the sample standard deviation. This makes the T distribution more variable than that of Z.\n",
    "\n",
    "$T = \\frac{\\bar{X} - \\mu}{se(\\bar{X})}$ ~ Student(df = n-1)\n",
    "\n",
    "Note how smaller n (df) have a wider distribution. The result of this is that for the limits to include $\\mu$ 95% of the time, you need to take a bigger critical t value."
   ]
  },
  {
   "cell_type": "code",
   "execution_count": null,
   "metadata": {},
   "outputs": [],
   "source": []
  },
  {
   "cell_type": "markdown",
   "metadata": {},
   "source": [
    "**Q: If you had an degrees of freedom of 5, would your critical t value by below or above 1.96 to have a 95% confidence interval?**"
   ]
  },
  {
   "cell_type": "code",
   "execution_count": null,
   "metadata": {},
   "outputs": [],
   "source": []
  },
  {
   "cell_type": "markdown",
   "metadata": {},
   "source": [
    "### The usefulness of Student's t-distribution"
   ]
  },
  {
   "cell_type": "markdown",
   "metadata": {},
   "source": [
    "If we want to preserve the same probability that the interval captures for the population mean, we typically have to take a wider interval (larger number of standard errors on either side of $\\bar{x}) for smaller samples than we would for larger samples.\n",
    "\n",
    "The theory described above and the strict application of Student's t-distribution for $T = (\\bar{X}-\\mu)/se(\\bar{X})$ apply only to data sampled from a Normal distribution. If the methods derived from the mathematical theory stopped working as soon as we got away from the Normal distribution, the theoretical result that T has a Student distribution would have no practical relevance because in practice we never know that we have Normally distributed data. How useful is the theory in practice?\n",
    "\n",
    "In large samples, the CLT tells us that, even for data sampled from non-Normal distributions, the distribution of $T$ is approximately Normal(0,1) which for large df is virtually identical to Student(df).\n",
    "\n",
    "How applicable is the t-distribution for small samples from non-Normal distributions? For **inferences about means**, computer simulations have shown that some methods derived from using a Student's t-distribution for $T = (\\bar{X} - \\mu)/se(\\bar{X})$ work well in small samples, even when sampling from distributions that are severely not normal.\n",
    "\n",
    "Most of the methods described in the book for making formal statistical intferences from data can be unified (conceptually and notationally) by thinking in terms of taking an estimate $\\hat{\\theta}$ and treating the distribution of\n",
    "\n",
    "$T = \\frac{\\hat{\\Theta}-{\\theta}}{se(\\hat{\\Theta}} = \\frac{Estimate - True\\ value}{Standard\\ error}$\n",
    "\n",
    "as being Student(df). We have seen the basis for doing this in the context of using a sample mean $\\bar{x}$ to estimate a population mean $\\mu$. Similar considerations apply when estimating the difference between two means or certain estimates in regression.\n",
    "\n",
    "The large sample methods we have described for making **inferences about proportions** cannot be made to apply to small samples by a device as simple as replacing the standard Normal distribution for T by Student's t-distribution. **Very different ideas are required for handling small-sample data about proportions.** Nevertheless, **the large sample methods for proprotions can be brought under the same notational and conceptual umbrella.**\n",
    "\n",
    "We shall make heavy use of Student's t-distribution in subsequent chapters. How well the resulting techniques work in practice depends on the type of estimator being used, how the data have been collected, and how much data there is."
   ]
  },
  {
   "cell_type": "markdown",
   "metadata": {},
   "source": [
    "### Python and scipy.stats code for getting T distribution probabilities\n",
    "\n",
    "\n",
    "| method | description |\n",
    "|--------|-------------|\n",
    "| pdf(x, df, loc=0, scale=1)  | Probability density function. |\n",
    "|cdf(x, df, loc=0, scale=1) |  Cumulative distribution function. |\n",
    "| ppf(q, df, loc=0, scale=1) | Percent point function (inverse of cdf — percentiles). |"
   ]
  },
  {
   "cell_type": "code",
   "execution_count": 2,
   "metadata": {
    "ExecuteTime": {
     "end_time": "2020-04-13T20:58:22.586970Z",
     "start_time": "2020-04-13T20:58:22.016675Z"
    }
   },
   "outputs": [],
   "source": [
    "# Student(df) density curves for various df\n",
    "from scipy.stats import t"
   ]
  },
  {
   "cell_type": "markdown",
   "metadata": {
    "ExecuteTime": {
     "end_time": "2020-04-05T18:04:30.657095Z",
     "start_time": "2020-04-05T18:04:30.654207Z"
    }
   },
   "source": [
    "#### Probability distribution function - not sure how to interpret this yet"
   ]
  },
  {
   "cell_type": "code",
   "execution_count": 33,
   "metadata": {
    "ExecuteTime": {
     "end_time": "2020-04-05T18:15:33.873087Z",
     "start_time": "2020-04-05T18:15:33.866408Z"
    }
   },
   "outputs": [
    {
     "data": {
      "text/plain": [
       "0.05400041216036306"
      ]
     },
     "execution_count": 33,
     "metadata": {},
     "output_type": "execute_result"
    }
   ],
   "source": [
    "t.pdf(x=2, df=10000)"
   ]
  },
  {
   "cell_type": "code",
   "execution_count": 26,
   "metadata": {
    "ExecuteTime": {
     "end_time": "2020-04-05T18:04:44.157796Z",
     "start_time": "2020-04-05T18:04:44.151790Z"
    }
   },
   "outputs": [
    {
     "data": {
      "text/plain": [
       "0.12626306128596107"
      ]
     },
     "execution_count": 26,
     "metadata": {},
     "output_type": "execute_result"
    }
   ],
   "source": [
    "t.pdf(x=1.5, df=7)"
   ]
  },
  {
   "cell_type": "markdown",
   "metadata": {
    "ExecuteTime": {
     "end_time": "2020-04-05T18:04:55.882722Z",
     "start_time": "2020-04-05T18:04:55.879668Z"
    }
   },
   "source": [
    "#### Cumulative distribution function (lower-tail probability)"
   ]
  },
  {
   "cell_type": "code",
   "execution_count": 28,
   "metadata": {
    "ExecuteTime": {
     "end_time": "2020-04-05T18:05:00.516731Z",
     "start_time": "2020-04-05T18:05:00.510357Z"
    }
   },
   "outputs": [
    {
     "data": {
      "text/plain": [
       "0.9748634075221256"
      ]
     },
     "execution_count": 28,
     "metadata": {},
     "output_type": "execute_result"
    }
   ],
   "source": [
    "t.cdf(x=1.96, df=1000)"
   ]
  },
  {
   "cell_type": "code",
   "execution_count": 29,
   "metadata": {
    "ExecuteTime": {
     "end_time": "2020-04-05T18:05:01.318411Z",
     "start_time": "2020-04-05T18:05:01.312381Z"
    }
   },
   "outputs": [
    {
     "data": {
      "text/plain": [
       "0.911350756505015"
      ]
     },
     "execution_count": 29,
     "metadata": {},
     "output_type": "execute_result"
    }
   ],
   "source": [
    "t.cdf(x=1.5, df=7)"
   ]
  },
  {
   "cell_type": "markdown",
   "metadata": {},
   "source": [
    "#### Getting the t-statistic back from the lower tail probability"
   ]
  },
  {
   "cell_type": "code",
   "execution_count": 133,
   "metadata": {
    "ExecuteTime": {
     "end_time": "2020-04-09T23:53:31.779703Z",
     "start_time": "2020-04-09T23:53:31.641969Z"
    }
   },
   "outputs": [
    {
     "data": {
      "text/plain": [
       "1.9599877075346093"
      ]
     },
     "execution_count": 133,
     "metadata": {},
     "output_type": "execute_result"
    },
    {
     "data": {
      "application/javascript": [
       "\n",
       "            setTimeout(function() {\n",
       "                var nbb_cell_id = 133;\n",
       "                var nbb_unformatted_code = \"t.ppf(q=0.975, df=100000)\";\n",
       "                var nbb_formatted_code = \"t.ppf(q=0.975, df=100000)\";\n",
       "                var nbb_cells = Jupyter.notebook.get_cells();\n",
       "                for (var i = 0; i < nbb_cells.length; ++i) {\n",
       "                    if (nbb_cells[i].input_prompt_number == nbb_cell_id) {\n",
       "                        if (nbb_cells[i].get_text() == nbb_unformatted_code) {\n",
       "                             nbb_cells[i].set_text(nbb_formatted_code);\n",
       "                        }\n",
       "                        break;\n",
       "                    }\n",
       "                }\n",
       "            }, 500);\n",
       "            "
      ],
      "text/plain": [
       "<IPython.core.display.Javascript object>"
      ]
     },
     "metadata": {},
     "output_type": "display_data"
    }
   ],
   "source": [
    "t.ppf(q=0.975, df=100000)"
   ]
  },
  {
   "cell_type": "code",
   "execution_count": 134,
   "metadata": {
    "ExecuteTime": {
     "end_time": "2020-04-09T23:53:48.264348Z",
     "start_time": "2020-04-09T23:53:48.252816Z"
    }
   },
   "outputs": [
    {
     "data": {
      "text/plain": [
       "2.2281388519649385"
      ]
     },
     "execution_count": 134,
     "metadata": {},
     "output_type": "execute_result"
    },
    {
     "data": {
      "application/javascript": [
       "\n",
       "            setTimeout(function() {\n",
       "                var nbb_cell_id = 134;\n",
       "                var nbb_unformatted_code = \"t.ppf(q=0.975, df=10)\";\n",
       "                var nbb_formatted_code = \"t.ppf(q=0.975, df=10)\";\n",
       "                var nbb_cells = Jupyter.notebook.get_cells();\n",
       "                for (var i = 0; i < nbb_cells.length; ++i) {\n",
       "                    if (nbb_cells[i].input_prompt_number == nbb_cell_id) {\n",
       "                        if (nbb_cells[i].get_text() == nbb_unformatted_code) {\n",
       "                             nbb_cells[i].set_text(nbb_formatted_code);\n",
       "                        }\n",
       "                        break;\n",
       "                    }\n",
       "                }\n",
       "            }, 500);\n",
       "            "
      ],
      "text/plain": [
       "<IPython.core.display.Javascript object>"
      ]
     },
     "metadata": {},
     "output_type": "display_data"
    }
   ],
   "source": [
    "t.ppf(q=0.975, df=10)"
   ]
  },
  {
   "cell_type": "code",
   "execution_count": 31,
   "metadata": {
    "ExecuteTime": {
     "end_time": "2020-04-05T18:05:46.033412Z",
     "start_time": "2020-04-05T18:05:46.027014Z"
    }
   },
   "outputs": [
    {
     "data": {
      "text/plain": [
       "1.4999940085216368"
      ]
     },
     "execution_count": 31,
     "metadata": {},
     "output_type": "execute_result"
    }
   ],
   "source": [
    "t.ppf(q=0.91135, df=7)"
   ]
  },
  {
   "cell_type": "code",
   "execution_count": null,
   "metadata": {},
   "outputs": [],
   "source": []
  },
  {
   "cell_type": "code",
   "execution_count": 5,
   "metadata": {
    "ExecuteTime": {
     "end_time": "2020-04-13T20:58:49.188259Z",
     "start_time": "2020-04-13T20:58:49.178383Z"
    }
   },
   "outputs": [
    {
     "data": {
      "text/plain": [
       "-1.1332953810813662"
      ]
     },
     "execution_count": 5,
     "metadata": {},
     "output_type": "execute_result"
    }
   ],
   "source": [
    "t.ppf(q=0.1299, df=100)"
   ]
  },
  {
   "cell_type": "code",
   "execution_count": null,
   "metadata": {},
   "outputs": [],
   "source": []
  },
  {
   "cell_type": "markdown",
   "metadata": {},
   "source": [
    "## Unit review exercises"
   ]
  },
  {
   "cell_type": "markdown",
   "metadata": {},
   "source": [
    "### Q. 13\n"
   ]
  },
  {
   "cell_type": "code",
   "execution_count": 1,
   "metadata": {
    "ExecuteTime": {
     "end_time": "2020-04-07T00:36:42.826877Z",
     "start_time": "2020-04-07T00:36:42.805865Z"
    }
   },
   "outputs": [
    {
     "data": {
      "text/html": [
       "<div>\n",
       "<style scoped>\n",
       "    .dataframe tbody tr th:only-of-type {\n",
       "        vertical-align: middle;\n",
       "    }\n",
       "\n",
       "    .dataframe tbody tr th {\n",
       "        vertical-align: top;\n",
       "    }\n",
       "\n",
       "    .dataframe thead th {\n",
       "        text-align: right;\n",
       "    }\n",
       "</style>\n",
       "<table border=\"1\" class=\"dataframe\">\n",
       "  <thead>\n",
       "    <tr style=\"text-align: right;\">\n",
       "      <th></th>\n",
       "      <th>downtown</th>\n",
       "      <th>uni</th>\n",
       "      <th>biz_school</th>\n",
       "    </tr>\n",
       "  </thead>\n",
       "  <tbody>\n",
       "    <tr>\n",
       "      <th>no_obs</th>\n",
       "      <td>407</td>\n",
       "      <td>236</td>\n",
       "      <td>319</td>\n",
       "    </tr>\n",
       "    <tr>\n",
       "      <th>cap_backwards</th>\n",
       "      <td>174</td>\n",
       "      <td>29</td>\n",
       "      <td>107</td>\n",
       "    </tr>\n",
       "  </tbody>\n",
       "</table>\n",
       "</div>"
      ],
      "text/plain": [
       "               downtown  uni  biz_school\n",
       "no_obs              407  236         319\n",
       "cap_backwards       174   29         107"
      ]
     },
     "execution_count": 1,
     "metadata": {},
     "output_type": "execute_result"
    }
   ],
   "source": [
    "df_caps = pd.DataFrame(\n",
    "    {\"downtown\": [407, 174], \"uni\": [236, 29], \"biz_school\": [319, 107]},\n",
    "    index=[\"no_obs\", \"cap_backwards\"],\n",
    ")\n",
    "df_caps"
   ]
  },
  {
   "cell_type": "markdown",
   "metadata": {},
   "source": [
    "**a. Calculate a two-standard-error interval for the true proportion of baseball cap wearers downtown who wear their caps backwards**"
   ]
  },
  {
   "cell_type": "code",
   "execution_count": 125,
   "metadata": {
    "ExecuteTime": {
     "end_time": "2020-04-07T00:36:44.132729Z",
     "start_time": "2020-04-07T00:36:44.115477Z"
    }
   },
   "outputs": [
    {
     "name": "stdout",
     "output_type": "stream",
     "text": [
      "proportion:  0.4275184275184275 se:  0.02452228699240917\n"
     ]
    },
    {
     "data": {
      "application/javascript": [
       "\n",
       "            setTimeout(function() {\n",
       "                var nbb_cell_id = 125;\n",
       "                var nbb_unformatted_code = \"p_dt = df_caps.loc[\\\"cap_backwards\\\", \\\"downtown\\\"] / df_caps.loc[\\\"no_obs\\\", \\\"downtown\\\"]\\n\\nse_dt = np.sqrt(((p_dt) * (1 - p_dt)) / df_caps.loc[\\\"no_obs\\\", \\\"downtown\\\"])\\n\\nprint(\\\"proportion: \\\", p_dt, \\\"se: \\\", se_dt)\";\n",
       "                var nbb_formatted_code = \"p_dt = df_caps.loc[\\\"cap_backwards\\\", \\\"downtown\\\"] / df_caps.loc[\\\"no_obs\\\", \\\"downtown\\\"]\\n\\nse_dt = np.sqrt(((p_dt) * (1 - p_dt)) / df_caps.loc[\\\"no_obs\\\", \\\"downtown\\\"])\\n\\nprint(\\\"proportion: \\\", p_dt, \\\"se: \\\", se_dt)\";\n",
       "                var nbb_cells = Jupyter.notebook.get_cells();\n",
       "                for (var i = 0; i < nbb_cells.length; ++i) {\n",
       "                    if (nbb_cells[i].input_prompt_number == nbb_cell_id) {\n",
       "                        if (nbb_cells[i].get_text() == nbb_unformatted_code) {\n",
       "                             nbb_cells[i].set_text(nbb_formatted_code);\n",
       "                        }\n",
       "                        break;\n",
       "                    }\n",
       "                }\n",
       "            }, 500);\n",
       "            "
      ],
      "text/plain": [
       "<IPython.core.display.Javascript object>"
      ]
     },
     "metadata": {},
     "output_type": "display_data"
    }
   ],
   "source": [
    "p_dt = df_caps.loc[\"cap_backwards\", \"downtown\"] / df_caps.loc[\"no_obs\", \"downtown\"]\n",
    "\n",
    "se_dt = np.sqrt(((p_dt) * (1 - p_dt)) / df_caps.loc[\"no_obs\", \"downtown\"])\n",
    "\n",
    "print(\"proportion: \", p_dt, \"se: \", se_dt)"
   ]
  },
  {
   "cell_type": "code",
   "execution_count": 126,
   "metadata": {
    "ExecuteTime": {
     "end_time": "2020-04-07T00:36:44.717122Z",
     "start_time": "2020-04-07T00:36:44.707067Z"
    }
   },
   "outputs": [
    {
     "name": "stdout",
     "output_type": "stream",
     "text": [
      "0.3784738535336092 0.4765630015032458\n"
     ]
    },
    {
     "data": {
      "application/javascript": [
       "\n",
       "            setTimeout(function() {\n",
       "                var nbb_cell_id = 126;\n",
       "                var nbb_unformatted_code = \"lower_bound = p_dt - 2 * se_dt\\nupper_bound = p_dt + 2 * se_dt\\nprint(lower_bound, upper_bound)\";\n",
       "                var nbb_formatted_code = \"lower_bound = p_dt - 2 * se_dt\\nupper_bound = p_dt + 2 * se_dt\\nprint(lower_bound, upper_bound)\";\n",
       "                var nbb_cells = Jupyter.notebook.get_cells();\n",
       "                for (var i = 0; i < nbb_cells.length; ++i) {\n",
       "                    if (nbb_cells[i].input_prompt_number == nbb_cell_id) {\n",
       "                        if (nbb_cells[i].get_text() == nbb_unformatted_code) {\n",
       "                             nbb_cells[i].set_text(nbb_formatted_code);\n",
       "                        }\n",
       "                        break;\n",
       "                    }\n",
       "                }\n",
       "            }, 500);\n",
       "            "
      ],
      "text/plain": [
       "<IPython.core.display.Javascript object>"
      ]
     },
     "metadata": {},
     "output_type": "display_data"
    }
   ],
   "source": [
    "lower_bound = p_dt - 2 * se_dt\n",
    "upper_bound = p_dt + 2 * se_dt\n",
    "print(lower_bound, upper_bound)"
   ]
  },
  {
   "cell_type": "markdown",
   "metadata": {},
   "source": [
    "**b. Is there evidence that downtown cap wearers are more likely to wear their caps backwards than business-school cap wearers? (How many SEs are the estimates apart?)**"
   ]
  },
  {
   "cell_type": "code",
   "execution_count": 127,
   "metadata": {
    "ExecuteTime": {
     "end_time": "2020-04-07T00:36:46.011590Z",
     "start_time": "2020-04-07T00:36:45.999611Z"
    }
   },
   "outputs": [
    {
     "data": {
      "application/javascript": [
       "\n",
       "            setTimeout(function() {\n",
       "                var nbb_cell_id = 127;\n",
       "                var nbb_unformatted_code = \"p_bs = df_caps.loc[\\\"cap_backwards\\\", \\\"biz_school\\\"] / df_caps.loc[\\\"no_obs\\\", \\\"biz_school\\\"]\";\n",
       "                var nbb_formatted_code = \"p_bs = df_caps.loc[\\\"cap_backwards\\\", \\\"biz_school\\\"] / df_caps.loc[\\\"no_obs\\\", \\\"biz_school\\\"]\";\n",
       "                var nbb_cells = Jupyter.notebook.get_cells();\n",
       "                for (var i = 0; i < nbb_cells.length; ++i) {\n",
       "                    if (nbb_cells[i].input_prompt_number == nbb_cell_id) {\n",
       "                        if (nbb_cells[i].get_text() == nbb_unformatted_code) {\n",
       "                             nbb_cells[i].set_text(nbb_formatted_code);\n",
       "                        }\n",
       "                        break;\n",
       "                    }\n",
       "                }\n",
       "            }, 500);\n",
       "            "
      ],
      "text/plain": [
       "<IPython.core.display.Javascript object>"
      ]
     },
     "metadata": {},
     "output_type": "display_data"
    }
   ],
   "source": [
    "p_bs = df_caps.loc[\"cap_backwards\", \"biz_school\"] / df_caps.loc[\"no_obs\", \"biz_school\"]"
   ]
  },
  {
   "cell_type": "code",
   "execution_count": 128,
   "metadata": {
    "ExecuteTime": {
     "end_time": "2020-04-07T00:36:46.697960Z",
     "start_time": "2020-04-07T00:36:46.684857Z"
    }
   },
   "outputs": [
    {
     "data": {
      "text/plain": [
       "(0.2825538694822773, 0.3882925255020487)"
      ]
     },
     "execution_count": 128,
     "metadata": {},
     "output_type": "execute_result"
    },
    {
     "data": {
      "application/javascript": [
       "\n",
       "            setTimeout(function() {\n",
       "                var nbb_cell_id = 128;\n",
       "                var nbb_unformatted_code = \"se_bs = np.sqrt((p_bs * (1 - p_bs)) / df_caps.loc[\\\"no_obs\\\", \\\"biz_school\\\"])\\n(p_bs - 2 * se_bs, p_bs + 2 * se_bs)\";\n",
       "                var nbb_formatted_code = \"se_bs = np.sqrt((p_bs * (1 - p_bs)) / df_caps.loc[\\\"no_obs\\\", \\\"biz_school\\\"])\\n(p_bs - 2 * se_bs, p_bs + 2 * se_bs)\";\n",
       "                var nbb_cells = Jupyter.notebook.get_cells();\n",
       "                for (var i = 0; i < nbb_cells.length; ++i) {\n",
       "                    if (nbb_cells[i].input_prompt_number == nbb_cell_id) {\n",
       "                        if (nbb_cells[i].get_text() == nbb_unformatted_code) {\n",
       "                             nbb_cells[i].set_text(nbb_formatted_code);\n",
       "                        }\n",
       "                        break;\n",
       "                    }\n",
       "                }\n",
       "            }, 500);\n",
       "            "
      ],
      "text/plain": [
       "<IPython.core.display.Javascript object>"
      ]
     },
     "metadata": {},
     "output_type": "display_data"
    }
   ],
   "source": [
    "se_bs = np.sqrt((p_bs * (1 - p_bs)) / df_caps.loc[\"no_obs\", \"biz_school\"])\n",
    "(p_bs - 2 * se_bs, p_bs + 2 * se_bs)"
   ]
  },
  {
   "cell_type": "code",
   "execution_count": 129,
   "metadata": {
    "ExecuteTime": {
     "end_time": "2020-04-07T00:36:47.450695Z",
     "start_time": "2020-04-07T00:36:47.440324Z"
    }
   },
   "outputs": [
    {
     "data": {
      "text/plain": [
       "0.09209523002626452"
      ]
     },
     "execution_count": 129,
     "metadata": {},
     "output_type": "execute_result"
    },
    {
     "data": {
      "application/javascript": [
       "\n",
       "            setTimeout(function() {\n",
       "                var nbb_cell_id = 129;\n",
       "                var nbb_unformatted_code = \"p_diff = p_dt - p_bs\\np_diff\";\n",
       "                var nbb_formatted_code = \"p_diff = p_dt - p_bs\\np_diff\";\n",
       "                var nbb_cells = Jupyter.notebook.get_cells();\n",
       "                for (var i = 0; i < nbb_cells.length; ++i) {\n",
       "                    if (nbb_cells[i].input_prompt_number == nbb_cell_id) {\n",
       "                        if (nbb_cells[i].get_text() == nbb_unformatted_code) {\n",
       "                             nbb_cells[i].set_text(nbb_formatted_code);\n",
       "                        }\n",
       "                        break;\n",
       "                    }\n",
       "                }\n",
       "            }, 500);\n",
       "            "
      ],
      "text/plain": [
       "<IPython.core.display.Javascript object>"
      ]
     },
     "metadata": {},
     "output_type": "display_data"
    }
   ],
   "source": [
    "p_diff = p_dt - p_bs\n",
    "p_diff"
   ]
  },
  {
   "cell_type": "code",
   "execution_count": 130,
   "metadata": {
    "ExecuteTime": {
     "end_time": "2020-04-07T00:36:55.625071Z",
     "start_time": "2020-04-07T00:36:55.615313Z"
    }
   },
   "outputs": [
    {
     "data": {
      "text/plain": [
       "0.03605737123518991"
      ]
     },
     "execution_count": 130,
     "metadata": {},
     "output_type": "execute_result"
    },
    {
     "data": {
      "application/javascript": [
       "\n",
       "            setTimeout(function() {\n",
       "                var nbb_cell_id = 130;\n",
       "                var nbb_unformatted_code = \"se_diff = np.sqrt(se_dt ** 2 + se_bs ** 2)\\nse_diff\";\n",
       "                var nbb_formatted_code = \"se_diff = np.sqrt(se_dt ** 2 + se_bs ** 2)\\nse_diff\";\n",
       "                var nbb_cells = Jupyter.notebook.get_cells();\n",
       "                for (var i = 0; i < nbb_cells.length; ++i) {\n",
       "                    if (nbb_cells[i].input_prompt_number == nbb_cell_id) {\n",
       "                        if (nbb_cells[i].get_text() == nbb_unformatted_code) {\n",
       "                             nbb_cells[i].set_text(nbb_formatted_code);\n",
       "                        }\n",
       "                        break;\n",
       "                    }\n",
       "                }\n",
       "            }, 500);\n",
       "            "
      ],
      "text/plain": [
       "<IPython.core.display.Javascript object>"
      ]
     },
     "metadata": {},
     "output_type": "display_data"
    }
   ],
   "source": [
    "se_diff = np.sqrt(se_dt ** 2 + se_bs ** 2)\n",
    "se_diff"
   ]
  },
  {
   "cell_type": "code",
   "execution_count": 131,
   "metadata": {
    "ExecuteTime": {
     "end_time": "2020-04-07T00:36:56.458279Z",
     "start_time": "2020-04-07T00:36:56.447946Z"
    }
   },
   "outputs": [
    {
     "data": {
      "text/plain": [
       "(0.019980487555884704, 0.16420997249664432)"
      ]
     },
     "execution_count": 131,
     "metadata": {},
     "output_type": "execute_result"
    },
    {
     "data": {
      "application/javascript": [
       "\n",
       "            setTimeout(function() {\n",
       "                var nbb_cell_id = 131;\n",
       "                var nbb_unformatted_code = \"(p_diff - 2 * se_diff, p_diff + 2 * se_diff)\";\n",
       "                var nbb_formatted_code = \"(p_diff - 2 * se_diff, p_diff + 2 * se_diff)\";\n",
       "                var nbb_cells = Jupyter.notebook.get_cells();\n",
       "                for (var i = 0; i < nbb_cells.length; ++i) {\n",
       "                    if (nbb_cells[i].input_prompt_number == nbb_cell_id) {\n",
       "                        if (nbb_cells[i].get_text() == nbb_unformatted_code) {\n",
       "                             nbb_cells[i].set_text(nbb_formatted_code);\n",
       "                        }\n",
       "                        break;\n",
       "                    }\n",
       "                }\n",
       "            }, 500);\n",
       "            "
      ],
      "text/plain": [
       "<IPython.core.display.Javascript object>"
      ]
     },
     "metadata": {},
     "output_type": "display_data"
    }
   ],
   "source": [
    "(p_diff - 2 * se_diff, p_diff + 2 * se_diff)"
   ]
  },
  {
   "cell_type": "code",
   "execution_count": 132,
   "metadata": {
    "ExecuteTime": {
     "end_time": "2020-04-07T00:36:57.274357Z",
     "start_time": "2020-04-07T00:36:57.264997Z"
    }
   },
   "outputs": [
    {
     "data": {
      "text/plain": [
       "2.554130455755047"
      ]
     },
     "execution_count": 132,
     "metadata": {},
     "output_type": "execute_result"
    },
    {
     "data": {
      "application/javascript": [
       "\n",
       "            setTimeout(function() {\n",
       "                var nbb_cell_id = 132;\n",
       "                var nbb_unformatted_code = \"p_diff / se_diff\";\n",
       "                var nbb_formatted_code = \"p_diff / se_diff\";\n",
       "                var nbb_cells = Jupyter.notebook.get_cells();\n",
       "                for (var i = 0; i < nbb_cells.length; ++i) {\n",
       "                    if (nbb_cells[i].input_prompt_number == nbb_cell_id) {\n",
       "                        if (nbb_cells[i].get_text() == nbb_unformatted_code) {\n",
       "                             nbb_cells[i].set_text(nbb_formatted_code);\n",
       "                        }\n",
       "                        break;\n",
       "                    }\n",
       "                }\n",
       "            }, 500);\n",
       "            "
      ],
      "text/plain": [
       "<IPython.core.display.Javascript object>"
      ]
     },
     "metadata": {},
     "output_type": "display_data"
    }
   ],
   "source": [
    "p_diff / se_diff"
   ]
  },
  {
   "cell_type": "markdown",
   "metadata": {},
   "source": [
    "**People downtown are more likely to wear their hats backward. The differences are about 2.55 standard errors apart.**"
   ]
  },
  {
   "cell_type": "markdown",
   "metadata": {},
   "source": [
    "**c. Separate 2 SE intervals for the true proportions in each of the three locations are plotted. The intervals for downtown wearers overlap with business school wearers. Does it conflict with conclusions?**\n",
    "\n",
    "No it doesn't because the standard error of the difference is smaller than the sum of the individual standard errors."
   ]
  },
  {
   "cell_type": "code",
   "execution_count": null,
   "metadata": {},
   "outputs": [],
   "source": []
  },
  {
   "cell_type": "code",
   "execution_count": null,
   "metadata": {},
   "outputs": [],
   "source": []
  },
  {
   "cell_type": "markdown",
   "metadata": {},
   "source": [
    "# --- "
   ]
  }
 ],
 "metadata": {
  "kernelspec": {
   "display_name": "Python 3",
   "language": "python",
   "name": "python3"
  },
  "language_info": {
   "codemirror_mode": {
    "name": "ipython",
    "version": 3
   },
   "file_extension": ".py",
   "mimetype": "text/x-python",
   "name": "python",
   "nbconvert_exporter": "python",
   "pygments_lexer": "ipython3",
   "version": "3.6.9"
  },
  "toc": {
   "base_numbering": 1,
   "nav_menu": {},
   "number_sections": true,
   "sideBar": true,
   "skip_h1_title": false,
   "title_cell": "Table of Contents",
   "title_sidebar": "Contents",
   "toc_cell": false,
   "toc_position": {
    "height": "calc(100% - 180px)",
    "left": "10px",
    "top": "150px",
    "width": "291.3px"
   },
   "toc_section_display": true,
   "toc_window_display": true
  },
  "varInspector": {
   "cols": {
    "lenName": 16,
    "lenType": 16,
    "lenVar": 40
   },
   "kernels_config": {
    "python": {
     "delete_cmd_postfix": "",
     "delete_cmd_prefix": "del ",
     "library": "var_list.py",
     "varRefreshCmd": "print(var_dic_list())"
    },
    "r": {
     "delete_cmd_postfix": ") ",
     "delete_cmd_prefix": "rm(",
     "library": "var_list.r",
     "varRefreshCmd": "cat(var_dic_list()) "
    }
   },
   "types_to_exclude": [
    "module",
    "function",
    "builtin_function_or_method",
    "instance",
    "_Feature"
   ],
   "window_display": false
  }
 },
 "nbformat": 4,
 "nbformat_minor": 4
}
