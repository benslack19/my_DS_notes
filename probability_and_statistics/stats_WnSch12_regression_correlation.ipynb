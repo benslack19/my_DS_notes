{
 "cells": [
  {
   "cell_type": "markdown",
   "metadata": {},
   "source": [
    "**Probability and statistics - Chapter 12: Relationships between quantitative variables**\n",
    "\n",
    "Using the textbook by Wild & Seber as a guide, I document some statistical lessons in this notebook.\n",
    "\n",
    "The primary emphasis of the chapter is about regressions and correlations."
   ]
  },
  {
   "cell_type": "code",
   "execution_count": 7,
   "metadata": {
    "ExecuteTime": {
     "end_time": "2020-09-04T16:44:28.886289Z",
     "start_time": "2020-09-04T16:44:28.655560Z"
    }
   },
   "outputs": [
    {
     "name": "stdout",
     "output_type": "stream",
     "text": [
      "The nb_black extension is already loaded. To reload it, use:\n",
      "  %reload_ext nb_black\n"
     ]
    },
    {
     "data": {
      "application/javascript": [
       "\n",
       "            setTimeout(function() {\n",
       "                var nbb_cell_id = 7;\n",
       "                var nbb_unformatted_code = \"import matplotlib.pyplot as plt\\nimport numpy as np\\nimport pandas as pd\\n\\n%matplotlib inline\\nimport seaborn as sns\\nfrom scipy import integrate, stats\\n\\n# ggplot syntax\\nfrom plotnine import *\\nfrom plotnine.data import mtcars\\n\\n# Code formatting\\n%load_ext nb_black\";\n",
       "                var nbb_formatted_code = \"import matplotlib.pyplot as plt\\nimport numpy as np\\nimport pandas as pd\\n\\n%matplotlib inline\\nimport seaborn as sns\\nfrom scipy import integrate, stats\\n\\n# ggplot syntax\\nfrom plotnine import *\\nfrom plotnine.data import mtcars\\n\\n# Code formatting\\n%load_ext nb_black\";\n",
       "                var nbb_cells = Jupyter.notebook.get_cells();\n",
       "                for (var i = 0; i < nbb_cells.length; ++i) {\n",
       "                    if (nbb_cells[i].input_prompt_number == nbb_cell_id) {\n",
       "                        if (nbb_cells[i].get_text() == nbb_unformatted_code) {\n",
       "                             nbb_cells[i].set_text(nbb_formatted_code);\n",
       "                        }\n",
       "                        break;\n",
       "                    }\n",
       "                }\n",
       "            }, 500);\n",
       "            "
      ],
      "text/plain": [
       "<IPython.core.display.Javascript object>"
      ]
     },
     "metadata": {},
     "output_type": "display_data"
    }
   ],
   "source": [
    "import matplotlib.pyplot as plt\n",
    "import numpy as np\n",
    "import pandas as pd\n",
    "\n",
    "%matplotlib inline\n",
    "import seaborn as sns\n",
    "from scipy import integrate, stats\n",
    "\n",
    "# ggplot syntax\n",
    "from plotnine import *\n",
    "from plotnine.data import mtcars\n",
    "\n",
    "# Code formatting\n",
    "%load_ext nb_black"
   ]
  },
  {
   "cell_type": "markdown",
   "metadata": {},
   "source": [
    "# Introduction\n",
    "\n"
   ]
  },
  {
   "cell_type": "code",
   "execution_count": null,
   "metadata": {},
   "outputs": [],
   "source": []
  },
  {
   "cell_type": "markdown",
   "metadata": {},
   "source": [
    "# Chapter review exercises"
   ]
  },
  {
   "cell_type": "code",
   "execution_count": null,
   "metadata": {},
   "outputs": [],
   "source": []
  },
  {
   "cell_type": "markdown",
   "metadata": {},
   "source": [
    "## Question 1"
   ]
  },
  {
   "cell_type": "code",
   "execution_count": 2,
   "metadata": {
    "ExecuteTime": {
     "end_time": "2020-09-04T16:43:30.012734Z",
     "start_time": "2020-09-04T16:43:29.885978Z"
    }
   },
   "outputs": [
    {
     "data": {
      "application/javascript": [
       "\n",
       "            setTimeout(function() {\n",
       "                var nbb_cell_id = 2;\n",
       "                var nbb_unformatted_code = \"data = [\\n    365,\\n    45.0,\\n    200,\\n    12.0,\\n    365,\\n    41.0,\\n    220,\\n    17.0,\\n    185,\\n    10.0,\\n    250,\\n    27.5,\\n    240,\\n    18.0,\\n    305,\\n    27.0,\\n    265,\\n    28.0,\\n    215,\\n    16.0,\\n    305,\\n    38.5,\\n    365,\\n    45.0,\\n    255,\\n    19.5,\\n    250,\\n    26.0,\\n    345,\\n    40.0,\\n    220,\\n    16.0,\\n    345,\\n    40.5,\\n    380,\\n    47.5,\\n    250,\\n    26.0,\\n    250,\\n    25.0,\\n    365,\\n    49.5,\\n    230,\\n    20.0,\\n    365,\\n    41.5,\\n    215,\\n    15.5,\\n    240,\\n    24.0,\\n    220,\\n    16.5,\\n    310,\\n    28.0,\\n    250,\\n    28.0,\\n    365,\\n    43.5,\\n    345,\\n    40.0,\\n    215,\\n    15.0,\\n    240,\\n    20.0,\\n    240,\\n    20.0,\\n    250,\\n    21.0,\\n    365,\\n    40.5,\\n    380,\\n    49.0,\\n    220,\\n    14.5,\\n    250,\\n    25.0,\\n    255,\\n    16.0,\\n    365,\\n    44.0,\\n]\";\n",
       "                var nbb_formatted_code = \"data = [\\n    365,\\n    45.0,\\n    200,\\n    12.0,\\n    365,\\n    41.0,\\n    220,\\n    17.0,\\n    185,\\n    10.0,\\n    250,\\n    27.5,\\n    240,\\n    18.0,\\n    305,\\n    27.0,\\n    265,\\n    28.0,\\n    215,\\n    16.0,\\n    305,\\n    38.5,\\n    365,\\n    45.0,\\n    255,\\n    19.5,\\n    250,\\n    26.0,\\n    345,\\n    40.0,\\n    220,\\n    16.0,\\n    345,\\n    40.5,\\n    380,\\n    47.5,\\n    250,\\n    26.0,\\n    250,\\n    25.0,\\n    365,\\n    49.5,\\n    230,\\n    20.0,\\n    365,\\n    41.5,\\n    215,\\n    15.5,\\n    240,\\n    24.0,\\n    220,\\n    16.5,\\n    310,\\n    28.0,\\n    250,\\n    28.0,\\n    365,\\n    43.5,\\n    345,\\n    40.0,\\n    215,\\n    15.0,\\n    240,\\n    20.0,\\n    240,\\n    20.0,\\n    250,\\n    21.0,\\n    365,\\n    40.5,\\n    380,\\n    49.0,\\n    220,\\n    14.5,\\n    250,\\n    25.0,\\n    255,\\n    16.0,\\n    365,\\n    44.0,\\n]\";\n",
       "                var nbb_cells = Jupyter.notebook.get_cells();\n",
       "                for (var i = 0; i < nbb_cells.length; ++i) {\n",
       "                    if (nbb_cells[i].input_prompt_number == nbb_cell_id) {\n",
       "                        if (nbb_cells[i].get_text() == nbb_unformatted_code) {\n",
       "                             nbb_cells[i].set_text(nbb_formatted_code);\n",
       "                        }\n",
       "                        break;\n",
       "                    }\n",
       "                }\n",
       "            }, 500);\n",
       "            "
      ],
      "text/plain": [
       "<IPython.core.display.Javascript object>"
      ]
     },
     "metadata": {},
     "output_type": "display_data"
    }
   ],
   "source": [
    "data = [\n",
    "    365,\n",
    "    45.0,\n",
    "    200,\n",
    "    12.0,\n",
    "    365,\n",
    "    41.0,\n",
    "    220,\n",
    "    17.0,\n",
    "    185,\n",
    "    10.0,\n",
    "    250,\n",
    "    27.5,\n",
    "    240,\n",
    "    18.0,\n",
    "    305,\n",
    "    27.0,\n",
    "    265,\n",
    "    28.0,\n",
    "    215,\n",
    "    16.0,\n",
    "    305,\n",
    "    38.5,\n",
    "    365,\n",
    "    45.0,\n",
    "    255,\n",
    "    19.5,\n",
    "    250,\n",
    "    26.0,\n",
    "    345,\n",
    "    40.0,\n",
    "    220,\n",
    "    16.0,\n",
    "    345,\n",
    "    40.5,\n",
    "    380,\n",
    "    47.5,\n",
    "    250,\n",
    "    26.0,\n",
    "    250,\n",
    "    25.0,\n",
    "    365,\n",
    "    49.5,\n",
    "    230,\n",
    "    20.0,\n",
    "    365,\n",
    "    41.5,\n",
    "    215,\n",
    "    15.5,\n",
    "    240,\n",
    "    24.0,\n",
    "    220,\n",
    "    16.5,\n",
    "    310,\n",
    "    28.0,\n",
    "    250,\n",
    "    28.0,\n",
    "    365,\n",
    "    43.5,\n",
    "    345,\n",
    "    40.0,\n",
    "    215,\n",
    "    15.0,\n",
    "    240,\n",
    "    20.0,\n",
    "    240,\n",
    "    20.0,\n",
    "    250,\n",
    "    21.0,\n",
    "    365,\n",
    "    40.5,\n",
    "    380,\n",
    "    49.0,\n",
    "    220,\n",
    "    14.5,\n",
    "    250,\n",
    "    25.0,\n",
    "    255,\n",
    "    16.0,\n",
    "    365,\n",
    "    44.0,\n",
    "]"
   ]
  },
  {
   "cell_type": "code",
   "execution_count": 3,
   "metadata": {
    "ExecuteTime": {
     "end_time": "2020-09-04T16:43:30.850478Z",
     "start_time": "2020-09-04T16:43:30.833999Z"
    }
   },
   "outputs": [
    {
     "data": {
      "application/javascript": [
       "\n",
       "            setTimeout(function() {\n",
       "                var nbb_cell_id = 3;\n",
       "                var nbb_unformatted_code = \"cement, hardness = list(), list()\\nfor i in range(len(data)):\\n    if i % 2 == 0:\\n        cement.append(data[i])\\n    else:\\n        hardness.append(data[i])\";\n",
       "                var nbb_formatted_code = \"cement, hardness = list(), list()\\nfor i in range(len(data)):\\n    if i % 2 == 0:\\n        cement.append(data[i])\\n    else:\\n        hardness.append(data[i])\";\n",
       "                var nbb_cells = Jupyter.notebook.get_cells();\n",
       "                for (var i = 0; i < nbb_cells.length; ++i) {\n",
       "                    if (nbb_cells[i].input_prompt_number == nbb_cell_id) {\n",
       "                        if (nbb_cells[i].get_text() == nbb_unformatted_code) {\n",
       "                             nbb_cells[i].set_text(nbb_formatted_code);\n",
       "                        }\n",
       "                        break;\n",
       "                    }\n",
       "                }\n",
       "            }, 500);\n",
       "            "
      ],
      "text/plain": [
       "<IPython.core.display.Javascript object>"
      ]
     },
     "metadata": {},
     "output_type": "display_data"
    }
   ],
   "source": [
    "cement, hardness = list(), list()\n",
    "for i in range(len(data)):\n",
    "    if i % 2 == 0:\n",
    "        cement.append(data[i])\n",
    "    else:\n",
    "        hardness.append(data[i])"
   ]
  },
  {
   "cell_type": "code",
   "execution_count": 4,
   "metadata": {
    "ExecuteTime": {
     "end_time": "2020-09-04T16:43:32.473870Z",
     "start_time": "2020-09-04T16:43:32.441828Z"
    }
   },
   "outputs": [
    {
     "data": {
      "text/html": [
       "<div>\n",
       "<style scoped>\n",
       "    .dataframe tbody tr th:only-of-type {\n",
       "        vertical-align: middle;\n",
       "    }\n",
       "\n",
       "    .dataframe tbody tr th {\n",
       "        vertical-align: top;\n",
       "    }\n",
       "\n",
       "    .dataframe thead th {\n",
       "        text-align: right;\n",
       "    }\n",
       "</style>\n",
       "<table border=\"1\" class=\"dataframe\">\n",
       "  <thead>\n",
       "    <tr style=\"text-align: right;\">\n",
       "      <th></th>\n",
       "      <th>cement</th>\n",
       "      <th>hardness</th>\n",
       "    </tr>\n",
       "  </thead>\n",
       "  <tbody>\n",
       "    <tr>\n",
       "      <th>0</th>\n",
       "      <td>365</td>\n",
       "      <td>45.0</td>\n",
       "    </tr>\n",
       "    <tr>\n",
       "      <th>1</th>\n",
       "      <td>200</td>\n",
       "      <td>12.0</td>\n",
       "    </tr>\n",
       "    <tr>\n",
       "      <th>2</th>\n",
       "      <td>365</td>\n",
       "      <td>41.0</td>\n",
       "    </tr>\n",
       "    <tr>\n",
       "      <th>3</th>\n",
       "      <td>220</td>\n",
       "      <td>17.0</td>\n",
       "    </tr>\n",
       "    <tr>\n",
       "      <th>4</th>\n",
       "      <td>185</td>\n",
       "      <td>10.0</td>\n",
       "    </tr>\n",
       "  </tbody>\n",
       "</table>\n",
       "</div>"
      ],
      "text/plain": [
       "   cement  hardness\n",
       "0     365      45.0\n",
       "1     200      12.0\n",
       "2     365      41.0\n",
       "3     220      17.0\n",
       "4     185      10.0"
      ]
     },
     "execution_count": 4,
     "metadata": {},
     "output_type": "execute_result"
    },
    {
     "data": {
      "application/javascript": [
       "\n",
       "            setTimeout(function() {\n",
       "                var nbb_cell_id = 4;\n",
       "                var nbb_unformatted_code = \"df = pd.DataFrame({\\\"cement\\\": cement, \\\"hardness\\\": hardness})\\ndf.head()\";\n",
       "                var nbb_formatted_code = \"df = pd.DataFrame({\\\"cement\\\": cement, \\\"hardness\\\": hardness})\\ndf.head()\";\n",
       "                var nbb_cells = Jupyter.notebook.get_cells();\n",
       "                for (var i = 0; i < nbb_cells.length; ++i) {\n",
       "                    if (nbb_cells[i].input_prompt_number == nbb_cell_id) {\n",
       "                        if (nbb_cells[i].get_text() == nbb_unformatted_code) {\n",
       "                             nbb_cells[i].set_text(nbb_formatted_code);\n",
       "                        }\n",
       "                        break;\n",
       "                    }\n",
       "                }\n",
       "            }, 500);\n",
       "            "
      ],
      "text/plain": [
       "<IPython.core.display.Javascript object>"
      ]
     },
     "metadata": {},
     "output_type": "display_data"
    }
   ],
   "source": [
    "df = pd.DataFrame({\"cement\": cement, \"hardness\": hardness})\n",
    "df.head()"
   ]
  },
  {
   "cell_type": "code",
   "execution_count": 5,
   "metadata": {
    "ExecuteTime": {
     "end_time": "2020-09-04T16:43:38.054669Z",
     "start_time": "2020-09-04T16:43:37.597075Z"
    }
   },
   "outputs": [
    {
     "data": {
      "image/png": "[encoded data removed]",
      "text/plain": [
       "<Figure size 432x288 with 1 Axes>"
      ]
     },
     "metadata": {
      "needs_background": "light"
     },
     "output_type": "display_data"
    },
    {
     "data": {
      "application/javascript": [
       "\n",
       "            setTimeout(function() {\n",
       "                var nbb_cell_id = 5;\n",
       "                var nbb_unformatted_code = \"f, ax1 = plt.subplots()\\nsp = sns.scatterplot(data=df, x=\\\"cement\\\", y=\\\"hardness\\\")\\nrp = sns.regplot(data=df, x=\\\"cement\\\", y=\\\"hardness\\\")\";\n",
       "                var nbb_formatted_code = \"f, ax1 = plt.subplots()\\nsp = sns.scatterplot(data=df, x=\\\"cement\\\", y=\\\"hardness\\\")\\nrp = sns.regplot(data=df, x=\\\"cement\\\", y=\\\"hardness\\\")\";\n",
       "                var nbb_cells = Jupyter.notebook.get_cells();\n",
       "                for (var i = 0; i < nbb_cells.length; ++i) {\n",
       "                    if (nbb_cells[i].input_prompt_number == nbb_cell_id) {\n",
       "                        if (nbb_cells[i].get_text() == nbb_unformatted_code) {\n",
       "                             nbb_cells[i].set_text(nbb_formatted_code);\n",
       "                        }\n",
       "                        break;\n",
       "                    }\n",
       "                }\n",
       "            }, 500);\n",
       "            "
      ],
      "text/plain": [
       "<IPython.core.display.Javascript object>"
      ]
     },
     "metadata": {},
     "output_type": "display_data"
    }
   ],
   "source": [
    "f, ax1 = plt.subplots()\n",
    "sp = sns.scatterplot(data=df, x=\"cement\", y=\"hardness\")\n",
    "rp = sns.regplot(data=df, x=\"cement\", y=\"hardness\")"
   ]
  },
  {
   "cell_type": "markdown",
   "metadata": {},
   "source": [
    "Get linear regression equation\n",
    "https://stackoverflow.com/questions/33490833/display-regression-equation-in-seaborn-regplot"
   ]
  },
  {
   "cell_type": "code",
   "execution_count": 9,
   "metadata": {
    "ExecuteTime": {
     "end_time": "2020-09-04T15:39:15.992483Z",
     "start_time": "2020-09-04T15:39:15.938852Z"
    }
   },
   "outputs": [
    {
     "name": "stdout",
     "output_type": "stream",
     "text": [
      "0.18647089842462597 -24.066557906532182 1.0 0.0 0.0\n"
     ]
    },
    {
     "data": {
      "application/javascript": [
       "\n",
       "            setTimeout(function() {\n",
       "                var nbb_cell_id = 9;\n",
       "                var nbb_unformatted_code = \"slope, intercept, r_value, p_value, std_err = stats.linregress(\\n    x=rp.get_lines()[0].get_xdata(), y=rp.get_lines()[0].get_ydata()\\n)\\n\\nprint(slope, intercept, r_value, p_value, std_err)\";\n",
       "                var nbb_formatted_code = \"slope, intercept, r_value, p_value, std_err = stats.linregress(\\n    x=rp.get_lines()[0].get_xdata(), y=rp.get_lines()[0].get_ydata()\\n)\\n\\nprint(slope, intercept, r_value, p_value, std_err)\";\n",
       "                var nbb_cells = Jupyter.notebook.get_cells();\n",
       "                for (var i = 0; i < nbb_cells.length; ++i) {\n",
       "                    if (nbb_cells[i].input_prompt_number == nbb_cell_id) {\n",
       "                        if (nbb_cells[i].get_text() == nbb_unformatted_code) {\n",
       "                             nbb_cells[i].set_text(nbb_formatted_code);\n",
       "                        }\n",
       "                        break;\n",
       "                    }\n",
       "                }\n",
       "            }, 500);\n",
       "            "
      ],
      "text/plain": [
       "<IPython.core.display.Javascript object>"
      ]
     },
     "metadata": {},
     "output_type": "display_data"
    }
   ],
   "source": [
    "slope, intercept, r_value, p_value, std_err = stats.linregress(\n",
    "    x=rp.get_lines()[0].get_xdata(), y=rp.get_lines()[0].get_ydata()\n",
    ")\n",
    "\n",
    "print(slope, intercept, r_value, p_value, std_err)"
   ]
  },
  {
   "cell_type": "code",
   "execution_count": 13,
   "metadata": {
    "ExecuteTime": {
     "end_time": "2020-09-04T16:49:07.201683Z",
     "start_time": "2020-09-04T16:49:06.690229Z"
    }
   },
   "outputs": [
    {
     "data": {
      "image/png": "[encoded data removed]",
      "text/plain": [
       "<Figure size 640x480 with 1 Axes>"
      ]
     },
     "metadata": {},
     "output_type": "display_data"
    },
    {
     "data": {
      "text/plain": [
       "<ggplot: (-9223372036541879415)>"
      ]
     },
     "execution_count": 13,
     "metadata": {},
     "output_type": "execute_result"
    },
    {
     "data": {
      "application/javascript": [
       "\n",
       "            setTimeout(function() {\n",
       "                var nbb_cell_id = 13;\n",
       "                var nbb_unformatted_code = \"(ggplot(df, aes(x=\\\"cement\\\", y=\\\"hardness\\\"))\\n + geom_point(fill='none')\\n + stat_smooth(method='lm')\\n)\";\n",
       "                var nbb_formatted_code = \"(\\n    ggplot(df, aes(x=\\\"cement\\\", y=\\\"hardness\\\"))\\n    + geom_point(fill=\\\"none\\\")\\n    + stat_smooth(method=\\\"lm\\\")\\n)\";\n",
       "                var nbb_cells = Jupyter.notebook.get_cells();\n",
       "                for (var i = 0; i < nbb_cells.length; ++i) {\n",
       "                    if (nbb_cells[i].input_prompt_number == nbb_cell_id) {\n",
       "                        if (nbb_cells[i].get_text() == nbb_unformatted_code) {\n",
       "                             nbb_cells[i].set_text(nbb_formatted_code);\n",
       "                        }\n",
       "                        break;\n",
       "                    }\n",
       "                }\n",
       "            }, 500);\n",
       "            "
      ],
      "text/plain": [
       "<IPython.core.display.Javascript object>"
      ]
     },
     "metadata": {},
     "output_type": "display_data"
    }
   ],
   "source": [
    "(ggplot(df, aes(x=\"cement\", y=\"hardness\"))\n",
    " + geom_point(fill='none')\n",
    " + stat_smooth(method='lm')\n",
    ")\n"
   ]
  },
  {
   "cell_type": "code",
   "execution_count": null,
   "metadata": {},
   "outputs": [],
   "source": []
  },
  {
   "cell_type": "markdown",
   "metadata": {
    "ExecuteTime": {
     "end_time": "2020-09-03T18:01:23.174119Z",
     "start_time": "2020-09-03T18:01:23.151935Z"
    }
   },
   "source": [
    "# --"
   ]
  },
  {
   "cell_type": "code",
   "execution_count": null,
   "metadata": {},
   "outputs": [],
   "source": []
  }
 ],
 "metadata": {
  "kernelspec": {
   "display_name": "Python 3",
   "language": "python",
   "name": "python3"
  },
  "language_info": {
   "codemirror_mode": {
    "name": "ipython",
    "version": 3
   },
   "file_extension": ".py",
   "mimetype": "text/x-python",
   "name": "python",
   "nbconvert_exporter": "python",
   "pygments_lexer": "ipython3",
   "version": "3.6.9"
  },
  "toc": {
   "base_numbering": 1,
   "nav_menu": {},
   "number_sections": true,
   "sideBar": true,
   "skip_h1_title": false,
   "title_cell": "Table of Contents",
   "title_sidebar": "Contents",
   "toc_cell": false,
   "toc_position": {},
   "toc_section_display": true,
   "toc_window_display": true
  },
  "varInspector": {
   "cols": {
    "lenName": 16,
    "lenType": 16,
    "lenVar": 40
   },
   "kernels_config": {
    "python": {
     "delete_cmd_postfix": "",
     "delete_cmd_prefix": "del ",
     "library": "var_list.py",
     "varRefreshCmd": "print(var_dic_list())"
    },
    "r": {
     "delete_cmd_postfix": ") ",
     "delete_cmd_prefix": "rm(",
     "library": "var_list.r",
     "varRefreshCmd": "cat(var_dic_list()) "
    }
   },
   "types_to_exclude": [
    "module",
    "function",
    "builtin_function_or_method",
    "instance",
    "_Feature"
   ],
   "window_display": false
  }
 },
 "nbformat": 4,
 "nbformat_minor": 4
}
