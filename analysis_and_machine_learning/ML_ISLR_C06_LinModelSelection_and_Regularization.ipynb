{
 "cells": [
  {
   "cell_type": "markdown",
   "metadata": {},
   "source": [
    "**Linear Model Selection and Regularization**\n",
    "\n",
    "[ISLR Chapter 6](https://link.springer.com/chapter/10.1007/978-1-4614-7138-7_6)\n",
    "\n",
    "This chapter discusses some ways in which the simple linear model can be improved, by **replacing** plain least squares fitting with some alternative fitting procedures.\n",
    "\n",
    "Why might we want to use another fitting procedure instead of least squares? Alternative fitting procedures can yield better prediction accuracy and model interpretability.\n",
    "\n",
    "- Prediction accuracy: If n >> p (number of samples >> number of features), then the least squares estimate coefficients tend to have lower variance. But as the ratio of n:p gets smaller and smaller, the variability goes up to the point where if p >> n, then there can no longer be a *unique* least squares coefficient estimate. The variance is essentially infinite [(see here)](https://stats.stackexchange.com/questions/205987/how-variance-becomes-infinite#:~:text=p%2DNo.,cannot%20be%20used%20at%20all.). Constraining or shrinking the coefficients will reduce the variance at a neglible cost to bias. This can lead to substantial improvements in accuracy.\n",
    "\n",
    "- Model interpretability: Including *irrelevant* models leads to unnecessary complexity in the model.\n",
    "\n",
    "**Name three alternatives to using ordinary least squares in a linear model.**\n",
    "1. Subset selection\n",
    "2. Shrinkage (regularization)\n",
    "3. Dimension reduction\n"
   ]
  },
  {
   "cell_type": "markdown",
   "metadata": {},
   "source": [
    "CSVs for sample data can be found here: https://github.com/JWarmenhoven/ISLR-python/tree/master/Notebooks/Data"
   ]
  },
  {
   "cell_type": "code",
   "execution_count": 2,
   "metadata": {
    "ExecuteTime": {
     "end_time": "2020-07-07T16:53:47.296593Z",
     "start_time": "2020-07-07T16:53:45.240396Z"
    }
   },
   "outputs": [
    {
     "data": {
      "application/javascript": [
       "\n",
       "            setTimeout(function() {\n",
       "                var nbb_cell_id = 2;\n",
       "                var nbb_unformatted_code = \"import os\\nimport pandas as pd\\nimport numpy as np\\nimport matplotlib.pyplot as plt\\nimport seaborn as sns\\n\\n# Code formatting Jupyter black\\n%load_ext nb_black\";\n",
       "                var nbb_formatted_code = \"import os\\nimport pandas as pd\\nimport numpy as np\\nimport matplotlib.pyplot as plt\\nimport seaborn as sns\\n\\n# Code formatting Jupyter black\\n%load_ext nb_black\";\n",
       "                var nbb_cells = Jupyter.notebook.get_cells();\n",
       "                for (var i = 0; i < nbb_cells.length; ++i) {\n",
       "                    if (nbb_cells[i].input_prompt_number == nbb_cell_id) {\n",
       "                        if (nbb_cells[i].get_text() == nbb_unformatted_code) {\n",
       "                             nbb_cells[i].set_text(nbb_formatted_code);\n",
       "                        }\n",
       "                        break;\n",
       "                    }\n",
       "                }\n",
       "            }, 500);\n",
       "            "
      ],
      "text/plain": [
       "<IPython.core.display.Javascript object>"
      ]
     },
     "metadata": {},
     "output_type": "display_data"
    }
   ],
   "source": [
    "import os\n",
    "import pandas as pd\n",
    "import numpy as np\n",
    "import matplotlib.pyplot as plt\n",
    "import seaborn as sns\n",
    "\n",
    "# Code formatting Jupyter black\n",
    "%load_ext nb_black"
   ]
  },
  {
   "cell_type": "markdown",
   "metadata": {},
   "source": [
    "[Writing math symbols in markdown](https://jupyter-notebook.readthedocs.io/en/stable/examples/Notebook/Typesetting%20Equations.html)\n",
    "\n",
    "[quick reference](https://math.meta.stackexchange.com/questions/5020/mathjax-basic-tutorial-and-quick-reference)"
   ]
  },
  {
   "cell_type": "markdown",
   "metadata": {},
   "source": [
    "# Subset selection\n"
   ]
  },
  {
   "cell_type": "markdown",
   "metadata": {},
   "source": [
    "# Shrinkage Methods"
   ]
  },
  {
   "cell_type": "code",
   "execution_count": null,
   "metadata": {},
   "outputs": [],
   "source": []
  },
  {
   "cell_type": "markdown",
   "metadata": {},
   "source": [
    "## Ridge regression"
   ]
  },
  {
   "cell_type": "code",
   "execution_count": null,
   "metadata": {},
   "outputs": [],
   "source": []
  },
  {
   "cell_type": "code",
   "execution_count": null,
   "metadata": {},
   "outputs": [],
   "source": []
  },
  {
   "cell_type": "code",
   "execution_count": null,
   "metadata": {},
   "outputs": [],
   "source": []
  },
  {
   "cell_type": "markdown",
   "metadata": {},
   "source": [
    "# Dimension Reduction Methods\n",
    "\n",
    "Above methods have controlled variance either by using a subset of the original variables or by shrinking their coefficients towards zero. All of the methods are defined using the original predictors. Here we look at a class of approaches that *transform* the predictors and then fit a least squares model using the transformed variables.\n"
   ]
  },
  {
   "cell_type": "markdown",
   "metadata": {},
   "source": [
    "Let $Z_1, Z_2,...Z_M$ represent M < p linear combinations of our original p predictors. That is,\n",
    "\n",
    "$𝑍_𝑚 = \\sum_{j=1}^p \\phi_{jm}X_j $  (6.16)\n",
    "\n",
    "for some constants $\\phi_{1m}, \\phi_{2m}..., \\phi_{pm} m = 1, ...M.  $\n",
    "\n",
    "We can then fit the linear regression model\n",
    "\n",
    "$ y_i = \\theta_0 + \\sum_{m=1}^M \\phi_{m}z_{im} + \\epsilon_i,   i = 1, ..., n $  (6.17)\n",
    "\n",
    "using least squares. This approach where the $\\phi$ constants are chosen wisely can possibly show that the dimension reduction approach can often outperform least squares regression. From equation substitutions, (6.16) and (6.17) can be synthesized to produce:\n",
    "\n",
    "$\\beta_j = \\sum_{m=1}^{M}\\theta_{m}\\phi_{jm}$   (6.18)\n",
    "\n",
    "Equation 6.17 can be thought of a special case of the original linear regression model. This constraint on the form of the coefficients has the potential to bias the coefficient estimates. However, **in situations where p > n (number of features is large compared to number of samples), then selecting a value of M << p can significantly reduce the variance of the fitted coefficients. Andrew Ng's course does not recommend using principal components regression but insteads suggests using regularization in this situation instead.**)** Note that if M = p, and all the $Z_m$ are linearly independent, then 6.18 poses no constraints. In this case, no dimension reduction actually occurs.\n",
    "\n",
    "The choice of $Z_1, Z_2,...Z_M$ can be achieved in different ways. In this chapter, we will consider two approaches for this task: principal components and partial least squares."
   ]
  },
  {
   "cell_type": "markdown",
   "metadata": {},
   "source": [
    "## Principal Components Regression\n",
    "\n",
    "Principal components analysis (PCA) is a popular approach for deriving a low-dimensional set of features from a large set of variables. PCA is discussed in greater detail as a tool for unsupervised learning in  Chapter 10. Here we describe its use as a dimension reduction technique for regression."
   ]
  },
  {
   "cell_type": "markdown",
   "metadata": {},
   "source": [
    "**An Overview of Principal Components Analysis**"
   ]
  },
  {
   "cell_type": "markdown",
   "metadata": {},
   "source": [
    "Note that the `Advertising` data in this textbook's section does not reflect the data in the actual .csv file. I will make the following modifications after importing the data:\n",
    "- create an \"ad_spending\" column which will assume be the sum of `TV`, `Radio`, and `Newspaper\n",
    "- subset the data so it shows 100 cities\n",
    "- synthesize data and create a \"Population\" column which is roughly correlated with the `ad_spending` column"
   ]
  },
  {
   "cell_type": "code",
   "execution_count": 65,
   "metadata": {
    "ExecuteTime": {
     "end_time": "2020-07-07T17:25:14.423498Z",
     "start_time": "2020-07-07T17:25:14.395504Z"
    }
   },
   "outputs": [
    {
     "data": {
      "application/javascript": [
       "\n",
       "            setTimeout(function() {\n",
       "                var nbb_cell_id = 65;\n",
       "                var nbb_unformatted_code = \"df_ads = pd.read_csv(\\\"ISLR_data/Advertising.csv\\\", index_col=0)\\ndf_ads[\\\"Ad_Spending\\\"] = df_ads[\\\"Radio\\\"].copy()\\ndf_ads = df_ads.sample(n=100, replace=False)\\ndf_ads[\\\"Population\\\"] = round(1500 * (df_ads[\\\"Ad_Spending\\\"]) + np.random.normal(\\n    loc=5000, scale=10000, size=100\\n))\";\n",
       "                var nbb_formatted_code = \"df_ads = pd.read_csv(\\\"ISLR_data/Advertising.csv\\\", index_col=0)\\ndf_ads[\\\"Ad_Spending\\\"] = df_ads[\\\"Radio\\\"].copy()\\ndf_ads = df_ads.sample(n=100, replace=False)\\ndf_ads[\\\"Population\\\"] = round(\\n    1500 * (df_ads[\\\"Ad_Spending\\\"]) + np.random.normal(loc=5000, scale=10000, size=100)\\n)\";\n",
       "                var nbb_cells = Jupyter.notebook.get_cells();\n",
       "                for (var i = 0; i < nbb_cells.length; ++i) {\n",
       "                    if (nbb_cells[i].input_prompt_number == nbb_cell_id) {\n",
       "                        if (nbb_cells[i].get_text() == nbb_unformatted_code) {\n",
       "                             nbb_cells[i].set_text(nbb_formatted_code);\n",
       "                        }\n",
       "                        break;\n",
       "                    }\n",
       "                }\n",
       "            }, 500);\n",
       "            "
      ],
      "text/plain": [
       "<IPython.core.display.Javascript object>"
      ]
     },
     "metadata": {},
     "output_type": "display_data"
    }
   ],
   "source": [
    "df_ads = pd.read_csv(\"ISLR_data/Advertising.csv\", index_col=0)\n",
    "df_ads[\"Ad_Spending\"] = df_ads[\"Radio\"].copy()\n",
    "df_ads = df_ads.sample(n=100, replace=False)\n",
    "df_ads[\"Population\"] = round(\n",
    "    1500 * (df_ads[\"Ad_Spending\"]) + np.random.normal(loc=5000, scale=10000, size=100)\n",
    ")"
   ]
  },
  {
   "cell_type": "code",
   "execution_count": 69,
   "metadata": {
    "ExecuteTime": {
     "end_time": "2020-07-07T17:25:51.487764Z",
     "start_time": "2020-07-07T17:25:51.277697Z"
    }
   },
   "outputs": [
    {
     "data": {
      "text/plain": [
       "Text(0.5, 1.0, 'Simulated data for PCA example')"
      ]
     },
     "execution_count": 69,
     "metadata": {},
     "output_type": "execute_result"
    },
    {
     "data": {
      "image/png": "[encoded data removed]",
      "text/plain": [
       "<Figure size 432x288 with 1 Axes>"
      ]
     },
     "metadata": {
      "needs_background": "light"
     },
     "output_type": "display_data"
    },
    {
     "data": {
      "application/javascript": [
       "\n",
       "            setTimeout(function() {\n",
       "                var nbb_cell_id = 69;\n",
       "                var nbb_unformatted_code = \"f, ax1 = plt.subplots()\\nsns.scatterplot(data=df_ads, x=\\\"Population\\\", y=\\\"Ad_Spending\\\")\\nax1.set_title(\\\"Simulated data for PCA example\\\")\";\n",
       "                var nbb_formatted_code = \"f, ax1 = plt.subplots()\\nsns.scatterplot(data=df_ads, x=\\\"Population\\\", y=\\\"Ad_Spending\\\")\\nax1.set_title(\\\"Simulated data for PCA example\\\")\";\n",
       "                var nbb_cells = Jupyter.notebook.get_cells();\n",
       "                for (var i = 0; i < nbb_cells.length; ++i) {\n",
       "                    if (nbb_cells[i].input_prompt_number == nbb_cell_id) {\n",
       "                        if (nbb_cells[i].get_text() == nbb_unformatted_code) {\n",
       "                             nbb_cells[i].set_text(nbb_formatted_code);\n",
       "                        }\n",
       "                        break;\n",
       "                    }\n",
       "                }\n",
       "            }, 500);\n",
       "            "
      ],
      "text/plain": [
       "<IPython.core.display.Javascript object>"
      ]
     },
     "metadata": {},
     "output_type": "display_data"
    }
   ],
   "source": [
    "f, ax1 = plt.subplots()\n",
    "sns.scatterplot(data=df_ads, x=\"Population\", y=\"Ad_Spending\")\n",
    "ax1.set_title(\"Simulated data for PCA example\")"
   ]
  },
  {
   "cell_type": "markdown",
   "metadata": {},
   "source": [
    "PCA is a technique for reducing the dimension of a $n \\times p$ data matrix X. The first principal component direction of the data is that along which the observations vary the most. For instance, consider the figure which shows population size (pop) in tens of thousands of people, and ad spending for a particular company (ad) in thousands of dollars, for 100 cities."
   ]
  },
  {
   "cell_type": "code",
   "execution_count": 70,
   "metadata": {
    "ExecuteTime": {
     "end_time": "2020-07-07T17:34:18.186824Z",
     "start_time": "2020-07-07T17:34:16.112564Z"
    }
   },
   "outputs": [
    {
     "data": {
      "text/plain": [
       "PCA(copy=True, iterated_power='auto', n_components=2, random_state=None,\n",
       "    svd_solver='auto', tol=0.0, whiten=False)"
      ]
     },
     "execution_count": 70,
     "metadata": {},
     "output_type": "execute_result"
    },
    {
     "data": {
      "application/javascript": [
       "\n",
       "            setTimeout(function() {\n",
       "                var nbb_cell_id = 70;\n",
       "                var nbb_unformatted_code = \"# Get principal components\\n\\nfrom sklearn.decomposition import PCA\\npca = PCA(n_components=2)\\n\\nX =  df_ads[['Population', 'Ad_Spending']]\\npca.fit(X)\";\n",
       "                var nbb_formatted_code = \"# Get principal components\\n\\nfrom sklearn.decomposition import PCA\\n\\npca = PCA(n_components=2)\\n\\nX = df_ads[[\\\"Population\\\", \\\"Ad_Spending\\\"]]\\npca.fit(X)\";\n",
       "                var nbb_cells = Jupyter.notebook.get_cells();\n",
       "                for (var i = 0; i < nbb_cells.length; ++i) {\n",
       "                    if (nbb_cells[i].input_prompt_number == nbb_cell_id) {\n",
       "                        if (nbb_cells[i].get_text() == nbb_unformatted_code) {\n",
       "                             nbb_cells[i].set_text(nbb_formatted_code);\n",
       "                        }\n",
       "                        break;\n",
       "                    }\n",
       "                }\n",
       "            }, 500);\n",
       "            "
      ],
      "text/plain": [
       "<IPython.core.display.Javascript object>"
      ]
     },
     "metadata": {},
     "output_type": "display_data"
    }
   ],
   "source": [
    "# Get principal components\n",
    "# See also here: https://jakevdp.github.io/PythonDataScienceHandbook/05.09-principal-component-analysis.html\n",
    "\n",
    "from sklearn.decomposition import PCA\n",
    "pca = PCA(n_components=2)\n",
    "\n",
    "X = df_ads[[\"Population\", \"Ad_Spending\"]]\n",
    "pca.fit(X)"
   ]
  },
  {
   "cell_type": "code",
   "execution_count": 71,
   "metadata": {
    "ExecuteTime": {
     "end_time": "2020-07-07T17:34:30.825142Z",
     "start_time": "2020-07-07T17:34:30.814606Z"
    }
   },
   "outputs": [
    {
     "name": "stdout",
     "output_type": "stream",
     "text": [
      "[[ 9.99999852e-01  5.44577186e-04]\n",
      " [-5.44577186e-04  9.99999852e-01]]\n"
     ]
    },
    {
     "data": {
      "application/javascript": [
       "\n",
       "            setTimeout(function() {\n",
       "                var nbb_cell_id = 71;\n",
       "                var nbb_unformatted_code = \"print(pca.components_)\";\n",
       "                var nbb_formatted_code = \"print(pca.components_)\";\n",
       "                var nbb_cells = Jupyter.notebook.get_cells();\n",
       "                for (var i = 0; i < nbb_cells.length; ++i) {\n",
       "                    if (nbb_cells[i].input_prompt_number == nbb_cell_id) {\n",
       "                        if (nbb_cells[i].get_text() == nbb_unformatted_code) {\n",
       "                             nbb_cells[i].set_text(nbb_formatted_code);\n",
       "                        }\n",
       "                        break;\n",
       "                    }\n",
       "                }\n",
       "            }, 500);\n",
       "            "
      ],
      "text/plain": [
       "<IPython.core.display.Javascript object>"
      ]
     },
     "metadata": {},
     "output_type": "display_data"
    }
   ],
   "source": [
    "print(pca.components_)"
   ]
  },
  {
   "cell_type": "code",
   "execution_count": 72,
   "metadata": {
    "ExecuteTime": {
     "end_time": "2020-07-07T17:34:39.282453Z",
     "start_time": "2020-07-07T17:34:39.272812Z"
    }
   },
   "outputs": [
    {
     "name": "stdout",
     "output_type": "stream",
     "text": [
      "[5.91399703e+08 3.35423237e+01]\n"
     ]
    },
    {
     "data": {
      "application/javascript": [
       "\n",
       "            setTimeout(function() {\n",
       "                var nbb_cell_id = 72;\n",
       "                var nbb_unformatted_code = \"print(pca.explained_variance_)\";\n",
       "                var nbb_formatted_code = \"print(pca.explained_variance_)\";\n",
       "                var nbb_cells = Jupyter.notebook.get_cells();\n",
       "                for (var i = 0; i < nbb_cells.length; ++i) {\n",
       "                    if (nbb_cells[i].input_prompt_number == nbb_cell_id) {\n",
       "                        if (nbb_cells[i].get_text() == nbb_unformatted_code) {\n",
       "                             nbb_cells[i].set_text(nbb_formatted_code);\n",
       "                        }\n",
       "                        break;\n",
       "                    }\n",
       "                }\n",
       "            }, 500);\n",
       "            "
      ],
      "text/plain": [
       "<IPython.core.display.Javascript object>"
      ]
     },
     "metadata": {},
     "output_type": "display_data"
    }
   ],
   "source": [
    "print(pca.explained_variance_)"
   ]
  },
  {
   "cell_type": "code",
   "execution_count": 75,
   "metadata": {
    "ExecuteTime": {
     "end_time": "2020-07-07T17:36:28.216835Z",
     "start_time": "2020-07-07T17:36:28.201711Z"
    }
   },
   "outputs": [
    {
     "data": {
      "application/javascript": [
       "\n",
       "            setTimeout(function() {\n",
       "                var nbb_cell_id = 75;\n",
       "                var nbb_unformatted_code = \"def draw_vector(v0, v1, ax=None):\\n    ax = ax or plt.gca()\\n    arrowprops=dict(arrowstyle='->',\\n                    linewidth=2,\\n                    shrinkA=0, shrinkB=0)\\n    ax.annotate('', v1, v0, arrowprops=arrowprops)\";\n",
       "                var nbb_formatted_code = \"def draw_vector(v0, v1, ax=None):\\n    ax = ax or plt.gca()\\n    arrowprops = dict(arrowstyle=\\\"->\\\", linewidth=2, shrinkA=0, shrinkB=0)\\n    ax.annotate(\\\"\\\", v1, v0, arrowprops=arrowprops)\";\n",
       "                var nbb_cells = Jupyter.notebook.get_cells();\n",
       "                for (var i = 0; i < nbb_cells.length; ++i) {\n",
       "                    if (nbb_cells[i].input_prompt_number == nbb_cell_id) {\n",
       "                        if (nbb_cells[i].get_text() == nbb_unformatted_code) {\n",
       "                             nbb_cells[i].set_text(nbb_formatted_code);\n",
       "                        }\n",
       "                        break;\n",
       "                    }\n",
       "                }\n",
       "            }, 500);\n",
       "            "
      ],
      "text/plain": [
       "<IPython.core.display.Javascript object>"
      ]
     },
     "metadata": {},
     "output_type": "display_data"
    }
   ],
   "source": [
    "def draw_vector(v0, v1, ax=None):\n",
    "    ax = ax or plt.gca()\n",
    "    arrowprops = dict(arrowstyle=\"->\", linewidth=2, shrinkA=0, shrinkB=0)\n",
    "    ax.annotate(\"\", v1, v0, arrowprops=arrowprops)"
   ]
  },
  {
   "cell_type": "code",
   "execution_count": 85,
   "metadata": {
    "ExecuteTime": {
     "end_time": "2020-07-07T17:40:27.204555Z",
     "start_time": "2020-07-07T17:40:26.991866Z"
    }
   },
   "outputs": [
    {
     "data": {
      "text/plain": [
       "(-10105.159856630824, 99106.15985663084, -2.180176600441501, 52.08017660044149)"
      ]
     },
     "execution_count": 85,
     "metadata": {},
     "output_type": "execute_result"
    },
    {
     "data": {
      "image/png": "[encoded data removed]",
      "text/plain": [
       "<Figure size 432x288 with 1 Axes>"
      ]
     },
     "metadata": {
      "needs_background": "light"
     },
     "output_type": "display_data"
    },
    {
     "data": {
      "application/javascript": [
       "\n",
       "            setTimeout(function() {\n",
       "                var nbb_cell_id = 85;\n",
       "                var nbb_unformatted_code = \"# plot data\\n\\nf, ax1 = plt.subplots()\\n# sns.scatterplot(data=df_ads, x=\\\"Population\\\", y=\\\"Ad_Spending\\\")\\n# ax1.set_title(\\\"Simulated data for PCA example\\\")\\n\\nax1.scatter(np.array(X)[:, 0], np.array(X)[:, 1], alpha=0.2)\\nfor length, vector in zip(pca.explained_variance_, pca.components_):\\n    v = vector * 3 * np.sqrt(length)\\n    draw_vector(pca.mean_, pca.mean_ + v, ax=ax1)\\nplt.axis(\\\"equal\\\")\";\n",
       "                var nbb_formatted_code = \"# plot data\\n\\nf, ax1 = plt.subplots()\\n# sns.scatterplot(data=df_ads, x=\\\"Population\\\", y=\\\"Ad_Spending\\\")\\n# ax1.set_title(\\\"Simulated data for PCA example\\\")\\n\\nax1.scatter(np.array(X)[:, 0], np.array(X)[:, 1], alpha=0.2)\\nfor length, vector in zip(pca.explained_variance_, pca.components_):\\n    v = vector * 3 * np.sqrt(length)\\n    draw_vector(pca.mean_, pca.mean_ + v, ax=ax1)\\nplt.axis(\\\"equal\\\")\";\n",
       "                var nbb_cells = Jupyter.notebook.get_cells();\n",
       "                for (var i = 0; i < nbb_cells.length; ++i) {\n",
       "                    if (nbb_cells[i].input_prompt_number == nbb_cell_id) {\n",
       "                        if (nbb_cells[i].get_text() == nbb_unformatted_code) {\n",
       "                             nbb_cells[i].set_text(nbb_formatted_code);\n",
       "                        }\n",
       "                        break;\n",
       "                    }\n",
       "                }\n",
       "            }, 500);\n",
       "            "
      ],
      "text/plain": [
       "<IPython.core.display.Javascript object>"
      ]
     },
     "metadata": {},
     "output_type": "display_data"
    }
   ],
   "source": [
    "# plot data\n",
    "\n",
    "f, ax1 = plt.subplots()\n",
    "# sns.scatterplot(data=df_ads, x=\"Population\", y=\"Ad_Spending\")\n",
    "# ax1.set_title(\"Simulated data for PCA example\")\n",
    "\n",
    "ax1.scatter(np.array(X)[:, 0], np.array(X)[:, 1], alpha=0.2)\n",
    "for length, vector in zip(pca.explained_variance_, pca.components_):\n",
    "    v = vector * 3 * np.sqrt(length)\n",
    "    draw_vector(pca.mean_, pca.mean_ + v, ax=ax1)\n",
    "plt.axis(\"equal\")"
   ]
  },
  {
   "cell_type": "code",
   "execution_count": null,
   "metadata": {},
   "outputs": [],
   "source": []
  },
  {
   "cell_type": "markdown",
   "metadata": {},
   "source": [
    "# --"
   ]
  }
 ],
 "metadata": {
  "kernelspec": {
   "display_name": "Python 3",
   "language": "python",
   "name": "python3"
  },
  "language_info": {
   "codemirror_mode": {
    "name": "ipython",
    "version": 3
   },
   "file_extension": ".py",
   "mimetype": "text/x-python",
   "name": "python",
   "nbconvert_exporter": "python",
   "pygments_lexer": "ipython3",
   "version": "3.6.9"
  },
  "toc": {
   "base_numbering": 1,
   "nav_menu": {},
   "number_sections": true,
   "sideBar": true,
   "skip_h1_title": false,
   "title_cell": "Table of Contents",
   "title_sidebar": "Contents",
   "toc_cell": false,
   "toc_position": {
    "height": "calc(100% - 180px)",
    "left": "10px",
    "top": "150px",
    "width": "239.767px"
   },
   "toc_section_display": true,
   "toc_window_display": true
  },
  "toc-autonumbering": true,
  "toc-showcode": false,
  "toc-showmarkdowntxt": false,
  "varInspector": {
   "cols": {
    "lenName": 16,
    "lenType": 16,
    "lenVar": 40
   },
   "kernels_config": {
    "python": {
     "delete_cmd_postfix": "",
     "delete_cmd_prefix": "del ",
     "library": "var_list.py",
     "varRefreshCmd": "print(var_dic_list())"
    },
    "r": {
     "delete_cmd_postfix": ") ",
     "delete_cmd_prefix": "rm(",
     "library": "var_list.r",
     "varRefreshCmd": "cat(var_dic_list()) "
    }
   },
   "types_to_exclude": [
    "module",
    "function",
    "builtin_function_or_method",
    "instance",
    "_Feature"
   ],
   "window_display": false
  }
 },
 "nbformat": 4,
 "nbformat_minor": 4
}
