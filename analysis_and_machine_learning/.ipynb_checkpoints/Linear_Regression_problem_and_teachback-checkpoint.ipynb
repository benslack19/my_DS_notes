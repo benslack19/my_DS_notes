{
 "cells": [
  {
   "cell_type": "markdown",
   "metadata": {},
   "source": [
    "# Linear regression"
   ]
  },
  {
   "cell_type": "code",
   "execution_count": 196,
   "metadata": {
    "ExecuteTime": {
     "end_time": "2020-04-28T16:52:31.444803Z",
     "start_time": "2020-04-28T16:52:30.174079Z"
    }
   },
   "outputs": [],
   "source": [
    "import matplotlib.pyplot as plt\n",
    "import numpy as np\n",
    "import pandas as pd\n",
    "import seaborn as sns"
   ]
  },
  {
   "cell_type": "code",
   "execution_count": null,
   "metadata": {},
   "outputs": [],
   "source": []
  },
  {
   "cell_type": "code",
   "execution_count": null,
   "metadata": {},
   "outputs": [],
   "source": []
  },
  {
   "cell_type": "code",
   "execution_count": null,
   "metadata": {},
   "outputs": [],
   "source": []
  },
  {
   "cell_type": "markdown",
   "metadata": {},
   "source": [
    "# Motivating example 1"
   ]
  },
  {
   "cell_type": "code",
   "execution_count": 197,
   "metadata": {},
   "outputs": [
    {
     "data": {
      "text/html": [
       "<div>\n",
       "<style scoped>\n",
       "    .dataframe tbody tr th:only-of-type {\n",
       "        vertical-align: middle;\n",
       "    }\n",
       "\n",
       "    .dataframe tbody tr th {\n",
       "        vertical-align: top;\n",
       "    }\n",
       "\n",
       "    .dataframe thead th {\n",
       "        text-align: right;\n",
       "    }\n",
       "</style>\n",
       "<table border=\"1\" class=\"dataframe\">\n",
       "  <thead>\n",
       "    <tr style=\"text-align: right;\">\n",
       "      <th></th>\n",
       "      <th>Income</th>\n",
       "      <th>Limit</th>\n",
       "      <th>Rating</th>\n",
       "      <th>Cards</th>\n",
       "      <th>Age</th>\n",
       "      <th>Education</th>\n",
       "      <th>Gender</th>\n",
       "      <th>Student</th>\n",
       "      <th>Married</th>\n",
       "      <th>Ethnicity</th>\n",
       "      <th>Balance</th>\n",
       "    </tr>\n",
       "  </thead>\n",
       "  <tbody>\n",
       "    <tr>\n",
       "      <th>1</th>\n",
       "      <td>14.891</td>\n",
       "      <td>3606</td>\n",
       "      <td>283</td>\n",
       "      <td>2</td>\n",
       "      <td>34</td>\n",
       "      <td>11</td>\n",
       "      <td>Male</td>\n",
       "      <td>No</td>\n",
       "      <td>Yes</td>\n",
       "      <td>Caucasian</td>\n",
       "      <td>333</td>\n",
       "    </tr>\n",
       "    <tr>\n",
       "      <th>2</th>\n",
       "      <td>106.025</td>\n",
       "      <td>6645</td>\n",
       "      <td>483</td>\n",
       "      <td>3</td>\n",
       "      <td>82</td>\n",
       "      <td>15</td>\n",
       "      <td>Female</td>\n",
       "      <td>Yes</td>\n",
       "      <td>Yes</td>\n",
       "      <td>Asian</td>\n",
       "      <td>903</td>\n",
       "    </tr>\n",
       "    <tr>\n",
       "      <th>3</th>\n",
       "      <td>104.593</td>\n",
       "      <td>7075</td>\n",
       "      <td>514</td>\n",
       "      <td>4</td>\n",
       "      <td>71</td>\n",
       "      <td>11</td>\n",
       "      <td>Male</td>\n",
       "      <td>No</td>\n",
       "      <td>No</td>\n",
       "      <td>Asian</td>\n",
       "      <td>580</td>\n",
       "    </tr>\n",
       "    <tr>\n",
       "      <th>4</th>\n",
       "      <td>148.924</td>\n",
       "      <td>9504</td>\n",
       "      <td>681</td>\n",
       "      <td>3</td>\n",
       "      <td>36</td>\n",
       "      <td>11</td>\n",
       "      <td>Female</td>\n",
       "      <td>No</td>\n",
       "      <td>No</td>\n",
       "      <td>Asian</td>\n",
       "      <td>964</td>\n",
       "    </tr>\n",
       "    <tr>\n",
       "      <th>5</th>\n",
       "      <td>55.882</td>\n",
       "      <td>4897</td>\n",
       "      <td>357</td>\n",
       "      <td>2</td>\n",
       "      <td>68</td>\n",
       "      <td>16</td>\n",
       "      <td>Male</td>\n",
       "      <td>No</td>\n",
       "      <td>Yes</td>\n",
       "      <td>Caucasian</td>\n",
       "      <td>331</td>\n",
       "    </tr>\n",
       "  </tbody>\n",
       "</table>\n",
       "</div>"
      ],
      "text/plain": [
       "    Income  Limit  Rating  Cards  Age  Education  Gender Student Married  \\\n",
       "1   14.891   3606     283      2   34         11    Male      No     Yes   \n",
       "2  106.025   6645     483      3   82         15  Female     Yes     Yes   \n",
       "3  104.593   7075     514      4   71         11    Male      No      No   \n",
       "4  148.924   9504     681      3   36         11  Female      No      No   \n",
       "5   55.882   4897     357      2   68         16    Male      No     Yes   \n",
       "\n",
       "   Ethnicity  Balance  \n",
       "1  Caucasian      333  \n",
       "2      Asian      903  \n",
       "3      Asian      580  \n",
       "4      Asian      964  \n",
       "5  Caucasian      331  "
      ]
     },
     "execution_count": 197,
     "metadata": {},
     "output_type": "execute_result"
    }
   ],
   "source": [
    "df_credit = pd.read_csv(\"ISLR_data/Credit.csv\", index_col=0)\n",
    "df_credit.head()"
   ]
  },
  {
   "cell_type": "code",
   "execution_count": 198,
   "metadata": {},
   "outputs": [
    {
     "data": {
      "image/png": "[encoded data removed]",
      "text/plain": [
       "<Figure size 1008x288 with 3 Axes>"
      ]
     },
     "metadata": {
      "needs_background": "light"
     },
     "output_type": "display_data"
    }
   ],
   "source": [
    "f, (ax1, ax2, ax3) = plt.subplots(1, 3, figsize=(14, 4))\n",
    "sns.scatterplot(x='Limit', y='Rating', data=df_credit, ax=ax1)\n",
    "sns.scatterplot(x='Limit', y='Balance', data=df_credit, ax=ax2);\n",
    "sns.scatterplot(x='Education', y='Balance', data=df_credit, ax=ax3)\n",
    "plt.tight_layout();"
   ]
  },
  {
   "cell_type": "markdown",
   "metadata": {},
   "source": [
    "## Generate a smaller test set"
   ]
  },
  {
   "cell_type": "code",
   "execution_count": 166,
   "metadata": {},
   "outputs": [],
   "source": [
    "df_credit_sample = df_credit.sample(9, random_state=0).reset_index()"
   ]
  },
  {
   "cell_type": "code",
   "execution_count": 167,
   "metadata": {},
   "outputs": [
    {
     "data": {
      "image/png": "[encoded data removed]",
      "text/plain": [
       "<Figure size 1008x288 with 3 Axes>"
      ]
     },
     "metadata": {
      "needs_background": "light"
     },
     "output_type": "display_data"
    }
   ],
   "source": [
    "f, (ax1, ax2, ax3) = plt.subplots(1, 3, figsize=(14, 4))\n",
    "sns.scatterplot(x='Limit', y='Rating', data=df_credit_sample, ax=ax1)\n",
    "sns.scatterplot(x='Limit', y='Balance', data=df_credit_sample, ax=ax2);\n",
    "sns.scatterplot(x='Education', y='Balance', data=df_credit_sample, ax=ax3)\n",
    "plt.tight_layout();"
   ]
  },
  {
   "cell_type": "markdown",
   "metadata": {},
   "source": [
    "## Determine least squares model fit"
   ]
  },
  {
   "cell_type": "markdown",
   "metadata": {},
   "source": [
    "### With statsmodels"
   ]
  },
  {
   "cell_type": "code",
   "execution_count": 168,
   "metadata": {},
   "outputs": [],
   "source": [
    "import statsmodels.api as sm\n",
    "# https://www.statsmodels.org/stable/regression.html\n",
    "# https://www.statsmodels.org/stable/endog_exog.html"
   ]
  },
  {
   "cell_type": "code",
   "execution_count": 169,
   "metadata": {},
   "outputs": [],
   "source": [
    "# endog=target, exog=features\n",
    "X = df_credit_sample[\"Limit\"]\n",
    "y = df_credit_sample[\"Balance\"]\n",
    "X1 = sm.add_constant(X.values)  # Vector of 1s is needed"
   ]
  },
  {
   "cell_type": "code",
   "execution_count": 170,
   "metadata": {},
   "outputs": [
    {
     "name": "stderr",
     "output_type": "stream",
     "text": [
      "/Users/lacar/anaconda/envs/insight/lib/python3.6/site-packages/scipy/stats/stats.py:1535: UserWarning: kurtosistest only valid for n>=20 ... continuing anyway, n=9\n",
      "  \"anyway, n=%i\" % int(n))\n"
     ]
    },
    {
     "data": {
      "text/html": [
       "<table class=\"simpletable\">\n",
       "<caption>OLS Regression Results</caption>\n",
       "<tr>\n",
       "  <th>Dep. Variable:</th>         <td>Balance</td>     <th>  R-squared:         </th> <td>   0.825</td>\n",
       "</tr>\n",
       "<tr>\n",
       "  <th>Model:</th>                   <td>OLS</td>       <th>  Adj. R-squared:    </th> <td>   0.800</td>\n",
       "</tr>\n",
       "<tr>\n",
       "  <th>Method:</th>             <td>Least Squares</td>  <th>  F-statistic:       </th> <td>   33.10</td>\n",
       "</tr>\n",
       "<tr>\n",
       "  <th>Date:</th>             <td>Tue, 05 May 2020</td> <th>  Prob (F-statistic):</th> <td>0.000696</td>\n",
       "</tr>\n",
       "<tr>\n",
       "  <th>Time:</th>                 <td>23:02:03</td>     <th>  Log-Likelihood:    </th> <td> -56.991</td>\n",
       "</tr>\n",
       "<tr>\n",
       "  <th>No. Observations:</th>      <td>     9</td>      <th>  AIC:               </th> <td>   118.0</td>\n",
       "</tr>\n",
       "<tr>\n",
       "  <th>Df Residuals:</th>          <td>     7</td>      <th>  BIC:               </th> <td>   118.4</td>\n",
       "</tr>\n",
       "<tr>\n",
       "  <th>Df Model:</th>              <td>     1</td>      <th>                     </th>     <td> </td>   \n",
       "</tr>\n",
       "<tr>\n",
       "  <th>Covariance Type:</th>      <td>nonrobust</td>    <th>                     </th>     <td> </td>   \n",
       "</tr>\n",
       "</table>\n",
       "<table class=\"simpletable\">\n",
       "<tr>\n",
       "    <td></td>       <th>coef</th>     <th>std err</th>      <th>t</th>      <th>P>|t|</th>  <th>[0.025</th>    <th>0.975]</th>  \n",
       "</tr>\n",
       "<tr>\n",
       "  <th>const</th> <td> -108.1299</td> <td>  134.419</td> <td>   -0.804</td> <td> 0.448</td> <td> -425.981</td> <td>  209.721</td>\n",
       "</tr>\n",
       "<tr>\n",
       "  <th>x1</th>    <td>    0.1296</td> <td>    0.023</td> <td>    5.753</td> <td> 0.001</td> <td>    0.076</td> <td>    0.183</td>\n",
       "</tr>\n",
       "</table>\n",
       "<table class=\"simpletable\">\n",
       "<tr>\n",
       "  <th>Omnibus:</th>       <td> 5.481</td> <th>  Durbin-Watson:     </th> <td>   0.806</td>\n",
       "</tr>\n",
       "<tr>\n",
       "  <th>Prob(Omnibus):</th> <td> 0.065</td> <th>  Jarque-Bera (JB):  </th> <td>   1.915</td>\n",
       "</tr>\n",
       "<tr>\n",
       "  <th>Skew:</th>          <td> 1.101</td> <th>  Prob(JB):          </th> <td>   0.384</td>\n",
       "</tr>\n",
       "<tr>\n",
       "  <th>Kurtosis:</th>      <td> 3.509</td> <th>  Cond. No.          </th> <td>1.56e+04</td>\n",
       "</tr>\n",
       "</table><br/><br/>Warnings:<br/>[1] Standard Errors assume that the covariance matrix of the errors is correctly specified.<br/>[2] The condition number is large, 1.56e+04. This might indicate that there are<br/>strong multicollinearity or other numerical problems."
      ],
      "text/plain": [
       "<class 'statsmodels.iolib.summary.Summary'>\n",
       "\"\"\"\n",
       "                            OLS Regression Results                            \n",
       "==============================================================================\n",
       "Dep. Variable:                Balance   R-squared:                       0.825\n",
       "Model:                            OLS   Adj. R-squared:                  0.800\n",
       "Method:                 Least Squares   F-statistic:                     33.10\n",
       "Date:                Tue, 05 May 2020   Prob (F-statistic):           0.000696\n",
       "Time:                        23:02:03   Log-Likelihood:                -56.991\n",
       "No. Observations:                   9   AIC:                             118.0\n",
       "Df Residuals:                       7   BIC:                             118.4\n",
       "Df Model:                           1                                         \n",
       "Covariance Type:            nonrobust                                         \n",
       "==============================================================================\n",
       "                 coef    std err          t      P>|t|      [0.025      0.975]\n",
       "------------------------------------------------------------------------------\n",
       "const       -108.1299    134.419     -0.804      0.448    -425.981     209.721\n",
       "x1             0.1296      0.023      5.753      0.001       0.076       0.183\n",
       "==============================================================================\n",
       "Omnibus:                        5.481   Durbin-Watson:                   0.806\n",
       "Prob(Omnibus):                  0.065   Jarque-Bera (JB):                1.915\n",
       "Skew:                           1.101   Prob(JB):                        0.384\n",
       "Kurtosis:                       3.509   Cond. No.                     1.56e+04\n",
       "==============================================================================\n",
       "\n",
       "Warnings:\n",
       "[1] Standard Errors assume that the covariance matrix of the errors is correctly specified.\n",
       "[2] The condition number is large, 1.56e+04. This might indicate that there are\n",
       "strong multicollinearity or other numerical problems.\n",
       "\"\"\""
      ]
     },
     "execution_count": 170,
     "metadata": {},
     "output_type": "execute_result"
    }
   ],
   "source": [
    "mod = sm.OLS(endog=y, exog=X1)\n",
    "res = mod.fit()\n",
    "res.summary()"
   ]
  },
  {
   "cell_type": "markdown",
   "metadata": {},
   "source": [
    "### With sklearn"
   ]
  },
  {
   "cell_type": "code",
   "execution_count": 171,
   "metadata": {},
   "outputs": [],
   "source": [
    "from sklearn.linear_model import LinearRegression"
   ]
  },
  {
   "cell_type": "code",
   "execution_count": 172,
   "metadata": {},
   "outputs": [
    {
     "data": {
      "text/html": [
       "<div>\n",
       "<style scoped>\n",
       "    .dataframe tbody tr th:only-of-type {\n",
       "        vertical-align: middle;\n",
       "    }\n",
       "\n",
       "    .dataframe tbody tr th {\n",
       "        vertical-align: top;\n",
       "    }\n",
       "\n",
       "    .dataframe thead th {\n",
       "        text-align: right;\n",
       "    }\n",
       "</style>\n",
       "<table border=\"1\" class=\"dataframe\">\n",
       "  <thead>\n",
       "    <tr style=\"text-align: right;\">\n",
       "      <th></th>\n",
       "      <th>coefficients</th>\n",
       "    </tr>\n",
       "  </thead>\n",
       "  <tbody>\n",
       "    <tr>\n",
       "      <th>intercept</th>\n",
       "      <td>-108.129881</td>\n",
       "    </tr>\n",
       "    <tr>\n",
       "      <th>Limit</th>\n",
       "      <td>0.129620</td>\n",
       "    </tr>\n",
       "  </tbody>\n",
       "</table>\n",
       "</div>"
      ],
      "text/plain": [
       "           coefficients\n",
       "intercept   -108.129881\n",
       "Limit          0.129620"
      ]
     },
     "execution_count": 172,
     "metadata": {},
     "output_type": "execute_result"
    }
   ],
   "source": [
    "X1 = np.array(X).reshape(-1, 1)  # accomodate sklearn (not adding a vector of 1s)\n",
    "\n",
    "lin_reg = LinearRegression(fit_intercept=True)\n",
    "lin_reg.fit(X1, y)\n",
    "\n",
    "df_skl_coef = pd.DataFrame()\n",
    "df_skl_coef[\"coefficients\"] = [lin_reg.intercept_] + lin_reg.coef_.tolist()\n",
    "# np.concatenate((lin_reg.intercept_, lin_reg.coef_.flatten()), axis=0)    # formatting for multivariate regression\n",
    "df_skl_coef.index = [\"intercept\", X.name]\n",
    "df_skl_coef"
   ]
  },
  {
   "cell_type": "code",
   "execution_count": 173,
   "metadata": {},
   "outputs": [],
   "source": [
    "def abline(slope, intercept, ax):\n",
    "    \"\"\"Plot a line from slope and intercept\"\"\"\n",
    "    axes = plt.gca()\n",
    "    x_vals = np.array(axes.get_xlim())\n",
    "    y_vals = intercept + slope * x_vals\n",
    "    ax.plot(x_vals, y_vals, '--')"
   ]
  },
  {
   "cell_type": "code",
   "execution_count": 174,
   "metadata": {},
   "outputs": [
    {
     "data": {
      "image/png": "[encoded data removed]",
      "text/plain": [
       "<Figure size 432x432 with 1 Axes>"
      ]
     },
     "metadata": {
      "needs_background": "light"
     },
     "output_type": "display_data"
    }
   ],
   "source": [
    "f, ax1 = plt.subplots(1, 1, figsize=(6,6))\n",
    "sns.scatterplot(x='Limit', y='Balance', data=df_credit_sample, ax=ax1)\n",
    "ax1.axhline(df_credit_sample['Balance'].mean(), linestyle='dashed', color='r');\n",
    "abline(slope=df_skl_coef['coefficients'][1], intercept=df_skl_coef['coefficients'][0], ax=ax1)\n"
   ]
  },
  {
   "cell_type": "code",
   "execution_count": null,
   "metadata": {},
   "outputs": [],
   "source": []
  },
  {
   "cell_type": "markdown",
   "metadata": {},
   "source": [
    "## Standard error\n",
    "\n",
    "Before understanding calculation of t-statistic and f-statistic"
   ]
  },
  {
   "cell_type": "markdown",
   "metadata": {},
   "source": [
    "A natural question is how accurate is the sample mean $\\hat\\mu$ for $\\mu$? We have established that the average of many $\\hat\\mu$ over many data sets will be very close to $\\mu$, but that a single estimate $\\hat\\mu$ may be a substantial under- or overestimate of $\\mu$. How far will that single estimate of $\\hat\\mu$ be? That is when we compute the *standard error*.\n",
    "\n",
    "$Var(\\hat\\mu) = SE(\\hat\\mu)^2 = \\frac{\\sigma^2}{n}$"
   ]
  },
  {
   "cell_type": "code",
   "execution_count": 177,
   "metadata": {},
   "outputs": [
    {
     "data": {
      "text/plain": [
       "0     912\n",
       "1     885\n",
       "2     426\n",
       "3     749\n",
       "4     199\n",
       "5     631\n",
       "6       0\n",
       "7    1050\n",
       "8     605\n",
       "Name: Balance, dtype: int64"
      ]
     },
     "execution_count": 177,
     "metadata": {},
     "output_type": "execute_result"
    }
   ],
   "source": [
    "df_credit_sample['Balance']"
   ]
  },
  {
   "cell_type": "code",
   "execution_count": 246,
   "metadata": {},
   "outputs": [
    {
     "name": "stdout",
     "output_type": "stream",
     "text": [
      "Manual calculation: 108.581\n",
      "Pandas sem function: 108.581\n"
     ]
    }
   ],
   "source": [
    "# Standard error\n",
    "n = len(df_credit_sample)\n",
    "\n",
    "sd_bal = df_credit_sample['Balance'].std(ddof=0)    # setting ddof is to divide by n instead of n-1\n",
    "sem_manual = np.sqrt(sd_bal**2 / n)\n",
    "sem_pandas = df_credit_sample['Balance'].sem(ddof=0)\n",
    "\n",
    "print('Manual calculation: {0:0.03f}'.format(sem_manual))                                          \n",
    "print('Pandas sem function: {0:0.03f}'.format(sem_pandas))"
   ]
  },
  {
   "cell_type": "code",
   "execution_count": 247,
   "metadata": {},
   "outputs": [],
   "source": [
    "def get_sum_dist_squared_v1(arr):\n",
    "    \"\"\"\n",
    "    Iterative solution\n",
    "    \"\"\"\n",
    "    import numpy\n",
    "    arr_mean = np.mean(arr)     # Allow this\n",
    "    sum_dist_squared = 0\n",
    "    for i in arr:\n",
    "        sum_dist_squared += (i-arr_mean)**2\n",
    "    \n",
    "    return sum_dist_squared"
   ]
  },
  {
   "cell_type": "code",
   "execution_count": 235,
   "metadata": {},
   "outputs": [
    {
     "data": {
      "text/plain": [
       "46916926.0"
      ]
     },
     "execution_count": 235,
     "metadata": {},
     "output_type": "execute_result"
    }
   ],
   "source": [
    "get_sum_dist_squared_v1(df_credit_sample['Limit'])"
   ]
  },
  {
   "cell_type": "code",
   "execution_count": 233,
   "metadata": {},
   "outputs": [],
   "source": [
    "def get_sum_dist_squared_v2(arr):\n",
    "    \"\"\"\n",
    "    Recursive solution -- not sure if this works\n",
    "    \"\"\"\n",
    "    import numpy\n",
    "    arr_mean = np.mean(arr)     # Allow this\n",
    "    \n",
    "    # Base case, n=1\n",
    "    if len(arr)==1:\n",
    "        return (arr[0]-arr_mean)**2 \n",
    "    \n",
    "    # Recursive - get smaller\n",
    "    return (arr[0]-arr_mean)**2 + get_sum_dist_squared_v2(arr[1:])\n",
    "    "
   ]
  },
  {
   "cell_type": "code",
   "execution_count": null,
   "metadata": {},
   "outputs": [],
   "source": []
  },
  {
   "cell_type": "markdown",
   "metadata": {},
   "source": [
    "In a similar vein, we can calculate the standard errors associated with $\\hat{\\beta_0}$ and $\\hat{\\beta_1}$ using the following formulas:\n",
    "\n",
    "$SE(\\hat{\\beta_0})^2 = \\sigma^2[\\frac{1}{n} + \\frac{\\bar{x}^2}{\\Sigma(x_i-\\bar{x})^2}]$\n",
    "\n",
    "$SE(\\hat{\\beta_1})^2 = \\frac{{\\sigma}^2}{\\Sigma(x_i-\\bar{x})^2}$"
   ]
  },
  {
   "cell_type": "code",
   "execution_count": 248,
   "metadata": {},
   "outputs": [
    {
     "data": {
      "text/plain": [
       "112.34428326699377"
      ]
     },
     "execution_count": 248,
     "metadata": {},
     "output_type": "execute_result"
    }
   ],
   "source": [
    "x_bar = df_credit_sample['Balance'].mean()\n",
    "np.sqrt(sd_bal**2 * (1/n + x_bar**2/get_sum_dist_squared_v1(df_credit_sample['Limit'])))"
   ]
  },
  {
   "cell_type": "code",
   "execution_count": 249,
   "metadata": {},
   "outputs": [
    {
     "data": {
      "text/plain": [
       "0.04755643486510915"
      ]
     },
     "execution_count": 249,
     "metadata": {},
     "output_type": "execute_result"
    }
   ],
   "source": [
    "np.sqrt(sd_bal**2/get_sum_dist_squared_v1(df_credit_sample['Limit']))"
   ]
  },
  {
   "cell_type": "code",
   "execution_count": 242,
   "metadata": {},
   "outputs": [
    {
     "data": {
      "text/plain": [
       "9"
      ]
     },
     "execution_count": 242,
     "metadata": {},
     "output_type": "execute_result"
    }
   ],
   "source": [
    "n"
   ]
  },
  {
   "cell_type": "code",
   "execution_count": null,
   "metadata": {},
   "outputs": [],
   "source": []
  },
  {
   "cell_type": "code",
   "execution_count": 186,
   "metadata": {},
   "outputs": [],
   "source": [
    "\n",
    "sum_squares_x = df_credit_sample['Balance'].var()*n"
   ]
  },
  {
   "cell_type": "code",
   "execution_count": 193,
   "metadata": {},
   "outputs": [
    {
     "data": {
      "text/plain": [
       "232.62072400060987"
      ]
     },
     "execution_count": 193,
     "metadata": {},
     "output_type": "execute_result"
    }
   ],
   "source": [
    "se_beta0 = np.sqrt(df_credit_sample['Balance'].var() * (1/n + x_bar**2/sum_squares_x))\n",
    "se_beta0"
   ]
  },
  {
   "cell_type": "code",
   "execution_count": 194,
   "metadata": {},
   "outputs": [
    {
     "data": {
      "text/plain": [
       "0.3333333333333333"
      ]
     },
     "execution_count": 194,
     "metadata": {},
     "output_type": "execute_result"
    }
   ],
   "source": [
    "se_beta1 = np.sqrt(df_credit_sample['Balance'].var()/sum_squares_x)\n",
    "se_beta1"
   ]
  },
  {
   "cell_type": "code",
   "execution_count": null,
   "metadata": {},
   "outputs": [],
   "source": [
    "134.419\n",
    "0.023"
   ]
  },
  {
   "cell_type": "markdown",
   "metadata": {},
   "source": [
    "**Formula for the t-statistic**\n",
    "\n",
    "Formula that we have seen for counts data:\n",
    "\n",
    "$T = \\frac{\\bar{X} - \\mu}{se(\\bar{X})} = \\frac{\\bar{X} - \\mu}{S_X/\\sqrt{n})}$\n",
    "\n",
    "In the context of linear regression:\n",
    "\n",
    "$t = \\frac{\\bar{\\beta_1} - 0}{se(\\bar{\\beta_1})}$ \n",
    "\n",
    "**The t-statistic is reporting how many standard errors the coefficient (slope) is from 0**"
   ]
  },
  {
   "cell_type": "code",
   "execution_count": null,
   "metadata": {},
   "outputs": [],
   "source": []
  },
  {
   "cell_type": "code",
   "execution_count": null,
   "metadata": {},
   "outputs": [],
   "source": []
  },
  {
   "cell_type": "markdown",
   "metadata": {},
   "source": [
    "\n",
    "TSS is the *total sum of squares*\n",
    "<br>\n",
    "TSS = $\\Sigma(y_i - \\bar{y_i})^2$                <------ squared distance of the data point **from the average**\n",
    "\n",
    "RSS is the *residual sum of squares*\n",
    "<br>\n",
    "RSS = $\\Sigma(y_i - \\hat{y_i})^2$                 <------ squared distance of data point **from the model prediction**\n"
   ]
  },
  {
   "cell_type": "code",
   "execution_count": null,
   "metadata": {},
   "outputs": [],
   "source": []
  },
  {
   "cell_type": "code",
   "execution_count": null,
   "metadata": {},
   "outputs": [],
   "source": []
  },
  {
   "cell_type": "code",
   "execution_count": null,
   "metadata": {},
   "outputs": [],
   "source": [
    "def calc_tss(y_vals):\n",
    "    \n",
    "    \n",
    "    \n",
    "    \n",
    "    return tss"
   ]
  },
  {
   "cell_type": "code",
   "execution_count": null,
   "metadata": {},
   "outputs": [],
   "source": [
    "def calc_rss(y_vals):\n",
    "    \n",
    "    \n",
    "    \n",
    "    \n",
    "    return tss"
   ]
  },
  {
   "cell_type": "code",
   "execution_count": null,
   "metadata": {},
   "outputs": [],
   "source": []
  },
  {
   "cell_type": "code",
   "execution_count": null,
   "metadata": {},
   "outputs": [],
   "source": []
  },
  {
   "cell_type": "code",
   "execution_count": null,
   "metadata": {},
   "outputs": [],
   "source": []
  },
  {
   "cell_type": "code",
   "execution_count": null,
   "metadata": {},
   "outputs": [],
   "source": []
  },
  {
   "cell_type": "code",
   "execution_count": null,
   "metadata": {},
   "outputs": [],
   "source": []
  },
  {
   "cell_type": "code",
   "execution_count": null,
   "metadata": {},
   "outputs": [],
   "source": []
  },
  {
   "cell_type": "code",
   "execution_count": null,
   "metadata": {},
   "outputs": [],
   "source": []
  },
  {
   "cell_type": "markdown",
   "metadata": {},
   "source": [
    "[Writing math symbols in markdown](https://jupyter-notebook.readthedocs.io/en/stable/examples/Notebook/Typesetting%20Equations.html)\n",
    "\n",
    "[quick reference](https://math.meta.stackexchange.com/questions/5020/mathjax-basic-tutorial-and-quick-reference)"
   ]
  },
  {
   "cell_type": "code",
   "execution_count": null,
   "metadata": {},
   "outputs": [],
   "source": []
  },
  {
   "cell_type": "code",
   "execution_count": null,
   "metadata": {},
   "outputs": [],
   "source": []
  },
  {
   "cell_type": "code",
   "execution_count": null,
   "metadata": {},
   "outputs": [],
   "source": []
  },
  {
   "cell_type": "code",
   "execution_count": null,
   "metadata": {},
   "outputs": [],
   "source": []
  },
  {
   "cell_type": "code",
   "execution_count": null,
   "metadata": {},
   "outputs": [],
   "source": []
  },
  {
   "cell_type": "code",
   "execution_count": null,
   "metadata": {},
   "outputs": [],
   "source": []
  },
  {
   "cell_type": "markdown",
   "metadata": {},
   "source": [
    "# ISLR (Ch 3): Linear Regression\n",
    "\n",
    "Classic technique that is still powerful and serves as a starting point for newer approaches. Questions that can be addressed using the Advertising data from the previous chapter:\n",
    "\n",
    "1. Is there a relationship between advertising budget and sales?\n",
    "2. How string is the relationship between advertising budget and sales?\n",
    "3. Which media contribute to sales?\n",
    "4. How accurately can we estimate the effect of each medium on sales?\n",
    "5. How accurately can we predict future sales?\n",
    "6. Is the relationship linear?\n",
    "7. Is there synergy among the advertising media? (interaction effect)\n"
   ]
  },
  {
   "cell_type": "markdown",
   "metadata": {
    "ExecuteTime": {
     "end_time": "2020-04-07T15:07:27.047656Z",
     "start_time": "2020-04-07T15:07:27.026042Z"
    }
   },
   "source": [
    "## Simple linear regression\n",
    "\n",
    "We are seeking to predict Y on the basis of a single predictor variable X. It assumes there's an approximate linear relationship between X and Y.\n",
    "\n",
    "$Y \\approx \\beta_0 + \\beta_1X$"
   ]
  },
  {
   "cell_type": "markdown",
   "metadata": {
    "ExecuteTime": {
     "end_time": "2020-04-07T15:07:27.047656Z",
     "start_time": "2020-04-07T15:07:27.026042Z"
    }
   },
   "source": [
    "### Estimating the coefficients\n",
    "\n",
    "Use least squarest to estimate. Find $\\hat{\\beta_0}$ and $\\hat{\\beta_1}$ such that the residual sum of squares (RSS) is minimized.\n",
    "\n",
    "### Assessing the accuracy of the coefficient estimates\n",
    "\n",
    "The true relationship between X and Y includes some $\\epsilon$ which is a mean-zero random error term.\n",
    "\n",
    "$Y = \\beta_0 + \\beta_1X$ + $\\epsilon$\n",
    "\n",
    "Note that we replace \"approximately equal\" with just \"equal\" when we have the error term. The error term $\\epsilon$ is a catch-all for what we miss with the simple model. We typically assume that the error term is independent of X.\n",
    "\n",
    "Remember that there is a true population regression line and that an regression line is a sample of that. Therefore there is some error associated with the regression line, consistent with standard statistical approaches of using a sample to estimate characteristics of a larger population. The analogy between linear regression and estimation of the mean of a random variable is an apt one based on the concept of *bias*. Just as $\\hat\\mu$ is an unbiased estimate of $\\mu$, we can say the same for the linear regression coefficients we are estimating $\\hat{\\beta_0}$ and $\\hat{\\beta_1}$ for ${\\beta_0}$ and ${\\beta_1}$, respectively.\n",
    "\n",
    "Continuing with the analogy of estimating the sample mean for our random variable Y, a natural question is how accurate is the sample mean $\\hat\\mu$ for $\\mu$? We have established that the average of many $\\hat\\mu$ over many data sets will be very close to $\\mu$, but that a single estimate $\\hat\\mu$ may be a substantial under- or overestimate of $\\mu$. How far will that single estimate of $\\hat\\mu$ be? That is when we compute the *standard error*.\n",
    "\n",
    "$Var(\\hat\\mu) = SE(\\hat\\mu)^2 = \\frac{\\sigma^2}{n}$\n",
    "\n",
    "In a similar vein, we can calculate the standard errors associated with $\\hat{\\beta_0}$ and $\\hat{\\beta_1}$ using the following formulas:\n",
    "\n",
    "$SE(\\hat{\\beta_0})^2 = \\sigma^2[\\frac{1}{n} + \\frac{\\bar{x}^2}{\\Sigma(x_i-\\bar{x}^2)}]$\n",
    "\n",
    "$SE(\\hat{\\beta_1})^2 = \\sigma^2[\\frac{1}{n} + \\frac{\\bar{\\sigma}^2}{\\Sigma(x_i-\\bar{x}^2)}]$\n",
    "\n",
    "Other key concepts:\n",
    "- SEs can be used to compute confidence intervals, make hypothesis tests, apply t-statistics and get p-values."
   ]
  },
  {
   "cell_type": "code",
   "execution_count": null,
   "metadata": {},
   "outputs": [],
   "source": []
  },
  {
   "cell_type": "markdown",
   "metadata": {
    "ExecuteTime": {
     "end_time": "2020-04-07T15:07:27.047656Z",
     "start_time": "2020-04-07T15:07:27.026042Z"
    }
   },
   "source": [
    "### Assessing the accuracy of the model\n",
    "\n",
    "TSS is the *total sum of squares*\n",
    "<br>\n",
    "TSS = $\\Sigma(y_i - \\bar{y_i})^2$\n",
    "\n",
    "RSS is the *residual sum of squares*\n",
    "<br>\n",
    "RSS = $\\Sigma(y_i - \\hat{y_i})^2$\n",
    "\n",
    "\n",
    "**Residual standard error**\n",
    "- What is the formula for RSE?\n",
    "- Based on the formula, can you tell for which term in the linear regression model it is a standard deviation?\n",
    "\n",
    "**$R^2$ statistic**\n",
    "- Is $R^2$ a number or proportion? Why? What is it a proportion of?\n",
    "    - It's the proportion of variance in Y explained by the target.\n",
    "    - It has the formula $R^2 = \\frac{TSS-RSS}{TSS} = 1 - \\frac{RSS}{TSS}$\n",
    "\n",
    "\n",
    "\n",
    "- What is the formula to calculate $R^2$?\n",
    "- How does $R^2$ relate to the definition of correlation in a simple linear model? Can it be applied to a multiple linear regression problem?\n",
    " "
   ]
  },
  {
   "cell_type": "code",
   "execution_count": null,
   "metadata": {},
   "outputs": [],
   "source": []
  },
  {
   "cell_type": "markdown",
   "metadata": {},
   "source": [
    "### Understanding given statistics with Advertising set"
   ]
  },
  {
   "cell_type": "code",
   "execution_count": 251,
   "metadata": {},
   "outputs": [
    {
     "data": {
      "text/html": [
       "<div>\n",
       "<style scoped>\n",
       "    .dataframe tbody tr th:only-of-type {\n",
       "        vertical-align: middle;\n",
       "    }\n",
       "\n",
       "    .dataframe tbody tr th {\n",
       "        vertical-align: top;\n",
       "    }\n",
       "\n",
       "    .dataframe thead th {\n",
       "        text-align: right;\n",
       "    }\n",
       "</style>\n",
       "<table border=\"1\" class=\"dataframe\">\n",
       "  <thead>\n",
       "    <tr style=\"text-align: right;\">\n",
       "      <th></th>\n",
       "      <th>TV</th>\n",
       "      <th>Radio</th>\n",
       "      <th>Newspaper</th>\n",
       "      <th>Sales</th>\n",
       "    </tr>\n",
       "  </thead>\n",
       "  <tbody>\n",
       "    <tr>\n",
       "      <th>1</th>\n",
       "      <td>230.1</td>\n",
       "      <td>37.8</td>\n",
       "      <td>69.2</td>\n",
       "      <td>22.1</td>\n",
       "    </tr>\n",
       "    <tr>\n",
       "      <th>2</th>\n",
       "      <td>44.5</td>\n",
       "      <td>39.3</td>\n",
       "      <td>45.1</td>\n",
       "      <td>10.4</td>\n",
       "    </tr>\n",
       "    <tr>\n",
       "      <th>3</th>\n",
       "      <td>17.2</td>\n",
       "      <td>45.9</td>\n",
       "      <td>69.3</td>\n",
       "      <td>9.3</td>\n",
       "    </tr>\n",
       "    <tr>\n",
       "      <th>4</th>\n",
       "      <td>151.5</td>\n",
       "      <td>41.3</td>\n",
       "      <td>58.5</td>\n",
       "      <td>18.5</td>\n",
       "    </tr>\n",
       "    <tr>\n",
       "      <th>5</th>\n",
       "      <td>180.8</td>\n",
       "      <td>10.8</td>\n",
       "      <td>58.4</td>\n",
       "      <td>12.9</td>\n",
       "    </tr>\n",
       "  </tbody>\n",
       "</table>\n",
       "</div>"
      ],
      "text/plain": [
       "      TV  Radio  Newspaper  Sales\n",
       "1  230.1   37.8       69.2   22.1\n",
       "2   44.5   39.3       45.1   10.4\n",
       "3   17.2   45.9       69.3    9.3\n",
       "4  151.5   41.3       58.5   18.5\n",
       "5  180.8   10.8       58.4   12.9"
      ]
     },
     "execution_count": 251,
     "metadata": {},
     "output_type": "execute_result"
    }
   ],
   "source": [
    "df_ad = pd.read_csv(\"ISLR_data/Advertising.csv\", index_col=0)\n",
    "df_ad.head()"
   ]
  },
  {
   "cell_type": "code",
   "execution_count": 252,
   "metadata": {},
   "outputs": [
    {
     "data": {
      "image/png": "[encoded data removed]",
      "text/plain": [
       "<Figure size 1008x288 with 3 Axes>"
      ]
     },
     "metadata": {
      "needs_background": "light"
     },
     "output_type": "display_data"
    }
   ],
   "source": [
    "f, (ax1, ax2, ax3) = plt.subplots(1, 3, figsize=(14, 4))\n",
    "sns.scatterplot(x='TV', y='Sales', data=df_ad, ax=ax1)\n",
    "sns.scatterplot(x='Radio', y='Sales', data=df_ad, ax=ax2);\n",
    "sns.scatterplot(x='Newspaper', y='Sales', data=df_ad, ax=ax3)\n",
    "plt.tight_layout();"
   ]
  },
  {
   "cell_type": "markdown",
   "metadata": {},
   "source": [
    "### Determine fit with least squares model"
   ]
  },
  {
   "cell_type": "markdown",
   "metadata": {},
   "source": [
    "### With statsmodels"
   ]
  },
  {
   "cell_type": "code",
   "execution_count": 253,
   "metadata": {},
   "outputs": [],
   "source": [
    "import statsmodels.api as sm\n",
    "# https://www.statsmodels.org/stable/regression.html\n",
    "# https://www.statsmodels.org/stable/endog_exog.html"
   ]
  },
  {
   "cell_type": "code",
   "execution_count": 254,
   "metadata": {},
   "outputs": [],
   "source": [
    "# endog=target, exog=features\n",
    "X = df_ad[\"TV\"]\n",
    "y = df_ad[\"Sales\"]\n",
    "X1 = sm.add_constant(X.values)  # Vector of 1s is needed"
   ]
  },
  {
   "cell_type": "code",
   "execution_count": 255,
   "metadata": {},
   "outputs": [
    {
     "data": {
      "text/html": [
       "<table class=\"simpletable\">\n",
       "<caption>OLS Regression Results</caption>\n",
       "<tr>\n",
       "  <th>Dep. Variable:</th>          <td>Sales</td>      <th>  R-squared:         </th> <td>   0.612</td>\n",
       "</tr>\n",
       "<tr>\n",
       "  <th>Model:</th>                   <td>OLS</td>       <th>  Adj. R-squared:    </th> <td>   0.610</td>\n",
       "</tr>\n",
       "<tr>\n",
       "  <th>Method:</th>             <td>Least Squares</td>  <th>  F-statistic:       </th> <td>   312.1</td>\n",
       "</tr>\n",
       "<tr>\n",
       "  <th>Date:</th>             <td>Wed, 06 May 2020</td> <th>  Prob (F-statistic):</th> <td>1.47e-42</td>\n",
       "</tr>\n",
       "<tr>\n",
       "  <th>Time:</th>                 <td>08:41:55</td>     <th>  Log-Likelihood:    </th> <td> -519.05</td>\n",
       "</tr>\n",
       "<tr>\n",
       "  <th>No. Observations:</th>      <td>   200</td>      <th>  AIC:               </th> <td>   1042.</td>\n",
       "</tr>\n",
       "<tr>\n",
       "  <th>Df Residuals:</th>          <td>   198</td>      <th>  BIC:               </th> <td>   1049.</td>\n",
       "</tr>\n",
       "<tr>\n",
       "  <th>Df Model:</th>              <td>     1</td>      <th>                     </th>     <td> </td>   \n",
       "</tr>\n",
       "<tr>\n",
       "  <th>Covariance Type:</th>      <td>nonrobust</td>    <th>                     </th>     <td> </td>   \n",
       "</tr>\n",
       "</table>\n",
       "<table class=\"simpletable\">\n",
       "<tr>\n",
       "    <td></td>       <th>coef</th>     <th>std err</th>      <th>t</th>      <th>P>|t|</th>  <th>[0.025</th>    <th>0.975]</th>  \n",
       "</tr>\n",
       "<tr>\n",
       "  <th>const</th> <td>    7.0326</td> <td>    0.458</td> <td>   15.360</td> <td> 0.000</td> <td>    6.130</td> <td>    7.935</td>\n",
       "</tr>\n",
       "<tr>\n",
       "  <th>x1</th>    <td>    0.0475</td> <td>    0.003</td> <td>   17.668</td> <td> 0.000</td> <td>    0.042</td> <td>    0.053</td>\n",
       "</tr>\n",
       "</table>\n",
       "<table class=\"simpletable\">\n",
       "<tr>\n",
       "  <th>Omnibus:</th>       <td> 0.531</td> <th>  Durbin-Watson:     </th> <td>   1.935</td>\n",
       "</tr>\n",
       "<tr>\n",
       "  <th>Prob(Omnibus):</th> <td> 0.767</td> <th>  Jarque-Bera (JB):  </th> <td>   0.669</td>\n",
       "</tr>\n",
       "<tr>\n",
       "  <th>Skew:</th>          <td>-0.089</td> <th>  Prob(JB):          </th> <td>   0.716</td>\n",
       "</tr>\n",
       "<tr>\n",
       "  <th>Kurtosis:</th>      <td> 2.779</td> <th>  Cond. No.          </th> <td>    338.</td>\n",
       "</tr>\n",
       "</table><br/><br/>Warnings:<br/>[1] Standard Errors assume that the covariance matrix of the errors is correctly specified."
      ],
      "text/plain": [
       "<class 'statsmodels.iolib.summary.Summary'>\n",
       "\"\"\"\n",
       "                            OLS Regression Results                            \n",
       "==============================================================================\n",
       "Dep. Variable:                  Sales   R-squared:                       0.612\n",
       "Model:                            OLS   Adj. R-squared:                  0.610\n",
       "Method:                 Least Squares   F-statistic:                     312.1\n",
       "Date:                Wed, 06 May 2020   Prob (F-statistic):           1.47e-42\n",
       "Time:                        08:41:55   Log-Likelihood:                -519.05\n",
       "No. Observations:                 200   AIC:                             1042.\n",
       "Df Residuals:                     198   BIC:                             1049.\n",
       "Df Model:                           1                                         \n",
       "Covariance Type:            nonrobust                                         \n",
       "==============================================================================\n",
       "                 coef    std err          t      P>|t|      [0.025      0.975]\n",
       "------------------------------------------------------------------------------\n",
       "const          7.0326      0.458     15.360      0.000       6.130       7.935\n",
       "x1             0.0475      0.003     17.668      0.000       0.042       0.053\n",
       "==============================================================================\n",
       "Omnibus:                        0.531   Durbin-Watson:                   1.935\n",
       "Prob(Omnibus):                  0.767   Jarque-Bera (JB):                0.669\n",
       "Skew:                          -0.089   Prob(JB):                        0.716\n",
       "Kurtosis:                       2.779   Cond. No.                         338.\n",
       "==============================================================================\n",
       "\n",
       "Warnings:\n",
       "[1] Standard Errors assume that the covariance matrix of the errors is correctly specified.\n",
       "\"\"\""
      ]
     },
     "execution_count": 255,
     "metadata": {},
     "output_type": "execute_result"
    }
   ],
   "source": [
    "mod = sm.OLS(endog=y, exog=X1)\n",
    "res = mod.fit()\n",
    "res.summary()"
   ]
  },
  {
   "cell_type": "code",
   "execution_count": 263,
   "metadata": {},
   "outputs": [
    {
     "name": "stdout",
     "output_type": "stream",
     "text": [
      "Manual calculation: 0.368\n",
      "Pandas sem function: 0.368\n"
     ]
    }
   ],
   "source": [
    "# Standard error - not applicable here? just used as an anlogy\n",
    "n = len(df_ad)\n",
    "sd_bal = df_ad['Sales'].std(ddof=0)    # setting ddof is to divide by n instead of n-1\n",
    "sem_manual = np.sqrt(sd_bal**2 / n)\n",
    "sem_pandas = df_ad['Sales'].sem(ddof=0)\n",
    "\n",
    "print('Manual calculation: {0:0.03f}'.format(sem_manual))                                          \n",
    "print('Pandas sem function: {0:0.03f}'.format(sem_pandas))"
   ]
  },
  {
   "cell_type": "code",
   "execution_count": 257,
   "metadata": {},
   "outputs": [],
   "source": [
    "def get_sum_dist_squared_v1(arr):\n",
    "    \"\"\"\n",
    "    Iterative solution\n",
    "    \"\"\"\n",
    "    import numpy\n",
    "    arr_mean = np.mean(arr)     # Allow this\n",
    "    sum_dist_squared = 0\n",
    "    for i in arr:\n",
    "        sum_dist_squared += (i-arr_mean)**2\n",
    "    \n",
    "    return sum_dist_squared"
   ]
  },
  {
   "cell_type": "code",
   "execution_count": 258,
   "metadata": {},
   "outputs": [
    {
     "data": {
      "text/plain": [
       "1466819.0287500012"
      ]
     },
     "execution_count": 258,
     "metadata": {},
     "output_type": "execute_result"
    }
   ],
   "source": [
    "get_sum_dist_squared_v1(df_ad['TV'])"
   ]
  },
  {
   "cell_type": "markdown",
   "metadata": {},
   "source": [
    "In a similar vein, we can calculate the standard errors associated with $\\hat{\\beta_0}$ and $\\hat{\\beta_1}$ using the following formulas:\n",
    "\n",
    "$SE(\\hat{\\beta_0})^2 = \\sigma^2[\\frac{1}{n} + \\frac{\\bar{x}^2}{\\Sigma(x_i-\\bar{x})^2}]$\n",
    "\n",
    "$SE(\\hat{\\beta_1})^2 = \\frac{{\\sigma}^2}{\\Sigma(x_i-\\bar{x})^2}$"
   ]
  },
  {
   "cell_type": "markdown",
   "metadata": {},
   "source": [
    "We will substitute **residual standard error** in place of $\\sigma$.\n",
    "\n",
    "$ RSE = \\sqrt{RSS/(n-2)}$"
   ]
  },
  {
   "cell_type": "code",
   "execution_count": 277,
   "metadata": {},
   "outputs": [],
   "source": [
    "def get_rss_v1(beta0, beta1, X_vals, y_vals):\n",
    "    \"\"\"\n",
    "    Iterative solution             \n",
    "    # Exercise 1: Create simple linear regression model\n",
    "    # Exercise 2: Create multivariate linear regression model\n",
    "    \"\"\"\n",
    "    rss = 0\n",
    "    \n",
    "    for i in range(len(x_vals)):\n",
    "        rss += (y_vals[i]-beta0-beta1*x_vals[i])**2\n",
    "\n",
    "    return rss"
   ]
  },
  {
   "cell_type": "code",
   "execution_count": 297,
   "metadata": {},
   "outputs": [
    {
     "name": "stdout",
     "output_type": "stream",
     "text": [
      "2102.538343937501\n"
     ]
    }
   ],
   "source": [
    "my_beta0 = 7.0326\n",
    "my_beta1 = 0.0475\n",
    "\n",
    "my_rss = get_rss(my_beta0, my_beta1, df_ad['TV'].tolist(), df_ad['Sales'].tolist())\n",
    "print(my_rss)"
   ]
  },
  {
   "cell_type": "code",
   "execution_count": 298,
   "metadata": {},
   "outputs": [
    {
     "name": "stdout",
     "output_type": "stream",
     "text": [
      "3.2586623827786876\n"
     ]
    }
   ],
   "source": [
    "rse = np.sqrt(my_rss/(n-2))\n",
    "print(rse)"
   ]
  },
  {
   "cell_type": "code",
   "execution_count": 299,
   "metadata": {},
   "outputs": [
    {
     "name": "stdout",
     "output_type": "stream",
     "text": [
      "Manually calculated beta0 SE 0.458 and beta 1 SE 0.003\n"
     ]
    }
   ],
   "source": [
    "x_bar = df_ad['TV'].mean()\n",
    "beta0_se = np.sqrt(rse**2 * (1/n + x_bar**2/get_sum_dist_squared_v1(df_ad['TV'])))\n",
    "beta1_se = np.sqrt(rse**2/get_sum_dist_squared_v1(df_ad['TV']))\n",
    "\n",
    "print('Manually calculated beta0 SE {0:0.3f} and beta 1 SE {1:0.3f}'.format(beta0_se, beta1_se))"
   ]
  },
  {
   "cell_type": "code",
   "execution_count": 310,
   "metadata": {},
   "outputs": [],
   "source": [
    "def calculate_t_statistic(coefficient, se):\n",
    "    tstat = coefficient/se\n",
    "    return tstat"
   ]
  },
  {
   "cell_type": "code",
   "execution_count": 313,
   "metadata": {},
   "outputs": [
    {
     "name": "stdout",
     "output_type": "stream",
     "text": [
      "Manually calculated t-statistic: 17.654\n"
     ]
    }
   ],
   "source": [
    "my_tstat = calculate_t_statistic(0.0475, beta1_se)\n",
    "\n",
    "print('Manually calculated t-statistic: {0:0.3f}'.format(my_tstat))"
   ]
  },
  {
   "cell_type": "code",
   "execution_count": 295,
   "metadata": {},
   "outputs": [],
   "source": [
    "def get_tss(y_vals):\n",
    "    \"\"\"\n",
    "    Iterative solution\n",
    "    \"\"\"\n",
    "    y_bar = np.mean(y_vals)\n",
    "    tss = 0\n",
    "    for i in range(len(y_vals)):\n",
    "        tss += (y_vals[i]-y_bar)**2\n",
    "\n",
    "    return tss"
   ]
  },
  {
   "cell_type": "code",
   "execution_count": 301,
   "metadata": {},
   "outputs": [
    {
     "name": "stdout",
     "output_type": "stream",
     "text": [
      "5417.148749999997\n"
     ]
    }
   ],
   "source": [
    "my_tss = get_tss(df_ad['Sales'].tolist())\n",
    "print(my_tss)"
   ]
  },
  {
   "cell_type": "markdown",
   "metadata": {},
   "source": [
    "$ F = \\frac{(TSS - RSS)/p}{(RSS)/(n-p-1)} $"
   ]
  },
  {
   "cell_type": "code",
   "execution_count": 306,
   "metadata": {},
   "outputs": [],
   "source": [
    "def calculate_f_statistic(tss, rss, n_features, n_samples):\n",
    "    num = (tss-rss)/n_features\n",
    "    den = rss/(n_samples-n_features-1)\n",
    "    f_statistic = num/den\n",
    "    return f_statistic"
   ]
  },
  {
   "cell_type": "code",
   "execution_count": 305,
   "metadata": {},
   "outputs": [
    {
     "name": "stdout",
     "output_type": "stream",
     "text": [
      "Manually calculated f-statistic: 312.14\n"
     ]
    }
   ],
   "source": [
    "my_fstat = calculate_f_statistic(my_tss, my_rss, 1, df_ad.shape[0])\n",
    "\n",
    "print('Manually calculated f-statistic: {0:0.2f}'.format(my_fstat))"
   ]
  },
  {
   "cell_type": "markdown",
   "metadata": {},
   "source": [
    "$ R^2 = \\frac{(TSS - RSS)}{TSS} $"
   ]
  },
  {
   "cell_type": "code",
   "execution_count": 307,
   "metadata": {},
   "outputs": [],
   "source": [
    "def get_r_squared(tss, rss):\n",
    "    num = (tss-rss)\n",
    "    den = tss\n",
    "    r2 = num/den\n",
    "    return r2"
   ]
  },
  {
   "cell_type": "code",
   "execution_count": 308,
   "metadata": {},
   "outputs": [
    {
     "data": {
      "text/plain": [
       "0.6118736182133632"
      ]
     },
     "execution_count": 308,
     "metadata": {},
     "output_type": "execute_result"
    }
   ],
   "source": [
    "get_r_squared(my_tss, my_rss)"
   ]
  },
  {
   "cell_type": "code",
   "execution_count": null,
   "metadata": {},
   "outputs": [],
   "source": []
  },
  {
   "cell_type": "code",
   "execution_count": null,
   "metadata": {},
   "outputs": [],
   "source": []
  },
  {
   "cell_type": "markdown",
   "metadata": {},
   "source": [
    "## Multiple linear regression\n",
    "\n",
    "This approach helps extend analysis to accomdate additional predictors. Each predictor (variable) is given a separate slope coefficient in a single model. **We interpret each coefficient $\\beta_j$ as the average effect on the target $Y$ of a one unit increase in its associated feature $X_j$, holding all other features constant.** \n",
    "\n",
    "$Y = \\beta_0 + \\beta_1X_1 + \\beta_2X_2 + ... + \\beta_pX_p + \\epsilon$"
   ]
  },
  {
   "cell_type": "markdown",
   "metadata": {},
   "source": [
    "### Estimating the regression coefficients\n",
    "\n",
    "The parameters are estimated least squares. **Note that a feature can look significant when run alone in a simple linear regression but not significant in a multiple regression model! (In other words, the coefficients and p-values of a feature can be quite different between a simple and multiple regression model.)** Below are tables from the `Advertising` data described in the book (pg. 72).\n",
    "\n",
    "<br>\n",
    "<center> From Table 3.3: Simple regression of sales on newspaper </center>\n",
    "\n",
    "| | Coefficient | SE | t-statistic | p-value |\n",
    "|--|-------|---|-------|------- |\n",
    "|intercept | 12.351 | 0.621 | 19.88 | <0.0001 |\n",
    "|newspaper | 0.055 | 0.017 | 3.30 | 0.00115 |\n",
    "\n",
    "<br>\n",
    "<center> Table 3.4: Multiple regression model of sales </center>\n",
    "\n",
    "| | Coefficient | SE | t-statistic | p-value |\n",
    "|--|-------|---|-------|------- |\n",
    "|intercept | 2.939 | 0.3119 | 9.42 | <0.0001 |\n",
    "|TV        | 0.046 | 0.0014 | 32.91 | <0.0001 |\n",
    "|radio     | 0.189 | 0.0086 | 21.89 | <0.0001 |\n",
    "|newspaper | -0.001 | 0.0059 | -0.18 | 0.8599 |\n",
    "\n",
    "How do we interpret this? For radio, as we see in Table 3.4, we would say that spending an additional \\$1000 on radio advertising leads to an increase in sales by approximately 189 units (it is 1000 since the numbers are in thousands). (This is not too far off from its coefficient in the simple linear regression model data not shown.) But for newspaper, the regression coefficient was significantly non-zero in a simple regression model but very close to zero in the multiple regression model.\n",
    "\n",
    "**How can this be?** This situation can be quite common. The difference stems from the fact that the slope term represents the average effect of a \\$1000 increase in newspaper advertising, *ignoring* other predictors such as TV and radio. In contrast, in the multiple regression setting, the coefficient represent the average effect of increasing newspaper spending by \\$1000 while holding TV and radio fixed.\n",
    "\n",
    "**Does it make sense for the multiple regression to suggest no relationship between sales and newspaper while the simple linear regression implies the opposite?** It can. Consider a correlation matrix (not shown) that shows that there is a correlation between radio and newspaper of 0.35. This shows that there's a tendency to spend more on newspaper advertising in markets where more is spent on radio advertising. In a simple regression model where radio advertising is ignored, the newspaper advertising \"gets credit\" for the radio advertising even though newspaper ads are not really impacting sales. Newspaper sales are therefore just a surrogate for radio advertising in a simple regression model.\n",
    "\n",
    "Here's a more extreme example to further illustrate the point. If you run a regression of shark attacks versus ice cream sales, you would see a positive correlation. But it would be absurd to ban ice cream sales to reduce the incidence of shark attacks. In reality, the higher temperatures cause more people to visit the beach, increasing both shark attacks and beach sales. A multiple regression of attacks versus ice cream sales and temperature reveals, as intuition implies, that the former predictor is no longer significant after adjusting for temperature."
   ]
  },
  {
   "cell_type": "markdown",
   "metadata": {},
   "source": [
    "### Some important questions\n",
    "\n",
    "With multiple linear regression, we're usually interested in answering a few important questions.\n",
    "1. Is at least one of the predictors useful in predicting the response?\n",
    "2. Do all the predictors help to explain Y or is only a subset of the predictors useful?\n",
    "3. How well does the model fit the data?\n",
    "4. Given a set of predictor values, what response value should we predict, and how accurate is our prediction?\n",
    "5. Other: How does regularization impact the interpretation of coefficients?\n",
    "\n",
    "**One: Is there a relationship between the response and predictors?**\n",
    "\n",
    "In order to determine whether there's a relationship between the response(s) and predictor, we would do the following for each setting:\n",
    "\n",
    "simple linear regression: check whether $\\beta_1 = 0$\n",
    "<br>\n",
    "multiple linear regression: check whether $\\beta_1 = \\beta_2 = \\beta_3 ... \\beta_j = 0$\n",
    "\n",
    "For the multiple linear regression setting, we can pose null and alternate hypotheses.\n",
    "<br>\n",
    "Null: All coefficients are equal to 0.\n",
    "<br>\n",
    "Alternate: At least *one* coefficients is non-zero.\n",
    "\n",
    "The hypothesis test is performed by computing the F-statistic. (Note that this sounds very similar to ANOVA because it is, in fact, the same thing.)\n",
    "\n",
    "$ F = \\frac{(TSS - RSS)/p}{(RSS)/(n-p-1)} = \\frac{variance\\ across\\ groups}{variance\\ within\\ groups} $\n",
    "\n",
    "If the linear model assumptions are correct, one can show that:\n",
    "\n",
    "$ E\\{RSS/(n-p-1)\\} = \\sigma^2 $\n",
    "\n",
    "and that, provided $H_0$ is true,\n",
    "\n",
    "$ E\\{(TSS-RSS)/p\\} = \\sigma^2 $\n",
    "\n",
    "Therefore, when there's no relationship between the response and predictors, we can expect the F-statistic to take on a value close to 1. When the F-statistic is very large (as in the advertisements dataset), the p-values are small, providing compelling evidence against the null hypothesi. This suggests *at least one* of the features must be related to sales. But recall that there's a relationship between the degrees of freedom and the F-statistic (the F-distribution itself being the quotient of two chi-squared distributions). When n is large, a smaller F-statistic can still lead to rejection of the null hypothesis.\n",
    "\n",
    "Sometimes we may want to test whether a particular subset of the coefficients are zero. In this case, we can have a second model that uses all variables *except q* variables. Suppose the residual sum of squares for that model is $RSS_0$. You can calculate the F-statistic for this new model.\n",
    "\n",
    "$ F = \\frac{(RSS_0 - RSS)/q}{(RSS)/(n-p-1)} $\n",
    "\n",
    "In Table 3.4, for each individual predictor a t-statistic and a p-value were reported, to provide info about whether  each individual predictor is related to the response after adjusting for all other features. Interestingly, these are exactly equivalent to the F-test that omits that single variable from the model, leaving all the others in. (The square of each t-statistic is its corresponding F-statistic.) Therefore, it reports the partial effect of adding that variable to the model. For instance, as shown above, the p-values indicate that TV and radio are related to sales, but not newspaper in the presence of the other two.\n",
    "\n",
    "Given that we can get the individual p-values for each variable, why do we need to look at the overall F-statistic? After all, if any of the p-values for the individual variables is very small, then we can say that at least one of the predictors is related to the response, right? No, and in short, because of multiple hypothesis testing. If the number of predictors/variables is very large, then you have the potential for one of the p-values from the individual t-statistics to find a significant variable by chance. The F-statistic approach does not suffer from this problem because it adjusts for the number of predictors.\n",
    "\n",
    "The approach of using an F-statistic to test for an association between the predictors and response works when *p* is relatively small, and certainly small compared to *n*. But what happens if the number of predictors is larger compared to the number of samples? Then there are more coefficients to estimate than observations from which to estimate them and in this case, we cannot even fit the multiple linear regression model using least squares. The F-statistic cannot be used (and neither can most other concepts that we have seen so far in this chapter). When *p* is large, you might be able to use *forward selection*. A discussion of the *high-dimensional* setting is also discussed in Chapter 6."
   ]
  },
  {
   "cell_type": "markdown",
   "metadata": {},
   "source": [
    "#### Confirmation via code"
   ]
  },
  {
   "cell_type": "code",
   "execution_count": 315,
   "metadata": {},
   "outputs": [],
   "source": [
    "# endog=target, exog=features\n",
    "X = df_ad[[\"TV\", \"Radio\", \"Newspaper\"]]\n",
    "y = df_ad[\"Sales\"]\n",
    "X1 = sm.add_constant(X.values)  # Vector of 1s is needed"
   ]
  },
  {
   "cell_type": "code",
   "execution_count": 316,
   "metadata": {},
   "outputs": [
    {
     "data": {
      "text/html": [
       "<table class=\"simpletable\">\n",
       "<caption>OLS Regression Results</caption>\n",
       "<tr>\n",
       "  <th>Dep. Variable:</th>          <td>Sales</td>      <th>  R-squared:         </th> <td>   0.897</td>\n",
       "</tr>\n",
       "<tr>\n",
       "  <th>Model:</th>                   <td>OLS</td>       <th>  Adj. R-squared:    </th> <td>   0.896</td>\n",
       "</tr>\n",
       "<tr>\n",
       "  <th>Method:</th>             <td>Least Squares</td>  <th>  F-statistic:       </th> <td>   570.3</td>\n",
       "</tr>\n",
       "<tr>\n",
       "  <th>Date:</th>             <td>Wed, 06 May 2020</td> <th>  Prob (F-statistic):</th> <td>1.58e-96</td>\n",
       "</tr>\n",
       "<tr>\n",
       "  <th>Time:</th>                 <td>12:53:06</td>     <th>  Log-Likelihood:    </th> <td> -386.18</td>\n",
       "</tr>\n",
       "<tr>\n",
       "  <th>No. Observations:</th>      <td>   200</td>      <th>  AIC:               </th> <td>   780.4</td>\n",
       "</tr>\n",
       "<tr>\n",
       "  <th>Df Residuals:</th>          <td>   196</td>      <th>  BIC:               </th> <td>   793.6</td>\n",
       "</tr>\n",
       "<tr>\n",
       "  <th>Df Model:</th>              <td>     3</td>      <th>                     </th>     <td> </td>   \n",
       "</tr>\n",
       "<tr>\n",
       "  <th>Covariance Type:</th>      <td>nonrobust</td>    <th>                     </th>     <td> </td>   \n",
       "</tr>\n",
       "</table>\n",
       "<table class=\"simpletable\">\n",
       "<tr>\n",
       "    <td></td>       <th>coef</th>     <th>std err</th>      <th>t</th>      <th>P>|t|</th>  <th>[0.025</th>    <th>0.975]</th>  \n",
       "</tr>\n",
       "<tr>\n",
       "  <th>const</th> <td>    2.9389</td> <td>    0.312</td> <td>    9.422</td> <td> 0.000</td> <td>    2.324</td> <td>    3.554</td>\n",
       "</tr>\n",
       "<tr>\n",
       "  <th>x1</th>    <td>    0.0458</td> <td>    0.001</td> <td>   32.809</td> <td> 0.000</td> <td>    0.043</td> <td>    0.049</td>\n",
       "</tr>\n",
       "<tr>\n",
       "  <th>x2</th>    <td>    0.1885</td> <td>    0.009</td> <td>   21.893</td> <td> 0.000</td> <td>    0.172</td> <td>    0.206</td>\n",
       "</tr>\n",
       "<tr>\n",
       "  <th>x3</th>    <td>   -0.0010</td> <td>    0.006</td> <td>   -0.177</td> <td> 0.860</td> <td>   -0.013</td> <td>    0.011</td>\n",
       "</tr>\n",
       "</table>\n",
       "<table class=\"simpletable\">\n",
       "<tr>\n",
       "  <th>Omnibus:</th>       <td>60.414</td> <th>  Durbin-Watson:     </th> <td>   2.084</td>\n",
       "</tr>\n",
       "<tr>\n",
       "  <th>Prob(Omnibus):</th> <td> 0.000</td> <th>  Jarque-Bera (JB):  </th> <td> 151.241</td>\n",
       "</tr>\n",
       "<tr>\n",
       "  <th>Skew:</th>          <td>-1.327</td> <th>  Prob(JB):          </th> <td>1.44e-33</td>\n",
       "</tr>\n",
       "<tr>\n",
       "  <th>Kurtosis:</th>      <td> 6.332</td> <th>  Cond. No.          </th> <td>    454.</td>\n",
       "</tr>\n",
       "</table><br/><br/>Warnings:<br/>[1] Standard Errors assume that the covariance matrix of the errors is correctly specified."
      ],
      "text/plain": [
       "<class 'statsmodels.iolib.summary.Summary'>\n",
       "\"\"\"\n",
       "                            OLS Regression Results                            \n",
       "==============================================================================\n",
       "Dep. Variable:                  Sales   R-squared:                       0.897\n",
       "Model:                            OLS   Adj. R-squared:                  0.896\n",
       "Method:                 Least Squares   F-statistic:                     570.3\n",
       "Date:                Wed, 06 May 2020   Prob (F-statistic):           1.58e-96\n",
       "Time:                        12:53:06   Log-Likelihood:                -386.18\n",
       "No. Observations:                 200   AIC:                             780.4\n",
       "Df Residuals:                     196   BIC:                             793.6\n",
       "Df Model:                           3                                         \n",
       "Covariance Type:            nonrobust                                         \n",
       "==============================================================================\n",
       "                 coef    std err          t      P>|t|      [0.025      0.975]\n",
       "------------------------------------------------------------------------------\n",
       "const          2.9389      0.312      9.422      0.000       2.324       3.554\n",
       "x1             0.0458      0.001     32.809      0.000       0.043       0.049\n",
       "x2             0.1885      0.009     21.893      0.000       0.172       0.206\n",
       "x3            -0.0010      0.006     -0.177      0.860      -0.013       0.011\n",
       "==============================================================================\n",
       "Omnibus:                       60.414   Durbin-Watson:                   2.084\n",
       "Prob(Omnibus):                  0.000   Jarque-Bera (JB):              151.241\n",
       "Skew:                          -1.327   Prob(JB):                     1.44e-33\n",
       "Kurtosis:                       6.332   Cond. No.                         454.\n",
       "==============================================================================\n",
       "\n",
       "Warnings:\n",
       "[1] Standard Errors assume that the covariance matrix of the errors is correctly specified.\n",
       "\"\"\""
      ]
     },
     "execution_count": 316,
     "metadata": {},
     "output_type": "execute_result"
    }
   ],
   "source": [
    "mod = sm.OLS(endog=y, exog=X1)\n",
    "res = mod.fit()\n",
    "res.summary()"
   ]
  },
  {
   "cell_type": "markdown",
   "metadata": {},
   "source": [
    "##### Update RSS function to allow for multivariate model"
   ]
  },
  {
   "cell_type": "code",
   "execution_count": 340,
   "metadata": {},
   "outputs": [],
   "source": [
    "def get_rss_v2(betas, X_vals, y_vals):\n",
    "    \"\"\"\n",
    "    Iterative solution             \n",
    "    # Exercise 2: Create multivariate linear regression model\n",
    "    # Use matrix multiplication\n",
    "    \"\"\"\n",
    "    \n",
    "    beta_x_matrix = betas*X_vals  \n",
    "    res_vector = y_vals - np.sum(beta_x_matrix, axis=1)\n",
    "    rss = np.sum(res_vector**2)\n",
    "\n",
    "    return rss"
   ]
  },
  {
   "cell_type": "code",
   "execution_count": 341,
   "metadata": {},
   "outputs": [
    {
     "name": "stdout",
     "output_type": "stream",
     "text": [
      "556.8336428345999\n"
     ]
    }
   ],
   "source": [
    "my_betas = [2.9389, 0.0458, 0.1885, -0.0010]\n",
    "my_X_vals = X1\n",
    "my_y_vals = df_ad['Sales'].tolist()\n",
    "my_rss_mv = get_rss_v2(my_betas, my_X_vals, my_y_vals)\n",
    "print(my_rss_mv)"
   ]
  },
  {
   "cell_type": "code",
   "execution_count": 344,
   "metadata": {},
   "outputs": [
    {
     "name": "stdout",
     "output_type": "stream",
     "text": [
      "Manually calculated f-statistic: 570.26\n"
     ]
    }
   ],
   "source": [
    "my_fstat_mv = calculate_f_statistic(my_tss, my_rss_mv, 3, df_ad.shape[0])\n",
    "print('Manually calculated f-statistic: {0:0.2f}'.format(my_fstat_mv))"
   ]
  },
  {
   "cell_type": "code",
   "execution_count": null,
   "metadata": {},
   "outputs": [],
   "source": []
  },
  {
   "cell_type": "markdown",
   "metadata": {},
   "source": [
    "Sometimes we want to test that a particular subset of q of the coefficients are zero. Let's ask if the coefficient for newspaper is zero.\n",
    "\n",
    "This corresponds to a null hypothesis of:\n",
    "$ H_0: \\beta_0 = \\beta_tv = \\beta_radio = 0\n",
    "\n",
    "\n",
    "**Let's leave off newspaper as a variable.**"
   ]
  },
  {
   "cell_type": "code",
   "execution_count": 360,
   "metadata": {},
   "outputs": [],
   "source": [
    "# endog=target, exog=features\n",
    "X = df_ad[[\"TV\", \"Radio\"]]\n",
    "y = df_ad[\"Sales\"]\n",
    "X1 = sm.add_constant(X.values)  # Vector of 1s is needed"
   ]
  },
  {
   "cell_type": "code",
   "execution_count": 361,
   "metadata": {},
   "outputs": [
    {
     "data": {
      "text/html": [
       "<table class=\"simpletable\">\n",
       "<caption>OLS Regression Results</caption>\n",
       "<tr>\n",
       "  <th>Dep. Variable:</th>          <td>Sales</td>      <th>  R-squared:         </th> <td>   0.897</td>\n",
       "</tr>\n",
       "<tr>\n",
       "  <th>Model:</th>                   <td>OLS</td>       <th>  Adj. R-squared:    </th> <td>   0.896</td>\n",
       "</tr>\n",
       "<tr>\n",
       "  <th>Method:</th>             <td>Least Squares</td>  <th>  F-statistic:       </th> <td>   859.6</td>\n",
       "</tr>\n",
       "<tr>\n",
       "  <th>Date:</th>             <td>Wed, 06 May 2020</td> <th>  Prob (F-statistic):</th> <td>4.83e-98</td>\n",
       "</tr>\n",
       "<tr>\n",
       "  <th>Time:</th>                 <td>13:33:34</td>     <th>  Log-Likelihood:    </th> <td> -386.20</td>\n",
       "</tr>\n",
       "<tr>\n",
       "  <th>No. Observations:</th>      <td>   200</td>      <th>  AIC:               </th> <td>   778.4</td>\n",
       "</tr>\n",
       "<tr>\n",
       "  <th>Df Residuals:</th>          <td>   197</td>      <th>  BIC:               </th> <td>   788.3</td>\n",
       "</tr>\n",
       "<tr>\n",
       "  <th>Df Model:</th>              <td>     2</td>      <th>                     </th>     <td> </td>   \n",
       "</tr>\n",
       "<tr>\n",
       "  <th>Covariance Type:</th>      <td>nonrobust</td>    <th>                     </th>     <td> </td>   \n",
       "</tr>\n",
       "</table>\n",
       "<table class=\"simpletable\">\n",
       "<tr>\n",
       "    <td></td>       <th>coef</th>     <th>std err</th>      <th>t</th>      <th>P>|t|</th>  <th>[0.025</th>    <th>0.975]</th>  \n",
       "</tr>\n",
       "<tr>\n",
       "  <th>const</th> <td>    2.9211</td> <td>    0.294</td> <td>    9.919</td> <td> 0.000</td> <td>    2.340</td> <td>    3.502</td>\n",
       "</tr>\n",
       "<tr>\n",
       "  <th>x1</th>    <td>    0.0458</td> <td>    0.001</td> <td>   32.909</td> <td> 0.000</td> <td>    0.043</td> <td>    0.048</td>\n",
       "</tr>\n",
       "<tr>\n",
       "  <th>x2</th>    <td>    0.1880</td> <td>    0.008</td> <td>   23.382</td> <td> 0.000</td> <td>    0.172</td> <td>    0.204</td>\n",
       "</tr>\n",
       "</table>\n",
       "<table class=\"simpletable\">\n",
       "<tr>\n",
       "  <th>Omnibus:</th>       <td>60.022</td> <th>  Durbin-Watson:     </th> <td>   2.081</td>\n",
       "</tr>\n",
       "<tr>\n",
       "  <th>Prob(Omnibus):</th> <td> 0.000</td> <th>  Jarque-Bera (JB):  </th> <td> 148.679</td>\n",
       "</tr>\n",
       "<tr>\n",
       "  <th>Skew:</th>          <td>-1.323</td> <th>  Prob(JB):          </th> <td>5.19e-33</td>\n",
       "</tr>\n",
       "<tr>\n",
       "  <th>Kurtosis:</th>      <td> 6.292</td> <th>  Cond. No.          </th> <td>    425.</td>\n",
       "</tr>\n",
       "</table><br/><br/>Warnings:<br/>[1] Standard Errors assume that the covariance matrix of the errors is correctly specified."
      ],
      "text/plain": [
       "<class 'statsmodels.iolib.summary.Summary'>\n",
       "\"\"\"\n",
       "                            OLS Regression Results                            \n",
       "==============================================================================\n",
       "Dep. Variable:                  Sales   R-squared:                       0.897\n",
       "Model:                            OLS   Adj. R-squared:                  0.896\n",
       "Method:                 Least Squares   F-statistic:                     859.6\n",
       "Date:                Wed, 06 May 2020   Prob (F-statistic):           4.83e-98\n",
       "Time:                        13:33:34   Log-Likelihood:                -386.20\n",
       "No. Observations:                 200   AIC:                             778.4\n",
       "Df Residuals:                     197   BIC:                             788.3\n",
       "Df Model:                           2                                         \n",
       "Covariance Type:            nonrobust                                         \n",
       "==============================================================================\n",
       "                 coef    std err          t      P>|t|      [0.025      0.975]\n",
       "------------------------------------------------------------------------------\n",
       "const          2.9211      0.294      9.919      0.000       2.340       3.502\n",
       "x1             0.0458      0.001     32.909      0.000       0.043       0.048\n",
       "x2             0.1880      0.008     23.382      0.000       0.172       0.204\n",
       "==============================================================================\n",
       "Omnibus:                       60.022   Durbin-Watson:                   2.081\n",
       "Prob(Omnibus):                  0.000   Jarque-Bera (JB):              148.679\n",
       "Skew:                          -1.323   Prob(JB):                     5.19e-33\n",
       "Kurtosis:                       6.292   Cond. No.                         425.\n",
       "==============================================================================\n",
       "\n",
       "Warnings:\n",
       "[1] Standard Errors assume that the covariance matrix of the errors is correctly specified.\n",
       "\"\"\""
      ]
     },
     "execution_count": 361,
     "metadata": {},
     "output_type": "execute_result"
    }
   ],
   "source": [
    "mod = sm.OLS(endog=y, exog=X1)\n",
    "res = mod.fit()\n",
    "res.summary()"
   ]
  },
  {
   "cell_type": "markdown",
   "metadata": {},
   "source": [
    "**No newspaper**"
   ]
  },
  {
   "cell_type": "code",
   "execution_count": 364,
   "metadata": {},
   "outputs": [
    {
     "data": {
      "text/plain": [
       "556.9261731636"
      ]
     },
     "execution_count": 364,
     "metadata": {},
     "output_type": "execute_result"
    }
   ],
   "source": [
    "my_betas_noNews = [2.9211, 0.0458, 0.1880]\n",
    "my_rss_mv_noNews = get_rss_v2(my_betas_noNews, my_X_vals[:, 0:3], my_y_vals)\n",
    "my_rss_mv_noNews"
   ]
  },
  {
   "cell_type": "code",
   "execution_count": 365,
   "metadata": {},
   "outputs": [
    {
     "data": {
      "text/plain": [
       "0.032569771452185675"
      ]
     },
     "execution_count": 365,
     "metadata": {},
     "output_type": "execute_result"
    }
   ],
   "source": [
    "((my_rss_mv_noNews-my_rss_mv)/1)/(my_rss_mv/(n-3-1))"
   ]
  },
  {
   "cell_type": "code",
   "execution_count": 366,
   "metadata": {},
   "outputs": [
    {
     "data": {
      "text/plain": [
       "0.0324"
      ]
     },
     "execution_count": 366,
     "metadata": {},
     "output_type": "execute_result"
    }
   ],
   "source": [
    "(-0.18)**2"
   ]
  },
  {
   "cell_type": "markdown",
   "metadata": {},
   "source": [
    "**No radio**"
   ]
  },
  {
   "cell_type": "code",
   "execution_count": 367,
   "metadata": {},
   "outputs": [],
   "source": [
    "# endog=target, exog=features\n",
    "X = df_ad[[\"TV\", \"Newspaper\"]]\n",
    "y = df_ad[\"Sales\"]\n",
    "X1 = sm.add_constant(X.values)  # Vector of 1s is needed"
   ]
  },
  {
   "cell_type": "code",
   "execution_count": 368,
   "metadata": {},
   "outputs": [
    {
     "data": {
      "text/html": [
       "<table class=\"simpletable\">\n",
       "<caption>OLS Regression Results</caption>\n",
       "<tr>\n",
       "  <th>Dep. Variable:</th>          <td>Sales</td>      <th>  R-squared:         </th> <td>   0.646</td>\n",
       "</tr>\n",
       "<tr>\n",
       "  <th>Model:</th>                   <td>OLS</td>       <th>  Adj. R-squared:    </th> <td>   0.642</td>\n",
       "</tr>\n",
       "<tr>\n",
       "  <th>Method:</th>             <td>Least Squares</td>  <th>  F-statistic:       </th> <td>   179.6</td>\n",
       "</tr>\n",
       "<tr>\n",
       "  <th>Date:</th>             <td>Wed, 06 May 2020</td> <th>  Prob (F-statistic):</th> <td>3.95e-45</td>\n",
       "</tr>\n",
       "<tr>\n",
       "  <th>Time:</th>                 <td>13:38:19</td>     <th>  Log-Likelihood:    </th> <td> -509.89</td>\n",
       "</tr>\n",
       "<tr>\n",
       "  <th>No. Observations:</th>      <td>   200</td>      <th>  AIC:               </th> <td>   1026.</td>\n",
       "</tr>\n",
       "<tr>\n",
       "  <th>Df Residuals:</th>          <td>   197</td>      <th>  BIC:               </th> <td>   1036.</td>\n",
       "</tr>\n",
       "<tr>\n",
       "  <th>Df Model:</th>              <td>     2</td>      <th>                     </th>     <td> </td>   \n",
       "</tr>\n",
       "<tr>\n",
       "  <th>Covariance Type:</th>      <td>nonrobust</td>    <th>                     </th>     <td> </td>   \n",
       "</tr>\n",
       "</table>\n",
       "<table class=\"simpletable\">\n",
       "<tr>\n",
       "    <td></td>       <th>coef</th>     <th>std err</th>      <th>t</th>      <th>P>|t|</th>  <th>[0.025</th>    <th>0.975]</th>  \n",
       "</tr>\n",
       "<tr>\n",
       "  <th>const</th> <td>    5.7749</td> <td>    0.525</td> <td>   10.993</td> <td> 0.000</td> <td>    4.739</td> <td>    6.811</td>\n",
       "</tr>\n",
       "<tr>\n",
       "  <th>x1</th>    <td>    0.0469</td> <td>    0.003</td> <td>   18.173</td> <td> 0.000</td> <td>    0.042</td> <td>    0.052</td>\n",
       "</tr>\n",
       "<tr>\n",
       "  <th>x2</th>    <td>    0.0442</td> <td>    0.010</td> <td>    4.346</td> <td> 0.000</td> <td>    0.024</td> <td>    0.064</td>\n",
       "</tr>\n",
       "</table>\n",
       "<table class=\"simpletable\">\n",
       "<tr>\n",
       "  <th>Omnibus:</th>       <td> 0.658</td> <th>  Durbin-Watson:     </th> <td>   1.969</td>\n",
       "</tr>\n",
       "<tr>\n",
       "  <th>Prob(Omnibus):</th> <td> 0.720</td> <th>  Jarque-Bera (JB):  </th> <td>   0.415</td>\n",
       "</tr>\n",
       "<tr>\n",
       "  <th>Skew:</th>          <td>-0.093</td> <th>  Prob(JB):          </th> <td>   0.813</td>\n",
       "</tr>\n",
       "<tr>\n",
       "  <th>Kurtosis:</th>      <td> 3.122</td> <th>  Cond. No.          </th> <td>    410.</td>\n",
       "</tr>\n",
       "</table><br/><br/>Warnings:<br/>[1] Standard Errors assume that the covariance matrix of the errors is correctly specified."
      ],
      "text/plain": [
       "<class 'statsmodels.iolib.summary.Summary'>\n",
       "\"\"\"\n",
       "                            OLS Regression Results                            \n",
       "==============================================================================\n",
       "Dep. Variable:                  Sales   R-squared:                       0.646\n",
       "Model:                            OLS   Adj. R-squared:                  0.642\n",
       "Method:                 Least Squares   F-statistic:                     179.6\n",
       "Date:                Wed, 06 May 2020   Prob (F-statistic):           3.95e-45\n",
       "Time:                        13:38:19   Log-Likelihood:                -509.89\n",
       "No. Observations:                 200   AIC:                             1026.\n",
       "Df Residuals:                     197   BIC:                             1036.\n",
       "Df Model:                           2                                         \n",
       "Covariance Type:            nonrobust                                         \n",
       "==============================================================================\n",
       "                 coef    std err          t      P>|t|      [0.025      0.975]\n",
       "------------------------------------------------------------------------------\n",
       "const          5.7749      0.525     10.993      0.000       4.739       6.811\n",
       "x1             0.0469      0.003     18.173      0.000       0.042       0.052\n",
       "x2             0.0442      0.010      4.346      0.000       0.024       0.064\n",
       "==============================================================================\n",
       "Omnibus:                        0.658   Durbin-Watson:                   1.969\n",
       "Prob(Omnibus):                  0.720   Jarque-Bera (JB):                0.415\n",
       "Skew:                          -0.093   Prob(JB):                        0.813\n",
       "Kurtosis:                       3.122   Cond. No.                         410.\n",
       "==============================================================================\n",
       "\n",
       "Warnings:\n",
       "[1] Standard Errors assume that the covariance matrix of the errors is correctly specified.\n",
       "\"\"\""
      ]
     },
     "execution_count": 368,
     "metadata": {},
     "output_type": "execute_result"
    }
   ],
   "source": [
    "mod = sm.OLS(endog=y, exog=X1)\n",
    "res = mod.fit()\n",
    "res.summary()"
   ]
  },
  {
   "cell_type": "code",
   "execution_count": 372,
   "metadata": {},
   "outputs": [
    {
     "data": {
      "text/plain": [
       "1918.5619851282997"
      ]
     },
     "execution_count": 372,
     "metadata": {},
     "output_type": "execute_result"
    }
   ],
   "source": [
    "my_betas_noRadio = [5.7749, 0.0469, 0.0442]\n",
    "my_rss_mv_noRadio = get_rss_v2(my_betas_noRadio, my_X_vals[:, [0, 1, 3]], my_y_vals)\n",
    "my_rss_mv_noRadio"
   ]
  },
  {
   "cell_type": "code",
   "execution_count": 373,
   "metadata": {},
   "outputs": [
    {
     "data": {
      "text/plain": [
       "479.3150674784999"
      ]
     },
     "execution_count": 373,
     "metadata": {},
     "output_type": "execute_result"
    }
   ],
   "source": [
    "((my_rss_mv_noRadio-my_rss_mv)/1)/(my_rss_mv/(n-3-1))"
   ]
  },
  {
   "cell_type": "code",
   "execution_count": 374,
   "metadata": {},
   "outputs": [
    {
     "data": {
      "text/plain": [
       "479.1721"
      ]
     },
     "execution_count": 374,
     "metadata": {},
     "output_type": "execute_result"
    }
   ],
   "source": [
    "21.89**2"
   ]
  },
  {
   "cell_type": "code",
   "execution_count": null,
   "metadata": {},
   "outputs": [],
   "source": []
  },
  {
   "cell_type": "code",
   "execution_count": null,
   "metadata": {},
   "outputs": [],
   "source": []
  },
  {
   "cell_type": "markdown",
   "metadata": {},
   "source": [
    "#### TV, radio model"
   ]
  },
  {
   "cell_type": "markdown",
   "metadata": {},
   "source": [
    "**no radio**"
   ]
  },
  {
   "cell_type": "code",
   "execution_count": 382,
   "metadata": {},
   "outputs": [],
   "source": [
    "# endog=target, exog=features\n",
    "X = df_ad[[\"TV\", \"Radio\"]]\n",
    "y = df_ad[\"Sales\"]\n",
    "X1 = sm.add_constant(X.values)  # Vector of 1s is needed"
   ]
  },
  {
   "cell_type": "code",
   "execution_count": 383,
   "metadata": {},
   "outputs": [
    {
     "data": {
      "text/html": [
       "<table class=\"simpletable\">\n",
       "<caption>OLS Regression Results</caption>\n",
       "<tr>\n",
       "  <th>Dep. Variable:</th>          <td>Sales</td>      <th>  R-squared:         </th> <td>   0.897</td>\n",
       "</tr>\n",
       "<tr>\n",
       "  <th>Model:</th>                   <td>OLS</td>       <th>  Adj. R-squared:    </th> <td>   0.896</td>\n",
       "</tr>\n",
       "<tr>\n",
       "  <th>Method:</th>             <td>Least Squares</td>  <th>  F-statistic:       </th> <td>   859.6</td>\n",
       "</tr>\n",
       "<tr>\n",
       "  <th>Date:</th>             <td>Wed, 06 May 2020</td> <th>  Prob (F-statistic):</th> <td>4.83e-98</td>\n",
       "</tr>\n",
       "<tr>\n",
       "  <th>Time:</th>                 <td>13:47:42</td>     <th>  Log-Likelihood:    </th> <td> -386.20</td>\n",
       "</tr>\n",
       "<tr>\n",
       "  <th>No. Observations:</th>      <td>   200</td>      <th>  AIC:               </th> <td>   778.4</td>\n",
       "</tr>\n",
       "<tr>\n",
       "  <th>Df Residuals:</th>          <td>   197</td>      <th>  BIC:               </th> <td>   788.3</td>\n",
       "</tr>\n",
       "<tr>\n",
       "  <th>Df Model:</th>              <td>     2</td>      <th>                     </th>     <td> </td>   \n",
       "</tr>\n",
       "<tr>\n",
       "  <th>Covariance Type:</th>      <td>nonrobust</td>    <th>                     </th>     <td> </td>   \n",
       "</tr>\n",
       "</table>\n",
       "<table class=\"simpletable\">\n",
       "<tr>\n",
       "    <td></td>       <th>coef</th>     <th>std err</th>      <th>t</th>      <th>P>|t|</th>  <th>[0.025</th>    <th>0.975]</th>  \n",
       "</tr>\n",
       "<tr>\n",
       "  <th>const</th> <td>    2.9211</td> <td>    0.294</td> <td>    9.919</td> <td> 0.000</td> <td>    2.340</td> <td>    3.502</td>\n",
       "</tr>\n",
       "<tr>\n",
       "  <th>x1</th>    <td>    0.0458</td> <td>    0.001</td> <td>   32.909</td> <td> 0.000</td> <td>    0.043</td> <td>    0.048</td>\n",
       "</tr>\n",
       "<tr>\n",
       "  <th>x2</th>    <td>    0.1880</td> <td>    0.008</td> <td>   23.382</td> <td> 0.000</td> <td>    0.172</td> <td>    0.204</td>\n",
       "</tr>\n",
       "</table>\n",
       "<table class=\"simpletable\">\n",
       "<tr>\n",
       "  <th>Omnibus:</th>       <td>60.022</td> <th>  Durbin-Watson:     </th> <td>   2.081</td>\n",
       "</tr>\n",
       "<tr>\n",
       "  <th>Prob(Omnibus):</th> <td> 0.000</td> <th>  Jarque-Bera (JB):  </th> <td> 148.679</td>\n",
       "</tr>\n",
       "<tr>\n",
       "  <th>Skew:</th>          <td>-1.323</td> <th>  Prob(JB):          </th> <td>5.19e-33</td>\n",
       "</tr>\n",
       "<tr>\n",
       "  <th>Kurtosis:</th>      <td> 6.292</td> <th>  Cond. No.          </th> <td>    425.</td>\n",
       "</tr>\n",
       "</table><br/><br/>Warnings:<br/>[1] Standard Errors assume that the covariance matrix of the errors is correctly specified."
      ],
      "text/plain": [
       "<class 'statsmodels.iolib.summary.Summary'>\n",
       "\"\"\"\n",
       "                            OLS Regression Results                            \n",
       "==============================================================================\n",
       "Dep. Variable:                  Sales   R-squared:                       0.897\n",
       "Model:                            OLS   Adj. R-squared:                  0.896\n",
       "Method:                 Least Squares   F-statistic:                     859.6\n",
       "Date:                Wed, 06 May 2020   Prob (F-statistic):           4.83e-98\n",
       "Time:                        13:47:42   Log-Likelihood:                -386.20\n",
       "No. Observations:                 200   AIC:                             778.4\n",
       "Df Residuals:                     197   BIC:                             788.3\n",
       "Df Model:                           2                                         \n",
       "Covariance Type:            nonrobust                                         \n",
       "==============================================================================\n",
       "                 coef    std err          t      P>|t|      [0.025      0.975]\n",
       "------------------------------------------------------------------------------\n",
       "const          2.9211      0.294      9.919      0.000       2.340       3.502\n",
       "x1             0.0458      0.001     32.909      0.000       0.043       0.048\n",
       "x2             0.1880      0.008     23.382      0.000       0.172       0.204\n",
       "==============================================================================\n",
       "Omnibus:                       60.022   Durbin-Watson:                   2.081\n",
       "Prob(Omnibus):                  0.000   Jarque-Bera (JB):              148.679\n",
       "Skew:                          -1.323   Prob(JB):                     5.19e-33\n",
       "Kurtosis:                       6.292   Cond. No.                         425.\n",
       "==============================================================================\n",
       "\n",
       "Warnings:\n",
       "[1] Standard Errors assume that the covariance matrix of the errors is correctly specified.\n",
       "\"\"\""
      ]
     },
     "execution_count": 383,
     "metadata": {},
     "output_type": "execute_result"
    }
   ],
   "source": [
    "mod = sm.OLS(endog=y, exog=X1)\n",
    "res = mod.fit()\n",
    "res.summary()"
   ]
  },
  {
   "cell_type": "code",
   "execution_count": 384,
   "metadata": {},
   "outputs": [],
   "source": [
    "my_betas_tvradio = [2.9211, 0.0458, 0.1880]"
   ]
  },
  {
   "cell_type": "code",
   "execution_count": 386,
   "metadata": {},
   "outputs": [],
   "source": [
    "my_rss_tvradio = get_rss_v2(my_betas_tvradio, my_X_vals[:, 0:3], my_y_vals)"
   ]
  },
  {
   "cell_type": "code",
   "execution_count": null,
   "metadata": {},
   "outputs": [],
   "source": []
  },
  {
   "cell_type": "code",
   "execution_count": 375,
   "metadata": {},
   "outputs": [
    {
     "data": {
      "text/plain": [
       "29038.094702000002"
      ]
     },
     "execution_count": 375,
     "metadata": {},
     "output_type": "execute_result"
    }
   ],
   "source": [
    "\n",
    "my_rss_mv_noRadio = get_rss_v2(my_betas_tvradio, my_X_vals[:, 0:1], my_y_vals)\n",
    "my_rss_mv_noRadio"
   ]
  },
  {
   "cell_type": "code",
   "execution_count": 379,
   "metadata": {},
   "outputs": [
    {
     "data": {
      "text/plain": [
       "10025.125527939006"
      ]
     },
     "execution_count": 379,
     "metadata": {},
     "output_type": "execute_result"
    }
   ],
   "source": [
    "((my_rss_mv_noRadio-my_rss_mv)/1)/(my_rss_mv/(n-3-1))"
   ]
  },
  {
   "cell_type": "code",
   "execution_count": 378,
   "metadata": {},
   "outputs": [
    {
     "data": {
      "text/plain": [
       "1076.4961"
      ]
     },
     "execution_count": 378,
     "metadata": {},
     "output_type": "execute_result"
    }
   ],
   "source": [
    "32.81**2"
   ]
  },
  {
   "cell_type": "code",
   "execution_count": null,
   "metadata": {},
   "outputs": [],
   "source": []
  },
  {
   "cell_type": "code",
   "execution_count": null,
   "metadata": {},
   "outputs": [],
   "source": []
  },
  {
   "attachments": {
    "p81_fig3.5.png": {
     "image/png": "[encoded data removed]"
    }
   },
   "cell_type": "markdown",
   "metadata": {},
   "source": [
    "**Two: Deciding on important variables**\n",
    "\n",
    "We know that we can look at the F-statistic to see if there is at least *one* feature that significantly related to the response. We can look at p-values of each feature but if the number of features is large, we can make some false discoveries. We could apply a process of *variable* or *feature selection*. We can try different combinations of features but practically that would be time consuming. Instead, we can apply classical approaches for this task:\n",
    "\n",
    "- *Forward selection*. Start with a null model, one that contains an intercept but no predictors. Then fit *m* simple linear regressions (m=number of features) and add to the null model the variable that results in the lowest RSS. Add a second variable that results in the lowest RSS for the next two-variable model. Keep doing this until some stopping rule is satisifed.\n",
    "- *Backward selection*. Instead start with all variables in the model, then remove the variable with the largest p-value (least significant). Keep doing this until some stopping rule is reached (e.g. when the remaining variables have a p-value below some threshold.\n",
    "- *Mixed selection*. A combination of forward and backward selection. Start with no variables in the model, then add variable that best fits like in forward selection. Keep adding until a variable added rises above a p-value threshold, then remove it. Continue performing forward and backward steps until all variables have a sufficiently low p-value and all variables outside the model would have a large p-value if added to the model. (*Not entirely sure I understand this.*)\n",
    "\n",
    "Note: Backward selection cannot be used if m > n, while forward selection can always be used. Forward selection is a greedy approach, and might include variables early that later become redundant. Mixed selection can remedy this.\n",
    "\n",
    "More detail about this is discussed in Chapter 6.\n",
    "\n",
    "**Three: Model fit**\n",
    "\n",
    "Two of the most common numerical measures of model fit are the RSE and $R^2$, the fraction of variance explained. Recall that in simple regression, $R^2$is the square of the correlation of the response and the variable. In multiple linear regression, it equals $Cor(Y, \\hat{Y})^2$, the square of the correlation between the response and the fitted linear model; in fact one property of the fitted linear model is that it maximizes thsi correlation among all possible linear models.\n",
    "\n",
    "An $R^2$ close to 1 indicates that the model explains a large portion of the variance in the response variable. This is true even in the Advertising data where using all three variables gives an $R^2$ of 0.8972 while omitting newspaper gives $R^2$ of 0.89719. There's a small increase when we include newspaper even though we know that the p-value for newspaper advertising is not significant. It turns out that $R^2$ will always increase when more variables are added to the model, even if those variables are only weakly associated with the response. In contrast, when using only TV, the $R^2$ was 0.61 and adding radio leads to a substantial improvement. We can further quantify this improvement by looking at the p-value for the radio coefficient in a model that contains only TV and radio as predictors.\n",
    "  \n",
    "What about RSE? The model that contains only TV and radio has an RSE of 1.681 while including newspaper has one of 1.686. How can RSE increase when newspaper is added given that RSS must decrease? In general, RSE is defined as:\n",
    "    <br>\n",
    "    $RSE = \\sqrt{\\frac{1}{n-p-1}RSS}$\n",
    "    <br>\n",
    "Thus, models with more variables can have higher RSE if the decrease in RSS is small relative to the increase in m. The square root in the equation means that an added or removed feature will impact RSS and RSE in a non-linear fashion.\n",
    "\n",
    "Plotting the data also helps. Graphical summaries can reveal problems with a model that are not visible from numerical statistics. In the 3D plot, some observations lie below the least squares regression plane while some are above. It overestimates sales for instances in which most of the advertising money is spent exclusively on either TV or radio while underestimating sales when the budget was split between the two media. The pronounced non-linear pattern cannot be modeled accurately using linear regression. It suggests a *synergy* or *interaction* effect between the advertising media, whereby combining the media together results in a bigger boost to sales than using any single medium. Later we'll discuss accomdating synergistic effects through the use of interaction terms.\n",
    "    \n",
    "![p81_fig3.5.png](attachment:p81_fig3.5.png)\n",
    "\n",
    "RSE = residual standard error (looks same? as root mean square error)\n",
    "<br>\n",
    "RSS = residual sum of squares (looks same? as mean square error)\n",
    "\n",
    "\n",
    "**Four: Predictions**\n",
    "\n",
    "Once we have fit the multiple regression model, it is straightforward to apply the equation to predict the response *Y* on the basis of a set fo values for the predictors $X_1, X_2,...X_p$. However, there are three sorts of uncertainty associated with this prediction.\n",
    "\n",
    "1. The coefficient estimates ${\\hat\\beta_0}$, ${\\hat\\beta_1}$,... ${\\hat\\beta_m}$ are only estimates for ${\\beta_0}$, ${\\beta_1}$,... ${\\beta_m}$. The *least squares plane* is only an estimate for the *true population regression plane.* The inaccuracy in the coefficient estimates is related to the *reducible error* from Chapter 2. We can compute a *confidence interval* in order to determine how close $\\hat{Y}$ will be to *f(X)*.\n",
    "\n",
    "2. Even if we knew the true values, the response value cannot be predicted perfectly because of the random error $\\epsilon$ in the model (the irreducible error). How much will $Y$ vary from $\\hat{Y}$? We use *prediction intervals* to answer this question. Prediction intervals are always wider than confidence intervals, because they incorporate both the error in the estimate for f(X) (the reducible error) and the uncertainty as to how much an individual point will differ from the population regression plane (the irreducible error).\n",
    "    - Confidence interval: use to quantify the uncertainty surrounding the average sales over a large number of cities (given that 100K and 20K is spent on TV and radio in each city, the CI for sales could be (10985, 11528))\n",
    "    - Prediction interval: use to quantify the uncertainty surrounding sales for a particular city (given that 100K and 20K is spent on TV and radio in a particular city, the PI for sales could be (7930, 14580))\n",
    "\n",
    "Note that both intervals are centered at 11256 but that the prediction interval is substantially wider tha the confidence interval, reflecting the increased uncertainty about sales for a given city in comparison to the average sales over many locations.\n",
    "\n",
    "**Other: Interpret the coefficients in both the simple and multiple regression setting. How much would we expect an additional \\$1000 of advertising spending in each category to increase sales?**"
   ]
  },
  {
   "cell_type": "code",
   "execution_count": null,
   "metadata": {},
   "outputs": [],
   "source": []
  },
  {
   "cell_type": "code",
   "execution_count": null,
   "metadata": {},
   "outputs": [],
   "source": []
  },
  {
   "cell_type": "markdown",
   "metadata": {},
   "source": [
    "# (BL exercise) Understanding p-values"
   ]
  },
  {
   "cell_type": "code",
   "execution_count": 15,
   "metadata": {},
   "outputs": [
    {
     "data": {
      "text/html": [
       "<div>\n",
       "<style scoped>\n",
       "    .dataframe tbody tr th:only-of-type {\n",
       "        vertical-align: middle;\n",
       "    }\n",
       "\n",
       "    .dataframe tbody tr th {\n",
       "        vertical-align: top;\n",
       "    }\n",
       "\n",
       "    .dataframe thead th {\n",
       "        text-align: right;\n",
       "    }\n",
       "</style>\n",
       "<table border=\"1\" class=\"dataframe\">\n",
       "  <thead>\n",
       "    <tr style=\"text-align: right;\">\n",
       "      <th></th>\n",
       "      <th>Income</th>\n",
       "      <th>Limit</th>\n",
       "      <th>Rating</th>\n",
       "      <th>Cards</th>\n",
       "      <th>Age</th>\n",
       "      <th>Education</th>\n",
       "      <th>Gender</th>\n",
       "      <th>Student</th>\n",
       "      <th>Married</th>\n",
       "      <th>Ethnicity</th>\n",
       "      <th>Balance</th>\n",
       "    </tr>\n",
       "  </thead>\n",
       "  <tbody>\n",
       "    <tr>\n",
       "      <th>1</th>\n",
       "      <td>14.891</td>\n",
       "      <td>3606</td>\n",
       "      <td>283</td>\n",
       "      <td>2</td>\n",
       "      <td>34</td>\n",
       "      <td>11</td>\n",
       "      <td>Male</td>\n",
       "      <td>No</td>\n",
       "      <td>Yes</td>\n",
       "      <td>Caucasian</td>\n",
       "      <td>333</td>\n",
       "    </tr>\n",
       "    <tr>\n",
       "      <th>2</th>\n",
       "      <td>106.025</td>\n",
       "      <td>6645</td>\n",
       "      <td>483</td>\n",
       "      <td>3</td>\n",
       "      <td>82</td>\n",
       "      <td>15</td>\n",
       "      <td>Female</td>\n",
       "      <td>Yes</td>\n",
       "      <td>Yes</td>\n",
       "      <td>Asian</td>\n",
       "      <td>903</td>\n",
       "    </tr>\n",
       "    <tr>\n",
       "      <th>3</th>\n",
       "      <td>104.593</td>\n",
       "      <td>7075</td>\n",
       "      <td>514</td>\n",
       "      <td>4</td>\n",
       "      <td>71</td>\n",
       "      <td>11</td>\n",
       "      <td>Male</td>\n",
       "      <td>No</td>\n",
       "      <td>No</td>\n",
       "      <td>Asian</td>\n",
       "      <td>580</td>\n",
       "    </tr>\n",
       "    <tr>\n",
       "      <th>4</th>\n",
       "      <td>148.924</td>\n",
       "      <td>9504</td>\n",
       "      <td>681</td>\n",
       "      <td>3</td>\n",
       "      <td>36</td>\n",
       "      <td>11</td>\n",
       "      <td>Female</td>\n",
       "      <td>No</td>\n",
       "      <td>No</td>\n",
       "      <td>Asian</td>\n",
       "      <td>964</td>\n",
       "    </tr>\n",
       "    <tr>\n",
       "      <th>5</th>\n",
       "      <td>55.882</td>\n",
       "      <td>4897</td>\n",
       "      <td>357</td>\n",
       "      <td>2</td>\n",
       "      <td>68</td>\n",
       "      <td>16</td>\n",
       "      <td>Male</td>\n",
       "      <td>No</td>\n",
       "      <td>Yes</td>\n",
       "      <td>Caucasian</td>\n",
       "      <td>331</td>\n",
       "    </tr>\n",
       "  </tbody>\n",
       "</table>\n",
       "</div>"
      ],
      "text/plain": [
       "    Income  Limit  Rating  Cards  Age  Education  Gender Student Married  \\\n",
       "1   14.891   3606     283      2   34         11    Male      No     Yes   \n",
       "2  106.025   6645     483      3   82         15  Female     Yes     Yes   \n",
       "3  104.593   7075     514      4   71         11    Male      No      No   \n",
       "4  148.924   9504     681      3   36         11  Female      No      No   \n",
       "5   55.882   4897     357      2   68         16    Male      No     Yes   \n",
       "\n",
       "   Ethnicity  Balance  \n",
       "1  Caucasian      333  \n",
       "2      Asian      903  \n",
       "3      Asian      580  \n",
       "4      Asian      964  \n",
       "5  Caucasian      331  "
      ]
     },
     "execution_count": 15,
     "metadata": {},
     "output_type": "execute_result"
    }
   ],
   "source": [
    "df_credit = pd.read_csv(\"ISLR_data/Credit.csv\", index_col=0)\n",
    "df_credit.head()"
   ]
  },
  {
   "cell_type": "code",
   "execution_count": 47,
   "metadata": {},
   "outputs": [
    {
     "data": {
      "image/png": "[encoded data removed]",
      "text/plain": [
       "<Figure size 1008x288 with 3 Axes>"
      ]
     },
     "metadata": {
      "needs_background": "light"
     },
     "output_type": "display_data"
    }
   ],
   "source": [
    "f, (ax1, ax2, ax3) = plt.subplots(1, 3, figsize=(14, 4))\n",
    "sns.scatterplot(x='Limit', y='Rating', data=df_credit, ax=ax1)\n",
    "sns.scatterplot(x='Limit', y='Balance', data=df_credit, ax=ax2);\n",
    "sns.scatterplot(x='Education', y='Balance', data=df_credit, ax=ax3)\n",
    "plt.tight_layout();\n",
    ";\n",
    ";"
   ]
  },
  {
   "cell_type": "markdown",
   "metadata": {},
   "source": [
    "## Generate a smaller test set"
   ]
  },
  {
   "cell_type": "code",
   "execution_count": 98,
   "metadata": {},
   "outputs": [],
   "source": [
    "df_credit_sample = df_credit.sample(30)"
   ]
  },
  {
   "cell_type": "code",
   "execution_count": 99,
   "metadata": {},
   "outputs": [
    {
     "data": {
      "image/png": "[encoded data removed]",
      "text/plain": [
       "<Figure size 1008x288 with 3 Axes>"
      ]
     },
     "metadata": {
      "needs_background": "light"
     },
     "output_type": "display_data"
    }
   ],
   "source": [
    "f, (ax1, ax2, ax3) = plt.subplots(1, 3, figsize=(14, 4))\n",
    "sns.scatterplot(x='Limit', y='Rating', data=df_credit_sample, ax=ax1)\n",
    "sns.scatterplot(x='Limit', y='Balance', data=df_credit_sample, ax=ax2);\n",
    "sns.scatterplot(x='Education', y='Balance', data=df_credit_sample, ax=ax3)\n",
    "plt.tight_layout();\n",
    ";\n",
    ";"
   ]
  },
  {
   "cell_type": "code",
   "execution_count": null,
   "metadata": {},
   "outputs": [],
   "source": []
  },
  {
   "cell_type": "code",
   "execution_count": null,
   "metadata": {},
   "outputs": [],
   "source": []
  },
  {
   "cell_type": "code",
   "execution_count": null,
   "metadata": {},
   "outputs": [],
   "source": []
  },
  {
   "cell_type": "markdown",
   "metadata": {},
   "source": [
    "## Statsmodels method"
   ]
  },
  {
   "cell_type": "code",
   "execution_count": 31,
   "metadata": {},
   "outputs": [],
   "source": [
    "import statsmodels.api as sm\n",
    "\n",
    "# https://www.statsmodels.org/stable/regression.html\n",
    "# https://www.statsmodels.org/stable/endog_exog.html"
   ]
  },
  {
   "cell_type": "code",
   "execution_count": 87,
   "metadata": {},
   "outputs": [
    {
     "data": {
      "text/html": [
       "<table class=\"simpletable\">\n",
       "<caption>OLS Regression Results</caption>\n",
       "<tr>\n",
       "  <th>Dep. Variable:</th>            <td>y</td>        <th>  R-squared:         </th> <td>   0.994</td> \n",
       "</tr>\n",
       "<tr>\n",
       "  <th>Model:</th>                   <td>OLS</td>       <th>  Adj. R-squared:    </th> <td>   0.994</td> \n",
       "</tr>\n",
       "<tr>\n",
       "  <th>Method:</th>             <td>Least Squares</td>  <th>  F-statistic:       </th> <td>6.348e+04</td>\n",
       "</tr>\n",
       "<tr>\n",
       "  <th>Date:</th>             <td>Tue, 05 May 2020</td> <th>  Prob (F-statistic):</th>  <td>  0.00</td>  \n",
       "</tr>\n",
       "<tr>\n",
       "  <th>Time:</th>                 <td>18:32:28</td>     <th>  Log-Likelihood:    </th> <td> -1568.1</td> \n",
       "</tr>\n",
       "<tr>\n",
       "  <th>No. Observations:</th>      <td>   400</td>      <th>  AIC:               </th> <td>   3140.</td> \n",
       "</tr>\n",
       "<tr>\n",
       "  <th>Df Residuals:</th>          <td>   398</td>      <th>  BIC:               </th> <td>   3148.</td> \n",
       "</tr>\n",
       "<tr>\n",
       "  <th>Df Model:</th>              <td>     1</td>      <th>                     </th>     <td> </td>    \n",
       "</tr>\n",
       "<tr>\n",
       "  <th>Covariance Type:</th>      <td>nonrobust</td>    <th>                     </th>     <td> </td>    \n",
       "</tr>\n",
       "</table>\n",
       "<table class=\"simpletable\">\n",
       "<tr>\n",
       "    <td></td>       <th>coef</th>     <th>std err</th>      <th>t</th>      <th>P>|t|</th>  <th>[0.025</th>    <th>0.975]</th>  \n",
       "</tr>\n",
       "<tr>\n",
       "  <th>const</th> <td>   38.4918</td> <td>    1.397</td> <td>   27.555</td> <td> 0.000</td> <td>   35.746</td> <td>   41.238</td>\n",
       "</tr>\n",
       "<tr>\n",
       "  <th>x1</th>    <td>    0.0668</td> <td>    0.000</td> <td>  251.949</td> <td> 0.000</td> <td>    0.066</td> <td>    0.067</td>\n",
       "</tr>\n",
       "</table>\n",
       "<table class=\"simpletable\">\n",
       "<tr>\n",
       "  <th>Omnibus:</th>       <td> 7.074</td> <th>  Durbin-Watson:     </th> <td>   2.077</td>\n",
       "</tr>\n",
       "<tr>\n",
       "  <th>Prob(Omnibus):</th> <td> 0.029</td> <th>  Jarque-Bera (JB):  </th> <td>   5.177</td>\n",
       "</tr>\n",
       "<tr>\n",
       "  <th>Skew:</th>          <td> 0.155</td> <th>  Prob(JB):          </th> <td>  0.0751</td>\n",
       "</tr>\n",
       "<tr>\n",
       "  <th>Kurtosis:</th>      <td> 2.537</td> <th>  Cond. No.          </th> <td>1.20e+04</td>\n",
       "</tr>\n",
       "</table><br/><br/>Warnings:<br/>[1] Standard Errors assume that the covariance matrix of the errors is correctly specified.<br/>[2] The condition number is large, 1.2e+04. This might indicate that there are<br/>strong multicollinearity or other numerical problems."
      ],
      "text/plain": [
       "<class 'statsmodels.iolib.summary.Summary'>\n",
       "\"\"\"\n",
       "                            OLS Regression Results                            \n",
       "==============================================================================\n",
       "Dep. Variable:                      y   R-squared:                       0.994\n",
       "Model:                            OLS   Adj. R-squared:                  0.994\n",
       "Method:                 Least Squares   F-statistic:                 6.348e+04\n",
       "Date:                Tue, 05 May 2020   Prob (F-statistic):               0.00\n",
       "Time:                        18:32:28   Log-Likelihood:                -1568.1\n",
       "No. Observations:                 400   AIC:                             3140.\n",
       "Df Residuals:                     398   BIC:                             3148.\n",
       "Df Model:                           1                                         \n",
       "Covariance Type:            nonrobust                                         \n",
       "==============================================================================\n",
       "                 coef    std err          t      P>|t|      [0.025      0.975]\n",
       "------------------------------------------------------------------------------\n",
       "const         38.4918      1.397     27.555      0.000      35.746      41.238\n",
       "x1             0.0668      0.000    251.949      0.000       0.066       0.067\n",
       "==============================================================================\n",
       "Omnibus:                        7.074   Durbin-Watson:                   2.077\n",
       "Prob(Omnibus):                  0.029   Jarque-Bera (JB):                5.177\n",
       "Skew:                           0.155   Prob(JB):                       0.0751\n",
       "Kurtosis:                       2.537   Cond. No.                     1.20e+04\n",
       "==============================================================================\n",
       "\n",
       "Warnings:\n",
       "[1] Standard Errors assume that the covariance matrix of the errors is correctly specified.\n",
       "[2] The condition number is large, 1.2e+04. This might indicate that there are\n",
       "strong multicollinearity or other numerical problems.\n",
       "\"\"\""
      ]
     },
     "execution_count": 87,
     "metadata": {},
     "output_type": "execute_result"
    }
   ],
   "source": [
    "# endog=target, exog=features\n",
    "X = df_credit[\"Limit\"].values\n",
    "y = df_credit[\"Rating\"].values\n",
    "X1 = sm.add_constant(X)  # Vector of 1s is needed\n",
    "\n",
    "mod = sm.OLS(endog=y, exog=X1)\n",
    "res = mod.fit()\n",
    "res.summary()"
   ]
  },
  {
   "cell_type": "code",
   "execution_count": 92,
   "metadata": {},
   "outputs": [
    {
     "data": {
      "text/plain": [
       "63478.29860100001"
      ]
     },
     "execution_count": 92,
     "metadata": {},
     "output_type": "execute_result"
    }
   ],
   "source": [
    "251.949 ** 2"
   ]
  },
  {
   "cell_type": "code",
   "execution_count": 88,
   "metadata": {},
   "outputs": [
    {
     "data": {
      "text/html": [
       "<table class=\"simpletable\">\n",
       "<caption>OLS Regression Results</caption>\n",
       "<tr>\n",
       "  <th>Dep. Variable:</th>            <td>y</td>        <th>  R-squared:         </th> <td>   0.743</td> \n",
       "</tr>\n",
       "<tr>\n",
       "  <th>Model:</th>                   <td>OLS</td>       <th>  Adj. R-squared:    </th> <td>   0.742</td> \n",
       "</tr>\n",
       "<tr>\n",
       "  <th>Method:</th>             <td>Least Squares</td>  <th>  F-statistic:       </th> <td>   1148.</td> \n",
       "</tr>\n",
       "<tr>\n",
       "  <th>Date:</th>             <td>Tue, 05 May 2020</td> <th>  Prob (F-statistic):</th> <td>2.53e-119</td>\n",
       "</tr>\n",
       "<tr>\n",
       "  <th>Time:</th>                 <td>18:32:29</td>     <th>  Log-Likelihood:    </th> <td> -2748.0</td> \n",
       "</tr>\n",
       "<tr>\n",
       "  <th>No. Observations:</th>      <td>   400</td>      <th>  AIC:               </th> <td>   5500.</td> \n",
       "</tr>\n",
       "<tr>\n",
       "  <th>Df Residuals:</th>          <td>   398</td>      <th>  BIC:               </th> <td>   5508.</td> \n",
       "</tr>\n",
       "<tr>\n",
       "  <th>Df Model:</th>              <td>     1</td>      <th>                     </th>     <td> </td>    \n",
       "</tr>\n",
       "<tr>\n",
       "  <th>Covariance Type:</th>      <td>nonrobust</td>    <th>                     </th>     <td> </td>    \n",
       "</tr>\n",
       "</table>\n",
       "<table class=\"simpletable\">\n",
       "<tr>\n",
       "    <td></td>       <th>coef</th>     <th>std err</th>      <th>t</th>      <th>P>|t|</th>  <th>[0.025</th>    <th>0.975]</th>  \n",
       "</tr>\n",
       "<tr>\n",
       "  <th>const</th> <td> -292.7905</td> <td>   26.683</td> <td>  -10.973</td> <td> 0.000</td> <td> -345.249</td> <td> -240.332</td>\n",
       "</tr>\n",
       "<tr>\n",
       "  <th>x1</th>    <td>    0.1716</td> <td>    0.005</td> <td>   33.879</td> <td> 0.000</td> <td>    0.162</td> <td>    0.182</td>\n",
       "</tr>\n",
       "</table>\n",
       "<table class=\"simpletable\">\n",
       "<tr>\n",
       "  <th>Omnibus:</th>       <td>22.506</td> <th>  Durbin-Watson:     </th> <td>   1.953</td>\n",
       "</tr>\n",
       "<tr>\n",
       "  <th>Prob(Omnibus):</th> <td> 0.000</td> <th>  Jarque-Bera (JB):  </th> <td>  33.676</td>\n",
       "</tr>\n",
       "<tr>\n",
       "  <th>Skew:</th>          <td> 0.418</td> <th>  Prob(JB):          </th> <td>4.87e-08</td>\n",
       "</tr>\n",
       "<tr>\n",
       "  <th>Kurtosis:</th>      <td> 4.150</td> <th>  Cond. No.          </th> <td>1.20e+04</td>\n",
       "</tr>\n",
       "</table><br/><br/>Warnings:<br/>[1] Standard Errors assume that the covariance matrix of the errors is correctly specified.<br/>[2] The condition number is large, 1.2e+04. This might indicate that there are<br/>strong multicollinearity or other numerical problems."
      ],
      "text/plain": [
       "<class 'statsmodels.iolib.summary.Summary'>\n",
       "\"\"\"\n",
       "                            OLS Regression Results                            \n",
       "==============================================================================\n",
       "Dep. Variable:                      y   R-squared:                       0.743\n",
       "Model:                            OLS   Adj. R-squared:                  0.742\n",
       "Method:                 Least Squares   F-statistic:                     1148.\n",
       "Date:                Tue, 05 May 2020   Prob (F-statistic):          2.53e-119\n",
       "Time:                        18:32:29   Log-Likelihood:                -2748.0\n",
       "No. Observations:                 400   AIC:                             5500.\n",
       "Df Residuals:                     398   BIC:                             5508.\n",
       "Df Model:                           1                                         \n",
       "Covariance Type:            nonrobust                                         \n",
       "==============================================================================\n",
       "                 coef    std err          t      P>|t|      [0.025      0.975]\n",
       "------------------------------------------------------------------------------\n",
       "const       -292.7905     26.683    -10.973      0.000    -345.249    -240.332\n",
       "x1             0.1716      0.005     33.879      0.000       0.162       0.182\n",
       "==============================================================================\n",
       "Omnibus:                       22.506   Durbin-Watson:                   1.953\n",
       "Prob(Omnibus):                  0.000   Jarque-Bera (JB):               33.676\n",
       "Skew:                           0.418   Prob(JB):                     4.87e-08\n",
       "Kurtosis:                       4.150   Cond. No.                     1.20e+04\n",
       "==============================================================================\n",
       "\n",
       "Warnings:\n",
       "[1] Standard Errors assume that the covariance matrix of the errors is correctly specified.\n",
       "[2] The condition number is large, 1.2e+04. This might indicate that there are\n",
       "strong multicollinearity or other numerical problems.\n",
       "\"\"\""
      ]
     },
     "execution_count": 88,
     "metadata": {},
     "output_type": "execute_result"
    }
   ],
   "source": [
    "# endog=target, exog=features\n",
    "X = df_credit[\"Limit\"].values\n",
    "y = df_credit[\"Balance\"].values\n",
    "X1 = sm.add_constant(X)  # Vector of 1s is needed\n",
    "\n",
    "mod = sm.OLS(endog=y, exog=X1)\n",
    "res = mod.fit()\n",
    "res.summary()"
   ]
  },
  {
   "cell_type": "code",
   "execution_count": 91,
   "metadata": {},
   "outputs": [
    {
     "data": {
      "text/plain": [
       "1147.786641"
      ]
     },
     "execution_count": 91,
     "metadata": {},
     "output_type": "execute_result"
    }
   ],
   "source": [
    "33.879 ** 2"
   ]
  },
  {
   "cell_type": "code",
   "execution_count": null,
   "metadata": {},
   "outputs": [],
   "source": []
  },
  {
   "cell_type": "code",
   "execution_count": 89,
   "metadata": {},
   "outputs": [
    {
     "data": {
      "text/html": [
       "<table class=\"simpletable\">\n",
       "<caption>OLS Regression Results</caption>\n",
       "<tr>\n",
       "  <th>Dep. Variable:</th>            <td>y</td>        <th>  R-squared:         </th> <td>   0.000</td>\n",
       "</tr>\n",
       "<tr>\n",
       "  <th>Model:</th>                   <td>OLS</td>       <th>  Adj. R-squared:    </th> <td>  -0.002</td>\n",
       "</tr>\n",
       "<tr>\n",
       "  <th>Method:</th>             <td>Least Squares</td>  <th>  F-statistic:       </th> <td> 0.02587</td>\n",
       "</tr>\n",
       "<tr>\n",
       "  <th>Date:</th>             <td>Tue, 05 May 2020</td> <th>  Prob (F-statistic):</th>  <td> 0.872</td> \n",
       "</tr>\n",
       "<tr>\n",
       "  <th>Time:</th>                 <td>18:32:34</td>     <th>  Log-Likelihood:    </th> <td> -3019.3</td>\n",
       "</tr>\n",
       "<tr>\n",
       "  <th>No. Observations:</th>      <td>   400</td>      <th>  AIC:               </th> <td>   6043.</td>\n",
       "</tr>\n",
       "<tr>\n",
       "  <th>Df Residuals:</th>          <td>   398</td>      <th>  BIC:               </th> <td>   6051.</td>\n",
       "</tr>\n",
       "<tr>\n",
       "  <th>Df Model:</th>              <td>     1</td>      <th>                     </th>     <td> </td>   \n",
       "</tr>\n",
       "<tr>\n",
       "  <th>Covariance Type:</th>      <td>nonrobust</td>    <th>                     </th>     <td> </td>   \n",
       "</tr>\n",
       "</table>\n",
       "<table class=\"simpletable\">\n",
       "<tr>\n",
       "    <td></td>       <th>coef</th>     <th>std err</th>      <th>t</th>      <th>P>|t|</th>  <th>[0.025</th>    <th>0.975]</th>  \n",
       "</tr>\n",
       "<tr>\n",
       "  <th>const</th> <td>  535.9662</td> <td>  101.814</td> <td>    5.264</td> <td> 0.000</td> <td>  335.805</td> <td>  736.127</td>\n",
       "</tr>\n",
       "<tr>\n",
       "  <th>x1</th>    <td>   -1.1860</td> <td>    7.374</td> <td>   -0.161</td> <td> 0.872</td> <td>  -15.683</td> <td>   13.311</td>\n",
       "</tr>\n",
       "</table>\n",
       "<table class=\"simpletable\">\n",
       "<tr>\n",
       "  <th>Omnibus:</th>       <td>28.655</td> <th>  Durbin-Watson:     </th> <td>   1.943</td>\n",
       "</tr>\n",
       "<tr>\n",
       "  <th>Prob(Omnibus):</th> <td> 0.000</td> <th>  Jarque-Bera (JB):  </th> <td>  27.467</td>\n",
       "</tr>\n",
       "<tr>\n",
       "  <th>Skew:</th>          <td> 0.584</td> <th>  Prob(JB):          </th> <td>1.09e-06</td>\n",
       "</tr>\n",
       "<tr>\n",
       "  <th>Kurtosis:</th>      <td> 2.467</td> <th>  Cond. No.          </th> <td>    61.4</td>\n",
       "</tr>\n",
       "</table><br/><br/>Warnings:<br/>[1] Standard Errors assume that the covariance matrix of the errors is correctly specified."
      ],
      "text/plain": [
       "<class 'statsmodels.iolib.summary.Summary'>\n",
       "\"\"\"\n",
       "                            OLS Regression Results                            \n",
       "==============================================================================\n",
       "Dep. Variable:                      y   R-squared:                       0.000\n",
       "Model:                            OLS   Adj. R-squared:                 -0.002\n",
       "Method:                 Least Squares   F-statistic:                   0.02587\n",
       "Date:                Tue, 05 May 2020   Prob (F-statistic):              0.872\n",
       "Time:                        18:32:34   Log-Likelihood:                -3019.3\n",
       "No. Observations:                 400   AIC:                             6043.\n",
       "Df Residuals:                     398   BIC:                             6051.\n",
       "Df Model:                           1                                         \n",
       "Covariance Type:            nonrobust                                         \n",
       "==============================================================================\n",
       "                 coef    std err          t      P>|t|      [0.025      0.975]\n",
       "------------------------------------------------------------------------------\n",
       "const        535.9662    101.814      5.264      0.000     335.805     736.127\n",
       "x1            -1.1860      7.374     -0.161      0.872     -15.683      13.311\n",
       "==============================================================================\n",
       "Omnibus:                       28.655   Durbin-Watson:                   1.943\n",
       "Prob(Omnibus):                  0.000   Jarque-Bera (JB):               27.467\n",
       "Skew:                           0.584   Prob(JB):                     1.09e-06\n",
       "Kurtosis:                       2.467   Cond. No.                         61.4\n",
       "==============================================================================\n",
       "\n",
       "Warnings:\n",
       "[1] Standard Errors assume that the covariance matrix of the errors is correctly specified.\n",
       "\"\"\""
      ]
     },
     "execution_count": 89,
     "metadata": {},
     "output_type": "execute_result"
    }
   ],
   "source": [
    "# endog=target, exog=features\n",
    "X = df_credit[\"Education\"].values\n",
    "y = df_credit[\"Balance\"].values\n",
    "X1 = sm.add_constant(X)  # Vector of 1s is needed\n",
    "\n",
    "mod = sm.OLS(endog=y, exog=X1)\n",
    "res = mod.fit()\n",
    "res.summary()"
   ]
  },
  {
   "cell_type": "code",
   "execution_count": 90,
   "metadata": {},
   "outputs": [
    {
     "data": {
      "text/plain": [
       "0.025921000000000003"
      ]
     },
     "execution_count": 90,
     "metadata": {},
     "output_type": "execute_result"
    }
   ],
   "source": [
    "(-0.161) ** 2"
   ]
  },
  {
   "cell_type": "markdown",
   "metadata": {},
   "source": [
    "## Scikit-learn method"
   ]
  },
  {
   "cell_type": "code",
   "execution_count": 57,
   "metadata": {},
   "outputs": [],
   "source": [
    "from sklearn.linear_model import LinearRegression"
   ]
  },
  {
   "cell_type": "code",
   "execution_count": 78,
   "metadata": {},
   "outputs": [
    {
     "ename": "AttributeError",
     "evalue": "'numpy.ndarray' object has no attribute 'index'",
     "output_type": "error",
     "traceback": [
      "\u001b[0;31m---------------------------------------------------------------------------\u001b[0m",
      "\u001b[0;31mAttributeError\u001b[0m                            Traceback (most recent call last)",
      "\u001b[0;32m<ipython-input-78-33b601945f11>\u001b[0m in \u001b[0;36m<module>\u001b[0;34m\u001b[0m\n\u001b[1;32m      6\u001b[0m \u001b[0mdf_skl_coef\u001b[0m \u001b[0;34m=\u001b[0m \u001b[0mpd\u001b[0m\u001b[0;34m.\u001b[0m\u001b[0mDataFrame\u001b[0m\u001b[0;34m(\u001b[0m\u001b[0;34m)\u001b[0m\u001b[0;34m\u001b[0m\u001b[0;34m\u001b[0m\u001b[0m\n\u001b[1;32m      7\u001b[0m \u001b[0mdf_skl_coef\u001b[0m\u001b[0;34m[\u001b[0m\u001b[0;34m'coefficients'\u001b[0m\u001b[0;34m]\u001b[0m \u001b[0;34m=\u001b[0m \u001b[0;34m[\u001b[0m\u001b[0mlin_reg\u001b[0m\u001b[0;34m.\u001b[0m\u001b[0mintercept_\u001b[0m\u001b[0;34m]\u001b[0m \u001b[0;34m+\u001b[0m \u001b[0;34m[\u001b[0m\u001b[0mlin_reg\u001b[0m\u001b[0;34m.\u001b[0m\u001b[0mcoef_\u001b[0m\u001b[0;34m]\u001b[0m \u001b[0;31m#np.concatenate((lin_reg.intercept_, lin_reg.coef_.flatten()), axis=0)    # took a while to figure out how to format\u001b[0m\u001b[0;34m\u001b[0m\u001b[0;34m\u001b[0m\u001b[0m\n\u001b[0;32m----> 8\u001b[0;31m \u001b[0mdf_skl_coef\u001b[0m\u001b[0;34m.\u001b[0m\u001b[0mindex\u001b[0m \u001b[0;34m=\u001b[0m \u001b[0;34m[\u001b[0m\u001b[0;34m'constant'\u001b[0m\u001b[0;34m]\u001b[0m \u001b[0;34m+\u001b[0m \u001b[0mX\u001b[0m\u001b[0;34m.\u001b[0m\u001b[0mindex\u001b[0m \u001b[0;31m#columns.tolist()\u001b[0m\u001b[0;34m\u001b[0m\u001b[0;34m\u001b[0m\u001b[0m\n\u001b[0m\u001b[1;32m      9\u001b[0m \u001b[0mdf_skl_coef\u001b[0m\u001b[0;34m\u001b[0m\u001b[0;34m\u001b[0m\u001b[0m\n",
      "\u001b[0;31mAttributeError\u001b[0m: 'numpy.ndarray' object has no attribute 'index'"
     ]
    }
   ],
   "source": [
    "X1 = np.array(X).reshape(-1, 1)  # accomodate sklearn\n",
    "\n",
    "lin_reg = LinearRegression(fit_intercept=True)\n",
    "lin_reg.fit(X1, y)\n",
    "\n",
    "df_skl_coef = pd.DataFrame()\n",
    "df_skl_coef[\"coefficients\"] = [lin_reg.intercept_] + [\n",
    "    lin_reg.coef_\n",
    "]  # np.concatenate((lin_reg.intercept_, lin_reg.coef_.flatten()), axis=0)    # took a while to figure out how to format\n",
    "df_skl_coef.index = [\"constant\"] + X.index  # columns.tolist()\n",
    "df_skl_coef"
   ]
  },
  {
   "cell_type": "code",
   "execution_count": 80,
   "metadata": {
    "collapsed": true,
    "jupyter": {
     "outputs_hidden": true
    }
   },
   "outputs": [
    {
     "data": {
      "text/plain": [
       "array([[11],\n",
       "       [15],\n",
       "       [11],\n",
       "       [11],\n",
       "       [16],\n",
       "       [10],\n",
       "       [12],\n",
       "       [ 9],\n",
       "       [13],\n",
       "       [19],\n",
       "       [14],\n",
       "       [16],\n",
       "       [ 7],\n",
       "       [ 9],\n",
       "       [13],\n",
       "       [15],\n",
       "       [17],\n",
       "       [15],\n",
       "       [ 9],\n",
       "       [ 9],\n",
       "       [16],\n",
       "       [17],\n",
       "       [10],\n",
       "       [ 8],\n",
       "       [15],\n",
       "       [16],\n",
       "       [12],\n",
       "       [16],\n",
       "       [14],\n",
       "       [16],\n",
       "       [ 5],\n",
       "       [16],\n",
       "       [13],\n",
       "       [10],\n",
       "       [14],\n",
       "       [12],\n",
       "       [11],\n",
       "       [ 9],\n",
       "       [10],\n",
       "       [14],\n",
       "       [14],\n",
       "       [15],\n",
       "       [13],\n",
       "       [14],\n",
       "       [16],\n",
       "       [12],\n",
       "       [16],\n",
       "       [15],\n",
       "       [15],\n",
       "       [13],\n",
       "       [15],\n",
       "       [20],\n",
       "       [12],\n",
       "       [10],\n",
       "       [ 9],\n",
       "       [ 8],\n",
       "       [18],\n",
       "       [14],\n",
       "       [17],\n",
       "       [17],\n",
       "       [20],\n",
       "       [10],\n",
       "       [ 7],\n",
       "       [17],\n",
       "       [15],\n",
       "       [14],\n",
       "       [13],\n",
       "       [16],\n",
       "       [15],\n",
       "       [14],\n",
       "       [12],\n",
       "       [12],\n",
       "       [18],\n",
       "       [15],\n",
       "       [10],\n",
       "       [16],\n",
       "       [16],\n",
       "       [15],\n",
       "       [11],\n",
       "       [14],\n",
       "       [ 9],\n",
       "       [15],\n",
       "       [11],\n",
       "       [14],\n",
       "       [11],\n",
       "       [12],\n",
       "       [15],\n",
       "       [12],\n",
       "       [ 8],\n",
       "       [ 9],\n",
       "       [16],\n",
       "       [16],\n",
       "       [13],\n",
       "       [16],\n",
       "       [15],\n",
       "       [17],\n",
       "       [17],\n",
       "       [17],\n",
       "       [14],\n",
       "       [18],\n",
       "       [11],\n",
       "       [16],\n",
       "       [16],\n",
       "       [15],\n",
       "       [12],\n",
       "       [18],\n",
       "       [15],\n",
       "       [12],\n",
       "       [14],\n",
       "       [19],\n",
       "       [17],\n",
       "       [11],\n",
       "       [14],\n",
       "       [12],\n",
       "       [15],\n",
       "       [ 8],\n",
       "       [16],\n",
       "       [17],\n",
       "       [17],\n",
       "       [16],\n",
       "       [15],\n",
       "       [13],\n",
       "       [11],\n",
       "       [14],\n",
       "       [12],\n",
       "       [15],\n",
       "       [15],\n",
       "       [11],\n",
       "       [17],\n",
       "       [15],\n",
       "       [12],\n",
       "       [19],\n",
       "       [13],\n",
       "       [12],\n",
       "       [15],\n",
       "       [16],\n",
       "       [ 8],\n",
       "       [ 9],\n",
       "       [11],\n",
       "       [ 7],\n",
       "       [12],\n",
       "       [10],\n",
       "       [17],\n",
       "       [10],\n",
       "       [14],\n",
       "       [14],\n",
       "       [15],\n",
       "       [16],\n",
       "       [11],\n",
       "       [10],\n",
       "       [14],\n",
       "       [13],\n",
       "       [11],\n",
       "       [17],\n",
       "       [16],\n",
       "       [ 9],\n",
       "       [13],\n",
       "       [16],\n",
       "       [12],\n",
       "       [13],\n",
       "       [11],\n",
       "       [14],\n",
       "       [12],\n",
       "       [16],\n",
       "       [12],\n",
       "       [11],\n",
       "       [15],\n",
       "       [14],\n",
       "       [11],\n",
       "       [12],\n",
       "       [ 9],\n",
       "       [ 9],\n",
       "       [18],\n",
       "       [12],\n",
       "       [16],\n",
       "       [17],\n",
       "       [18],\n",
       "       [14],\n",
       "       [10],\n",
       "       [11],\n",
       "       [16],\n",
       "       [12],\n",
       "       [ 9],\n",
       "       [15],\n",
       "       [17],\n",
       "       [14],\n",
       "       [13],\n",
       "       [15],\n",
       "       [11],\n",
       "       [16],\n",
       "       [17],\n",
       "       [17],\n",
       "       [14],\n",
       "       [19],\n",
       "       [14],\n",
       "       [16],\n",
       "       [12],\n",
       "       [17],\n",
       "       [16],\n",
       "       [ 7],\n",
       "       [18],\n",
       "       [15],\n",
       "       [13],\n",
       "       [16],\n",
       "       [ 7],\n",
       "       [13],\n",
       "       [13],\n",
       "       [10],\n",
       "       [15],\n",
       "       [11],\n",
       "       [12],\n",
       "       [15],\n",
       "       [13],\n",
       "       [19],\n",
       "       [16],\n",
       "       [19],\n",
       "       [18],\n",
       "       [14],\n",
       "       [10],\n",
       "       [13],\n",
       "       [13],\n",
       "       [11],\n",
       "       [ 9],\n",
       "       [17],\n",
       "       [ 6],\n",
       "       [15],\n",
       "       [15],\n",
       "       [14],\n",
       "       [11],\n",
       "       [ 9],\n",
       "       [ 9],\n",
       "       [12],\n",
       "       [14],\n",
       "       [11],\n",
       "       [14],\n",
       "       [18],\n",
       "       [11],\n",
       "       [15],\n",
       "       [19],\n",
       "       [13],\n",
       "       [14],\n",
       "       [11],\n",
       "       [18],\n",
       "       [12],\n",
       "       [15],\n",
       "       [18],\n",
       "       [14],\n",
       "       [19],\n",
       "       [16],\n",
       "       [13],\n",
       "       [18],\n",
       "       [12],\n",
       "       [ 8],\n",
       "       [12],\n",
       "       [ 6],\n",
       "       [ 8],\n",
       "       [14],\n",
       "       [14],\n",
       "       [14],\n",
       "       [ 9],\n",
       "       [12],\n",
       "       [ 8],\n",
       "       [13],\n",
       "       [15],\n",
       "       [10],\n",
       "       [13],\n",
       "       [16],\n",
       "       [15],\n",
       "       [12],\n",
       "       [18],\n",
       "       [13],\n",
       "       [10],\n",
       "       [15],\n",
       "       [14],\n",
       "       [ 9],\n",
       "       [14],\n",
       "       [15],\n",
       "       [12],\n",
       "       [11],\n",
       "       [ 8],\n",
       "       [12],\n",
       "       [13],\n",
       "       [17],\n",
       "       [17],\n",
       "       [ 6],\n",
       "       [11],\n",
       "       [15],\n",
       "       [ 8],\n",
       "       [16],\n",
       "       [ 9],\n",
       "       [11],\n",
       "       [13],\n",
       "       [15],\n",
       "       [ 9],\n",
       "       [13],\n",
       "       [10],\n",
       "       [17],\n",
       "       [17],\n",
       "       [18],\n",
       "       [11],\n",
       "       [17],\n",
       "       [ 7],\n",
       "       [13],\n",
       "       [11],\n",
       "       [13],\n",
       "       [14],\n",
       "       [ 8],\n",
       "       [14],\n",
       "       [ 6],\n",
       "       [18],\n",
       "       [16],\n",
       "       [15],\n",
       "       [11],\n",
       "       [18],\n",
       "       [14],\n",
       "       [16],\n",
       "       [14],\n",
       "       [16],\n",
       "       [13],\n",
       "       [16],\n",
       "       [13],\n",
       "       [15],\n",
       "       [11],\n",
       "       [17],\n",
       "       [17],\n",
       "       [12],\n",
       "       [16],\n",
       "       [14],\n",
       "       [16],\n",
       "       [16],\n",
       "       [17],\n",
       "       [16],\n",
       "       [15],\n",
       "       [17],\n",
       "       [15],\n",
       "       [ 7],\n",
       "       [13],\n",
       "       [12],\n",
       "       [14],\n",
       "       [16],\n",
       "       [ 8],\n",
       "       [17],\n",
       "       [ 9],\n",
       "       [17],\n",
       "       [10],\n",
       "       [17],\n",
       "       [18],\n",
       "       [17],\n",
       "       [14],\n",
       "       [13],\n",
       "       [13],\n",
       "       [ 9],\n",
       "       [14],\n",
       "       [18],\n",
       "       [18],\n",
       "       [ 8],\n",
       "       [14],\n",
       "       [14],\n",
       "       [18],\n",
       "       [12],\n",
       "       [10],\n",
       "       [16],\n",
       "       [19],\n",
       "       [10],\n",
       "       [16],\n",
       "       [15],\n",
       "       [14],\n",
       "       [14],\n",
       "       [ 6],\n",
       "       [16],\n",
       "       [12],\n",
       "       [15],\n",
       "       [16],\n",
       "       [16],\n",
       "       [18],\n",
       "       [16],\n",
       "       [10],\n",
       "       [10],\n",
       "       [19],\n",
       "       [10],\n",
       "       [14],\n",
       "       [11],\n",
       "       [ 9],\n",
       "       [ 9],\n",
       "       [16],\n",
       "       [15],\n",
       "       [10],\n",
       "       [ 9],\n",
       "       [13],\n",
       "       [18],\n",
       "       [15],\n",
       "       [15],\n",
       "       [10],\n",
       "       [13],\n",
       "       [ 8],\n",
       "       [13],\n",
       "       [17],\n",
       "       [12],\n",
       "       [13],\n",
       "       [ 7]])"
      ]
     },
     "execution_count": 80,
     "metadata": {},
     "output_type": "execute_result"
    }
   ],
   "source": [
    "X"
   ]
  },
  {
   "cell_type": "code",
   "execution_count": 75,
   "metadata": {},
   "outputs": [
    {
     "data": {
      "text/plain": [
       "[535.9662099050552, array([-1.18596356])]"
      ]
     },
     "execution_count": 75,
     "metadata": {},
     "output_type": "execute_result"
    }
   ],
   "source": [
    "[lin_reg.intercept_] + [lin_reg.coef_]"
   ]
  },
  {
   "cell_type": "code",
   "execution_count": 68,
   "metadata": {},
   "outputs": [
    {
     "data": {
      "text/plain": [
       "array([-1.18596356])"
      ]
     },
     "execution_count": 68,
     "metadata": {},
     "output_type": "execute_result"
    }
   ],
   "source": [
    "lin_reg.coef_"
   ]
  },
  {
   "cell_type": "code",
   "execution_count": null,
   "metadata": {},
   "outputs": [],
   "source": []
  },
  {
   "cell_type": "markdown",
   "metadata": {},
   "source": [
    "# [bottom of notebook]"
   ]
  },
  {
   "cell_type": "code",
   "execution_count": null,
   "metadata": {},
   "outputs": [],
   "source": []
  }
 ],
 "metadata": {
  "kernelspec": {
   "display_name": "Python 3",
   "language": "python",
   "name": "python3"
  },
  "language_info": {
   "codemirror_mode": {
    "name": "ipython",
    "version": 3
   },
   "file_extension": ".py",
   "mimetype": "text/x-python",
   "name": "python",
   "nbconvert_exporter": "python",
   "pygments_lexer": "ipython3",
   "version": "3.6.9"
  },
  "toc": {
   "base_numbering": 1,
   "nav_menu": {},
   "number_sections": true,
   "sideBar": true,
   "skip_h1_title": false,
   "title_cell": "Table of Contents",
   "title_sidebar": "Contents",
   "toc_cell": false,
   "toc_position": {
    "height": "calc(100% - 180px)",
    "left": "10px",
    "top": "150px",
    "width": "258.767px"
   },
   "toc_section_display": true,
   "toc_window_display": true
  },
  "toc-autonumbering": true,
  "toc-showcode": false,
  "toc-showmarkdowntxt": false,
  "varInspector": {
   "cols": {
    "lenName": 16,
    "lenType": 16,
    "lenVar": 40
   },
   "kernels_config": {
    "python": {
     "delete_cmd_postfix": "",
     "delete_cmd_prefix": "del ",
     "library": "var_list.py",
     "varRefreshCmd": "print(var_dic_list())"
    },
    "r": {
     "delete_cmd_postfix": ") ",
     "delete_cmd_prefix": "rm(",
     "library": "var_list.r",
     "varRefreshCmd": "cat(var_dic_list()) "
    }
   },
   "types_to_exclude": [
    "module",
    "function",
    "builtin_function_or_method",
    "instance",
    "_Feature"
   ],
   "window_display": false
  }
 },
 "nbformat": 4,
 "nbformat_minor": 4
}
