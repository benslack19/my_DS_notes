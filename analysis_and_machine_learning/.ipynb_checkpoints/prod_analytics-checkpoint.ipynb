{
 "cells": [
  {
   "cell_type": "markdown",
   "metadata": {},
   "source": [
    "**Product analytics**\n",
    "\n",
    "Following the Medium [article](https://towardsdatascience.com/data-driven-growth-with-python-part-1-know-your-metrics-812781e66a5b)\n",
    "\n",
    "\"...explain how to use Python in a simplistic way to fuel your company’s growth by applying the predictive approach to all your actions. It will be a combination of programming, data analysis, and machine learning.\""
   ]
  },
  {
   "cell_type": "code",
   "execution_count": 2,
   "metadata": {
    "ExecuteTime": {
     "end_time": "2020-03-25T20:33:03.091246Z",
     "start_time": "2020-03-25T20:32:54.627701Z"
    }
   },
   "outputs": [],
   "source": [
    "import numpy as np\n",
    "import pandas as pd\n",
    "import matplotlib.pyplot as plt\n",
    "import seaborn as sns\n",
    "from scipy import stats, integrate\n"
   ]
  },
  {
   "cell_type": "code",
   "execution_count": 7,
   "metadata": {
    "ExecuteTime": {
     "end_time": "2020-03-25T20:56:03.929693Z",
     "start_time": "2020-03-25T20:56:02.686031Z"
    }
   },
   "outputs": [
    {
     "data": {
      "application/javascript": [
       "\n",
       "            setTimeout(function() {\n",
       "                var nbb_cell_id = 7;\n",
       "                var nbb_unformatted_code = \"from __future__ import division\\nfrom datetime import datetime, timedelta\\nimport pandas as pd\\n%matplotlib inline\\nimport matplotlib.pyplot as plt\\nimport numpy as np\\nimport seaborn as sns\\n\\n# Code formatting Jupyter black\\n%load_ext nb_black\\n\\n# import plotly.plotly as py\\n# import plotly.offline as pyoff\\n# import plotly.graph_objs as go\";\n",
       "                var nbb_formatted_code = \"from __future__ import division\\nfrom datetime import datetime, timedelta\\nimport pandas as pd\\n\\n%matplotlib inline\\nimport matplotlib.pyplot as plt\\nimport numpy as np\\nimport seaborn as sns\\n\\n# Code formatting Jupyter black\\n%load_ext nb_black\\n\\n# import plotly.plotly as py\\n# import plotly.offline as pyoff\\n# import plotly.graph_objs as go\";\n",
       "                var nbb_cells = Jupyter.notebook.get_cells();\n",
       "                for (var i = 0; i < nbb_cells.length; ++i) {\n",
       "                    if (nbb_cells[i].input_prompt_number == nbb_cell_id) {\n",
       "                        if (nbb_cells[i].get_text() == nbb_unformatted_code) {\n",
       "                             nbb_cells[i].set_text(nbb_formatted_code);\n",
       "                        }\n",
       "                        break;\n",
       "                    }\n",
       "                }\n",
       "            }, 500);\n",
       "            "
      ],
      "text/plain": [
       "<IPython.core.display.Javascript object>"
      ]
     },
     "metadata": {},
     "output_type": "display_data"
    }
   ],
   "source": [
    "from __future__ import division\n",
    "from datetime import datetime, timedelta\n",
    "import pandas as pd\n",
    "\n",
    "%matplotlib inline\n",
    "import matplotlib.pyplot as plt\n",
    "import numpy as np\n",
    "import seaborn as sns\n",
    "\n",
    "# Code formatting Jupyter black\n",
    "%load_ext nb_black\n",
    "\n",
    "# import plotly.plotly as py\n",
    "# import plotly.offline as pyoff\n",
    "# import plotly.graph_objs as go"
   ]
  },
  {
   "cell_type": "markdown",
   "metadata": {},
   "source": [
    "# Know your metrics\n"
   ]
  },
  {
   "cell_type": "markdown",
   "metadata": {
    "ExecuteTime": {
     "end_time": "2020-03-25T20:31:44.447782Z",
     "start_time": "2020-03-25T20:31:44.427165Z"
    }
   },
   "source": [
    "**The North Star Metric**: The single metric that best captures the core value that your product delivers to customers.\n",
    "\n",
    "Examples:\n",
    "- Airbnb: nights booked\n",
    "- Facebook: daily active users\n",
    "- Online retail (tutorial example): monthly revenue\n",
    "- Online education (my example): daily active users\n"
   ]
  },
  {
   "cell_type": "markdown",
   "metadata": {},
   "source": [
    "## Visualize North Star Metric\n",
    "\n",
    "- High-level metric: daily active users\n",
    "- More precise definition: number of unique active users that view the home page"
   ]
  },
  {
   "cell_type": "code",
   "execution_count": 14,
   "metadata": {
    "ExecuteTime": {
     "end_time": "2020-03-25T21:12:31.402896Z",
     "start_time": "2020-03-25T21:12:31.287113Z"
    }
   },
   "outputs": [
    {
     "data": {
      "text/html": [
       "<div>\n",
       "<style scoped>\n",
       "    .dataframe tbody tr th:only-of-type {\n",
       "        vertical-align: middle;\n",
       "    }\n",
       "\n",
       "    .dataframe tbody tr th {\n",
       "        vertical-align: top;\n",
       "    }\n",
       "\n",
       "    .dataframe thead th {\n",
       "        text-align: right;\n",
       "    }\n",
       "</style>\n",
       "<table border=\"1\" class=\"dataframe\">\n",
       "  <thead>\n",
       "    <tr style=\"text-align: right;\">\n",
       "      <th></th>\n",
       "      <th>action</th>\n",
       "      <th>identifier</th>\n",
       "      <th>ts</th>\n",
       "    </tr>\n",
       "  </thead>\n",
       "  <tbody>\n",
       "    <tr>\n",
       "      <th>0</th>\n",
       "      <td>home</td>\n",
       "      <td>SDOMDYMG</td>\n",
       "      <td>2019-02-01 0:00:39</td>\n",
       "    </tr>\n",
       "    <tr>\n",
       "      <th>1</th>\n",
       "      <td>home</td>\n",
       "      <td>OW5IFTH6</td>\n",
       "      <td>2019-02-01 0:01:16</td>\n",
       "    </tr>\n",
       "    <tr>\n",
       "      <th>2</th>\n",
       "      <td>home</td>\n",
       "      <td>UGOC4PKL</td>\n",
       "      <td>2019-02-01 0:03:32</td>\n",
       "    </tr>\n",
       "    <tr>\n",
       "      <th>3</th>\n",
       "      <td>home</td>\n",
       "      <td>E62530TJ</td>\n",
       "      <td>2019-02-01 0:04:34</td>\n",
       "    </tr>\n",
       "    <tr>\n",
       "      <th>4</th>\n",
       "      <td>home</td>\n",
       "      <td>F9AZALVD</td>\n",
       "      <td>2019-02-01 0:04:35</td>\n",
       "    </tr>\n",
       "  </tbody>\n",
       "</table>\n",
       "</div>"
      ],
      "text/plain": [
       "  action identifier                  ts\n",
       "0   home   SDOMDYMG  2019-02-01 0:00:39\n",
       "1   home   OW5IFTH6  2019-02-01 0:01:16\n",
       "2   home   UGOC4PKL  2019-02-01 0:03:32\n",
       "3   home   E62530TJ  2019-02-01 0:04:34\n",
       "4   home   F9AZALVD  2019-02-01 0:04:35"
      ]
     },
     "execution_count": 14,
     "metadata": {},
     "output_type": "execute_result"
    },
    {
     "data": {
      "application/javascript": [
       "\n",
       "            setTimeout(function() {\n",
       "                var nbb_cell_id = 14;\n",
       "                var nbb_unformatted_code = \"df_actions = pd.read_csv(\\n    \\\"~/Documents/Goals_and_careers/Edu_Data_Science/Insight/data_challenges/brl_data_challenges/p1_ABtest_engagement.csv\\\"\\n)\\ndf_actions.head()\";\n",
       "                var nbb_formatted_code = \"df_actions = pd.read_csv(\\n    \\\"~/Documents/Goals_and_careers/Edu_Data_Science/Insight/data_challenges/brl_data_challenges/p1_ABtest_engagement.csv\\\"\\n)\\ndf_actions.head()\";\n",
       "                var nbb_cells = Jupyter.notebook.get_cells();\n",
       "                for (var i = 0; i < nbb_cells.length; ++i) {\n",
       "                    if (nbb_cells[i].input_prompt_number == nbb_cell_id) {\n",
       "                        if (nbb_cells[i].get_text() == nbb_unformatted_code) {\n",
       "                             nbb_cells[i].set_text(nbb_formatted_code);\n",
       "                        }\n",
       "                        break;\n",
       "                    }\n",
       "                }\n",
       "            }, 500);\n",
       "            "
      ],
      "text/plain": [
       "<IPython.core.display.Javascript object>"
      ]
     },
     "metadata": {},
     "output_type": "display_data"
    }
   ],
   "source": [
    "df_actions = pd.read_csv(\n",
    "    \"~/Documents/Goals_and_careers/Edu_Data_Science/Insight/data_challenges/brl_data_challenges/p1_ABtest_engagement.csv\"\n",
    ")\n",
    "df_actions.head()"
   ]
  },
  {
   "cell_type": "code",
   "execution_count": 45,
   "metadata": {
    "ExecuteTime": {
     "end_time": "2020-03-25T21:31:38.576393Z",
     "start_time": "2020-03-25T21:31:38.470520Z"
    }
   },
   "outputs": [
    {
     "data": {
      "application/javascript": [
       "\n",
       "            setTimeout(function() {\n",
       "                var nbb_cell_id = 45;\n",
       "                var nbb_unformatted_code = \"# Date/time formatting\\ndf_actions[\\\"ts\\\"] = pd.to_datetime(df_actions[\\\"ts\\\"])\\ndf_actions[\\\"ts_day\\\"] = df_actions[\\\"ts\\\"].dt.dayofweek  # day of week: Monday=0, Sunday=6\\ndf_actions[\\\"ts_date\\\"] = df_actions[\\\"ts\\\"].dt.date\\ndf_actions[\\\"ts_time\\\"] = df_actions[\\\"ts\\\"].dt.time\\n\\n# Segment to keep the home column only\\ndf_actions_home = df_actions[df_actions[\\\"action\\\"] == \\\"home\\\"].copy()\\n\\n# Segment to ignore the last day\\ndf_actions_home = df_actions[df_actions[\\\"ts\\\"] < \\\"2019-02-08\\\"].copy()\";\n",
       "                var nbb_formatted_code = \"# Date/time formatting\\ndf_actions[\\\"ts\\\"] = pd.to_datetime(df_actions[\\\"ts\\\"])\\ndf_actions[\\\"ts_day\\\"] = df_actions[\\\"ts\\\"].dt.dayofweek  # day of week: Monday=0, Sunday=6\\ndf_actions[\\\"ts_date\\\"] = df_actions[\\\"ts\\\"].dt.date\\ndf_actions[\\\"ts_time\\\"] = df_actions[\\\"ts\\\"].dt.time\\n\\n# Segment to keep the home column only\\ndf_actions_home = df_actions[df_actions[\\\"action\\\"] == \\\"home\\\"].copy()\\n\\n# Segment to ignore the last day\\ndf_actions_home = df_actions[df_actions[\\\"ts\\\"] < \\\"2019-02-08\\\"].copy()\";\n",
       "                var nbb_cells = Jupyter.notebook.get_cells();\n",
       "                for (var i = 0; i < nbb_cells.length; ++i) {\n",
       "                    if (nbb_cells[i].input_prompt_number == nbb_cell_id) {\n",
       "                        if (nbb_cells[i].get_text() == nbb_unformatted_code) {\n",
       "                             nbb_cells[i].set_text(nbb_formatted_code);\n",
       "                        }\n",
       "                        break;\n",
       "                    }\n",
       "                }\n",
       "            }, 500);\n",
       "            "
      ],
      "text/plain": [
       "<IPython.core.display.Javascript object>"
      ]
     },
     "metadata": {},
     "output_type": "display_data"
    }
   ],
   "source": [
    "# Date/time formatting\n",
    "df_actions[\"ts\"] = pd.to_datetime(df_actions[\"ts\"])\n",
    "df_actions[\"ts_day\"] = df_actions[\"ts\"].dt.dayofweek  # day of week: Monday=0, Sunday=6\n",
    "df_actions[\"ts_date\"] = df_actions[\"ts\"].dt.date\n",
    "df_actions[\"ts_time\"] = df_actions[\"ts\"].dt.time\n",
    "\n",
    "# Segment to keep the home column only\n",
    "df_actions_home = df_actions[df_actions[\"action\"] == \"home\"].copy()\n",
    "\n",
    "# Segment to ignore the last day\n",
    "df_actions_home = df_actions[df_actions[\"ts\"] < \"2019-02-08\"].copy()"
   ]
  },
  {
   "cell_type": "code",
   "execution_count": 50,
   "metadata": {
    "ExecuteTime": {
     "end_time": "2020-03-25T21:32:06.351334Z",
     "start_time": "2020-03-25T21:32:06.329086Z"
    }
   },
   "outputs": [
    {
     "data": {
      "text/plain": [
       "ts_date\n",
       "2019-02-01    2480\n",
       "2019-02-02    2647\n",
       "2019-02-03    2621\n",
       "2019-02-04    2455\n",
       "2019-02-05    2564\n",
       "2019-02-06    2635\n",
       "2019-02-07    2635\n",
       "Name: action, dtype: int64"
      ]
     },
     "execution_count": 50,
     "metadata": {},
     "output_type": "execute_result"
    },
    {
     "data": {
      "application/javascript": [
       "\n",
       "            setTimeout(function() {\n",
       "                var nbb_cell_id = 50;\n",
       "                var nbb_unformatted_code = \"df_actions_home.groupby(\\\"ts_date\\\").count().iloc[:, 0]\";\n",
       "                var nbb_formatted_code = \"df_actions_home.groupby(\\\"ts_date\\\").count().iloc[:, 0]\";\n",
       "                var nbb_cells = Jupyter.notebook.get_cells();\n",
       "                for (var i = 0; i < nbb_cells.length; ++i) {\n",
       "                    if (nbb_cells[i].input_prompt_number == nbb_cell_id) {\n",
       "                        if (nbb_cells[i].get_text() == nbb_unformatted_code) {\n",
       "                             nbb_cells[i].set_text(nbb_formatted_code);\n",
       "                        }\n",
       "                        break;\n",
       "                    }\n",
       "                }\n",
       "            }, 500);\n",
       "            "
      ],
      "text/plain": [
       "<IPython.core.display.Javascript object>"
      ]
     },
     "metadata": {},
     "output_type": "display_data"
    }
   ],
   "source": [
    "df_actions_home.groupby(\"ts_date\").count().iloc[:, 0]"
   ]
  },
  {
   "cell_type": "code",
   "execution_count": 57,
   "metadata": {
    "ExecuteTime": {
     "end_time": "2020-03-25T21:41:04.429444Z",
     "start_time": "2020-03-25T21:41:04.176554Z"
    },
    "scrolled": true
   },
   "outputs": [
    {
     "data": {
      "text/plain": [
       "Text(0, 0.5, 'No. of active users')"
      ]
     },
     "execution_count": 57,
     "metadata": {},
     "output_type": "execute_result"
    },
    {
     "data": {
      "image/png": "[encoded data removed]",
      "text/plain": [
       "<Figure size 576x432 with 1 Axes>"
      ]
     },
     "metadata": {
      "needs_background": "light"
     },
     "output_type": "display_data"
    },
    {
     "data": {
      "application/javascript": [
       "\n",
       "            setTimeout(function() {\n",
       "                var nbb_cell_id = 57;\n",
       "                var nbb_unformatted_code = \"# Plot\\nsns.set_context(\\\"talk\\\")\\nf, ax1 = plt.subplots(figsize=(8,6))\\n\\nax1.bar(range(7), df_actions_home.groupby(\\\"ts_date\\\").count().iloc[:, 0], color=\\\"gray\\\")\\nax1.set_xlabel(\\\"day\\\")\\nax1.set_ylabel(\\\"No. of active users\\\")\";\n",
       "                var nbb_formatted_code = \"# Plot\\nsns.set_context(\\\"talk\\\")\\nf, ax1 = plt.subplots(figsize=(8, 6))\\n\\nax1.bar(range(7), df_actions_home.groupby(\\\"ts_date\\\").count().iloc[:, 0], color=\\\"gray\\\")\\nax1.set_xlabel(\\\"day\\\")\\nax1.set_ylabel(\\\"No. of active users\\\")\";\n",
       "                var nbb_cells = Jupyter.notebook.get_cells();\n",
       "                for (var i = 0; i < nbb_cells.length; ++i) {\n",
       "                    if (nbb_cells[i].input_prompt_number == nbb_cell_id) {\n",
       "                        if (nbb_cells[i].get_text() == nbb_unformatted_code) {\n",
       "                             nbb_cells[i].set_text(nbb_formatted_code);\n",
       "                        }\n",
       "                        break;\n",
       "                    }\n",
       "                }\n",
       "            }, 500);\n",
       "            "
      ],
      "text/plain": [
       "<IPython.core.display.Javascript object>"
      ]
     },
     "metadata": {},
     "output_type": "display_data"
    }
   ],
   "source": [
    "# Plot\n",
    "sns.set_context(\"talk\")\n",
    "f, ax1 = plt.subplots(figsize=(8, 6))\n",
    "\n",
    "ax1.bar(range(7), df_actions_home.groupby(\"ts_date\").count().iloc[:, 0], color=\"gray\")\n",
    "ax1.set_xlabel(\"day\")\n",
    "ax1.set_ylabel(\"No. of active users\")"
   ]
  },
  {
   "cell_type": "code",
   "execution_count": null,
   "metadata": {},
   "outputs": [],
   "source": []
  },
  {
   "cell_type": "markdown",
   "metadata": {},
   "source": [
    "# Insight QotDs / cases"
   ]
  },
  {
   "cell_type": "markdown",
   "metadata": {},
   "source": [
    "## 4/10/20 (?)\n",
    "\n",
    "### Yue - cars\n",
    "\n",
    "(1 and 2 are questions I got from my Mock interviews --Yue)\n",
    "1) Build a model to predict the sale price of used cars for a small dealer. The information that is currently available includes:\n",
    "    \n",
    "Manufacturer; Make;\n",
    "Model; Model Year;\n",
    "Mileage;\n",
    "City; State;\n",
    "Set of pictures.\n",
    "How would you go about it?\n"
   ]
  },
  {
   "cell_type": "markdown",
   "metadata": {},
   "source": [
    "### COVID-19 cases\n",
    "\n",
    "If you have the wearable device data of 1000 individuals, how would you predict if someone has  COVID-19 ?\n",
    "Data:\n",
    "heart rate and step counts \n",
    "Duration:\n",
    "As much as you need\n",
    "\n",
    "\n",
    "Have label for 500 people using the same device. \n",
    "People are keeping their normal practice - no “shelter in place” ?\n"
   ]
  },
  {
   "cell_type": "markdown",
   "metadata": {},
   "source": [
    "My answer:\n",
    "Look at distributions of steps for each group\n",
    "Look over a 2 week period\n",
    "\n"
   ]
  },
  {
   "cell_type": "code",
   "execution_count": null,
   "metadata": {},
   "outputs": [],
   "source": []
  },
  {
   "cell_type": "markdown",
   "metadata": {},
   "source": [
    "## 4/20/20 (I'm leading)\n",
    "\n",
    "Brilliant problem"
   ]
  },
  {
   "cell_type": "code",
   "execution_count": null,
   "metadata": {},
   "outputs": [],
   "source": []
  },
  {
   "cell_type": "code",
   "execution_count": null,
   "metadata": {},
   "outputs": [],
   "source": []
  },
  {
   "cell_type": "code",
   "execution_count": null,
   "metadata": {},
   "outputs": [],
   "source": []
  }
 ],
 "metadata": {
  "kernelspec": {
   "display_name": "Python 3",
   "language": "python",
   "name": "python3"
  },
  "language_info": {
   "codemirror_mode": {
    "name": "ipython",
    "version": 3
   },
   "file_extension": ".py",
   "mimetype": "text/x-python",
   "name": "python",
   "nbconvert_exporter": "python",
   "pygments_lexer": "ipython3",
   "version": "3.6.9"
  },
  "toc": {
   "base_numbering": 1,
   "nav_menu": {},
   "number_sections": true,
   "sideBar": true,
   "skip_h1_title": false,
   "title_cell": "Table of Contents",
   "title_sidebar": "Contents",
   "toc_cell": false,
   "toc_position": {
    "height": "calc(100% - 180px)",
    "left": "10px",
    "top": "150px",
    "width": "212.6px"
   },
   "toc_section_display": true,
   "toc_window_display": true
  },
  "varInspector": {
   "cols": {
    "lenName": 16,
    "lenType": 16,
    "lenVar": 40
   },
   "kernels_config": {
    "python": {
     "delete_cmd_postfix": "",
     "delete_cmd_prefix": "del ",
     "library": "var_list.py",
     "varRefreshCmd": "print(var_dic_list())"
    },
    "r": {
     "delete_cmd_postfix": ") ",
     "delete_cmd_prefix": "rm(",
     "library": "var_list.r",
     "varRefreshCmd": "cat(var_dic_list()) "
    }
   },
   "types_to_exclude": [
    "module",
    "function",
    "builtin_function_or_method",
    "instance",
    "_Feature"
   ],
   "window_display": false
  }
 },
 "nbformat": 4,
 "nbformat_minor": 2
}
