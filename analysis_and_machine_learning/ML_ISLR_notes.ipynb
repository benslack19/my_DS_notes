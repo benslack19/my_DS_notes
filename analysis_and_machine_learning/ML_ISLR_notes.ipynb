{
 "cells": [
  {
   "cell_type": "code",
   "execution_count": 1,
   "metadata": {
    "ExecuteTime": {
     "end_time": "2020-04-20T21:52:38.843583Z",
     "start_time": "2020-04-20T21:52:37.524820Z"
    }
   },
   "outputs": [],
   "source": [
    "import pandas as pd\n",
    "import numpy as np\n",
    "import matplotlib.pyplot as plt"
   ]
  },
  {
   "cell_type": "code",
   "execution_count": 2,
   "metadata": {
    "ExecuteTime": {
     "end_time": "2020-04-20T21:52:40.500130Z",
     "start_time": "2020-04-20T21:52:39.325349Z"
    }
   },
   "outputs": [],
   "source": [
    "# For importing example data\n",
    "import sqlalchemy\n",
    "import sqlalchemy_utils\n",
    "from sqlalchemy import create_engine\n",
    "from sqlalchemy_utils import database_exists, create_database\n",
    "import psycopg2"
   ]
  },
  {
   "cell_type": "code",
   "execution_count": 3,
   "metadata": {
    "ExecuteTime": {
     "end_time": "2020-04-20T21:52:40.549589Z",
     "start_time": "2020-04-20T21:52:40.510915Z"
    }
   },
   "outputs": [
    {
     "name": "stdout",
     "output_type": "stream",
     "text": [
      "postgres://lacar@localhost/baseball\n"
     ]
    }
   ],
   "source": [
    "# Define a database name\n",
    "# Set your postgres username\n",
    "dbname = \"baseball\"\n",
    "username = \"lacar\"  # change this to your username\n",
    "\n",
    "# Working with PostgreSQL in Python\n",
    "# Connect to make queries using psycopg2\n",
    "con = None\n",
    "con = psycopg2.connect(database=dbname, user=username)\n",
    "\n",
    "# Here, we're using postgres, but sqlalchemy can connect to other things too.\n",
    "engine = create_engine(\"postgres://%s@localhost/%s\" % (username, dbname))\n",
    "print(engine.url)"
   ]
  },
  {
   "cell_type": "markdown",
   "metadata": {},
   "source": [
    "[Writing math symbols in markdown](https://jupyter-notebook.readthedocs.io/en/stable/examples/Notebook/Typesetting%20Equations.html)"
   ]
  },
  {
   "cell_type": "markdown",
   "metadata": {},
   "source": [
    "# Linear regression"
   ]
  },
  {
   "cell_type": "markdown",
   "metadata": {},
   "source": [
    "Let's imagine a simple case such as using housing square footage to predict prices.\n",
    "\n",
    "Ues Padres database."
   ]
  },
  {
   "cell_type": "code",
   "execution_count": 20,
   "metadata": {
    "ExecuteTime": {
     "end_time": "2020-03-24T18:02:45.691099Z",
     "start_time": "2020-03-24T18:02:45.609669Z"
    }
   },
   "outputs": [
    {
     "data": {
      "text/html": [
       "<div>\n",
       "<style scoped>\n",
       "    .dataframe tbody tr th:only-of-type {\n",
       "        vertical-align: middle;\n",
       "    }\n",
       "\n",
       "    .dataframe tbody tr th {\n",
       "        vertical-align: top;\n",
       "    }\n",
       "\n",
       "    .dataframe thead th {\n",
       "        text-align: right;\n",
       "    }\n",
       "</style>\n",
       "<table border=\"1\" class=\"dataframe\">\n",
       "  <thead>\n",
       "    <tr style=\"text-align: right;\">\n",
       "      <th></th>\n",
       "      <th>index</th>\n",
       "      <th>index_x</th>\n",
       "      <th>Season</th>\n",
       "      <th>Name</th>\n",
       "      <th>Team</th>\n",
       "      <th>Age</th>\n",
       "      <th>G</th>\n",
       "      <th>AB</th>\n",
       "      <th>PA</th>\n",
       "      <th>H</th>\n",
       "      <th>...</th>\n",
       "      <th>first_name</th>\n",
       "      <th>index_y</th>\n",
       "      <th>name_last</th>\n",
       "      <th>name_first</th>\n",
       "      <th>key_mlbam</th>\n",
       "      <th>key_retro</th>\n",
       "      <th>key_bbref</th>\n",
       "      <th>key_fangraphs</th>\n",
       "      <th>mlb_played_first</th>\n",
       "      <th>mlb_played_last</th>\n",
       "    </tr>\n",
       "  </thead>\n",
       "  <tbody>\n",
       "    <tr>\n",
       "      <th>0</th>\n",
       "      <td>123</td>\n",
       "      <td>1094</td>\n",
       "      <td>2018.0</td>\n",
       "      <td>Austin Hedges</td>\n",
       "      <td>Padres</td>\n",
       "      <td>25.0</td>\n",
       "      <td>91.0</td>\n",
       "      <td>303.0</td>\n",
       "      <td>326.0</td>\n",
       "      <td>70.0</td>\n",
       "      <td>...</td>\n",
       "      <td>austin</td>\n",
       "      <td>784</td>\n",
       "      <td>hedges</td>\n",
       "      <td>austin</td>\n",
       "      <td>595978</td>\n",
       "      <td>hedga001</td>\n",
       "      <td>hedgeau01</td>\n",
       "      <td>12976</td>\n",
       "      <td>2015.0</td>\n",
       "      <td>2019.0</td>\n",
       "    </tr>\n",
       "    <tr>\n",
       "      <th>1</th>\n",
       "      <td>164</td>\n",
       "      <td>553</td>\n",
       "      <td>2018.0</td>\n",
       "      <td>Hunter Renfroe</td>\n",
       "      <td>Padres</td>\n",
       "      <td>26.0</td>\n",
       "      <td>117.0</td>\n",
       "      <td>403.0</td>\n",
       "      <td>441.0</td>\n",
       "      <td>100.0</td>\n",
       "      <td>...</td>\n",
       "      <td>hunter</td>\n",
       "      <td>1444</td>\n",
       "      <td>renfroe</td>\n",
       "      <td>hunter</td>\n",
       "      <td>592669</td>\n",
       "      <td>renfh001</td>\n",
       "      <td>renfrhu01</td>\n",
       "      <td>15464</td>\n",
       "      <td>2016.0</td>\n",
       "      <td>2019.0</td>\n",
       "    </tr>\n",
       "    <tr>\n",
       "      <th>2</th>\n",
       "      <td>166</td>\n",
       "      <td>692</td>\n",
       "      <td>2018.0</td>\n",
       "      <td>Wil Myers</td>\n",
       "      <td>Padres</td>\n",
       "      <td>27.0</td>\n",
       "      <td>83.0</td>\n",
       "      <td>312.0</td>\n",
       "      <td>343.0</td>\n",
       "      <td>79.0</td>\n",
       "      <td>...</td>\n",
       "      <td>wil</td>\n",
       "      <td>1233</td>\n",
       "      <td>myers</td>\n",
       "      <td>wil</td>\n",
       "      <td>571976</td>\n",
       "      <td>myerw001</td>\n",
       "      <td>myerswi01</td>\n",
       "      <td>10047</td>\n",
       "      <td>2013.0</td>\n",
       "      <td>2019.0</td>\n",
       "    </tr>\n",
       "    <tr>\n",
       "      <th>3</th>\n",
       "      <td>409</td>\n",
       "      <td>1507</td>\n",
       "      <td>2018.0</td>\n",
       "      <td>Luis Urias</td>\n",
       "      <td>Padres</td>\n",
       "      <td>21.0</td>\n",
       "      <td>12.0</td>\n",
       "      <td>48.0</td>\n",
       "      <td>53.0</td>\n",
       "      <td>10.0</td>\n",
       "      <td>...</td>\n",
       "      <td>luis</td>\n",
       "      <td>1809</td>\n",
       "      <td>urias</td>\n",
       "      <td>luis</td>\n",
       "      <td>649966</td>\n",
       "      <td>urial001</td>\n",
       "      <td>uriaslu01</td>\n",
       "      <td>16622</td>\n",
       "      <td>2018.0</td>\n",
       "      <td>2019.0</td>\n",
       "    </tr>\n",
       "    <tr>\n",
       "      <th>4</th>\n",
       "      <td>192</td>\n",
       "      <td>331</td>\n",
       "      <td>2018.0</td>\n",
       "      <td>Franmil Reyes</td>\n",
       "      <td>Padres</td>\n",
       "      <td>22.0</td>\n",
       "      <td>87.0</td>\n",
       "      <td>261.0</td>\n",
       "      <td>285.0</td>\n",
       "      <td>73.0</td>\n",
       "      <td>...</td>\n",
       "      <td>franmil</td>\n",
       "      <td>1448</td>\n",
       "      <td>reyes</td>\n",
       "      <td>franmil</td>\n",
       "      <td>614177</td>\n",
       "      <td>reyef001</td>\n",
       "      <td>reyesfr01</td>\n",
       "      <td>14566</td>\n",
       "      <td>2018.0</td>\n",
       "      <td>2019.0</td>\n",
       "    </tr>\n",
       "  </tbody>\n",
       "</table>\n",
       "<p>5 rows × 300 columns</p>\n",
       "</div>"
      ],
      "text/plain": [
       "   index  index_x  Season            Name    Team   Age      G     AB     PA  \\\n",
       "0    123     1094  2018.0   Austin Hedges  Padres  25.0   91.0  303.0  326.0   \n",
       "1    164      553  2018.0  Hunter Renfroe  Padres  26.0  117.0  403.0  441.0   \n",
       "2    166      692  2018.0       Wil Myers  Padres  27.0   83.0  312.0  343.0   \n",
       "3    409     1507  2018.0      Luis Urias  Padres  21.0   12.0   48.0   53.0   \n",
       "4    192      331  2018.0   Franmil Reyes  Padres  22.0   87.0  261.0  285.0   \n",
       "\n",
       "       H  ...  first_name  index_y  name_last  name_first  key_mlbam  \\\n",
       "0   70.0  ...      austin      784     hedges      austin     595978   \n",
       "1  100.0  ...      hunter     1444    renfroe      hunter     592669   \n",
       "2   79.0  ...         wil     1233      myers         wil     571976   \n",
       "3   10.0  ...        luis     1809      urias        luis     649966   \n",
       "4   73.0  ...     franmil     1448      reyes     franmil     614177   \n",
       "\n",
       "   key_retro  key_bbref  key_fangraphs  mlb_played_first  mlb_played_last  \n",
       "0   hedga001  hedgeau01          12976            2015.0           2019.0  \n",
       "1   renfh001  renfrhu01          15464            2016.0           2019.0  \n",
       "2   myerw001  myerswi01          10047            2013.0           2019.0  \n",
       "3   urial001  uriaslu01          16622            2018.0           2019.0  \n",
       "4   reyef001  reyesfr01          14566            2018.0           2019.0  \n",
       "\n",
       "[5 rows x 300 columns]"
      ]
     },
     "execution_count": 20,
     "metadata": {},
     "output_type": "execute_result"
    }
   ],
   "source": [
    "# Use Padres data from 2018\n",
    "sql_query = \"\"\"\n",
    "SELECT * FROM batting_stats18_wpid\n",
    "WHERE \"Team\"='Padres';\n",
    "\"\"\"\n",
    "df_padres = pd.read_sql_query(sql_query,con)\n",
    "df_padres.head()"
   ]
  },
  {
   "cell_type": "code",
   "execution_count": 22,
   "metadata": {
    "ExecuteTime": {
     "end_time": "2020-03-24T18:03:04.106297Z",
     "start_time": "2020-03-24T18:03:04.055047Z"
    },
    "collapsed": true
   },
   "outputs": [
    {
     "name": "stdout",
     "output_type": "stream",
     "text": [
      "index\n",
      "index_x\n",
      "Season\n",
      "Name\n",
      "Team\n",
      "Age\n",
      "G\n",
      "AB\n",
      "PA\n",
      "H\n",
      "1B\n",
      "2B\n",
      "3B\n",
      "HR\n",
      "R\n",
      "RBI\n",
      "BB\n",
      "IBB\n",
      "SO\n",
      "HBP\n",
      "SF\n",
      "SH\n",
      "GDP\n",
      "SB\n",
      "CS\n",
      "AVG\n",
      "GB\n",
      "FB\n",
      "LD\n",
      "IFFB\n",
      "Pitches\n",
      "Balls\n",
      "Strikes\n",
      "IFH\n",
      "BU\n",
      "BUH\n",
      "BB_perc\n",
      "K_perc\n",
      "BB/K\n",
      "OBP\n",
      "SLG\n",
      "OPS\n",
      "ISO\n",
      "BABIP\n",
      "GB/FB\n",
      "LD_perc\n",
      "GB_perc\n",
      "FB_perc\n",
      "IFFB_perc\n",
      "HR/FB\n",
      "IFH_perc\n",
      "BUH_perc\n",
      "wOBA\n",
      "wRAA\n",
      "wRC\n",
      "Bat\n",
      "Fld\n",
      "Rep\n",
      "Pos\n",
      "RAR\n",
      "WAR\n",
      "Dol\n",
      "Spd\n",
      "wRC+\n",
      "WPA\n",
      "-WPA\n",
      "+WPA\n",
      "RE24\n",
      "REW\n",
      "pLI\n",
      "phLI\n",
      "PH\n",
      "WPA/LI\n",
      "Clutch\n",
      "FB_perc _Pitch\n",
      "FBv\n",
      "SL_perc\n",
      "SLv\n",
      "CT_perc\n",
      "CTv\n",
      "CB_perc\n",
      "CBv\n",
      "CH_perc\n",
      "CHv\n",
      "SF_perc\n",
      "SFv\n",
      "KN_perc\n",
      "KNv\n",
      "XX_perc\n",
      "PO_perc\n",
      "wFB\n",
      "wSL\n",
      "wCT\n",
      "wCB\n",
      "wCH\n",
      "wSF\n",
      "wKN\n",
      "wFB/C\n",
      "wSL/C\n",
      "wCT/C\n",
      "wCB/C\n",
      "wCH/C\n",
      "wSF/C\n",
      "wKN/C\n",
      "O-Swing_perc\n",
      "Z-Swing_perc\n",
      "Swing_perc\n",
      "O-Contact_perc\n",
      "Z-Contact_perc\n",
      "Contact_perc\n",
      "Zone_perc\n",
      "F-Strike_perc\n",
      "SwStr_perc\n",
      "BsR\n",
      "FA_perc _pfx\n",
      "FT_perc _pfx\n",
      "FC_perc _pfx\n",
      "FS_perc _pfx\n",
      "FO_perc _pfx\n",
      "SI_perc _pfx\n",
      "SL_perc _pfx\n",
      "CU_perc _pfx\n",
      "KC_perc _pfx\n",
      "EP_perc _pfx\n",
      "CH_perc _pfx\n",
      "SC_perc _pfx\n",
      "KN_perc _pfx\n",
      "UN_perc _pfx\n",
      "vFA _pfx\n",
      "vFT _pfx\n",
      "vFC _pfx\n",
      "vFS _pfx\n",
      "vFO _pfx\n",
      "vSI _pfx\n",
      "vSL _pfx\n",
      "vCU _pfx\n",
      "vKC _pfx\n",
      "vEP _pfx\n",
      "vCH _pfx\n",
      "vSC _pfx\n",
      "vKN _pfx\n",
      "FA-X _pfx\n",
      "FT-X _pfx\n",
      "FC-X _pfx\n",
      "FS-X _pfx\n",
      "FO-X _pfx\n",
      "SI-X _pfx\n",
      "SL-X _pfx\n",
      "CU-X _pfx\n",
      "KC-X _pfx\n",
      "EP-X _pfx\n",
      "CH-X _pfx\n",
      "SC-X _pfx\n",
      "KN-X _pfx\n",
      "FA-Z _pfx\n",
      "FT-Z _pfx\n",
      "FC-Z _pfx\n",
      "FS-Z _pfx\n",
      "FO-Z _pfx\n",
      "SI-Z _pfx\n",
      "SL-Z _pfx\n",
      "CU-Z _pfx\n",
      "KC-Z _pfx\n",
      "EP-Z _pfx\n",
      "CH-Z _pfx\n",
      "SC-Z _pfx\n",
      "KN-Z _pfx\n",
      "wFA _pfx\n",
      "wFT _pfx\n",
      "wFC _pfx\n",
      "wFS _pfx\n",
      "wFO _pfx\n",
      "wSI _pfx\n",
      "wSL _pfx\n",
      "wCU _pfx\n",
      "wKC _pfx\n",
      "wEP _pfx\n",
      "wCH _pfx\n",
      "wSC _pfx\n",
      "wKN _pfx\n",
      "wFA/C _pfx\n",
      "wFT/C _pfx\n",
      "wFC/C _pfx\n",
      "wFS/C _pfx\n",
      "wFO/C _pfx\n",
      "wSI/C _pfx\n",
      "wSL/C _pfx\n",
      "wCU/C _pfx\n",
      "wKC/C _pfx\n",
      "wEP/C _pfx\n",
      "wCH/C _pfx\n",
      "wSC/C _pfx\n",
      "wKN/C _pfx\n",
      "O-Swing_perc _pfx\n",
      "Z-Swing_perc _pfx\n",
      "Swing_perc _pfx\n",
      "O-Contact_perc _pfx\n",
      "Z-Contact_perc _pfx\n",
      "Contact_perc _pfx\n",
      "Zone_perc _pfx\n",
      "Pace\n",
      "Def\n",
      "wSB\n",
      "UBR\n",
      "Age Rng\n",
      "Off\n",
      "Lg\n",
      "wGDP\n",
      "Pull_perc\n",
      "Cent_perc\n",
      "Oppo_perc\n",
      "Soft_perc\n",
      "Med_perc\n",
      "Hard_perc\n",
      "TTO_perc\n",
      "CH_perc _pi\n",
      "CS_perc _pi\n",
      "CU_perc _pi\n",
      "FA_perc _pi\n",
      "FC_perc _pi\n",
      "FS_perc _pi\n",
      "KN_perc _pi\n",
      "SB_perc _pi\n",
      "SI_perc _pi\n",
      "SL_perc _pi\n",
      "XX_perc _pi\n",
      "vCH _pi\n",
      "vCS _pi\n",
      "vCU _pi\n",
      "vFA _pi\n",
      "vFC _pi\n",
      "vFS _pi\n",
      "vKN _pi\n",
      "vSB _pi\n",
      "vSI _pi\n",
      "vSL _pi\n",
      "vXX _pi\n",
      "CH-X _pi\n",
      "CS-X _pi\n",
      "CU-X _pi\n",
      "FA-X _pi\n",
      "FC-X _pi\n",
      "FS-X _pi\n",
      "KN-X _pi\n",
      "SB-X _pi\n",
      "SI-X _pi\n",
      "SL-X _pi\n",
      "XX-X _pi\n",
      "CH-Z _pi\n",
      "CS-Z _pi\n",
      "CU-Z _pi\n",
      "FA-Z _pi\n",
      "FC-Z _pi\n",
      "FS-Z _pi\n",
      "KN-Z _pi\n",
      "SB-Z _pi\n",
      "SI-Z _pi\n",
      "SL-Z _pi\n",
      "XX-Z _pi\n",
      "wCH _pi\n",
      "wCS _pi\n",
      "wCU _pi\n",
      "wFA _pi\n",
      "wFC _pi\n",
      "wFS _pi\n",
      "wKN _pi\n",
      "wSB _pi\n",
      "wSI _pi\n",
      "wSL _pi\n",
      "wXX _pi\n",
      "wCH/C _pi\n",
      "wCS/C _pi\n",
      "wCU/C _pi\n",
      "wFA/C _pi\n",
      "wFC/C _pi\n",
      "wFS/C _pi\n",
      "wKN/C _pi\n",
      "wSB/C _pi\n",
      "wSI/C _pi\n",
      "wSL/C _pi\n",
      "wXX/C _pi\n",
      "O-Swing_perc _pi\n",
      "Z-Swing_perc _pi\n",
      "Swing_perc _pi\n",
      "O-Contact_perc _pi\n",
      "Z-Contact_perc _pi\n",
      "Contact_perc _pi\n",
      "Zone_perc _pi\n",
      "Pace _pi\n",
      "last_name\n",
      "first_name\n",
      "index_y\n",
      "name_last\n",
      "name_first\n",
      "key_mlbam\n",
      "key_retro\n",
      "key_bbref\n",
      "key_fangraphs\n",
      "mlb_played_first\n",
      "mlb_played_last\n"
     ]
    },
    {
     "data": {
      "text/plain": [
       "[None,\n",
       " None,\n",
       " None,\n",
       " None,\n",
       " None,\n",
       " None,\n",
       " None,\n",
       " None,\n",
       " None,\n",
       " None,\n",
       " None,\n",
       " None,\n",
       " None,\n",
       " None,\n",
       " None,\n",
       " None,\n",
       " None,\n",
       " None,\n",
       " None,\n",
       " None,\n",
       " None,\n",
       " None,\n",
       " None,\n",
       " None,\n",
       " None,\n",
       " None,\n",
       " None,\n",
       " None,\n",
       " None,\n",
       " None,\n",
       " None,\n",
       " None,\n",
       " None,\n",
       " None,\n",
       " None,\n",
       " None,\n",
       " None,\n",
       " None,\n",
       " None,\n",
       " None,\n",
       " None,\n",
       " None,\n",
       " None,\n",
       " None,\n",
       " None,\n",
       " None,\n",
       " None,\n",
       " None,\n",
       " None,\n",
       " None,\n",
       " None,\n",
       " None,\n",
       " None,\n",
       " None,\n",
       " None,\n",
       " None,\n",
       " None,\n",
       " None,\n",
       " None,\n",
       " None,\n",
       " None,\n",
       " None,\n",
       " None,\n",
       " None,\n",
       " None,\n",
       " None,\n",
       " None,\n",
       " None,\n",
       " None,\n",
       " None,\n",
       " None,\n",
       " None,\n",
       " None,\n",
       " None,\n",
       " None,\n",
       " None,\n",
       " None,\n",
       " None,\n",
       " None,\n",
       " None,\n",
       " None,\n",
       " None,\n",
       " None,\n",
       " None,\n",
       " None,\n",
       " None,\n",
       " None,\n",
       " None,\n",
       " None,\n",
       " None,\n",
       " None,\n",
       " None,\n",
       " None,\n",
       " None,\n",
       " None,\n",
       " None,\n",
       " None,\n",
       " None,\n",
       " None,\n",
       " None,\n",
       " None,\n",
       " None,\n",
       " None,\n",
       " None,\n",
       " None,\n",
       " None,\n",
       " None,\n",
       " None,\n",
       " None,\n",
       " None,\n",
       " None,\n",
       " None,\n",
       " None,\n",
       " None,\n",
       " None,\n",
       " None,\n",
       " None,\n",
       " None,\n",
       " None,\n",
       " None,\n",
       " None,\n",
       " None,\n",
       " None,\n",
       " None,\n",
       " None,\n",
       " None,\n",
       " None,\n",
       " None,\n",
       " None,\n",
       " None,\n",
       " None,\n",
       " None,\n",
       " None,\n",
       " None,\n",
       " None,\n",
       " None,\n",
       " None,\n",
       " None,\n",
       " None,\n",
       " None,\n",
       " None,\n",
       " None,\n",
       " None,\n",
       " None,\n",
       " None,\n",
       " None,\n",
       " None,\n",
       " None,\n",
       " None,\n",
       " None,\n",
       " None,\n",
       " None,\n",
       " None,\n",
       " None,\n",
       " None,\n",
       " None,\n",
       " None,\n",
       " None,\n",
       " None,\n",
       " None,\n",
       " None,\n",
       " None,\n",
       " None,\n",
       " None,\n",
       " None,\n",
       " None,\n",
       " None,\n",
       " None,\n",
       " None,\n",
       " None,\n",
       " None,\n",
       " None,\n",
       " None,\n",
       " None,\n",
       " None,\n",
       " None,\n",
       " None,\n",
       " None,\n",
       " None,\n",
       " None,\n",
       " None,\n",
       " None,\n",
       " None,\n",
       " None,\n",
       " None,\n",
       " None,\n",
       " None,\n",
       " None,\n",
       " None,\n",
       " None,\n",
       " None,\n",
       " None,\n",
       " None,\n",
       " None,\n",
       " None,\n",
       " None,\n",
       " None,\n",
       " None,\n",
       " None,\n",
       " None,\n",
       " None,\n",
       " None,\n",
       " None,\n",
       " None,\n",
       " None,\n",
       " None,\n",
       " None,\n",
       " None,\n",
       " None,\n",
       " None,\n",
       " None,\n",
       " None,\n",
       " None,\n",
       " None,\n",
       " None,\n",
       " None,\n",
       " None,\n",
       " None,\n",
       " None,\n",
       " None,\n",
       " None,\n",
       " None,\n",
       " None,\n",
       " None,\n",
       " None,\n",
       " None,\n",
       " None,\n",
       " None,\n",
       " None,\n",
       " None,\n",
       " None,\n",
       " None,\n",
       " None,\n",
       " None,\n",
       " None,\n",
       " None,\n",
       " None,\n",
       " None,\n",
       " None,\n",
       " None,\n",
       " None,\n",
       " None,\n",
       " None,\n",
       " None,\n",
       " None,\n",
       " None,\n",
       " None,\n",
       " None,\n",
       " None,\n",
       " None,\n",
       " None,\n",
       " None,\n",
       " None,\n",
       " None,\n",
       " None,\n",
       " None,\n",
       " None,\n",
       " None,\n",
       " None,\n",
       " None,\n",
       " None,\n",
       " None,\n",
       " None,\n",
       " None,\n",
       " None,\n",
       " None,\n",
       " None,\n",
       " None,\n",
       " None,\n",
       " None,\n",
       " None,\n",
       " None,\n",
       " None,\n",
       " None,\n",
       " None,\n",
       " None,\n",
       " None,\n",
       " None,\n",
       " None,\n",
       " None,\n",
       " None,\n",
       " None,\n",
       " None,\n",
       " None,\n",
       " None,\n",
       " None,\n",
       " None,\n",
       " None,\n",
       " None,\n",
       " None,\n",
       " None,\n",
       " None,\n",
       " None,\n",
       " None,\n",
       " None,\n",
       " None,\n",
       " None,\n",
       " None,\n",
       " None,\n",
       " None]"
      ]
     },
     "execution_count": 22,
     "metadata": {},
     "output_type": "execute_result"
    }
   ],
   "source": [
    "[print(i) for i in df_padres.columns]"
   ]
  },
  {
   "cell_type": "code",
   "execution_count": 24,
   "metadata": {
    "ExecuteTime": {
     "end_time": "2020-03-24T18:05:49.620797Z",
     "start_time": "2020-03-24T18:05:48.520739Z"
    }
   },
   "outputs": [
    {
     "data": {
      "text/plain": [
       "<matplotlib.collections.PathCollection at 0x11caf7dd8>"
      ]
     },
     "execution_count": 24,
     "metadata": {},
     "output_type": "execute_result"
    },
    {
     "data": {
      "image/png": "[encoded data removed]",
      "text/plain": [
       "<Figure size 432x288 with 1 Axes>"
      ]
     },
     "metadata": {
      "needs_background": "light"
     },
     "output_type": "display_data"
    }
   ],
   "source": [
    "plt.scatter(df_padres['FB'], df_padres['HR'])"
   ]
  },
  {
   "cell_type": "markdown",
   "metadata": {},
   "source": [
    "# ISLR (Ch 3): Linear Regression\n",
    "\n",
    "Classic technique that is still powerful and serves as a starting point for newer approaches. Questions that can be addressed using the Advertising data from the previous chapter:\n",
    "\n",
    "1. Is there a relationship between advertising budget and sales?\n",
    "2. How string is the relationship between advertising budget and sales?\n",
    "3. Which media contribute to sales?\n",
    "4. How accurately can we estimate the effect of each medium on sales?\n",
    "5. How accurately can we predict future sales?\n",
    "6. Is the relationship linear?\n",
    "7. Is there synergy among the advertising media? (interaction effect)\n"
   ]
  },
  {
   "cell_type": "markdown",
   "metadata": {
    "ExecuteTime": {
     "end_time": "2020-04-07T15:07:27.047656Z",
     "start_time": "2020-04-07T15:07:27.026042Z"
    }
   },
   "source": [
    "## Simple linear regression\n",
    "\n",
    "We are seeking to predict Y on the basis of a single predictor variable X. It assumes there's an approximate linear relationship between X and Y.\n",
    "\n",
    "$Y \\approx \\beta_0 + \\beta_1X$"
   ]
  },
  {
   "cell_type": "markdown",
   "metadata": {
    "ExecuteTime": {
     "end_time": "2020-04-07T15:07:27.047656Z",
     "start_time": "2020-04-07T15:07:27.026042Z"
    }
   },
   "source": [
    "### Estimating the coefficients\n",
    "\n",
    "Use least squarest to estimate. Find $\\hat{\\beta_0}$ and $\\hat{\\beta_1}$ such that the residual sum of squares (RSS) is minimized.\n",
    "\n",
    "### Assessing the accuracy of the coefficient estimates\n",
    "\n",
    "The true relationship between X and Y includes some $\\epsilon$ which is a mean-zero random error term.\n",
    "\n",
    "$Y = \\beta_0 + \\beta_1X$ + $\\epsilon$\n",
    "\n",
    "Note that we replace \"approximately equal\" with just \"equal\" when we have the error term. The error term $\\epsilon$ is a catch-all for what we miss with the simple model. We typically assume that the error term is independent of X.\n",
    "\n",
    "Remember that there is a true population regression line and that an regression line is a sample of that. Therefore there is some error associated with the regression line, consistent with standard statistical approaches of using a sample to estimate characteristics of a larger population. The analogy between linear regression and estimation of the mean of a random variableis an apt one based on the concept of *bias*. Just as $\\hat\\mu$ is an unbiased estimate of $\\mu$, we can say the same for the linear regression coefficients we are estimating $\\hat{\\beta_0}$ and $\\hat{\\beta_1}$ for ${\\beta_0}$ and ${\\beta_1}$, respectively.\n",
    "\n",
    "Continuing with the analogy of estimating the sample mean for our random variable Y, a natural question is how accurate is the sample mean $\\hat\\mu$ for $\\mu$? We have established that the average of many $\\hat\\mu$ over many data sets will be very close to $\\mu$, but that a single estimate $\\hat\\mu$ may be a substantial under- or overestimate of $\\mu$. How far will that single estimate of $\\hat\\mu$ be? That is when we compute the *standard error*.\n",
    "\n",
    "$Var(\\hat\\mu) = SE(\\hat\\mu)^2 = \\frac{\\sigma^2}{n}$\n",
    "\n",
    "In a similar vein, we can calculate the standard errors associated with $\\hat{\\beta_0}$ and $\\hat{\\beta_1}$ using the following formulas:\n",
    "\n",
    "$SE(\\hat{\\beta_0})^2 = \\sigma^2[\\frac{1}{n} + \\frac{\\bar{x}^2}{\\Sigma(x_i-\\bar{x}^2}]$\n",
    "\n",
    "$SE(\\hat{\\beta_1})^2 = \\sigma^2[\\frac{1}{n} + \\frac{\\bar{x}^2}{\\Sigma(x_i-\\bar{x}^2}]$\n",
    "\n",
    "Other key concepts:\n",
    "- SEs can be used to compute confidence intervals, make hypothesis tests, apply t-statistics and get p-values.\n",
    "\n",
    "### Assessing the accuracy of the model\n",
    "\n",
    "**Residual standard error**\n",
    "- What is the formula for RSE?\n",
    "- Based on the formula, can you tell for which term in the linear regression model it is a standard deviation?\n",
    "\n",
    "**$R^2$ statistic**\n",
    "- Is $R^2$ a number or proportion? Why? What is it a proportion of?\n",
    "    - It's the proportion of variance in Y explained by the target.\n",
    "    - It has the formula $R^2 = \\frac{TSS-RSS}{TSS} = 1 - \\frac{RSS}{TSS}$\n",
    "    \n",
    "- What is the formula to calculate $R^2$?\n",
    "- How does $R^2$ relate to the definition of correlation in a simple linear model? Can it be applied to a multiple linear regression problem?\n",
    " \n"
   ]
  },
  {
   "cell_type": "code",
   "execution_count": null,
   "metadata": {},
   "outputs": [],
   "source": []
  },
  {
   "cell_type": "markdown",
   "metadata": {},
   "source": [
    "## Multiple linear regression\n",
    "\n",
    "This approach helps extend analysis to accomdate additional predictors. Each predictor (variable) is given a separate slope coefficient in a single model. **We interpret each coefficient $\\beta_j$ as the average effect on the target $Y$ of a one unit increase in its associated feature $X_j$, holding all other features constant.** \n",
    "\n",
    "$Y = \\beta_0 + \\beta_1X_1 + \\beta_2X_2 + ... + \\beta_pX_p + \\epsilon$"
   ]
  },
  {
   "cell_type": "markdown",
   "metadata": {},
   "source": [
    "### Estimating the regression coefficients\n",
    "\n",
    "The parameters are estimated least squares. **Note that a feature can look significant when run alone in a simple linear regression but not significant in a multiple regression model! (In other words, the coefficients and p-values of a feature can be quite different between a simple and multiple regression model.)** Below are tables from the `Advertising` data described in the book (pg. 72).\n",
    "\n",
    "<br>\n",
    "<center> From Table 3.3: Simple regression of sales on newspaper </center>\n",
    "\n",
    "| | Coefficient | SE | t-statistic | p-value |\n",
    "|--|-------|---|-------|------- |\n",
    "|intercept | 12.351 | 0.621 | 19.88 | <0.0001 |\n",
    "|newspaper | 0.055 | 0.017 | 3.30 | 0.00115 |\n",
    "\n",
    "<br>\n",
    "<center> Table 3.4: Multiple regression model of sales </center>\n",
    "\n",
    "| | Coefficient | SE | t-statistic | p-value |\n",
    "|--|-------|---|-------|------- |\n",
    "|intercept | 2.939 | 0.3119 | 9.42 | <0.0001 |\n",
    "|TV        | 0.046 | 0.0014 | 32.91 | <0.0001 |\n",
    "|radio     | 0.189 | 0.0086 | 21.89 | <0.0001 |\n",
    "|newspaper | -0.001 | 0.0059 | -0.18 | 0.8599 |\n",
    "\n",
    "How do we interpret this? For radio, as we see in Table 3.4, we would say that spending an additional \\$1000 on radio advertising leads to an increase in sales by approximately 189 units (it is 1000 since the numbers are in thousands). (This is not too far off from its coefficient in the simple linear regression model data not shown.) But for newspaper, the regression coefficient was significantly non-zero in a simple regression model but very close to zero in the multiple regression model.\n",
    "\n",
    "**How can this be?** This situation can be quite common. The difference stems from the fact that the slope term represents the average effect of a \\$1000 increase in newspaper advertising, *ignoring* other predictors such as TV and radio. In contrast, in the multiple regression setting, the coefficient represent the average effect of increasing newspaper spending by \\$1000 while holding TV and radio fixed.\n",
    "\n",
    "**Does it make sense for the multiple regression to suggest no relationship between sales and newspaper while the simple linear regression implies the opposite?** It can. Consider a correlation matrix (not shown) that shows that there is a correlation between radio and newspaper of 0.35. This shows that there's a tendency to spend more on newspaper advertising in markets where more is spent on radio advertising. In a simple regression model where radio advertising is ignored, the newspaper advertising \"gets credit\" for the radio advertising even though newspaper ads are not really impacting sales. Newspaper sales are therefore just a surrogate for radio advertising in a simple regression model.\n",
    "\n",
    "Here's a more extreme example to further illustrate the point. If you run a regression of shark attacks versus ice cream sales, you would see a positive correlation. But it would be absurd to ban ice cream sales to reduce the incidence of shark attacks. In reality, the higher temperatures cause more people to visit the beach, increasing both shark attacks and beach sales. A multiple regression of attacks versus ice cream sales and temperature reveals, as intuitin implies, that the former predictor is no longer significant after adjusting for temperature."
   ]
  },
  {
   "attachments": {
    "p81_fig3.5.png": {
     "image/png": "[encoded data removed]"
    }
   },
   "cell_type": "markdown",
   "metadata": {},
   "source": [
    "### Some important questions\n",
    "\n",
    "With multiple linear regression, we're usually interested in answering a few important questions.\n",
    "1. Is at least one of the predictors useful in predicting the response?\n",
    "2. Do all the predictors help to explain Y or is only a subset of the predictors useful?\n",
    "3. How well does the model fit the data?\n",
    "4. Given a set of predictor values, what response value should we predict, and how accurate is our prediction?\n",
    "5. Other: How does regularization impact the interpretation of coefficients?\n",
    "\n",
    "**One: Is there a relationship between the response and predictors?**\n",
    "\n",
    "In order to determine whether there's a relationship between the response(s) and predictor, we would do the following for each setting:\n",
    "\n",
    "simple linear regression: check whether $\\beta_1 = 0$\n",
    "<br>\n",
    "multiple linear regression: check whether $\\beta_1 = \\beta_2 = \\beta_3 ... \\beta_j = 0$\n",
    "\n",
    "For the multiple linear regression setting, we can pose null and alternate hypotheses.\n",
    "<br>\n",
    "Null: All coefficients are equal to 0.\n",
    "<br>\n",
    "Alternate: At least *one* coefficients is non-zero.\n",
    "\n",
    "The hypothesis test is performed by computing the F-statistic. (Note that this sounds very similar to ANOVA because it is, in fact, the same thing.)\n",
    "\n",
    "$ F = \\frac{(TSS - RSS)/p}{(RSS)/(n-p-1)} = \\frac{variance\\ across\\ groups}{variance\\ within\\ groups} $\n",
    "\n",
    "If the linear model assumptions are corrrect, one can show that:\n",
    "\n",
    "$ E\\{RSS/(n-p-1)\\} = \\sigma^2 $\n",
    "\n",
    "and that, provided $H_0$ is true,\n",
    "\n",
    "$ E\\{(TSS-RSS)/p\\} = \\sigma^2 $\n",
    "\n",
    "Therefore, when there's no relationship between the response and predictors, we can expect the F-statistic to take on a value close to 1. When the F-statistic is very large (as in the advertisements dataset), the p-values are small, providing compelling evidence against the null hypothesi. This suggests *at least one* of the features must be related to sales. But recall that there's a relationship between the degrees of freedom and the F-statistic (the F-distribution itself being the quotient of two chi-squared distributions). When n is large, a smaller F-statistic can still lead to rejection of the null hypothesis.\n",
    "\n",
    "Sometimes we may want to test whether a particular subset of the coefficients are zero. In this case, we can have a second model that uses all variables *except q* variables. Suppose the residual sum of squares for that model is $RSS_0$. You can calculate the F-statistic for this new model.\n",
    "\n",
    "$ F = \\frac{(RSS_0 - RSS)/q}{(RSS)/(n-p-1)} $\n",
    "\n",
    "In Table 3.4, for each individual predictor a t-statistic and a p-value were reported, to provide info about whether  each individual predictor is related to the response after adjusting for all other features. Interestingly, these are exactly equivalent to the F-test that omits that single variable from the model, leaving all the others in. (The square of each t-statistic is its corresponding F-statistic.) Therefore, it reports the partial effect of adding that variable to the model. For instance, as shown above, the p-values indicate that TV and radio are related to sales, but not newspaper in the presence of the other two.\n",
    "\n",
    "Given that we can get the individual p-values for each variable, why do we need to look at the overall F-statistic? After all, if any of the p-values for the individual variables is very small, then we can say that at least one of the predictors is related to the response, right? No, and in short, because of multiple hypothesis testing. If the number of predictors/variables is very large, then you have the potential for one of the p-values from the individual t-statistics to find a significant variable by chance. The F-statistic approach does not suffer from this problem because it adjusts for the number of predictors.\n",
    "\n",
    "The approach of using an F-statistic to test for an association between the predictors and response works when *p* is relatively small, and certainly small compared to *n*. But what happens if the number of predictors is larger compared to the number of samples? Then there are more coefficients to estimate than observations from which to estimate them and in this case, we cannot even fit the multiple linear regression model using least squares. The F-statistic cannot be used (and neither can most other concepts that we have seen so far in this chapter). When *p* is large, you might be able to use *forward selection*. A discussion of the *high-dimensional* setting is also discussed in Chapter 6.\n",
    "\n",
    "**Two: Deciding on important variables**\n",
    "\n",
    "We know that we can look at the F-statistic to see if there is at least *one* feature that significantly related to the response. We can look at p-values of each feature but if the number of features is large, we can make some false discoveries. We could apply a process of *variable* or *feature selection*. We can try different combinations of features but practically that would be time consuming. Instead, we can apply classical approaches for this task:\n",
    "\n",
    "- *Forward selection*. Start with a null model, one that contains an intercept but no predictors. Then fit *m* simple linear regressions (m=number of features) and add to the null model the variable that results in the lowest RSS. Add a second variable that results in the lowest RSS for the next two-variable model. Keep doing this until some stopping rule is satisifed.\n",
    "- *Backward selection*. Instead start with all variables in the model, then remove the variable with the largest p-value (least significant). Keep doing this until some stopping rule is reached (e.g. when the remaining variables have a p-value below some threshold.\n",
    "- *Mixed selection*. A combination of forward and backward selection. Start with no variables in the model, then add variable that best fits like in forward selection. Keep adding until a variable added rises above a p-value threshold, then remove it. Continue performing forward and backward steps until all variables have a sufficiently low p-value and all variables outside the model would have a large p-value if added to the model. (*Not entirely sure I understand this.*)\n",
    "\n",
    "Note: Backward selection cannot be used if m > n, while forward selection can always be used. Forward selection is a greedy approach, and might include variables early that later become redundant. Mixed selection can remedy this.\n",
    "\n",
    "More detail about this is discussed in Chapter 6.\n",
    "\n",
    "**Three: Model fit**\n",
    "\n",
    "Two of the most common numerical measures of model fit are the RSE and $R^2$, the fraction of variance explained. Recall that in simple regression, $R^2$is the square of the correlation of the response and the variable. In multiple linear regression, it equals $Cor(Y, \\hat{Y})^2$, the square of the correlation between the response and the fitted linear model; in fact one property of the fitted linear model is that it maximizes thsi correlation among all possible linear models.\n",
    "\n",
    "An $R^2$ close to 1 indicates that the model explains a large portion of the variance in the response variable. This is true even in the Advertising data where using all three variables gives an $R^2$ of 0.8972 while omitting newspaper gives $R^2$ of 0.89719. There's a small increase when we include newspaper even though we know that the p-value for newspaper advertising is not significant. It turns out that $R^2$ will always increase when more variables are added to the model, even if those variables are only weakly associated with the response. In contrast, when using only TV, the $R^2$ was 0.61 and adding radio leads to a substantial improvement. We can further quantify this improvement by looking at the p-value for the radio coefficient in a model that contains only TV and radio as predictors.\n",
    "  \n",
    "What about RSE? The model that contains only TV and radio has an RSE of 1.681 while including newspaper has one of 1.686. How can RSE increase when newsppaer is added given that RSS must decrease? In general, RSE is defined as:\n",
    "    <br>\n",
    "    $RSE = \\sqrt{\\frac{1}{n-p-1}RSS}$\n",
    "    <br>\n",
    "Thus, models with more variables can have higher RSE if the decrease in RSS is small relative to the increase in m. The square root in the equation means that an added or removed feature will impact RSS and RSE in a non-linear fashion.\n",
    "\n",
    "Plotting the data also helps. Graphical summaries can reveal problems with a model that are not visible from numerical statistics. In the 3D plot, some observations lie below the least squares regression plane while some are above. It overestimates sales for instances in which most of the advertising money is spent exclusively on either TV or radio while underestimating sales when the budget was split between the two media. The pronounced non-linear pattern cannot be modeled accurately using linear regression. It suggests a *synergy* or *interaction* effect between the advertising media, whereby combining the media together results in a bigger boost to sales than using any single medium. Later we'll discuss accomdating synergistic effects through the use of interaction terms.\n",
    "    \n",
    "![p81_fig3.5.png](attachment:p81_fig3.5.png)\n",
    "\n",
    "RSE = residual standard error (looks same? as root mean square error)\n",
    "<br>\n",
    "RSS = residual sum of squares (looks same? as mean square error)\n",
    "\n",
    "\n",
    "**Four: Predictions**\n",
    "\n",
    "Once we have fit the multiple regression model, it is straightforward to apply the equation to predict the response *Y* on the basis of a set fo values for the predictors $X_1, X_2,...X_p$. However, there are three sorts of uncertainty associated with this prediction.\n",
    "\n",
    "1. The coefficient estimates ${\\hat\\beta_0}$, ${\\hat\\beta_1}$,... ${\\hat\\beta_m}$ are only estimates for ${\\beta_0}$, ${\\beta_1}$,... ${\\beta_m}$. The *least squares plane* is only an estimate for the *true population regression plane.* The inaccuracy in the coefficient estimates is related to the *reducible error* from Chapter 2. We can compute a *confidence interval* in order to determine how close $\\hat{Y}$ will be to *f(X)*.\n",
    "\n",
    "2. Even if we knew the true values, the response value cannot be predicted perfectly because of the random error $\\epsilon$ in the model (the irreducible error). How much will $Y$ vary from $\\hat{Y}$? We use *prediction intervals* to answer this question. Prediction intervals are always wider than confidence intervals, because they incorporate both the error in the estimate for f(X) (the reducible error) and the uncertainty as to how much an individual point will differ from the population regression plane (the irreducible error).\n",
    "    - Confidence interval: use to quantify the uncertainty surrounding the average sales over a large number of cities (given that 100K and 20K is spent on TV and radio in each city, the CI for sales could be (10985, 11528))\n",
    "    - Prediction interval: use to quantify the uncertainty surrounding sales for a particular city (given that 100K and 20K is spent on TV and radio in a particular city, the PI for sales could be (7930, 14580))\n",
    "\n",
    "Note that both intervals are centered at 11256 but that the prediction interval is substantially wider tha the confidence interval, reflecting the increased uncertainty about sales for a given city in comparison to the average sales over many locations.\n",
    "\n",
    "**Other: Interpret the coefficients in both the simple and multiple regression setting. How much would we expect an additional \\$1000 of advertising spending in each category to increase sales?**"
   ]
  },
  {
   "cell_type": "markdown",
   "metadata": {},
   "source": [
    "## Other considerations in the regression model\n",
    "\n",
    "### Qualitative predictors\n",
    "\n",
    "Suppose we evaluate the Credit data set, which has balance and quantitative predictors like age, education, income, etc. There are also qualitative predictors like gender, student status, and ethnicity.\n",
    "\n",
    "**Predictors with only two levels**\n",
    "\n",
    "Suppose we're looking at gender and we arbitrarily code male as 0 and female as 1. \n",
    "\n",
    "For the female, the equation would look like this: $y_i = \\beta_0 + \\beta_1x_1$\n",
    "<br>\n",
    "For the male, the equation would look like this: $y_i = \\beta_0$\n",
    "\n",
    "The choice of coding is arbitrary, it is just how we interpret the coefficients.\n",
    "\n",
    "\n",
    "**Predictors with more than two levels**\n",
    "\n",
    "\n",
    "### Extensions of the linear model\n",
    "\n",
    "**Removing the additive assumption**\n",
    "\n",
    "**Non-linear relationships**\n",
    "\n",
    "\n",
    "### Potential problems\n",
    "\n",
    "1. Non-linearity of the response-predictor relationships\n",
    "2. Correlation of error terms\n",
    "3. Non-constant variance of error terms\n",
    "4. Outliers\n",
    "5. High-leverage points\n",
    "6. Collinearity\n"
   ]
  },
  {
   "cell_type": "code",
   "execution_count": null,
   "metadata": {},
   "outputs": [],
   "source": []
  },
  {
   "cell_type": "code",
   "execution_count": null,
   "metadata": {},
   "outputs": [],
   "source": []
  },
  {
   "cell_type": "code",
   "execution_count": null,
   "metadata": {},
   "outputs": [],
   "source": []
  },
  {
   "cell_type": "markdown",
   "metadata": {},
   "source": [
    "# K means vs. heirarchical clustering\n",
    "\n",
    "See this video\n",
    "https://www.youtube.com/watch?v=QXOkPvFM6NU&t=933s\n",
    "\n",
    "See this site\n",
    "https://www.analyticsvidhya.com/blog/2016/11/an-introduction-to-clustering-and-different-methods-of-clustering/"
   ]
  },
  {
   "cell_type": "markdown",
   "metadata": {},
   "source": [
    "# PCA\n",
    "\n",
    "Amazing explanation\n",
    "<br>\n",
    "https://stats.stackexchange.com/questions/2691/making-sense-of-principal-component-analysis-eigenvectors-eigenvalues\n",
    "    \n",
    "<br>\n",
    "Good video on covariance matrix\n",
    "<br>\n",
    "\n",
    "https://www.youtube.com/watch?v=152tSYtiQbw\n"
   ]
  },
  {
   "cell_type": "code",
   "execution_count": null,
   "metadata": {},
   "outputs": [],
   "source": []
  },
  {
   "cell_type": "markdown",
   "metadata": {},
   "source": [
    "# ISLR (Ch 8): Tree-Based Methods\n",
    "\n",
    "- Applies to regression and classification\n",
    "- Involves *stratifying* or *segmenting* the predictor space into a number of simple regions\n",
    "- To make a prediction for a given observation, we typically use the mean or mode of the training observations in the region to which it belongs.\n",
    "- The set of splitting rules used to segment the predictor space can be summarized in a tree\n",
    "- Decision trees are simple and useful for interpretation, but on their own they're not great for prediction accuracy. But they perform better when multiple trees are used as in bagging, random forests, and boosting. These dramatically improve prediction at the expense of some loss in interpretation."
   ]
  },
  {
   "cell_type": "markdown",
   "metadata": {},
   "source": [
    "## The basics of decision trees\n",
    "\n",
    "Regression and classification applications"
   ]
  },
  {
   "cell_type": "markdown",
   "metadata": {},
   "source": [
    "### Regression trees\n",
    "\n",
    "Use a baseball dataset, predicting a hitter's salary based on the number of years played and number of hits."
   ]
  },
  {
   "cell_type": "code",
   "execution_count": 3,
   "metadata": {
    "ExecuteTime": {
     "end_time": "2020-04-15T01:37:11.923119Z",
     "start_time": "2020-04-15T01:37:11.854019Z"
    }
   },
   "outputs": [
    {
     "data": {
      "text/html": [
       "<div>\n",
       "<style scoped>\n",
       "    .dataframe tbody tr th:only-of-type {\n",
       "        vertical-align: middle;\n",
       "    }\n",
       "\n",
       "    .dataframe tbody tr th {\n",
       "        vertical-align: top;\n",
       "    }\n",
       "\n",
       "    .dataframe thead th {\n",
       "        text-align: right;\n",
       "    }\n",
       "</style>\n",
       "<table border=\"1\" class=\"dataframe\">\n",
       "  <thead>\n",
       "    <tr style=\"text-align: right;\">\n",
       "      <th></th>\n",
       "      <th>Player</th>\n",
       "      <th>AtBat</th>\n",
       "      <th>Hits</th>\n",
       "      <th>HmRun</th>\n",
       "      <th>Runs</th>\n",
       "      <th>RBI</th>\n",
       "      <th>Walks</th>\n",
       "      <th>Years</th>\n",
       "      <th>CAtBat</th>\n",
       "      <th>CHits</th>\n",
       "      <th>...</th>\n",
       "      <th>CRuns</th>\n",
       "      <th>CRBI</th>\n",
       "      <th>CWalks</th>\n",
       "      <th>League</th>\n",
       "      <th>Division</th>\n",
       "      <th>PutOuts</th>\n",
       "      <th>Assists</th>\n",
       "      <th>Errors</th>\n",
       "      <th>Salary</th>\n",
       "      <th>NewLeague</th>\n",
       "    </tr>\n",
       "  </thead>\n",
       "  <tbody>\n",
       "    <tr>\n",
       "      <th>0</th>\n",
       "      <td>Andy Allanson</td>\n",
       "      <td>293</td>\n",
       "      <td>66</td>\n",
       "      <td>1</td>\n",
       "      <td>30</td>\n",
       "      <td>29</td>\n",
       "      <td>14</td>\n",
       "      <td>1</td>\n",
       "      <td>293</td>\n",
       "      <td>66</td>\n",
       "      <td>...</td>\n",
       "      <td>30</td>\n",
       "      <td>29</td>\n",
       "      <td>14</td>\n",
       "      <td>A</td>\n",
       "      <td>E</td>\n",
       "      <td>446</td>\n",
       "      <td>33</td>\n",
       "      <td>20</td>\n",
       "      <td>NaN</td>\n",
       "      <td>A</td>\n",
       "    </tr>\n",
       "    <tr>\n",
       "      <th>1</th>\n",
       "      <td>Alan Ashby</td>\n",
       "      <td>315</td>\n",
       "      <td>81</td>\n",
       "      <td>7</td>\n",
       "      <td>24</td>\n",
       "      <td>38</td>\n",
       "      <td>39</td>\n",
       "      <td>14</td>\n",
       "      <td>3449</td>\n",
       "      <td>835</td>\n",
       "      <td>...</td>\n",
       "      <td>321</td>\n",
       "      <td>414</td>\n",
       "      <td>375</td>\n",
       "      <td>N</td>\n",
       "      <td>W</td>\n",
       "      <td>632</td>\n",
       "      <td>43</td>\n",
       "      <td>10</td>\n",
       "      <td>475.0</td>\n",
       "      <td>N</td>\n",
       "    </tr>\n",
       "    <tr>\n",
       "      <th>2</th>\n",
       "      <td>Alvin Davis</td>\n",
       "      <td>479</td>\n",
       "      <td>130</td>\n",
       "      <td>18</td>\n",
       "      <td>66</td>\n",
       "      <td>72</td>\n",
       "      <td>76</td>\n",
       "      <td>3</td>\n",
       "      <td>1624</td>\n",
       "      <td>457</td>\n",
       "      <td>...</td>\n",
       "      <td>224</td>\n",
       "      <td>266</td>\n",
       "      <td>263</td>\n",
       "      <td>A</td>\n",
       "      <td>W</td>\n",
       "      <td>880</td>\n",
       "      <td>82</td>\n",
       "      <td>14</td>\n",
       "      <td>480.0</td>\n",
       "      <td>A</td>\n",
       "    </tr>\n",
       "    <tr>\n",
       "      <th>3</th>\n",
       "      <td>Andre Dawson</td>\n",
       "      <td>496</td>\n",
       "      <td>141</td>\n",
       "      <td>20</td>\n",
       "      <td>65</td>\n",
       "      <td>78</td>\n",
       "      <td>37</td>\n",
       "      <td>11</td>\n",
       "      <td>5628</td>\n",
       "      <td>1575</td>\n",
       "      <td>...</td>\n",
       "      <td>828</td>\n",
       "      <td>838</td>\n",
       "      <td>354</td>\n",
       "      <td>N</td>\n",
       "      <td>E</td>\n",
       "      <td>200</td>\n",
       "      <td>11</td>\n",
       "      <td>3</td>\n",
       "      <td>500.0</td>\n",
       "      <td>N</td>\n",
       "    </tr>\n",
       "    <tr>\n",
       "      <th>4</th>\n",
       "      <td>Andres Galarraga</td>\n",
       "      <td>321</td>\n",
       "      <td>87</td>\n",
       "      <td>10</td>\n",
       "      <td>39</td>\n",
       "      <td>42</td>\n",
       "      <td>30</td>\n",
       "      <td>2</td>\n",
       "      <td>396</td>\n",
       "      <td>101</td>\n",
       "      <td>...</td>\n",
       "      <td>48</td>\n",
       "      <td>46</td>\n",
       "      <td>33</td>\n",
       "      <td>N</td>\n",
       "      <td>E</td>\n",
       "      <td>805</td>\n",
       "      <td>40</td>\n",
       "      <td>4</td>\n",
       "      <td>91.0</td>\n",
       "      <td>NaN</td>\n",
       "    </tr>\n",
       "  </tbody>\n",
       "</table>\n",
       "<p>5 rows × 21 columns</p>\n",
       "</div>"
      ],
      "text/plain": [
       "             Player  AtBat  Hits  HmRun  Runs  RBI  Walks  Years  CAtBat  \\\n",
       "0     Andy Allanson    293    66      1    30   29     14      1     293   \n",
       "1        Alan Ashby    315    81      7    24   38     39     14    3449   \n",
       "2       Alvin Davis    479   130     18    66   72     76      3    1624   \n",
       "3      Andre Dawson    496   141     20    65   78     37     11    5628   \n",
       "4  Andres Galarraga    321    87     10    39   42     30      2     396   \n",
       "\n",
       "   CHits  ...  CRuns  CRBI  CWalks  League Division PutOuts  Assists  Errors  \\\n",
       "0     66  ...     30    29      14       A        E     446       33      20   \n",
       "1    835  ...    321   414     375       N        W     632       43      10   \n",
       "2    457  ...    224   266     263       A        W     880       82      14   \n",
       "3   1575  ...    828   838     354       N        E     200       11       3   \n",
       "4    101  ...     48    46      33       N        E     805       40       4   \n",
       "\n",
       "   Salary  NewLeague  \n",
       "0     NaN          A  \n",
       "1   475.0          N  \n",
       "2   480.0          A  \n",
       "3   500.0          N  \n",
       "4    91.0        NaN  \n",
       "\n",
       "[5 rows x 21 columns]"
      ]
     },
     "execution_count": 3,
     "metadata": {},
     "output_type": "execute_result"
    }
   ],
   "source": [
    "# Example data from R ISLR package\n",
    "df_hitters = pd.read_csv('ISLR_data/Hitters.csv')\n",
    "df_hitters.head()"
   ]
  },
  {
   "cell_type": "markdown",
   "metadata": {},
   "source": [
    "**Let's manually construct the decision tree!**\n",
    "<br>\n",
    "Plot the raw data and add the mean of each feature to the plot. Plot histograms of each feature too, to see if transformation is necessary."
   ]
  },
  {
   "cell_type": "code",
   "execution_count": 4,
   "metadata": {
    "ExecuteTime": {
     "end_time": "2020-04-15T01:37:13.492950Z",
     "start_time": "2020-04-15T01:37:13.486929Z"
    }
   },
   "outputs": [
    {
     "name": "stdout",
     "output_type": "stream",
     "text": [
      "Mean years:  7.444099378881988  and mean hits:  101.0248447204969\n"
     ]
    }
   ],
   "source": [
    "mean_years = df_hitters['Years'].mean()\n",
    "mean_hits = df_hitters['Hits'].mean()\n",
    "print('Mean years: ', mean_years, ' and mean hits: ', mean_hits)"
   ]
  },
  {
   "cell_type": "code",
   "execution_count": 5,
   "metadata": {
    "ExecuteTime": {
     "end_time": "2020-04-15T01:37:14.861400Z",
     "start_time": "2020-04-15T01:37:14.112752Z"
    }
   },
   "outputs": [
    {
     "name": "stderr",
     "output_type": "stream",
     "text": [
      "/Users/lacar/anaconda/envs/insight/lib/python3.6/site-packages/numpy/lib/histograms.py:839: RuntimeWarning: invalid value encountered in greater_equal\n",
      "  keep = (tmp_a >= first_edge)\n",
      "/Users/lacar/anaconda/envs/insight/lib/python3.6/site-packages/numpy/lib/histograms.py:840: RuntimeWarning: invalid value encountered in less_equal\n",
      "  keep &= (tmp_a <= last_edge)\n"
     ]
    },
    {
     "data": {
      "image/png": "[encoded data removed]",
      "text/plain": [
       "<Figure size 864x720 with 4 Axes>"
      ]
     },
     "metadata": {
      "needs_background": "light"
     },
     "output_type": "display_data"
    }
   ],
   "source": [
    "f, ((ax1, ax2), (ax3, ax4)) = plt.subplots(2, 2, figsize=(12,10))\n",
    "ax1.scatter(df_hitters['Years'], df_hitters['Hits'], facecolors='none', edgecolors='k')\n",
    "ax1.set_xlabel('Years')\n",
    "ax1.set_ylabel('Hits')\n",
    "ax1.set_title('Example dataset')\n",
    "ax1.axvline(mean_years, color='r', linestyle='dashed')\n",
    "ax1.axhline(mean_hits, color='r', linestyle='dashed')\n",
    "\n",
    "ax2.hist(df_hitters['Salary'], color='gray')\n",
    "ax2.set_xlabel('Salary')\n",
    "\n",
    "ax3.hist(df_hitters['Years'], color='gray')\n",
    "ax3.set_xlabel('Years')\n",
    "\n",
    "ax4.hist(df_hitters['Hits'], color='gray')\n",
    "ax4.set_xlabel('Hits');"
   ]
  },
  {
   "cell_type": "code",
   "execution_count": 6,
   "metadata": {
    "ExecuteTime": {
     "end_time": "2020-04-15T01:37:14.976155Z",
     "start_time": "2020-04-15T01:37:14.918698Z"
    }
   },
   "outputs": [
    {
     "data": {
      "text/html": [
       "<div>\n",
       "<style scoped>\n",
       "    .dataframe tbody tr th:only-of-type {\n",
       "        vertical-align: middle;\n",
       "    }\n",
       "\n",
       "    .dataframe tbody tr th {\n",
       "        vertical-align: top;\n",
       "    }\n",
       "\n",
       "    .dataframe thead th {\n",
       "        text-align: right;\n",
       "    }\n",
       "</style>\n",
       "<table border=\"1\" class=\"dataframe\">\n",
       "  <thead>\n",
       "    <tr style=\"text-align: right;\">\n",
       "      <th></th>\n",
       "      <th>Player</th>\n",
       "      <th>AtBat</th>\n",
       "      <th>Hits</th>\n",
       "      <th>HmRun</th>\n",
       "      <th>Runs</th>\n",
       "      <th>RBI</th>\n",
       "      <th>Walks</th>\n",
       "      <th>Years</th>\n",
       "      <th>CAtBat</th>\n",
       "      <th>CHits</th>\n",
       "      <th>...</th>\n",
       "      <th>CRBI</th>\n",
       "      <th>CWalks</th>\n",
       "      <th>League</th>\n",
       "      <th>Division</th>\n",
       "      <th>PutOuts</th>\n",
       "      <th>Assists</th>\n",
       "      <th>Errors</th>\n",
       "      <th>Salary</th>\n",
       "      <th>NewLeague</th>\n",
       "      <th>log_Salary</th>\n",
       "    </tr>\n",
       "  </thead>\n",
       "  <tbody>\n",
       "    <tr>\n",
       "      <th>1</th>\n",
       "      <td>Alan Ashby</td>\n",
       "      <td>315</td>\n",
       "      <td>81</td>\n",
       "      <td>7</td>\n",
       "      <td>24</td>\n",
       "      <td>38</td>\n",
       "      <td>39</td>\n",
       "      <td>14</td>\n",
       "      <td>3449</td>\n",
       "      <td>835</td>\n",
       "      <td>...</td>\n",
       "      <td>414</td>\n",
       "      <td>375</td>\n",
       "      <td>N</td>\n",
       "      <td>W</td>\n",
       "      <td>632</td>\n",
       "      <td>43</td>\n",
       "      <td>10</td>\n",
       "      <td>475.0</td>\n",
       "      <td>N</td>\n",
       "      <td>6.163315</td>\n",
       "    </tr>\n",
       "    <tr>\n",
       "      <th>2</th>\n",
       "      <td>Alvin Davis</td>\n",
       "      <td>479</td>\n",
       "      <td>130</td>\n",
       "      <td>18</td>\n",
       "      <td>66</td>\n",
       "      <td>72</td>\n",
       "      <td>76</td>\n",
       "      <td>3</td>\n",
       "      <td>1624</td>\n",
       "      <td>457</td>\n",
       "      <td>...</td>\n",
       "      <td>266</td>\n",
       "      <td>263</td>\n",
       "      <td>A</td>\n",
       "      <td>W</td>\n",
       "      <td>880</td>\n",
       "      <td>82</td>\n",
       "      <td>14</td>\n",
       "      <td>480.0</td>\n",
       "      <td>A</td>\n",
       "      <td>6.173786</td>\n",
       "    </tr>\n",
       "    <tr>\n",
       "      <th>3</th>\n",
       "      <td>Andre Dawson</td>\n",
       "      <td>496</td>\n",
       "      <td>141</td>\n",
       "      <td>20</td>\n",
       "      <td>65</td>\n",
       "      <td>78</td>\n",
       "      <td>37</td>\n",
       "      <td>11</td>\n",
       "      <td>5628</td>\n",
       "      <td>1575</td>\n",
       "      <td>...</td>\n",
       "      <td>838</td>\n",
       "      <td>354</td>\n",
       "      <td>N</td>\n",
       "      <td>E</td>\n",
       "      <td>200</td>\n",
       "      <td>11</td>\n",
       "      <td>3</td>\n",
       "      <td>500.0</td>\n",
       "      <td>N</td>\n",
       "      <td>6.214608</td>\n",
       "    </tr>\n",
       "    <tr>\n",
       "      <th>4</th>\n",
       "      <td>Andres Galarraga</td>\n",
       "      <td>321</td>\n",
       "      <td>87</td>\n",
       "      <td>10</td>\n",
       "      <td>39</td>\n",
       "      <td>42</td>\n",
       "      <td>30</td>\n",
       "      <td>2</td>\n",
       "      <td>396</td>\n",
       "      <td>101</td>\n",
       "      <td>...</td>\n",
       "      <td>46</td>\n",
       "      <td>33</td>\n",
       "      <td>N</td>\n",
       "      <td>E</td>\n",
       "      <td>805</td>\n",
       "      <td>40</td>\n",
       "      <td>4</td>\n",
       "      <td>91.0</td>\n",
       "      <td>NaN</td>\n",
       "      <td>4.510860</td>\n",
       "    </tr>\n",
       "    <tr>\n",
       "      <th>5</th>\n",
       "      <td>Alfredo Griffin</td>\n",
       "      <td>594</td>\n",
       "      <td>169</td>\n",
       "      <td>4</td>\n",
       "      <td>74</td>\n",
       "      <td>51</td>\n",
       "      <td>35</td>\n",
       "      <td>11</td>\n",
       "      <td>4408</td>\n",
       "      <td>1133</td>\n",
       "      <td>...</td>\n",
       "      <td>336</td>\n",
       "      <td>194</td>\n",
       "      <td>A</td>\n",
       "      <td>W</td>\n",
       "      <td>282</td>\n",
       "      <td>421</td>\n",
       "      <td>25</td>\n",
       "      <td>750.0</td>\n",
       "      <td>A</td>\n",
       "      <td>6.620073</td>\n",
       "    </tr>\n",
       "  </tbody>\n",
       "</table>\n",
       "<p>5 rows × 22 columns</p>\n",
       "</div>"
      ],
      "text/plain": [
       "             Player  AtBat  Hits  HmRun  Runs  RBI  Walks  Years  CAtBat  \\\n",
       "1        Alan Ashby    315    81      7    24   38     39     14    3449   \n",
       "2       Alvin Davis    479   130     18    66   72     76      3    1624   \n",
       "3      Andre Dawson    496   141     20    65   78     37     11    5628   \n",
       "4  Andres Galarraga    321    87     10    39   42     30      2     396   \n",
       "5   Alfredo Griffin    594   169      4    74   51     35     11    4408   \n",
       "\n",
       "   CHits  ...  CRBI  CWalks  League  Division PutOuts Assists  Errors  Salary  \\\n",
       "1    835  ...   414     375       N         W     632      43      10   475.0   \n",
       "2    457  ...   266     263       A         W     880      82      14   480.0   \n",
       "3   1575  ...   838     354       N         E     200      11       3   500.0   \n",
       "4    101  ...    46      33       N         E     805      40       4    91.0   \n",
       "5   1133  ...   336     194       A         W     282     421      25   750.0   \n",
       "\n",
       "   NewLeague  log_Salary  \n",
       "1          N    6.163315  \n",
       "2          A    6.173786  \n",
       "3          N    6.214608  \n",
       "4        NaN    4.510860  \n",
       "5          A    6.620073  \n",
       "\n",
       "[5 rows x 22 columns]"
      ]
     },
     "execution_count": 6,
     "metadata": {},
     "output_type": "execute_result"
    }
   ],
   "source": [
    "# Drop na and log transform salary\n",
    "df_hitters = df_hitters.loc[df_hitters['Salary'].dropna().index, :].copy()\n",
    "df_hitters['log_Salary'] = np.log(df_hitters['Salary'])\n",
    "df_hitters.head()"
   ]
  },
  {
   "cell_type": "code",
   "execution_count": 7,
   "metadata": {
    "ExecuteTime": {
     "end_time": "2020-04-15T01:37:16.020690Z",
     "start_time": "2020-04-15T01:37:15.683626Z"
    }
   },
   "outputs": [
    {
     "data": {
      "text/plain": [
       "Text(0.5, 0, 'log_Salary')"
      ]
     },
     "execution_count": 7,
     "metadata": {},
     "output_type": "execute_result"
    },
    {
     "data": {
      "image/png": "[encoded data removed]",
      "text/plain": [
       "<Figure size 864x288 with 2 Axes>"
      ]
     },
     "metadata": {
      "needs_background": "light"
     },
     "output_type": "display_data"
    }
   ],
   "source": [
    "f, (ax1, ax2) = plt.subplots(1, 2, figsize=(12,4))\n",
    "\n",
    "ax1.hist(df_hitters['Salary'], color='gray')\n",
    "ax1.set_xlabel('Salary')\n",
    "\n",
    "ax2.hist(df_hitters['log_Salary'], color='gray')\n",
    "ax2.set_xlabel('log_Salary')\n"
   ]
  },
  {
   "cell_type": "markdown",
   "metadata": {},
   "source": [
    "**Prediction via stratification of the feature space**\n",
    "\n",
    "Roughly speaking, there are two steps to building a regression tree.\n",
    "\n",
    "1. Divide the predictor space--that is, the set of possible values for $X_1, X_2, ...., X_p$ --into $J$ distinct and non-overlapping regions, $R_1, R_2, ..., R_J$.\n",
    "2. For every observation that falls into the region $R_J$, we make the same prediction, which is simply the meanof the response values for the training observations in $R_J$."
   ]
  },
  {
   "cell_type": "code",
   "execution_count": 8,
   "metadata": {
    "ExecuteTime": {
     "end_time": "2020-04-15T01:37:16.566805Z",
     "start_time": "2020-04-15T01:37:16.549937Z"
    }
   },
   "outputs": [],
   "source": [
    "# Let's first cut at years - at value of 4.5\n",
    "\n",
    "yrs_split = 4.5\n",
    "\n",
    "r1_left = df_hitters[df_hitters['Years'] < yrs_split].copy()\n",
    "r1_right = df_hitters[df_hitters['Years'] > yrs_split].copy()\n",
    "\n",
    "r1_left_mean_y = r1_left['log_Salary'].mean()\n",
    "r1_right_mean_y = r1_right['log_Salary'].mean()\n",
    "\n",
    "# Calculate RSS (residual sum of squares)\n",
    "rss_left = sum((r1_left['log_Salary'] - r1_left_mean_y)**2)\n",
    "rss_right = sum((r1_right['log_Salary'] - r1_right_mean_y)**2)\n",
    "\n",
    "total_rss = rss_left + rss_right\n"
   ]
  },
  {
   "cell_type": "code",
   "execution_count": 9,
   "metadata": {
    "ExecuteTime": {
     "end_time": "2020-04-15T01:37:17.343821Z",
     "start_time": "2020-04-15T01:37:17.253617Z"
    }
   },
   "outputs": [],
   "source": [
    "# Find values of multiple split points for year\n",
    "total_rss_list = list()\n",
    "\n",
    "for yrs_split in range(1, 20):\n",
    "    r1_left = df_hitters[df_hitters['Years'] < yrs_split].copy()\n",
    "    r1_right = df_hitters[df_hitters['Years'] > yrs_split].copy()\n",
    "\n",
    "    r1_left_mean_y = r1_left['log_Salary'].mean()\n",
    "    r1_right_mean_y = r1_right['log_Salary'].mean()\n",
    "\n",
    "    # Calculate RSS (residual sum of squares)\n",
    "    rss_left = sum((r1_left['log_Salary'] - r1_left_mean_y)**2)\n",
    "    rss_right = sum((r1_right['log_Salary'] - r1_right_mean_y)**2)\n",
    "\n",
    "    total_rss = rss_left + rss_right\n",
    "    total_rss_list.append(total_rss)"
   ]
  },
  {
   "cell_type": "code",
   "execution_count": 10,
   "metadata": {
    "ExecuteTime": {
     "end_time": "2020-04-15T01:37:17.977005Z",
     "start_time": "2020-04-15T01:37:17.881881Z"
    }
   },
   "outputs": [],
   "source": [
    "# Find values of multiple split points for hits\n",
    "total_rss_list_hits = list()\n",
    "\n",
    "for hits_split in range(1, 200, 10):\n",
    "    r1_left = df_hitters[df_hitters['Hits'] < hits_split].copy()\n",
    "    r1_right = df_hitters[df_hitters['Hits'] > hits_split].copy()\n",
    "\n",
    "    r1_left_mean_y = r1_left['log_Salary'].mean()\n",
    "    r1_right_mean_y = r1_right['log_Salary'].mean()\n",
    "\n",
    "    # Calculate RSS (residual sum of squares)\n",
    "    rss_left = sum((r1_left['log_Salary'] - r1_left_mean_y)**2)\n",
    "    rss_right = sum((r1_right['log_Salary'] - r1_right_mean_y)**2)\n",
    "\n",
    "    total_rss = rss_left + rss_right\n",
    "    total_rss_list_hits.append(total_rss)\n"
   ]
  },
  {
   "cell_type": "code",
   "execution_count": 11,
   "metadata": {
    "ExecuteTime": {
     "end_time": "2020-04-15T01:37:19.155603Z",
     "start_time": "2020-04-15T01:37:18.820149Z"
    }
   },
   "outputs": [
    {
     "name": "stdout",
     "output_type": "stream",
     "text": [
      "Lowest RSS value from doing split on years:  95.74770945978157\n",
      "Lowest RSS value from doing split on hits:  162.52153775594377\n"
     ]
    },
    {
     "data": {
      "image/png": "[encoded data removed]",
      "text/plain": [
       "<Figure size 864x432 with 2 Axes>"
      ]
     },
     "metadata": {
      "needs_background": "light"
     },
     "output_type": "display_data"
    }
   ],
   "source": [
    "# Plot\n",
    "f, (ax1, ax2) = plt.subplots(1, 2, figsize=(12,6), sharey=True)\n",
    "\n",
    "ax1.scatter(range(1, 20), total_rss_list, color='black')\n",
    "ax1.plot(range(1, 20), total_rss_list, color='gray')\n",
    "ax1.set_xlabel('split value on years')\n",
    "ax1.set_ylabel('total RSS');\n",
    "\n",
    "ax2.scatter(range(1, 200, 10), total_rss_list_hits, color='black')\n",
    "ax2.plot(range(1, 200, 10), total_rss_list_hits, color='gray')\n",
    "ax2.set_xlabel('split value on Hits')\n",
    "ax2.set_ylabel('total RSS');\n",
    "\n",
    "print('Lowest RSS value from doing split on years: ', min(total_rss_list))\n",
    "print('Lowest RSS value from doing split on hits: ', min(total_rss_list_hits))"
   ]
  },
  {
   "cell_type": "markdown",
   "metadata": {},
   "source": [
    "**Recursive binary splitting** = top-down and greedy\n",
    "\n",
    "- top-down: begins at the top of the tree\n",
    "- greedy: takes the best split at that particular step, rather than looking ahead for a split that might be better in the future (splitting on years will give a lower error than splitting on hits at this first step)"
   ]
  },
  {
   "cell_type": "markdown",
   "metadata": {},
   "source": [
    "(Can run sklearn to get the rest of the decision tree)"
   ]
  },
  {
   "cell_type": "code",
   "execution_count": null,
   "metadata": {},
   "outputs": [],
   "source": []
  },
  {
   "cell_type": "markdown",
   "metadata": {
    "ExecuteTime": {
     "end_time": "2020-04-02T17:06:55.208940Z",
     "start_time": "2020-04-02T17:06:55.140999Z"
    }
   },
   "source": [
    "**Tree pruning**\n",
    "\n",
    "A tree can have good performance in a training set but it is likely to overfit a test set if it is overly complex. However, you do not want to stop building a tree too soon since a worthless split early (small RSS reduction) could result in a very good split later (large RSS reduction). It is better to grow a large tree first, then prune later to obtain a smaller *subtree*. This can be done by selecting the subtree that leads to the lowest test eror rate.  It'd be cumbersome to generate a cross-validation error for every subtree, since that can be very large. Instead you can employ *cost complexity pruning* find a way to select a small set of subtrees for consideration\n",
    "\n",
    "**Cost complexity pruning** = weakest link pruning. Analogous to regularization. Consider a sequence of trees indexed by a non-negative tuning parameter $\\alpha$. Alpha controls a trade-off between the subtree's complexity and its fit to the training data. When alpha=0, the subtree $T = T_0$ where $T_0$ is the unpruned tree."
   ]
  },
  {
   "cell_type": "markdown",
   "metadata": {},
   "source": [
    "**Algorithm for building a regression tree**\n",
    "\n",
    "1. Use recursive binary splitting to grow a large tree on the training data, stopping only when each terminal node has fewer than some minimum number of observations.\n",
    "2. Apply cost complexity pruning to the large tree in order to obtain a sequence of best subtrees, as a function of alpha.\n",
    "3. Use K-fold cross-validation to choose alpha.\n",
    "    - Repeat steps 1 and 2 on all but the kth fold of the training data.\n",
    "    - Evaluate the mean squared prediction error on the data in the left-out kth fold, as a function of alpha.\n",
    "    - Average the results for each value of alpha, and pick alpha to minimize the average error.\n",
    "4. Return the subtree from step 2 that corresponds to the chosen value of alpha."
   ]
  },
  {
   "cell_type": "code",
   "execution_count": null,
   "metadata": {},
   "outputs": [],
   "source": []
  },
  {
   "cell_type": "markdown",
   "metadata": {},
   "source": [
    "### Classification trees\n",
    "\n",
    "Similar to regression tree, except that it is used to predict a qualitative response rather than a quantitative one. For a classification tree, we predict that each observation belongs to the *most commonly occuring class* of training observations in the region to which it belongs. In interpreting the results of a classification tree, we are often interested not only in the class prediction corresponding to a particular terminal node region, but also in the *class proportions* among the training observations that fall into that region. The metrics used in classification trees for recursive binary splitting are the *Gini index* and *entropy*.\n",
    "\n",
    "Gini index: a measure of total variance across the K classes.\n",
    "$G = \\sum_{k=1}^K \\hat{p_{mk}}(1 - \\hat{p_{mk}})$\n",
    "\n",
    "\n",
    "Entropy: alternatiive but related\n",
    "$D = -\\sum_{k=1}^K \\hat{p_{mk}}log\\hat{p_{mk}}$\n",
    "\n",
    "One can show that entropy will take on a value near zero if the $\\hat{p_{mk}}$'s are all near zero or near one. Therefore, like the Gini index, the entropy will take on a small value if the *m*th node is pure."
   ]
  },
  {
   "cell_type": "code",
   "execution_count": null,
   "metadata": {},
   "outputs": [],
   "source": []
  },
  {
   "cell_type": "code",
   "execution_count": null,
   "metadata": {},
   "outputs": [],
   "source": []
  },
  {
   "cell_type": "markdown",
   "metadata": {
    "ExecuteTime": {
     "end_time": "2020-03-26T15:47:28.518886Z",
     "start_time": "2020-03-26T15:47:28.034416Z"
    }
   },
   "source": [
    "## SKlearn and Medium article for classification"
   ]
  },
  {
   "cell_type": "markdown",
   "metadata": {},
   "source": [
    "https://scikit-learn.org/stable/modules/tree.html\n",
    "\n",
    "Info on iris dataset\n",
    "<br>\n",
    "https://scikit-learn.org/stable/auto_examples/datasets/plot_iris_dataset.html\n",
    "\n",
    "Great explanations\n",
    "<br>\n",
    "https://victorzhou.com/blog/intro-to-random-forests/\n",
    "<br>\n",
    "https://victorzhou.com/blog/gini-impurity/#recap\n",
    "<br>\n",
    "https://victorzhou.com/blog/information-gain/"
   ]
  },
  {
   "cell_type": "code",
   "execution_count": 29,
   "metadata": {
    "ExecuteTime": {
     "end_time": "2020-03-16T02:33:43.320772Z",
     "start_time": "2020-03-16T02:33:43.317363Z"
    }
   },
   "outputs": [],
   "source": [
    "from sklearn import datasets\n",
    "from sklearn import tree"
   ]
  },
  {
   "cell_type": "code",
   "execution_count": 42,
   "metadata": {
    "ExecuteTime": {
     "end_time": "2020-03-16T02:37:06.400395Z",
     "start_time": "2020-03-16T02:37:06.390913Z"
    }
   },
   "outputs": [],
   "source": [
    "iris = datasets.load_iris()\n",
    "X = iris.data[:, ::2]\n",
    "y = iris.target"
   ]
  },
  {
   "cell_type": "code",
   "execution_count": 53,
   "metadata": {
    "ExecuteTime": {
     "end_time": "2020-03-16T02:39:49.416876Z",
     "start_time": "2020-03-16T02:39:49.410887Z"
    }
   },
   "outputs": [
    {
     "data": {
      "text/plain": [
       "['sepal length (cm)', 'sepal width (cm)']"
      ]
     },
     "execution_count": 53,
     "metadata": {},
     "output_type": "execute_result"
    }
   ],
   "source": [
    "iris.feature_names[0:2]"
   ]
  },
  {
   "cell_type": "code",
   "execution_count": 18,
   "metadata": {
    "ExecuteTime": {
     "end_time": "2020-03-16T02:23:46.326161Z",
     "start_time": "2020-03-16T02:23:46.293062Z"
    }
   },
   "outputs": [],
   "source": [
    "#X, y = load_iris(return_X_y=True)"
   ]
  },
  {
   "cell_type": "code",
   "execution_count": 43,
   "metadata": {
    "ExecuteTime": {
     "end_time": "2020-03-16T02:37:07.847296Z",
     "start_time": "2020-03-16T02:37:07.838129Z"
    },
    "collapsed": true
   },
   "outputs": [
    {
     "data": {
      "text/plain": [
       "array([[5.1, 1.4],\n",
       "       [4.9, 1.4],\n",
       "       [4.7, 1.3],\n",
       "       [4.6, 1.5],\n",
       "       [5. , 1.4],\n",
       "       [5.4, 1.7],\n",
       "       [4.6, 1.4],\n",
       "       [5. , 1.5],\n",
       "       [4.4, 1.4],\n",
       "       [4.9, 1.5],\n",
       "       [5.4, 1.5],\n",
       "       [4.8, 1.6],\n",
       "       [4.8, 1.4],\n",
       "       [4.3, 1.1],\n",
       "       [5.8, 1.2],\n",
       "       [5.7, 1.5],\n",
       "       [5.4, 1.3],\n",
       "       [5.1, 1.4],\n",
       "       [5.7, 1.7],\n",
       "       [5.1, 1.5],\n",
       "       [5.4, 1.7],\n",
       "       [5.1, 1.5],\n",
       "       [4.6, 1. ],\n",
       "       [5.1, 1.7],\n",
       "       [4.8, 1.9],\n",
       "       [5. , 1.6],\n",
       "       [5. , 1.6],\n",
       "       [5.2, 1.5],\n",
       "       [5.2, 1.4],\n",
       "       [4.7, 1.6],\n",
       "       [4.8, 1.6],\n",
       "       [5.4, 1.5],\n",
       "       [5.2, 1.5],\n",
       "       [5.5, 1.4],\n",
       "       [4.9, 1.5],\n",
       "       [5. , 1.2],\n",
       "       [5.5, 1.3],\n",
       "       [4.9, 1.4],\n",
       "       [4.4, 1.3],\n",
       "       [5.1, 1.5],\n",
       "       [5. , 1.3],\n",
       "       [4.5, 1.3],\n",
       "       [4.4, 1.3],\n",
       "       [5. , 1.6],\n",
       "       [5.1, 1.9],\n",
       "       [4.8, 1.4],\n",
       "       [5.1, 1.6],\n",
       "       [4.6, 1.4],\n",
       "       [5.3, 1.5],\n",
       "       [5. , 1.4],\n",
       "       [7. , 4.7],\n",
       "       [6.4, 4.5],\n",
       "       [6.9, 4.9],\n",
       "       [5.5, 4. ],\n",
       "       [6.5, 4.6],\n",
       "       [5.7, 4.5],\n",
       "       [6.3, 4.7],\n",
       "       [4.9, 3.3],\n",
       "       [6.6, 4.6],\n",
       "       [5.2, 3.9],\n",
       "       [5. , 3.5],\n",
       "       [5.9, 4.2],\n",
       "       [6. , 4. ],\n",
       "       [6.1, 4.7],\n",
       "       [5.6, 3.6],\n",
       "       [6.7, 4.4],\n",
       "       [5.6, 4.5],\n",
       "       [5.8, 4.1],\n",
       "       [6.2, 4.5],\n",
       "       [5.6, 3.9],\n",
       "       [5.9, 4.8],\n",
       "       [6.1, 4. ],\n",
       "       [6.3, 4.9],\n",
       "       [6.1, 4.7],\n",
       "       [6.4, 4.3],\n",
       "       [6.6, 4.4],\n",
       "       [6.8, 4.8],\n",
       "       [6.7, 5. ],\n",
       "       [6. , 4.5],\n",
       "       [5.7, 3.5],\n",
       "       [5.5, 3.8],\n",
       "       [5.5, 3.7],\n",
       "       [5.8, 3.9],\n",
       "       [6. , 5.1],\n",
       "       [5.4, 4.5],\n",
       "       [6. , 4.5],\n",
       "       [6.7, 4.7],\n",
       "       [6.3, 4.4],\n",
       "       [5.6, 4.1],\n",
       "       [5.5, 4. ],\n",
       "       [5.5, 4.4],\n",
       "       [6.1, 4.6],\n",
       "       [5.8, 4. ],\n",
       "       [5. , 3.3],\n",
       "       [5.6, 4.2],\n",
       "       [5.7, 4.2],\n",
       "       [5.7, 4.2],\n",
       "       [6.2, 4.3],\n",
       "       [5.1, 3. ],\n",
       "       [5.7, 4.1],\n",
       "       [6.3, 6. ],\n",
       "       [5.8, 5.1],\n",
       "       [7.1, 5.9],\n",
       "       [6.3, 5.6],\n",
       "       [6.5, 5.8],\n",
       "       [7.6, 6.6],\n",
       "       [4.9, 4.5],\n",
       "       [7.3, 6.3],\n",
       "       [6.7, 5.8],\n",
       "       [7.2, 6.1],\n",
       "       [6.5, 5.1],\n",
       "       [6.4, 5.3],\n",
       "       [6.8, 5.5],\n",
       "       [5.7, 5. ],\n",
       "       [5.8, 5.1],\n",
       "       [6.4, 5.3],\n",
       "       [6.5, 5.5],\n",
       "       [7.7, 6.7],\n",
       "       [7.7, 6.9],\n",
       "       [6. , 5. ],\n",
       "       [6.9, 5.7],\n",
       "       [5.6, 4.9],\n",
       "       [7.7, 6.7],\n",
       "       [6.3, 4.9],\n",
       "       [6.7, 5.7],\n",
       "       [7.2, 6. ],\n",
       "       [6.2, 4.8],\n",
       "       [6.1, 4.9],\n",
       "       [6.4, 5.6],\n",
       "       [7.2, 5.8],\n",
       "       [7.4, 6.1],\n",
       "       [7.9, 6.4],\n",
       "       [6.4, 5.6],\n",
       "       [6.3, 5.1],\n",
       "       [6.1, 5.6],\n",
       "       [7.7, 6.1],\n",
       "       [6.3, 5.6],\n",
       "       [6.4, 5.5],\n",
       "       [6. , 4.8],\n",
       "       [6.9, 5.4],\n",
       "       [6.7, 5.6],\n",
       "       [6.9, 5.1],\n",
       "       [5.8, 5.1],\n",
       "       [6.8, 5.9],\n",
       "       [6.7, 5.7],\n",
       "       [6.7, 5.2],\n",
       "       [6.3, 5. ],\n",
       "       [6.5, 5.2],\n",
       "       [6.2, 5.4],\n",
       "       [5.9, 5.1]])"
      ]
     },
     "execution_count": 43,
     "metadata": {},
     "output_type": "execute_result"
    }
   ],
   "source": [
    "X"
   ]
  },
  {
   "cell_type": "code",
   "execution_count": 44,
   "metadata": {
    "ExecuteTime": {
     "end_time": "2020-03-16T02:37:11.446064Z",
     "start_time": "2020-03-16T02:37:11.439048Z"
    }
   },
   "outputs": [
    {
     "data": {
      "text/plain": [
       "array([0, 0, 0, 0, 0, 0, 0, 0, 0, 0, 0, 0, 0, 0, 0, 0, 0, 0, 0, 0, 0, 0,\n",
       "       0, 0, 0, 0, 0, 0, 0, 0, 0, 0, 0, 0, 0, 0, 0, 0, 0, 0, 0, 0, 0, 0,\n",
       "       0, 0, 0, 0, 0, 0, 1, 1, 1, 1, 1, 1, 1, 1, 1, 1, 1, 1, 1, 1, 1, 1,\n",
       "       1, 1, 1, 1, 1, 1, 1, 1, 1, 1, 1, 1, 1, 1, 1, 1, 1, 1, 1, 1, 1, 1,\n",
       "       1, 1, 1, 1, 1, 1, 1, 1, 1, 1, 1, 1, 2, 2, 2, 2, 2, 2, 2, 2, 2, 2,\n",
       "       2, 2, 2, 2, 2, 2, 2, 2, 2, 2, 2, 2, 2, 2, 2, 2, 2, 2, 2, 2, 2, 2,\n",
       "       2, 2, 2, 2, 2, 2, 2, 2, 2, 2, 2, 2, 2, 2, 2, 2, 2, 2])"
      ]
     },
     "execution_count": 44,
     "metadata": {},
     "output_type": "execute_result"
    }
   ],
   "source": [
    "y"
   ]
  },
  {
   "cell_type": "code",
   "execution_count": 66,
   "metadata": {
    "ExecuteTime": {
     "end_time": "2020-03-16T03:10:02.921225Z",
     "start_time": "2020-03-16T03:10:02.568891Z"
    }
   },
   "outputs": [
    {
     "data": {
      "image/png": "[encoded data removed]",
      "text/plain": [
       "<Figure size 432x288 with 1 Axes>"
      ]
     },
     "metadata": {
      "needs_background": "light"
     },
     "output_type": "display_data"
    }
   ],
   "source": [
    "f, ax1 = plt.subplots()\n",
    "color_list = ['red', 'green', 'blue']\n",
    "for i in range(3):\n",
    "    row_bool = y==i\n",
    "    ax1.scatter(X[row_bool, 0], X[row_bool, 1], color=color_list[i], alpha=0.5, label=i)\n",
    "ax1.set_xlabel(iris.feature_names[0])\n",
    "ax1.set_ylabel(iris.feature_names[1])\n",
    "ax1.legend();"
   ]
  },
  {
   "cell_type": "code",
   "execution_count": 57,
   "metadata": {
    "ExecuteTime": {
     "end_time": "2020-03-16T02:41:14.818870Z",
     "start_time": "2020-03-16T02:41:14.814036Z"
    }
   },
   "outputs": [],
   "source": [
    "clf = tree.DecisionTreeClassifier()\n",
    "clf = clf.fit(X, y)"
   ]
  },
  {
   "cell_type": "code",
   "execution_count": 58,
   "metadata": {
    "ExecuteTime": {
     "end_time": "2020-03-16T02:41:16.581763Z",
     "start_time": "2020-03-16T02:41:15.491622Z"
    }
   },
   "outputs": [
    {
     "data": {
      "image/png": "[encoded data removed]",
      "text/plain": [
       "<Figure size 864x864 with 1 Axes>"
      ]
     },
     "metadata": {
      "needs_background": "light"
     },
     "output_type": "display_data"
    }
   ],
   "source": [
    "f, ax1 = plt.subplots(figsize=(12,12))\n",
    "tree.plot_tree(clf.fit(X,y), ax=ax1);"
   ]
  },
  {
   "cell_type": "code",
   "execution_count": 51,
   "metadata": {
    "ExecuteTime": {
     "end_time": "2020-03-16T02:38:59.883251Z",
     "start_time": "2020-03-16T02:38:59.876091Z"
    }
   },
   "outputs": [
    {
     "name": "stdout",
     "output_type": "stream",
     "text": [
      "[0.06786793 0.93213207]\n",
      "['sepal length (cm)', 'sepal width (cm)']\n"
     ]
    }
   ],
   "source": [
    "print(clf.feature_importances_)\n",
    "print(iris.feature_names[0:2])"
   ]
  },
  {
   "cell_type": "code",
   "execution_count": 52,
   "metadata": {
    "ExecuteTime": {
     "end_time": "2020-03-16T02:39:20.615477Z",
     "start_time": "2020-03-16T02:39:20.604030Z"
    }
   },
   "outputs": [
    {
     "data": {
      "text/plain": [
       "1.0"
      ]
     },
     "execution_count": 52,
     "metadata": {},
     "output_type": "execute_result"
    }
   ],
   "source": [
    "sum(clf.feature_importances_)"
   ]
  },
  {
   "cell_type": "code",
   "execution_count": null,
   "metadata": {},
   "outputs": [],
   "source": []
  },
  {
   "cell_type": "markdown",
   "metadata": {},
   "source": [
    "# Insight QotD"
   ]
  },
  {
   "cell_type": "markdown",
   "metadata": {},
   "source": [
    "## 4/17/20 (I'm leading)"
   ]
  },
  {
   "cell_type": "markdown",
   "metadata": {},
   "source": [
    "### Simple vs. multiple linear regression\n",
    "\n",
    "\n",
    "You create a model to predict the amount of sales of a product. You have features A, B, C, and D.\n",
    "When you run a multi-variate linear regression model, you find the p-values for the coefficients are significant for A, B, and C but not D. But out of curiosity, you run a simple (univariate) linear regression model with D only and the coefficient comes out to be significant in this model. How do you reconcile both observations?\n"
   ]
  },
  {
   "cell_type": "markdown",
   "metadata": {},
   "source": [
    "### Answer\n",
    "\n",
    "Feature D is really just a surrogate for the contributions of one of the other features, but it is not actually contributing to the target. \n"
   ]
  },
  {
   "cell_type": "code",
   "execution_count": null,
   "metadata": {},
   "outputs": [],
   "source": []
  },
  {
   "cell_type": "markdown",
   "metadata": {},
   "source": [
    "## 4/20/20"
   ]
  },
  {
   "cell_type": "code",
   "execution_count": null,
   "metadata": {},
   "outputs": [],
   "source": []
  },
  {
   "cell_type": "code",
   "execution_count": null,
   "metadata": {},
   "outputs": [],
   "source": []
  },
  {
   "cell_type": "markdown",
   "metadata": {},
   "source": [
    "# [bottom of notebook]"
   ]
  },
  {
   "cell_type": "code",
   "execution_count": null,
   "metadata": {},
   "outputs": [],
   "source": []
  }
 ],
 "metadata": {
  "kernelspec": {
   "display_name": "Python 3",
   "language": "python",
   "name": "python3"
  },
  "language_info": {
   "codemirror_mode": {
    "name": "ipython",
    "version": 3
   },
   "file_extension": ".py",
   "mimetype": "text/x-python",
   "name": "python",
   "nbconvert_exporter": "python",
   "pygments_lexer": "ipython3",
   "version": "3.6.9"
  },
  "toc": {
   "base_numbering": 1,
   "nav_menu": {},
   "number_sections": true,
   "sideBar": true,
   "skip_h1_title": false,
   "title_cell": "Table of Contents",
   "title_sidebar": "Contents",
   "toc_cell": false,
   "toc_position": {
    "height": "calc(100% - 180px)",
    "left": "10px",
    "top": "150px",
    "width": "258.767px"
   },
   "toc_section_display": true,
   "toc_window_display": true
  },
  "varInspector": {
   "cols": {
    "lenName": 16,
    "lenType": 16,
    "lenVar": 40
   },
   "kernels_config": {
    "python": {
     "delete_cmd_postfix": "",
     "delete_cmd_prefix": "del ",
     "library": "var_list.py",
     "varRefreshCmd": "print(var_dic_list())"
    },
    "r": {
     "delete_cmd_postfix": ") ",
     "delete_cmd_prefix": "rm(",
     "library": "var_list.r",
     "varRefreshCmd": "cat(var_dic_list()) "
    }
   },
   "types_to_exclude": [
    "module",
    "function",
    "builtin_function_or_method",
    "instance",
    "_Feature"
   ],
   "window_display": false
  }
 },
 "nbformat": 4,
 "nbformat_minor": 2
}
