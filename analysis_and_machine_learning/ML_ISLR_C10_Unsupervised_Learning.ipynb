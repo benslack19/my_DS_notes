{
 "cells": [
  {
   "cell_type": "markdown",
   "metadata": {},
   "source": [
    "**Unsupervised Learning**\n",
    "\n",
    "[ISLR Chapter 10](https://link.springer.com/chapter/10.1007/978-1-4614-7138-7_10)\n",
    "\n",
    "Unsupervised learning is often much more challenging. The exercise tends to be more subjective, and there is no simple goal for the analysis, such as prediction of a response. Unsupervised learning is often performed as part of an exploratory data analysis."
   ]
  },
  {
   "cell_type": "markdown",
   "metadata": {
    "ExecuteTime": {
     "end_time": "2020-07-07T16:27:16.341579Z",
     "start_time": "2020-07-07T16:27:16.313138Z"
    }
   },
   "source": [
    "CSVs can be found here: https://github.com/JWarmenhoven/ISLR-python/tree/master/Notebooks/Data"
   ]
  },
  {
   "cell_type": "markdown",
   "metadata": {},
   "source": [
    "[Writing math symbols in markdown](https://jupyter-notebook.readthedocs.io/en/stable/examples/Notebook/Typesetting%20Equations.html)\n",
    "\n",
    "[quick reference](https://math.meta.stackexchange.com/questions/5020/mathjax-basic-tutorial-and-quick-reference)"
   ]
  },
  {
   "cell_type": "code",
   "execution_count": 7,
   "metadata": {
    "ExecuteTime": {
     "end_time": "2020-07-07T20:23:24.354857Z",
     "start_time": "2020-07-07T20:23:24.347037Z"
    }
   },
   "outputs": [],
   "source": [
    "import os\n",
    "import pandas as pd\n",
    "import numpy as np\n",
    "import matplotlib.pyplot as plt\n",
    "import seaborn as sns"
   ]
  },
  {
   "cell_type": "markdown",
   "metadata": {},
   "source": [
    "# The Challenge of Unsupervised Learning\n",
    "\n",
    "Unsupervised learning is often performed as part of an exploratory data analysis. Furthermore, it can be hard to assess the results obtained from unsupervised learning methods, since there is no universally accepted mechanism for performing cross-validation or validating results on an independent data set.\n",
    "\n",
    "Examples of unsupervised learning:\n",
    "- analysis gene expression levels in 100 cancer patients and look for sample subgroups\n",
    "- online shopping site to identify groups of shoppers based on browsing/purchasing histories"
   ]
  },
  {
   "cell_type": "markdown",
   "metadata": {},
   "source": [
    "# Principal Components Analysis\n",
    "\n",
    "Principal components are discussed in [Section 6.3.1](https://link.springer.com/chapter/10.1007%2F978-1-4614-7138-7_6#Sec22) in the context of principal components regression. When faced with a large set of correlated variables, principal components allow us to summarize this set with a smaller number of representative variables that collectively explain most of the variability in the original set. The principal component directions are presented in Chapter 6 as directions in feature space along which the original data are highly variable. These directions also define lines and subspaces that are as close as possible to the data cloud. To perform principal components regression, we simply use principal components as predictors in a regression model in place of the original larger set of variables."
   ]
  },
  {
   "cell_type": "markdown",
   "metadata": {},
   "source": [
    "## What are principal components?"
   ]
  },
  {
   "cell_type": "markdown",
   "metadata": {},
   "source": [
    "Suppose that we wish to visualize n observations with measurements on a set of p features,   $X_1,X_2,…, X_p$, as part of an exploratory data analysis. We could do this by examining two-dimensional scatterplots of the data, each of which contains the n observations’ measurements on two of the features. But the number of scatterplots would get very large...Clearly, a better method is required to visualize the n observations when p is large. In particular, we would like to find a low-dimensional representation of the data that captures as much of the information as possible. For instance, if we can obtain a two-dimensional representation of the data that captures most of the information, then we can plot the observations in this low-dimensional space."
   ]
  },
  {
   "cell_type": "markdown",
   "metadata": {},
   "source": [
    "PCA seeks a small number of dimensions that are as interesting as possible, where the concept of interesting is measured by the amount that the observations vary along each dimension. Each of the dimensions found by PCA is a linear combination of the p features. We now explain the manner in which these dimensions, or principal components, are found."
   ]
  },
  {
   "cell_type": "markdown",
   "metadata": {},
   "source": [
    "The first principal component of a set of features $X_1,X_2,…, X_p$ is the normalized linear combination of the features\n",
    "\n",
    "$Z_1 = \\Phi_{11}X_1 + \\Phi_{21}X_2 + ... + \\Phi_{p1}X_p $\n",
    "\n",
    "that has the largest variance. By *normalized*, we mean that $\\sum_{j=1}^{p}\\Phi_{j1}^2$ = 1. We refer to the elements $\\phi_{11}, ..., \\phi_{p1}$ as the *loadings* of the first principal component; together, the loadings make up the principal component loading vector, $\\Phi_1 = (\\Phi_{11} \\Phi_{21} ... \\Phi_{p1})^T$. We constrain the loadings so that their sum of squares is equal to one, since otherwise setting these elements to be arbitrarily large in absolute value could result in an arbitrarily large variance.\n",
    "\n",
    "Given a $n \\times p$ data set in matrix **X**, how do we compute the first principal component?\n"
   ]
  },
  {
   "cell_type": "markdown",
   "metadata": {},
   "source": [
    "*I will pull example data in here so that I can see the steps and see this more concretely.*"
   ]
  },
  {
   "cell_type": "code",
   "execution_count": 13,
   "metadata": {
    "ExecuteTime": {
     "end_time": "2020-07-07T20:26:07.239782Z",
     "start_time": "2020-07-07T20:26:07.208670Z"
    }
   },
   "outputs": [
    {
     "data": {
      "text/html": [
       "<div>\n",
       "<style scoped>\n",
       "    .dataframe tbody tr th:only-of-type {\n",
       "        vertical-align: middle;\n",
       "    }\n",
       "\n",
       "    .dataframe tbody tr th {\n",
       "        vertical-align: top;\n",
       "    }\n",
       "\n",
       "    .dataframe thead th {\n",
       "        text-align: right;\n",
       "    }\n",
       "</style>\n",
       "<table border=\"1\" class=\"dataframe\">\n",
       "  <thead>\n",
       "    <tr style=\"text-align: right;\">\n",
       "      <th></th>\n",
       "      <th>Murder</th>\n",
       "      <th>Assault</th>\n",
       "      <th>UrbanPop</th>\n",
       "      <th>Rape</th>\n",
       "    </tr>\n",
       "  </thead>\n",
       "  <tbody>\n",
       "    <tr>\n",
       "      <th>Alabama</th>\n",
       "      <td>13.2</td>\n",
       "      <td>236</td>\n",
       "      <td>58</td>\n",
       "      <td>21.2</td>\n",
       "    </tr>\n",
       "    <tr>\n",
       "      <th>Alaska</th>\n",
       "      <td>10.0</td>\n",
       "      <td>263</td>\n",
       "      <td>48</td>\n",
       "      <td>44.5</td>\n",
       "    </tr>\n",
       "    <tr>\n",
       "      <th>Arizona</th>\n",
       "      <td>8.1</td>\n",
       "      <td>294</td>\n",
       "      <td>80</td>\n",
       "      <td>31.0</td>\n",
       "    </tr>\n",
       "    <tr>\n",
       "      <th>Arkansas</th>\n",
       "      <td>8.8</td>\n",
       "      <td>190</td>\n",
       "      <td>50</td>\n",
       "      <td>19.5</td>\n",
       "    </tr>\n",
       "    <tr>\n",
       "      <th>California</th>\n",
       "      <td>9.0</td>\n",
       "      <td>276</td>\n",
       "      <td>91</td>\n",
       "      <td>40.6</td>\n",
       "    </tr>\n",
       "  </tbody>\n",
       "</table>\n",
       "</div>"
      ],
      "text/plain": [
       "            Murder  Assault  UrbanPop  Rape\n",
       "Alabama       13.2      236        58  21.2\n",
       "Alaska        10.0      263        48  44.5\n",
       "Arizona        8.1      294        80  31.0\n",
       "Arkansas       8.8      190        50  19.5\n",
       "California     9.0      276        91  40.6"
      ]
     },
     "execution_count": 13,
     "metadata": {},
     "output_type": "execute_result"
    }
   ],
   "source": [
    "df_usarrests = pd.read_csv('ISLR_data/USArrests.csv', index_col=0)\n",
    "df_usarrests.head()"
   ]
  },
  {
   "cell_type": "markdown",
   "metadata": {},
   "source": [
    "Since we are only interested in variance, we assume that each of the variables in **X** has been centered to have mean zero (that is, the column means of **X** are zero)."
   ]
  },
  {
   "cell_type": "markdown",
   "metadata": {
    "ExecuteTime": {
     "end_time": "2020-07-07T20:44:02.365576Z",
     "start_time": "2020-07-07T20:44:02.356015Z"
    }
   },
   "source": [
    "**Using Andrew Ng method**\n",
    "\n",
    "1. Standardize data\n",
    "2. Compute the covariance matrix\n",
    "3. Compute the \"eigenvectors\" of the covariance matrix. (more advanced algebra than we need to know)"
   ]
  },
  {
   "cell_type": "code",
   "execution_count": 39,
   "metadata": {
    "ExecuteTime": {
     "end_time": "2020-07-07T22:56:25.070635Z",
     "start_time": "2020-07-07T22:56:25.058147Z"
    }
   },
   "outputs": [],
   "source": [
    "from sklearn.preprocessing import StandardScaler\n",
    "\n",
    "# Assign and standardize data\n",
    "X = df_usarrests.copy()\n",
    "scaler = StandardScaler()\n",
    "X_std = scaler.fit_transform(X)"
   ]
  },
  {
   "cell_type": "code",
   "execution_count": 36,
   "metadata": {
    "ExecuteTime": {
     "end_time": "2020-07-07T22:52:10.641155Z",
     "start_time": "2020-07-07T22:52:10.633912Z"
    }
   },
   "outputs": [
    {
     "data": {
      "text/plain": [
       "array([1., 1., 1., 1.])"
      ]
     },
     "execution_count": 36,
     "metadata": {},
     "output_type": "execute_result"
    }
   ],
   "source": [
    "X_std.var(axis=0)"
   ]
  },
  {
   "cell_type": "code",
   "execution_count": 30,
   "metadata": {
    "ExecuteTime": {
     "end_time": "2020-07-07T22:51:10.167774Z",
     "start_time": "2020-07-07T22:51:10.149631Z"
    }
   },
   "outputs": [
    {
     "data": {
      "text/plain": [
       "Murder        18.970465\n",
       "Assault     6945.165714\n",
       "UrbanPop     209.518776\n",
       "Rape          87.729159\n",
       "dtype: float64"
      ]
     },
     "execution_count": 30,
     "metadata": {},
     "output_type": "execute_result"
    }
   ],
   "source": [
    "X_std.var(axis=0)"
   ]
  },
  {
   "cell_type": "code",
   "execution_count": 42,
   "metadata": {
    "ExecuteTime": {
     "end_time": "2020-07-07T22:56:48.948689Z",
     "start_time": "2020-07-07T22:56:48.938624Z"
    }
   },
   "outputs": [],
   "source": [
    "from sklearn.preprocessing import Normalizer\n",
    "\n",
    "# Assign and normalize data\n",
    "X = df_usarrests.copy()\n",
    "scaler_norm = Normalizer()\n",
    "X_norm = scaler_norm.fit_transform(X)"
   ]
  },
  {
   "cell_type": "code",
   "execution_count": 43,
   "metadata": {
    "ExecuteTime": {
     "end_time": "2020-07-07T22:56:49.566098Z",
     "start_time": "2020-07-07T22:56:49.559099Z"
    }
   },
   "outputs": [
    {
     "data": {
      "text/plain": [
       "array([0.00022103, 0.01012516, 0.02731304, 0.00124492])"
      ]
     },
     "execution_count": 43,
     "metadata": {},
     "output_type": "execute_result"
    }
   ],
   "source": [
    "X_norm.var(axis=0)"
   ]
  },
  {
   "cell_type": "code",
   "execution_count": null,
   "metadata": {},
   "outputs": [],
   "source": []
  },
  {
   "cell_type": "code",
   "execution_count": null,
   "metadata": {},
   "outputs": [],
   "source": []
  },
  {
   "cell_type": "code",
   "execution_count": null,
   "metadata": {},
   "outputs": [],
   "source": []
  },
  {
   "cell_type": "code",
   "execution_count": null,
   "metadata": {},
   "outputs": [],
   "source": []
  },
  {
   "cell_type": "code",
   "execution_count": 17,
   "metadata": {
    "ExecuteTime": {
     "end_time": "2020-07-07T20:29:55.965885Z",
     "start_time": "2020-07-07T20:29:55.940912Z"
    }
   },
   "outputs": [
    {
     "data": {
      "text/plain": [
       "PCA(copy=True, iterated_power='auto', n_components=2, random_state=None,\n",
       "    svd_solver='auto', tol=0.0, whiten=False)"
      ]
     },
     "execution_count": 17,
     "metadata": {},
     "output_type": "execute_result"
    }
   ],
   "source": [
    "from sklearn.decomposition import PCA\n",
    "from sklearn.preprocessing import StandardScaler\n",
    "\n",
    "# Assign and standardize data\n",
    "X = df_usarrests.copy()\n",
    "scaler = StandardScaler()\n",
    "X = scaler.fit_transform(X)\n",
    "\n",
    "pca = PCA(n_components=2)\n",
    "pca.fit(X)"
   ]
  },
  {
   "cell_type": "code",
   "execution_count": 23,
   "metadata": {
    "ExecuteTime": {
     "end_time": "2020-07-07T20:31:25.906110Z",
     "start_time": "2020-07-07T20:31:25.894939Z"
    }
   },
   "outputs": [],
   "source": [
    "df_pc_components = pd.DataFrame(pca.components_.T)\n",
    "df_pc_components.columns = ['PC1', 'PC2']\n",
    "df_pc_components.index = df_usarrests.columns"
   ]
  },
  {
   "cell_type": "code",
   "execution_count": 24,
   "metadata": {
    "ExecuteTime": {
     "end_time": "2020-07-07T20:31:26.179079Z",
     "start_time": "2020-07-07T20:31:26.164044Z"
    }
   },
   "outputs": [
    {
     "data": {
      "text/html": [
       "<div>\n",
       "<style scoped>\n",
       "    .dataframe tbody tr th:only-of-type {\n",
       "        vertical-align: middle;\n",
       "    }\n",
       "\n",
       "    .dataframe tbody tr th {\n",
       "        vertical-align: top;\n",
       "    }\n",
       "\n",
       "    .dataframe thead th {\n",
       "        text-align: right;\n",
       "    }\n",
       "</style>\n",
       "<table border=\"1\" class=\"dataframe\">\n",
       "  <thead>\n",
       "    <tr style=\"text-align: right;\">\n",
       "      <th></th>\n",
       "      <th>PC1</th>\n",
       "      <th>PC2</th>\n",
       "    </tr>\n",
       "  </thead>\n",
       "  <tbody>\n",
       "    <tr>\n",
       "      <th>Murder</th>\n",
       "      <td>0.535899</td>\n",
       "      <td>0.418181</td>\n",
       "    </tr>\n",
       "    <tr>\n",
       "      <th>Assault</th>\n",
       "      <td>0.583184</td>\n",
       "      <td>0.187986</td>\n",
       "    </tr>\n",
       "    <tr>\n",
       "      <th>UrbanPop</th>\n",
       "      <td>0.278191</td>\n",
       "      <td>-0.872806</td>\n",
       "    </tr>\n",
       "    <tr>\n",
       "      <th>Rape</th>\n",
       "      <td>0.543432</td>\n",
       "      <td>-0.167319</td>\n",
       "    </tr>\n",
       "  </tbody>\n",
       "</table>\n",
       "</div>"
      ],
      "text/plain": [
       "               PC1       PC2\n",
       "Murder    0.535899  0.418181\n",
       "Assault   0.583184  0.187986\n",
       "UrbanPop  0.278191 -0.872806\n",
       "Rape      0.543432 -0.167319"
      ]
     },
     "execution_count": 24,
     "metadata": {},
     "output_type": "execute_result"
    }
   ],
   "source": [
    "df_pc_components"
   ]
  },
  {
   "cell_type": "markdown",
   "metadata": {},
   "source": [
    "How are these values calculated?"
   ]
  },
  {
   "cell_type": "code",
   "execution_count": null,
   "metadata": {},
   "outputs": [],
   "source": []
  },
  {
   "cell_type": "code",
   "execution_count": null,
   "metadata": {},
   "outputs": [],
   "source": []
  },
  {
   "cell_type": "code",
   "execution_count": null,
   "metadata": {},
   "outputs": [],
   "source": []
  },
  {
   "cell_type": "code",
   "execution_count": null,
   "metadata": {},
   "outputs": [],
   "source": []
  },
  {
   "cell_type": "code",
   "execution_count": null,
   "metadata": {},
   "outputs": [],
   "source": []
  },
  {
   "cell_type": "code",
   "execution_count": null,
   "metadata": {},
   "outputs": [],
   "source": []
  },
  {
   "cell_type": "code",
   "execution_count": null,
   "metadata": {},
   "outputs": [],
   "source": []
  },
  {
   "cell_type": "markdown",
   "metadata": {},
   "source": [
    "# Other resources"
   ]
  },
  {
   "cell_type": "code",
   "execution_count": 2,
   "metadata": {
    "ExecuteTime": {
     "end_time": "2020-07-07T16:12:07.922101Z",
     "start_time": "2020-07-07T16:12:06.905191Z"
    }
   },
   "outputs": [],
   "source": [
    "# For importing example data\n",
    "import sqlalchemy\n",
    "import sqlalchemy_utils\n",
    "from sqlalchemy import create_engine\n",
    "from sqlalchemy_utils import database_exists, create_database\n",
    "import psycopg2"
   ]
  },
  {
   "cell_type": "code",
   "execution_count": 3,
   "metadata": {
    "ExecuteTime": {
     "end_time": "2020-07-07T16:12:08.006973Z",
     "start_time": "2020-07-07T16:12:07.950689Z"
    }
   },
   "outputs": [
    {
     "name": "stdout",
     "output_type": "stream",
     "text": [
      "postgres://lacar@localhost/baseball\n"
     ]
    }
   ],
   "source": [
    "# Define a database name\n",
    "# Set your postgres username\n",
    "dbname = \"baseball\"\n",
    "username = \"lacar\"  # change this to your username\n",
    "\n",
    "# Working with PostgreSQL in Python\n",
    "# Connect to make queries using psycopg2\n",
    "con = None\n",
    "con = psycopg2.connect(database=dbname, user=username)\n",
    "\n",
    "# Here, we're using postgres, but sqlalchemy can connect to other things too.\n",
    "engine = create_engine(\"postgres://%s@localhost/%s\" % (username, dbname))\n",
    "print(engine.url)"
   ]
  },
  {
   "cell_type": "markdown",
   "metadata": {},
   "source": [
    "Let's imagine a simple case such as using housing square footage to predict prices.\n",
    "\n",
    "Ues Padres database."
   ]
  },
  {
   "cell_type": "code",
   "execution_count": 4,
   "metadata": {
    "ExecuteTime": {
     "end_time": "2020-03-24T18:02:45.691099Z",
     "start_time": "2020-03-24T18:02:45.609669Z"
    }
   },
   "outputs": [
    {
     "data": {
      "text/html": [
       "<div>\n",
       "<style scoped>\n",
       "    .dataframe tbody tr th:only-of-type {\n",
       "        vertical-align: middle;\n",
       "    }\n",
       "\n",
       "    .dataframe tbody tr th {\n",
       "        vertical-align: top;\n",
       "    }\n",
       "\n",
       "    .dataframe thead th {\n",
       "        text-align: right;\n",
       "    }\n",
       "</style>\n",
       "<table border=\"1\" class=\"dataframe\">\n",
       "  <thead>\n",
       "    <tr style=\"text-align: right;\">\n",
       "      <th></th>\n",
       "      <th>index</th>\n",
       "      <th>index_x</th>\n",
       "      <th>Season</th>\n",
       "      <th>Name</th>\n",
       "      <th>Team</th>\n",
       "      <th>Age</th>\n",
       "      <th>G</th>\n",
       "      <th>AB</th>\n",
       "      <th>PA</th>\n",
       "      <th>H</th>\n",
       "      <th>...</th>\n",
       "      <th>first_name</th>\n",
       "      <th>index_y</th>\n",
       "      <th>name_last</th>\n",
       "      <th>name_first</th>\n",
       "      <th>key_mlbam</th>\n",
       "      <th>key_retro</th>\n",
       "      <th>key_bbref</th>\n",
       "      <th>key_fangraphs</th>\n",
       "      <th>mlb_played_first</th>\n",
       "      <th>mlb_played_last</th>\n",
       "    </tr>\n",
       "  </thead>\n",
       "  <tbody>\n",
       "    <tr>\n",
       "      <th>0</th>\n",
       "      <td>123</td>\n",
       "      <td>1094</td>\n",
       "      <td>2018.0</td>\n",
       "      <td>Austin Hedges</td>\n",
       "      <td>Padres</td>\n",
       "      <td>25.0</td>\n",
       "      <td>91.0</td>\n",
       "      <td>303.0</td>\n",
       "      <td>326.0</td>\n",
       "      <td>70.0</td>\n",
       "      <td>...</td>\n",
       "      <td>austin</td>\n",
       "      <td>784</td>\n",
       "      <td>hedges</td>\n",
       "      <td>austin</td>\n",
       "      <td>595978</td>\n",
       "      <td>hedga001</td>\n",
       "      <td>hedgeau01</td>\n",
       "      <td>12976</td>\n",
       "      <td>2015.0</td>\n",
       "      <td>2019.0</td>\n",
       "    </tr>\n",
       "    <tr>\n",
       "      <th>1</th>\n",
       "      <td>164</td>\n",
       "      <td>553</td>\n",
       "      <td>2018.0</td>\n",
       "      <td>Hunter Renfroe</td>\n",
       "      <td>Padres</td>\n",
       "      <td>26.0</td>\n",
       "      <td>117.0</td>\n",
       "      <td>403.0</td>\n",
       "      <td>441.0</td>\n",
       "      <td>100.0</td>\n",
       "      <td>...</td>\n",
       "      <td>hunter</td>\n",
       "      <td>1444</td>\n",
       "      <td>renfroe</td>\n",
       "      <td>hunter</td>\n",
       "      <td>592669</td>\n",
       "      <td>renfh001</td>\n",
       "      <td>renfrhu01</td>\n",
       "      <td>15464</td>\n",
       "      <td>2016.0</td>\n",
       "      <td>2019.0</td>\n",
       "    </tr>\n",
       "    <tr>\n",
       "      <th>2</th>\n",
       "      <td>166</td>\n",
       "      <td>692</td>\n",
       "      <td>2018.0</td>\n",
       "      <td>Wil Myers</td>\n",
       "      <td>Padres</td>\n",
       "      <td>27.0</td>\n",
       "      <td>83.0</td>\n",
       "      <td>312.0</td>\n",
       "      <td>343.0</td>\n",
       "      <td>79.0</td>\n",
       "      <td>...</td>\n",
       "      <td>wil</td>\n",
       "      <td>1233</td>\n",
       "      <td>myers</td>\n",
       "      <td>wil</td>\n",
       "      <td>571976</td>\n",
       "      <td>myerw001</td>\n",
       "      <td>myerswi01</td>\n",
       "      <td>10047</td>\n",
       "      <td>2013.0</td>\n",
       "      <td>2019.0</td>\n",
       "    </tr>\n",
       "    <tr>\n",
       "      <th>3</th>\n",
       "      <td>409</td>\n",
       "      <td>1507</td>\n",
       "      <td>2018.0</td>\n",
       "      <td>Luis Urias</td>\n",
       "      <td>Padres</td>\n",
       "      <td>21.0</td>\n",
       "      <td>12.0</td>\n",
       "      <td>48.0</td>\n",
       "      <td>53.0</td>\n",
       "      <td>10.0</td>\n",
       "      <td>...</td>\n",
       "      <td>luis</td>\n",
       "      <td>1809</td>\n",
       "      <td>urias</td>\n",
       "      <td>luis</td>\n",
       "      <td>649966</td>\n",
       "      <td>urial001</td>\n",
       "      <td>uriaslu01</td>\n",
       "      <td>16622</td>\n",
       "      <td>2018.0</td>\n",
       "      <td>2019.0</td>\n",
       "    </tr>\n",
       "    <tr>\n",
       "      <th>4</th>\n",
       "      <td>192</td>\n",
       "      <td>331</td>\n",
       "      <td>2018.0</td>\n",
       "      <td>Franmil Reyes</td>\n",
       "      <td>Padres</td>\n",
       "      <td>22.0</td>\n",
       "      <td>87.0</td>\n",
       "      <td>261.0</td>\n",
       "      <td>285.0</td>\n",
       "      <td>73.0</td>\n",
       "      <td>...</td>\n",
       "      <td>franmil</td>\n",
       "      <td>1448</td>\n",
       "      <td>reyes</td>\n",
       "      <td>franmil</td>\n",
       "      <td>614177</td>\n",
       "      <td>reyef001</td>\n",
       "      <td>reyesfr01</td>\n",
       "      <td>14566</td>\n",
       "      <td>2018.0</td>\n",
       "      <td>2019.0</td>\n",
       "    </tr>\n",
       "  </tbody>\n",
       "</table>\n",
       "<p>5 rows × 300 columns</p>\n",
       "</div>"
      ],
      "text/plain": [
       "   index  index_x  Season            Name    Team   Age      G     AB     PA  \\\n",
       "0    123     1094  2018.0   Austin Hedges  Padres  25.0   91.0  303.0  326.0   \n",
       "1    164      553  2018.0  Hunter Renfroe  Padres  26.0  117.0  403.0  441.0   \n",
       "2    166      692  2018.0       Wil Myers  Padres  27.0   83.0  312.0  343.0   \n",
       "3    409     1507  2018.0      Luis Urias  Padres  21.0   12.0   48.0   53.0   \n",
       "4    192      331  2018.0   Franmil Reyes  Padres  22.0   87.0  261.0  285.0   \n",
       "\n",
       "       H  ...  first_name  index_y  name_last  name_first  key_mlbam  \\\n",
       "0   70.0  ...      austin      784     hedges      austin     595978   \n",
       "1  100.0  ...      hunter     1444    renfroe      hunter     592669   \n",
       "2   79.0  ...         wil     1233      myers         wil     571976   \n",
       "3   10.0  ...        luis     1809      urias        luis     649966   \n",
       "4   73.0  ...     franmil     1448      reyes     franmil     614177   \n",
       "\n",
       "   key_retro  key_bbref  key_fangraphs  mlb_played_first  mlb_played_last  \n",
       "0   hedga001  hedgeau01          12976            2015.0           2019.0  \n",
       "1   renfh001  renfrhu01          15464            2016.0           2019.0  \n",
       "2   myerw001  myerswi01          10047            2013.0           2019.0  \n",
       "3   urial001  uriaslu01          16622            2018.0           2019.0  \n",
       "4   reyef001  reyesfr01          14566            2018.0           2019.0  \n",
       "\n",
       "[5 rows x 300 columns]"
      ]
     },
     "execution_count": 4,
     "metadata": {},
     "output_type": "execute_result"
    }
   ],
   "source": [
    "# Use Padres data from 2018\n",
    "sql_query = \"\"\"\n",
    "SELECT * FROM batting_stats18_wpid\n",
    "WHERE \"Team\"='Padres';\n",
    "\"\"\"\n",
    "df_padres = pd.read_sql_query(sql_query,con)\n",
    "df_padres.head()"
   ]
  },
  {
   "cell_type": "code",
   "execution_count": 22,
   "metadata": {
    "ExecuteTime": {
     "end_time": "2020-03-24T18:03:04.106297Z",
     "start_time": "2020-03-24T18:03:04.055047Z"
    },
    "collapsed": true,
    "jupyter": {
     "outputs_hidden": true
    }
   },
   "outputs": [
    {
     "name": "stdout",
     "output_type": "stream",
     "text": [
      "index\n",
      "index_x\n",
      "Season\n",
      "Name\n",
      "Team\n",
      "Age\n",
      "G\n",
      "AB\n",
      "PA\n",
      "H\n",
      "1B\n",
      "2B\n",
      "3B\n",
      "HR\n",
      "R\n",
      "RBI\n",
      "BB\n",
      "IBB\n",
      "SO\n",
      "HBP\n",
      "SF\n",
      "SH\n",
      "GDP\n",
      "SB\n",
      "CS\n",
      "AVG\n",
      "GB\n",
      "FB\n",
      "LD\n",
      "IFFB\n",
      "Pitches\n",
      "Balls\n",
      "Strikes\n",
      "IFH\n",
      "BU\n",
      "BUH\n",
      "BB_perc\n",
      "K_perc\n",
      "BB/K\n",
      "OBP\n",
      "SLG\n",
      "OPS\n",
      "ISO\n",
      "BABIP\n",
      "GB/FB\n",
      "LD_perc\n",
      "GB_perc\n",
      "FB_perc\n",
      "IFFB_perc\n",
      "HR/FB\n",
      "IFH_perc\n",
      "BUH_perc\n",
      "wOBA\n",
      "wRAA\n",
      "wRC\n",
      "Bat\n",
      "Fld\n",
      "Rep\n",
      "Pos\n",
      "RAR\n",
      "WAR\n",
      "Dol\n",
      "Spd\n",
      "wRC+\n",
      "WPA\n",
      "-WPA\n",
      "+WPA\n",
      "RE24\n",
      "REW\n",
      "pLI\n",
      "phLI\n",
      "PH\n",
      "WPA/LI\n",
      "Clutch\n",
      "FB_perc _Pitch\n",
      "FBv\n",
      "SL_perc\n",
      "SLv\n",
      "CT_perc\n",
      "CTv\n",
      "CB_perc\n",
      "CBv\n",
      "CH_perc\n",
      "CHv\n",
      "SF_perc\n",
      "SFv\n",
      "KN_perc\n",
      "KNv\n",
      "XX_perc\n",
      "PO_perc\n",
      "wFB\n",
      "wSL\n",
      "wCT\n",
      "wCB\n",
      "wCH\n",
      "wSF\n",
      "wKN\n",
      "wFB/C\n",
      "wSL/C\n",
      "wCT/C\n",
      "wCB/C\n",
      "wCH/C\n",
      "wSF/C\n",
      "wKN/C\n",
      "O-Swing_perc\n",
      "Z-Swing_perc\n",
      "Swing_perc\n",
      "O-Contact_perc\n",
      "Z-Contact_perc\n",
      "Contact_perc\n",
      "Zone_perc\n",
      "F-Strike_perc\n",
      "SwStr_perc\n",
      "BsR\n",
      "FA_perc _pfx\n",
      "FT_perc _pfx\n",
      "FC_perc _pfx\n",
      "FS_perc _pfx\n",
      "FO_perc _pfx\n",
      "SI_perc _pfx\n",
      "SL_perc _pfx\n",
      "CU_perc _pfx\n",
      "KC_perc _pfx\n",
      "EP_perc _pfx\n",
      "CH_perc _pfx\n",
      "SC_perc _pfx\n",
      "KN_perc _pfx\n",
      "UN_perc _pfx\n",
      "vFA _pfx\n",
      "vFT _pfx\n",
      "vFC _pfx\n",
      "vFS _pfx\n",
      "vFO _pfx\n",
      "vSI _pfx\n",
      "vSL _pfx\n",
      "vCU _pfx\n",
      "vKC _pfx\n",
      "vEP _pfx\n",
      "vCH _pfx\n",
      "vSC _pfx\n",
      "vKN _pfx\n",
      "FA-X _pfx\n",
      "FT-X _pfx\n",
      "FC-X _pfx\n",
      "FS-X _pfx\n",
      "FO-X _pfx\n",
      "SI-X _pfx\n",
      "SL-X _pfx\n",
      "CU-X _pfx\n",
      "KC-X _pfx\n",
      "EP-X _pfx\n",
      "CH-X _pfx\n",
      "SC-X _pfx\n",
      "KN-X _pfx\n",
      "FA-Z _pfx\n",
      "FT-Z _pfx\n",
      "FC-Z _pfx\n",
      "FS-Z _pfx\n",
      "FO-Z _pfx\n",
      "SI-Z _pfx\n",
      "SL-Z _pfx\n",
      "CU-Z _pfx\n",
      "KC-Z _pfx\n",
      "EP-Z _pfx\n",
      "CH-Z _pfx\n",
      "SC-Z _pfx\n",
      "KN-Z _pfx\n",
      "wFA _pfx\n",
      "wFT _pfx\n",
      "wFC _pfx\n",
      "wFS _pfx\n",
      "wFO _pfx\n",
      "wSI _pfx\n",
      "wSL _pfx\n",
      "wCU _pfx\n",
      "wKC _pfx\n",
      "wEP _pfx\n",
      "wCH _pfx\n",
      "wSC _pfx\n",
      "wKN _pfx\n",
      "wFA/C _pfx\n",
      "wFT/C _pfx\n",
      "wFC/C _pfx\n",
      "wFS/C _pfx\n",
      "wFO/C _pfx\n",
      "wSI/C _pfx\n",
      "wSL/C _pfx\n",
      "wCU/C _pfx\n",
      "wKC/C _pfx\n",
      "wEP/C _pfx\n",
      "wCH/C _pfx\n",
      "wSC/C _pfx\n",
      "wKN/C _pfx\n",
      "O-Swing_perc _pfx\n",
      "Z-Swing_perc _pfx\n",
      "Swing_perc _pfx\n",
      "O-Contact_perc _pfx\n",
      "Z-Contact_perc _pfx\n",
      "Contact_perc _pfx\n",
      "Zone_perc _pfx\n",
      "Pace\n",
      "Def\n",
      "wSB\n",
      "UBR\n",
      "Age Rng\n",
      "Off\n",
      "Lg\n",
      "wGDP\n",
      "Pull_perc\n",
      "Cent_perc\n",
      "Oppo_perc\n",
      "Soft_perc\n",
      "Med_perc\n",
      "Hard_perc\n",
      "TTO_perc\n",
      "CH_perc _pi\n",
      "CS_perc _pi\n",
      "CU_perc _pi\n",
      "FA_perc _pi\n",
      "FC_perc _pi\n",
      "FS_perc _pi\n",
      "KN_perc _pi\n",
      "SB_perc _pi\n",
      "SI_perc _pi\n",
      "SL_perc _pi\n",
      "XX_perc _pi\n",
      "vCH _pi\n",
      "vCS _pi\n",
      "vCU _pi\n",
      "vFA _pi\n",
      "vFC _pi\n",
      "vFS _pi\n",
      "vKN _pi\n",
      "vSB _pi\n",
      "vSI _pi\n",
      "vSL _pi\n",
      "vXX _pi\n",
      "CH-X _pi\n",
      "CS-X _pi\n",
      "CU-X _pi\n",
      "FA-X _pi\n",
      "FC-X _pi\n",
      "FS-X _pi\n",
      "KN-X _pi\n",
      "SB-X _pi\n",
      "SI-X _pi\n",
      "SL-X _pi\n",
      "XX-X _pi\n",
      "CH-Z _pi\n",
      "CS-Z _pi\n",
      "CU-Z _pi\n",
      "FA-Z _pi\n",
      "FC-Z _pi\n",
      "FS-Z _pi\n",
      "KN-Z _pi\n",
      "SB-Z _pi\n",
      "SI-Z _pi\n",
      "SL-Z _pi\n",
      "XX-Z _pi\n",
      "wCH _pi\n",
      "wCS _pi\n",
      "wCU _pi\n",
      "wFA _pi\n",
      "wFC _pi\n",
      "wFS _pi\n",
      "wKN _pi\n",
      "wSB _pi\n",
      "wSI _pi\n",
      "wSL _pi\n",
      "wXX _pi\n",
      "wCH/C _pi\n",
      "wCS/C _pi\n",
      "wCU/C _pi\n",
      "wFA/C _pi\n",
      "wFC/C _pi\n",
      "wFS/C _pi\n",
      "wKN/C _pi\n",
      "wSB/C _pi\n",
      "wSI/C _pi\n",
      "wSL/C _pi\n",
      "wXX/C _pi\n",
      "O-Swing_perc _pi\n",
      "Z-Swing_perc _pi\n",
      "Swing_perc _pi\n",
      "O-Contact_perc _pi\n",
      "Z-Contact_perc _pi\n",
      "Contact_perc _pi\n",
      "Zone_perc _pi\n",
      "Pace _pi\n",
      "last_name\n",
      "first_name\n",
      "index_y\n",
      "name_last\n",
      "name_first\n",
      "key_mlbam\n",
      "key_retro\n",
      "key_bbref\n",
      "key_fangraphs\n",
      "mlb_played_first\n",
      "mlb_played_last\n"
     ]
    },
    {
     "data": {
      "text/plain": [
       "[None,\n",
       " None,\n",
       " None,\n",
       " None,\n",
       " None,\n",
       " None,\n",
       " None,\n",
       " None,\n",
       " None,\n",
       " None,\n",
       " None,\n",
       " None,\n",
       " None,\n",
       " None,\n",
       " None,\n",
       " None,\n",
       " None,\n",
       " None,\n",
       " None,\n",
       " None,\n",
       " None,\n",
       " None,\n",
       " None,\n",
       " None,\n",
       " None,\n",
       " None,\n",
       " None,\n",
       " None,\n",
       " None,\n",
       " None,\n",
       " None,\n",
       " None,\n",
       " None,\n",
       " None,\n",
       " None,\n",
       " None,\n",
       " None,\n",
       " None,\n",
       " None,\n",
       " None,\n",
       " None,\n",
       " None,\n",
       " None,\n",
       " None,\n",
       " None,\n",
       " None,\n",
       " None,\n",
       " None,\n",
       " None,\n",
       " None,\n",
       " None,\n",
       " None,\n",
       " None,\n",
       " None,\n",
       " None,\n",
       " None,\n",
       " None,\n",
       " None,\n",
       " None,\n",
       " None,\n",
       " None,\n",
       " None,\n",
       " None,\n",
       " None,\n",
       " None,\n",
       " None,\n",
       " None,\n",
       " None,\n",
       " None,\n",
       " None,\n",
       " None,\n",
       " None,\n",
       " None,\n",
       " None,\n",
       " None,\n",
       " None,\n",
       " None,\n",
       " None,\n",
       " None,\n",
       " None,\n",
       " None,\n",
       " None,\n",
       " None,\n",
       " None,\n",
       " None,\n",
       " None,\n",
       " None,\n",
       " None,\n",
       " None,\n",
       " None,\n",
       " None,\n",
       " None,\n",
       " None,\n",
       " None,\n",
       " None,\n",
       " None,\n",
       " None,\n",
       " None,\n",
       " None,\n",
       " None,\n",
       " None,\n",
       " None,\n",
       " None,\n",
       " None,\n",
       " None,\n",
       " None,\n",
       " None,\n",
       " None,\n",
       " None,\n",
       " None,\n",
       " None,\n",
       " None,\n",
       " None,\n",
       " None,\n",
       " None,\n",
       " None,\n",
       " None,\n",
       " None,\n",
       " None,\n",
       " None,\n",
       " None,\n",
       " None,\n",
       " None,\n",
       " None,\n",
       " None,\n",
       " None,\n",
       " None,\n",
       " None,\n",
       " None,\n",
       " None,\n",
       " None,\n",
       " None,\n",
       " None,\n",
       " None,\n",
       " None,\n",
       " None,\n",
       " None,\n",
       " None,\n",
       " None,\n",
       " None,\n",
       " None,\n",
       " None,\n",
       " None,\n",
       " None,\n",
       " None,\n",
       " None,\n",
       " None,\n",
       " None,\n",
       " None,\n",
       " None,\n",
       " None,\n",
       " None,\n",
       " None,\n",
       " None,\n",
       " None,\n",
       " None,\n",
       " None,\n",
       " None,\n",
       " None,\n",
       " None,\n",
       " None,\n",
       " None,\n",
       " None,\n",
       " None,\n",
       " None,\n",
       " None,\n",
       " None,\n",
       " None,\n",
       " None,\n",
       " None,\n",
       " None,\n",
       " None,\n",
       " None,\n",
       " None,\n",
       " None,\n",
       " None,\n",
       " None,\n",
       " None,\n",
       " None,\n",
       " None,\n",
       " None,\n",
       " None,\n",
       " None,\n",
       " None,\n",
       " None,\n",
       " None,\n",
       " None,\n",
       " None,\n",
       " None,\n",
       " None,\n",
       " None,\n",
       " None,\n",
       " None,\n",
       " None,\n",
       " None,\n",
       " None,\n",
       " None,\n",
       " None,\n",
       " None,\n",
       " None,\n",
       " None,\n",
       " None,\n",
       " None,\n",
       " None,\n",
       " None,\n",
       " None,\n",
       " None,\n",
       " None,\n",
       " None,\n",
       " None,\n",
       " None,\n",
       " None,\n",
       " None,\n",
       " None,\n",
       " None,\n",
       " None,\n",
       " None,\n",
       " None,\n",
       " None,\n",
       " None,\n",
       " None,\n",
       " None,\n",
       " None,\n",
       " None,\n",
       " None,\n",
       " None,\n",
       " None,\n",
       " None,\n",
       " None,\n",
       " None,\n",
       " None,\n",
       " None,\n",
       " None,\n",
       " None,\n",
       " None,\n",
       " None,\n",
       " None,\n",
       " None,\n",
       " None,\n",
       " None,\n",
       " None,\n",
       " None,\n",
       " None,\n",
       " None,\n",
       " None,\n",
       " None,\n",
       " None,\n",
       " None,\n",
       " None,\n",
       " None,\n",
       " None,\n",
       " None,\n",
       " None,\n",
       " None,\n",
       " None,\n",
       " None,\n",
       " None,\n",
       " None,\n",
       " None,\n",
       " None,\n",
       " None,\n",
       " None,\n",
       " None,\n",
       " None,\n",
       " None,\n",
       " None,\n",
       " None,\n",
       " None,\n",
       " None,\n",
       " None,\n",
       " None,\n",
       " None,\n",
       " None,\n",
       " None,\n",
       " None,\n",
       " None,\n",
       " None,\n",
       " None,\n",
       " None,\n",
       " None,\n",
       " None,\n",
       " None,\n",
       " None,\n",
       " None,\n",
       " None,\n",
       " None,\n",
       " None,\n",
       " None,\n",
       " None,\n",
       " None,\n",
       " None,\n",
       " None,\n",
       " None,\n",
       " None,\n",
       " None,\n",
       " None,\n",
       " None,\n",
       " None,\n",
       " None,\n",
       " None]"
      ]
     },
     "execution_count": 22,
     "metadata": {},
     "output_type": "execute_result"
    }
   ],
   "source": [
    "[print(i) for i in df_padres.columns]"
   ]
  },
  {
   "cell_type": "code",
   "execution_count": 24,
   "metadata": {
    "ExecuteTime": {
     "end_time": "2020-03-24T18:05:49.620797Z",
     "start_time": "2020-03-24T18:05:48.520739Z"
    }
   },
   "outputs": [
    {
     "data": {
      "text/plain": [
       "<matplotlib.collections.PathCollection at 0x11caf7dd8>"
      ]
     },
     "execution_count": 24,
     "metadata": {},
     "output_type": "execute_result"
    },
    {
     "data": {
      "image/png": "[encoded data removed]",
      "text/plain": [
       "<Figure size 432x288 with 1 Axes>"
      ]
     },
     "metadata": {
      "needs_background": "light"
     },
     "output_type": "display_data"
    }
   ],
   "source": [
    "plt.scatter(df_padres['FB'], df_padres['HR'])"
   ]
  },
  {
   "cell_type": "markdown",
   "metadata": {},
   "source": [
    "## K means vs. heirarchical clustering\n",
    "\n",
    "See this video\n",
    "https://www.youtube.com/watch?v=QXOkPvFM6NU&t=933s\n",
    "\n",
    "See this site\n",
    "https://www.analyticsvidhya.com/blog/2016/11/an-introduction-to-clustering-and-different-methods-of-clustering/"
   ]
  },
  {
   "cell_type": "markdown",
   "metadata": {},
   "source": [
    "## PCA\n",
    "\n",
    "Amazing explanation\n",
    "<br>\n",
    "https://stats.stackexchange.com/questions/2691/making-sense-of-principal-component-analysis-eigenvectors-eigenvalues\n",
    "    \n",
    "<br>\n",
    "Good video on covariance matrix\n",
    "<br>\n",
    "\n",
    "https://www.youtube.com/watch?v=152tSYtiQbw\n"
   ]
  },
  {
   "cell_type": "code",
   "execution_count": null,
   "metadata": {},
   "outputs": [],
   "source": []
  },
  {
   "cell_type": "markdown",
   "metadata": {},
   "source": [
    "# [bottom of notebook]"
   ]
  },
  {
   "cell_type": "code",
   "execution_count": null,
   "metadata": {},
   "outputs": [],
   "source": []
  }
 ],
 "metadata": {
  "kernelspec": {
   "display_name": "Python 3",
   "language": "python",
   "name": "python3"
  },
  "language_info": {
   "codemirror_mode": {
    "name": "ipython",
    "version": 3
   },
   "file_extension": ".py",
   "mimetype": "text/x-python",
   "name": "python",
   "nbconvert_exporter": "python",
   "pygments_lexer": "ipython3",
   "version": "3.6.9"
  },
  "toc": {
   "base_numbering": 1,
   "nav_menu": {},
   "number_sections": true,
   "sideBar": true,
   "skip_h1_title": false,
   "title_cell": "Table of Contents",
   "title_sidebar": "Contents",
   "toc_cell": false,
   "toc_position": {
    "height": "calc(100% - 180px)",
    "left": "10px",
    "top": "150px",
    "width": "211.767px"
   },
   "toc_section_display": true,
   "toc_window_display": true
  },
  "toc-autonumbering": true,
  "toc-showcode": false,
  "toc-showmarkdowntxt": false,
  "varInspector": {
   "cols": {
    "lenName": 16,
    "lenType": 16,
    "lenVar": 40
   },
   "kernels_config": {
    "python": {
     "delete_cmd_postfix": "",
     "delete_cmd_prefix": "del ",
     "library": "var_list.py",
     "varRefreshCmd": "print(var_dic_list())"
    },
    "r": {
     "delete_cmd_postfix": ") ",
     "delete_cmd_prefix": "rm(",
     "library": "var_list.r",
     "varRefreshCmd": "cat(var_dic_list()) "
    }
   },
   "types_to_exclude": [
    "module",
    "function",
    "builtin_function_or_method",
    "instance",
    "_Feature"
   ],
   "window_display": false
  }
 },
 "nbformat": 4,
 "nbformat_minor": 4
}
