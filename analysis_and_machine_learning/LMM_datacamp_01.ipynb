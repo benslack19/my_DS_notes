{
 "cells": [
  {
   "cell_type": "markdown",
   "metadata": {},
   "source": [
    "**Linear mixed modeling from DataCamp**\n",
    "\n",
    "This will serve as some notes for the Hierarchical and Mixed Effect Models in R from DataCamp [link](https://learn.datacamp.com/courses/hierarchical-and-mixed-effects-models). The sections will correspond to the sections in the course."
   ]
  },
  {
   "cell_type": "markdown",
   "metadata": {},
   "source": [
    "# Overview and introduction to hierarchical and mixed models"
   ]
  },
  {
   "cell_type": "code",
   "execution_count": 2,
   "metadata": {
    "ExecuteTime": {
     "end_time": "2021-01-21T16:32:18.306192Z",
     "start_time": "2021-01-21T16:32:18.254Z"
    }
   },
   "outputs": [],
   "source": [
    "library(tidyverse)\n",
    "library(WWGbook)   # for data loading\n",
    "library(lme4)"
   ]
  },
  {
   "cell_type": "markdown",
   "metadata": {},
   "source": [
    "Course overview:\n",
    "\n",
    "- Components for mixed-effect models (see how it can be applied to student test scores)\n",
    "- Applying and interpreting linear mixed-effect models (e.g. regression)\n",
    "- Generalized linear mixed-effect models\n",
    "- Repeated measure models (e.g. time-series analysis)\n",
    "\n",
    "What is a hierarchical model?\n",
    "\n",
    "- Data can have several types of structure, including being nested within itself, making it \"hierarchical\". (Example: evaluating whether sitting or standing has an effect on engagement time but whether it's an iPhone or Samsung matters more.)\n",
    "\n",
    "Why do we use a hierarchical model?\n",
    "\n",
    "- Data nested within itself.\n",
    "    - Example: Each student has their own test score but student performance can vary because of classroom-level factors, such as teacher quality, or school-level factors such as building quality. Hence, one might ask \"Are students really independent from other students in the same classroom or school?\" (Probably not.)\n",
    "- Pool information across small sample sizes. (What if each classroom has a different number of students?)\n",
    "    - Example: Maybe 5th grade has 30 students while 3rd grade only has 5. By chance, the 3rd grade test scores are more likely to have high or low outliers because of the law of large numbers. By treating classroomms as a \"random-effect\" within the model, we can pool shared information about means across the classrooms within the same school.\n",
    "- Repeated observations across groups or individuals.\n",
    "    - Example: What if we revisit the same group of students year-after-year? Here, the observations are *not* independent across years. A repeated-measures analysis is another example of a hierarchical models and allows us to correct for this (described in chapter 4)."
   ]
  },
  {
   "cell_type": "markdown",
   "metadata": {},
   "source": [
    "Other names for hierarchical models\n",
    "\n",
    "- Hierarchical models: nested models, multi-level models\n",
    "- Regression framework\n",
    "    - \"Pool\" information\n",
    "    - \"Random-effect\" versus a \"fixed-effect\"\n",
    "    - \"Mixed-effect\" (linear mixed-effect model; LMM)\n",
    "    - Linear mixed-effect regression (lmer)\n",
    "- Repeated sampling: getting the same measurements of individuals or groups over time\n",
    "    - Repeated measures\n",
    "    - Paired-tests\n",
    "    \n",
    "Example for learning: school test scores\n",
    "\n",
    "Meta-data:\n",
    "- Gain in math scores for individual students from K to first grade\n",
    "- Part of a national-level assessment in US\n",
    "- Subset of data from West, Welch, and Galecki\n",
    "\n",
    "Student-level variables:\n",
    "- Studentid: `childid`\n",
    "- Math test-score gain: `mathgain`\n",
    "- Math kindergarten score: `mathdind`\n",
    "- Student's sex: `sex`\n",
    "- Student's minority status: `minority`\n",
    "    \n",
    "At the end of the chapter, we'll fit a multi-level model to our data. We'll explore the data. The purpose of the coding exercise is to show that linear models don't always produce intuitive results and that it is necessary to add a new technique to your modeling toolbox.\n",
    "\n",
    "The data contains classroom and school-level data.\n",
    "\n",
    "Classoom-level variables:\n",
    "- Classroom id: `classid`\n",
    "- Teacher's math training: `mathprep`\n",
    "- Teacher's math test knowledge test score: `mathknow`\n",
    "- Teacher's years teaching: `yearstea`\n",
    "\n",
    "School-level variables:\n",
    "- School id: `schoolid`\n",
    "- School's household poverty level: `housepov`\n",
    "- School's socioeconomic status: `ses`\n",
    "\n"
   ]
  },
  {
   "cell_type": "code",
   "execution_count": 6,
   "metadata": {
    "ExecuteTime": {
     "end_time": "2021-01-21T16:35:17.619429Z",
     "start_time": "2021-01-21T16:35:17.592Z"
    }
   },
   "outputs": [],
   "source": [
    "attach(classroom)"
   ]
  },
  {
   "cell_type": "code",
   "execution_count": 7,
   "metadata": {
    "ExecuteTime": {
     "end_time": "2021-01-21T16:35:24.282905Z",
     "start_time": "2021-01-21T16:35:24.238Z"
    }
   },
   "outputs": [
    {
     "data": {
      "text/html": [
       "<table>\n",
       "<caption>A data.frame: 6 × 12</caption>\n",
       "<thead>\n",
       "\t<tr><th></th><th scope=col>sex</th><th scope=col>minority</th><th scope=col>mathkind</th><th scope=col>mathgain</th><th scope=col>ses</th><th scope=col>yearstea</th><th scope=col>mathknow</th><th scope=col>housepov</th><th scope=col>mathprep</th><th scope=col>classid</th><th scope=col>schoolid</th><th scope=col>childid</th></tr>\n",
       "\t<tr><th></th><th scope=col>&lt;int&gt;</th><th scope=col>&lt;int&gt;</th><th scope=col>&lt;int&gt;</th><th scope=col>&lt;int&gt;</th><th scope=col>&lt;dbl&gt;</th><th scope=col>&lt;dbl&gt;</th><th scope=col>&lt;dbl&gt;</th><th scope=col>&lt;dbl&gt;</th><th scope=col>&lt;dbl&gt;</th><th scope=col>&lt;int&gt;</th><th scope=col>&lt;int&gt;</th><th scope=col>&lt;int&gt;</th></tr>\n",
       "</thead>\n",
       "<tbody>\n",
       "\t<tr><th scope=row>1</th><td>1</td><td>1</td><td>448</td><td> 32</td><td> 0.46</td><td>1</td><td>   NA</td><td>0.082</td><td>2.00</td><td>160</td><td>1</td><td>1</td></tr>\n",
       "\t<tr><th scope=row>2</th><td>0</td><td>1</td><td>460</td><td>109</td><td>-0.27</td><td>1</td><td>   NA</td><td>0.082</td><td>2.00</td><td>160</td><td>1</td><td>2</td></tr>\n",
       "\t<tr><th scope=row>3</th><td>1</td><td>1</td><td>511</td><td> 56</td><td>-0.03</td><td>1</td><td>   NA</td><td>0.082</td><td>2.00</td><td>160</td><td>1</td><td>3</td></tr>\n",
       "\t<tr><th scope=row>4</th><td>0</td><td>1</td><td>449</td><td> 83</td><td>-0.38</td><td>2</td><td>-0.11</td><td>0.082</td><td>3.25</td><td>217</td><td>1</td><td>4</td></tr>\n",
       "\t<tr><th scope=row>5</th><td>0</td><td>1</td><td>425</td><td> 53</td><td>-0.03</td><td>2</td><td>-0.11</td><td>0.082</td><td>3.25</td><td>217</td><td>1</td><td>5</td></tr>\n",
       "\t<tr><th scope=row>6</th><td>1</td><td>1</td><td>450</td><td> 65</td><td> 0.76</td><td>2</td><td>-0.11</td><td>0.082</td><td>3.25</td><td>217</td><td>1</td><td>6</td></tr>\n",
       "</tbody>\n",
       "</table>\n"
      ],
      "text/latex": [
       "A data.frame: 6 × 12\n",
       "\\begin{tabular}{r|llllllllllll}\n",
       "  & sex & minority & mathkind & mathgain & ses & yearstea & mathknow & housepov & mathprep & classid & schoolid & childid\\\\\n",
       "  & <int> & <int> & <int> & <int> & <dbl> & <dbl> & <dbl> & <dbl> & <dbl> & <int> & <int> & <int>\\\\\n",
       "\\hline\n",
       "\t1 & 1 & 1 & 448 &  32 &  0.46 & 1 &    NA & 0.082 & 2.00 & 160 & 1 & 1\\\\\n",
       "\t2 & 0 & 1 & 460 & 109 & -0.27 & 1 &    NA & 0.082 & 2.00 & 160 & 1 & 2\\\\\n",
       "\t3 & 1 & 1 & 511 &  56 & -0.03 & 1 &    NA & 0.082 & 2.00 & 160 & 1 & 3\\\\\n",
       "\t4 & 0 & 1 & 449 &  83 & -0.38 & 2 & -0.11 & 0.082 & 3.25 & 217 & 1 & 4\\\\\n",
       "\t5 & 0 & 1 & 425 &  53 & -0.03 & 2 & -0.11 & 0.082 & 3.25 & 217 & 1 & 5\\\\\n",
       "\t6 & 1 & 1 & 450 &  65 &  0.76 & 2 & -0.11 & 0.082 & 3.25 & 217 & 1 & 6\\\\\n",
       "\\end{tabular}\n"
      ],
      "text/markdown": [
       "\n",
       "A data.frame: 6 × 12\n",
       "\n",
       "| <!--/--> | sex &lt;int&gt; | minority &lt;int&gt; | mathkind &lt;int&gt; | mathgain &lt;int&gt; | ses &lt;dbl&gt; | yearstea &lt;dbl&gt; | mathknow &lt;dbl&gt; | housepov &lt;dbl&gt; | mathprep &lt;dbl&gt; | classid &lt;int&gt; | schoolid &lt;int&gt; | childid &lt;int&gt; |\n",
       "|---|---|---|---|---|---|---|---|---|---|---|---|---|\n",
       "| 1 | 1 | 1 | 448 |  32 |  0.46 | 1 |    NA | 0.082 | 2.00 | 160 | 1 | 1 |\n",
       "| 2 | 0 | 1 | 460 | 109 | -0.27 | 1 |    NA | 0.082 | 2.00 | 160 | 1 | 2 |\n",
       "| 3 | 1 | 1 | 511 |  56 | -0.03 | 1 |    NA | 0.082 | 2.00 | 160 | 1 | 3 |\n",
       "| 4 | 0 | 1 | 449 |  83 | -0.38 | 2 | -0.11 | 0.082 | 3.25 | 217 | 1 | 4 |\n",
       "| 5 | 0 | 1 | 425 |  53 | -0.03 | 2 | -0.11 | 0.082 | 3.25 | 217 | 1 | 5 |\n",
       "| 6 | 1 | 1 | 450 |  65 |  0.76 | 2 | -0.11 | 0.082 | 3.25 | 217 | 1 | 6 |\n",
       "\n"
      ],
      "text/plain": [
       "  sex minority mathkind mathgain ses   yearstea mathknow housepov mathprep\n",
       "1 1   1        448       32       0.46 1           NA    0.082    2.00    \n",
       "2 0   1        460      109      -0.27 1           NA    0.082    2.00    \n",
       "3 1   1        511       56      -0.03 1           NA    0.082    2.00    \n",
       "4 0   1        449       83      -0.38 2        -0.11    0.082    3.25    \n",
       "5 0   1        425       53      -0.03 2        -0.11    0.082    3.25    \n",
       "6 1   1        450       65       0.76 2        -0.11    0.082    3.25    \n",
       "  classid schoolid childid\n",
       "1 160     1        1      \n",
       "2 160     1        2      \n",
       "3 160     1        3      \n",
       "4 217     1        4      \n",
       "5 217     1        5      \n",
       "6 217     1        6      "
      ]
     },
     "metadata": {},
     "output_type": "display_data"
    }
   ],
   "source": [
    "head(classroom)"
   ]
  },
  {
   "cell_type": "code",
   "execution_count": null,
   "metadata": {},
   "outputs": [],
   "source": []
  }
 ],
 "metadata": {
  "kernelspec": {
   "display_name": "R",
   "language": "R",
   "name": "ir"
  },
  "latex_envs": {
   "LaTeX_envs_menu_present": true,
   "autoclose": false,
   "autocomplete": true,
   "bibliofile": "biblio.bib",
   "cite_by": "apalike",
   "current_citInitial": 1,
   "eqLabelWithNumbers": true,
   "eqNumInitial": 1,
   "hotkeys": {
    "equation": "Ctrl-E",
    "itemize": "Ctrl-I"
   },
   "labels_anchors": false,
   "latex_user_defs": false,
   "report_style_numbering": false,
   "user_envs_cfg": false
  },
  "toc": {
   "base_numbering": 1,
   "nav_menu": {},
   "number_sections": true,
   "sideBar": true,
   "skip_h1_title": false,
   "title_cell": "Table of Contents",
   "title_sidebar": "Contents",
   "toc_cell": false,
   "toc_position": {},
   "toc_section_display": true,
   "toc_window_display": true
  },
  "varInspector": {
   "cols": {
    "lenName": 16,
    "lenType": 16,
    "lenVar": 40
   },
   "kernels_config": {
    "python": {
     "delete_cmd_postfix": "",
     "delete_cmd_prefix": "del ",
     "library": "var_list.py",
     "varRefreshCmd": "print(var_dic_list())"
    },
    "r": {
     "delete_cmd_postfix": ") ",
     "delete_cmd_prefix": "rm(",
     "library": "var_list.r",
     "varRefreshCmd": "cat(var_dic_list()) "
    }
   },
   "types_to_exclude": [
    "module",
    "function",
    "builtin_function_or_method",
    "instance",
    "_Feature"
   ],
   "window_display": false
  }
 },
 "nbformat": 4,
 "nbformat_minor": 4
}
