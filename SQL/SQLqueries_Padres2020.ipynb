{
 "cells": [
  {
   "cell_type": "markdown",
   "metadata": {},
   "source": [
    "**Querying postgreSQL in Jupyter notebook**\n",
    "\n",
    "Updated Padres info for SQL querying."
   ]
  },
  {
   "cell_type": "markdown",
   "metadata": {},
   "source": [
    "# Setup and custom tables"
   ]
  },
  {
   "cell_type": "code",
   "execution_count": 1,
   "metadata": {
    "ExecuteTime": {
     "end_time": "2020-08-28T00:55:31.617738Z",
     "start_time": "2020-08-28T00:55:28.354858Z"
    }
   },
   "outputs": [
    {
     "data": {
      "application/javascript": [
       "\n",
       "            setTimeout(function() {\n",
       "                var nbb_cell_id = 1;\n",
       "                var nbb_unformatted_code = \"import os\\nimport numpy as np\\nimport pandas as pd\\nimport matplotlib\\nimport matplotlib.pyplot as plt\\nimport seaborn as sns\\nimport sklearn\\nimport datetime\\n\\n# Multiprocessing/threading\\nimport multiprocess\\nimport threading\\nfrom threading import Thread\\n\\n# Code formatting with Jupyter black\\n%load_ext nb_black\";\n",
       "                var nbb_formatted_code = \"import os\\nimport numpy as np\\nimport pandas as pd\\nimport matplotlib\\nimport matplotlib.pyplot as plt\\nimport seaborn as sns\\nimport sklearn\\nimport datetime\\n\\n# Multiprocessing/threading\\nimport multiprocess\\nimport threading\\nfrom threading import Thread\\n\\n# Code formatting with Jupyter black\\n%load_ext nb_black\";\n",
       "                var nbb_cells = Jupyter.notebook.get_cells();\n",
       "                for (var i = 0; i < nbb_cells.length; ++i) {\n",
       "                    if (nbb_cells[i].input_prompt_number == nbb_cell_id) {\n",
       "                        if (nbb_cells[i].get_text() == nbb_unformatted_code) {\n",
       "                             nbb_cells[i].set_text(nbb_formatted_code);\n",
       "                        }\n",
       "                        break;\n",
       "                    }\n",
       "                }\n",
       "            }, 500);\n",
       "            "
      ],
      "text/plain": [
       "<IPython.core.display.Javascript object>"
      ]
     },
     "metadata": {},
     "output_type": "display_data"
    }
   ],
   "source": [
    "import os\n",
    "import numpy as np\n",
    "import pandas as pd\n",
    "import matplotlib\n",
    "import matplotlib.pyplot as plt\n",
    "import seaborn as sns\n",
    "import sklearn\n",
    "import datetime\n",
    "\n",
    "# Multiprocessing/threading\n",
    "import multiprocess\n",
    "import threading\n",
    "from threading import Thread\n",
    "\n",
    "# Code formatting with Jupyter black\n",
    "%load_ext nb_black"
   ]
  },
  {
   "cell_type": "code",
   "execution_count": 2,
   "metadata": {
    "ExecuteTime": {
     "end_time": "2020-08-28T00:55:34.233749Z",
     "start_time": "2020-08-28T00:55:33.460268Z"
    }
   },
   "outputs": [
    {
     "data": {
      "application/javascript": [
       "\n",
       "            setTimeout(function() {\n",
       "                var nbb_cell_id = 2;\n",
       "                var nbb_unformatted_code = \"# Web/database stuff\\nimport sqlalchemy\\nimport sqlalchemy_utils\\nfrom sqlalchemy import create_engine\\nfrom sqlalchemy_utils import database_exists, create_database\\nimport psycopg2\\n\\n# Multiprocessing/threading\\nimport multiprocess\\nimport threading  # included in base\";\n",
       "                var nbb_formatted_code = \"# Web/database stuff\\nimport sqlalchemy\\nimport sqlalchemy_utils\\nfrom sqlalchemy import create_engine\\nfrom sqlalchemy_utils import database_exists, create_database\\nimport psycopg2\\n\\n# Multiprocessing/threading\\nimport multiprocess\\nimport threading  # included in base\";\n",
       "                var nbb_cells = Jupyter.notebook.get_cells();\n",
       "                for (var i = 0; i < nbb_cells.length; ++i) {\n",
       "                    if (nbb_cells[i].input_prompt_number == nbb_cell_id) {\n",
       "                        if (nbb_cells[i].get_text() == nbb_unformatted_code) {\n",
       "                             nbb_cells[i].set_text(nbb_formatted_code);\n",
       "                        }\n",
       "                        break;\n",
       "                    }\n",
       "                }\n",
       "            }, 500);\n",
       "            "
      ],
      "text/plain": [
       "<IPython.core.display.Javascript object>"
      ]
     },
     "metadata": {},
     "output_type": "display_data"
    }
   ],
   "source": [
    "# Web/database stuff\n",
    "import sqlalchemy\n",
    "import sqlalchemy_utils\n",
    "from sqlalchemy import create_engine\n",
    "from sqlalchemy_utils import database_exists, create_database\n",
    "import psycopg2\n",
    "\n",
    "# Multiprocessing/threading\n",
    "import multiprocess\n",
    "import threading  # included in base"
   ]
  },
  {
   "cell_type": "code",
   "execution_count": 3,
   "metadata": {
    "ExecuteTime": {
     "end_time": "2020-08-28T00:55:35.424972Z",
     "start_time": "2020-08-28T00:55:35.394299Z"
    }
   },
   "outputs": [
    {
     "name": "stdout",
     "output_type": "stream",
     "text": [
      "numpy:  1.17.4\n",
      "pandas:  0.25.3\n",
      "matplotlib:  3.1.3\n",
      "seaborn:  0.9.0\n",
      "sklearn:  0.22\n",
      "psycopg2:  2.8.4 (dt dec pq3 ext lo64)\n",
      "sqlalchemy:  1.3.11\n",
      "sqlalchemy_utils:  0.36.1\n",
      "multiprocess:  0.70.9\n"
     ]
    },
    {
     "data": {
      "application/javascript": [
       "\n",
       "            setTimeout(function() {\n",
       "                var nbb_cell_id = 3;\n",
       "                var nbb_unformatted_code = \"# Check versioning\\nprint(\\\"numpy: \\\", np.__version__)\\nprint(\\\"pandas: \\\", pd.__version__)\\nprint(\\\"matplotlib: \\\", matplotlib.__version__)\\nprint(\\\"seaborn: \\\", sns.__version__)\\nprint(\\\"sklearn: \\\", sklearn.__version__)\\n\\nprint(\\\"psycopg2: \\\", psycopg2.__version__)\\nprint(\\\"sqlalchemy: \\\", sqlalchemy.__version__)\\nprint(\\\"sqlalchemy_utils: \\\", sqlalchemy_utils.__version__)\\nprint(\\\"multiprocess: \\\", multiprocess.__version__)\";\n",
       "                var nbb_formatted_code = \"# Check versioning\\nprint(\\\"numpy: \\\", np.__version__)\\nprint(\\\"pandas: \\\", pd.__version__)\\nprint(\\\"matplotlib: \\\", matplotlib.__version__)\\nprint(\\\"seaborn: \\\", sns.__version__)\\nprint(\\\"sklearn: \\\", sklearn.__version__)\\n\\nprint(\\\"psycopg2: \\\", psycopg2.__version__)\\nprint(\\\"sqlalchemy: \\\", sqlalchemy.__version__)\\nprint(\\\"sqlalchemy_utils: \\\", sqlalchemy_utils.__version__)\\nprint(\\\"multiprocess: \\\", multiprocess.__version__)\";\n",
       "                var nbb_cells = Jupyter.notebook.get_cells();\n",
       "                for (var i = 0; i < nbb_cells.length; ++i) {\n",
       "                    if (nbb_cells[i].input_prompt_number == nbb_cell_id) {\n",
       "                        if (nbb_cells[i].get_text() == nbb_unformatted_code) {\n",
       "                             nbb_cells[i].set_text(nbb_formatted_code);\n",
       "                        }\n",
       "                        break;\n",
       "                    }\n",
       "                }\n",
       "            }, 500);\n",
       "            "
      ],
      "text/plain": [
       "<IPython.core.display.Javascript object>"
      ]
     },
     "metadata": {},
     "output_type": "display_data"
    }
   ],
   "source": [
    "# Check versioning\n",
    "print(\"numpy: \", np.__version__)\n",
    "print(\"pandas: \", pd.__version__)\n",
    "print(\"matplotlib: \", matplotlib.__version__)\n",
    "print(\"seaborn: \", sns.__version__)\n",
    "print(\"sklearn: \", sklearn.__version__)\n",
    "\n",
    "print(\"psycopg2: \", psycopg2.__version__)\n",
    "print(\"sqlalchemy: \", sqlalchemy.__version__)\n",
    "print(\"sqlalchemy_utils: \", sqlalchemy_utils.__version__)\n",
    "print(\"multiprocess: \", multiprocess.__version__)"
   ]
  },
  {
   "cell_type": "code",
   "execution_count": 4,
   "metadata": {
    "ExecuteTime": {
     "end_time": "2020-08-28T00:55:37.376870Z",
     "start_time": "2020-08-28T00:55:36.940116Z"
    }
   },
   "outputs": [
    {
     "data": {
      "application/javascript": [
       "\n",
       "            setTimeout(function() {\n",
       "                var nbb_cell_id = 4;\n",
       "                var nbb_unformatted_code = \"from pybaseball import pitching_stats\\nfrom pybaseball import batting_stats\\nfrom pybaseball import statcast_pitcher\\nfrom pybaseball import playerid_lookup\\nfrom pybaseball import statcast\\nfrom pybaseball import playerid_reverse_lookup\";\n",
       "                var nbb_formatted_code = \"from pybaseball import pitching_stats\\nfrom pybaseball import batting_stats\\nfrom pybaseball import statcast_pitcher\\nfrom pybaseball import playerid_lookup\\nfrom pybaseball import statcast\\nfrom pybaseball import playerid_reverse_lookup\";\n",
       "                var nbb_cells = Jupyter.notebook.get_cells();\n",
       "                for (var i = 0; i < nbb_cells.length; ++i) {\n",
       "                    if (nbb_cells[i].input_prompt_number == nbb_cell_id) {\n",
       "                        if (nbb_cells[i].get_text() == nbb_unformatted_code) {\n",
       "                             nbb_cells[i].set_text(nbb_formatted_code);\n",
       "                        }\n",
       "                        break;\n",
       "                    }\n",
       "                }\n",
       "            }, 500);\n",
       "            "
      ],
      "text/plain": [
       "<IPython.core.display.Javascript object>"
      ]
     },
     "metadata": {},
     "output_type": "display_data"
    }
   ],
   "source": [
    "from pybaseball import pitching_stats\n",
    "from pybaseball import batting_stats\n",
    "from pybaseball import statcast_pitcher\n",
    "from pybaseball import playerid_lookup\n",
    "from pybaseball import statcast\n",
    "from pybaseball import playerid_reverse_lookup"
   ]
  },
  {
   "cell_type": "code",
   "execution_count": 5,
   "metadata": {
    "ExecuteTime": {
     "end_time": "2020-08-28T00:55:40.246936Z",
     "start_time": "2020-08-28T00:55:40.190718Z"
    }
   },
   "outputs": [
    {
     "name": "stdout",
     "output_type": "stream",
     "text": [
      "postgres://lacar@localhost/baseball\n"
     ]
    },
    {
     "data": {
      "application/javascript": [
       "\n",
       "            setTimeout(function() {\n",
       "                var nbb_cell_id = 5;\n",
       "                var nbb_unformatted_code = \"# Define a database name\\n# Set your postgres username\\ndbname = \\\"baseball\\\"\\nusername = \\\"lacar\\\"  # change this to your username\\n\\n# Working with PostgreSQL in Python\\n# Connect to make queries using psycopg2\\ncon = None\\ncon = psycopg2.connect(database=dbname, user=username)\\n\\n# Here, we're using postgres, but sqlalchemy can connect to other things too.\\nengine = create_engine(\\\"postgres://%s@localhost/%s\\\" % (username, dbname))\\nprint(engine.url)\";\n",
       "                var nbb_formatted_code = \"# Define a database name\\n# Set your postgres username\\ndbname = \\\"baseball\\\"\\nusername = \\\"lacar\\\"  # change this to your username\\n\\n# Working with PostgreSQL in Python\\n# Connect to make queries using psycopg2\\ncon = None\\ncon = psycopg2.connect(database=dbname, user=username)\\n\\n# Here, we're using postgres, but sqlalchemy can connect to other things too.\\nengine = create_engine(\\\"postgres://%s@localhost/%s\\\" % (username, dbname))\\nprint(engine.url)\";\n",
       "                var nbb_cells = Jupyter.notebook.get_cells();\n",
       "                for (var i = 0; i < nbb_cells.length; ++i) {\n",
       "                    if (nbb_cells[i].input_prompt_number == nbb_cell_id) {\n",
       "                        if (nbb_cells[i].get_text() == nbb_unformatted_code) {\n",
       "                             nbb_cells[i].set_text(nbb_formatted_code);\n",
       "                        }\n",
       "                        break;\n",
       "                    }\n",
       "                }\n",
       "            }, 500);\n",
       "            "
      ],
      "text/plain": [
       "<IPython.core.display.Javascript object>"
      ]
     },
     "metadata": {},
     "output_type": "display_data"
    }
   ],
   "source": [
    "# Define a database name\n",
    "# Set your postgres username\n",
    "dbname = \"baseball\"\n",
    "username = \"lacar\"  # change this to your username\n",
    "\n",
    "# Working with PostgreSQL in Python\n",
    "# Connect to make queries using psycopg2\n",
    "con = None\n",
    "con = psycopg2.connect(database=dbname, user=username)\n",
    "\n",
    "# Here, we're using postgres, but sqlalchemy can connect to other things too.\n",
    "engine = create_engine(\"postgres://%s@localhost/%s\" % (username, dbname))\n",
    "print(engine.url)"
   ]
  },
  {
   "cell_type": "markdown",
   "metadata": {},
   "source": [
    "## Importing new data with pybaseball, sending to database"
   ]
  },
  {
   "cell_type": "markdown",
   "metadata": {},
   "source": [
    "### Player key info"
   ]
  },
  {
   "cell_type": "code",
   "execution_count": null,
   "metadata": {},
   "outputs": [],
   "source": []
  },
  {
   "cell_type": "code",
   "execution_count": null,
   "metadata": {},
   "outputs": [],
   "source": []
  },
  {
   "cell_type": "code",
   "execution_count": null,
   "metadata": {},
   "outputs": [],
   "source": []
  },
  {
   "cell_type": "markdown",
   "metadata": {},
   "source": [
    "### Statcast data"
   ]
  },
  {
   "cell_type": "code",
   "execution_count": 56,
   "metadata": {
    "ExecuteTime": {
     "end_time": "2020-09-01T20:30:47.468379Z",
     "start_time": "2020-09-01T20:30:47.429666Z"
    }
   },
   "outputs": [
    {
     "name": "stdout",
     "output_type": "stream",
     "text": [
      "2020-09-01\n"
     ]
    },
    {
     "data": {
      "application/javascript": [
       "\n",
       "            setTimeout(function() {\n",
       "                var nbb_cell_id = 56;\n",
       "                var nbb_unformatted_code = \"current_date = datetime.date.today()\\nprint(current_date)\";\n",
       "                var nbb_formatted_code = \"current_date = datetime.date.today()\\nprint(current_date)\";\n",
       "                var nbb_cells = Jupyter.notebook.get_cells();\n",
       "                for (var i = 0; i < nbb_cells.length; ++i) {\n",
       "                    if (nbb_cells[i].input_prompt_number == nbb_cell_id) {\n",
       "                        if (nbb_cells[i].get_text() == nbb_unformatted_code) {\n",
       "                             nbb_cells[i].set_text(nbb_formatted_code);\n",
       "                        }\n",
       "                        break;\n",
       "                    }\n",
       "                }\n",
       "            }, 500);\n",
       "            "
      ],
      "text/plain": [
       "<IPython.core.display.Javascript object>"
      ]
     },
     "metadata": {},
     "output_type": "display_data"
    }
   ],
   "source": [
    "current_date = datetime.date.today()\n",
    "print(current_date)"
   ]
  },
  {
   "cell_type": "code",
   "execution_count": 57,
   "metadata": {
    "ExecuteTime": {
     "end_time": "2020-09-01T20:31:08.363536Z",
     "start_time": "2020-09-01T20:30:49.300176Z"
    }
   },
   "outputs": [
    {
     "data": {
      "application/javascript": [
       "\n",
       "            setTimeout(function() {\n",
       "                var nbb_cell_id = 57;\n",
       "                var nbb_unformatted_code = \"# Update database based on current date\\n\\n# This can be made more efficient when appending\\n\\ndate_list = [\\n    (\\\"2020-08-30\\\", str(current_date)),\\n    #     (\\\"2016-04-03\\\", \\\"2016-10-02\\\"),   # didn't get\\n]\\n\\ndate_pair = date_list[0]\\ndf_sc = statcast(date_pair[0], date_pair[1])\\ndf_sc.to_sql(\\\"statcast2020\\\", engine, if_exists=\\\"append\\\")\\n\\n# for i, date_pair in enumerate(date_list):\\n#     if i < 1: # don't think this makes sense\\n#         df_sc = statcast(date_pair[0], date_pair[1])\\n#         df_sc.to_sql(\\\"statcast2020\\\", engine, if_exists=\\\"replace\\\")\\n#         print(date_pair, \\\"replace mode\\\")\\n#     else:\\n#         df_sc = statcast(date_pair[0], date_pair[1])\\n#         df_sc.to_sql(\\\"statcast2020\\\", engine, if_exists=\\\"append\\\")\\n#         print(date_pair, \\\"append mode\\\")\";\n",
       "                var nbb_formatted_code = \"# Update database based on current date\\n\\n# This can be made more efficient when appending\\n\\ndate_list = [\\n    (\\\"2020-08-30\\\", str(current_date)),\\n    #     (\\\"2016-04-03\\\", \\\"2016-10-02\\\"),   # didn't get\\n]\\n\\ndate_pair = date_list[0]\\ndf_sc = statcast(date_pair[0], date_pair[1])\\ndf_sc.to_sql(\\\"statcast2020\\\", engine, if_exists=\\\"append\\\")\\n\\n# for i, date_pair in enumerate(date_list):\\n#     if i < 1: # don't think this makes sense\\n#         df_sc = statcast(date_pair[0], date_pair[1])\\n#         df_sc.to_sql(\\\"statcast2020\\\", engine, if_exists=\\\"replace\\\")\\n#         print(date_pair, \\\"replace mode\\\")\\n#     else:\\n#         df_sc = statcast(date_pair[0], date_pair[1])\\n#         df_sc.to_sql(\\\"statcast2020\\\", engine, if_exists=\\\"append\\\")\\n#         print(date_pair, \\\"append mode\\\")\";\n",
       "                var nbb_cells = Jupyter.notebook.get_cells();\n",
       "                for (var i = 0; i < nbb_cells.length; ++i) {\n",
       "                    if (nbb_cells[i].input_prompt_number == nbb_cell_id) {\n",
       "                        if (nbb_cells[i].get_text() == nbb_unformatted_code) {\n",
       "                             nbb_cells[i].set_text(nbb_formatted_code);\n",
       "                        }\n",
       "                        break;\n",
       "                    }\n",
       "                }\n",
       "            }, 500);\n",
       "            "
      ],
      "text/plain": [
       "<IPython.core.display.Javascript object>"
      ]
     },
     "metadata": {},
     "output_type": "display_data"
    }
   ],
   "source": [
    "# Update database based on current date\n",
    "\n",
    "# This can be made more efficient when appending\n",
    "\n",
    "date_list = [\n",
    "    (\"2020-08-30\", str(current_date)),\n",
    "    #     (\"2016-04-03\", \"2016-10-02\"),   # didn't get\n",
    "]\n",
    "\n",
    "date_pair = date_list[0]\n",
    "df_sc = statcast(date_pair[0], date_pair[1])\n",
    "df_sc.to_sql(\"statcast2020\", engine, if_exists=\"append\")\n",
    "\n",
    "# for i, date_pair in enumerate(date_list):\n",
    "#     if i < 1: # don't think this makes sense\n",
    "#         df_sc = statcast(date_pair[0], date_pair[1])\n",
    "#         df_sc.to_sql(\"statcast2020\", engine, if_exists=\"replace\")\n",
    "#         print(date_pair, \"replace mode\")\n",
    "#     else:\n",
    "#         df_sc = statcast(date_pair[0], date_pair[1])\n",
    "#         df_sc.to_sql(\"statcast2020\", engine, if_exists=\"append\")\n",
    "#         print(date_pair, \"append mode\")"
   ]
  },
  {
   "cell_type": "code",
   "execution_count": 58,
   "metadata": {
    "ExecuteTime": {
     "end_time": "2020-09-01T20:31:13.292642Z",
     "start_time": "2020-09-01T20:31:13.279296Z"
    }
   },
   "outputs": [
    {
     "data": {
      "text/plain": [
       "(7923, 90)"
      ]
     },
     "execution_count": 58,
     "metadata": {},
     "output_type": "execute_result"
    },
    {
     "data": {
      "application/javascript": [
       "\n",
       "            setTimeout(function() {\n",
       "                var nbb_cell_id = 58;\n",
       "                var nbb_unformatted_code = \"df_sc.shape\";\n",
       "                var nbb_formatted_code = \"df_sc.shape\";\n",
       "                var nbb_cells = Jupyter.notebook.get_cells();\n",
       "                for (var i = 0; i < nbb_cells.length; ++i) {\n",
       "                    if (nbb_cells[i].input_prompt_number == nbb_cell_id) {\n",
       "                        if (nbb_cells[i].get_text() == nbb_unformatted_code) {\n",
       "                             nbb_cells[i].set_text(nbb_formatted_code);\n",
       "                        }\n",
       "                        break;\n",
       "                    }\n",
       "                }\n",
       "            }, 500);\n",
       "            "
      ],
      "text/plain": [
       "<IPython.core.display.Javascript object>"
      ]
     },
     "metadata": {},
     "output_type": "display_data"
    }
   ],
   "source": [
    "df_sc.shape"
   ]
  },
  {
   "cell_type": "code",
   "execution_count": 59,
   "metadata": {
    "ExecuteTime": {
     "end_time": "2020-09-01T20:31:14.989835Z",
     "start_time": "2020-09-01T20:31:14.972305Z"
    }
   },
   "outputs": [
    {
     "data": {
      "text/plain": [
       "Index(['index', 'pitch_type', 'game_date', 'release_speed', 'release_pos_x',\n",
       "       'release_pos_z', 'player_name', 'batter', 'pitcher', 'events',\n",
       "       'description', 'spin_dir', 'spin_rate_deprecated',\n",
       "       'break_angle_deprecated', 'break_length_deprecated', 'zone', 'des',\n",
       "       'game_type', 'stand', 'p_throws', 'home_team', 'away_team', 'type',\n",
       "       'hit_location', 'bb_type', 'balls', 'strikes', 'game_year', 'pfx_x',\n",
       "       'pfx_z', 'plate_x', 'plate_z', 'on_3b', 'on_2b', 'on_1b',\n",
       "       'outs_when_up', 'inning', 'inning_topbot', 'hc_x', 'hc_y',\n",
       "       'tfs_deprecated', 'tfs_zulu_deprecated', 'fielder_2', 'umpire', 'sv_id',\n",
       "       'vx0', 'vy0', 'vz0', 'ax', 'ay', 'az', 'sz_top', 'sz_bot',\n",
       "       'hit_distance_sc', 'launch_speed', 'launch_angle', 'effective_speed',\n",
       "       'release_spin_rate', 'release_extension', 'game_pk', 'pitcher.1',\n",
       "       'fielder_2.1', 'fielder_3', 'fielder_4', 'fielder_5', 'fielder_6',\n",
       "       'fielder_7', 'fielder_8', 'fielder_9', 'release_pos_y',\n",
       "       'estimated_ba_using_speedangle', 'estimated_woba_using_speedangle',\n",
       "       'woba_value', 'woba_denom', 'babip_value', 'iso_value',\n",
       "       'launch_speed_angle', 'at_bat_number', 'pitch_number', 'pitch_name',\n",
       "       'home_score', 'away_score', 'bat_score', 'fld_score', 'post_away_score',\n",
       "       'post_home_score', 'post_bat_score', 'post_fld_score',\n",
       "       'if_fielding_alignment', 'of_fielding_alignment'],\n",
       "      dtype='object')"
      ]
     },
     "execution_count": 59,
     "metadata": {},
     "output_type": "execute_result"
    },
    {
     "data": {
      "application/javascript": [
       "\n",
       "            setTimeout(function() {\n",
       "                var nbb_cell_id = 59;\n",
       "                var nbb_unformatted_code = \"df_sc.columns\";\n",
       "                var nbb_formatted_code = \"df_sc.columns\";\n",
       "                var nbb_cells = Jupyter.notebook.get_cells();\n",
       "                for (var i = 0; i < nbb_cells.length; ++i) {\n",
       "                    if (nbb_cells[i].input_prompt_number == nbb_cell_id) {\n",
       "                        if (nbb_cells[i].get_text() == nbb_unformatted_code) {\n",
       "                             nbb_cells[i].set_text(nbb_formatted_code);\n",
       "                        }\n",
       "                        break;\n",
       "                    }\n",
       "                }\n",
       "            }, 500);\n",
       "            "
      ],
      "text/plain": [
       "<IPython.core.display.Javascript object>"
      ]
     },
     "metadata": {},
     "output_type": "display_data"
    }
   ],
   "source": [
    "df_sc.columns"
   ]
  },
  {
   "cell_type": "code",
   "execution_count": 60,
   "metadata": {
    "ExecuteTime": {
     "end_time": "2020-09-01T20:31:18.147614Z",
     "start_time": "2020-09-01T20:31:17.312237Z"
    }
   },
   "outputs": [
    {
     "name": "stdout",
     "output_type": "stream",
     "text": [
      "No. of unique players:  1171\n"
     ]
    },
    {
     "data": {
      "application/javascript": [
       "\n",
       "            setTimeout(function() {\n",
       "                var nbb_cell_id = 60;\n",
       "                var nbb_unformatted_code = \"# Make a query to get all unique players\\n\\n# pitchers and batters\\nsql_query = \\\"\\\"\\\"\\n(SELECT DISTINCT pitcher FROM statcast2020)\\nUNION\\n(SELECT DISTINCT batter FROM statcast2020);\\n\\\"\\\"\\\"\\n\\n# Note parantheses around each one helps account for order by or limit\\n# which could kill subquery after first error\\n\\np_from_sql = pd.read_sql_query(sql_query, con)\\np_list = p_from_sql.iloc[:, 0].tolist()\\n\\n# Number of unique players\\nprint(\\\"No. of unique players: \\\", len(p_list))\";\n",
       "                var nbb_formatted_code = \"# Make a query to get all unique players\\n\\n# pitchers and batters\\nsql_query = \\\"\\\"\\\"\\n(SELECT DISTINCT pitcher FROM statcast2020)\\nUNION\\n(SELECT DISTINCT batter FROM statcast2020);\\n\\\"\\\"\\\"\\n\\n# Note parantheses around each one helps account for order by or limit\\n# which could kill subquery after first error\\n\\np_from_sql = pd.read_sql_query(sql_query, con)\\np_list = p_from_sql.iloc[:, 0].tolist()\\n\\n# Number of unique players\\nprint(\\\"No. of unique players: \\\", len(p_list))\";\n",
       "                var nbb_cells = Jupyter.notebook.get_cells();\n",
       "                for (var i = 0; i < nbb_cells.length; ++i) {\n",
       "                    if (nbb_cells[i].input_prompt_number == nbb_cell_id) {\n",
       "                        if (nbb_cells[i].get_text() == nbb_unformatted_code) {\n",
       "                             nbb_cells[i].set_text(nbb_formatted_code);\n",
       "                        }\n",
       "                        break;\n",
       "                    }\n",
       "                }\n",
       "            }, 500);\n",
       "            "
      ],
      "text/plain": [
       "<IPython.core.display.Javascript object>"
      ]
     },
     "metadata": {},
     "output_type": "display_data"
    }
   ],
   "source": [
    "# Make a query to get all unique players\n",
    "\n",
    "# pitchers and batters\n",
    "sql_query = \"\"\"\n",
    "(SELECT DISTINCT pitcher FROM statcast2020)\n",
    "UNION\n",
    "(SELECT DISTINCT batter FROM statcast2020);\n",
    "\"\"\"\n",
    "\n",
    "# Note parantheses around each one helps account for order by or limit\n",
    "# which could kill subquery after first error\n",
    "\n",
    "p_from_sql = pd.read_sql_query(sql_query, con)\n",
    "p_list = p_from_sql.iloc[:, 0].tolist()\n",
    "\n",
    "# Number of unique players\n",
    "print(\"No. of unique players: \", len(p_list))"
   ]
  },
  {
   "cell_type": "code",
   "execution_count": 61,
   "metadata": {
    "ExecuteTime": {
     "end_time": "2020-09-01T20:31:35.065896Z",
     "start_time": "2020-09-01T20:31:22.731364Z"
    }
   },
   "outputs": [
    {
     "name": "stdout",
     "output_type": "stream",
     "text": [
      "Gathering player lookup table. This may take a moment.\n"
     ]
    },
    {
     "data": {
      "application/javascript": [
       "\n",
       "            setTimeout(function() {\n",
       "                var nbb_cell_id = 61;\n",
       "                var nbb_unformatted_code = \"# find the names of the players in player_ids, along with their ids from other data sources\\ndf_pid = playerid_reverse_lookup(p_list, key_type=\\\"mlbam\\\")\\ndf_pid.to_sql(\\\"player_id\\\", engine, if_exists=\\\"append\\\")\";\n",
       "                var nbb_formatted_code = \"# find the names of the players in player_ids, along with their ids from other data sources\\ndf_pid = playerid_reverse_lookup(p_list, key_type=\\\"mlbam\\\")\\ndf_pid.to_sql(\\\"player_id\\\", engine, if_exists=\\\"append\\\")\";\n",
       "                var nbb_cells = Jupyter.notebook.get_cells();\n",
       "                for (var i = 0; i < nbb_cells.length; ++i) {\n",
       "                    if (nbb_cells[i].input_prompt_number == nbb_cell_id) {\n",
       "                        if (nbb_cells[i].get_text() == nbb_unformatted_code) {\n",
       "                             nbb_cells[i].set_text(nbb_formatted_code);\n",
       "                        }\n",
       "                        break;\n",
       "                    }\n",
       "                }\n",
       "            }, 500);\n",
       "            "
      ],
      "text/plain": [
       "<IPython.core.display.Javascript object>"
      ]
     },
     "metadata": {},
     "output_type": "display_data"
    }
   ],
   "source": [
    "# find the names of the players in player_ids, along with their ids from other data sources\n",
    "df_pid = playerid_reverse_lookup(p_list, key_type=\"mlbam\")\n",
    "df_pid.to_sql(\"player_id\", engine, if_exists=\"append\")"
   ]
  },
  {
   "cell_type": "markdown",
   "metadata": {},
   "source": [
    "# Show tables and what statcast table looks like"
   ]
  },
  {
   "cell_type": "code",
   "execution_count": 62,
   "metadata": {
    "ExecuteTime": {
     "end_time": "2020-09-01T20:31:39.436602Z",
     "start_time": "2020-09-01T20:31:39.266978Z"
    }
   },
   "outputs": [
    {
     "data": {
      "text/html": [
       "<div>\n",
       "<style scoped>\n",
       "    .dataframe tbody tr th:only-of-type {\n",
       "        vertical-align: middle;\n",
       "    }\n",
       "\n",
       "    .dataframe tbody tr th {\n",
       "        vertical-align: top;\n",
       "    }\n",
       "\n",
       "    .dataframe thead th {\n",
       "        text-align: right;\n",
       "    }\n",
       "</style>\n",
       "<table border=\"1\" class=\"dataframe\">\n",
       "  <thead>\n",
       "    <tr style=\"text-align: right;\">\n",
       "      <th></th>\n",
       "      <th>table_name</th>\n",
       "    </tr>\n",
       "  </thead>\n",
       "  <tbody>\n",
       "    <tr>\n",
       "      <th>0</th>\n",
       "      <td>statcast</td>\n",
       "    </tr>\n",
       "    <tr>\n",
       "      <th>1</th>\n",
       "      <td>player_id</td>\n",
       "    </tr>\n",
       "    <tr>\n",
       "      <th>2</th>\n",
       "      <td>batting_stats</td>\n",
       "    </tr>\n",
       "    <tr>\n",
       "      <th>3</th>\n",
       "      <td>pitching_stats</td>\n",
       "    </tr>\n",
       "    <tr>\n",
       "      <th>4</th>\n",
       "      <td>pitching_stats_wpid</td>\n",
       "    </tr>\n",
       "    <tr>\n",
       "      <th>5</th>\n",
       "      <td>batting_stats18_wpid</td>\n",
       "    </tr>\n",
       "    <tr>\n",
       "      <th>6</th>\n",
       "      <td>statcast_15</td>\n",
       "    </tr>\n",
       "    <tr>\n",
       "      <th>7</th>\n",
       "      <td>statcast_16</td>\n",
       "    </tr>\n",
       "    <tr>\n",
       "      <th>8</th>\n",
       "      <td>temp_table</td>\n",
       "    </tr>\n",
       "    <tr>\n",
       "      <th>9</th>\n",
       "      <td>input_table</td>\n",
       "    </tr>\n",
       "    <tr>\n",
       "      <th>10</th>\n",
       "      <td>statcast2020</td>\n",
       "    </tr>\n",
       "    <tr>\n",
       "      <th>11</th>\n",
       "      <td>attendance_events</td>\n",
       "    </tr>\n",
       "    <tr>\n",
       "      <th>12</th>\n",
       "      <td>temp_table1</td>\n",
       "    </tr>\n",
       "    <tr>\n",
       "      <th>13</th>\n",
       "      <td>temp_table2</td>\n",
       "    </tr>\n",
       "    <tr>\n",
       "      <th>14</th>\n",
       "      <td>all_students</td>\n",
       "    </tr>\n",
       "    <tr>\n",
       "      <th>15</th>\n",
       "      <td>statcast_simple</td>\n",
       "    </tr>\n",
       "    <tr>\n",
       "      <th>16</th>\n",
       "      <td>page_actions</td>\n",
       "    </tr>\n",
       "    <tr>\n",
       "      <th>17</th>\n",
       "      <td>user_summary</td>\n",
       "    </tr>\n",
       "  </tbody>\n",
       "</table>\n",
       "</div>"
      ],
      "text/plain": [
       "              table_name\n",
       "0               statcast\n",
       "1              player_id\n",
       "2          batting_stats\n",
       "3         pitching_stats\n",
       "4    pitching_stats_wpid\n",
       "5   batting_stats18_wpid\n",
       "6            statcast_15\n",
       "7            statcast_16\n",
       "8             temp_table\n",
       "9            input_table\n",
       "10          statcast2020\n",
       "11     attendance_events\n",
       "12           temp_table1\n",
       "13           temp_table2\n",
       "14          all_students\n",
       "15       statcast_simple\n",
       "16          page_actions\n",
       "17          user_summary"
      ]
     },
     "execution_count": 62,
     "metadata": {},
     "output_type": "execute_result"
    },
    {
     "data": {
      "application/javascript": [
       "\n",
       "            setTimeout(function() {\n",
       "                var nbb_cell_id = 62;\n",
       "                var nbb_unformatted_code = \"# Show all tables\\nsql_query = \\\"\\\"\\\"\\nSELECT table_name\\nFROM information_schema.tables\\nWHERE table_schema='public'\\nAND table_type='BASE TABLE';\\n\\\"\\\"\\\"\\ndf_query = pd.read_sql_query(sql_query, con)\\ndf_query\";\n",
       "                var nbb_formatted_code = \"# Show all tables\\nsql_query = \\\"\\\"\\\"\\nSELECT table_name\\nFROM information_schema.tables\\nWHERE table_schema='public'\\nAND table_type='BASE TABLE';\\n\\\"\\\"\\\"\\ndf_query = pd.read_sql_query(sql_query, con)\\ndf_query\";\n",
       "                var nbb_cells = Jupyter.notebook.get_cells();\n",
       "                for (var i = 0; i < nbb_cells.length; ++i) {\n",
       "                    if (nbb_cells[i].input_prompt_number == nbb_cell_id) {\n",
       "                        if (nbb_cells[i].get_text() == nbb_unformatted_code) {\n",
       "                             nbb_cells[i].set_text(nbb_formatted_code);\n",
       "                        }\n",
       "                        break;\n",
       "                    }\n",
       "                }\n",
       "            }, 500);\n",
       "            "
      ],
      "text/plain": [
       "<IPython.core.display.Javascript object>"
      ]
     },
     "metadata": {},
     "output_type": "display_data"
    }
   ],
   "source": [
    "# Show all tables\n",
    "sql_query = \"\"\"\n",
    "SELECT table_name\n",
    "FROM information_schema.tables\n",
    "WHERE table_schema='public'\n",
    "AND table_type='BASE TABLE';\n",
    "\"\"\"\n",
    "df_query = pd.read_sql_query(sql_query, con)\n",
    "df_query"
   ]
  },
  {
   "cell_type": "markdown",
   "metadata": {
    "ExecuteTime": {
     "end_time": "2020-08-09T20:52:24.133043Z",
     "start_time": "2020-08-09T20:52:24.125354Z"
    }
   },
   "source": [
    "## Test queries"
   ]
  },
  {
   "cell_type": "code",
   "execution_count": 63,
   "metadata": {
    "ExecuteTime": {
     "end_time": "2020-09-01T20:31:42.772109Z",
     "start_time": "2020-09-01T20:31:42.590330Z"
    }
   },
   "outputs": [
    {
     "data": {
      "text/html": [
       "<div>\n",
       "<style scoped>\n",
       "    .dataframe tbody tr th:only-of-type {\n",
       "        vertical-align: middle;\n",
       "    }\n",
       "\n",
       "    .dataframe tbody tr th {\n",
       "        vertical-align: top;\n",
       "    }\n",
       "\n",
       "    .dataframe thead th {\n",
       "        text-align: right;\n",
       "    }\n",
       "</style>\n",
       "<table border=\"1\" class=\"dataframe\">\n",
       "  <thead>\n",
       "    <tr style=\"text-align: right;\">\n",
       "      <th></th>\n",
       "      <th>level_0</th>\n",
       "      <th>index</th>\n",
       "      <th>pitch_type</th>\n",
       "      <th>game_date</th>\n",
       "      <th>release_speed</th>\n",
       "      <th>release_pos_x</th>\n",
       "      <th>release_pos_z</th>\n",
       "      <th>player_name</th>\n",
       "      <th>batter</th>\n",
       "      <th>pitcher</th>\n",
       "      <th>...</th>\n",
       "      <th>home_score</th>\n",
       "      <th>away_score</th>\n",
       "      <th>bat_score</th>\n",
       "      <th>fld_score</th>\n",
       "      <th>post_away_score</th>\n",
       "      <th>post_home_score</th>\n",
       "      <th>post_bat_score</th>\n",
       "      <th>post_fld_score</th>\n",
       "      <th>if_fielding_alignment</th>\n",
       "      <th>of_fielding_alignment</th>\n",
       "    </tr>\n",
       "  </thead>\n",
       "  <tbody>\n",
       "    <tr>\n",
       "      <th>0</th>\n",
       "      <td>0</td>\n",
       "      <td>117</td>\n",
       "      <td>FC</td>\n",
       "      <td>2020-08-31</td>\n",
       "      <td>91.9</td>\n",
       "      <td>-2.645198</td>\n",
       "      <td>6.464136</td>\n",
       "      <td>Mark Melancon</td>\n",
       "      <td>606299.0</td>\n",
       "      <td>453343.0</td>\n",
       "      <td>...</td>\n",
       "      <td>3.0</td>\n",
       "      <td>6.0</td>\n",
       "      <td>3.0</td>\n",
       "      <td>6.0</td>\n",
       "      <td>6.0</td>\n",
       "      <td>3.0</td>\n",
       "      <td>3.0</td>\n",
       "      <td>6.0</td>\n",
       "      <td>Standard</td>\n",
       "      <td>Standard</td>\n",
       "    </tr>\n",
       "    <tr>\n",
       "      <th>1</th>\n",
       "      <td>1</td>\n",
       "      <td>123</td>\n",
       "      <td>FC</td>\n",
       "      <td>2020-08-31</td>\n",
       "      <td>92.8</td>\n",
       "      <td>-2.661022</td>\n",
       "      <td>6.411351</td>\n",
       "      <td>Mark Melancon</td>\n",
       "      <td>606299.0</td>\n",
       "      <td>453343.0</td>\n",
       "      <td>...</td>\n",
       "      <td>3.0</td>\n",
       "      <td>6.0</td>\n",
       "      <td>3.0</td>\n",
       "      <td>6.0</td>\n",
       "      <td>6.0</td>\n",
       "      <td>3.0</td>\n",
       "      <td>3.0</td>\n",
       "      <td>6.0</td>\n",
       "      <td>Standard</td>\n",
       "      <td>Standard</td>\n",
       "    </tr>\n",
       "    <tr>\n",
       "      <th>2</th>\n",
       "      <td>2</td>\n",
       "      <td>133</td>\n",
       "      <td>KC</td>\n",
       "      <td>2020-08-31</td>\n",
       "      <td>82.6</td>\n",
       "      <td>-2.377211</td>\n",
       "      <td>6.449001</td>\n",
       "      <td>Mark Melancon</td>\n",
       "      <td>660620.0</td>\n",
       "      <td>453343.0</td>\n",
       "      <td>...</td>\n",
       "      <td>3.0</td>\n",
       "      <td>6.0</td>\n",
       "      <td>3.0</td>\n",
       "      <td>6.0</td>\n",
       "      <td>6.0</td>\n",
       "      <td>3.0</td>\n",
       "      <td>3.0</td>\n",
       "      <td>6.0</td>\n",
       "      <td>Infield shift</td>\n",
       "      <td>Standard</td>\n",
       "    </tr>\n",
       "  </tbody>\n",
       "</table>\n",
       "<p>3 rows × 91 columns</p>\n",
       "</div>"
      ],
      "text/plain": [
       "   level_0  index pitch_type  game_date  release_speed  release_pos_x  \\\n",
       "0        0    117         FC 2020-08-31           91.9      -2.645198   \n",
       "1        1    123         FC 2020-08-31           92.8      -2.661022   \n",
       "2        2    133         KC 2020-08-31           82.6      -2.377211   \n",
       "\n",
       "   release_pos_z    player_name    batter   pitcher  ... home_score  \\\n",
       "0       6.464136  Mark Melancon  606299.0  453343.0  ...        3.0   \n",
       "1       6.411351  Mark Melancon  606299.0  453343.0  ...        3.0   \n",
       "2       6.449001  Mark Melancon  660620.0  453343.0  ...        3.0   \n",
       "\n",
       "  away_score bat_score fld_score post_away_score post_home_score  \\\n",
       "0        6.0       3.0       6.0             6.0             3.0   \n",
       "1        6.0       3.0       6.0             6.0             3.0   \n",
       "2        6.0       3.0       6.0             6.0             3.0   \n",
       "\n",
       "   post_bat_score post_fld_score if_fielding_alignment of_fielding_alignment  \n",
       "0             3.0            6.0              Standard              Standard  \n",
       "1             3.0            6.0              Standard              Standard  \n",
       "2             3.0            6.0         Infield shift              Standard  \n",
       "\n",
       "[3 rows x 91 columns]"
      ]
     },
     "execution_count": 63,
     "metadata": {},
     "output_type": "execute_result"
    },
    {
     "data": {
      "application/javascript": [
       "\n",
       "            setTimeout(function() {\n",
       "                var nbb_cell_id = 63;\n",
       "                var nbb_unformatted_code = \"# Check statcast query, see latest date\\nsql_query = \\\"\\\"\\\"\\nSELECT *\\nFROM statcast2020\\nORDER BY game_date DESC\\nLIMIT 3;\\n\\\"\\\"\\\"\\npd.read_sql_query(sql_query, con)\";\n",
       "                var nbb_formatted_code = \"# Check statcast query, see latest date\\nsql_query = \\\"\\\"\\\"\\nSELECT *\\nFROM statcast2020\\nORDER BY game_date DESC\\nLIMIT 3;\\n\\\"\\\"\\\"\\npd.read_sql_query(sql_query, con)\";\n",
       "                var nbb_cells = Jupyter.notebook.get_cells();\n",
       "                for (var i = 0; i < nbb_cells.length; ++i) {\n",
       "                    if (nbb_cells[i].input_prompt_number == nbb_cell_id) {\n",
       "                        if (nbb_cells[i].get_text() == nbb_unformatted_code) {\n",
       "                             nbb_cells[i].set_text(nbb_formatted_code);\n",
       "                        }\n",
       "                        break;\n",
       "                    }\n",
       "                }\n",
       "            }, 500);\n",
       "            "
      ],
      "text/plain": [
       "<IPython.core.display.Javascript object>"
      ]
     },
     "metadata": {},
     "output_type": "display_data"
    }
   ],
   "source": [
    "# Check statcast query, see latest date\n",
    "sql_query = \"\"\"\n",
    "SELECT *\n",
    "FROM statcast2020\n",
    "ORDER BY game_date DESC\n",
    "LIMIT 3;\n",
    "\"\"\"\n",
    "pd.read_sql_query(sql_query, con)"
   ]
  },
  {
   "cell_type": "code",
   "execution_count": 19,
   "metadata": {
    "ExecuteTime": {
     "end_time": "2020-08-28T01:04:06.084989Z",
     "start_time": "2020-08-28T01:04:06.058064Z"
    }
   },
   "outputs": [
    {
     "data": {
      "text/html": [
       "<div>\n",
       "<style scoped>\n",
       "    .dataframe tbody tr th:only-of-type {\n",
       "        vertical-align: middle;\n",
       "    }\n",
       "\n",
       "    .dataframe tbody tr th {\n",
       "        vertical-align: top;\n",
       "    }\n",
       "\n",
       "    .dataframe thead th {\n",
       "        text-align: right;\n",
       "    }\n",
       "</style>\n",
       "<table border=\"1\" class=\"dataframe\">\n",
       "  <thead>\n",
       "    <tr style=\"text-align: right;\">\n",
       "      <th></th>\n",
       "      <th>index</th>\n",
       "      <th>name_last</th>\n",
       "      <th>name_first</th>\n",
       "      <th>key_mlbam</th>\n",
       "      <th>key_retro</th>\n",
       "      <th>key_bbref</th>\n",
       "      <th>key_fangraphs</th>\n",
       "      <th>mlb_played_first</th>\n",
       "      <th>mlb_played_last</th>\n",
       "    </tr>\n",
       "  </thead>\n",
       "  <tbody>\n",
       "    <tr>\n",
       "      <th>0</th>\n",
       "      <td>0</td>\n",
       "      <td>abad</td>\n",
       "      <td>fernando</td>\n",
       "      <td>472551</td>\n",
       "      <td>abadf001</td>\n",
       "      <td>abadfe01</td>\n",
       "      <td>4994</td>\n",
       "      <td>2010.0</td>\n",
       "      <td>2019.0</td>\n",
       "    </tr>\n",
       "    <tr>\n",
       "      <th>1</th>\n",
       "      <td>1</td>\n",
       "      <td>abreu</td>\n",
       "      <td>bryan</td>\n",
       "      <td>650556</td>\n",
       "      <td>abreb002</td>\n",
       "      <td>abreubr01</td>\n",
       "      <td>16609</td>\n",
       "      <td>2019.0</td>\n",
       "      <td>2019.0</td>\n",
       "    </tr>\n",
       "    <tr>\n",
       "      <th>2</th>\n",
       "      <td>2</td>\n",
       "      <td>abreu</td>\n",
       "      <td>jose</td>\n",
       "      <td>547989</td>\n",
       "      <td>abrej003</td>\n",
       "      <td>abreujo02</td>\n",
       "      <td>15676</td>\n",
       "      <td>2014.0</td>\n",
       "      <td>2019.0</td>\n",
       "    </tr>\n",
       "  </tbody>\n",
       "</table>\n",
       "</div>"
      ],
      "text/plain": [
       "   index name_last name_first  key_mlbam key_retro  key_bbref  key_fangraphs  \\\n",
       "0      0      abad   fernando     472551  abadf001   abadfe01           4994   \n",
       "1      1     abreu      bryan     650556  abreb002  abreubr01          16609   \n",
       "2      2     abreu       jose     547989  abrej003  abreujo02          15676   \n",
       "\n",
       "   mlb_played_first  mlb_played_last  \n",
       "0            2010.0           2019.0  \n",
       "1            2019.0           2019.0  \n",
       "2            2014.0           2019.0  "
      ]
     },
     "execution_count": 19,
     "metadata": {},
     "output_type": "execute_result"
    },
    {
     "data": {
      "application/javascript": [
       "\n",
       "            setTimeout(function() {\n",
       "                var nbb_cell_id = 19;\n",
       "                var nbb_unformatted_code = \"# Check player_id query\\nsql_query = \\\"\\\"\\\"\\nSELECT *\\nFROM player_id\\nLIMIT 3;\\n\\\"\\\"\\\"\\npd.read_sql_query(sql_query, con)\";\n",
       "                var nbb_formatted_code = \"# Check player_id query\\nsql_query = \\\"\\\"\\\"\\nSELECT *\\nFROM player_id\\nLIMIT 3;\\n\\\"\\\"\\\"\\npd.read_sql_query(sql_query, con)\";\n",
       "                var nbb_cells = Jupyter.notebook.get_cells();\n",
       "                for (var i = 0; i < nbb_cells.length; ++i) {\n",
       "                    if (nbb_cells[i].input_prompt_number == nbb_cell_id) {\n",
       "                        if (nbb_cells[i].get_text() == nbb_unformatted_code) {\n",
       "                             nbb_cells[i].set_text(nbb_formatted_code);\n",
       "                        }\n",
       "                        break;\n",
       "                    }\n",
       "                }\n",
       "            }, 500);\n",
       "            "
      ],
      "text/plain": [
       "<IPython.core.display.Javascript object>"
      ]
     },
     "metadata": {},
     "output_type": "display_data"
    }
   ],
   "source": [
    "# Check player_id query\n",
    "sql_query = \"\"\"\n",
    "SELECT *\n",
    "FROM player_id\n",
    "LIMIT 3;\n",
    "\"\"\"\n",
    "pd.read_sql_query(sql_query, con)"
   ]
  },
  {
   "cell_type": "code",
   "execution_count": 20,
   "metadata": {
    "ExecuteTime": {
     "end_time": "2020-08-28T01:04:12.512014Z",
     "start_time": "2020-08-28T01:04:12.458000Z"
    }
   },
   "outputs": [
    {
     "data": {
      "text/html": [
       "<div>\n",
       "<style scoped>\n",
       "    .dataframe tbody tr th:only-of-type {\n",
       "        vertical-align: middle;\n",
       "    }\n",
       "\n",
       "    .dataframe tbody tr th {\n",
       "        vertical-align: top;\n",
       "    }\n",
       "\n",
       "    .dataframe thead th {\n",
       "        text-align: right;\n",
       "    }\n",
       "</style>\n",
       "<table border=\"1\" class=\"dataframe\">\n",
       "  <thead>\n",
       "    <tr style=\"text-align: right;\">\n",
       "      <th></th>\n",
       "      <th>count</th>\n",
       "    </tr>\n",
       "  </thead>\n",
       "  <tbody>\n",
       "    <tr>\n",
       "      <th>0</th>\n",
       "      <td>5134</td>\n",
       "    </tr>\n",
       "  </tbody>\n",
       "</table>\n",
       "</div>"
      ],
      "text/plain": [
       "   count\n",
       "0   5134"
      ]
     },
     "execution_count": 20,
     "metadata": {},
     "output_type": "execute_result"
    },
    {
     "data": {
      "application/javascript": [
       "\n",
       "            setTimeout(function() {\n",
       "                var nbb_cell_id = 20;\n",
       "                var nbb_unformatted_code = \"# Check player_id query\\nsql_query = \\\"\\\"\\\"\\nSELECT COUNT(*)\\nFROM player_id;\\n\\\"\\\"\\\"\\npd.read_sql_query(sql_query, con)\";\n",
       "                var nbb_formatted_code = \"# Check player_id query\\nsql_query = \\\"\\\"\\\"\\nSELECT COUNT(*)\\nFROM player_id;\\n\\\"\\\"\\\"\\npd.read_sql_query(sql_query, con)\";\n",
       "                var nbb_cells = Jupyter.notebook.get_cells();\n",
       "                for (var i = 0; i < nbb_cells.length; ++i) {\n",
       "                    if (nbb_cells[i].input_prompt_number == nbb_cell_id) {\n",
       "                        if (nbb_cells[i].get_text() == nbb_unformatted_code) {\n",
       "                             nbb_cells[i].set_text(nbb_formatted_code);\n",
       "                        }\n",
       "                        break;\n",
       "                    }\n",
       "                }\n",
       "            }, 500);\n",
       "            "
      ],
      "text/plain": [
       "<IPython.core.display.Javascript object>"
      ]
     },
     "metadata": {},
     "output_type": "display_data"
    }
   ],
   "source": [
    "# Check player_id query\n",
    "sql_query = \"\"\"\n",
    "SELECT COUNT(*)\n",
    "FROM player_id;\n",
    "\"\"\"\n",
    "pd.read_sql_query(sql_query, con)"
   ]
  },
  {
   "cell_type": "markdown",
   "metadata": {},
   "source": [
    "# Generating a running total of hits"
   ]
  },
  {
   "cell_type": "code",
   "execution_count": null,
   "metadata": {},
   "outputs": [],
   "source": [
    "# Get Padres statcast data only\n",
    "\n",
    "sql_query = \"\"\"\n",
    "SELECT COUNT(*)\n",
    "FROM player_id;\n",
    "\"\"\"\n",
    "pd.read_sql_query(sql_query, con)"
   ]
  },
  {
   "cell_type": "markdown",
   "metadata": {},
   "source": [
    "# Machado's stats"
   ]
  },
  {
   "cell_type": "code",
   "execution_count": 64,
   "metadata": {
    "ExecuteTime": {
     "end_time": "2020-09-01T20:31:50.396918Z",
     "start_time": "2020-09-01T20:31:50.239784Z"
    }
   },
   "outputs": [
    {
     "data": {
      "text/html": [
       "<div>\n",
       "<style scoped>\n",
       "    .dataframe tbody tr th:only-of-type {\n",
       "        vertical-align: middle;\n",
       "    }\n",
       "\n",
       "    .dataframe tbody tr th {\n",
       "        vertical-align: top;\n",
       "    }\n",
       "\n",
       "    .dataframe thead th {\n",
       "        text-align: right;\n",
       "    }\n",
       "</style>\n",
       "<table border=\"1\" class=\"dataframe\">\n",
       "  <thead>\n",
       "    <tr style=\"text-align: right;\">\n",
       "      <th></th>\n",
       "      <th>index</th>\n",
       "      <th>name_last</th>\n",
       "      <th>name_first</th>\n",
       "      <th>key_mlbam</th>\n",
       "      <th>key_retro</th>\n",
       "      <th>key_bbref</th>\n",
       "      <th>key_fangraphs</th>\n",
       "      <th>mlb_played_first</th>\n",
       "      <th>mlb_played_last</th>\n",
       "    </tr>\n",
       "  </thead>\n",
       "  <tbody>\n",
       "    <tr>\n",
       "      <th>0</th>\n",
       "      <td>1050</td>\n",
       "      <td>machado</td>\n",
       "      <td>andres</td>\n",
       "      <td>600921</td>\n",
       "      <td>macha003</td>\n",
       "      <td>machaan02</td>\n",
       "      <td>14681</td>\n",
       "      <td>2017.0</td>\n",
       "      <td>2017.0</td>\n",
       "    </tr>\n",
       "    <tr>\n",
       "      <th>1</th>\n",
       "      <td>1051</td>\n",
       "      <td>machado</td>\n",
       "      <td>dixon</td>\n",
       "      <td>553988</td>\n",
       "      <td>machd001</td>\n",
       "      <td>machadi01</td>\n",
       "      <td>11472</td>\n",
       "      <td>2015.0</td>\n",
       "      <td>2018.0</td>\n",
       "    </tr>\n",
       "    <tr>\n",
       "      <th>2</th>\n",
       "      <td>1052</td>\n",
       "      <td>machado</td>\n",
       "      <td>manny</td>\n",
       "      <td>592518</td>\n",
       "      <td>machm001</td>\n",
       "      <td>machama01</td>\n",
       "      <td>11493</td>\n",
       "      <td>2012.0</td>\n",
       "      <td>2019.0</td>\n",
       "    </tr>\n",
       "    <tr>\n",
       "      <th>3</th>\n",
       "      <td>560</td>\n",
       "      <td>machado</td>\n",
       "      <td>manny</td>\n",
       "      <td>592518</td>\n",
       "      <td>machm001</td>\n",
       "      <td>machama01</td>\n",
       "      <td>11493</td>\n",
       "      <td>2012.0</td>\n",
       "      <td>2020.0</td>\n",
       "    </tr>\n",
       "    <tr>\n",
       "      <th>4</th>\n",
       "      <td>560</td>\n",
       "      <td>machado</td>\n",
       "      <td>manny</td>\n",
       "      <td>592518</td>\n",
       "      <td>machm001</td>\n",
       "      <td>machama01</td>\n",
       "      <td>11493</td>\n",
       "      <td>2012.0</td>\n",
       "      <td>2020.0</td>\n",
       "    </tr>\n",
       "    <tr>\n",
       "      <th>5</th>\n",
       "      <td>632</td>\n",
       "      <td>machado</td>\n",
       "      <td>manny</td>\n",
       "      <td>592518</td>\n",
       "      <td>machm001</td>\n",
       "      <td>machama01</td>\n",
       "      <td>11493</td>\n",
       "      <td>2012.0</td>\n",
       "      <td>2020.0</td>\n",
       "    </tr>\n",
       "    <tr>\n",
       "      <th>6</th>\n",
       "      <td>643</td>\n",
       "      <td>machado</td>\n",
       "      <td>manny</td>\n",
       "      <td>592518</td>\n",
       "      <td>machm001</td>\n",
       "      <td>machama01</td>\n",
       "      <td>11493</td>\n",
       "      <td>2012.0</td>\n",
       "      <td>2020.0</td>\n",
       "    </tr>\n",
       "  </tbody>\n",
       "</table>\n",
       "</div>"
      ],
      "text/plain": [
       "   index name_last name_first  key_mlbam key_retro  key_bbref  key_fangraphs  \\\n",
       "0   1050   machado     andres     600921  macha003  machaan02          14681   \n",
       "1   1051   machado      dixon     553988  machd001  machadi01          11472   \n",
       "2   1052   machado      manny     592518  machm001  machama01          11493   \n",
       "3    560   machado      manny     592518  machm001  machama01          11493   \n",
       "4    560   machado      manny     592518  machm001  machama01          11493   \n",
       "5    632   machado      manny     592518  machm001  machama01          11493   \n",
       "6    643   machado      manny     592518  machm001  machama01          11493   \n",
       "\n",
       "   mlb_played_first  mlb_played_last  \n",
       "0            2017.0           2017.0  \n",
       "1            2015.0           2018.0  \n",
       "2            2012.0           2019.0  \n",
       "3            2012.0           2020.0  \n",
       "4            2012.0           2020.0  \n",
       "5            2012.0           2020.0  \n",
       "6            2012.0           2020.0  "
      ]
     },
     "execution_count": 64,
     "metadata": {},
     "output_type": "execute_result"
    },
    {
     "data": {
      "application/javascript": [
       "\n",
       "            setTimeout(function() {\n",
       "                var nbb_cell_id = 64;\n",
       "                var nbb_unformatted_code = \"sql_query = \\\"\\\"\\\"\\nSELECT *\\nFROM player_id\\nWHERE name_last = 'machado';\\n\\\"\\\"\\\"\\npd.read_sql_query(sql_query, con)\";\n",
       "                var nbb_formatted_code = \"sql_query = \\\"\\\"\\\"\\nSELECT *\\nFROM player_id\\nWHERE name_last = 'machado';\\n\\\"\\\"\\\"\\npd.read_sql_query(sql_query, con)\";\n",
       "                var nbb_cells = Jupyter.notebook.get_cells();\n",
       "                for (var i = 0; i < nbb_cells.length; ++i) {\n",
       "                    if (nbb_cells[i].input_prompt_number == nbb_cell_id) {\n",
       "                        if (nbb_cells[i].get_text() == nbb_unformatted_code) {\n",
       "                             nbb_cells[i].set_text(nbb_formatted_code);\n",
       "                        }\n",
       "                        break;\n",
       "                    }\n",
       "                }\n",
       "            }, 500);\n",
       "            "
      ],
      "text/plain": [
       "<IPython.core.display.Javascript object>"
      ]
     },
     "metadata": {},
     "output_type": "display_data"
    }
   ],
   "source": [
    "sql_query = \"\"\"\n",
    "SELECT *\n",
    "FROM player_id\n",
    "WHERE name_last = 'machado';\n",
    "\"\"\"\n",
    "pd.read_sql_query(sql_query, con)"
   ]
  },
  {
   "cell_type": "code",
   "execution_count": 25,
   "metadata": {
    "ExecuteTime": {
     "end_time": "2020-08-28T01:08:49.261957Z",
     "start_time": "2020-08-28T01:08:49.190157Z"
    }
   },
   "outputs": [
    {
     "data": {
      "text/html": [
       "<div>\n",
       "<style scoped>\n",
       "    .dataframe tbody tr th:only-of-type {\n",
       "        vertical-align: middle;\n",
       "    }\n",
       "\n",
       "    .dataframe tbody tr th {\n",
       "        vertical-align: top;\n",
       "    }\n",
       "\n",
       "    .dataframe thead th {\n",
       "        text-align: right;\n",
       "    }\n",
       "</style>\n",
       "<table border=\"1\" class=\"dataframe\">\n",
       "  <thead>\n",
       "    <tr style=\"text-align: right;\">\n",
       "      <th></th>\n",
       "      <th>key_mlbam</th>\n",
       "    </tr>\n",
       "  </thead>\n",
       "  <tbody>\n",
       "    <tr>\n",
       "      <th>0</th>\n",
       "      <td>592518</td>\n",
       "    </tr>\n",
       "  </tbody>\n",
       "</table>\n",
       "</div>"
      ],
      "text/plain": [
       "   key_mlbam\n",
       "0     592518"
      ]
     },
     "execution_count": 25,
     "metadata": {},
     "output_type": "execute_result"
    },
    {
     "data": {
      "application/javascript": [
       "\n",
       "            setTimeout(function() {\n",
       "                var nbb_cell_id = 25;\n",
       "                var nbb_unformatted_code = \"sql_query = \\\"\\\"\\\"\\nSELECT DISTINCT key_mlbam\\nFROM player_id\\nWHERE name_last = 'machado'\\nAND name_first = 'manny';\\n\\\"\\\"\\\"\\npd.read_sql_query(sql_query, con)\";\n",
       "                var nbb_formatted_code = \"sql_query = \\\"\\\"\\\"\\nSELECT DISTINCT key_mlbam\\nFROM player_id\\nWHERE name_last = 'machado'\\nAND name_first = 'manny';\\n\\\"\\\"\\\"\\npd.read_sql_query(sql_query, con)\";\n",
       "                var nbb_cells = Jupyter.notebook.get_cells();\n",
       "                for (var i = 0; i < nbb_cells.length; ++i) {\n",
       "                    if (nbb_cells[i].input_prompt_number == nbb_cell_id) {\n",
       "                        if (nbb_cells[i].get_text() == nbb_unformatted_code) {\n",
       "                             nbb_cells[i].set_text(nbb_formatted_code);\n",
       "                        }\n",
       "                        break;\n",
       "                    }\n",
       "                }\n",
       "            }, 500);\n",
       "            "
      ],
      "text/plain": [
       "<IPython.core.display.Javascript object>"
      ]
     },
     "metadata": {},
     "output_type": "display_data"
    }
   ],
   "source": [
    "sql_query = \"\"\"\n",
    "SELECT DISTINCT key_mlbam\n",
    "FROM player_id\n",
    "WHERE name_last = 'machado'\n",
    "AND name_first = 'manny';\n",
    "\"\"\"\n",
    "pd.read_sql_query(sql_query, con)"
   ]
  },
  {
   "cell_type": "code",
   "execution_count": 31,
   "metadata": {
    "ExecuteTime": {
     "end_time": "2020-08-28T01:18:19.068927Z",
     "start_time": "2020-08-28T01:18:18.945962Z"
    }
   },
   "outputs": [
    {
     "data": {
      "text/html": [
       "<div>\n",
       "<style scoped>\n",
       "    .dataframe tbody tr th:only-of-type {\n",
       "        vertical-align: middle;\n",
       "    }\n",
       "\n",
       "    .dataframe tbody tr th {\n",
       "        vertical-align: top;\n",
       "    }\n",
       "\n",
       "    .dataframe thead th {\n",
       "        text-align: right;\n",
       "    }\n",
       "</style>\n",
       "<table border=\"1\" class=\"dataframe\">\n",
       "  <thead>\n",
       "    <tr style=\"text-align: right;\">\n",
       "      <th></th>\n",
       "      <th>level_0</th>\n",
       "      <th>index</th>\n",
       "      <th>pitch_type</th>\n",
       "      <th>game_date</th>\n",
       "      <th>release_speed</th>\n",
       "      <th>release_pos_x</th>\n",
       "      <th>release_pos_z</th>\n",
       "      <th>player_name</th>\n",
       "      <th>batter</th>\n",
       "      <th>pitcher</th>\n",
       "      <th>...</th>\n",
       "      <th>home_score</th>\n",
       "      <th>away_score</th>\n",
       "      <th>bat_score</th>\n",
       "      <th>fld_score</th>\n",
       "      <th>post_away_score</th>\n",
       "      <th>post_home_score</th>\n",
       "      <th>post_bat_score</th>\n",
       "      <th>post_fld_score</th>\n",
       "      <th>if_fielding_alignment</th>\n",
       "      <th>of_fielding_alignment</th>\n",
       "    </tr>\n",
       "  </thead>\n",
       "  <tbody>\n",
       "    <tr>\n",
       "      <th>0</th>\n",
       "      <td>5510</td>\n",
       "      <td>3538</td>\n",
       "      <td>FF</td>\n",
       "      <td>2020-08-25</td>\n",
       "      <td>94.0</td>\n",
       "      <td>-2.660588</td>\n",
       "      <td>5.220247</td>\n",
       "      <td>Joey Gerber</td>\n",
       "      <td>592518.0</td>\n",
       "      <td>680702.0</td>\n",
       "      <td>...</td>\n",
       "      <td>3.0</td>\n",
       "      <td>8.0</td>\n",
       "      <td>3.0</td>\n",
       "      <td>8.0</td>\n",
       "      <td>8.0</td>\n",
       "      <td>3.0</td>\n",
       "      <td>3.0</td>\n",
       "      <td>8.0</td>\n",
       "      <td>Strategic</td>\n",
       "      <td>Standard</td>\n",
       "    </tr>\n",
       "    <tr>\n",
       "      <th>1</th>\n",
       "      <td>5577</td>\n",
       "      <td>4121</td>\n",
       "      <td>SL</td>\n",
       "      <td>2020-08-25</td>\n",
       "      <td>88.1</td>\n",
       "      <td>-2.159494</td>\n",
       "      <td>5.443239</td>\n",
       "      <td>Dan Altavilla</td>\n",
       "      <td>592518.0</td>\n",
       "      <td>656186.0</td>\n",
       "      <td>...</td>\n",
       "      <td>3.0</td>\n",
       "      <td>8.0</td>\n",
       "      <td>3.0</td>\n",
       "      <td>8.0</td>\n",
       "      <td>8.0</td>\n",
       "      <td>3.0</td>\n",
       "      <td>3.0</td>\n",
       "      <td>8.0</td>\n",
       "      <td>Strategic</td>\n",
       "      <td>Standard</td>\n",
       "    </tr>\n",
       "    <tr>\n",
       "      <th>2</th>\n",
       "      <td>5800</td>\n",
       "      <td>7606</td>\n",
       "      <td>FC</td>\n",
       "      <td>2020-08-25</td>\n",
       "      <td>86.2</td>\n",
       "      <td>2.496718</td>\n",
       "      <td>5.634573</td>\n",
       "      <td>Marco Gonzales</td>\n",
       "      <td>592518.0</td>\n",
       "      <td>594835.0</td>\n",
       "      <td>...</td>\n",
       "      <td>0.0</td>\n",
       "      <td>2.0</td>\n",
       "      <td>0.0</td>\n",
       "      <td>2.0</td>\n",
       "      <td>2.0</td>\n",
       "      <td>0.0</td>\n",
       "      <td>0.0</td>\n",
       "      <td>2.0</td>\n",
       "      <td>Standard</td>\n",
       "      <td>Standard</td>\n",
       "    </tr>\n",
       "  </tbody>\n",
       "</table>\n",
       "<p>3 rows × 91 columns</p>\n",
       "</div>"
      ],
      "text/plain": [
       "   level_0  index pitch_type  game_date  release_speed  release_pos_x  \\\n",
       "0     5510   3538         FF 2020-08-25           94.0      -2.660588   \n",
       "1     5577   4121         SL 2020-08-25           88.1      -2.159494   \n",
       "2     5800   7606         FC 2020-08-25           86.2       2.496718   \n",
       "\n",
       "   release_pos_z     player_name    batter   pitcher  ... home_score  \\\n",
       "0       5.220247     Joey Gerber  592518.0  680702.0  ...        3.0   \n",
       "1       5.443239   Dan Altavilla  592518.0  656186.0  ...        3.0   \n",
       "2       5.634573  Marco Gonzales  592518.0  594835.0  ...        0.0   \n",
       "\n",
       "  away_score bat_score fld_score post_away_score post_home_score  \\\n",
       "0        8.0       3.0       8.0             8.0             3.0   \n",
       "1        8.0       3.0       8.0             8.0             3.0   \n",
       "2        2.0       0.0       2.0             2.0             0.0   \n",
       "\n",
       "   post_bat_score post_fld_score if_fielding_alignment of_fielding_alignment  \n",
       "0             3.0            8.0             Strategic              Standard  \n",
       "1             3.0            8.0             Strategic              Standard  \n",
       "2             0.0            2.0              Standard              Standard  \n",
       "\n",
       "[3 rows x 91 columns]"
      ]
     },
     "execution_count": 31,
     "metadata": {},
     "output_type": "execute_result"
    },
    {
     "data": {
      "application/javascript": [
       "\n",
       "            setTimeout(function() {\n",
       "                var nbb_cell_id = 31;\n",
       "                var nbb_unformatted_code = \"# Building query\\nsql_query = \\\"\\\"\\\"\\nSELECT *\\nFROM statcast2020\\nWHERE batter = (SELECT DISTINCT key_mlbam\\n                FROM player_id\\n                WHERE name_last = 'machado'\\n                AND name_first = 'manny')\\nAND events IS NOT NULL\\nORDER BY game_date DESC\\nLIMIT 3;\\n\\\"\\\"\\\"\\npd.read_sql_query(sql_query, con)\";\n",
       "                var nbb_formatted_code = \"# Building query\\nsql_query = \\\"\\\"\\\"\\nSELECT *\\nFROM statcast2020\\nWHERE batter = (SELECT DISTINCT key_mlbam\\n                FROM player_id\\n                WHERE name_last = 'machado'\\n                AND name_first = 'manny')\\nAND events IS NOT NULL\\nORDER BY game_date DESC\\nLIMIT 3;\\n\\\"\\\"\\\"\\npd.read_sql_query(sql_query, con)\";\n",
       "                var nbb_cells = Jupyter.notebook.get_cells();\n",
       "                for (var i = 0; i < nbb_cells.length; ++i) {\n",
       "                    if (nbb_cells[i].input_prompt_number == nbb_cell_id) {\n",
       "                        if (nbb_cells[i].get_text() == nbb_unformatted_code) {\n",
       "                             nbb_cells[i].set_text(nbb_formatted_code);\n",
       "                        }\n",
       "                        break;\n",
       "                    }\n",
       "                }\n",
       "            }, 500);\n",
       "            "
      ],
      "text/plain": [
       "<IPython.core.display.Javascript object>"
      ]
     },
     "metadata": {},
     "output_type": "display_data"
    }
   ],
   "source": [
    "# Building query\n",
    "sql_query = \"\"\"\n",
    "SELECT *\n",
    "FROM statcast2020\n",
    "WHERE batter = (SELECT DISTINCT key_mlbam\n",
    "                FROM player_id\n",
    "                WHERE name_last = 'machado'\n",
    "                AND name_first = 'manny')\n",
    "AND events IS NOT NULL\n",
    "ORDER BY game_date DESC\n",
    "LIMIT 3;\n",
    "\"\"\"\n",
    "pd.read_sql_query(sql_query, con)"
   ]
  },
  {
   "cell_type": "code",
   "execution_count": 35,
   "metadata": {
    "ExecuteTime": {
     "end_time": "2020-08-28T01:20:16.372510Z",
     "start_time": "2020-08-28T01:20:16.346698Z"
    }
   },
   "outputs": [
    {
     "data": {
      "text/html": [
       "<div>\n",
       "<style scoped>\n",
       "    .dataframe tbody tr th:only-of-type {\n",
       "        vertical-align: middle;\n",
       "    }\n",
       "\n",
       "    .dataframe tbody tr th {\n",
       "        vertical-align: top;\n",
       "    }\n",
       "\n",
       "    .dataframe thead th {\n",
       "        text-align: right;\n",
       "    }\n",
       "</style>\n",
       "<table border=\"1\" class=\"dataframe\">\n",
       "  <thead>\n",
       "    <tr style=\"text-align: right;\">\n",
       "      <th></th>\n",
       "      <th>current_date</th>\n",
       "    </tr>\n",
       "  </thead>\n",
       "  <tbody>\n",
       "    <tr>\n",
       "      <th>0</th>\n",
       "      <td>2020-08-27</td>\n",
       "    </tr>\n",
       "  </tbody>\n",
       "</table>\n",
       "</div>"
      ],
      "text/plain": [
       "  current_date\n",
       "0   2020-08-27"
      ]
     },
     "execution_count": 35,
     "metadata": {},
     "output_type": "execute_result"
    },
    {
     "data": {
      "application/javascript": [
       "\n",
       "            setTimeout(function() {\n",
       "                var nbb_cell_id = 35;\n",
       "                var nbb_unformatted_code = \"# Machado's number of home runs in last 10 days\\nsql_query = \\\"\\\"\\\"\\nSELECT CURRENT_DATE\\n\\\"\\\"\\\"\\npd.read_sql_query(sql_query, con)\";\n",
       "                var nbb_formatted_code = \"# Machado's number of home runs in last 10 days\\nsql_query = \\\"\\\"\\\"\\nSELECT CURRENT_DATE\\n\\\"\\\"\\\"\\npd.read_sql_query(sql_query, con)\";\n",
       "                var nbb_cells = Jupyter.notebook.get_cells();\n",
       "                for (var i = 0; i < nbb_cells.length; ++i) {\n",
       "                    if (nbb_cells[i].input_prompt_number == nbb_cell_id) {\n",
       "                        if (nbb_cells[i].get_text() == nbb_unformatted_code) {\n",
       "                             nbb_cells[i].set_text(nbb_formatted_code);\n",
       "                        }\n",
       "                        break;\n",
       "                    }\n",
       "                }\n",
       "            }, 500);\n",
       "            "
      ],
      "text/plain": [
       "<IPython.core.display.Javascript object>"
      ]
     },
     "metadata": {},
     "output_type": "display_data"
    }
   ],
   "source": [
    "# Machado's number of home runs in last 10 days\n",
    "sql_query = \"\"\"\n",
    "SELECT CURRENT_DATE\n",
    "\"\"\"\n",
    "pd.read_sql_query(sql_query, con)"
   ]
  },
  {
   "cell_type": "code",
   "execution_count": 65,
   "metadata": {
    "ExecuteTime": {
     "end_time": "2020-09-01T20:31:58.941284Z",
     "start_time": "2020-09-01T20:31:58.763648Z"
    }
   },
   "outputs": [
    {
     "data": {
      "text/html": [
       "<div>\n",
       "<style scoped>\n",
       "    .dataframe tbody tr th:only-of-type {\n",
       "        vertical-align: middle;\n",
       "    }\n",
       "\n",
       "    .dataframe tbody tr th {\n",
       "        vertical-align: top;\n",
       "    }\n",
       "\n",
       "    .dataframe thead th {\n",
       "        text-align: right;\n",
       "    }\n",
       "</style>\n",
       "<table border=\"1\" class=\"dataframe\">\n",
       "  <thead>\n",
       "    <tr style=\"text-align: right;\">\n",
       "      <th></th>\n",
       "      <th>game_date</th>\n",
       "      <th>player_name</th>\n",
       "      <th>events</th>\n",
       "    </tr>\n",
       "  </thead>\n",
       "  <tbody>\n",
       "    <tr>\n",
       "      <th>0</th>\n",
       "      <td>2020-08-18</td>\n",
       "      <td>Mike Minor</td>\n",
       "      <td>walk</td>\n",
       "    </tr>\n",
       "    <tr>\n",
       "      <th>1</th>\n",
       "      <td>2020-08-18</td>\n",
       "      <td>Joely Rodriguez</td>\n",
       "      <td>field_out</td>\n",
       "    </tr>\n",
       "    <tr>\n",
       "      <th>2</th>\n",
       "      <td>2020-08-18</td>\n",
       "      <td>Mike Minor</td>\n",
       "      <td>field_out</td>\n",
       "    </tr>\n",
       "    <tr>\n",
       "      <th>3</th>\n",
       "      <td>2020-08-18</td>\n",
       "      <td>Taylor Hearn</td>\n",
       "      <td>single</td>\n",
       "    </tr>\n",
       "    <tr>\n",
       "      <th>4</th>\n",
       "      <td>2020-08-18</td>\n",
       "      <td>Mike Minor</td>\n",
       "      <td>single</td>\n",
       "    </tr>\n",
       "    <tr>\n",
       "      <th>...</th>\n",
       "      <td>...</td>\n",
       "      <td>...</td>\n",
       "      <td>...</td>\n",
       "    </tr>\n",
       "    <tr>\n",
       "      <th>58</th>\n",
       "      <td>2020-08-30</td>\n",
       "      <td>James Pazos</td>\n",
       "      <td>single</td>\n",
       "    </tr>\n",
       "    <tr>\n",
       "      <th>59</th>\n",
       "      <td>2020-08-31</td>\n",
       "      <td>Jeff Hoffman</td>\n",
       "      <td>field_out</td>\n",
       "    </tr>\n",
       "    <tr>\n",
       "      <th>60</th>\n",
       "      <td>2020-08-31</td>\n",
       "      <td>German Marquez</td>\n",
       "      <td>field_out</td>\n",
       "    </tr>\n",
       "    <tr>\n",
       "      <th>61</th>\n",
       "      <td>2020-08-31</td>\n",
       "      <td>German Marquez</td>\n",
       "      <td>sac_fly</td>\n",
       "    </tr>\n",
       "    <tr>\n",
       "      <th>62</th>\n",
       "      <td>2020-08-31</td>\n",
       "      <td>German Marquez</td>\n",
       "      <td>field_out</td>\n",
       "    </tr>\n",
       "  </tbody>\n",
       "</table>\n",
       "<p>63 rows × 3 columns</p>\n",
       "</div>"
      ],
      "text/plain": [
       "    game_date      player_name     events\n",
       "0  2020-08-18       Mike Minor       walk\n",
       "1  2020-08-18  Joely Rodriguez  field_out\n",
       "2  2020-08-18       Mike Minor  field_out\n",
       "3  2020-08-18     Taylor Hearn     single\n",
       "4  2020-08-18       Mike Minor     single\n",
       "..        ...              ...        ...\n",
       "58 2020-08-30      James Pazos     single\n",
       "59 2020-08-31     Jeff Hoffman  field_out\n",
       "60 2020-08-31   German Marquez  field_out\n",
       "61 2020-08-31   German Marquez    sac_fly\n",
       "62 2020-08-31   German Marquez  field_out\n",
       "\n",
       "[63 rows x 3 columns]"
      ]
     },
     "execution_count": 65,
     "metadata": {},
     "output_type": "execute_result"
    },
    {
     "data": {
      "application/javascript": [
       "\n",
       "            setTimeout(function() {\n",
       "                var nbb_cell_id = 65;\n",
       "                var nbb_unformatted_code = \"# Machado's stats in last 10 days\\nsql_query = \\\"\\\"\\\"\\nSELECT game_date, player_name, events\\nFROM statcast2020\\nWHERE batter = (SELECT DISTINCT key_mlbam\\n                FROM player_id\\n                WHERE name_last = 'machado'\\n                AND name_first = 'manny')\\nAND events IS NOT NULL\\nAND CURRENT_DATE - CAST(game_date AS DATE) < 10\\nORDER BY game_date ASC;\\n\\\"\\\"\\\"\\npd.read_sql_query(sql_query, con)\";\n",
       "                var nbb_formatted_code = \"# Machado's stats in last 10 days\\nsql_query = \\\"\\\"\\\"\\nSELECT game_date, player_name, events\\nFROM statcast2020\\nWHERE batter = (SELECT DISTINCT key_mlbam\\n                FROM player_id\\n                WHERE name_last = 'machado'\\n                AND name_first = 'manny')\\nAND events IS NOT NULL\\nAND CURRENT_DATE - CAST(game_date AS DATE) < 10\\nORDER BY game_date ASC;\\n\\\"\\\"\\\"\\npd.read_sql_query(sql_query, con)\";\n",
       "                var nbb_cells = Jupyter.notebook.get_cells();\n",
       "                for (var i = 0; i < nbb_cells.length; ++i) {\n",
       "                    if (nbb_cells[i].input_prompt_number == nbb_cell_id) {\n",
       "                        if (nbb_cells[i].get_text() == nbb_unformatted_code) {\n",
       "                             nbb_cells[i].set_text(nbb_formatted_code);\n",
       "                        }\n",
       "                        break;\n",
       "                    }\n",
       "                }\n",
       "            }, 500);\n",
       "            "
      ],
      "text/plain": [
       "<IPython.core.display.Javascript object>"
      ]
     },
     "metadata": {},
     "output_type": "display_data"
    }
   ],
   "source": [
    "# Machado's stats in last 10 days\n",
    "sql_query = \"\"\"\n",
    "SELECT game_date, player_name, events\n",
    "FROM statcast2020\n",
    "WHERE batter = (SELECT DISTINCT key_mlbam\n",
    "                FROM player_id\n",
    "                WHERE name_last = 'machado'\n",
    "                AND name_first = 'manny')\n",
    "AND events IS NOT NULL\n",
    "AND CURRENT_DATE - CAST(game_date AS DATE) < 10\n",
    "ORDER BY game_date ASC;\n",
    "\"\"\"\n",
    "pd.read_sql_query(sql_query, con)"
   ]
  },
  {
   "cell_type": "code",
   "execution_count": 66,
   "metadata": {
    "ExecuteTime": {
     "end_time": "2020-09-01T20:32:09.037769Z",
     "start_time": "2020-09-01T20:32:08.858378Z"
    }
   },
   "outputs": [
    {
     "data": {
      "text/html": [
       "<div>\n",
       "<style scoped>\n",
       "    .dataframe tbody tr th:only-of-type {\n",
       "        vertical-align: middle;\n",
       "    }\n",
       "\n",
       "    .dataframe tbody tr th {\n",
       "        vertical-align: top;\n",
       "    }\n",
       "\n",
       "    .dataframe thead th {\n",
       "        text-align: right;\n",
       "    }\n",
       "</style>\n",
       "<table border=\"1\" class=\"dataframe\">\n",
       "  <thead>\n",
       "    <tr style=\"text-align: right;\">\n",
       "      <th></th>\n",
       "      <th>count</th>\n",
       "      <th>events</th>\n",
       "    </tr>\n",
       "  </thead>\n",
       "  <tbody>\n",
       "    <tr>\n",
       "      <th>0</th>\n",
       "      <td>1</td>\n",
       "      <td>triple</td>\n",
       "    </tr>\n",
       "    <tr>\n",
       "      <th>1</th>\n",
       "      <td>1</td>\n",
       "      <td>fielders_choice_out</td>\n",
       "    </tr>\n",
       "    <tr>\n",
       "      <th>2</th>\n",
       "      <td>2</td>\n",
       "      <td>sac_fly</td>\n",
       "    </tr>\n",
       "    <tr>\n",
       "      <th>3</th>\n",
       "      <td>2</td>\n",
       "      <td>force_out</td>\n",
       "    </tr>\n",
       "    <tr>\n",
       "      <th>4</th>\n",
       "      <td>2</td>\n",
       "      <td>grounded_into_double_play</td>\n",
       "    </tr>\n",
       "    <tr>\n",
       "      <th>5</th>\n",
       "      <td>4</td>\n",
       "      <td>double</td>\n",
       "    </tr>\n",
       "    <tr>\n",
       "      <th>6</th>\n",
       "      <td>4</td>\n",
       "      <td>walk</td>\n",
       "    </tr>\n",
       "    <tr>\n",
       "      <th>7</th>\n",
       "      <td>5</td>\n",
       "      <td>strikeout</td>\n",
       "    </tr>\n",
       "    <tr>\n",
       "      <th>8</th>\n",
       "      <td>6</td>\n",
       "      <td>home_run</td>\n",
       "    </tr>\n",
       "    <tr>\n",
       "      <th>9</th>\n",
       "      <td>16</td>\n",
       "      <td>single</td>\n",
       "    </tr>\n",
       "    <tr>\n",
       "      <th>10</th>\n",
       "      <td>20</td>\n",
       "      <td>field_out</td>\n",
       "    </tr>\n",
       "  </tbody>\n",
       "</table>\n",
       "</div>"
      ],
      "text/plain": [
       "    count                     events\n",
       "0       1                     triple\n",
       "1       1        fielders_choice_out\n",
       "2       2                    sac_fly\n",
       "3       2                  force_out\n",
       "4       2  grounded_into_double_play\n",
       "5       4                     double\n",
       "6       4                       walk\n",
       "7       5                  strikeout\n",
       "8       6                   home_run\n",
       "9      16                     single\n",
       "10     20                  field_out"
      ]
     },
     "execution_count": 66,
     "metadata": {},
     "output_type": "execute_result"
    },
    {
     "data": {
      "application/javascript": [
       "\n",
       "            setTimeout(function() {\n",
       "                var nbb_cell_id = 66;\n",
       "                var nbb_unformatted_code = \"# Machado's breakdown of stats in last 10 days\\nsql_query = \\\"\\\"\\\"\\nSELECT COUNT(*), events\\nFROM statcast2020\\nWHERE batter = (SELECT DISTINCT key_mlbam\\n                FROM player_id\\n                WHERE name_last = 'machado'\\n                AND name_first = 'manny')\\nAND events IS NOT NULL\\nAND CURRENT_DATE - CAST(game_date AS DATE) < 10\\nGROUP BY events\\nORDER BY count;\\n\\\"\\\"\\\"\\npd.read_sql_query(sql_query, con)\";\n",
       "                var nbb_formatted_code = \"# Machado's breakdown of stats in last 10 days\\nsql_query = \\\"\\\"\\\"\\nSELECT COUNT(*), events\\nFROM statcast2020\\nWHERE batter = (SELECT DISTINCT key_mlbam\\n                FROM player_id\\n                WHERE name_last = 'machado'\\n                AND name_first = 'manny')\\nAND events IS NOT NULL\\nAND CURRENT_DATE - CAST(game_date AS DATE) < 10\\nGROUP BY events\\nORDER BY count;\\n\\\"\\\"\\\"\\npd.read_sql_query(sql_query, con)\";\n",
       "                var nbb_cells = Jupyter.notebook.get_cells();\n",
       "                for (var i = 0; i < nbb_cells.length; ++i) {\n",
       "                    if (nbb_cells[i].input_prompt_number == nbb_cell_id) {\n",
       "                        if (nbb_cells[i].get_text() == nbb_unformatted_code) {\n",
       "                             nbb_cells[i].set_text(nbb_formatted_code);\n",
       "                        }\n",
       "                        break;\n",
       "                    }\n",
       "                }\n",
       "            }, 500);\n",
       "            "
      ],
      "text/plain": [
       "<IPython.core.display.Javascript object>"
      ]
     },
     "metadata": {},
     "output_type": "display_data"
    }
   ],
   "source": [
    "# Machado's breakdown of stats in last 10 days\n",
    "sql_query = \"\"\"\n",
    "SELECT COUNT(*), events\n",
    "FROM statcast2020\n",
    "WHERE batter = (SELECT DISTINCT key_mlbam\n",
    "                FROM player_id\n",
    "                WHERE name_last = 'machado'\n",
    "                AND name_first = 'manny')\n",
    "AND events IS NOT NULL\n",
    "AND CURRENT_DATE - CAST(game_date AS DATE) < 10\n",
    "GROUP BY events\n",
    "ORDER BY count;\n",
    "\"\"\"\n",
    "pd.read_sql_query(sql_query, con)"
   ]
  },
  {
   "cell_type": "code",
   "execution_count": 78,
   "metadata": {
    "ExecuteTime": {
     "end_time": "2020-09-01T20:42:08.947437Z",
     "start_time": "2020-09-01T20:42:08.833666Z"
    }
   },
   "outputs": [
    {
     "data": {
      "text/html": [
       "<div>\n",
       "<style scoped>\n",
       "    .dataframe tbody tr th:only-of-type {\n",
       "        vertical-align: middle;\n",
       "    }\n",
       "\n",
       "    .dataframe tbody tr th {\n",
       "        vertical-align: top;\n",
       "    }\n",
       "\n",
       "    .dataframe thead th {\n",
       "        text-align: right;\n",
       "    }\n",
       "</style>\n",
       "<table border=\"1\" class=\"dataframe\">\n",
       "  <thead>\n",
       "    <tr style=\"text-align: right;\">\n",
       "      <th></th>\n",
       "      <th>game_date</th>\n",
       "      <th>at_bat_number</th>\n",
       "      <th>player_name</th>\n",
       "      <th>events</th>\n",
       "      <th>n_events</th>\n",
       "    </tr>\n",
       "  </thead>\n",
       "  <tbody>\n",
       "    <tr>\n",
       "      <th>0</th>\n",
       "      <td>2020-08-23</td>\n",
       "      <td>9.0</td>\n",
       "      <td>Zack Greinke</td>\n",
       "      <td>force_out</td>\n",
       "      <td>1</td>\n",
       "    </tr>\n",
       "    <tr>\n",
       "      <th>1</th>\n",
       "      <td>2020-08-23</td>\n",
       "      <td>29.0</td>\n",
       "      <td>Zack Greinke</td>\n",
       "      <td>field_out</td>\n",
       "      <td>1</td>\n",
       "    </tr>\n",
       "    <tr>\n",
       "      <th>2</th>\n",
       "      <td>2020-08-23</td>\n",
       "      <td>44.0</td>\n",
       "      <td>Zack Greinke</td>\n",
       "      <td>field_out</td>\n",
       "      <td>2</td>\n",
       "    </tr>\n",
       "    <tr>\n",
       "      <th>3</th>\n",
       "      <td>2020-08-23</td>\n",
       "      <td>59.0</td>\n",
       "      <td>Enoli Paredes</td>\n",
       "      <td>home_run</td>\n",
       "      <td>1</td>\n",
       "    </tr>\n",
       "    <tr>\n",
       "      <th>4</th>\n",
       "      <td>2020-08-25</td>\n",
       "      <td>10.0</td>\n",
       "      <td>Marco Gonzales</td>\n",
       "      <td>single</td>\n",
       "      <td>1</td>\n",
       "    </tr>\n",
       "    <tr>\n",
       "      <th>5</th>\n",
       "      <td>2020-08-25</td>\n",
       "      <td>28.0</td>\n",
       "      <td>Marco Gonzales</td>\n",
       "      <td>double</td>\n",
       "      <td>1</td>\n",
       "    </tr>\n",
       "    <tr>\n",
       "      <th>6</th>\n",
       "      <td>2020-08-25</td>\n",
       "      <td>43.0</td>\n",
       "      <td>Marco Gonzales</td>\n",
       "      <td>field_out</td>\n",
       "      <td>3</td>\n",
       "    </tr>\n",
       "    <tr>\n",
       "      <th>7</th>\n",
       "      <td>2020-08-25</td>\n",
       "      <td>66.0</td>\n",
       "      <td>Dan Altavilla</td>\n",
       "      <td>single</td>\n",
       "      <td>2</td>\n",
       "    </tr>\n",
       "    <tr>\n",
       "      <th>8</th>\n",
       "      <td>2020-08-25</td>\n",
       "      <td>82.0</td>\n",
       "      <td>Joey Gerber</td>\n",
       "      <td>triple</td>\n",
       "      <td>1</td>\n",
       "    </tr>\n",
       "    <tr>\n",
       "      <th>9</th>\n",
       "      <td>2020-08-27</td>\n",
       "      <td>6.0</td>\n",
       "      <td>Ljay Newsome</td>\n",
       "      <td>field_out</td>\n",
       "      <td>4</td>\n",
       "    </tr>\n",
       "    <tr>\n",
       "      <th>10</th>\n",
       "      <td>2020-08-27</td>\n",
       "      <td>12.0</td>\n",
       "      <td>Yusei Kikuchi</td>\n",
       "      <td>home_run</td>\n",
       "      <td>2</td>\n",
       "    </tr>\n",
       "    <tr>\n",
       "      <th>11</th>\n",
       "      <td>2020-08-27</td>\n",
       "      <td>28.0</td>\n",
       "      <td>Yusei Kikuchi</td>\n",
       "      <td>field_out</td>\n",
       "      <td>5</td>\n",
       "    </tr>\n",
       "    <tr>\n",
       "      <th>12</th>\n",
       "      <td>2020-08-27</td>\n",
       "      <td>31.0</td>\n",
       "      <td>Ljay Newsome</td>\n",
       "      <td>home_run</td>\n",
       "      <td>3</td>\n",
       "    </tr>\n",
       "    <tr>\n",
       "      <th>13</th>\n",
       "      <td>2020-08-27</td>\n",
       "      <td>45.0</td>\n",
       "      <td>Yusei Kikuchi</td>\n",
       "      <td>grounded_into_double_play</td>\n",
       "      <td>1</td>\n",
       "    </tr>\n",
       "    <tr>\n",
       "      <th>14</th>\n",
       "      <td>2020-08-27</td>\n",
       "      <td>47.0</td>\n",
       "      <td>Matt Magill</td>\n",
       "      <td>home_run</td>\n",
       "      <td>4</td>\n",
       "    </tr>\n",
       "    <tr>\n",
       "      <th>15</th>\n",
       "      <td>2020-08-27</td>\n",
       "      <td>64.0</td>\n",
       "      <td>Taylor Williams</td>\n",
       "      <td>single</td>\n",
       "      <td>3</td>\n",
       "    </tr>\n",
       "    <tr>\n",
       "      <th>16</th>\n",
       "      <td>2020-08-27</td>\n",
       "      <td>65.0</td>\n",
       "      <td>Yoshihisa Hirano</td>\n",
       "      <td>force_out</td>\n",
       "      <td>2</td>\n",
       "    </tr>\n",
       "    <tr>\n",
       "      <th>17</th>\n",
       "      <td>2020-08-28</td>\n",
       "      <td>3.0</td>\n",
       "      <td>Kyle Freeland</td>\n",
       "      <td>single</td>\n",
       "      <td>4</td>\n",
       "    </tr>\n",
       "    <tr>\n",
       "      <th>18</th>\n",
       "      <td>2020-08-28</td>\n",
       "      <td>23.0</td>\n",
       "      <td>Kyle Freeland</td>\n",
       "      <td>field_out</td>\n",
       "      <td>6</td>\n",
       "    </tr>\n",
       "    <tr>\n",
       "      <th>19</th>\n",
       "      <td>2020-08-28</td>\n",
       "      <td>39.0</td>\n",
       "      <td>Kyle Freeland</td>\n",
       "      <td>single</td>\n",
       "      <td>5</td>\n",
       "    </tr>\n",
       "    <tr>\n",
       "      <th>20</th>\n",
       "      <td>2020-08-28</td>\n",
       "      <td>52.0</td>\n",
       "      <td>Jeff Hoffman</td>\n",
       "      <td>sac_fly</td>\n",
       "      <td>1</td>\n",
       "    </tr>\n",
       "    <tr>\n",
       "      <th>21</th>\n",
       "      <td>2020-08-28</td>\n",
       "      <td>68.0</td>\n",
       "      <td>Ashton Goudeau</td>\n",
       "      <td>single</td>\n",
       "      <td>6</td>\n",
       "    </tr>\n",
       "    <tr>\n",
       "      <th>22</th>\n",
       "      <td>2020-08-29</td>\n",
       "      <td>3.0</td>\n",
       "      <td>Antonio Senzatela</td>\n",
       "      <td>fielders_choice_out</td>\n",
       "      <td>1</td>\n",
       "    </tr>\n",
       "    <tr>\n",
       "      <th>23</th>\n",
       "      <td>2020-08-29</td>\n",
       "      <td>19.0</td>\n",
       "      <td>Antonio Senzatela</td>\n",
       "      <td>field_out</td>\n",
       "      <td>7</td>\n",
       "    </tr>\n",
       "    <tr>\n",
       "      <th>24</th>\n",
       "      <td>2020-08-29</td>\n",
       "      <td>39.0</td>\n",
       "      <td>Antonio Senzatela</td>\n",
       "      <td>field_out</td>\n",
       "      <td>8</td>\n",
       "    </tr>\n",
       "    <tr>\n",
       "      <th>25</th>\n",
       "      <td>2020-08-29</td>\n",
       "      <td>59.0</td>\n",
       "      <td>Carlos Estevez</td>\n",
       "      <td>single</td>\n",
       "      <td>7</td>\n",
       "    </tr>\n",
       "    <tr>\n",
       "      <th>26</th>\n",
       "      <td>2020-08-30</td>\n",
       "      <td>3.0</td>\n",
       "      <td>Ryan Castellani</td>\n",
       "      <td>strikeout</td>\n",
       "      <td>2</td>\n",
       "    </tr>\n",
       "    <tr>\n",
       "      <th>27</th>\n",
       "      <td>2020-08-30</td>\n",
       "      <td>3.0</td>\n",
       "      <td>Ryan Castellani</td>\n",
       "      <td>strikeout</td>\n",
       "      <td>2</td>\n",
       "    </tr>\n",
       "    <tr>\n",
       "      <th>28</th>\n",
       "      <td>2020-08-30</td>\n",
       "      <td>16.0</td>\n",
       "      <td>Ryan Castellani</td>\n",
       "      <td>field_out</td>\n",
       "      <td>10</td>\n",
       "    </tr>\n",
       "    <tr>\n",
       "      <th>29</th>\n",
       "      <td>2020-08-30</td>\n",
       "      <td>16.0</td>\n",
       "      <td>Ryan Castellani</td>\n",
       "      <td>field_out</td>\n",
       "      <td>10</td>\n",
       "    </tr>\n",
       "    <tr>\n",
       "      <th>30</th>\n",
       "      <td>2020-08-30</td>\n",
       "      <td>36.0</td>\n",
       "      <td>Chi Chi Gonzalez</td>\n",
       "      <td>field_out</td>\n",
       "      <td>12</td>\n",
       "    </tr>\n",
       "    <tr>\n",
       "      <th>31</th>\n",
       "      <td>2020-08-30</td>\n",
       "      <td>36.0</td>\n",
       "      <td>Chi Chi Gonzalez</td>\n",
       "      <td>field_out</td>\n",
       "      <td>12</td>\n",
       "    </tr>\n",
       "    <tr>\n",
       "      <th>32</th>\n",
       "      <td>2020-08-30</td>\n",
       "      <td>55.0</td>\n",
       "      <td>Jairo Diaz</td>\n",
       "      <td>single</td>\n",
       "      <td>9</td>\n",
       "    </tr>\n",
       "    <tr>\n",
       "      <th>33</th>\n",
       "      <td>2020-08-30</td>\n",
       "      <td>55.0</td>\n",
       "      <td>Jairo Diaz</td>\n",
       "      <td>single</td>\n",
       "      <td>9</td>\n",
       "    </tr>\n",
       "    <tr>\n",
       "      <th>34</th>\n",
       "      <td>2020-08-30</td>\n",
       "      <td>68.0</td>\n",
       "      <td>James Pazos</td>\n",
       "      <td>single</td>\n",
       "      <td>11</td>\n",
       "    </tr>\n",
       "    <tr>\n",
       "      <th>35</th>\n",
       "      <td>2020-08-30</td>\n",
       "      <td>68.0</td>\n",
       "      <td>James Pazos</td>\n",
       "      <td>single</td>\n",
       "      <td>11</td>\n",
       "    </tr>\n",
       "    <tr>\n",
       "      <th>36</th>\n",
       "      <td>2020-08-31</td>\n",
       "      <td>3.0</td>\n",
       "      <td>German Marquez</td>\n",
       "      <td>field_out</td>\n",
       "      <td>13</td>\n",
       "    </tr>\n",
       "    <tr>\n",
       "      <th>37</th>\n",
       "      <td>2020-08-31</td>\n",
       "      <td>19.0</td>\n",
       "      <td>German Marquez</td>\n",
       "      <td>sac_fly</td>\n",
       "      <td>2</td>\n",
       "    </tr>\n",
       "    <tr>\n",
       "      <th>38</th>\n",
       "      <td>2020-08-31</td>\n",
       "      <td>31.0</td>\n",
       "      <td>German Marquez</td>\n",
       "      <td>field_out</td>\n",
       "      <td>14</td>\n",
       "    </tr>\n",
       "    <tr>\n",
       "      <th>39</th>\n",
       "      <td>2020-08-31</td>\n",
       "      <td>50.0</td>\n",
       "      <td>Jeff Hoffman</td>\n",
       "      <td>field_out</td>\n",
       "      <td>15</td>\n",
       "    </tr>\n",
       "  </tbody>\n",
       "</table>\n",
       "</div>"
      ],
      "text/plain": [
       "    game_date  at_bat_number        player_name                     events  \\\n",
       "0  2020-08-23            9.0       Zack Greinke                  force_out   \n",
       "1  2020-08-23           29.0       Zack Greinke                  field_out   \n",
       "2  2020-08-23           44.0       Zack Greinke                  field_out   \n",
       "3  2020-08-23           59.0      Enoli Paredes                   home_run   \n",
       "4  2020-08-25           10.0     Marco Gonzales                     single   \n",
       "5  2020-08-25           28.0     Marco Gonzales                     double   \n",
       "6  2020-08-25           43.0     Marco Gonzales                  field_out   \n",
       "7  2020-08-25           66.0      Dan Altavilla                     single   \n",
       "8  2020-08-25           82.0        Joey Gerber                     triple   \n",
       "9  2020-08-27            6.0       Ljay Newsome                  field_out   \n",
       "10 2020-08-27           12.0      Yusei Kikuchi                   home_run   \n",
       "11 2020-08-27           28.0      Yusei Kikuchi                  field_out   \n",
       "12 2020-08-27           31.0       Ljay Newsome                   home_run   \n",
       "13 2020-08-27           45.0      Yusei Kikuchi  grounded_into_double_play   \n",
       "14 2020-08-27           47.0        Matt Magill                   home_run   \n",
       "15 2020-08-27           64.0    Taylor Williams                     single   \n",
       "16 2020-08-27           65.0   Yoshihisa Hirano                  force_out   \n",
       "17 2020-08-28            3.0      Kyle Freeland                     single   \n",
       "18 2020-08-28           23.0      Kyle Freeland                  field_out   \n",
       "19 2020-08-28           39.0      Kyle Freeland                     single   \n",
       "20 2020-08-28           52.0       Jeff Hoffman                    sac_fly   \n",
       "21 2020-08-28           68.0     Ashton Goudeau                     single   \n",
       "22 2020-08-29            3.0  Antonio Senzatela        fielders_choice_out   \n",
       "23 2020-08-29           19.0  Antonio Senzatela                  field_out   \n",
       "24 2020-08-29           39.0  Antonio Senzatela                  field_out   \n",
       "25 2020-08-29           59.0     Carlos Estevez                     single   \n",
       "26 2020-08-30            3.0    Ryan Castellani                  strikeout   \n",
       "27 2020-08-30            3.0    Ryan Castellani                  strikeout   \n",
       "28 2020-08-30           16.0    Ryan Castellani                  field_out   \n",
       "29 2020-08-30           16.0    Ryan Castellani                  field_out   \n",
       "30 2020-08-30           36.0   Chi Chi Gonzalez                  field_out   \n",
       "31 2020-08-30           36.0   Chi Chi Gonzalez                  field_out   \n",
       "32 2020-08-30           55.0         Jairo Diaz                     single   \n",
       "33 2020-08-30           55.0         Jairo Diaz                     single   \n",
       "34 2020-08-30           68.0        James Pazos                     single   \n",
       "35 2020-08-30           68.0        James Pazos                     single   \n",
       "36 2020-08-31            3.0     German Marquez                  field_out   \n",
       "37 2020-08-31           19.0     German Marquez                    sac_fly   \n",
       "38 2020-08-31           31.0     German Marquez                  field_out   \n",
       "39 2020-08-31           50.0       Jeff Hoffman                  field_out   \n",
       "\n",
       "    n_events  \n",
       "0          1  \n",
       "1          1  \n",
       "2          2  \n",
       "3          1  \n",
       "4          1  \n",
       "5          1  \n",
       "6          3  \n",
       "7          2  \n",
       "8          1  \n",
       "9          4  \n",
       "10         2  \n",
       "11         5  \n",
       "12         3  \n",
       "13         1  \n",
       "14         4  \n",
       "15         3  \n",
       "16         2  \n",
       "17         4  \n",
       "18         6  \n",
       "19         5  \n",
       "20         1  \n",
       "21         6  \n",
       "22         1  \n",
       "23         7  \n",
       "24         8  \n",
       "25         7  \n",
       "26         2  \n",
       "27         2  \n",
       "28        10  \n",
       "29        10  \n",
       "30        12  \n",
       "31        12  \n",
       "32         9  \n",
       "33         9  \n",
       "34        11  \n",
       "35        11  \n",
       "36        13  \n",
       "37         2  \n",
       "38        14  \n",
       "39        15  "
      ]
     },
     "execution_count": 78,
     "metadata": {},
     "output_type": "execute_result"
    },
    {
     "data": {
      "application/javascript": [
       "\n",
       "            setTimeout(function() {\n",
       "                var nbb_cell_id = 78;\n",
       "                var nbb_unformatted_code = \"# Machado's running total of stats in last 10 days\\nsql_query = \\\"\\\"\\\"\\nSELECT game_date, at_bat_number, player_name, events,\\n       COUNT(events) OVER(PARTITION BY events ORDER BY game_date, at_bat_number) AS n_events\\nFROM statcast2020\\nWHERE batter = (SELECT DISTINCT key_mlbam\\n                FROM player_id\\n                WHERE name_last = 'machado'\\n                AND name_first = 'manny')\\nAND events IS NOT NULL\\nAND CURRENT_DATE - CAST(game_date AS DATE) < 10\\nORDER BY game_date, at_bat_number;\\n\\\"\\\"\\\"\\npd.read_sql_query(sql_query, con)\";\n",
       "                var nbb_formatted_code = \"# Machado's running total of stats in last 10 days\\nsql_query = \\\"\\\"\\\"\\nSELECT game_date, at_bat_number, player_name, events,\\n       COUNT(events) OVER(PARTITION BY events ORDER BY game_date, at_bat_number) AS n_events\\nFROM statcast2020\\nWHERE batter = (SELECT DISTINCT key_mlbam\\n                FROM player_id\\n                WHERE name_last = 'machado'\\n                AND name_first = 'manny')\\nAND events IS NOT NULL\\nAND CURRENT_DATE - CAST(game_date AS DATE) < 10\\nORDER BY game_date, at_bat_number;\\n\\\"\\\"\\\"\\npd.read_sql_query(sql_query, con)\";\n",
       "                var nbb_cells = Jupyter.notebook.get_cells();\n",
       "                for (var i = 0; i < nbb_cells.length; ++i) {\n",
       "                    if (nbb_cells[i].input_prompt_number == nbb_cell_id) {\n",
       "                        if (nbb_cells[i].get_text() == nbb_unformatted_code) {\n",
       "                             nbb_cells[i].set_text(nbb_formatted_code);\n",
       "                        }\n",
       "                        break;\n",
       "                    }\n",
       "                }\n",
       "            }, 500);\n",
       "            "
      ],
      "text/plain": [
       "<IPython.core.display.Javascript object>"
      ]
     },
     "metadata": {},
     "output_type": "display_data"
    }
   ],
   "source": [
    "# Machado's running total of stats in last 10 days\n",
    "sql_query = \"\"\"\n",
    "SELECT game_date, at_bat_number, player_name, events,\n",
    "       COUNT(events) OVER(PARTITION BY events ORDER BY game_date, at_bat_number) AS n_events\n",
    "FROM statcast2020\n",
    "WHERE batter = (SELECT DISTINCT key_mlbam\n",
    "                FROM player_id\n",
    "                WHERE name_last = 'machado'\n",
    "                AND name_first = 'manny')\n",
    "AND events IS NOT NULL\n",
    "AND CURRENT_DATE - CAST(game_date AS DATE) < 10\n",
    "ORDER BY game_date, at_bat_number;\n",
    "\"\"\"\n",
    "pd.read_sql_query(sql_query, con)"
   ]
  },
  {
   "cell_type": "markdown",
   "metadata": {},
   "source": [
    "## Correlated subquery (lesson from datacamp)\n",
    "\n"
   ]
  },
  {
   "cell_type": "code",
   "execution_count": 80,
   "metadata": {
    "ExecuteTime": {
     "end_time": "2020-09-01T20:42:31.767355Z",
     "start_time": "2020-09-01T20:42:31.598689Z"
    }
   },
   "outputs": [
    {
     "data": {
      "text/html": [
       "<div>\n",
       "<style scoped>\n",
       "    .dataframe tbody tr th:only-of-type {\n",
       "        vertical-align: middle;\n",
       "    }\n",
       "\n",
       "    .dataframe tbody tr th {\n",
       "        vertical-align: top;\n",
       "    }\n",
       "\n",
       "    .dataframe thead th {\n",
       "        text-align: right;\n",
       "    }\n",
       "</style>\n",
       "<table border=\"1\" class=\"dataframe\">\n",
       "  <thead>\n",
       "    <tr style=\"text-align: right;\">\n",
       "      <th></th>\n",
       "      <th>game_date</th>\n",
       "      <th>player_name</th>\n",
       "      <th>events</th>\n",
       "      <th>n_events</th>\n",
       "    </tr>\n",
       "  </thead>\n",
       "  <tbody>\n",
       "    <tr>\n",
       "      <th>0</th>\n",
       "      <td>2020-08-25</td>\n",
       "      <td>Marco Gonzales</td>\n",
       "      <td>double</td>\n",
       "      <td>1</td>\n",
       "    </tr>\n",
       "    <tr>\n",
       "      <th>1</th>\n",
       "      <td>2020-08-25</td>\n",
       "      <td>Joey Gerber</td>\n",
       "      <td>triple</td>\n",
       "      <td>1</td>\n",
       "    </tr>\n",
       "    <tr>\n",
       "      <th>2</th>\n",
       "      <td>2020-08-27</td>\n",
       "      <td>Yusei Kikuchi</td>\n",
       "      <td>grounded_into_double_play</td>\n",
       "      <td>1</td>\n",
       "    </tr>\n",
       "    <tr>\n",
       "      <th>3</th>\n",
       "      <td>2020-08-27</td>\n",
       "      <td>Matt Magill</td>\n",
       "      <td>home_run</td>\n",
       "      <td>4</td>\n",
       "    </tr>\n",
       "    <tr>\n",
       "      <th>4</th>\n",
       "      <td>2020-08-27</td>\n",
       "      <td>Yoshihisa Hirano</td>\n",
       "      <td>force_out</td>\n",
       "      <td>2</td>\n",
       "    </tr>\n",
       "    <tr>\n",
       "      <th>5</th>\n",
       "      <td>2020-08-29</td>\n",
       "      <td>Antonio Senzatela</td>\n",
       "      <td>fielders_choice_out</td>\n",
       "      <td>1</td>\n",
       "    </tr>\n",
       "    <tr>\n",
       "      <th>6</th>\n",
       "      <td>2020-08-30</td>\n",
       "      <td>Ryan Castellani</td>\n",
       "      <td>strikeout</td>\n",
       "      <td>2</td>\n",
       "    </tr>\n",
       "    <tr>\n",
       "      <th>7</th>\n",
       "      <td>2020-08-30</td>\n",
       "      <td>Ryan Castellani</td>\n",
       "      <td>strikeout</td>\n",
       "      <td>2</td>\n",
       "    </tr>\n",
       "    <tr>\n",
       "      <th>8</th>\n",
       "      <td>2020-08-30</td>\n",
       "      <td>James Pazos</td>\n",
       "      <td>single</td>\n",
       "      <td>11</td>\n",
       "    </tr>\n",
       "    <tr>\n",
       "      <th>9</th>\n",
       "      <td>2020-08-30</td>\n",
       "      <td>James Pazos</td>\n",
       "      <td>single</td>\n",
       "      <td>11</td>\n",
       "    </tr>\n",
       "    <tr>\n",
       "      <th>10</th>\n",
       "      <td>2020-08-31</td>\n",
       "      <td>German Marquez</td>\n",
       "      <td>sac_fly</td>\n",
       "      <td>2</td>\n",
       "    </tr>\n",
       "    <tr>\n",
       "      <th>11</th>\n",
       "      <td>2020-08-31</td>\n",
       "      <td>Jeff Hoffman</td>\n",
       "      <td>field_out</td>\n",
       "      <td>15</td>\n",
       "    </tr>\n",
       "  </tbody>\n",
       "</table>\n",
       "</div>"
      ],
      "text/plain": [
       "    game_date        player_name                     events  n_events\n",
       "0  2020-08-25     Marco Gonzales                     double         1\n",
       "1  2020-08-25        Joey Gerber                     triple         1\n",
       "2  2020-08-27      Yusei Kikuchi  grounded_into_double_play         1\n",
       "3  2020-08-27        Matt Magill                   home_run         4\n",
       "4  2020-08-27   Yoshihisa Hirano                  force_out         2\n",
       "5  2020-08-29  Antonio Senzatela        fielders_choice_out         1\n",
       "6  2020-08-30    Ryan Castellani                  strikeout         2\n",
       "7  2020-08-30    Ryan Castellani                  strikeout         2\n",
       "8  2020-08-30        James Pazos                     single        11\n",
       "9  2020-08-30        James Pazos                     single        11\n",
       "10 2020-08-31     German Marquez                    sac_fly         2\n",
       "11 2020-08-31       Jeff Hoffman                  field_out        15"
      ]
     },
     "execution_count": 80,
     "metadata": {},
     "output_type": "execute_result"
    },
    {
     "data": {
      "application/javascript": [
       "\n",
       "            setTimeout(function() {\n",
       "                var nbb_cell_id = 80;\n",
       "                var nbb_unformatted_code = \"# Find where Machado he reached two events for the first time\\n\\nsql_query = \\\"\\\"\\\"\\n\\nWITH t AS\\n    (SELECT game_date, at_bat_number, player_name, events,\\n           COUNT(events) OVER(PARTITION BY events ORDER BY game_date, at_bat_number) AS n_events\\n    FROM statcast2020\\n    WHERE batter = (SELECT DISTINCT key_mlbam\\n                    FROM player_id\\n                    WHERE name_last = 'machado'\\n                    AND name_first = 'manny')\\n    AND events IS NOT NULL\\n    AND CURRENT_DATE - CAST(game_date AS DATE) < 10\\n    ORDER BY game_date, at_bat_number)\\n\\nSELECT main.game_date,\\n       main.player_name,\\n       main.events,\\n       main.n_events\\nFROM t AS main\\nWHERE\\n      (main.n_events) >= \\n          (SELECT (MAX(sub.n_events))\\n           FROM t AS sub\\n           WHERE main.events = sub.events)\\n       \\n;\\n\\\"\\\"\\\"\\npd.read_sql_query(sql_query, con)\";\n",
       "                var nbb_formatted_code = \"# Find where Machado he reached two events for the first time\\n\\nsql_query = \\\"\\\"\\\"\\n\\nWITH t AS\\n    (SELECT game_date, at_bat_number, player_name, events,\\n           COUNT(events) OVER(PARTITION BY events ORDER BY game_date, at_bat_number) AS n_events\\n    FROM statcast2020\\n    WHERE batter = (SELECT DISTINCT key_mlbam\\n                    FROM player_id\\n                    WHERE name_last = 'machado'\\n                    AND name_first = 'manny')\\n    AND events IS NOT NULL\\n    AND CURRENT_DATE - CAST(game_date AS DATE) < 10\\n    ORDER BY game_date, at_bat_number)\\n\\nSELECT main.game_date,\\n       main.player_name,\\n       main.events,\\n       main.n_events\\nFROM t AS main\\nWHERE\\n      (main.n_events) >= \\n          (SELECT (MAX(sub.n_events))\\n           FROM t AS sub\\n           WHERE main.events = sub.events)\\n       \\n;\\n\\\"\\\"\\\"\\npd.read_sql_query(sql_query, con)\";\n",
       "                var nbb_cells = Jupyter.notebook.get_cells();\n",
       "                for (var i = 0; i < nbb_cells.length; ++i) {\n",
       "                    if (nbb_cells[i].input_prompt_number == nbb_cell_id) {\n",
       "                        if (nbb_cells[i].get_text() == nbb_unformatted_code) {\n",
       "                             nbb_cells[i].set_text(nbb_formatted_code);\n",
       "                        }\n",
       "                        break;\n",
       "                    }\n",
       "                }\n",
       "            }, 500);\n",
       "            "
      ],
      "text/plain": [
       "<IPython.core.display.Javascript object>"
      ]
     },
     "metadata": {},
     "output_type": "display_data"
    }
   ],
   "source": [
    "# Find where Machado he reached two events for the first time\n",
    "\n",
    "sql_query = \"\"\"\n",
    "\n",
    "WITH t AS\n",
    "    (SELECT game_date, at_bat_number, player_name, events,\n",
    "           COUNT(events) OVER(PARTITION BY events ORDER BY game_date, at_bat_number) AS n_events\n",
    "    FROM statcast2020\n",
    "    WHERE batter = (SELECT DISTINCT key_mlbam\n",
    "                    FROM player_id\n",
    "                    WHERE name_last = 'machado'\n",
    "                    AND name_first = 'manny')\n",
    "    AND events IS NOT NULL\n",
    "    AND CURRENT_DATE - CAST(game_date AS DATE) < 10\n",
    "    ORDER BY game_date, at_bat_number)\n",
    "\n",
    "SELECT main.game_date,\n",
    "       main.player_name,\n",
    "       main.events,\n",
    "       main.n_events\n",
    "FROM t AS main\n",
    "WHERE\n",
    "      (main.n_events) >= \n",
    "          (SELECT (MAX(sub.n_events))\n",
    "           FROM t AS sub\n",
    "           WHERE main.events = sub.events)\n",
    "       \n",
    ";\n",
    "\"\"\"\n",
    "pd.read_sql_query(sql_query, con)\n"
   ]
  },
  {
   "cell_type": "markdown",
   "metadata": {},
   "source": [
    "## Run CTE, correlated subquery, nested subquery"
   ]
  },
  {
   "cell_type": "code",
   "execution_count": null,
   "metadata": {},
   "outputs": [],
   "source": []
  },
  {
   "cell_type": "code",
   "execution_count": null,
   "metadata": {},
   "outputs": [],
   "source": []
  },
  {
   "cell_type": "markdown",
   "metadata": {},
   "source": [
    "# Starting lineup of stats"
   ]
  },
  {
   "cell_type": "code",
   "execution_count": null,
   "metadata": {},
   "outputs": [],
   "source": []
  },
  {
   "cell_type": "code",
   "execution_count": null,
   "metadata": {},
   "outputs": [],
   "source": []
  },
  {
   "cell_type": "code",
   "execution_count": null,
   "metadata": {},
   "outputs": [],
   "source": []
  },
  {
   "cell_type": "markdown",
   "metadata": {
    "ExecuteTime": {
     "end_time": "2020-02-14T22:55:00.488628Z",
     "start_time": "2020-02-14T22:55:00.237033Z"
    }
   },
   "source": [
    "# --"
   ]
  },
  {
   "cell_type": "markdown",
   "metadata": {
    "ExecuteTime": {
     "end_time": "2020-06-08T19:40:33.312860Z",
     "start_time": "2020-06-08T19:40:33.289158Z"
    }
   },
   "source": [
    "# --"
   ]
  },
  {
   "cell_type": "code",
   "execution_count": null,
   "metadata": {},
   "outputs": [],
   "source": []
  }
 ],
 "metadata": {
  "kernelspec": {
   "display_name": "Python 3",
   "language": "python",
   "name": "python3"
  },
  "language_info": {
   "codemirror_mode": {
    "name": "ipython",
    "version": 3
   },
   "file_extension": ".py",
   "mimetype": "text/x-python",
   "name": "python",
   "nbconvert_exporter": "python",
   "pygments_lexer": "ipython3",
   "version": "3.6.9"
  },
  "toc": {
   "base_numbering": 1,
   "nav_menu": {},
   "number_sections": true,
   "sideBar": true,
   "skip_h1_title": false,
   "title_cell": "Table of Contents",
   "title_sidebar": "Contents",
   "toc_cell": false,
   "toc_position": {
    "height": "calc(100% - 180px)",
    "left": "10px",
    "top": "150px",
    "width": "234px"
   },
   "toc_section_display": true,
   "toc_window_display": true
  },
  "varInspector": {
   "cols": {
    "lenName": 16,
    "lenType": 16,
    "lenVar": 40
   },
   "kernels_config": {
    "python": {
     "delete_cmd_postfix": "",
     "delete_cmd_prefix": "del ",
     "library": "var_list.py",
     "varRefreshCmd": "print(var_dic_list())"
    },
    "r": {
     "delete_cmd_postfix": ") ",
     "delete_cmd_prefix": "rm(",
     "library": "var_list.r",
     "varRefreshCmd": "cat(var_dic_list()) "
    }
   },
   "types_to_exclude": [
    "module",
    "function",
    "builtin_function_or_method",
    "instance",
    "_Feature"
   ],
   "window_display": false
  }
 },
 "nbformat": 4,
 "nbformat_minor": 4
}
