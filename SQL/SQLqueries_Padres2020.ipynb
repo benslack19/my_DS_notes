{
 "cells": [
  {
   "cell_type": "markdown",
   "metadata": {},
   "source": [
    "**Querying postgreSQL in Jupyter notebook**\n",
    "\n",
    "Updated Padres info for SQL querying."
   ]
  },
  {
   "cell_type": "markdown",
   "metadata": {},
   "source": [
    "# Setup and custom tables"
   ]
  },
  {
   "cell_type": "code",
   "execution_count": 10,
   "metadata": {
    "ExecuteTime": {
     "end_time": "2020-08-09T20:45:01.840748Z",
     "start_time": "2020-08-09T20:45:01.817954Z"
    }
   },
   "outputs": [
    {
     "name": "stdout",
     "output_type": "stream",
     "text": [
      "The nb_black extension is already loaded. To reload it, use:\n",
      "  %reload_ext nb_black\n"
     ]
    },
    {
     "data": {
      "application/javascript": [
       "\n",
       "            setTimeout(function() {\n",
       "                var nbb_cell_id = 10;\n",
       "                var nbb_unformatted_code = \"import os\\nimport numpy as np\\nimport pandas as pd\\nimport matplotlib\\nimport matplotlib.pyplot as plt\\nimport seaborn as sns\\nimport sklearn\\nimport datetime\\n\\n# Multiprocessing/threading\\nimport multiprocess\\nimport threading\\nfrom threading import Thread\\n\\n# Code formatting with Jupyter black\\n%load_ext nb_black\";\n",
       "                var nbb_formatted_code = \"import os\\nimport numpy as np\\nimport pandas as pd\\nimport matplotlib\\nimport matplotlib.pyplot as plt\\nimport seaborn as sns\\nimport sklearn\\nimport datetime\\n\\n# Multiprocessing/threading\\nimport multiprocess\\nimport threading\\nfrom threading import Thread\\n\\n# Code formatting with Jupyter black\\n%load_ext nb_black\";\n",
       "                var nbb_cells = Jupyter.notebook.get_cells();\n",
       "                for (var i = 0; i < nbb_cells.length; ++i) {\n",
       "                    if (nbb_cells[i].input_prompt_number == nbb_cell_id) {\n",
       "                        if (nbb_cells[i].get_text() == nbb_unformatted_code) {\n",
       "                             nbb_cells[i].set_text(nbb_formatted_code);\n",
       "                        }\n",
       "                        break;\n",
       "                    }\n",
       "                }\n",
       "            }, 500);\n",
       "            "
      ],
      "text/plain": [
       "<IPython.core.display.Javascript object>"
      ]
     },
     "metadata": {},
     "output_type": "display_data"
    }
   ],
   "source": [
    "import os\n",
    "import numpy as np\n",
    "import pandas as pd\n",
    "import matplotlib\n",
    "import matplotlib.pyplot as plt\n",
    "import seaborn as sns\n",
    "import sklearn\n",
    "import datetime\n",
    "\n",
    "# Multiprocessing/threading\n",
    "import multiprocess\n",
    "import threading\n",
    "from threading import Thread\n",
    "\n",
    "# Code formatting with Jupyter black\n",
    "%load_ext nb_black"
   ]
  },
  {
   "cell_type": "code",
   "execution_count": 6,
   "metadata": {
    "ExecuteTime": {
     "end_time": "2020-08-09T20:40:33.171745Z",
     "start_time": "2020-08-09T20:40:33.160261Z"
    }
   },
   "outputs": [
    {
     "data": {
      "application/javascript": [
       "\n",
       "            setTimeout(function() {\n",
       "                var nbb_cell_id = 6;\n",
       "                var nbb_unformatted_code = \"# Web/database stuff\\nimport sqlalchemy\\nimport sqlalchemy_utils\\nfrom sqlalchemy import create_engine\\nfrom sqlalchemy_utils import database_exists, create_database\\nimport psycopg2\\n\\n# Multiprocessing/threading\\nimport multiprocess\\nimport threading   # included in base\";\n",
       "                var nbb_formatted_code = \"# Web/database stuff\\nimport sqlalchemy\\nimport sqlalchemy_utils\\nfrom sqlalchemy import create_engine\\nfrom sqlalchemy_utils import database_exists, create_database\\nimport psycopg2\\n\\n# Multiprocessing/threading\\nimport multiprocess\\nimport threading  # included in base\";\n",
       "                var nbb_cells = Jupyter.notebook.get_cells();\n",
       "                for (var i = 0; i < nbb_cells.length; ++i) {\n",
       "                    if (nbb_cells[i].input_prompt_number == nbb_cell_id) {\n",
       "                        if (nbb_cells[i].get_text() == nbb_unformatted_code) {\n",
       "                             nbb_cells[i].set_text(nbb_formatted_code);\n",
       "                        }\n",
       "                        break;\n",
       "                    }\n",
       "                }\n",
       "            }, 500);\n",
       "            "
      ],
      "text/plain": [
       "<IPython.core.display.Javascript object>"
      ]
     },
     "metadata": {},
     "output_type": "display_data"
    }
   ],
   "source": [
    "# Web/database stuff\n",
    "import sqlalchemy\n",
    "import sqlalchemy_utils\n",
    "from sqlalchemy import create_engine\n",
    "from sqlalchemy_utils import database_exists, create_database\n",
    "import psycopg2\n",
    "\n",
    "# Multiprocessing/threading\n",
    "import multiprocess\n",
    "import threading  # included in base"
   ]
  },
  {
   "cell_type": "code",
   "execution_count": 7,
   "metadata": {
    "ExecuteTime": {
     "end_time": "2020-08-09T20:40:33.905112Z",
     "start_time": "2020-08-09T20:40:33.879945Z"
    }
   },
   "outputs": [
    {
     "name": "stdout",
     "output_type": "stream",
     "text": [
      "numpy:  1.17.4\n",
      "pandas:  0.25.3\n",
      "matplotlib:  3.1.3\n",
      "seaborn:  0.9.0\n",
      "sklearn:  0.22\n",
      "psycopg2:  2.8.4 (dt dec pq3 ext lo64)\n",
      "sqlalchemy:  1.3.11\n",
      "sqlalchemy_utils:  0.36.1\n",
      "multiprocess:  0.70.9\n"
     ]
    },
    {
     "data": {
      "application/javascript": [
       "\n",
       "            setTimeout(function() {\n",
       "                var nbb_cell_id = 7;\n",
       "                var nbb_unformatted_code = \"# Check versioning\\nprint('numpy: ', np.__version__)\\nprint('pandas: ', pd.__version__)\\nprint('matplotlib: ', matplotlib.__version__)\\nprint('seaborn: ', sns.__version__)\\nprint('sklearn: ', sklearn.__version__)\\n\\nprint('psycopg2: ', psycopg2.__version__)\\nprint('sqlalchemy: ', sqlalchemy.__version__)\\nprint('sqlalchemy_utils: ', sqlalchemy_utils.__version__)\\nprint('multiprocess: ', multiprocess.__version__)\";\n",
       "                var nbb_formatted_code = \"# Check versioning\\nprint(\\\"numpy: \\\", np.__version__)\\nprint(\\\"pandas: \\\", pd.__version__)\\nprint(\\\"matplotlib: \\\", matplotlib.__version__)\\nprint(\\\"seaborn: \\\", sns.__version__)\\nprint(\\\"sklearn: \\\", sklearn.__version__)\\n\\nprint(\\\"psycopg2: \\\", psycopg2.__version__)\\nprint(\\\"sqlalchemy: \\\", sqlalchemy.__version__)\\nprint(\\\"sqlalchemy_utils: \\\", sqlalchemy_utils.__version__)\\nprint(\\\"multiprocess: \\\", multiprocess.__version__)\";\n",
       "                var nbb_cells = Jupyter.notebook.get_cells();\n",
       "                for (var i = 0; i < nbb_cells.length; ++i) {\n",
       "                    if (nbb_cells[i].input_prompt_number == nbb_cell_id) {\n",
       "                        if (nbb_cells[i].get_text() == nbb_unformatted_code) {\n",
       "                             nbb_cells[i].set_text(nbb_formatted_code);\n",
       "                        }\n",
       "                        break;\n",
       "                    }\n",
       "                }\n",
       "            }, 500);\n",
       "            "
      ],
      "text/plain": [
       "<IPython.core.display.Javascript object>"
      ]
     },
     "metadata": {},
     "output_type": "display_data"
    }
   ],
   "source": [
    "# Check versioning\n",
    "print(\"numpy: \", np.__version__)\n",
    "print(\"pandas: \", pd.__version__)\n",
    "print(\"matplotlib: \", matplotlib.__version__)\n",
    "print(\"seaborn: \", sns.__version__)\n",
    "print(\"sklearn: \", sklearn.__version__)\n",
    "\n",
    "print(\"psycopg2: \", psycopg2.__version__)\n",
    "print(\"sqlalchemy: \", sqlalchemy.__version__)\n",
    "print(\"sqlalchemy_utils: \", sqlalchemy_utils.__version__)\n",
    "print(\"multiprocess: \", multiprocess.__version__)"
   ]
  },
  {
   "cell_type": "code",
   "execution_count": 8,
   "metadata": {
    "ExecuteTime": {
     "end_time": "2020-08-09T20:40:36.821511Z",
     "start_time": "2020-08-09T20:40:35.348217Z"
    }
   },
   "outputs": [
    {
     "data": {
      "application/javascript": [
       "\n",
       "            setTimeout(function() {\n",
       "                var nbb_cell_id = 8;\n",
       "                var nbb_unformatted_code = \"from pybaseball import pitching_stats\\nfrom pybaseball import batting_stats\\nfrom pybaseball import statcast_pitcher\\nfrom pybaseball import playerid_lookup\\nfrom pybaseball import statcast\\nfrom pybaseball import playerid_reverse_lookup\";\n",
       "                var nbb_formatted_code = \"from pybaseball import pitching_stats\\nfrom pybaseball import batting_stats\\nfrom pybaseball import statcast_pitcher\\nfrom pybaseball import playerid_lookup\\nfrom pybaseball import statcast\\nfrom pybaseball import playerid_reverse_lookup\";\n",
       "                var nbb_cells = Jupyter.notebook.get_cells();\n",
       "                for (var i = 0; i < nbb_cells.length; ++i) {\n",
       "                    if (nbb_cells[i].input_prompt_number == nbb_cell_id) {\n",
       "                        if (nbb_cells[i].get_text() == nbb_unformatted_code) {\n",
       "                             nbb_cells[i].set_text(nbb_formatted_code);\n",
       "                        }\n",
       "                        break;\n",
       "                    }\n",
       "                }\n",
       "            }, 500);\n",
       "            "
      ],
      "text/plain": [
       "<IPython.core.display.Javascript object>"
      ]
     },
     "metadata": {},
     "output_type": "display_data"
    }
   ],
   "source": [
    "from pybaseball import pitching_stats\n",
    "from pybaseball import batting_stats\n",
    "from pybaseball import statcast_pitcher\n",
    "from pybaseball import playerid_lookup\n",
    "from pybaseball import statcast\n",
    "from pybaseball import playerid_reverse_lookup"
   ]
  },
  {
   "cell_type": "code",
   "execution_count": 9,
   "metadata": {
    "ExecuteTime": {
     "end_time": "2020-08-09T20:40:52.676868Z",
     "start_time": "2020-08-09T20:40:52.634303Z"
    }
   },
   "outputs": [
    {
     "name": "stdout",
     "output_type": "stream",
     "text": [
      "postgres://lacar@localhost/baseball\n"
     ]
    },
    {
     "data": {
      "application/javascript": [
       "\n",
       "            setTimeout(function() {\n",
       "                var nbb_cell_id = 9;\n",
       "                var nbb_unformatted_code = \"# Define a database name\\n# Set your postgres username\\ndbname = \\\"baseball\\\"\\nusername = \\\"lacar\\\"  # change this to your username\\n\\n# Working with PostgreSQL in Python\\n# Connect to make queries using psycopg2\\ncon = None\\ncon = psycopg2.connect(database=dbname, user=username)\\n\\n# Here, we're using postgres, but sqlalchemy can connect to other things too.\\nengine = create_engine(\\\"postgres://%s@localhost/%s\\\" % (username, dbname))\\nprint(engine.url)\";\n",
       "                var nbb_formatted_code = \"# Define a database name\\n# Set your postgres username\\ndbname = \\\"baseball\\\"\\nusername = \\\"lacar\\\"  # change this to your username\\n\\n# Working with PostgreSQL in Python\\n# Connect to make queries using psycopg2\\ncon = None\\ncon = psycopg2.connect(database=dbname, user=username)\\n\\n# Here, we're using postgres, but sqlalchemy can connect to other things too.\\nengine = create_engine(\\\"postgres://%s@localhost/%s\\\" % (username, dbname))\\nprint(engine.url)\";\n",
       "                var nbb_cells = Jupyter.notebook.get_cells();\n",
       "                for (var i = 0; i < nbb_cells.length; ++i) {\n",
       "                    if (nbb_cells[i].input_prompt_number == nbb_cell_id) {\n",
       "                        if (nbb_cells[i].get_text() == nbb_unformatted_code) {\n",
       "                             nbb_cells[i].set_text(nbb_formatted_code);\n",
       "                        }\n",
       "                        break;\n",
       "                    }\n",
       "                }\n",
       "            }, 500);\n",
       "            "
      ],
      "text/plain": [
       "<IPython.core.display.Javascript object>"
      ]
     },
     "metadata": {},
     "output_type": "display_data"
    }
   ],
   "source": [
    "# Define a database name\n",
    "# Set your postgres username\n",
    "dbname = \"baseball\"\n",
    "username = \"lacar\"  # change this to your username\n",
    "\n",
    "# Working with PostgreSQL in Python\n",
    "# Connect to make queries using psycopg2\n",
    "con = None\n",
    "con = psycopg2.connect(database=dbname, user=username)\n",
    "\n",
    "# Here, we're using postgres, but sqlalchemy can connect to other things too.\n",
    "engine = create_engine(\"postgres://%s@localhost/%s\" % (username, dbname))\n",
    "print(engine.url)"
   ]
  },
  {
   "cell_type": "markdown",
   "metadata": {},
   "source": [
    "## Importing new data with pybaseball, sending to database"
   ]
  },
  {
   "cell_type": "markdown",
   "metadata": {},
   "source": [
    "### Player key info"
   ]
  },
  {
   "cell_type": "code",
   "execution_count": null,
   "metadata": {},
   "outputs": [],
   "source": []
  },
  {
   "cell_type": "code",
   "execution_count": null,
   "metadata": {},
   "outputs": [],
   "source": []
  },
  {
   "cell_type": "code",
   "execution_count": null,
   "metadata": {},
   "outputs": [],
   "source": []
  },
  {
   "cell_type": "markdown",
   "metadata": {},
   "source": [
    "### Statcast data"
   ]
  },
  {
   "cell_type": "code",
   "execution_count": 14,
   "metadata": {
    "ExecuteTime": {
     "end_time": "2020-08-09T20:45:50.656139Z",
     "start_time": "2020-08-09T20:45:50.646204Z"
    }
   },
   "outputs": [
    {
     "name": "stdout",
     "output_type": "stream",
     "text": [
      "2020-08-09\n"
     ]
    },
    {
     "data": {
      "application/javascript": [
       "\n",
       "            setTimeout(function() {\n",
       "                var nbb_cell_id = 14;\n",
       "                var nbb_unformatted_code = \"current_date = datetime.date.today()\\nprint(current_date)\";\n",
       "                var nbb_formatted_code = \"current_date = datetime.date.today()\\nprint(current_date)\";\n",
       "                var nbb_cells = Jupyter.notebook.get_cells();\n",
       "                for (var i = 0; i < nbb_cells.length; ++i) {\n",
       "                    if (nbb_cells[i].input_prompt_number == nbb_cell_id) {\n",
       "                        if (nbb_cells[i].get_text() == nbb_unformatted_code) {\n",
       "                             nbb_cells[i].set_text(nbb_formatted_code);\n",
       "                        }\n",
       "                        break;\n",
       "                    }\n",
       "                }\n",
       "            }, 500);\n",
       "            "
      ],
      "text/plain": [
       "<IPython.core.display.Javascript object>"
      ]
     },
     "metadata": {},
     "output_type": "display_data"
    }
   ],
   "source": [
    "current_date = datetime.date.today()\n",
    "print(current_date)"
   ]
  },
  {
   "cell_type": "code",
   "execution_count": 19,
   "metadata": {
    "ExecuteTime": {
     "end_time": "2020-08-09T20:50:43.125295Z",
     "start_time": "2020-08-09T20:49:11.333027Z"
    }
   },
   "outputs": [
    {
     "name": "stdout",
     "output_type": "stream",
     "text": [
      "This is a large query, it may take a moment to complete\n",
      "Completed sub-query from 2020-07-19 to 2020-07-24\n",
      "Completed sub-query from 2020-07-25 to 2020-07-30\n",
      "Completed sub-query from 2020-07-31 to 2020-08-05\n",
      "Completed sub-query from 2020-08-06 to 2020-08-09\n",
      "('2020-07-19', '2020-08-09') replace mode\n"
     ]
    },
    {
     "data": {
      "application/javascript": [
       "\n",
       "            setTimeout(function() {\n",
       "                var nbb_cell_id = 19;\n",
       "                var nbb_unformatted_code = \"# Update database based on current date\\n\\n# This can be made more efficient when appending\\n\\ndate_list = [\\n    (\\\"2020-07-19\\\", str(current_date)),\\n    #     (\\\"2016-04-03\\\", \\\"2016-10-02\\\"),   # didn't get\\n]\\n\\nfor i, date_pair in enumerate(date_list):\\n    if i < 1:\\n        df_sc = statcast(date_pair[0], date_pair[1])\\n        df_sc.to_sql(\\\"statcast2020\\\", engine, if_exists=\\\"replace\\\")\\n        print(date_pair, \\\"replace mode\\\")\\n    else:\\n        df_sc = statcast(date_pair[0], date_pair[1])\\n        df_sc.to_sql(\\\"statcast2020\\\", engine, if_exists=\\\"append\\\")\\n        print(date_pair, \\\"append mode\\\")\";\n",
       "                var nbb_formatted_code = \"# Update database based on current date\\n\\n# This can be made more efficient when appending\\n\\ndate_list = [\\n    (\\\"2020-07-19\\\", str(current_date)),\\n    #     (\\\"2016-04-03\\\", \\\"2016-10-02\\\"),   # didn't get\\n]\\n\\nfor i, date_pair in enumerate(date_list):\\n    if i < 1:\\n        df_sc = statcast(date_pair[0], date_pair[1])\\n        df_sc.to_sql(\\\"statcast2020\\\", engine, if_exists=\\\"replace\\\")\\n        print(date_pair, \\\"replace mode\\\")\\n    else:\\n        df_sc = statcast(date_pair[0], date_pair[1])\\n        df_sc.to_sql(\\\"statcast2020\\\", engine, if_exists=\\\"append\\\")\\n        print(date_pair, \\\"append mode\\\")\";\n",
       "                var nbb_cells = Jupyter.notebook.get_cells();\n",
       "                for (var i = 0; i < nbb_cells.length; ++i) {\n",
       "                    if (nbb_cells[i].input_prompt_number == nbb_cell_id) {\n",
       "                        if (nbb_cells[i].get_text() == nbb_unformatted_code) {\n",
       "                             nbb_cells[i].set_text(nbb_formatted_code);\n",
       "                        }\n",
       "                        break;\n",
       "                    }\n",
       "                }\n",
       "            }, 500);\n",
       "            "
      ],
      "text/plain": [
       "<IPython.core.display.Javascript object>"
      ]
     },
     "metadata": {},
     "output_type": "display_data"
    }
   ],
   "source": [
    "# Update database based on current date\n",
    "\n",
    "# This can be made more efficient when appending\n",
    "\n",
    "# date_list = [\n",
    "#     (\"2020-07-19\", str(current_date)),\n",
    "#     #     (\"2016-04-03\", \"2016-10-02\"),   # didn't get\n",
    "# ]\n",
    "\n",
    "# for i, date_pair in enumerate(date_list):\n",
    "#     if i < 1:\n",
    "#         df_sc = statcast(date_pair[0], date_pair[1])\n",
    "#         df_sc.to_sql(\"statcast2020\", engine, if_exists=\"replace\")\n",
    "#         print(date_pair, \"replace mode\")\n",
    "#     else:\n",
    "#         df_sc = statcast(date_pair[0], date_pair[1])\n",
    "#         df_sc.to_sql(\"statcast2020\", engine, if_exists=\"append\")\n",
    "#         print(date_pair, \"append mode\")"
   ]
  },
  {
   "cell_type": "code",
   "execution_count": 18,
   "metadata": {
    "ExecuteTime": {
     "end_time": "2020-08-09T20:47:37.779611Z",
     "start_time": "2020-08-09T20:47:37.768733Z"
    }
   },
   "outputs": [
    {
     "data": {
      "text/plain": [
       "(60110, 90)"
      ]
     },
     "execution_count": 18,
     "metadata": {},
     "output_type": "execute_result"
    },
    {
     "data": {
      "application/javascript": [
       "\n",
       "            setTimeout(function() {\n",
       "                var nbb_cell_id = 18;\n",
       "                var nbb_unformatted_code = \"df_sc.shape\";\n",
       "                var nbb_formatted_code = \"df_sc.shape\";\n",
       "                var nbb_cells = Jupyter.notebook.get_cells();\n",
       "                for (var i = 0; i < nbb_cells.length; ++i) {\n",
       "                    if (nbb_cells[i].input_prompt_number == nbb_cell_id) {\n",
       "                        if (nbb_cells[i].get_text() == nbb_unformatted_code) {\n",
       "                             nbb_cells[i].set_text(nbb_formatted_code);\n",
       "                        }\n",
       "                        break;\n",
       "                    }\n",
       "                }\n",
       "            }, 500);\n",
       "            "
      ],
      "text/plain": [
       "<IPython.core.display.Javascript object>"
      ]
     },
     "metadata": {},
     "output_type": "display_data"
    }
   ],
   "source": [
    "df_sc.shape"
   ]
  },
  {
   "cell_type": "code",
   "execution_count": 22,
   "metadata": {
    "ExecuteTime": {
     "end_time": "2020-08-09T20:53:13.702837Z",
     "start_time": "2020-08-09T20:53:13.691519Z"
    }
   },
   "outputs": [
    {
     "data": {
      "text/plain": [
       "Index(['index', 'pitch_type', 'game_date', 'release_speed', 'release_pos_x',\n",
       "       'release_pos_z', 'player_name', 'batter', 'pitcher', 'events',\n",
       "       'description', 'spin_dir', 'spin_rate_deprecated',\n",
       "       'break_angle_deprecated', 'break_length_deprecated', 'zone', 'des',\n",
       "       'game_type', 'stand', 'p_throws', 'home_team', 'away_team', 'type',\n",
       "       'hit_location', 'bb_type', 'balls', 'strikes', 'game_year', 'pfx_x',\n",
       "       'pfx_z', 'plate_x', 'plate_z', 'on_3b', 'on_2b', 'on_1b',\n",
       "       'outs_when_up', 'inning', 'inning_topbot', 'hc_x', 'hc_y',\n",
       "       'tfs_deprecated', 'tfs_zulu_deprecated', 'fielder_2', 'umpire', 'sv_id',\n",
       "       'vx0', 'vy0', 'vz0', 'ax', 'ay', 'az', 'sz_top', 'sz_bot',\n",
       "       'hit_distance_sc', 'launch_speed', 'launch_angle', 'effective_speed',\n",
       "       'release_spin_rate', 'release_extension', 'game_pk', 'pitcher.1',\n",
       "       'fielder_2.1', 'fielder_3', 'fielder_4', 'fielder_5', 'fielder_6',\n",
       "       'fielder_7', 'fielder_8', 'fielder_9', 'release_pos_y',\n",
       "       'estimated_ba_using_speedangle', 'estimated_woba_using_speedangle',\n",
       "       'woba_value', 'woba_denom', 'babip_value', 'iso_value',\n",
       "       'launch_speed_angle', 'at_bat_number', 'pitch_number', 'pitch_name',\n",
       "       'home_score', 'away_score', 'bat_score', 'fld_score', 'post_away_score',\n",
       "       'post_home_score', 'post_bat_score', 'post_fld_score',\n",
       "       'if_fielding_alignment', 'of_fielding_alignment'],\n",
       "      dtype='object')"
      ]
     },
     "execution_count": 22,
     "metadata": {},
     "output_type": "execute_result"
    },
    {
     "data": {
      "application/javascript": [
       "\n",
       "            setTimeout(function() {\n",
       "                var nbb_cell_id = 22;\n",
       "                var nbb_unformatted_code = \"df_sc.columns\";\n",
       "                var nbb_formatted_code = \"df_sc.columns\";\n",
       "                var nbb_cells = Jupyter.notebook.get_cells();\n",
       "                for (var i = 0; i < nbb_cells.length; ++i) {\n",
       "                    if (nbb_cells[i].input_prompt_number == nbb_cell_id) {\n",
       "                        if (nbb_cells[i].get_text() == nbb_unformatted_code) {\n",
       "                             nbb_cells[i].set_text(nbb_formatted_code);\n",
       "                        }\n",
       "                        break;\n",
       "                    }\n",
       "                }\n",
       "            }, 500);\n",
       "            "
      ],
      "text/plain": [
       "<IPython.core.display.Javascript object>"
      ]
     },
     "metadata": {},
     "output_type": "display_data"
    }
   ],
   "source": [
    "df_sc.columns"
   ]
  },
  {
   "cell_type": "code",
   "execution_count": 25,
   "metadata": {
    "ExecuteTime": {
     "end_time": "2020-08-09T20:56:06.838708Z",
     "start_time": "2020-08-09T20:56:06.662951Z"
    }
   },
   "outputs": [
    {
     "name": "stdout",
     "output_type": "stream",
     "text": [
      "No. of unique players:  1009\n"
     ]
    },
    {
     "data": {
      "application/javascript": [
       "\n",
       "            setTimeout(function() {\n",
       "                var nbb_cell_id = 25;\n",
       "                var nbb_unformatted_code = \"# Make a query to get all unique players\\n\\n# pitchers and batters\\nsql_query = \\\"\\\"\\\"\\n(SELECT DISTINCT pitcher FROM statcast2020)\\nUNION\\n(SELECT DISTINCT batter FROM statcast2020);\\n\\\"\\\"\\\"\\n\\n# Note parantheses around each one helps account for order by or limit\\n# which could kill subquery after first error\\n\\np_from_sql = pd.read_sql_query(sql_query, con)\\np_list = p_from_sql.iloc[:, 0].tolist()\\n\\n# Number of unique players\\nprint('No. of unique players: ', len(p_list))\";\n",
       "                var nbb_formatted_code = \"# Make a query to get all unique players\\n\\n# pitchers and batters\\nsql_query = \\\"\\\"\\\"\\n(SELECT DISTINCT pitcher FROM statcast2020)\\nUNION\\n(SELECT DISTINCT batter FROM statcast2020);\\n\\\"\\\"\\\"\\n\\n# Note parantheses around each one helps account for order by or limit\\n# which could kill subquery after first error\\n\\np_from_sql = pd.read_sql_query(sql_query, con)\\np_list = p_from_sql.iloc[:, 0].tolist()\\n\\n# Number of unique players\\nprint(\\\"No. of unique players: \\\", len(p_list))\";\n",
       "                var nbb_cells = Jupyter.notebook.get_cells();\n",
       "                for (var i = 0; i < nbb_cells.length; ++i) {\n",
       "                    if (nbb_cells[i].input_prompt_number == nbb_cell_id) {\n",
       "                        if (nbb_cells[i].get_text() == nbb_unformatted_code) {\n",
       "                             nbb_cells[i].set_text(nbb_formatted_code);\n",
       "                        }\n",
       "                        break;\n",
       "                    }\n",
       "                }\n",
       "            }, 500);\n",
       "            "
      ],
      "text/plain": [
       "<IPython.core.display.Javascript object>"
      ]
     },
     "metadata": {},
     "output_type": "display_data"
    }
   ],
   "source": [
    "# Make a query to get all unique players\n",
    "\n",
    "# pitchers and batters\n",
    "sql_query = \"\"\"\n",
    "(SELECT DISTINCT pitcher FROM statcast2020)\n",
    "UNION\n",
    "(SELECT DISTINCT batter FROM statcast2020);\n",
    "\"\"\"\n",
    "\n",
    "# Note parantheses around each one helps account for order by or limit\n",
    "# which could kill subquery after first error\n",
    "\n",
    "p_from_sql = pd.read_sql_query(sql_query, con)\n",
    "p_list = p_from_sql.iloc[:, 0].tolist()\n",
    "\n",
    "# Number of unique players\n",
    "print(\"No. of unique players: \", len(p_list))"
   ]
  },
  {
   "cell_type": "code",
   "execution_count": 26,
   "metadata": {
    "ExecuteTime": {
     "end_time": "2020-08-09T20:57:09.299174Z",
     "start_time": "2020-08-09T20:56:59.245279Z"
    }
   },
   "outputs": [
    {
     "name": "stdout",
     "output_type": "stream",
     "text": [
      "Gathering player lookup table. This may take a moment.\n"
     ]
    },
    {
     "data": {
      "application/javascript": [
       "\n",
       "            setTimeout(function() {\n",
       "                var nbb_cell_id = 26;\n",
       "                var nbb_unformatted_code = \"# find the names of the players in player_ids, along with their ids from other data sources\\ndf_pid = playerid_reverse_lookup(p_list, key_type='mlbam')\\ndf_pid.to_sql('player_id', engine, if_exists='append')\";\n",
       "                var nbb_formatted_code = \"# find the names of the players in player_ids, along with their ids from other data sources\\ndf_pid = playerid_reverse_lookup(p_list, key_type=\\\"mlbam\\\")\\ndf_pid.to_sql(\\\"player_id\\\", engine, if_exists=\\\"append\\\")\";\n",
       "                var nbb_cells = Jupyter.notebook.get_cells();\n",
       "                for (var i = 0; i < nbb_cells.length; ++i) {\n",
       "                    if (nbb_cells[i].input_prompt_number == nbb_cell_id) {\n",
       "                        if (nbb_cells[i].get_text() == nbb_unformatted_code) {\n",
       "                             nbb_cells[i].set_text(nbb_formatted_code);\n",
       "                        }\n",
       "                        break;\n",
       "                    }\n",
       "                }\n",
       "            }, 500);\n",
       "            "
      ],
      "text/plain": [
       "<IPython.core.display.Javascript object>"
      ]
     },
     "metadata": {},
     "output_type": "display_data"
    }
   ],
   "source": [
    "# find the names of the players in player_ids, along with their ids from other data sources\n",
    "df_pid = playerid_reverse_lookup(p_list, key_type=\"mlbam\")\n",
    "df_pid.to_sql(\"player_id\", engine, if_exists=\"append\")"
   ]
  },
  {
   "cell_type": "markdown",
   "metadata": {},
   "source": [
    "# Show tables and what statcast table looks like"
   ]
  },
  {
   "cell_type": "code",
   "execution_count": 30,
   "metadata": {
    "ExecuteTime": {
     "end_time": "2020-08-09T20:58:57.291573Z",
     "start_time": "2020-08-09T20:58:57.190113Z"
    }
   },
   "outputs": [
    {
     "data": {
      "text/html": [
       "<div>\n",
       "<style scoped>\n",
       "    .dataframe tbody tr th:only-of-type {\n",
       "        vertical-align: middle;\n",
       "    }\n",
       "\n",
       "    .dataframe tbody tr th {\n",
       "        vertical-align: top;\n",
       "    }\n",
       "\n",
       "    .dataframe thead th {\n",
       "        text-align: right;\n",
       "    }\n",
       "</style>\n",
       "<table border=\"1\" class=\"dataframe\">\n",
       "  <thead>\n",
       "    <tr style=\"text-align: right;\">\n",
       "      <th></th>\n",
       "      <th>table_name</th>\n",
       "    </tr>\n",
       "  </thead>\n",
       "  <tbody>\n",
       "    <tr>\n",
       "      <th>0</th>\n",
       "      <td>statcast</td>\n",
       "    </tr>\n",
       "    <tr>\n",
       "      <th>1</th>\n",
       "      <td>player_id</td>\n",
       "    </tr>\n",
       "    <tr>\n",
       "      <th>2</th>\n",
       "      <td>batting_stats</td>\n",
       "    </tr>\n",
       "    <tr>\n",
       "      <th>3</th>\n",
       "      <td>pitching_stats</td>\n",
       "    </tr>\n",
       "    <tr>\n",
       "      <th>4</th>\n",
       "      <td>pitching_stats_wpid</td>\n",
       "    </tr>\n",
       "    <tr>\n",
       "      <th>5</th>\n",
       "      <td>batting_stats18_wpid</td>\n",
       "    </tr>\n",
       "    <tr>\n",
       "      <th>6</th>\n",
       "      <td>statcast_15</td>\n",
       "    </tr>\n",
       "    <tr>\n",
       "      <th>7</th>\n",
       "      <td>statcast_16</td>\n",
       "    </tr>\n",
       "    <tr>\n",
       "      <th>8</th>\n",
       "      <td>temp_table</td>\n",
       "    </tr>\n",
       "    <tr>\n",
       "      <th>9</th>\n",
       "      <td>input_table</td>\n",
       "    </tr>\n",
       "    <tr>\n",
       "      <th>10</th>\n",
       "      <td>statcast2020</td>\n",
       "    </tr>\n",
       "    <tr>\n",
       "      <th>11</th>\n",
       "      <td>attendance_events</td>\n",
       "    </tr>\n",
       "    <tr>\n",
       "      <th>12</th>\n",
       "      <td>temp_table1</td>\n",
       "    </tr>\n",
       "    <tr>\n",
       "      <th>13</th>\n",
       "      <td>temp_table2</td>\n",
       "    </tr>\n",
       "    <tr>\n",
       "      <th>14</th>\n",
       "      <td>all_students</td>\n",
       "    </tr>\n",
       "    <tr>\n",
       "      <th>15</th>\n",
       "      <td>statcast_simple</td>\n",
       "    </tr>\n",
       "    <tr>\n",
       "      <th>16</th>\n",
       "      <td>page_actions</td>\n",
       "    </tr>\n",
       "    <tr>\n",
       "      <th>17</th>\n",
       "      <td>user_summary</td>\n",
       "    </tr>\n",
       "  </tbody>\n",
       "</table>\n",
       "</div>"
      ],
      "text/plain": [
       "              table_name\n",
       "0               statcast\n",
       "1              player_id\n",
       "2          batting_stats\n",
       "3         pitching_stats\n",
       "4    pitching_stats_wpid\n",
       "5   batting_stats18_wpid\n",
       "6            statcast_15\n",
       "7            statcast_16\n",
       "8             temp_table\n",
       "9            input_table\n",
       "10          statcast2020\n",
       "11     attendance_events\n",
       "12           temp_table1\n",
       "13           temp_table2\n",
       "14          all_students\n",
       "15       statcast_simple\n",
       "16          page_actions\n",
       "17          user_summary"
      ]
     },
     "execution_count": 30,
     "metadata": {},
     "output_type": "execute_result"
    },
    {
     "data": {
      "application/javascript": [
       "\n",
       "            setTimeout(function() {\n",
       "                var nbb_cell_id = 30;\n",
       "                var nbb_unformatted_code = \"# Show all tables\\nsql_query = \\\"\\\"\\\"\\nSELECT table_name\\nFROM information_schema.tables\\nWHERE table_schema='public'\\nAND table_type='BASE TABLE';\\n\\\"\\\"\\\"\\ndf_query = pd.read_sql_query(sql_query,con)\\ndf_query\";\n",
       "                var nbb_formatted_code = \"# Show all tables\\nsql_query = \\\"\\\"\\\"\\nSELECT table_name\\nFROM information_schema.tables\\nWHERE table_schema='public'\\nAND table_type='BASE TABLE';\\n\\\"\\\"\\\"\\ndf_query = pd.read_sql_query(sql_query, con)\\ndf_query\";\n",
       "                var nbb_cells = Jupyter.notebook.get_cells();\n",
       "                for (var i = 0; i < nbb_cells.length; ++i) {\n",
       "                    if (nbb_cells[i].input_prompt_number == nbb_cell_id) {\n",
       "                        if (nbb_cells[i].get_text() == nbb_unformatted_code) {\n",
       "                             nbb_cells[i].set_text(nbb_formatted_code);\n",
       "                        }\n",
       "                        break;\n",
       "                    }\n",
       "                }\n",
       "            }, 500);\n",
       "            "
      ],
      "text/plain": [
       "<IPython.core.display.Javascript object>"
      ]
     },
     "metadata": {},
     "output_type": "display_data"
    }
   ],
   "source": [
    "# Show all tables\n",
    "sql_query = \"\"\"\n",
    "SELECT table_name\n",
    "FROM information_schema.tables\n",
    "WHERE table_schema='public'\n",
    "AND table_type='BASE TABLE';\n",
    "\"\"\"\n",
    "df_query = pd.read_sql_query(sql_query, con)\n",
    "df_query"
   ]
  },
  {
   "cell_type": "markdown",
   "metadata": {
    "ExecuteTime": {
     "end_time": "2020-08-09T20:52:24.133043Z",
     "start_time": "2020-08-09T20:52:24.125354Z"
    }
   },
   "source": [
    "## Test queries"
   ]
  },
  {
   "cell_type": "code",
   "execution_count": 31,
   "metadata": {
    "ExecuteTime": {
     "end_time": "2020-08-09T20:59:06.277213Z",
     "start_time": "2020-08-09T20:59:06.216075Z"
    }
   },
   "outputs": [
    {
     "data": {
      "text/html": [
       "<div>\n",
       "<style scoped>\n",
       "    .dataframe tbody tr th:only-of-type {\n",
       "        vertical-align: middle;\n",
       "    }\n",
       "\n",
       "    .dataframe tbody tr th {\n",
       "        vertical-align: top;\n",
       "    }\n",
       "\n",
       "    .dataframe thead th {\n",
       "        text-align: right;\n",
       "    }\n",
       "</style>\n",
       "<table border=\"1\" class=\"dataframe\">\n",
       "  <thead>\n",
       "    <tr style=\"text-align: right;\">\n",
       "      <th></th>\n",
       "      <th>level_0</th>\n",
       "      <th>index</th>\n",
       "      <th>pitch_type</th>\n",
       "      <th>game_date</th>\n",
       "      <th>release_speed</th>\n",
       "      <th>release_pos_x</th>\n",
       "      <th>release_pos_z</th>\n",
       "      <th>player_name</th>\n",
       "      <th>batter</th>\n",
       "      <th>pitcher</th>\n",
       "      <th>...</th>\n",
       "      <th>home_score</th>\n",
       "      <th>away_score</th>\n",
       "      <th>bat_score</th>\n",
       "      <th>fld_score</th>\n",
       "      <th>post_away_score</th>\n",
       "      <th>post_home_score</th>\n",
       "      <th>post_bat_score</th>\n",
       "      <th>post_fld_score</th>\n",
       "      <th>if_fielding_alignment</th>\n",
       "      <th>of_fielding_alignment</th>\n",
       "    </tr>\n",
       "  </thead>\n",
       "  <tbody>\n",
       "    <tr>\n",
       "      <th>0</th>\n",
       "      <td>0</td>\n",
       "      <td>243</td>\n",
       "      <td>SI</td>\n",
       "      <td>2020-08-08</td>\n",
       "      <td>94.0</td>\n",
       "      <td>-0.429445</td>\n",
       "      <td>5.744621</td>\n",
       "      <td>Anthony Bass</td>\n",
       "      <td>598265.0</td>\n",
       "      <td>542914.0</td>\n",
       "      <td>...</td>\n",
       "      <td>1.0</td>\n",
       "      <td>2.0</td>\n",
       "      <td>1.0</td>\n",
       "      <td>2.0</td>\n",
       "      <td>2.0</td>\n",
       "      <td>1.0</td>\n",
       "      <td>1.0</td>\n",
       "      <td>2.0</td>\n",
       "      <td>Infield shift</td>\n",
       "      <td>Standard</td>\n",
       "    </tr>\n",
       "    <tr>\n",
       "      <th>1</th>\n",
       "      <td>1</td>\n",
       "      <td>246</td>\n",
       "      <td>FS</td>\n",
       "      <td>2020-08-08</td>\n",
       "      <td>86.3</td>\n",
       "      <td>-0.543656</td>\n",
       "      <td>5.754739</td>\n",
       "      <td>Anthony Bass</td>\n",
       "      <td>598265.0</td>\n",
       "      <td>542914.0</td>\n",
       "      <td>...</td>\n",
       "      <td>1.0</td>\n",
       "      <td>2.0</td>\n",
       "      <td>1.0</td>\n",
       "      <td>2.0</td>\n",
       "      <td>2.0</td>\n",
       "      <td>1.0</td>\n",
       "      <td>1.0</td>\n",
       "      <td>2.0</td>\n",
       "      <td>Infield shift</td>\n",
       "      <td>Standard</td>\n",
       "    </tr>\n",
       "    <tr>\n",
       "      <th>2</th>\n",
       "      <td>2</td>\n",
       "      <td>260</td>\n",
       "      <td>SL</td>\n",
       "      <td>2020-08-08</td>\n",
       "      <td>83.6</td>\n",
       "      <td>-0.827589</td>\n",
       "      <td>5.758780</td>\n",
       "      <td>Anthony Bass</td>\n",
       "      <td>598265.0</td>\n",
       "      <td>542914.0</td>\n",
       "      <td>...</td>\n",
       "      <td>1.0</td>\n",
       "      <td>2.0</td>\n",
       "      <td>1.0</td>\n",
       "      <td>2.0</td>\n",
       "      <td>2.0</td>\n",
       "      <td>1.0</td>\n",
       "      <td>1.0</td>\n",
       "      <td>2.0</td>\n",
       "      <td>Infield shift</td>\n",
       "      <td>Standard</td>\n",
       "    </tr>\n",
       "  </tbody>\n",
       "</table>\n",
       "<p>3 rows × 91 columns</p>\n",
       "</div>"
      ],
      "text/plain": [
       "   level_0  index pitch_type  game_date  release_speed  release_pos_x  \\\n",
       "0        0    243         SI 2020-08-08           94.0      -0.429445   \n",
       "1        1    246         FS 2020-08-08           86.3      -0.543656   \n",
       "2        2    260         SL 2020-08-08           83.6      -0.827589   \n",
       "\n",
       "   release_pos_z   player_name    batter   pitcher  ... home_score away_score  \\\n",
       "0       5.744621  Anthony Bass  598265.0  542914.0  ...        1.0        2.0   \n",
       "1       5.754739  Anthony Bass  598265.0  542914.0  ...        1.0        2.0   \n",
       "2       5.758780  Anthony Bass  598265.0  542914.0  ...        1.0        2.0   \n",
       "\n",
       "  bat_score fld_score post_away_score post_home_score  post_bat_score  \\\n",
       "0       1.0       2.0             2.0             1.0             1.0   \n",
       "1       1.0       2.0             2.0             1.0             1.0   \n",
       "2       1.0       2.0             2.0             1.0             1.0   \n",
       "\n",
       "  post_fld_score if_fielding_alignment of_fielding_alignment  \n",
       "0            2.0         Infield shift              Standard  \n",
       "1            2.0         Infield shift              Standard  \n",
       "2            2.0         Infield shift              Standard  \n",
       "\n",
       "[3 rows x 91 columns]"
      ]
     },
     "execution_count": 31,
     "metadata": {},
     "output_type": "execute_result"
    },
    {
     "data": {
      "application/javascript": [
       "\n",
       "            setTimeout(function() {\n",
       "                var nbb_cell_id = 31;\n",
       "                var nbb_unformatted_code = \"# Check statcast query\\nsql_query = \\\"\\\"\\\"\\nSELECT *\\nFROM statcast2020\\nLIMIT 3;\\n\\\"\\\"\\\"\\npd.read_sql_query(sql_query, con)\";\n",
       "                var nbb_formatted_code = \"# Check statcast query\\nsql_query = \\\"\\\"\\\"\\nSELECT *\\nFROM statcast2020\\nLIMIT 3;\\n\\\"\\\"\\\"\\npd.read_sql_query(sql_query, con)\";\n",
       "                var nbb_cells = Jupyter.notebook.get_cells();\n",
       "                for (var i = 0; i < nbb_cells.length; ++i) {\n",
       "                    if (nbb_cells[i].input_prompt_number == nbb_cell_id) {\n",
       "                        if (nbb_cells[i].get_text() == nbb_unformatted_code) {\n",
       "                             nbb_cells[i].set_text(nbb_formatted_code);\n",
       "                        }\n",
       "                        break;\n",
       "                    }\n",
       "                }\n",
       "            }, 500);\n",
       "            "
      ],
      "text/plain": [
       "<IPython.core.display.Javascript object>"
      ]
     },
     "metadata": {},
     "output_type": "display_data"
    }
   ],
   "source": [
    "# Check statcast query\n",
    "sql_query = \"\"\"\n",
    "SELECT *\n",
    "FROM statcast2020\n",
    "LIMIT 3;\n",
    "\"\"\"\n",
    "pd.read_sql_query(sql_query, con)"
   ]
  },
  {
   "cell_type": "code",
   "execution_count": 32,
   "metadata": {
    "ExecuteTime": {
     "end_time": "2020-08-09T20:59:07.496089Z",
     "start_time": "2020-08-09T20:59:07.459535Z"
    }
   },
   "outputs": [
    {
     "data": {
      "text/html": [
       "<div>\n",
       "<style scoped>\n",
       "    .dataframe tbody tr th:only-of-type {\n",
       "        vertical-align: middle;\n",
       "    }\n",
       "\n",
       "    .dataframe tbody tr th {\n",
       "        vertical-align: top;\n",
       "    }\n",
       "\n",
       "    .dataframe thead th {\n",
       "        text-align: right;\n",
       "    }\n",
       "</style>\n",
       "<table border=\"1\" class=\"dataframe\">\n",
       "  <thead>\n",
       "    <tr style=\"text-align: right;\">\n",
       "      <th></th>\n",
       "      <th>index</th>\n",
       "      <th>name_last</th>\n",
       "      <th>name_first</th>\n",
       "      <th>key_mlbam</th>\n",
       "      <th>key_retro</th>\n",
       "      <th>key_bbref</th>\n",
       "      <th>key_fangraphs</th>\n",
       "      <th>mlb_played_first</th>\n",
       "      <th>mlb_played_last</th>\n",
       "    </tr>\n",
       "  </thead>\n",
       "  <tbody>\n",
       "    <tr>\n",
       "      <th>0</th>\n",
       "      <td>0</td>\n",
       "      <td>abad</td>\n",
       "      <td>fernando</td>\n",
       "      <td>472551</td>\n",
       "      <td>abadf001</td>\n",
       "      <td>abadfe01</td>\n",
       "      <td>4994</td>\n",
       "      <td>2010.0</td>\n",
       "      <td>2019.0</td>\n",
       "    </tr>\n",
       "    <tr>\n",
       "      <th>1</th>\n",
       "      <td>1</td>\n",
       "      <td>abreu</td>\n",
       "      <td>bryan</td>\n",
       "      <td>650556</td>\n",
       "      <td>abreb002</td>\n",
       "      <td>abreubr01</td>\n",
       "      <td>16609</td>\n",
       "      <td>2019.0</td>\n",
       "      <td>2019.0</td>\n",
       "    </tr>\n",
       "    <tr>\n",
       "      <th>2</th>\n",
       "      <td>2</td>\n",
       "      <td>abreu</td>\n",
       "      <td>jose</td>\n",
       "      <td>547989</td>\n",
       "      <td>abrej003</td>\n",
       "      <td>abreujo02</td>\n",
       "      <td>15676</td>\n",
       "      <td>2014.0</td>\n",
       "      <td>2019.0</td>\n",
       "    </tr>\n",
       "  </tbody>\n",
       "</table>\n",
       "</div>"
      ],
      "text/plain": [
       "   index name_last name_first  key_mlbam key_retro  key_bbref  key_fangraphs  \\\n",
       "0      0      abad   fernando     472551  abadf001   abadfe01           4994   \n",
       "1      1     abreu      bryan     650556  abreb002  abreubr01          16609   \n",
       "2      2     abreu       jose     547989  abrej003  abreujo02          15676   \n",
       "\n",
       "   mlb_played_first  mlb_played_last  \n",
       "0            2010.0           2019.0  \n",
       "1            2019.0           2019.0  \n",
       "2            2014.0           2019.0  "
      ]
     },
     "execution_count": 32,
     "metadata": {},
     "output_type": "execute_result"
    },
    {
     "data": {
      "application/javascript": [
       "\n",
       "            setTimeout(function() {\n",
       "                var nbb_cell_id = 32;\n",
       "                var nbb_unformatted_code = \"# Check player_id query\\nsql_query = \\\"\\\"\\\"\\nSELECT *\\nFROM player_id\\nLIMIT 3;\\n\\\"\\\"\\\"\\npd.read_sql_query(sql_query, con)\";\n",
       "                var nbb_formatted_code = \"# Check player_id query\\nsql_query = \\\"\\\"\\\"\\nSELECT *\\nFROM player_id\\nLIMIT 3;\\n\\\"\\\"\\\"\\npd.read_sql_query(sql_query, con)\";\n",
       "                var nbb_cells = Jupyter.notebook.get_cells();\n",
       "                for (var i = 0; i < nbb_cells.length; ++i) {\n",
       "                    if (nbb_cells[i].input_prompt_number == nbb_cell_id) {\n",
       "                        if (nbb_cells[i].get_text() == nbb_unformatted_code) {\n",
       "                             nbb_cells[i].set_text(nbb_formatted_code);\n",
       "                        }\n",
       "                        break;\n",
       "                    }\n",
       "                }\n",
       "            }, 500);\n",
       "            "
      ],
      "text/plain": [
       "<IPython.core.display.Javascript object>"
      ]
     },
     "metadata": {},
     "output_type": "display_data"
    }
   ],
   "source": [
    "# Check player_id query\n",
    "sql_query = \"\"\"\n",
    "SELECT *\n",
    "FROM player_id\n",
    "LIMIT 3;\n",
    "\"\"\"\n",
    "pd.read_sql_query(sql_query, con)"
   ]
  },
  {
   "cell_type": "code",
   "execution_count": 33,
   "metadata": {
    "ExecuteTime": {
     "end_time": "2020-08-09T20:59:09.613818Z",
     "start_time": "2020-08-09T20:59:09.597801Z"
    }
   },
   "outputs": [
    {
     "data": {
      "text/html": [
       "<div>\n",
       "<style scoped>\n",
       "    .dataframe tbody tr th:only-of-type {\n",
       "        vertical-align: middle;\n",
       "    }\n",
       "\n",
       "    .dataframe tbody tr th {\n",
       "        vertical-align: top;\n",
       "    }\n",
       "\n",
       "    .dataframe thead th {\n",
       "        text-align: right;\n",
       "    }\n",
       "</style>\n",
       "<table border=\"1\" class=\"dataframe\">\n",
       "  <thead>\n",
       "    <tr style=\"text-align: right;\">\n",
       "      <th></th>\n",
       "      <th>count</th>\n",
       "    </tr>\n",
       "  </thead>\n",
       "  <tbody>\n",
       "    <tr>\n",
       "      <th>0</th>\n",
       "      <td>2975</td>\n",
       "    </tr>\n",
       "  </tbody>\n",
       "</table>\n",
       "</div>"
      ],
      "text/plain": [
       "   count\n",
       "0   2975"
      ]
     },
     "execution_count": 33,
     "metadata": {},
     "output_type": "execute_result"
    },
    {
     "data": {
      "application/javascript": [
       "\n",
       "            setTimeout(function() {\n",
       "                var nbb_cell_id = 33;\n",
       "                var nbb_unformatted_code = \"# Check player_id query\\nsql_query = \\\"\\\"\\\"\\nSELECT COUNT(*)\\nFROM player_id;\\n\\\"\\\"\\\"\\npd.read_sql_query(sql_query, con)\";\n",
       "                var nbb_formatted_code = \"# Check player_id query\\nsql_query = \\\"\\\"\\\"\\nSELECT COUNT(*)\\nFROM player_id;\\n\\\"\\\"\\\"\\npd.read_sql_query(sql_query, con)\";\n",
       "                var nbb_cells = Jupyter.notebook.get_cells();\n",
       "                for (var i = 0; i < nbb_cells.length; ++i) {\n",
       "                    if (nbb_cells[i].input_prompt_number == nbb_cell_id) {\n",
       "                        if (nbb_cells[i].get_text() == nbb_unformatted_code) {\n",
       "                             nbb_cells[i].set_text(nbb_formatted_code);\n",
       "                        }\n",
       "                        break;\n",
       "                    }\n",
       "                }\n",
       "            }, 500);\n",
       "            "
      ],
      "text/plain": [
       "<IPython.core.display.Javascript object>"
      ]
     },
     "metadata": {},
     "output_type": "display_data"
    }
   ],
   "source": [
    "# Check player_id query\n",
    "sql_query = \"\"\"\n",
    "SELECT COUNT(*)\n",
    "FROM player_id;\n",
    "\"\"\"\n",
    "pd.read_sql_query(sql_query, con)"
   ]
  },
  {
   "cell_type": "markdown",
   "metadata": {},
   "source": [
    "# Generating a running total of hits"
   ]
  },
  {
   "cell_type": "code",
   "execution_count": null,
   "metadata": {},
   "outputs": [],
   "source": [
    "# Get Padres statcast data only\n",
    "\n",
    "sql_query = \"\"\"\n",
    "SELECT COUNT(*)\n",
    "FROM player_id;\n",
    "\"\"\"\n",
    "pd.read_sql_query(sql_query, con)"
   ]
  },
  {
   "cell_type": "code",
   "execution_count": null,
   "metadata": {},
   "outputs": [],
   "source": []
  },
  {
   "cell_type": "code",
   "execution_count": null,
   "metadata": {},
   "outputs": [],
   "source": []
  },
  {
   "cell_type": "code",
   "execution_count": null,
   "metadata": {},
   "outputs": [],
   "source": []
  },
  {
   "cell_type": "code",
   "execution_count": null,
   "metadata": {},
   "outputs": [],
   "source": []
  },
  {
   "cell_type": "code",
   "execution_count": null,
   "metadata": {},
   "outputs": [],
   "source": []
  },
  {
   "cell_type": "code",
   "execution_count": null,
   "metadata": {},
   "outputs": [],
   "source": []
  },
  {
   "cell_type": "markdown",
   "metadata": {
    "ExecuteTime": {
     "end_time": "2020-02-14T22:55:00.488628Z",
     "start_time": "2020-02-14T22:55:00.237033Z"
    }
   },
   "source": [
    "# --"
   ]
  },
  {
   "cell_type": "markdown",
   "metadata": {
    "ExecuteTime": {
     "end_time": "2020-06-08T19:40:33.312860Z",
     "start_time": "2020-06-08T19:40:33.289158Z"
    }
   },
   "source": [
    "# --"
   ]
  },
  {
   "cell_type": "code",
   "execution_count": null,
   "metadata": {},
   "outputs": [],
   "source": []
  }
 ],
 "metadata": {
  "kernelspec": {
   "display_name": "Python 3",
   "language": "python",
   "name": "python3"
  },
  "language_info": {
   "codemirror_mode": {
    "name": "ipython",
    "version": 3
   },
   "file_extension": ".py",
   "mimetype": "text/x-python",
   "name": "python",
   "nbconvert_exporter": "python",
   "pygments_lexer": "ipython3",
   "version": "3.6.9"
  },
  "toc": {
   "base_numbering": 1,
   "nav_menu": {},
   "number_sections": true,
   "sideBar": true,
   "skip_h1_title": false,
   "title_cell": "Table of Contents",
   "title_sidebar": "Contents",
   "toc_cell": false,
   "toc_position": {
    "height": "calc(100% - 180px)",
    "left": "10px",
    "top": "150px",
    "width": "234px"
   },
   "toc_section_display": true,
   "toc_window_display": true
  },
  "varInspector": {
   "cols": {
    "lenName": 16,
    "lenType": 16,
    "lenVar": 40
   },
   "kernels_config": {
    "python": {
     "delete_cmd_postfix": "",
     "delete_cmd_prefix": "del ",
     "library": "var_list.py",
     "varRefreshCmd": "print(var_dic_list())"
    },
    "r": {
     "delete_cmd_postfix": ") ",
     "delete_cmd_prefix": "rm(",
     "library": "var_list.r",
     "varRefreshCmd": "cat(var_dic_list()) "
    }
   },
   "types_to_exclude": [
    "module",
    "function",
    "builtin_function_or_method",
    "instance",
    "_Feature"
   ],
   "window_display": false
  }
 },
 "nbformat": 4,
 "nbformat_minor": 4
}
