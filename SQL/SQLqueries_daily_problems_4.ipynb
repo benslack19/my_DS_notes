{
 "cells": [
  {
   "cell_type": "markdown",
   "metadata": {},
   "source": [
    "**Querying postgreSQL in Jupyter notebook**\n"
   ]
  },
  {
   "cell_type": "markdown",
   "metadata": {},
   "source": [
    "# Setup and custom tables"
   ]
  },
  {
   "cell_type": "code",
   "execution_count": 1,
   "metadata": {
    "ExecuteTime": {
     "end_time": "2020-07-09T22:45:53.311063Z",
     "start_time": "2020-07-09T22:45:51.995590Z"
    }
   },
   "outputs": [],
   "source": [
    "import pandas as pd\n",
    "import sqlalchemy\n",
    "import sqlalchemy_utils\n",
    "from sqlalchemy import create_engine\n",
    "from sqlalchemy_utils import database_exists, create_database\n",
    "import psycopg2"
   ]
  },
  {
   "cell_type": "code",
   "execution_count": 2,
   "metadata": {
    "ExecuteTime": {
     "end_time": "2020-07-09T22:45:54.000072Z",
     "start_time": "2020-07-09T22:45:53.943686Z"
    }
   },
   "outputs": [
    {
     "name": "stdout",
     "output_type": "stream",
     "text": [
      "postgres://lacar@localhost/baseball\n"
     ]
    }
   ],
   "source": [
    "# Define a database name\n",
    "# Set your postgres username\n",
    "dbname = \"baseball\"\n",
    "username = \"lacar\"  # change this to your username\n",
    "\n",
    "# Working with PostgreSQL in Python\n",
    "# Connect to make queries using psycopg2\n",
    "con = None\n",
    "con = psycopg2.connect(database=dbname, user=username)\n",
    "\n",
    "# Here, we're using postgres, but sqlalchemy can connect to other things too.\n",
    "engine = create_engine(\"postgres://%s@localhost/%s\" % (username, dbname))\n",
    "print(engine.url)"
   ]
  },
  {
   "cell_type": "markdown",
   "metadata": {},
   "source": [
    "## Using CTE"
   ]
  },
  {
   "cell_type": "code",
   "execution_count": 3,
   "metadata": {
    "ExecuteTime": {
     "end_time": "2020-07-08T03:01:35.663397Z",
     "start_time": "2020-07-08T03:01:35.423920Z"
    }
   },
   "outputs": [
    {
     "data": {
      "text/html": [
       "<div>\n",
       "<style scoped>\n",
       "    .dataframe tbody tr th:only-of-type {\n",
       "        vertical-align: middle;\n",
       "    }\n",
       "\n",
       "    .dataframe tbody tr th {\n",
       "        vertical-align: top;\n",
       "    }\n",
       "\n",
       "    .dataframe thead th {\n",
       "        text-align: right;\n",
       "    }\n",
       "</style>\n",
       "<table border=\"1\" class=\"dataframe\">\n",
       "  <thead>\n",
       "    <tr style=\"text-align: right;\">\n",
       "      <th></th>\n",
       "      <th>user_id</th>\n",
       "      <th>post</th>\n",
       "      <th>time</th>\n",
       "    </tr>\n",
       "  </thead>\n",
       "  <tbody>\n",
       "    <tr>\n",
       "      <th>0</th>\n",
       "      <td>1</td>\n",
       "      <td>A</td>\n",
       "      <td>2020-02-14</td>\n",
       "    </tr>\n",
       "    <tr>\n",
       "      <th>1</th>\n",
       "      <td>2</td>\n",
       "      <td>B</td>\n",
       "      <td>2020-02-14</td>\n",
       "    </tr>\n",
       "    <tr>\n",
       "      <th>2</th>\n",
       "      <td>3</td>\n",
       "      <td>C</td>\n",
       "      <td>2020-02-15</td>\n",
       "    </tr>\n",
       "    <tr>\n",
       "      <th>3</th>\n",
       "      <td>1</td>\n",
       "      <td>B</td>\n",
       "      <td>2020-02-15</td>\n",
       "    </tr>\n",
       "    <tr>\n",
       "      <th>4</th>\n",
       "      <td>2</td>\n",
       "      <td>A</td>\n",
       "      <td>2020-02-16</td>\n",
       "    </tr>\n",
       "    <tr>\n",
       "      <th>5</th>\n",
       "      <td>3</td>\n",
       "      <td>B</td>\n",
       "      <td>2020-02-17</td>\n",
       "    </tr>\n",
       "    <tr>\n",
       "      <th>6</th>\n",
       "      <td>1</td>\n",
       "      <td>D</td>\n",
       "      <td>2020-02-18</td>\n",
       "    </tr>\n",
       "  </tbody>\n",
       "</table>\n",
       "</div>"
      ],
      "text/plain": [
       "   user_id post        time\n",
       "0        1    A  2020-02-14\n",
       "1        2    B  2020-02-14\n",
       "2        3    C  2020-02-15\n",
       "3        1    B  2020-02-15\n",
       "4        2    A  2020-02-16\n",
       "5        3    B  2020-02-17\n",
       "6        1    D  2020-02-18"
      ]
     },
     "execution_count": 3,
     "metadata": {},
     "output_type": "execute_result"
    }
   ],
   "source": [
    "# Just use a date difference less than 30 days\n",
    "\n",
    "sql_query = \"\"\"\n",
    "WITH posts (user_id, post, time)\n",
    "AS (VALUES\n",
    "(1, 'A', CAST('2-14-20' AS date)),\n",
    "(2, 'B', CAST('2-14-20' AS date)),\n",
    "(3, 'C', CAST('2-15-20' AS date)),\n",
    "(1, 'B', CAST('2-15-20' AS date)),\n",
    "(2, 'A', CAST('2-16-20' AS date)),\n",
    "(3, 'B', CAST('2-17-20' AS date)),\n",
    "(1, 'D', CAST('2-18-20' AS date)))\n",
    "\n",
    "SELECT *\n",
    "FROM posts\n",
    "\"\"\"\n",
    "df_query = pd.read_sql_query(sql_query,con)    \n",
    "df_query"
   ]
  },
  {
   "cell_type": "markdown",
   "metadata": {},
   "source": [
    "## Using pandas"
   ]
  },
  {
   "cell_type": "markdown",
   "metadata": {},
   "source": [
    "### Dates"
   ]
  },
  {
   "cell_type": "code",
   "execution_count": 4,
   "metadata": {
    "ExecuteTime": {
     "end_time": "2020-07-08T03:01:37.588818Z",
     "start_time": "2020-07-08T03:01:37.577666Z"
    },
    "code_folding": []
   },
   "outputs": [],
   "source": [
    "# Generate random date ranges\n",
    "# From https://towardsdatascience.com/mastering-dates-and-timestamps-in-pandas-and-python-in-general-5b8c6edcc50c\n",
    "\n",
    "import random\n",
    "import time\n",
    "from dateutil.parser import parse\n",
    "def str_time_prop(start, end, format, prop):\n",
    "    stime = time.mktime(time.strptime(start, format))\n",
    "    etime = time.mktime(time.strptime(end, format))\n",
    "    ptime = stime + prop * (etime - stime)\n",
    "    return time.strftime(format, time.localtime(ptime))\n",
    "\n",
    "selected_format = '%Y-%m-%d %H:%M:%S'\n",
    "\n",
    "def random_date(start, end, prop):\n",
    "    return parse(str_time_prop(start, end, selected_format, prop)).strftime(selected_format)\n",
    "\n",
    "def make_date(begin_dt, end_dt):\n",
    "    return random_date(begin_dt, end_dt, random.random())\n",
    "\n",
    "# e.g. make_date(\"2020-01-01 13:40:00\", \"2020-01-14 14:50:00\")\n",
    "\n",
    "# Generate dates (my function)\n",
    "def generate_dates(n_dates, begin_dt, end_dt):\n",
    "    return sorted([make_date(begin_dt, end_dt) for x in range(n_dates)])"
   ]
  },
  {
   "cell_type": "markdown",
   "metadata": {
    "ExecuteTime": {
     "end_time": "2020-04-17T14:39:34.812925Z",
     "start_time": "2020-04-17T14:39:34.808510Z"
    }
   },
   "source": [
    "### Names"
   ]
  },
  {
   "cell_type": "code",
   "execution_count": 5,
   "metadata": {
    "ExecuteTime": {
     "end_time": "2020-07-08T03:01:39.432715Z",
     "start_time": "2020-07-08T03:01:39.427554Z"
    },
    "code_folding": [
     1
    ]
   },
   "outputs": [],
   "source": [
    "# Generate names (my function)\n",
    "def generate_name_list(n_names):\n",
    "    import names   # needed to pip install\n",
    "    name_list = list()\n",
    "    for i in range(n_names):\n",
    "        name_list.append(names.get_first_name())\n",
    "    return name_list"
   ]
  },
  {
   "cell_type": "markdown",
   "metadata": {},
   "source": [
    "### Random values within a range"
   ]
  },
  {
   "cell_type": "code",
   "execution_count": 6,
   "metadata": {
    "ExecuteTime": {
     "end_time": "2020-07-08T03:01:40.227009Z",
     "start_time": "2020-07-08T03:01:40.223390Z"
    }
   },
   "outputs": [],
   "source": [
    "def generate_values(n_vals, lowest, highest):\n",
    "    import random\n",
    "    random_vals = random.sample(range(lowest, highest), n_vals)\n",
    "    return random_vals"
   ]
  },
  {
   "cell_type": "code",
   "execution_count": 7,
   "metadata": {
    "ExecuteTime": {
     "end_time": "2020-07-08T03:01:41.529338Z",
     "start_time": "2020-07-08T03:01:41.524859Z"
    }
   },
   "outputs": [],
   "source": [
    "# Also try random.random()"
   ]
  },
  {
   "cell_type": "code",
   "execution_count": 8,
   "metadata": {
    "ExecuteTime": {
     "end_time": "2020-07-08T03:01:41.834844Z",
     "start_time": "2020-07-08T03:01:41.822988Z"
    }
   },
   "outputs": [
    {
     "data": {
      "text/plain": [
       "[6, 4, 2, 13, 17, 11, 8, 10, 3, 9]"
      ]
     },
     "execution_count": 8,
     "metadata": {},
     "output_type": "execute_result"
    }
   ],
   "source": [
    "generate_values(10, 1, 20)"
   ]
  },
  {
   "cell_type": "markdown",
   "metadata": {},
   "source": [
    "### Multipurpose 3-digit codes"
   ]
  },
  {
   "cell_type": "code",
   "execution_count": 9,
   "metadata": {
    "ExecuteTime": {
     "end_time": "2020-07-08T03:01:42.844241Z",
     "start_time": "2020-07-08T03:01:42.840264Z"
    },
    "code_folding": [
     1
    ]
   },
   "outputs": [],
   "source": [
    "# Generate 3-digit codes (e.g. city ids) (my function)\n",
    "def generate_codes(n_codes):\n",
    "    # 3 digits between 110 and 999 without repeating\n",
    "    import random\n",
    "    code_ids = random.sample(range(110, 1000), n_codes)\n",
    "    return code_ids"
   ]
  },
  {
   "cell_type": "markdown",
   "metadata": {},
   "source": [
    "### Multipurpose custom values"
   ]
  },
  {
   "cell_type": "code",
   "execution_count": 10,
   "metadata": {
    "ExecuteTime": {
     "end_time": "2020-07-08T03:01:44.633546Z",
     "start_time": "2020-07-08T03:01:44.628015Z"
    }
   },
   "outputs": [],
   "source": [
    "# Generate random list following input of a set of values to choose\n",
    "def generate_custom_vals(list2consider, n_items):\n",
    "    custom_list = np.random.choice(list2consider, size=n_items, replace=True).tolist()\n",
    "    return custom_list"
   ]
  },
  {
   "cell_type": "markdown",
   "metadata": {},
   "source": [
    "### Example"
   ]
  },
  {
   "cell_type": "code",
   "execution_count": 11,
   "metadata": {
    "ExecuteTime": {
     "end_time": "2020-07-08T03:01:45.648431Z",
     "start_time": "2020-07-08T03:01:45.587840Z"
    }
   },
   "outputs": [],
   "source": [
    "my_date_list = generate_dates(10, \"2020-01-01 13:40:00\", \"2020-01-14 14:50:00\")\n",
    "my_name_list = generate_name_list(10)\n",
    "my_city_codes = generate_codes(10)\n",
    "\n",
    "# Custom list 1\n",
    "my_list2consider = ['desktop-browser','mobile-browser','ios-native','android-native']\n",
    "my_list2consider4table = generate_custom_vals(my_list2consider, 10)\n",
    "\n",
    "# Custom list 2\n",
    "my_list2consider = ['US', 'Canada', 'Mexico']\n",
    "my_countries4table = generate_custom_vals(my_list2consider, 10)"
   ]
  },
  {
   "cell_type": "code",
   "execution_count": 12,
   "metadata": {
    "ExecuteTime": {
     "end_time": "2020-07-08T03:01:47.210227Z",
     "start_time": "2020-07-08T03:01:47.183142Z"
    }
   },
   "outputs": [
    {
     "data": {
      "text/html": [
       "<div>\n",
       "<style scoped>\n",
       "    .dataframe tbody tr th:only-of-type {\n",
       "        vertical-align: middle;\n",
       "    }\n",
       "\n",
       "    .dataframe tbody tr th {\n",
       "        vertical-align: top;\n",
       "    }\n",
       "\n",
       "    .dataframe thead th {\n",
       "        text-align: right;\n",
       "    }\n",
       "</style>\n",
       "<table border=\"1\" class=\"dataframe\">\n",
       "  <thead>\n",
       "    <tr style=\"text-align: right;\">\n",
       "      <th></th>\n",
       "      <th>user_id</th>\n",
       "      <th>join_ts</th>\n",
       "      <th>join_client</th>\n",
       "      <th>country</th>\n",
       "    </tr>\n",
       "  </thead>\n",
       "  <tbody>\n",
       "    <tr>\n",
       "      <th>0</th>\n",
       "      <td>1</td>\n",
       "      <td>2020-01-04 09:36:15</td>\n",
       "      <td>desktop-browser</td>\n",
       "      <td>Mexico</td>\n",
       "    </tr>\n",
       "    <tr>\n",
       "      <th>1</th>\n",
       "      <td>2</td>\n",
       "      <td>2020-01-04 13:49:17</td>\n",
       "      <td>ios-native</td>\n",
       "      <td>Canada</td>\n",
       "    </tr>\n",
       "    <tr>\n",
       "      <th>2</th>\n",
       "      <td>3</td>\n",
       "      <td>2020-01-07 02:19:36</td>\n",
       "      <td>mobile-browser</td>\n",
       "      <td>Mexico</td>\n",
       "    </tr>\n",
       "    <tr>\n",
       "      <th>3</th>\n",
       "      <td>4</td>\n",
       "      <td>2020-01-07 20:11:17</td>\n",
       "      <td>mobile-browser</td>\n",
       "      <td>US</td>\n",
       "    </tr>\n",
       "    <tr>\n",
       "      <th>4</th>\n",
       "      <td>5</td>\n",
       "      <td>2020-01-08 07:05:53</td>\n",
       "      <td>desktop-browser</td>\n",
       "      <td>Mexico</td>\n",
       "    </tr>\n",
       "    <tr>\n",
       "      <th>5</th>\n",
       "      <td>6</td>\n",
       "      <td>2020-01-10 17:25:59</td>\n",
       "      <td>mobile-browser</td>\n",
       "      <td>Canada</td>\n",
       "    </tr>\n",
       "    <tr>\n",
       "      <th>6</th>\n",
       "      <td>7</td>\n",
       "      <td>2020-01-11 22:10:44</td>\n",
       "      <td>desktop-browser</td>\n",
       "      <td>Canada</td>\n",
       "    </tr>\n",
       "    <tr>\n",
       "      <th>7</th>\n",
       "      <td>8</td>\n",
       "      <td>2020-01-11 23:08:14</td>\n",
       "      <td>desktop-browser</td>\n",
       "      <td>US</td>\n",
       "    </tr>\n",
       "    <tr>\n",
       "      <th>8</th>\n",
       "      <td>9</td>\n",
       "      <td>2020-01-12 08:17:45</td>\n",
       "      <td>mobile-browser</td>\n",
       "      <td>Mexico</td>\n",
       "    </tr>\n",
       "    <tr>\n",
       "      <th>9</th>\n",
       "      <td>10</td>\n",
       "      <td>2020-01-14 13:55:38</td>\n",
       "      <td>mobile-browser</td>\n",
       "      <td>US</td>\n",
       "    </tr>\n",
       "  </tbody>\n",
       "</table>\n",
       "</div>"
      ],
      "text/plain": [
       "  user_id             join_ts      join_client country\n",
       "0       1 2020-01-04 09:36:15  desktop-browser  Mexico\n",
       "1       2 2020-01-04 13:49:17       ios-native  Canada\n",
       "2       3 2020-01-07 02:19:36   mobile-browser  Mexico\n",
       "3       4 2020-01-07 20:11:17   mobile-browser      US\n",
       "4       5 2020-01-08 07:05:53  desktop-browser  Mexico\n",
       "5       6 2020-01-10 17:25:59   mobile-browser  Canada\n",
       "6       7 2020-01-11 22:10:44  desktop-browser  Canada\n",
       "7       8 2020-01-11 23:08:14  desktop-browser      US\n",
       "8       9 2020-01-12 08:17:45   mobile-browser  Mexico\n",
       "9      10 2020-01-14 13:55:38   mobile-browser      US"
      ]
     },
     "execution_count": 12,
     "metadata": {},
     "output_type": "execute_result"
    }
   ],
   "source": [
    "col_1 = range(1, 11)\n",
    "col_2 = pd.to_datetime(my_date_list)\n",
    "col_3 = my_list2consider4table\n",
    "col_4 = my_countries4table\n",
    "table1 = pd.DataFrame([col_1, col_2, col_3, col_4]).T\n",
    "table1.columns = ['user_id', 'join_ts', 'join_client', 'country']\n",
    "\n",
    "table1\n",
    "\n",
    "# Temp table created here that I'll just over-write with each new problem\n",
    "# table1.to_sql('user_summary', engine, if_exists='replace')\n"
   ]
  },
  {
   "cell_type": "code",
   "execution_count": null,
   "metadata": {},
   "outputs": [],
   "source": []
  },
  {
   "cell_type": "markdown",
   "metadata": {},
   "source": [
    "# 1205. Monthly Transactions II\n",
    "\n",
    "https://leetcode.com/problems/monthly-transactions-ii/"
   ]
  },
  {
   "cell_type": "markdown",
   "metadata": {},
   "source": [
    "Write an SQL query to find for each month and country, the number of approved transactions and their total amount, the number of chargebacks and their total amount.\n",
    "\n",
    "Note: In your query, given the month and country, ignore rows with all zeros.\n",
    "\n",
    "The query result format is in the following example:\n",
    "\n",
    "Transactions table:\n",
    "+------+---------+----------+--------+------------+\n",
    "| id   | country | state    | amount | trans_date |\n",
    "+------+---------+----------+--------+------------+\n",
    "| 101  | US      | approved | 1000   | 2019-05-18 |\n",
    "| 102  | US      | declined | 2000   | 2019-05-19 |\n",
    "| 103  | US      | approved | 3000   | 2019-06-10 |\n",
    "| 104  | US      | approved | 4000   | 2019-06-13 |\n",
    "| 105  | US      | approved | 5000   | 2019-06-15 |\n",
    "+------+---------+----------+--------+------------+\n",
    "\n",
    "Chargebacks table:\n",
    "+------------+------------+\n",
    "| trans_id   | trans_date |\n",
    "+------------+------------+\n",
    "| 102        | 2019-05-29 |\n",
    "| 101        | 2019-06-30 |\n",
    "| 105        | 2019-09-18 |\n",
    "+------------+------------+\n",
    "\n",
    "Result table:\n",
    "+----------+---------+----------------+-----------------+-------------------+--------------------+\n",
    "| month    | country | approved_count | approved_amount | chargeback_count  | chargeback_amount  |\n",
    "+----------+---------+----------------+-----------------+-------------------+--------------------+\n",
    "| 2019-05  | US      | 1              | 1000            | 1                 | 2000               |\n",
    "| 2019-06  | US      | 3              | 12000           | 1                 | 1000               |\n",
    "| 2019-09  | US      | 0              | 0               | 1                 | 5000               |\n",
    "+----------+---------+----------------+-----------------+-------------------+--------------------+"
   ]
  },
  {
   "cell_type": "code",
   "execution_count": 14,
   "metadata": {
    "ExecuteTime": {
     "end_time": "2020-07-08T03:23:45.833369Z",
     "start_time": "2020-07-08T03:23:45.814309Z"
    }
   },
   "outputs": [
    {
     "data": {
      "text/html": [
       "<div>\n",
       "<style scoped>\n",
       "    .dataframe tbody tr th:only-of-type {\n",
       "        vertical-align: middle;\n",
       "    }\n",
       "\n",
       "    .dataframe tbody tr th {\n",
       "        vertical-align: top;\n",
       "    }\n",
       "\n",
       "    .dataframe thead th {\n",
       "        text-align: right;\n",
       "    }\n",
       "</style>\n",
       "<table border=\"1\" class=\"dataframe\">\n",
       "  <thead>\n",
       "    <tr style=\"text-align: right;\">\n",
       "      <th></th>\n",
       "      <th>trans_id</th>\n",
       "      <th>trans_date</th>\n",
       "    </tr>\n",
       "  </thead>\n",
       "  <tbody>\n",
       "    <tr>\n",
       "      <th>0</th>\n",
       "      <td>102</td>\n",
       "      <td>2019-05-29</td>\n",
       "    </tr>\n",
       "    <tr>\n",
       "      <th>1</th>\n",
       "      <td>101</td>\n",
       "      <td>2019-06-30</td>\n",
       "    </tr>\n",
       "    <tr>\n",
       "      <th>2</th>\n",
       "      <td>105</td>\n",
       "      <td>2019-09-18</td>\n",
       "    </tr>\n",
       "  </tbody>\n",
       "</table>\n",
       "</div>"
      ],
      "text/plain": [
       "   trans_id  trans_date\n",
       "0       102  2019-05-29\n",
       "1       101  2019-06-30\n",
       "2       105  2019-09-18"
      ]
     },
     "execution_count": 14,
     "metadata": {},
     "output_type": "execute_result"
    }
   ],
   "source": [
    "# Checking created tables\n",
    "sql_query = \"\"\"\n",
    "WITH Transactions (id, country, state, amount, trans_date)\n",
    "AS (VALUES\n",
    "(101, 'US', 'approved', 1000, CAST('2019-05-18' AS date )),\n",
    "(102, 'US', 'declined', 2000, CAST('2019-05-19' AS date )),\n",
    "(103, 'US', 'approved', 3000, CAST('2019-06-10' AS date )),\n",
    "(104, 'US', 'approved', 4000, CAST('2019-06-13' AS date )),\n",
    "(105, 'US', 'approved', 5000, CAST('2019-06-15' AS date ))),\n",
    "\n",
    "Chargebacks (trans_id, trans_date)\n",
    "AS (VALUES\n",
    "(102, CAST('2019-05-29' AS date )),\n",
    "(101, CAST('2019-06-30' AS date )),\n",
    "(105, CAST('2019-09-18' AS date )))\n",
    " \n",
    "SELECT *\n",
    "FROM Chargebacks;\n",
    "\"\"\"\n",
    "pd.read_sql_query(sql_query,con)\n"
   ]
  },
  {
   "cell_type": "code",
   "execution_count": 20,
   "metadata": {
    "ExecuteTime": {
     "end_time": "2020-07-08T03:34:02.383315Z",
     "start_time": "2020-07-08T03:34:02.278688Z"
    }
   },
   "outputs": [
    {
     "data": {
      "text/html": [
       "<div>\n",
       "<style scoped>\n",
       "    .dataframe tbody tr th:only-of-type {\n",
       "        vertical-align: middle;\n",
       "    }\n",
       "\n",
       "    .dataframe tbody tr th {\n",
       "        vertical-align: top;\n",
       "    }\n",
       "\n",
       "    .dataframe thead th {\n",
       "        text-align: right;\n",
       "    }\n",
       "</style>\n",
       "<table border=\"1\" class=\"dataframe\">\n",
       "  <thead>\n",
       "    <tr style=\"text-align: right;\">\n",
       "      <th></th>\n",
       "      <th>month</th>\n",
       "      <th>count</th>\n",
       "      <th>sum</th>\n",
       "    </tr>\n",
       "  </thead>\n",
       "  <tbody>\n",
       "    <tr>\n",
       "      <th>0</th>\n",
       "      <td>6.0</td>\n",
       "      <td>3</td>\n",
       "      <td>12000</td>\n",
       "    </tr>\n",
       "    <tr>\n",
       "      <th>1</th>\n",
       "      <td>5.0</td>\n",
       "      <td>2</td>\n",
       "      <td>1000</td>\n",
       "    </tr>\n",
       "  </tbody>\n",
       "</table>\n",
       "</div>"
      ],
      "text/plain": [
       "   month  count    sum\n",
       "0    6.0      3  12000\n",
       "1    5.0      2   1000"
      ]
     },
     "execution_count": 20,
     "metadata": {},
     "output_type": "execute_result"
    }
   ],
   "source": [
    "# Checking created tables\n",
    "sql_query = \"\"\"\n",
    "WITH Transactions (id, country, state, amount, trans_date)\n",
    "AS (VALUES\n",
    "(101, 'US', 'approved', 1000, CAST('2019-05-18' AS date )),\n",
    "(102, 'US', 'declined', 2000, CAST('2019-05-19' AS date )),\n",
    "(103, 'US', 'approved', 3000, CAST('2019-06-10' AS date )),\n",
    "(104, 'US', 'approved', 4000, CAST('2019-06-13' AS date )),\n",
    "(105, 'US', 'approved', 5000, CAST('2019-06-15' AS date ))),\n",
    "\n",
    "Chargebacks (trans_id, trans_date)\n",
    "AS (VALUES\n",
    "(102, CAST('2019-05-29' AS date )),\n",
    "(101, CAST('2019-06-30' AS date )),\n",
    "(105, CAST('2019-09-18' AS date )))\n",
    " \n",
    "-- month    | country | approved_count | approved_amount | chargeback_count  | chargeback_amount \n",
    "-- extract date\n",
    "-- group by country\n",
    "-- use a case when for approved count\n",
    "-- need to join on trans_id for the chargeback amount, but the count/amount is assigned based on trans_date\n",
    "-- then will need to re-join on month\n",
    "\n",
    "\n",
    "SELECT EXTRACT(MONTH FROM trans_date) AS month,\n",
    "       COUNT(amount),\n",
    "       SUM(CASE WHEN state='approved' THEN amount\n",
    "                ELSE 0 END)\n",
    "FROM Transactions\n",
    "GROUP BY EXTRACT(MONTH FROM trans_date);\n",
    "\n",
    "\n",
    "\"\"\"\n",
    "pd.read_sql_query(sql_query,con)\n"
   ]
  },
  {
   "cell_type": "code",
   "execution_count": null,
   "metadata": {},
   "outputs": [],
   "source": []
  },
  {
   "cell_type": "markdown",
   "metadata": {},
   "source": [
    "# 7/9/20\n",
    "\n",
    "You have a database consisting of a single table table of 9 students listed in alphabetical order. Each student has a class ID that is also alphabetical. Write a SQL query so that each consecutive pair of students are assigned the other students ID (Ex: Students 1 and 2 swap IDs, Students 3 and 4 swap IDs, etc…) \n",
    "\tTable is Student, Columns are Name and ID\n"
   ]
  },
  {
   "cell_type": "code",
   "execution_count": 3,
   "metadata": {
    "ExecuteTime": {
     "end_time": "2020-07-09T22:47:59.485660Z",
     "start_time": "2020-07-09T22:47:59.407685Z"
    }
   },
   "outputs": [
    {
     "data": {
      "text/html": [
       "<div>\n",
       "<style scoped>\n",
       "    .dataframe tbody tr th:only-of-type {\n",
       "        vertical-align: middle;\n",
       "    }\n",
       "\n",
       "    .dataframe tbody tr th {\n",
       "        vertical-align: top;\n",
       "    }\n",
       "\n",
       "    .dataframe thead th {\n",
       "        text-align: right;\n",
       "    }\n",
       "</style>\n",
       "<table border=\"1\" class=\"dataframe\">\n",
       "  <thead>\n",
       "    <tr style=\"text-align: right;\">\n",
       "      <th></th>\n",
       "      <th>id</th>\n",
       "      <th>name</th>\n",
       "    </tr>\n",
       "  </thead>\n",
       "  <tbody>\n",
       "    <tr>\n",
       "      <th>0</th>\n",
       "      <td>1</td>\n",
       "      <td>A</td>\n",
       "    </tr>\n",
       "    <tr>\n",
       "      <th>1</th>\n",
       "      <td>2</td>\n",
       "      <td>B</td>\n",
       "    </tr>\n",
       "    <tr>\n",
       "      <th>2</th>\n",
       "      <td>3</td>\n",
       "      <td>C</td>\n",
       "    </tr>\n",
       "    <tr>\n",
       "      <th>3</th>\n",
       "      <td>4</td>\n",
       "      <td>D</td>\n",
       "    </tr>\n",
       "    <tr>\n",
       "      <th>4</th>\n",
       "      <td>5</td>\n",
       "      <td>E</td>\n",
       "    </tr>\n",
       "    <tr>\n",
       "      <th>5</th>\n",
       "      <td>6</td>\n",
       "      <td>F</td>\n",
       "    </tr>\n",
       "    <tr>\n",
       "      <th>6</th>\n",
       "      <td>7</td>\n",
       "      <td>G</td>\n",
       "    </tr>\n",
       "    <tr>\n",
       "      <th>7</th>\n",
       "      <td>8</td>\n",
       "      <td>H</td>\n",
       "    </tr>\n",
       "    <tr>\n",
       "      <th>8</th>\n",
       "      <td>9</td>\n",
       "      <td>i</td>\n",
       "    </tr>\n",
       "  </tbody>\n",
       "</table>\n",
       "</div>"
      ],
      "text/plain": [
       "   id name\n",
       "0   1    A\n",
       "1   2    B\n",
       "2   3    C\n",
       "3   4    D\n",
       "4   5    E\n",
       "5   6    F\n",
       "6   7    G\n",
       "7   8    H\n",
       "8   9    i"
      ]
     },
     "execution_count": 3,
     "metadata": {},
     "output_type": "execute_result"
    }
   ],
   "source": [
    "# Just use a date difference less than 30 days\n",
    "\n",
    "sql_query = \"\"\"\n",
    "WITH Student (id, name)\n",
    "AS (VALUES\n",
    "(1, 'A'),\n",
    "(2, 'B'),\n",
    "(3, 'C'),\n",
    "(4, 'D'),\n",
    "(5, 'E'),\n",
    "(6, 'F'),\n",
    "(7, 'G'),\n",
    "(8, 'H'),\n",
    "(9, 'i'))\n",
    "\n",
    "SELECT *\n",
    "FROM Student\n",
    "\"\"\"\n",
    "df_query = pd.read_sql_query(sql_query,con)    \n",
    "df_query"
   ]
  },
  {
   "cell_type": "markdown",
   "metadata": {},
   "source": [
    "SELECT name,\n",
    "       CASE WHEN id IN (1,3,5,7) THEN id+1\n",
    "            WHEN id IN (2,4,6,8) THEN id-1\n",
    "            ELSE id END AS new_id \n",
    "FROM Student"
   ]
  },
  {
   "cell_type": "code",
   "execution_count": 7,
   "metadata": {
    "ExecuteTime": {
     "end_time": "2020-07-09T22:49:17.100091Z",
     "start_time": "2020-07-09T22:49:17.085102Z"
    }
   },
   "outputs": [
    {
     "data": {
      "text/html": [
       "<div>\n",
       "<style scoped>\n",
       "    .dataframe tbody tr th:only-of-type {\n",
       "        vertical-align: middle;\n",
       "    }\n",
       "\n",
       "    .dataframe tbody tr th {\n",
       "        vertical-align: top;\n",
       "    }\n",
       "\n",
       "    .dataframe thead th {\n",
       "        text-align: right;\n",
       "    }\n",
       "</style>\n",
       "<table border=\"1\" class=\"dataframe\">\n",
       "  <thead>\n",
       "    <tr style=\"text-align: right;\">\n",
       "      <th></th>\n",
       "      <th>name</th>\n",
       "      <th>new_id</th>\n",
       "    </tr>\n",
       "  </thead>\n",
       "  <tbody>\n",
       "    <tr>\n",
       "      <th>0</th>\n",
       "      <td>A</td>\n",
       "      <td>2</td>\n",
       "    </tr>\n",
       "    <tr>\n",
       "      <th>1</th>\n",
       "      <td>B</td>\n",
       "      <td>1</td>\n",
       "    </tr>\n",
       "    <tr>\n",
       "      <th>2</th>\n",
       "      <td>C</td>\n",
       "      <td>4</td>\n",
       "    </tr>\n",
       "    <tr>\n",
       "      <th>3</th>\n",
       "      <td>D</td>\n",
       "      <td>3</td>\n",
       "    </tr>\n",
       "    <tr>\n",
       "      <th>4</th>\n",
       "      <td>E</td>\n",
       "      <td>6</td>\n",
       "    </tr>\n",
       "    <tr>\n",
       "      <th>5</th>\n",
       "      <td>F</td>\n",
       "      <td>5</td>\n",
       "    </tr>\n",
       "    <tr>\n",
       "      <th>6</th>\n",
       "      <td>G</td>\n",
       "      <td>8</td>\n",
       "    </tr>\n",
       "    <tr>\n",
       "      <th>7</th>\n",
       "      <td>H</td>\n",
       "      <td>7</td>\n",
       "    </tr>\n",
       "    <tr>\n",
       "      <th>8</th>\n",
       "      <td>i</td>\n",
       "      <td>9</td>\n",
       "    </tr>\n",
       "  </tbody>\n",
       "</table>\n",
       "</div>"
      ],
      "text/plain": [
       "  name  new_id\n",
       "0    A       2\n",
       "1    B       1\n",
       "2    C       4\n",
       "3    D       3\n",
       "4    E       6\n",
       "5    F       5\n",
       "6    G       8\n",
       "7    H       7\n",
       "8    i       9"
      ]
     },
     "execution_count": 7,
     "metadata": {},
     "output_type": "execute_result"
    }
   ],
   "source": [
    "# Just use a date difference less than 30 days\n",
    "\n",
    "sql_query = \"\"\"\n",
    "WITH Student (id, name)\n",
    "AS (VALUES\n",
    "(1, 'A'),\n",
    "(2, 'B'),\n",
    "(3, 'C'),\n",
    "(4, 'D'),\n",
    "(5, 'E'),\n",
    "(6, 'F'),\n",
    "(7, 'G'),\n",
    "(8, 'H'),\n",
    "(9, 'i'))\n",
    "\n",
    "SELECT name,\n",
    "       CASE WHEN id IN (1,3,5,7) THEN id+1\n",
    "            WHEN id IN (2,4,6,8) THEN id-1\n",
    "            ELSE id END AS new_id \n",
    "FROM Student\n",
    "\"\"\"\n",
    "df_query = pd.read_sql_query(sql_query,con)    \n",
    "df_query"
   ]
  },
  {
   "cell_type": "markdown",
   "metadata": {},
   "source": [
    "SELECT name,\n",
    "       CASE WHEN id IN (1,3,5,7) THEN id+1\n",
    "            WHEN id IN (2,4,6,8) THEN id-1\n",
    "            ELSE id END AS new_id \n",
    "FROM Student\n",
    "\n",
    "SELECT name,\n",
    "       CASE WHEN id < 9 AND id % 2 <> 0 THEN id+1\n",
    "            WHEN id < 9 AND id % 2 = 0 THEN id-1\n",
    "            ELSE id END AS new_id \n",
    "FROM Student"
   ]
  },
  {
   "cell_type": "code",
   "execution_count": 8,
   "metadata": {
    "ExecuteTime": {
     "end_time": "2020-07-09T22:51:04.107107Z",
     "start_time": "2020-07-09T22:51:04.068537Z"
    }
   },
   "outputs": [
    {
     "data": {
      "text/html": [
       "<div>\n",
       "<style scoped>\n",
       "    .dataframe tbody tr th:only-of-type {\n",
       "        vertical-align: middle;\n",
       "    }\n",
       "\n",
       "    .dataframe tbody tr th {\n",
       "        vertical-align: top;\n",
       "    }\n",
       "\n",
       "    .dataframe thead th {\n",
       "        text-align: right;\n",
       "    }\n",
       "</style>\n",
       "<table border=\"1\" class=\"dataframe\">\n",
       "  <thead>\n",
       "    <tr style=\"text-align: right;\">\n",
       "      <th></th>\n",
       "      <th>name</th>\n",
       "      <th>new_id</th>\n",
       "    </tr>\n",
       "  </thead>\n",
       "  <tbody>\n",
       "    <tr>\n",
       "      <th>0</th>\n",
       "      <td>A</td>\n",
       "      <td>2</td>\n",
       "    </tr>\n",
       "    <tr>\n",
       "      <th>1</th>\n",
       "      <td>B</td>\n",
       "      <td>1</td>\n",
       "    </tr>\n",
       "    <tr>\n",
       "      <th>2</th>\n",
       "      <td>C</td>\n",
       "      <td>4</td>\n",
       "    </tr>\n",
       "    <tr>\n",
       "      <th>3</th>\n",
       "      <td>D</td>\n",
       "      <td>3</td>\n",
       "    </tr>\n",
       "    <tr>\n",
       "      <th>4</th>\n",
       "      <td>E</td>\n",
       "      <td>6</td>\n",
       "    </tr>\n",
       "    <tr>\n",
       "      <th>5</th>\n",
       "      <td>F</td>\n",
       "      <td>5</td>\n",
       "    </tr>\n",
       "    <tr>\n",
       "      <th>6</th>\n",
       "      <td>G</td>\n",
       "      <td>8</td>\n",
       "    </tr>\n",
       "    <tr>\n",
       "      <th>7</th>\n",
       "      <td>H</td>\n",
       "      <td>7</td>\n",
       "    </tr>\n",
       "    <tr>\n",
       "      <th>8</th>\n",
       "      <td>i</td>\n",
       "      <td>9</td>\n",
       "    </tr>\n",
       "  </tbody>\n",
       "</table>\n",
       "</div>"
      ],
      "text/plain": [
       "  name  new_id\n",
       "0    A       2\n",
       "1    B       1\n",
       "2    C       4\n",
       "3    D       3\n",
       "4    E       6\n",
       "5    F       5\n",
       "6    G       8\n",
       "7    H       7\n",
       "8    i       9"
      ]
     },
     "execution_count": 8,
     "metadata": {},
     "output_type": "execute_result"
    }
   ],
   "source": [
    "# Just use a date difference less than 30 days\n",
    "\n",
    "sql_query = \"\"\"\n",
    "WITH Student (id, name)\n",
    "AS (VALUES\n",
    "(1, 'A'),\n",
    "(2, 'B'),\n",
    "(3, 'C'),\n",
    "(4, 'D'),\n",
    "(5, 'E'),\n",
    "(6, 'F'),\n",
    "(7, 'G'),\n",
    "(8, 'H'),\n",
    "(9, 'i'))\n",
    "\n",
    "SELECT name,\n",
    "       CASE WHEN id < 9 AND id % 2 <> 0 THEN id+1\n",
    "            WHEN id < 9 AND id % 2 = 0 THEN id-1\n",
    "            ELSE id END AS new_id \n",
    "FROM Student\n",
    "\"\"\"\n",
    "df_query = pd.read_sql_query(sql_query,con)    \n",
    "df_query"
   ]
  },
  {
   "cell_type": "code",
   "execution_count": null,
   "metadata": {},
   "outputs": [],
   "source": [
    "# Mike's solution \n",
    "\n",
    "t1 AS (\n",
    "SELECT *, row_number() OVER (ORDER BY name) AS row_number\n",
    "FROM students )\n",
    "\n",
    "SELECT name, CASE WHEN row_number = max(row_number) THEN id \n",
    "ELSE WHEN mod(row_number) = 0 THEN lag(id, 1) \n",
    "ELSE lead(id, 1) END AS new_id\n",
    "FROM t1\n"
   ]
  },
  {
   "cell_type": "markdown",
   "metadata": {
    "ExecuteTime": {
     "end_time": "2020-02-14T22:55:00.488628Z",
     "start_time": "2020-02-14T22:55:00.237033Z"
    }
   },
   "source": [
    "# --"
   ]
  },
  {
   "cell_type": "markdown",
   "metadata": {
    "ExecuteTime": {
     "end_time": "2020-06-08T19:40:33.312860Z",
     "start_time": "2020-06-08T19:40:33.289158Z"
    }
   },
   "source": [
    "# --"
   ]
  },
  {
   "cell_type": "code",
   "execution_count": null,
   "metadata": {},
   "outputs": [],
   "source": []
  }
 ],
 "metadata": {
  "kernelspec": {
   "display_name": "Python 3",
   "language": "python",
   "name": "python3"
  },
  "language_info": {
   "codemirror_mode": {
    "name": "ipython",
    "version": 3
   },
   "file_extension": ".py",
   "mimetype": "text/x-python",
   "name": "python",
   "nbconvert_exporter": "python",
   "pygments_lexer": "ipython3",
   "version": "3.6.9"
  },
  "toc": {
   "base_numbering": 1,
   "nav_menu": {},
   "number_sections": true,
   "sideBar": true,
   "skip_h1_title": false,
   "title_cell": "Table of Contents",
   "title_sidebar": "Contents",
   "toc_cell": false,
   "toc_position": {
    "height": "calc(100% - 180px)",
    "left": "10px",
    "top": "150px",
    "width": "234px"
   },
   "toc_section_display": true,
   "toc_window_display": true
  },
  "varInspector": {
   "cols": {
    "lenName": 16,
    "lenType": 16,
    "lenVar": 40
   },
   "kernels_config": {
    "python": {
     "delete_cmd_postfix": "",
     "delete_cmd_prefix": "del ",
     "library": "var_list.py",
     "varRefreshCmd": "print(var_dic_list())"
    },
    "r": {
     "delete_cmd_postfix": ") ",
     "delete_cmd_prefix": "rm(",
     "library": "var_list.r",
     "varRefreshCmd": "cat(var_dic_list()) "
    }
   },
   "types_to_exclude": [
    "module",
    "function",
    "builtin_function_or_method",
    "instance",
    "_Feature"
   ],
   "window_display": false
  }
 },
 "nbformat": 4,
 "nbformat_minor": 4
}
