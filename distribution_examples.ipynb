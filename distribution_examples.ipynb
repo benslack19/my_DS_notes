{
 "cells": [
  {
   "cell_type": "markdown",
   "metadata": {},
   "source": [
    "# Creating a complex pandas dataframe\n",
    "Creating a data frame that has features that range in complexity was critical for evaluating my custom scatterplot function. \n",
    "\n",
    "by Ben Lacar"
   ]
  },
  {
   "cell_type": "code",
   "execution_count": 168,
   "metadata": {
    "collapsed": true
   },
   "outputs": [],
   "source": [
    "# Importing packages\n",
    "import pandas as pd\n",
    "import numpy as np\n",
    "import matplotlib.pyplot as plt\n",
    "import seaborn as sns\n",
    "from scipy import stats, integrate\n",
    "%matplotlib inline"
   ]
  },
  {
   "cell_type": "markdown",
   "metadata": {},
   "source": [
    "### Create sample dataframe"
   ]
  },
  {
   "cell_type": "markdown",
   "metadata": {},
   "source": [
    "I will create a data frame that 1000 samples (AKA as m or training examples). The data frame will contain made up features that have regression variables representing four distributions: flat, normal, skewed, and logarithmic. Furthermore, all features will contain values that are positive, negative, fractions, or zero. I'll also create features that serve as categorical variables. One classification feature will have 10 unique classes evenly distributed among the 1000 samples (group 1 will be in the first 100 samples, group 2 will be in samples 101-200, etc.). Another classification feature will also have 10 unique classes but have the distribution of these classes will be uneven. Altogether, there will be 14 features (n). This data frame of my imagination is found on my Github page."
   ]
  },
  {
   "cell_type": "markdown",
   "metadata": {},
   "source": [
    "#### Regression features"
   ]
  },
  {
   "cell_type": "code",
   "execution_count": 177,
   "metadata": {
    "collapsed": true
   },
   "outputs": [],
   "source": [
    "m = 1000    # Number of samples (training examples)\n",
    "\n",
    "uniform_dist = np.arange(0, m)\n",
    "gaussian_dist = np.random.normal(loc=0, scale=100, size=m)\n",
    "bimodal_dist = (np.random.normal(loc=200, scale=100, size=int(m/2)).tolist()\n",
    "                + np.random.normal(loc=800, scale=100, size=int(m/2)).tolist()) # I just mashed two normal distributions together\n",
    "lognormal_dist = np.random.lognormal(5, 1, m)\n",
    "poisson_dist = np.random.poisson(lam=0.3, size=m)\n",
    "negbinomial_dist = np.random.negative_binomial(2, 0.1, size=m)\n",
    "chisquare_dist = np.random.chisquare(df=4, size=m)\n",
    "large_range = np.arange(0, m)**2       # Range of numbers across 6 log orders)\n",
    "leftskew_dist = 100-np.random.negative_binomial(2, 0.1, size=m)"
   ]
  },
  {
   "cell_type": "code",
   "execution_count": 170,
   "metadata": {
    "collapsed": true
   },
   "outputs": [],
   "source": [
    "# Create dataframe with regression features\n",
    "df = pd.DataFrame({'uniform': uniform_dist,\n",
    "                  'gaussian': gaussian_dist,\n",
    "                  'bimodal': bimodal_dist,\n",
    "                  'lognormal': lognormal_dist,\n",
    "                  'poisson': poisson_dist,\n",
    "                   'negbinomial': negbinomial_dist,\n",
    "                   'chisquare': chisquare_dist,\n",
    "                   'large_range': large_range,\n",
    "                   'leftskew_dist': leftskew_dist\n",
    "                  })"
   ]
  },
  {
   "cell_type": "code",
   "execution_count": 178,
   "metadata": {},
   "outputs": [
    {
     "data": {
      "text/plain": [
       "1000"
      ]
     },
     "execution_count": 178,
     "metadata": {},
     "output_type": "execute_result"
    }
   ],
   "source": [
    "len(np.arange(0, m)**2)"
   ]
  },
  {
   "cell_type": "markdown",
   "metadata": {},
   "source": [
    "#### Classification features"
   ]
  },
  {
   "cell_type": "code",
   "execution_count": 171,
   "metadata": {
    "collapsed": true
   },
   "outputs": [],
   "source": [
    "# Create classification features and add to dataframe\n",
    "\n",
    "k = 10     # number of groups\n",
    "groupSize = round(m/k)\n",
    "df['class_even'] = (['group 1']*groupSize + ['group 2']*groupSize\n",
    "                     + ['group 3']*groupSize + ['group 4']*groupSize\n",
    "                     + ['group 5']*groupSize + ['group 6']*groupSize\n",
    "                     + ['group 7']*groupSize + ['group 8']*groupSize\n",
    "                     + ['group 9']*groupSize\n",
    "                     + ['group 10']*(m-groupSize*(k-1)))\n",
    "\n",
    "df['class_poisson'] = ['group ' + str(i+1) for i in poisson_dist.tolist()]"
   ]
  },
  {
   "cell_type": "code",
   "execution_count": 173,
   "metadata": {},
   "outputs": [
    {
     "data": {
      "text/html": [
       "<div>\n",
       "<style scoped>\n",
       "    .dataframe tbody tr th:only-of-type {\n",
       "        vertical-align: middle;\n",
       "    }\n",
       "\n",
       "    .dataframe tbody tr th {\n",
       "        vertical-align: top;\n",
       "    }\n",
       "\n",
       "    .dataframe thead th {\n",
       "        text-align: right;\n",
       "    }\n",
       "</style>\n",
       "<table border=\"1\" class=\"dataframe\">\n",
       "  <thead>\n",
       "    <tr style=\"text-align: right;\">\n",
       "      <th></th>\n",
       "      <th>bimodal</th>\n",
       "      <th>chisquare</th>\n",
       "      <th>gaussian</th>\n",
       "      <th>large_range</th>\n",
       "      <th>leftskew_dist</th>\n",
       "      <th>lognormal</th>\n",
       "      <th>negbinomial</th>\n",
       "      <th>poisson</th>\n",
       "      <th>uniform</th>\n",
       "      <th>class_even</th>\n",
       "      <th>class_poisson</th>\n",
       "    </tr>\n",
       "  </thead>\n",
       "  <tbody>\n",
       "    <tr>\n",
       "      <th>0</th>\n",
       "      <td>142.377697</td>\n",
       "      <td>1.740617</td>\n",
       "      <td>24.332997</td>\n",
       "      <td>1</td>\n",
       "      <td>87</td>\n",
       "      <td>44.231210</td>\n",
       "      <td>15</td>\n",
       "      <td>0</td>\n",
       "      <td>0</td>\n",
       "      <td>group 1</td>\n",
       "      <td>group 1</td>\n",
       "    </tr>\n",
       "    <tr>\n",
       "      <th>1</th>\n",
       "      <td>431.793048</td>\n",
       "      <td>6.134239</td>\n",
       "      <td>45.350824</td>\n",
       "      <td>4</td>\n",
       "      <td>57</td>\n",
       "      <td>151.034688</td>\n",
       "      <td>4</td>\n",
       "      <td>0</td>\n",
       "      <td>1</td>\n",
       "      <td>group 1</td>\n",
       "      <td>group 1</td>\n",
       "    </tr>\n",
       "    <tr>\n",
       "      <th>2</th>\n",
       "      <td>135.524086</td>\n",
       "      <td>2.603001</td>\n",
       "      <td>-71.852557</td>\n",
       "      <td>9</td>\n",
       "      <td>85</td>\n",
       "      <td>82.188056</td>\n",
       "      <td>25</td>\n",
       "      <td>0</td>\n",
       "      <td>2</td>\n",
       "      <td>group 1</td>\n",
       "      <td>group 1</td>\n",
       "    </tr>\n",
       "    <tr>\n",
       "      <th>3</th>\n",
       "      <td>250.150648</td>\n",
       "      <td>1.254292</td>\n",
       "      <td>-146.275562</td>\n",
       "      <td>16</td>\n",
       "      <td>97</td>\n",
       "      <td>350.741613</td>\n",
       "      <td>12</td>\n",
       "      <td>0</td>\n",
       "      <td>3</td>\n",
       "      <td>group 1</td>\n",
       "      <td>group 1</td>\n",
       "    </tr>\n",
       "    <tr>\n",
       "      <th>4</th>\n",
       "      <td>72.352841</td>\n",
       "      <td>2.047151</td>\n",
       "      <td>-31.705978</td>\n",
       "      <td>25</td>\n",
       "      <td>92</td>\n",
       "      <td>430.281095</td>\n",
       "      <td>25</td>\n",
       "      <td>0</td>\n",
       "      <td>4</td>\n",
       "      <td>group 1</td>\n",
       "      <td>group 1</td>\n",
       "    </tr>\n",
       "  </tbody>\n",
       "</table>\n",
       "</div>"
      ],
      "text/plain": [
       "      bimodal  chisquare    gaussian  large_range  leftskew_dist   lognormal  \\\n",
       "0  142.377697   1.740617   24.332997            1             87   44.231210   \n",
       "1  431.793048   6.134239   45.350824            4             57  151.034688   \n",
       "2  135.524086   2.603001  -71.852557            9             85   82.188056   \n",
       "3  250.150648   1.254292 -146.275562           16             97  350.741613   \n",
       "4   72.352841   2.047151  -31.705978           25             92  430.281095   \n",
       "\n",
       "   negbinomial  poisson  uniform class_even class_poisson  \n",
       "0           15        0        0    group 1       group 1  \n",
       "1            4        0        1    group 1       group 1  \n",
       "2           25        0        2    group 1       group 1  \n",
       "3           12        0        3    group 1       group 1  \n",
       "4           25        0        4    group 1       group 1  "
      ]
     },
     "execution_count": 173,
     "metadata": {},
     "output_type": "execute_result"
    }
   ],
   "source": [
    "df.head()"
   ]
  },
  {
   "cell_type": "code",
   "execution_count": 174,
   "metadata": {},
   "outputs": [
    {
     "data": {
      "text/html": [
       "<div>\n",
       "<style scoped>\n",
       "    .dataframe tbody tr th:only-of-type {\n",
       "        vertical-align: middle;\n",
       "    }\n",
       "\n",
       "    .dataframe tbody tr th {\n",
       "        vertical-align: top;\n",
       "    }\n",
       "\n",
       "    .dataframe thead th {\n",
       "        text-align: right;\n",
       "    }\n",
       "</style>\n",
       "<table border=\"1\" class=\"dataframe\">\n",
       "  <thead>\n",
       "    <tr style=\"text-align: right;\">\n",
       "      <th></th>\n",
       "      <th>bimodal</th>\n",
       "      <th>chisquare</th>\n",
       "      <th>gaussian</th>\n",
       "      <th>large_range</th>\n",
       "      <th>leftskew_dist</th>\n",
       "      <th>lognormal</th>\n",
       "      <th>negbinomial</th>\n",
       "      <th>poisson</th>\n",
       "      <th>uniform</th>\n",
       "      <th>class_even</th>\n",
       "      <th>class_poisson</th>\n",
       "    </tr>\n",
       "  </thead>\n",
       "  <tbody>\n",
       "    <tr>\n",
       "      <th>995</th>\n",
       "      <td>795.262594</td>\n",
       "      <td>0.606301</td>\n",
       "      <td>-25.345757</td>\n",
       "      <td>992016</td>\n",
       "      <td>85</td>\n",
       "      <td>62.568563</td>\n",
       "      <td>5</td>\n",
       "      <td>0</td>\n",
       "      <td>995</td>\n",
       "      <td>group 10</td>\n",
       "      <td>group 1</td>\n",
       "    </tr>\n",
       "    <tr>\n",
       "      <th>996</th>\n",
       "      <td>924.808564</td>\n",
       "      <td>7.979778</td>\n",
       "      <td>86.982298</td>\n",
       "      <td>994009</td>\n",
       "      <td>96</td>\n",
       "      <td>177.858532</td>\n",
       "      <td>13</td>\n",
       "      <td>1</td>\n",
       "      <td>996</td>\n",
       "      <td>group 10</td>\n",
       "      <td>group 2</td>\n",
       "    </tr>\n",
       "    <tr>\n",
       "      <th>997</th>\n",
       "      <td>908.639715</td>\n",
       "      <td>2.360940</td>\n",
       "      <td>-46.452396</td>\n",
       "      <td>996004</td>\n",
       "      <td>92</td>\n",
       "      <td>117.673239</td>\n",
       "      <td>15</td>\n",
       "      <td>0</td>\n",
       "      <td>997</td>\n",
       "      <td>group 10</td>\n",
       "      <td>group 1</td>\n",
       "    </tr>\n",
       "    <tr>\n",
       "      <th>998</th>\n",
       "      <td>865.255790</td>\n",
       "      <td>3.398398</td>\n",
       "      <td>-114.994609</td>\n",
       "      <td>998001</td>\n",
       "      <td>94</td>\n",
       "      <td>891.759597</td>\n",
       "      <td>21</td>\n",
       "      <td>0</td>\n",
       "      <td>998</td>\n",
       "      <td>group 10</td>\n",
       "      <td>group 1</td>\n",
       "    </tr>\n",
       "    <tr>\n",
       "      <th>999</th>\n",
       "      <td>678.835457</td>\n",
       "      <td>2.872270</td>\n",
       "      <td>135.935916</td>\n",
       "      <td>1000000</td>\n",
       "      <td>83</td>\n",
       "      <td>183.883371</td>\n",
       "      <td>32</td>\n",
       "      <td>0</td>\n",
       "      <td>999</td>\n",
       "      <td>group 10</td>\n",
       "      <td>group 1</td>\n",
       "    </tr>\n",
       "  </tbody>\n",
       "</table>\n",
       "</div>"
      ],
      "text/plain": [
       "        bimodal  chisquare    gaussian  large_range  leftskew_dist  \\\n",
       "995  795.262594   0.606301  -25.345757       992016             85   \n",
       "996  924.808564   7.979778   86.982298       994009             96   \n",
       "997  908.639715   2.360940  -46.452396       996004             92   \n",
       "998  865.255790   3.398398 -114.994609       998001             94   \n",
       "999  678.835457   2.872270  135.935916      1000000             83   \n",
       "\n",
       "      lognormal  negbinomial  poisson  uniform class_even class_poisson  \n",
       "995   62.568563            5        0      995   group 10       group 1  \n",
       "996  177.858532           13        1      996   group 10       group 2  \n",
       "997  117.673239           15        0      997   group 10       group 1  \n",
       "998  891.759597           21        0      998   group 10       group 1  \n",
       "999  183.883371           32        0      999   group 10       group 1  "
      ]
     },
     "execution_count": 174,
     "metadata": {},
     "output_type": "execute_result"
    }
   ],
   "source": [
    "df.tail()"
   ]
  },
  {
   "cell_type": "code",
   "execution_count": 172,
   "metadata": {},
   "outputs": [
    {
     "data": {
      "image/png": "[encoded data removed]",
      "text/plain": [
       "<matplotlib.figure.Figure at 0x11a708048>"
      ]
     },
     "metadata": {},
     "output_type": "display_data"
    }
   ],
   "source": [
    "f, ((ax1, ax2, ax3),\n",
    "    (ax4, ax5, ax6),\n",
    "    (ax7, ax8, ax9)) = plt.subplots(3,3, figsize=(12,7))\n",
    "\n",
    "\n",
    "ax1.hist(uniform_dist, color='gray');\n",
    "ax1.set_title('A uniform distribution starting at 0');\n",
    "\n",
    "ax2.hist(gaussian_dist, color='gray');\n",
    "ax2.set_title('A Gaussian distribution around 0');\n",
    "\n",
    "ax3.hist(bimodal_dist, color='gray') \n",
    "ax3.set_title('A bimodal distribution');  \n",
    "\n",
    "ax4.hist(lognormal_dist, color='gray');\n",
    "ax4.set_title('A lognormal distribution');\n",
    "\n",
    "ax5.hist(poisson_dist, color='gray') ;\n",
    "ax5.set_title('A Poisson distribution');\n",
    "         \n",
    "ax6.hist(negbinomial_dist, color='gray');\n",
    "ax6.set_title('A negative binomial distribution');\n",
    "\n",
    "ax7.hist(chisquare_dist, color='gray')\n",
    "ax7.set_title('A chi-square distribution (contains fractions)');\n",
    "\n",
    "ax8.hist(large_range, color='gray')\n",
    "ax8.set_title('Distribution with a big range of numbers');\n",
    "\n",
    "ax9.hist(leftskew_dist, color='gray')\n",
    "ax9.set_title('Made up distribution, left skewed');\n",
    "\n",
    "# figure properties\n",
    "sns.set(font='Franklin Gothic Book')\n",
    "sns.set_style(style='white')\n",
    "sns.despine(left=True, bottom=True, right=True)   #  remove frame\n",
    "\n",
    "# # to accomodate labeling\n",
    "plt.subplots_adjust(bottom=0.1, top=0.9, left=0.125, right=0.9, hspace=0.35)\n"
   ]
  }
 ],
 "metadata": {
  "anaconda-cloud": {},
  "kernelspec": {
   "display_name": "Python 3",
   "language": "python",
   "name": "python3"
  },
  "language_info": {
   "codemirror_mode": {
    "name": "ipython",
    "version": 3
   },
   "file_extension": ".py",
   "mimetype": "text/x-python",
   "name": "python",
   "nbconvert_exporter": "python",
   "pygments_lexer": "ipython3",
   "version": "3.5.4"
  }
 },
 "nbformat": 4,
 "nbformat_minor": 1
}
