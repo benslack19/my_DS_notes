{
 "cells": [
  {
   "cell_type": "markdown",
   "metadata": {},
   "source": [
    "**Regular expressions in Python**\n",
    "\n",
    "[Tutorial on YouTube](https://www.youtube.com/watch?v=sZyAn2TW7GY)"
   ]
  },
  {
   "cell_type": "markdown",
   "metadata": {},
   "source": [
    "# Identifiers\n",
    "- Says what you're looking for\n",
    "\n",
    "```\n",
    "\\d any number\n",
    "\\D anything but a number\n",
    "\\s space\n",
    "\\S anything but a space\n",
    "\\w any character\n",
    "\\W anything but a character\n",
    ".  (period) any charcter, except for a newline\n",
    "\\b the whitespace around words\n",
    "\\. a period  (needs a backslash)\n",
    "\n",
    "```"
   ]
  },
  {
   "cell_type": "markdown",
   "metadata": {},
   "source": [
    "# Modifiers\n",
    "- Says how many or what type you're looking for, like a description\n",
    "\n",
    "```\n",
    "{5} Expecting 5 of these\n",
    "{1, 3}  We're expecting 1-3\n",
    "?   Match 0 or 1\n",
    "*   Match 0 or more\n",
    "+   Match 1 or more\n",
    "$   Match the end of a string\n",
    "^   Matches the beginning of a string\n",
    "|   Matches either, or   for example:  \\d{1-3 | \\w{5-6}\n",
    "[]  Range or \"variance\"  for example:  [A-Za-z] # the alphabet, [0-9] # digits\n",
    "```"
   ]
  },
  {
   "cell_type": "markdown",
   "metadata": {},
   "source": [
    "# White space character\n",
    "\n",
    "```\n",
    "\\n  new line\n",
    "\\s  space\n",
    "\\t  tab\n",
    "\\e  escape\n",
    "\\f  form feed\n",
    "\\r  return\n",
    "```"
   ]
  },
  {
   "cell_type": "markdown",
   "metadata": {},
   "source": [
    "# Don't forget!  Need a \\ to escape these characters\n",
    "\n",
    "```\n",
    ".  +  *  ?  [  ]  $ \n",
    "```"
   ]
  },
  {
   "cell_type": "markdown",
   "metadata": {},
   "source": [
    "# Practicing regular expressions"
   ]
  },
  {
   "cell_type": "markdown",
   "metadata": {},
   "source": [
    "## Tutorial example"
   ]
  },
  {
   "cell_type": "code",
   "execution_count": 11,
   "metadata": {
    "collapsed": true
   },
   "outputs": [],
   "source": [
    "import re"
   ]
  },
  {
   "cell_type": "code",
   "execution_count": 12,
   "metadata": {
    "collapsed": true
   },
   "outputs": [],
   "source": [
    "exampleString = '''\n",
    "Jessica is 15 years old, and Daniel is 27 years old.\n",
    "Edward is 97 and his grandfather, Oscar, is 102.\n",
    "'''"
   ]
  },
  {
   "cell_type": "code",
   "execution_count": 4,
   "metadata": {},
   "outputs": [
    {
     "data": {
      "text/plain": [
       "'\\nJessica is 15 years old, and Daniel is 27 years old.\\nEdward is 97 and his grandfather, Oscar, is 102.\\n'"
      ]
     },
     "execution_count": 4,
     "metadata": {},
     "output_type": "execute_result"
    }
   ],
   "source": [
    "exampleString"
   ]
  },
  {
   "cell_type": "code",
   "execution_count": 7,
   "metadata": {
    "collapsed": true
   },
   "outputs": [],
   "source": [
    "ages = re.findall('\\d{1,3}', exampleString)"
   ]
  },
  {
   "cell_type": "code",
   "execution_count": 8,
   "metadata": {},
   "outputs": [
    {
     "data": {
      "text/plain": [
       "['15', '27', '97', '102']"
      ]
     },
     "execution_count": 8,
     "metadata": {},
     "output_type": "execute_result"
    }
   ],
   "source": [
    "ages"
   ]
  },
  {
   "cell_type": "code",
   "execution_count": 9,
   "metadata": {
    "collapsed": true
   },
   "outputs": [],
   "source": [
    "names = re.findall('[A-Z][a-z]*', exampleString)"
   ]
  },
  {
   "cell_type": "code",
   "execution_count": 13,
   "metadata": {},
   "outputs": [
    {
     "data": {
      "text/plain": [
       "['Jessica', 'Daniel', 'Edward', 'Oscar']"
      ]
     },
     "execution_count": 13,
     "metadata": {},
     "output_type": "execute_result"
    }
   ],
   "source": [
    "names"
   ]
  },
  {
   "cell_type": "code",
   "execution_count": null,
   "metadata": {
    "collapsed": true
   },
   "outputs": [],
   "source": [
    "## Work example"
   ]
  },
  {
   "cell_type": "code",
   "execution_count": null,
   "metadata": {
    "collapsed": true
   },
   "outputs": [],
   "source": [
    "jack = 'xxCOL04_test'"
   ]
  },
  {
   "cell_type": "code",
   "execution_count": null,
   "metadata": {
    "collapsed": true
   },
   "outputs": [],
   "source": [
    "x = re.findall('COL[0-9.]+', jack)"
   ]
  },
  {
   "cell_type": "code",
   "execution_count": null,
   "metadata": {
    "collapsed": true
   },
   "outputs": [],
   "source": [
    "x"
   ]
  },
  {
   "cell_type": "code",
   "execution_count": null,
   "metadata": {
    "collapsed": true
   },
   "outputs": [],
   "source": [
    "x[0][3:5]"
   ]
  },
  {
   "cell_type": "markdown",
   "metadata": {},
   "source": [
    "# Applying regular expressions to Pandas"
   ]
  },
  {
   "cell_type": "code",
   "execution_count": 14,
   "metadata": {
    "collapsed": true
   },
   "outputs": [],
   "source": [
    "import pandas as pd"
   ]
  },
  {
   "cell_type": "code",
   "execution_count": 16,
   "metadata": {
    "collapsed": true
   },
   "outputs": [],
   "source": [
    "# Series with \n",
    "a_series = pd.Series(['G2_TKD171001753-AK232_AHG3W3CCXY_COL06_L8_ROW37', 'G2_TKD171001753-AK232_AHG3W3CCXY_COL06_L8_ROW19',\n",
    "                     'D2_TKD171001753-AK226_AHG3W3CCXY_COL10_L8_ROW07', 'G2_TKD171001753-AK232_AHG3W3CCXY_COL06_L8_ROW03',\n",
    "                     'H3_TKD171001753-AK235_AHG3W3CCXY_COL18_L8_ROW15'])"
   ]
  },
  {
   "cell_type": "code",
   "execution_count": 17,
   "metadata": {},
   "outputs": [
    {
     "data": {
      "text/plain": [
       "0    G2_TKD171001753-AK232_AHG3W3CCXY_COL06_L8_ROW37\n",
       "1    G2_TKD171001753-AK232_AHG3W3CCXY_COL06_L8_ROW19\n",
       "2    D2_TKD171001753-AK226_AHG3W3CCXY_COL10_L8_ROW07\n",
       "3    G2_TKD171001753-AK232_AHG3W3CCXY_COL06_L8_ROW03\n",
       "4    H3_TKD171001753-AK235_AHG3W3CCXY_COL18_L8_ROW15\n",
       "dtype: object"
      ]
     },
     "execution_count": 17,
     "metadata": {},
     "output_type": "execute_result"
    }
   ],
   "source": [
    "a_series"
   ]
  },
  {
   "cell_type": "code",
   "execution_count": 25,
   "metadata": {
    "scrolled": true
   },
   "outputs": [
    {
     "data": {
      "text/plain": [
       "0    06\n",
       "1    06\n",
       "2    10\n",
       "3    06\n",
       "4    18\n",
       "dtype: object"
      ]
     },
     "execution_count": 25,
     "metadata": {},
     "output_type": "execute_result"
    }
   ],
   "source": [
    "# Extract the numbers after the 'COL'\n",
    "a_series.str.extract('[COL](\\d\\d)', expand=False)"
   ]
  },
  {
   "cell_type": "code",
   "execution_count": 26,
   "metadata": {},
   "outputs": [
    {
     "data": {
      "text/plain": [
       "0    37\n",
       "1    19\n",
       "2    07\n",
       "3    03\n",
       "4    15\n",
       "dtype: object"
      ]
     },
     "execution_count": 26,
     "metadata": {},
     "output_type": "execute_result"
    }
   ],
   "source": [
    "# Extract the numbers after the 'ROW'\n",
    "a_series.str.extract('[ROW](\\d\\d)', expand=False)"
   ]
  },
  {
   "cell_type": "code",
   "execution_count": 27,
   "metadata": {
    "collapsed": true
   },
   "outputs": [],
   "source": [
    "%qtconsole"
   ]
  },
  {
   "cell_type": "markdown",
   "metadata": {},
   "source": [
    "# From py4e book, Chapter 11"
   ]
  },
  {
   "cell_type": "markdown",
   "metadata": {},
   "source": [
    "For example, the caret character is used in regular expressions to match “the\n",
    "beginning” of a line. We could change our program to only match lines where\n",
    "“From:” was at the beginning of the line as follows:\n",
    "\n",
    "```\n",
    "# Search for lines that start with 'From'\n",
    "import re\n",
    "    hand = open('mbox-short.txt')\n",
    "    for line in hand:\n",
    "    line = line.rstrip()\n",
    "if re.search('^From:', line):\n",
    "    print(line)\n",
    "# Code: http://www.py4e.com/code3/re02.py\n",
    "```"
   ]
  },
  {
   "cell_type": "code",
   "execution_count": 2,
   "metadata": {},
   "outputs": [
    {
     "name": "stdout",
     "output_type": "stream",
     "text": [
      "['csev@umich.edu', 'cwen@iupui.edu']\n"
     ]
    }
   ],
   "source": [
    "import re\n",
    "s = 'A message from csev@umich.edu to cwen@iupui.edu about meeting @2PM'\n",
    "lst = re.findall('\\S+@\\S+', s)     # Find strings that surround an '@' character\n",
    "print(lst)"
   ]
  },
  {
   "cell_type": "code",
   "execution_count": 3,
   "metadata": {},
   "outputs": [
    {
     "name": "stdout",
     "output_type": "stream",
     "text": [
      "['message', 'csev@umich.edu']\n"
     ]
    }
   ],
   "source": [
    "lst = re.findall('\\S+s\\S+', s)     # Find strings that surround an 's' character\n",
    "print(lst)"
   ]
  },
  {
   "cell_type": "code",
   "execution_count": 4,
   "metadata": {},
   "outputs": [
    {
     "name": "stdout",
     "output_type": "stream",
     "text": [
      "['message']\n"
     ]
    }
   ],
   "source": [
    "lst = re.findall('\\S+a\\S+', s)     # Find strings that surround an 'a' character\n",
    "print(lst)"
   ]
  },
  {
   "cell_type": "code",
   "execution_count": 11,
   "metadata": {},
   "outputs": [
    {
     "name": "stdout",
     "output_type": "stream",
     "text": [
      "['age', 'about']\n"
     ]
    }
   ],
   "source": [
    "lst = re.findall('a\\S+', s)     # Find strings that START with an 'a' character\n",
    "print(lst)"
   ]
  },
  {
   "cell_type": "markdown",
   "metadata": {},
   "source": [
    "## Using square brackets\n",
    "Square brackets are used to indicate a set of multiple acceptable characters we are willing to consider matching. In a sense,\n",
    "the “\\S” is asking to match the set of “non-whitespace characters”. Now we will be a little more explicit in terms of the characters we will match.\n",
    "Here is our new regular expression:\n",
    "```\n",
    "[a-zA-Z0-9]\\S*@\\S*[a-zA-Z]\n",
    "```\n",
    "This is getting a little complicated and you can begin to see why regular expressions are their own little language unto themselves. Translating this regular expression, we are looking for substrings that start with a single lowercase letter, uppercase letter, or number “[a-zA-Z0-9]”, followed by zero or more non-blank characters (“\\S\\*”), followed by an at-sign, followed by zero or more non-blank characters (“\\S\\*”), followed by an uppercase or lowercase letter. Note that we switched from\n",
    "“+” to “\\*” to indicate zero or more non-blank characters since “[a-zA-Z0-9]” is already one non-blank character. Remember that the “\\*” or “+” applies to the single character immediately to the left of the plus or asterisk.\n",
    "\n",
    "Inside square brackets, characters are not “special”. So when we say “[0-9.]”, it really means digits or a period. Outside of square brackets, a period is the “wildcard” character and matches any character. Inside square brackets, the period is\n",
    "a period.\n",
    "\n",
    "*Note: I escaped asterisks so that it would show properly for the purposes of the markdown code (except for this line which is intended to be italicized). In the above text, the asterisks are used to demonstrate matching 0 or more for regular expressions.*"
   ]
  },
  {
   "cell_type": "markdown",
   "metadata": {},
   "source": [
    "## Extracting specific substrings depending on its location in relation to another string\n",
    "\n",
    "\n",
    "- X-DSPAM-Confidence: 0.8475\n",
    "- X-DSPAM-Probability: 0.0000\n",
    "- X-DSPAM-Confidence: 0.6178\n",
    "- X-DSPAM-Probability: 0.0000\n",
    "\n",
    "But now we have to solve the problem of extracting the numbers. While it would\n",
    "be simple enough to use split, we can use another feature of regular expressions\n",
    "to both search and parse the line at the same time.\n",
    "\n",
    "Parentheses are another special character in regular expressions. When you add\n",
    "parentheses to a regular expression, they are ignored when matching the string.\n",
    "But when you are using findall(), parentheses indicate that while you want the\n",
    "whole expression to match, you only are interested in extracting a portion of the\n",
    "substring that matches the regular expression.\n",
    "So we make the following change to our program:\n",
    "\n",
    "```\n",
    "# Search for lines that start with 'X' followed by any\n",
    "# non whitespace characters and ':' followed by a space\n",
    "# and any number. The number can include a decimal.\n",
    "# Then print the number if it is greater than zero.\n",
    "\n",
    "import re\n",
    "hand = open('mbox-short.txt')\n",
    "\n",
    "for line in hand:\n",
    "    line = line.rstrip()\n",
    "        x = re.findall('^X\\S*: ([0-9.]+)', line)\n",
    "        if len(x) > 0:\n",
    "            print(x)\n",
    "# Code: http://www.py4e.com/code3/re11.py\n",
    "```\n",
    "\n"
   ]
  },
  {
   "cell_type": "markdown",
   "metadata": {},
   "source": [
    "## Dr. Chuck's summary\n",
    "\n",
    "```\n",
    "ˆ Matches the beginning of the line.\n",
    "$ Matches the end of the line.\n",
    ". Matches any character (a wildcard).\n",
    "\\s Matches a whitespace character.\n",
    "\\S Matches a non-whitespace character (opposite of \\s).\n",
    "* Applies to the immediately preceding character and indicates to match zero or\n",
    "more of the preceding character(s).\n",
    "*? Applies to the immediately preceding character and indicates to match zero or\n",
    "more of the preceding character(s) in “non-greedy mode”.\n",
    "+ Applies to the immediately preceding character and indicates to match one or\n",
    "more of the preceding character(s).\n",
    "+? Applies to the immediately preceding character and indicates to match one or\n",
    "more of the preceding character(s) in “non-greedy mode”.\n",
    "[aeiou] Matches a single character as long as that character is in the specified set.\n",
    "In this example, it would match “a”, “e”, “i”, “o”, or “u”, but no other characters.\n",
    "[a-z0-9] You can specify ranges of characters using the minus sign. This example\n",
    "is a single character that must be a lowercase letter or a digit.\n",
    "[ˆA-Za-z] When the first character in the set notation is a caret, it inverts the logic.\n",
    "\n",
    "This example matches a single character that is anything other than an uppercase\n",
    "or lowercase letter.\n",
    "( ) When parentheses are added to a regular expression, they are ignored for the\n",
    "purpose of matching, but allow you to extract a particular subset of the matched\n",
    "string rather than the whole string when using findall().\n",
    "\\b Matches the empty string, but only at the start or end of a word.\n",
    "\\B Matches the empty string, but not at the start or end of a word.\n",
    "\\d Matches any decimal digit; equivalent to the set [0-9].\n",
    "\\D Matches any non-digit character; equivalent to the set [ˆ0-9].\n",
    "```"
   ]
  },
  {
   "cell_type": "markdown",
   "metadata": {},
   "source": [
    "## Regex Coach\n",
    "\n",
    "http://www.weitz.de/regex-coach/"
   ]
  },
  {
   "cell_type": "code",
   "execution_count": null,
   "metadata": {},
   "outputs": [],
   "source": []
  },
  {
   "cell_type": "markdown",
   "metadata": {},
   "source": [
    "# Kevin's lesson on regex\n",
    "\n",
    "1. Learning regular syntax in general\n",
    "2. Learning how to use syntax **in Python**\n",
    "\n",
    "He suggests learning these separately to avoid confusion"
   ]
  },
  {
   "cell_type": "markdown",
   "metadata": {},
   "source": [
    "## Learning syntax (in general, outside of Python)\n",
    "\n"
   ]
  },
  {
   "cell_type": "markdown",
   "metadata": {},
   "source": [
    "Go to regex101.com for practice/lessons\n",
    "\n",
    ">literals - matches exactly <br>\n",
    ">metacharacter - match something other than itself, e.g. a period (.)\n",
    "\n",
    ". = any character other than a new line"
   ]
  },
  {
   "cell_type": "code",
   "execution_count": null,
   "metadata": {},
   "outputs": [],
   "source": []
  }
 ],
 "metadata": {
  "kernelspec": {
   "display_name": "Python 3",
   "language": "python",
   "name": "python3"
  },
  "language_info": {
   "codemirror_mode": {
    "name": "ipython",
    "version": 3
   },
   "file_extension": ".py",
   "mimetype": "text/x-python",
   "name": "python",
   "nbconvert_exporter": "python",
   "pygments_lexer": "ipython3",
   "version": "3.5.6"
  },
  "toc": {
   "nav_menu": {},
   "number_sections": true,
   "sideBar": true,
   "skip_h1_title": false,
   "toc_cell": false,
   "toc_position": {},
   "toc_section_display": "block",
   "toc_window_display": true
  },
  "varInspector": {
   "cols": {
    "lenName": 16,
    "lenType": 16,
    "lenVar": 40
   },
   "kernels_config": {
    "python": {
     "delete_cmd_postfix": "",
     "delete_cmd_prefix": "del ",
     "library": "var_list.py",
     "varRefreshCmd": "print(var_dic_list())"
    },
    "r": {
     "delete_cmd_postfix": ") ",
     "delete_cmd_prefix": "rm(",
     "library": "var_list.r",
     "varRefreshCmd": "cat(var_dic_list()) "
    }
   },
   "types_to_exclude": [
    "module",
    "function",
    "builtin_function_or_method",
    "instance",
    "_Feature"
   ],
   "window_display": false
  }
 },
 "nbformat": 4,
 "nbformat_minor": 2
}
